{
  "nbformat": 4,
  "nbformat_minor": 0,
  "metadata": {
    "colab": {
      "name": "create_simulated_data.ipynb",
      "provenance": [],
      "collapsed_sections": []
    },
    "kernelspec": {
      "name": "python3",
      "display_name": "Python 3"
    },
    "language_info": {
      "name": "python"
    }
  },
  "cells": [
    {
      "cell_type": "markdown",
      "source": [
        "## Plot mathematical expressions and simulated data \n",
        "  \n",
        "1. Define a function.  \n",
        "2. Use function to create simulated data."
      ],
      "metadata": {
        "id": "ElyWnMK9t6UE"
      }
    },
    {
      "cell_type": "markdown",
      "source": [
        "#### 1. Define a function"
      ],
      "metadata": {
        "id": "ht5bl2Pr2Yin"
      }
    },
    {
      "cell_type": "code",
      "source": [
        "import matplotlib.pyplot as plt\n",
        "import numpy as np"
      ],
      "metadata": {
        "id": "kWQH7730t618"
      },
      "execution_count": 1,
      "outputs": []
    },
    {
      "cell_type": "code",
      "source": [
        "# plt.rc('figure', dpi=90)\n",
        "# plt.close()\n",
        "\n",
        "def plot_function(f, title=None, min=-2.1, max=2.1, color='r', ylim=None):\n",
        "  x = np.linspace(min,max,100)\n",
        "  if ylim: plt.ylim(ylim)\n",
        "  plt.plot(x, f(x), color)\n",
        "  if title is not None: plt.title(title)\n",
        "  plt.show()\n",
        "\n",
        "# Define function\n",
        "def f(x):\n",
        "  return 3*x**2 + 2*x + 1"
      ],
      "metadata": {
        "id": "nFAegLqjyNxK"
      },
      "execution_count": 2,
      "outputs": []
    },
    {
      "cell_type": "code",
      "source": [
        "plot_function(f, \"$3x^2 + 2x + 1$\")"
      ],
      "metadata": {
        "colab": {
          "base_uri": "https://localhost:8080/",
          "height": 285
        },
        "id": "00ppVBwjyNoX",
        "outputId": "746e4f37-b333-4aea-b201-8877d6db5877"
      },
      "execution_count": 3,
      "outputs": [
        {
          "output_type": "display_data",
          "data": {
            "text/plain": [
              "<Figure size 432x288 with 1 Axes>"
            ],
            "image/png": "[encoded data removed]"
          },
          "metadata": {
            "needs_background": "light"
          }
        }
      ]
    },
    {
      "cell_type": "markdown",
      "source": [
        "#### 2. Use function to create simulated data."
      ],
      "metadata": {
        "id": "ULnD3IyW2fQO"
      }
    },
    {
      "cell_type": "code",
      "source": [
        "from numpy.random import normal, seed, uniform"
      ],
      "metadata": {
        "id": "ERp6_Ido1Rc8"
      },
      "execution_count": 5,
      "outputs": []
    },
    {
      "cell_type": "code",
      "source": [
        "# mu = 0\n",
        "# sigma = 0.1\n",
        "\n",
        "# Change seed to get different data\n",
        "np.random.seed(42)\n",
        "\n",
        "def noise(x, scale):\n",
        "  return normal(scale = scale, size = x.shape)\n",
        "\n",
        "def add_noise(x, mult, add):\n",
        "  return x * (1 + noise(x, mult)) + noise(x, mult)\n",
        "\n",
        "x = np.linspace(-2, 2, 20)\n",
        "y = add_noise(f(x), 0.3, 1.5)"
      ],
      "metadata": {
        "id": "aycsRyqm20mV"
      },
      "execution_count": 15,
      "outputs": []
    },
    {
      "cell_type": "code",
      "source": [
        "plt.scatter(x, y, color='b')\n",
        "plot_function(f)"
      ],
      "metadata": {
        "colab": {
          "base_uri": "https://localhost:8080/",
          "height": 265
        },
        "id": "CXvhpV0E20cj",
        "outputId": "bcbe48f4-b97a-4b2c-90d0-80477e933dec"
      },
      "execution_count": 17,
      "outputs": [
        {
          "output_type": "display_data",
          "data": {
            "text/plain": [
              "<Figure size 432x288 with 1 Axes>"
            ],
            "image/png": "[encoded data removed]"
          },
          "metadata": {
            "needs_background": "light"
          }
        }
      ]
    }
  ]
}