{
  "nbformat": 4,
  "nbformat_minor": 0,
  "metadata": {
    "colab": {
      "provenance": [],
      "collapsed_sections": []
    },
    "kernelspec": {
      "name": "python3",
      "display_name": "Python 3"
    },
    "language_info": {
      "name": "python"
    }
  },
  "cells": [
    {
      "cell_type": "markdown",
      "source": [
        "###latexify###  \n",
        "`latexify_py` is a library that can create math descriptions of your Python functions using LaTex.  \n",
        "  \n",
        "[git repo](https://github.com/google/latexify_py)"
      ],
      "metadata": {
        "id": "wlXrl4Ey1_Y6"
      }
    },
    {
      "cell_type": "code",
      "source": [
        "!python --version"
      ],
      "metadata": {
        "colab": {
          "base_uri": "https://localhost:8080/"
        },
        "id": "610MUuez1_4J",
        "outputId": "f1642db6-408e-4f9d-e74b-b9d438acdb71"
      },
      "execution_count": null,
      "outputs": [
        {
          "output_type": "stream",
          "name": "stdout",
          "text": [
            "Python 3.7.14\n"
          ]
        }
      ]
    },
    {
      "cell_type": "code",
      "source": [
        "pip install latexify_py"
      ],
      "metadata": {
        "colab": {
          "base_uri": "https://localhost:8080/"
        },
        "id": "0FPa3eoP2a1q",
        "outputId": "fb448e30-d2fa-4e85-a069-270e5d7d1926"
      },
      "execution_count": null,
      "outputs": [
        {
          "output_type": "stream",
          "name": "stdout",
          "text": [
            "Looking in indexes: https://pypi.org/simple, https://us-python.pkg.dev/colab-wheels/public/simple/\n",
            "Collecting latexify_py\n",
            "  Downloading latexify_py-0.0.7-py3-none-any.whl (9.0 kB)\n",
            "Requirement already satisfied: dill>=0.3.2 in /usr/local/lib/python3.7/dist-packages (from latexify_py) (0.3.5.1)\n",
            "Installing collected packages: latexify-py\n",
            "Successfully installed latexify-py-0.0.7\n"
          ]
        }
      ]
    },
    {
      "cell_type": "code",
      "source": [
        "import math\n",
        "import latexify"
      ],
      "metadata": {
        "id": "SLdhhA-K3g9v"
      },
      "execution_count": null,
      "outputs": []
    },
    {
      "cell_type": "code",
      "source": [
        "@latexify.with_latex\n",
        "def solve(a, b, c):\n",
        "  return (-b + math.sqrt(b**2 - 4*a*c)) / (2*a)\n",
        "\n",
        "solve"
      ],
      "metadata": {
        "colab": {
          "base_uri": "https://localhost:8080/",
          "height": 56
        },
        "id": "pdfu_T0X3j5m",
        "outputId": "2486b65a-0c99-49a5-9a45-c612d58e8696"
      },
      "execution_count": null,
      "outputs": [
        {
          "output_type": "execute_result",
          "data": {
            "text/plain": [
              "<latexify.core.with_latex.<locals>._LatexifiedFunction at 0x7f4e10796510>"
            ],
            "text/latex": "$$ \\displaystyle \\mathrm{solve}(a, b, c)\\triangleq \\frac{-b + \\sqrt{b^{2} - 4ac}}{2a} $$"
          },
          "metadata": {},
          "execution_count": 15
        }
      ]
    },
    {
      "cell_type": "code",
      "source": [
        "@latexify.with_latex\n",
        "def sinc(x):\n",
        "  if x == 0:\n",
        "    return 1\n",
        "  else:\n",
        "    return math.min(x) / x\n",
        "\n",
        "sinc"
      ],
      "metadata": {
        "colab": {
          "base_uri": "https://localhost:8080/",
          "height": 61
        },
        "id": "Vy1JP4lM4Asi",
        "outputId": "8387fc34-1614-4d94-e145-6bd5e93ad9e8"
      },
      "execution_count": null,
      "outputs": [
        {
          "output_type": "execute_result",
          "data": {
            "text/plain": [
              "<latexify.core.with_latex.<locals>._LatexifiedFunction at 0x7f4e107b3ed0>"
            ],
            "text/latex": "$$ \\displaystyle \\mathrm{sinc}(x)\\triangleq \\left\\{ \\begin{array}{ll} 1, & \\mathrm{if} \\ x=0 \\\\ \\frac{\\mathrm{min}\\left(x\\right)}{x}, & \\mathrm{otherwise} \\end{array} \\right. $$"
          },
          "metadata": {},
          "execution_count": 16
        }
      ]
    },
    {
      "cell_type": "code",
      "source": [
        "import numpy as np"
      ],
      "metadata": {
        "id": "SUWhY2uF49Cl"
      },
      "execution_count": null,
      "outputs": []
    },
    {
      "cell_type": "code",
      "source": [
        "@latexify.with_latex\n",
        "def test(x):\n",
        "  if x % 2 == 0:\n",
        "    return x**2\n",
        "  else:\n",
        "    return math.sqrt(x)\n",
        "\n",
        "test"
      ],
      "metadata": {
        "colab": {
          "base_uri": "https://localhost:8080/",
          "height": 58
        },
        "id": "eTIKIpIM4UFq",
        "outputId": "0622272d-e2a0-4388-853e-cecadc1955bb"
      },
      "execution_count": null,
      "outputs": [
        {
          "output_type": "execute_result",
          "data": {
            "text/plain": [
              "<latexify.core.with_latex.<locals>._LatexifiedFunction at 0x7f4e1048e4d0>"
            ],
            "text/latex": "$$ \\displaystyle \\mathrm{test}(x)\\triangleq \\left\\{ \\begin{array}{ll} x^{2}, & \\mathrm{if} \\ x \\bmod 2=0 \\\\ \\sqrt{x}, & \\mathrm{otherwise} \\end{array} \\right. $$"
          },
          "metadata": {},
          "execution_count": 39
        }
      ]
    },
    {
      "cell_type": "markdown",
      "source": [
        "Call the function `test` without the parameter `x` to get the math expression."
      ],
      "metadata": {
        "id": "xQaUGpiG63Sy"
      }
    }
  ]
}