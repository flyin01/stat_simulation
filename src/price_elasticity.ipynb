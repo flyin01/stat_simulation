{
  "nbformat": 4,
  "nbformat_minor": 0,
  "metadata": {
    "colab": {
      "name": "price_elasticity.ipynb",
      "provenance": [],
      "collapsed_sections": []
    },
    "kernelspec": {
      "name": "python3",
      "display_name": "Python 3"
    },
    "language_info": {
      "name": "python"
    }
  },
  "cells": [
    {
      "cell_type": "markdown",
      "source": [
        "# Price Elasticity  \n",
        "  \n",
        "### Applications in Retail  \n",
        "  \n",
        "The purpose of this notebook is to describe two applications of elasticity.  \n",
        "\n",
        "* **Price Elasticity of Demand**\n",
        "* **Cross Price Elasticity**  \n",
        "  \n",
        "\n",
        "\n"
      ],
      "metadata": {
        "id": "NJzLqWDOFZPb"
      }
    },
    {
      "cell_type": "markdown",
      "source": [
        "Contents\n",
        "1. Definitions of Elasticity\n",
        "2. Definition of Demand Model\n",
        "3. Types of Problems\n",
        "4. Other Variables\n",
        "5. Fitting the Demand Model\n",
        "6. Intepretation of Results\n",
        "7. Applications in Retail\n",
        "8. Code References"
      ],
      "metadata": {
        "id": "OlsZrWmaPAYJ"
      }
    },
    {
      "cell_type": "markdown",
      "source": [
        "## 1. Definitions of Elasticity\n",
        "\n",
        "**General Definition**  \n",
        "  \n",
        "An assumption is that variable B is dependant on variable A, this dependency can be denoted as\n",
        " \n",
        "$$_{B=f(A...)}$$\n",
        "\n",
        "Where the dots `.` represents additional variables as well as `A`.  \n",
        "Then it is possible to define the elasticity `e` of `B` with respect to `A` as  \n",
        "  \n",
        "$$e_{B,A}= {\\text{percent change in B} \\over \\text{percent change in A}} = {\\Delta B/B \\over \\Delta A/A} = {\\partial B \\over \\partial A}{A \\over B}  $$\n",
        "<br>  \n",
        "**Price Elasticity of Demand**  \n",
        "Change in price `P` of item `a` will lead to a change in quantity purchased `Q` of item `a` is denoted  \n",
        "  \n",
        "$$e_{Q_a,P_a}= {\\text{percent change in Q of item a} \\over \\text{percent change in P of item a}} = {\\partial Q_a \\over \\partial P_a}{P_a \\over Q_a}  $$\n",
        "<br>  \n",
        "**Cross Price Elasticity of Demand**  \n",
        "Change in price `P` of item `b` will lead to a change in quantity purchased `Q` of item `a` is denoted  \n",
        "  \n",
        "$$e_{Q_a,P_b}= {\\text{percent change in Q of item a} \\over \\text{percent change in P of item b}} = {\\partial Q_a \\over \\partial P_b}{P_b \\over Q_a}  $$\n",
        "\n",
        "If item `a` and item `b` are cross substituties the cross price elasticity will be positive, when these items are complements it will be negative.\n",
        "<br>  \n",
        "**Intepretion of Elasticity on a Demand Curve**  \n",
        "  \n",
        "\\begin{array}{ccc}\n",
        "{\\text{Value of  }} e_{Q_a,P_a} {\\text{at a Point}}&{\\text{Terminology of Curve at This Point}}\\\\\n",
        "e_{Q_a,P_a<-1}&{\\text{Elastic}}\\\\\n",
        "e_{Q_a,P_a=-1}&{\\text{Unit elastic}}\\\\\n",
        "e_{Q_a,P_a>-1}&{\\text{Inelastic}}\\\\\n",
        "\\end{array} \n",
        "\n",
        "\n",
        "References:  \n",
        "*Microeconomic Theory, Walter Nicholson 2002*  \n",
        "\n",
        "Formula Latex code source:  \n",
        "https://upmath.me/"
      ],
      "metadata": {
        "id": "F5WYsf-KO4p3"
      }
    },
    {
      "cell_type": "markdown",
      "source": [
        "Now we look at an example of Price Elasticity of Demand using `python`"
      ],
      "metadata": {
        "id": "oH56UgTmQdoU"
      }
    },
    {
      "cell_type": "code",
      "source": [
        "import pandas as pd\n",
        "import numpy as np\n",
        "\n",
        "# generate three dates of Q, P for an item\n",
        "dict_of_lists = {'date': ['2021-12-01','2021-12-02','2021-12-03','2021-12-04'],\n",
        "                 'Q' : [12, 14, 18, 19], \n",
        "                 'P': [6, 5, 4, 3]}\n",
        "\n",
        "df = pd.DataFrame(dict_of_lists).set_index('date')\n",
        "df.head()"
      ],
      "metadata": {
        "colab": {
          "base_uri": "https://localhost:8080/",
          "height": 206
        },
        "id": "zFGvmtD5EMe-",
        "outputId": "344b2803-15fc-49c7-9c1e-98bd5cb9ca69"
      },
      "execution_count": 6,
      "outputs": [
        {
          "output_type": "execute_result",
          "data": {
            "text/plain": [
              "             Q  P\n",
              "date             \n",
              "2021-12-01  12  6\n",
              "2021-12-02  14  5\n",
              "2021-12-03  18  4\n",
              "2021-12-04  19  3"
            ],
            "text/html": [
              "\n",
              "  <div id=\"df-96b3f88f-0935-45ec-9fbb-177215611b5d\">\n",
              "    <div class=\"colab-df-container\">\n",
              "      <div>\n",
              "<style scoped>\n",
              "    .dataframe tbody tr th:only-of-type {\n",
              "        vertical-align: middle;\n",
              "    }\n",
              "\n",
              "    .dataframe tbody tr th {\n",
              "        vertical-align: top;\n",
              "    }\n",
              "\n",
              "    .dataframe thead th {\n",
              "        text-align: right;\n",
              "    }\n",
              "</style>\n",
              "<table border=\"1\" class=\"dataframe\">\n",
              "  <thead>\n",
              "    <tr style=\"text-align: right;\">\n",
              "      <th></th>\n",
              "      <th>Q</th>\n",
              "      <th>P</th>\n",
              "    </tr>\n",
              "    <tr>\n",
              "      <th>date</th>\n",
              "      <th></th>\n",
              "      <th></th>\n",
              "    </tr>\n",
              "  </thead>\n",
              "  <tbody>\n",
              "    <tr>\n",
              "      <th>2021-12-01</th>\n",
              "      <td>12</td>\n",
              "      <td>6</td>\n",
              "    </tr>\n",
              "    <tr>\n",
              "      <th>2021-12-02</th>\n",
              "      <td>14</td>\n",
              "      <td>5</td>\n",
              "    </tr>\n",
              "    <tr>\n",
              "      <th>2021-12-03</th>\n",
              "      <td>18</td>\n",
              "      <td>4</td>\n",
              "    </tr>\n",
              "    <tr>\n",
              "      <th>2021-12-04</th>\n",
              "      <td>19</td>\n",
              "      <td>3</td>\n",
              "    </tr>\n",
              "  </tbody>\n",
              "</table>\n",
              "</div>\n",
              "      <button class=\"colab-df-convert\" onclick=\"convertToInteractive('df-96b3f88f-0935-45ec-9fbb-177215611b5d')\"\n",
              "              title=\"Convert this dataframe to an interactive table.\"\n",
              "              style=\"display:none;\">\n",
              "        \n",
              "  <svg xmlns=\"http://www.w3.org/2000/svg\" height=\"24px\"viewBox=\"0 0 24 24\"\n",
              "       width=\"24px\">\n",
              "    <path d=\"M0 0h24v24H0V0z\" fill=\"none\"/>\n",
              "    <path d=\"M18.56 5.44l.94 2.06.94-2.06 2.06-.94-2.06-.94-.94-2.06-.94 2.06-2.06.94zm-11 1L8.5 8.5l.94-2.06 2.06-.94-2.06-.94L8.5 2.5l-.94 2.06-2.06.94zm10 10l.94 2.06.94-2.06 2.06-.94-2.06-.94-.94-2.06-.94 2.06-2.06.94z\"/><path d=\"M17.41 7.96l-1.37-1.37c-.4-.4-.92-.59-1.43-.59-.52 0-1.04.2-1.43.59L10.3 9.45l-7.72 7.72c-.78.78-.78 2.05 0 2.83L4 21.41c.39.39.9.59 1.41.59.51 0 1.02-.2 1.41-.59l7.78-7.78 2.81-2.81c.8-.78.8-2.07 0-2.86zM5.41 20L4 18.59l7.72-7.72 1.47 1.35L5.41 20z\"/>\n",
              "  </svg>\n",
              "      </button>\n",
              "      \n",
              "  <style>\n",
              "    .colab-df-container {\n",
              "      display:flex;\n",
              "      flex-wrap:wrap;\n",
              "      gap: 12px;\n",
              "    }\n",
              "\n",
              "    .colab-df-convert {\n",
              "      background-color: #E8F0FE;\n",
              "      border: none;\n",
              "      border-radius: 50%;\n",
              "      cursor: pointer;\n",
              "      display: none;\n",
              "      fill: #1967D2;\n",
              "      height: 32px;\n",
              "      padding: 0 0 0 0;\n",
              "      width: 32px;\n",
              "    }\n",
              "\n",
              "    .colab-df-convert:hover {\n",
              "      background-color: #E2EBFA;\n",
              "      box-shadow: 0px 1px 2px rgba(60, 64, 67, 0.3), 0px 1px 3px 1px rgba(60, 64, 67, 0.15);\n",
              "      fill: #174EA6;\n",
              "    }\n",
              "\n",
              "    [theme=dark] .colab-df-convert {\n",
              "      background-color: #3B4455;\n",
              "      fill: #D2E3FC;\n",
              "    }\n",
              "\n",
              "    [theme=dark] .colab-df-convert:hover {\n",
              "      background-color: #434B5C;\n",
              "      box-shadow: 0px 1px 3px 1px rgba(0, 0, 0, 0.15);\n",
              "      filter: drop-shadow(0px 1px 2px rgba(0, 0, 0, 0.3));\n",
              "      fill: #FFFFFF;\n",
              "    }\n",
              "  </style>\n",
              "\n",
              "      <script>\n",
              "        const buttonEl =\n",
              "          document.querySelector('#df-96b3f88f-0935-45ec-9fbb-177215611b5d button.colab-df-convert');\n",
              "        buttonEl.style.display =\n",
              "          google.colab.kernel.accessAllowed ? 'block' : 'none';\n",
              "\n",
              "        async function convertToInteractive(key) {\n",
              "          const element = document.querySelector('#df-96b3f88f-0935-45ec-9fbb-177215611b5d');\n",
              "          const dataTable =\n",
              "            await google.colab.kernel.invokeFunction('convertToInteractive',\n",
              "                                                     [key], {});\n",
              "          if (!dataTable) return;\n",
              "\n",
              "          const docLinkHtml = 'Like what you see? Visit the ' +\n",
              "            '<a target=\"_blank\" href=https://colab.research.google.com/notebooks/data_table.ipynb>data table notebook</a>'\n",
              "            + ' to learn more about interactive tables.';\n",
              "          element.innerHTML = '';\n",
              "          dataTable['output_type'] = 'display_data';\n",
              "          await google.colab.output.renderOutput(dataTable, element);\n",
              "          const docLink = document.createElement('div');\n",
              "          docLink.innerHTML = docLinkHtml;\n",
              "          element.appendChild(docLink);\n",
              "        }\n",
              "      </script>\n",
              "    </div>\n",
              "  </div>\n",
              "  "
            ]
          },
          "metadata": {},
          "execution_count": 6
        }
      ]
    },
    {
      "cell_type": "markdown",
      "source": [
        "We can use `pandas` method `.pct_change()` to calculate percentage change of `Q` and `P` from one date (row) to another."
      ],
      "metadata": {
        "id": "fMWePoK8G1Hr"
      }
    },
    {
      "cell_type": "code",
      "source": [
        "df['Q_pct_change'] = df['Q'].pct_change()\n",
        "df['P_pct_change'] = df['P'].pct_change()\n",
        "df"
      ],
      "metadata": {
        "colab": {
          "base_uri": "https://localhost:8080/",
          "height": 206
        },
        "id": "enXvuN7GcH2k",
        "outputId": "f8025310-b802-407a-91f9-b21bacc122c2"
      },
      "execution_count": 7,
      "outputs": [
        {
          "output_type": "execute_result",
          "data": {
            "text/plain": [
              "             Q  P  Q_pct_change  P_pct_change\n",
              "date                                         \n",
              "2021-12-01  12  6           NaN           NaN\n",
              "2021-12-02  14  5      0.166667     -0.166667\n",
              "2021-12-03  18  4      0.285714     -0.200000\n",
              "2021-12-04  19  3      0.055556     -0.250000"
            ],
            "text/html": [
              "\n",
              "  <div id=\"df-25b81d68-f854-4a14-b1ba-2532f14e6211\">\n",
              "    <div class=\"colab-df-container\">\n",
              "      <div>\n",
              "<style scoped>\n",
              "    .dataframe tbody tr th:only-of-type {\n",
              "        vertical-align: middle;\n",
              "    }\n",
              "\n",
              "    .dataframe tbody tr th {\n",
              "        vertical-align: top;\n",
              "    }\n",
              "\n",
              "    .dataframe thead th {\n",
              "        text-align: right;\n",
              "    }\n",
              "</style>\n",
              "<table border=\"1\" class=\"dataframe\">\n",
              "  <thead>\n",
              "    <tr style=\"text-align: right;\">\n",
              "      <th></th>\n",
              "      <th>Q</th>\n",
              "      <th>P</th>\n",
              "      <th>Q_pct_change</th>\n",
              "      <th>P_pct_change</th>\n",
              "    </tr>\n",
              "    <tr>\n",
              "      <th>date</th>\n",
              "      <th></th>\n",
              "      <th></th>\n",
              "      <th></th>\n",
              "      <th></th>\n",
              "    </tr>\n",
              "  </thead>\n",
              "  <tbody>\n",
              "    <tr>\n",
              "      <th>2021-12-01</th>\n",
              "      <td>12</td>\n",
              "      <td>6</td>\n",
              "      <td>NaN</td>\n",
              "      <td>NaN</td>\n",
              "    </tr>\n",
              "    <tr>\n",
              "      <th>2021-12-02</th>\n",
              "      <td>14</td>\n",
              "      <td>5</td>\n",
              "      <td>0.166667</td>\n",
              "      <td>-0.166667</td>\n",
              "    </tr>\n",
              "    <tr>\n",
              "      <th>2021-12-03</th>\n",
              "      <td>18</td>\n",
              "      <td>4</td>\n",
              "      <td>0.285714</td>\n",
              "      <td>-0.200000</td>\n",
              "    </tr>\n",
              "    <tr>\n",
              "      <th>2021-12-04</th>\n",
              "      <td>19</td>\n",
              "      <td>3</td>\n",
              "      <td>0.055556</td>\n",
              "      <td>-0.250000</td>\n",
              "    </tr>\n",
              "  </tbody>\n",
              "</table>\n",
              "</div>\n",
              "      <button class=\"colab-df-convert\" onclick=\"convertToInteractive('df-25b81d68-f854-4a14-b1ba-2532f14e6211')\"\n",
              "              title=\"Convert this dataframe to an interactive table.\"\n",
              "              style=\"display:none;\">\n",
              "        \n",
              "  <svg xmlns=\"http://www.w3.org/2000/svg\" height=\"24px\"viewBox=\"0 0 24 24\"\n",
              "       width=\"24px\">\n",
              "    <path d=\"M0 0h24v24H0V0z\" fill=\"none\"/>\n",
              "    <path d=\"M18.56 5.44l.94 2.06.94-2.06 2.06-.94-2.06-.94-.94-2.06-.94 2.06-2.06.94zm-11 1L8.5 8.5l.94-2.06 2.06-.94-2.06-.94L8.5 2.5l-.94 2.06-2.06.94zm10 10l.94 2.06.94-2.06 2.06-.94-2.06-.94-.94-2.06-.94 2.06-2.06.94z\"/><path d=\"M17.41 7.96l-1.37-1.37c-.4-.4-.92-.59-1.43-.59-.52 0-1.04.2-1.43.59L10.3 9.45l-7.72 7.72c-.78.78-.78 2.05 0 2.83L4 21.41c.39.39.9.59 1.41.59.51 0 1.02-.2 1.41-.59l7.78-7.78 2.81-2.81c.8-.78.8-2.07 0-2.86zM5.41 20L4 18.59l7.72-7.72 1.47 1.35L5.41 20z\"/>\n",
              "  </svg>\n",
              "      </button>\n",
              "      \n",
              "  <style>\n",
              "    .colab-df-container {\n",
              "      display:flex;\n",
              "      flex-wrap:wrap;\n",
              "      gap: 12px;\n",
              "    }\n",
              "\n",
              "    .colab-df-convert {\n",
              "      background-color: #E8F0FE;\n",
              "      border: none;\n",
              "      border-radius: 50%;\n",
              "      cursor: pointer;\n",
              "      display: none;\n",
              "      fill: #1967D2;\n",
              "      height: 32px;\n",
              "      padding: 0 0 0 0;\n",
              "      width: 32px;\n",
              "    }\n",
              "\n",
              "    .colab-df-convert:hover {\n",
              "      background-color: #E2EBFA;\n",
              "      box-shadow: 0px 1px 2px rgba(60, 64, 67, 0.3), 0px 1px 3px 1px rgba(60, 64, 67, 0.15);\n",
              "      fill: #174EA6;\n",
              "    }\n",
              "\n",
              "    [theme=dark] .colab-df-convert {\n",
              "      background-color: #3B4455;\n",
              "      fill: #D2E3FC;\n",
              "    }\n",
              "\n",
              "    [theme=dark] .colab-df-convert:hover {\n",
              "      background-color: #434B5C;\n",
              "      box-shadow: 0px 1px 3px 1px rgba(0, 0, 0, 0.15);\n",
              "      filter: drop-shadow(0px 1px 2px rgba(0, 0, 0, 0.3));\n",
              "      fill: #FFFFFF;\n",
              "    }\n",
              "  </style>\n",
              "\n",
              "      <script>\n",
              "        const buttonEl =\n",
              "          document.querySelector('#df-25b81d68-f854-4a14-b1ba-2532f14e6211 button.colab-df-convert');\n",
              "        buttonEl.style.display =\n",
              "          google.colab.kernel.accessAllowed ? 'block' : 'none';\n",
              "\n",
              "        async function convertToInteractive(key) {\n",
              "          const element = document.querySelector('#df-25b81d68-f854-4a14-b1ba-2532f14e6211');\n",
              "          const dataTable =\n",
              "            await google.colab.kernel.invokeFunction('convertToInteractive',\n",
              "                                                     [key], {});\n",
              "          if (!dataTable) return;\n",
              "\n",
              "          const docLinkHtml = 'Like what you see? Visit the ' +\n",
              "            '<a target=\"_blank\" href=https://colab.research.google.com/notebooks/data_table.ipynb>data table notebook</a>'\n",
              "            + ' to learn more about interactive tables.';\n",
              "          element.innerHTML = '';\n",
              "          dataTable['output_type'] = 'display_data';\n",
              "          await google.colab.output.renderOutput(dataTable, element);\n",
              "          const docLink = document.createElement('div');\n",
              "          docLink.innerHTML = docLinkHtml;\n",
              "          element.appendChild(docLink);\n",
              "        }\n",
              "      </script>\n",
              "    </div>\n",
              "  </div>\n",
              "  "
            ]
          },
          "metadata": {},
          "execution_count": 7
        }
      ]
    },
    {
      "cell_type": "markdown",
      "source": [
        "$${\\text{Value of  }} e_{Q_a,P_a} {\\text{ calculated using percent change in Q and P in 2021-12-02 compared to 2021-12-01  }}$$"
      ],
      "metadata": {
        "id": "Rx-7pdH8N5o1"
      }
    },
    {
      "cell_type": "code",
      "source": [
        "print(f'Price elasticity of demand in 2021-12-02 is: {0.166667 / -0.166667}')"
      ],
      "metadata": {
        "colab": {
          "base_uri": "https://localhost:8080/"
        },
        "id": "MU92M3KOOMWF",
        "outputId": "0ffd2119-84fc-4ad9-8814-6966ee81a55a"
      },
      "execution_count": 8,
      "outputs": [
        {
          "output_type": "stream",
          "name": "stdout",
          "text": [
            "Price elasticity of demand in 2021-12-02 is: -1.0\n"
          ]
        }
      ]
    },
    {
      "cell_type": "markdown",
      "source": [
        "The interpretation of this is that point at point 2021-12-02 the value is **Unit elastic**.  \n",
        "In other words, a 16.66667% **decrease in P** leads to a 16.66667% **increase in Q**.  \n",
        "  \n",
        "We can calculate this for the next date also and add these results to the table as follows."
      ],
      "metadata": {
        "id": "SoJ5tgcgUhZ4"
      }
    },
    {
      "cell_type": "code",
      "source": [
        "df['elasticity'] = df['Q_pct_change'] / df['P_pct_change']\n",
        "df"
      ],
      "metadata": {
        "colab": {
          "base_uri": "https://localhost:8080/",
          "height": 206
        },
        "id": "F4ZAHZCpUzRP",
        "outputId": "4088722b-54b5-40f4-b9c9-fc1fe11106fc"
      },
      "execution_count": 9,
      "outputs": [
        {
          "output_type": "execute_result",
          "data": {
            "text/plain": [
              "             Q  P  Q_pct_change  P_pct_change  elasticity\n",
              "date                                                     \n",
              "2021-12-01  12  6           NaN           NaN         NaN\n",
              "2021-12-02  14  5      0.166667     -0.166667   -1.000000\n",
              "2021-12-03  18  4      0.285714     -0.200000   -1.428571\n",
              "2021-12-04  19  3      0.055556     -0.250000   -0.222222"
            ],
            "text/html": [
              "\n",
              "  <div id=\"df-accd542c-b816-434f-8745-1010b7d88740\">\n",
              "    <div class=\"colab-df-container\">\n",
              "      <div>\n",
              "<style scoped>\n",
              "    .dataframe tbody tr th:only-of-type {\n",
              "        vertical-align: middle;\n",
              "    }\n",
              "\n",
              "    .dataframe tbody tr th {\n",
              "        vertical-align: top;\n",
              "    }\n",
              "\n",
              "    .dataframe thead th {\n",
              "        text-align: right;\n",
              "    }\n",
              "</style>\n",
              "<table border=\"1\" class=\"dataframe\">\n",
              "  <thead>\n",
              "    <tr style=\"text-align: right;\">\n",
              "      <th></th>\n",
              "      <th>Q</th>\n",
              "      <th>P</th>\n",
              "      <th>Q_pct_change</th>\n",
              "      <th>P_pct_change</th>\n",
              "      <th>elasticity</th>\n",
              "    </tr>\n",
              "    <tr>\n",
              "      <th>date</th>\n",
              "      <th></th>\n",
              "      <th></th>\n",
              "      <th></th>\n",
              "      <th></th>\n",
              "      <th></th>\n",
              "    </tr>\n",
              "  </thead>\n",
              "  <tbody>\n",
              "    <tr>\n",
              "      <th>2021-12-01</th>\n",
              "      <td>12</td>\n",
              "      <td>6</td>\n",
              "      <td>NaN</td>\n",
              "      <td>NaN</td>\n",
              "      <td>NaN</td>\n",
              "    </tr>\n",
              "    <tr>\n",
              "      <th>2021-12-02</th>\n",
              "      <td>14</td>\n",
              "      <td>5</td>\n",
              "      <td>0.166667</td>\n",
              "      <td>-0.166667</td>\n",
              "      <td>-1.000000</td>\n",
              "    </tr>\n",
              "    <tr>\n",
              "      <th>2021-12-03</th>\n",
              "      <td>18</td>\n",
              "      <td>4</td>\n",
              "      <td>0.285714</td>\n",
              "      <td>-0.200000</td>\n",
              "      <td>-1.428571</td>\n",
              "    </tr>\n",
              "    <tr>\n",
              "      <th>2021-12-04</th>\n",
              "      <td>19</td>\n",
              "      <td>3</td>\n",
              "      <td>0.055556</td>\n",
              "      <td>-0.250000</td>\n",
              "      <td>-0.222222</td>\n",
              "    </tr>\n",
              "  </tbody>\n",
              "</table>\n",
              "</div>\n",
              "      <button class=\"colab-df-convert\" onclick=\"convertToInteractive('df-accd542c-b816-434f-8745-1010b7d88740')\"\n",
              "              title=\"Convert this dataframe to an interactive table.\"\n",
              "              style=\"display:none;\">\n",
              "        \n",
              "  <svg xmlns=\"http://www.w3.org/2000/svg\" height=\"24px\"viewBox=\"0 0 24 24\"\n",
              "       width=\"24px\">\n",
              "    <path d=\"M0 0h24v24H0V0z\" fill=\"none\"/>\n",
              "    <path d=\"M18.56 5.44l.94 2.06.94-2.06 2.06-.94-2.06-.94-.94-2.06-.94 2.06-2.06.94zm-11 1L8.5 8.5l.94-2.06 2.06-.94-2.06-.94L8.5 2.5l-.94 2.06-2.06.94zm10 10l.94 2.06.94-2.06 2.06-.94-2.06-.94-.94-2.06-.94 2.06-2.06.94z\"/><path d=\"M17.41 7.96l-1.37-1.37c-.4-.4-.92-.59-1.43-.59-.52 0-1.04.2-1.43.59L10.3 9.45l-7.72 7.72c-.78.78-.78 2.05 0 2.83L4 21.41c.39.39.9.59 1.41.59.51 0 1.02-.2 1.41-.59l7.78-7.78 2.81-2.81c.8-.78.8-2.07 0-2.86zM5.41 20L4 18.59l7.72-7.72 1.47 1.35L5.41 20z\"/>\n",
              "  </svg>\n",
              "      </button>\n",
              "      \n",
              "  <style>\n",
              "    .colab-df-container {\n",
              "      display:flex;\n",
              "      flex-wrap:wrap;\n",
              "      gap: 12px;\n",
              "    }\n",
              "\n",
              "    .colab-df-convert {\n",
              "      background-color: #E8F0FE;\n",
              "      border: none;\n",
              "      border-radius: 50%;\n",
              "      cursor: pointer;\n",
              "      display: none;\n",
              "      fill: #1967D2;\n",
              "      height: 32px;\n",
              "      padding: 0 0 0 0;\n",
              "      width: 32px;\n",
              "    }\n",
              "\n",
              "    .colab-df-convert:hover {\n",
              "      background-color: #E2EBFA;\n",
              "      box-shadow: 0px 1px 2px rgba(60, 64, 67, 0.3), 0px 1px 3px 1px rgba(60, 64, 67, 0.15);\n",
              "      fill: #174EA6;\n",
              "    }\n",
              "\n",
              "    [theme=dark] .colab-df-convert {\n",
              "      background-color: #3B4455;\n",
              "      fill: #D2E3FC;\n",
              "    }\n",
              "\n",
              "    [theme=dark] .colab-df-convert:hover {\n",
              "      background-color: #434B5C;\n",
              "      box-shadow: 0px 1px 3px 1px rgba(0, 0, 0, 0.15);\n",
              "      filter: drop-shadow(0px 1px 2px rgba(0, 0, 0, 0.3));\n",
              "      fill: #FFFFFF;\n",
              "    }\n",
              "  </style>\n",
              "\n",
              "      <script>\n",
              "        const buttonEl =\n",
              "          document.querySelector('#df-accd542c-b816-434f-8745-1010b7d88740 button.colab-df-convert');\n",
              "        buttonEl.style.display =\n",
              "          google.colab.kernel.accessAllowed ? 'block' : 'none';\n",
              "\n",
              "        async function convertToInteractive(key) {\n",
              "          const element = document.querySelector('#df-accd542c-b816-434f-8745-1010b7d88740');\n",
              "          const dataTable =\n",
              "            await google.colab.kernel.invokeFunction('convertToInteractive',\n",
              "                                                     [key], {});\n",
              "          if (!dataTable) return;\n",
              "\n",
              "          const docLinkHtml = 'Like what you see? Visit the ' +\n",
              "            '<a target=\"_blank\" href=https://colab.research.google.com/notebooks/data_table.ipynb>data table notebook</a>'\n",
              "            + ' to learn more about interactive tables.';\n",
              "          element.innerHTML = '';\n",
              "          dataTable['output_type'] = 'display_data';\n",
              "          await google.colab.output.renderOutput(dataTable, element);\n",
              "          const docLink = document.createElement('div');\n",
              "          docLink.innerHTML = docLinkHtml;\n",
              "          element.appendChild(docLink);\n",
              "        }\n",
              "      </script>\n",
              "    </div>\n",
              "  </div>\n",
              "  "
            ]
          },
          "metadata": {},
          "execution_count": 9
        }
      ]
    },
    {
      "cell_type": "markdown",
      "source": [
        "Adding the `terminology` column to the table based on the Interpretation of Elasticity on a Deman Curve, from above we get the following results:  "
      ],
      "metadata": {
        "id": "5znylQfRiT4R"
      }
    },
    {
      "cell_type": "code",
      "source": [
        "df['Terminology'] = 'Unknown'\n",
        "df.loc[(df['elasticity'] < -1), 'Terminology'] = 'Elastic'\n",
        "df.loc[(df['elasticity'] > -1.001)&(df['elasticity'] < -0.999), 'Terminology'] = 'Unit Elastic' # Due to float precision limitations in python\n",
        "df.loc[(df['elasticity'] > -1), 'Terminology'] = 'Inelastic'\n",
        "df"
      ],
      "metadata": {
        "colab": {
          "base_uri": "https://localhost:8080/",
          "height": 206
        },
        "id": "88H0nq0Zd1Hu",
        "outputId": "2181575f-9daf-497b-dd63-1ce0e1e69842"
      },
      "execution_count": 10,
      "outputs": [
        {
          "output_type": "execute_result",
          "data": {
            "text/plain": [
              "             Q  P  Q_pct_change  P_pct_change  elasticity   Terminology\n",
              "date                                                                   \n",
              "2021-12-01  12  6           NaN           NaN         NaN       Unknown\n",
              "2021-12-02  14  5      0.166667     -0.166667   -1.000000  Unit Elastic\n",
              "2021-12-03  18  4      0.285714     -0.200000   -1.428571       Elastic\n",
              "2021-12-04  19  3      0.055556     -0.250000   -0.222222     Inelastic"
            ],
            "text/html": [
              "\n",
              "  <div id=\"df-6ab8558d-00aa-4c40-96dd-3d171a6ef23f\">\n",
              "    <div class=\"colab-df-container\">\n",
              "      <div>\n",
              "<style scoped>\n",
              "    .dataframe tbody tr th:only-of-type {\n",
              "        vertical-align: middle;\n",
              "    }\n",
              "\n",
              "    .dataframe tbody tr th {\n",
              "        vertical-align: top;\n",
              "    }\n",
              "\n",
              "    .dataframe thead th {\n",
              "        text-align: right;\n",
              "    }\n",
              "</style>\n",
              "<table border=\"1\" class=\"dataframe\">\n",
              "  <thead>\n",
              "    <tr style=\"text-align: right;\">\n",
              "      <th></th>\n",
              "      <th>Q</th>\n",
              "      <th>P</th>\n",
              "      <th>Q_pct_change</th>\n",
              "      <th>P_pct_change</th>\n",
              "      <th>elasticity</th>\n",
              "      <th>Terminology</th>\n",
              "    </tr>\n",
              "    <tr>\n",
              "      <th>date</th>\n",
              "      <th></th>\n",
              "      <th></th>\n",
              "      <th></th>\n",
              "      <th></th>\n",
              "      <th></th>\n",
              "      <th></th>\n",
              "    </tr>\n",
              "  </thead>\n",
              "  <tbody>\n",
              "    <tr>\n",
              "      <th>2021-12-01</th>\n",
              "      <td>12</td>\n",
              "      <td>6</td>\n",
              "      <td>NaN</td>\n",
              "      <td>NaN</td>\n",
              "      <td>NaN</td>\n",
              "      <td>Unknown</td>\n",
              "    </tr>\n",
              "    <tr>\n",
              "      <th>2021-12-02</th>\n",
              "      <td>14</td>\n",
              "      <td>5</td>\n",
              "      <td>0.166667</td>\n",
              "      <td>-0.166667</td>\n",
              "      <td>-1.000000</td>\n",
              "      <td>Unit Elastic</td>\n",
              "    </tr>\n",
              "    <tr>\n",
              "      <th>2021-12-03</th>\n",
              "      <td>18</td>\n",
              "      <td>4</td>\n",
              "      <td>0.285714</td>\n",
              "      <td>-0.200000</td>\n",
              "      <td>-1.428571</td>\n",
              "      <td>Elastic</td>\n",
              "    </tr>\n",
              "    <tr>\n",
              "      <th>2021-12-04</th>\n",
              "      <td>19</td>\n",
              "      <td>3</td>\n",
              "      <td>0.055556</td>\n",
              "      <td>-0.250000</td>\n",
              "      <td>-0.222222</td>\n",
              "      <td>Inelastic</td>\n",
              "    </tr>\n",
              "  </tbody>\n",
              "</table>\n",
              "</div>\n",
              "      <button class=\"colab-df-convert\" onclick=\"convertToInteractive('df-6ab8558d-00aa-4c40-96dd-3d171a6ef23f')\"\n",
              "              title=\"Convert this dataframe to an interactive table.\"\n",
              "              style=\"display:none;\">\n",
              "        \n",
              "  <svg xmlns=\"http://www.w3.org/2000/svg\" height=\"24px\"viewBox=\"0 0 24 24\"\n",
              "       width=\"24px\">\n",
              "    <path d=\"M0 0h24v24H0V0z\" fill=\"none\"/>\n",
              "    <path d=\"M18.56 5.44l.94 2.06.94-2.06 2.06-.94-2.06-.94-.94-2.06-.94 2.06-2.06.94zm-11 1L8.5 8.5l.94-2.06 2.06-.94-2.06-.94L8.5 2.5l-.94 2.06-2.06.94zm10 10l.94 2.06.94-2.06 2.06-.94-2.06-.94-.94-2.06-.94 2.06-2.06.94z\"/><path d=\"M17.41 7.96l-1.37-1.37c-.4-.4-.92-.59-1.43-.59-.52 0-1.04.2-1.43.59L10.3 9.45l-7.72 7.72c-.78.78-.78 2.05 0 2.83L4 21.41c.39.39.9.59 1.41.59.51 0 1.02-.2 1.41-.59l7.78-7.78 2.81-2.81c.8-.78.8-2.07 0-2.86zM5.41 20L4 18.59l7.72-7.72 1.47 1.35L5.41 20z\"/>\n",
              "  </svg>\n",
              "      </button>\n",
              "      \n",
              "  <style>\n",
              "    .colab-df-container {\n",
              "      display:flex;\n",
              "      flex-wrap:wrap;\n",
              "      gap: 12px;\n",
              "    }\n",
              "\n",
              "    .colab-df-convert {\n",
              "      background-color: #E8F0FE;\n",
              "      border: none;\n",
              "      border-radius: 50%;\n",
              "      cursor: pointer;\n",
              "      display: none;\n",
              "      fill: #1967D2;\n",
              "      height: 32px;\n",
              "      padding: 0 0 0 0;\n",
              "      width: 32px;\n",
              "    }\n",
              "\n",
              "    .colab-df-convert:hover {\n",
              "      background-color: #E2EBFA;\n",
              "      box-shadow: 0px 1px 2px rgba(60, 64, 67, 0.3), 0px 1px 3px 1px rgba(60, 64, 67, 0.15);\n",
              "      fill: #174EA6;\n",
              "    }\n",
              "\n",
              "    [theme=dark] .colab-df-convert {\n",
              "      background-color: #3B4455;\n",
              "      fill: #D2E3FC;\n",
              "    }\n",
              "\n",
              "    [theme=dark] .colab-df-convert:hover {\n",
              "      background-color: #434B5C;\n",
              "      box-shadow: 0px 1px 3px 1px rgba(0, 0, 0, 0.15);\n",
              "      filter: drop-shadow(0px 1px 2px rgba(0, 0, 0, 0.3));\n",
              "      fill: #FFFFFF;\n",
              "    }\n",
              "  </style>\n",
              "\n",
              "      <script>\n",
              "        const buttonEl =\n",
              "          document.querySelector('#df-6ab8558d-00aa-4c40-96dd-3d171a6ef23f button.colab-df-convert');\n",
              "        buttonEl.style.display =\n",
              "          google.colab.kernel.accessAllowed ? 'block' : 'none';\n",
              "\n",
              "        async function convertToInteractive(key) {\n",
              "          const element = document.querySelector('#df-6ab8558d-00aa-4c40-96dd-3d171a6ef23f');\n",
              "          const dataTable =\n",
              "            await google.colab.kernel.invokeFunction('convertToInteractive',\n",
              "                                                     [key], {});\n",
              "          if (!dataTable) return;\n",
              "\n",
              "          const docLinkHtml = 'Like what you see? Visit the ' +\n",
              "            '<a target=\"_blank\" href=https://colab.research.google.com/notebooks/data_table.ipynb>data table notebook</a>'\n",
              "            + ' to learn more about interactive tables.';\n",
              "          element.innerHTML = '';\n",
              "          dataTable['output_type'] = 'display_data';\n",
              "          await google.colab.output.renderOutput(dataTable, element);\n",
              "          const docLink = document.createElement('div');\n",
              "          docLink.innerHTML = docLinkHtml;\n",
              "          element.appendChild(docLink);\n",
              "        }\n",
              "      </script>\n",
              "    </div>\n",
              "  </div>\n",
              "  "
            ]
          },
          "metadata": {},
          "execution_count": 10
        }
      ]
    },
    {
      "cell_type": "markdown",
      "source": [
        "We can see that in point 2021-12-03 the value is **Elastic**.  \n",
        "In other words, a 20% **decrease in P** leads to a 28.5714% **increase in Q**.  \n",
        "\n",
        "In this simple example the elasticity changes from one day to another. Depending on which way we choose the elasticity can go from `Unit Elastic`, `Elastic` to `Inelastic`."
      ],
      "metadata": {
        "id": "Go99_tMzimdi"
      }
    },
    {
      "cell_type": "markdown",
      "source": [
        "## 2. Definition of Demand Model\n",
        "  \n",
        "2.1. Linear Demand and Elasticity  \n",
        "  \n",
        "2.2. Constant Elasticity Functions\n",
        "  \n",
        "</br>  \n",
        "**2.1. Linear Demand and Elasticity**\n",
        "\n",
        "The Elasticity of Demand varies along the Straight Line Demand Curve and the previous example values of three observations in `df` can be plotted as below"
      ],
      "metadata": {
        "id": "0y4pxlxHFauw"
      }
    },
    {
      "cell_type": "code",
      "source": [
        "import matplotlib.pyplot as plt\n",
        "import matplotlib.lines as lines\n",
        "\n",
        "plt.scatter(df['Q'],df['P'])\n",
        "plt.plot(df['Q'],df['P'])\n",
        "plt.text(12,6,' 2021-12-01')\n",
        "plt.text(14,5,' 2021-12-02')\n",
        "plt.text(18,4, ' 2021-12-03')\n",
        "plt.text(19,3,' 2021-12-04',horizontalalignment='left')\n",
        "plt.xlabel('Q per period')\n",
        "plt.ylabel('P')\n",
        "plt.show()"
      ],
      "metadata": {
        "colab": {
          "base_uri": "https://localhost:8080/",
          "height": 279
        },
        "id": "hwtHoJUVWV9v",
        "outputId": "e87c668b-15d6-419b-f965-e0e94e7fd8d8"
      },
      "execution_count": 11,
      "outputs": [
        {
          "output_type": "display_data",
          "data": {
            "text/plain": [
              "<Figure size 432x288 with 1 Axes>"
            ],
            "image/png": "[encoded data removed]"
          },
          "metadata": {
            "needs_background": "light"
          }
        }
      ]
    },
    {
      "cell_type": "code",
      "source": [
        "plt.scatter(df['P'],df['Q'])\n",
        "plt.plot(df['P'],df['Q'])\n",
        "plt.text(6,12,' 2021-12-01')\n",
        "plt.text(5,14,' 2021-12-02')\n",
        "plt.text(4,18, ' 2021-12-03')\n",
        "plt.text(3,19,' 2021-12-04',horizontalalignment='left')\n",
        "plt.xlabel('P per period')\n",
        "plt.ylabel('Q')\n",
        "plt.show()"
      ],
      "metadata": {
        "colab": {
          "base_uri": "https://localhost:8080/",
          "height": 279
        },
        "id": "y8LDx0HfqACt",
        "outputId": "d113201e-e27f-4624-f668-4e89cc85721d"
      },
      "execution_count": 16,
      "outputs": [
        {
          "output_type": "display_data",
          "data": {
            "text/plain": [
              "<Figure size 432x288 with 1 Axes>"
            ],
            "image/png": "[encoded data removed]"
          },
          "metadata": {
            "needs_background": "light"
          }
        }
      ]
    },
    {
      "cell_type": "markdown",
      "source": [
        "**2.2. Constant Elasticity Functions**\n",
        "\n",
        "Until now we have seen that the elasticity by above given definition varies over time over a linear demand curve. In order of making e.g strategic pricing decisions this it can be usefull to assume that the elasticities where constans over some range of price changes and this would motivate using an exponential demand function and simplifying by taking the natural logarithms. This can be expressed in the following equation:  \n",
        "\n",
        "$$_{lnQ= \\alpha + \\beta lnP}$$  \n",
        "  \n",
        "This can be re-written as:  \n",
        "  \n",
        "$$_{Q= exp[\\alpha + \\beta lnP]}$$  \n",
        "\n",
        "Simplified to:  \n",
        "\n",
        "$$_{Q= e^\\alpha + P^\\beta}$$  \n"
      ],
      "metadata": {
        "id": "m7T3K6kuzKyR"
      }
    },
    {
      "cell_type": "markdown",
      "source": [
        "##3. Types of a problems  \n",
        "  \n",
        "There can be two types of problem to be solved by building a demand function.  \n",
        "  \n",
        "* \"y-hat\" problem\n",
        "* coefficient problem  \n",
        "  \n"
      ],
      "metadata": {
        "id": "kj-cmZ53Fa6L"
      }
    },
    {
      "cell_type": "markdown",
      "source": [
        "Read in sample modelling data from file for some items"
      ],
      "metadata": {
        "id": "ad0IBtvZ6tuQ"
      }
    },
    {
      "cell_type": "code",
      "source": [
        "from google.colab import files\n",
        "import io"
      ],
      "metadata": {
        "id": "8rHD_oWDYHsF"
      },
      "execution_count": null,
      "outputs": []
    },
    {
      "cell_type": "code",
      "source": [
        "# Read in sample data of some items\n",
        "uploaded = files.upload()\n",
        "uploaded"
      ],
      "metadata": {
        "colab": {
          "resources": {
            "http://localhost:8080/nbextensions/google.colab/files.js": {
              "data": "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",
              "ok": true,
              "headers": [
                [
                  "content-type",
                  "application/javascript"
                ]
              ],
              "status": 200,
              "status_text": ""
            }
          },
          "base_uri": "https://localhost:8080/",
          "height": 111
        },
        "id": "kSccLSfdX6Oj",
        "outputId": "d03370b2-d9fd-415b-b977-eb494f10f27f"
      },
      "execution_count": null,
      "outputs": [
        {
          "output_type": "display_data",
          "data": {
            "text/plain": [
              "<IPython.core.display.HTML object>"
            ],
            "text/html": [
              "\n",
              "     <input type=\"file\" id=\"files-da61cadd-0b1a-444c-b3fc-e5dc065a0283\" name=\"files[]\" multiple disabled\n",
              "        style=\"border:none\" />\n",
              "     <output id=\"result-da61cadd-0b1a-444c-b3fc-e5dc065a0283\">\n",
              "      Upload widget is only available when the cell has been executed in the\n",
              "      current browser session. Please rerun this cell to enable.\n",
              "      </output>\n",
              "      <script src=\"/nbextensions/google.colab/files.js\"></script> "
            ]
          },
          "metadata": {}
        },
        {
          "output_type": "stream",
          "name": "stdout",
          "text": [
            "Saving 4_key_columns_v2.csv to 4_key_columns_v2 (1).csv\n"
          ]
        },
        {
          "output_type": "execute_result",
          "data": {
            "text/plain": [
              "{'4_key_columns_v2.csv': b'key_column,month_of_year_c,quantity_sold_t,days_since_launch_n,service_level_c,store_lw_sales_n,store_l4w_sales_n,store_sales_trend_n,pa_lw_sales_n,pa_l4w_sales_n,pa_sales_trend_n,price_n,discontinued_flag,ignore_discontinued_row_flag,pct_discounted_sales,dropped_items,channel,start_date,end_date,ii_date\\n00180124CZ,5,0.0,194,1.0,23289.992857142857,6198.7759259259265,3.7571922481879314,169.28571428571428,47.18518518518518,3.5876878223817,8.589123060803518,0,0,0.18,0,CnC,2019-11-01,2021-10-31,2021-12-02\\n00180124ES,5,0.1541506457674607,211,1.0,3516.3333333333335,1432.6,2.4545116105914655,288.7142857142857,95.0,3.039097744360902,4.828073718265662,0,0,0.11,0,CnC,2019-11-01,2021-10-31,2021-12-02\\n00180124ES,5,0.0,189,1.0,455.5,235.64285714285714,1.9330100030312216,19.166666666666668,7.5,2.555555555555556,4.828073718265662,0,0,0.11,0,CnC,2019-11-01,2021-10-31,2021-12-02\\n00180124ES,8,1.5040773967762742,274,1.0,46735.92833333334,49964.51639999999,0.9353823813520057,769.4285714285714,854.6785714285714,0.9002548995027371,4.820442815854052,0,0,0.11,0,CnC,2019-11-01,2021-10-31,2021-12-02\\n00180124ES,12,0.6931471805599453,407,1.0,28636.843333333338,22550.230799999998,1.2699135360216953,515.8571428571429,447.89285714285717,1.1517422853042023,4.828073718265662,0,0,0.11,0,CnC,2019-11-01,2021-10-31,2021-12-02\\n00180124ES,9,0.5389965106667944,673,1.0,40607.00428571428,41858.10749999999,0.9701108509436145,432.57142857142856,431.82142857142856,1.0017368290463982,4.952299717083292,0,0,0.11,0,CnC,2019-11-01,2021-10-31,2021-12-02\\n00180124ES,10,1.0986122886681096,729,1.0,41193.05333333332,42884.75347826087,0.9605524106420454,459.7142857142857,478.0357142857143,0.9616735151288757,4.952299717083292,0,0,0.11,0,CnC,2019-11-01,2021-10-31,2021-12-02\\n00180124ES,3,0.0,497,1.0,23.2,26.565217391304348,0.8733224222585925,331.7142857142857,374.35714285714283,0.8860904407555811,4.828073718265662,0,0,0.11,0,CnC,2019-11-01,2021-10-31,2021-12-02\\n00180124RO,6,0.0,593,1.0,19926.402857142857,19575.359285714283,1.0179329312072836,49.714285714285715,52.32142857142857,0.9501706484641639,6.572688024149897,0,0,0.13,0,CnC,2019-11-01,2021-10-31,2021-12-02\\n00180124CZ,7,0.35667496778059,624,1.0,37143.06428571428,35883.843571428566,1.035091578519987,129.71428571428572,136.71428571428572,0.9487983281086729,8.663217245290781,0,0,0.18,0,CnC,2019-11-01,2021-10-31,2021-12-02\\n00180124CZ,10,0.1335314373280052,351,1.0,40925.46,40139.920000000006,1.0195700439861364,209.0,198.66666666666666,1.052013422818792,8.589123060803518,0,0,0.18,0,CnC,2019-11-01,2021-10-31,2021-12-02\\n00180124ES,10,0.7731898148739162,350,1.0,41529.31833333333,41014.36083333334,1.0125555412674254,616.1428571428571,712.7857142857143,0.8644152720713497,4.825817276567737,0,0,0.11,0,CnC,2019-11-01,2021-10-31,2021-12-02\\n00180124ES,9,0.4054651081081644,686,1.0,26933.719999999994,37345.00909090909,0.721213373771985,434.2857142857143,438.32142857142856,0.9907927971970993,4.952299717083292,0,0,0.11,0,CnC,2019-11-01,2021-10-31,2021-12-02\\n00180124ES,4,0.7621400202577524,540,1.0,31074.8,34950.76428571429,0.8891021594254936,341.85714285714283,350.57142857142856,0.9751426242868786,4.827215967004164,0,0,0.11,0,CnC,2019-11-01,2021-10-31,2021-12-02\\n00180124ES,7,0.0,618,1.0,32036.87714285714,31618.760357142855,1.0132236931806162,528.8571428571429,477.17857142857144,1.1083002769253798,4.828073718265662,0,0,0.11,0,CnC,2019-11-01,2021-10-31,2021-12-02\\n00180124ES,12,0.45198510206864073,399,1.0,40376.15,22936.124800000005,1.760373661726849,500.42857142857144,418.14285714285717,1.1967885206696276,4.828073718265662,0,0,0.11,0,CnC,2019-11-01,2021-10-31,2021-12-02\\n00180124ES,2,0.1541506457674607,470,1.0,197.5,7972.451249999999,0.02477280748502539,252.42857142857142,297.10714285714283,0.8496213487197981,4.828073718265662,0,0,0.11,0,CnC,2019-11-01,2021-10-31,2021-12-02\\n00180124ES,8,0.28768210225410284,652,1.0,20557.343333333334,19196.3575,1.070898129154624,459.42857142857144,451.89285714285717,1.0166758871413895,4.952299717083292,0,0,0.11,0,CnC,2019-11-01,2021-10-31,2021-12-02\\n00180124ES,10,0.9162907318741551,357,1.0,23144.76,27314.228260869564,0.847351782336726,542.1428571428571,657.2142857142857,0.8249103358330616,4.828073718265662,0,0,0.11,0,CnC,2019-11-01,2021-10-31,2021-12-02\\n00180124RO,2,0.2513144150354294,105,1.0,32265.36285714286,31903.452499999992,1.0113439245217384,119.14285714285714,129.71428571428572,0.9185022026431717,6.572688024149897,0,0,0.13,0,CnC,2019-11-01,2021-10-31,2021-12-02\\n00180124ES,4,0.0,174,1.0,84.5,47.625,1.7742782152230971,2.2,2.8461538461538463,0.772972972972973,4.828073718265662,0,0,0.11,0,CnC,2019-11-01,2021-10-31,2021-12-02\\n00180124ES,12,0.5389965106667944,50,1.0,27528.16857142857,31787.451071428564,0.8660074225382496,863.4285714285714,961.0,0.8984688568455478,4.828073718265662,0,0,0.11,0,CnC,2019-11-01,2021-10-31,2021-12-02\\n00180124ES,8,0.7731898148739162,288,1.0,43625.66999999999,38539.45916666666,1.131974110257688,852.4285714285714,794.8571428571429,1.072429906542056,4.828073718265662,0,0,0.11,0,CnC,2019-11-01,2021-10-31,2021-12-02\\n00180124ES,11,0.4054651081081644,21,1.0,19574.274999999998,21362.81052631579,0.9162780794169109,839.8571428571429,859.9090909090909,0.976681316357815,4.828073718265662,0,0,0.11,0,CnC,2019-11-01,2021-10-31,2021-12-02\\n00180124HR,4,0.2513144150354294,532,1.0,30118.925714285713,29093.693333333333,1.0352389904301957,32.57142857142857,40.96296296296296,0.7951433738052183,7.155396301896734,0,0,0.3,0,CnC,2019-11-01,2021-10-31,2021-12-02\\n00180124CZ,9,0.0,677,1.0,16846.66714285714,22192.57392857143,0.7591128094055012,142.42857142857142,157.39285714285714,0.9049239845700022,8.663217245290781,0,0,0.18,0,CnC,2019-11-01,2021-10-31,2021-12-02\\n00180124ES,9,0.6931471805599453,686,1.0,32736.632,32338.703043478257,1.01230503758876,434.2857142857143,438.32142857142856,0.9907927971970993,4.952299717083292,0,0,0.11,0,CnC,2019-11-01,2021-10-31,2021-12-02\\n00180124ES,9,0.9162907318741551,309,1.0,45254.77166666667,42273.57291666666,1.0705215704354305,927.2857142857143,857.7142857142857,1.0811125916055964,4.8279003217797545,0,0,0.11,0,CnC,2019-11-01,2021-10-31,2021-12-02\\n00180124ES,4,0.0,181,1.0,201.4,111.88888888888889,1.8,1.7142857142857142,2.473684210526316,0.6930091185410333,4.828073718265662,0,0,0.11,0,CnC,2019-11-01,2021-10-31,2021-12-02\\n00180124ES,2,1.1526795350350776,119,1.0,37121.76499999999,37945.77041666666,0.97828465708777,757.4285714285714,795.6785714285714,0.9519278244086359,4.8277402696785146,0,0,0.11,0,CnC,2019-11-01,2021-10-31,2021-12-02\\n00180124ES,12,0.28768210225410284,421,1.0,20636.048333333332,22089.809259259262,0.9341886157157937,497.8333333333333,525.5925925925926,0.9471848354590937,4.827913632857129,0,0,0.11,0,CnC,2019-11-01,2021-10-31,2021-12-02\\n00180124ES,8,0.0,281,1.0,33307.3,31274.932500000003,1.0649839132346648,789.1428571428571,812.9285714285714,0.9707407081978736,4.828073718265662,0,0,0.11,0,CnC,2019-11-01,2021-10-31,2021-12-02\\n00180124ES,10,0.35667496778059,351,1.0,30748.15857142857,29787.99892857143,1.0322331031755272,616.1428571428571,712.7857142857143,0.8644152720713497,4.811545329008658,0,0,0.11,0,CnC,2019-11-01,2021-10-31,2021-12-02\\n00180124HR,2,0.35667496778059,119,1.0,26481.702857142856,27809.225714285712,0.9522632211776791,81.14285714285714,90.92857142857143,0.8923802042419481,7.155396301896734,0,0,0.3,0,CnC,2019-11-01,2021-10-31,2021-12-02\\n00180124RO,4,0.0,173,1.0,550.2,604.3846153846154,0.9103474608629248,5.2,2.1153846153846154,2.458181818181818,6.572688024149897,0,0,0.13,0,CnC,2019-11-01,2021-10-31,2021-12-02\\n00180124RO,6,0.0,215,1.0,26710.31142857143,19966.30571428571,1.3377693305307072,153.0,109.78571428571429,1.3936239427456083,6.572688024149897,0,0,0.13,0,CnC,2019-11-01,2021-10-31,2021-12-02\\n00180124CZ,11,0.0,386,1.0,402.0,498.6296296296296,0.8062096115278913,5.714285714285714,8.481481481481481,0.6737367436057393,8.589123060803518,0,0,0.18,0,CnC,2019-11-01,2021-10-31,2021-12-02\\n00180124CZ,3,0.0,488,1.0,155.28571428571428,350.64285714285717,0.4428600529639437,5.428571428571429,5.535714285714286,0.9806451612903226,8.589123060803518,0,0,0.18,0,CnC,2019-11-01,2021-10-31,2021-12-02\\n00180124ES,4,0.0,174,1.0,0.0,0.0,0.0,2.2,2.8461538461538463,0.772972972972973,4.828073718265662,0,0,0.11,0,CnC,2019-11-01,2021-10-31,2021-12-02\\n00180124ES,11,0.28768210225410284,371,1.0,23626.558333333334,19550.504,1.208488452949005,390.2857142857143,541.2142857142857,0.7211297347235054,4.828073718265662,0,0,0.11,0,CnC,2019-11-01,2021-10-31,2021-12-02\\n00180124ES,6,1.791759469228055,238,1.0,55192.123999999996,38269.832173913055,1.4421835912210286,1134.857142857143,940.1481481481482,1.2071045878168476,4.824653727317167,0,0,0.11,0,CnC,2019-11-01,2021-10-31,2021-12-02\\n00180124ES,12,1.0986122886681096,64,1.0,42775.03999999999,35610.24791666667,1.2012002865046045,899.1666666666666,878.3846153846154,1.0236593980792246,4.828073718265662,0,0,0.11,0,CnC,2019-11-01,2021-10-31,2021-12-02\\n00180124ES,11,0.6931471805599453,29,1.0,37803.43714285714,37469.544642857145,1.0089110370350776,1072.857142857143,916.7142857142857,1.17032881408758,4.828073718265662,0,0,0.11,0,CnC,2019-11-01,2021-10-31,2021-12-02\\n00180124ES,11,1.1895840979719114,372,1.0,41926.62857142858,33976.06392857143,1.2340048764792704,390.2857142857143,541.2142857142857,0.7211297347235054,4.825876504525211,0,0,0.11,0,CnC,2019-11-01,2021-10-31,2021-12-02\\n00180124ES,8,1.0986122886681096,294,1.0,55872.958000000006,53967.94782608695,1.035298918166242,784.4285714285714,798.8571428571429,0.9819384835479256,4.8255900607574835,0,0,0.11,0,CnC,2019-11-01,2021-10-31,2021-12-02\\n00180124ES,12,0.6061357602214821,428,1.0,21735.488333333335,20130.365217391307,1.079736413055999,599.8333333333334,549.5,1.091598422808614,4.828073718265662,0,0,0.11,0,CnC,2019-11-01,2021-10-31,2021-12-02\\n00180124ES,7,0.1335314373280052,624,1.0,24946.111428571425,25897.927142857137,0.9632474170988533,468.14285714285717,489.60714285714283,0.9561601867386389,4.952299717083292,0,0,0.11,0,CnC,2019-11-01,2021-10-31,2021-12-02\\n00180124ES,4,0.47000364414689666,518,1.0,37674.984,28767.302272727273,1.30964605727794,346.0,345.2857142857143,1.002068680182044,4.828073718265662,0,0,0.11,0,CnC,2019-11-01,2021-10-31,2021-12-02\\n00180124HR,3,0.45198510206864073,504,1.0,31977.874285714293,29345.887142857147,1.0896884503795885,47.142857142857146,53.107142857142854,0.8876933422999329,7.155396301896734,0,0,0.3,0,CnC,2019-11-01,2021-10-31,2021-12-02\\n00180124ES,9,1.0986122886681096,330,1.0,38505.515,38924.73608695652,0.9892299568577679,764.4285714285714,820.1071428571429,0.9321081740190742,4.828073718265662,0,0,0.11,0,CnC,2019-11-01,2021-10-31,2021-12-02\\n00180124ES,10,0.28768210225410284,708,1.0,28195.795,27288.203913043482,1.0332594658794196,505.42857142857144,458.2857142857143,1.10286783042394,4.952299717083292,0,0,0.11,0,CnC,2019-11-01,2021-10-31,2021-12-02\\n00180124ES,1,0.0,449,1.0,11440.57,18778.8888,0.6092250783230582,322.57142857142856,422.65384615384613,0.7632047632047632,4.828073718265662,0,0,0.11,0,CnC,2019-11-01,2021-10-31,2021-12-02\\n00180124HR,11,0.6190392450860042,378,1.0,32621.312857142857,29666.1474074074,1.0996140620874006,62.285714285714285,56.74074074074074,1.0977247295785155,7.155396301896734,0,0,0.3,0,CnC,2019-11-01,2021-10-31,2021-12-02\\n00180124RO,7,0.2513144150354294,635,1.0,16934.749999999996,16705.316785714287,1.0137341432807734,37.142857142857146,38.785714285714285,0.9576427255985268,6.512146466906872,0,0,0.13,0,CnC,2019-11-01,2021-10-31,2021-12-02\\n00180124CZ,5,0.0,547,1.0,322.2857142857143,525.2962962962963,0.6135312899749197,2.4285714285714284,7.37037037037037,0.3295046661880833,8.589123060803518,0,0,0.18,0,CnC,2019-11-01,2021-10-31,2021-12-02\\n00180124ES,11,0.28768210225410284,21,1.0,17221.293333333335,17728.865555555552,0.9713702932298923,839.8571428571429,859.9090909090909,0.976681316357815,4.828073718265662,0,0,0.11,0,CnC,2019-11-01,2021-10-31,2021-12-02\\n00180124ES,4,0.18232159653038368,545,1.0,28426.985000000004,15559.70818181818,1.8269613200855197,413.2857142857143,360.17857142857144,1.1474467030242934,4.828073718265662,0,0,0.11,0,CnC,2019-11-01,2021-10-31,2021-12-02\\n00180124ES,7,0.9808291934070796,634,1.0,33495.07666666667,32353.049583333337,1.0352989006613351,445.42857142857144,468.60714285714283,0.9505373066077282,4.952299717083292,0,0,0.11,0,CnC,2019-11-01,2021-10-31,2021-12-02\\n00180124ES,5,0.0,196,1.0,677.4,351.89473684210526,1.9250074783128925,22.428571428571427,11.84,1.8943050193050193,4.828073718265662,0,0,0.11,0,CnC,2019-11-01,2021-10-31,2021-12-02\\n00180124ES,5,0.5596157879354227,568,1.0,22704.521666666667,20154.003750000003,1.1265514261237877,432.14285714285717,442.89285714285717,0.9757277638900089,4.828073718265662,0,0,0.11,0,CnC,2019-11-01,2021-10-31,2021-12-02\\n00180124RO,8,0.1335314373280052,658,1.0,30120.23,28916.463928571433,1.0416290897255651,74.28571428571429,57.42857142857143,1.2935323383084578,6.512146466906872,0,0,0.13,0,CnC,2019-11-01,2021-10-31,2021-12-02\\n00180124RO,5,0.0,180,1.0,669.5714285714286,586.0769230769231,1.1424633903961898,1.1428571428571428,1.9615384615384615,0.5826330532212886,6.572688024149897,0,0,0.13,0,CnC,2019-11-01,2021-10-31,2021-12-02\\n00180124RO,7,0.28768210225410284,241,1.0,18210.071428571428,21139.238214285717,0.8614346100828372,97.85714285714286,116.75,0.838176812480881,6.572688024149897,0,0,0.13,0,CnC,2019-11-01,2021-10-31,2021-12-02\\n00180124RO,5,0.0,572,1.0,17790.22857142857,18533.18769230769,0.9599119626254319,56.857142857142854,46.07692307692308,1.2339613641783924,6.562565122187802,0,0,0.13,0,CnC,2019-11-01,2021-10-31,2021-12-02\\n00180124CZ,3,0.0,141,1.0,260.42857142857144,24221.815357142856,0.010751818870247178,8.0,159.60714285714286,0.05012307003803983,8.589123060803518,0,0,0.18,0,CnC,2019-11-01,2021-10-31,2021-12-02\\n00180124CZ,7,0.0,617,1.0,36329.65714285714,32726.30214285714,1.1101057792680213,141.85714285714286,140.21428571428572,1.011716760061131,8.589123060803518,0,0,0.18,0,CnC,2019-11-01,2021-10-31,2021-12-02\\n00180124ES,6,0.45198510206864073,238,1.0,24080.77142857143,14998.067083333333,1.60559166023009,1134.857142857143,940.1481481481482,1.2071045878168476,4.825670231669672,0,0,0.11,0,CnC,2019-11-01,2021-10-31,2021-12-02\\n00180124ES,5,0.0,553,1.0,19843.646,21009.12863636364,0.9445249416795723,400.57142857142856,388.35714285714283,1.0314511679234872,4.828073718265662,0,0,0.11,0,CnC,2019-11-01,2021-10-31,2021-12-02\\n00180124ES,5,0.18232159653038368,573,1.0,42567.22166666667,41265.016818181815,1.0315571142069933,496.0,458.60714285714283,1.0815357059419048,4.828073718265662,0,0,0.11,0,CnC,2019-11-01,2021-10-31,2021-12-02\\n00180124ES,5,0.7621400202577524,554,1.0,37326.37333333333,33575.661111111105,1.1117092589721491,400.57142857142856,388.35714285714283,1.0314511679234872,4.826437711086918,0,0,0.11,0,CnC,2019-11-01,2021-10-31,2021-12-02\\n00180124ES,1,0.6931471805599453,78,1.0,30908.68333333333,28279.640416666665,1.0929659245284191,802.0,810.72,0.989244128675745,4.827513429348337,0,0,0.11,0,CnC,2019-11-01,2021-10-31,2021-12-02\\n00180124ES,8,0.6190392450860042,659,1.0,40839.9,43210.00785714285,0.945149099139748,412.7142857142857,448.10714285714283,0.9210169761696023,4.940682729375753,0,0,0.11,0,CnC,2019-11-01,2021-10-31,2021-12-02\\n00180124ES,12,0.5877866384111654,407,1.0,18061.408000000003,4785.518695652174,3.7741798013263392,515.8571428571429,447.89285714285717,1.1517422853042023,4.826279687603223,0,0,0.11,0,CnC,2019-11-01,2021-10-31,2021-12-02\\n00180124RO,3,0.0,147,1.0,263.14285714285717,17457.10142857143,0.015073685526749614,3.2857142857142856,75.67857142857143,0.043416705993393104,6.572688024149897,0,0,0.13,0,CnC,2019-11-01,2021-10-31,2021-12-02\\n00180124ES,4,1.3350010541839938,546,1.0,38465.924999999996,38675.28391304348,0.9945867517478553,413.2857142857143,360.17857142857144,1.1474467030242934,4.824096850908747,0,0,0.11,0,CnC,2019-11-01,2021-10-31,2021-12-02\\n00180124ES,8,1.0414539309266488,301,1.0,57504.58166666667,56344.63826086957,1.020586580047363,866.7142857142857,823.1785714285714,1.052887326999002,4.828073718265662,0,0,0.11,0,CnC,2019-11-01,2021-10-31,2021-12-02\\n00180124ES,8,0.6931471805599453,280,1.0,51132.42500000001,45636.20833333332,1.1204354364087732,789.1428571428571,812.9285714285714,0.9707407081978736,4.828073718265662,0,0,0.11,0,CnC,2019-11-01,2021-10-31,2021-12-02\\n00180124ES,2,0.0,463,1.0,4452.568333333334,12098.294399999999,0.36803273140165393,295.57142857142856,300.5357142857143,0.9834818775995247,4.828073718265662,0,0,0.11,0,CnC,2019-11-01,2021-10-31,2021-12-02\\n00180124ES,4,0.0,543,1.0,18959.83,13959.765000000001,1.3581768747539804,386.57142857142856,363.5,1.063470229907644,4.828073718265662,0,0,0.11,0,CnC,2019-11-01,2021-10-31,2021-12-02\\n00180124ES,11,1.3862943611198906,1,1.0,46407.149999999994,46407.149999999994,1.0,760.0,760.0,1.0,4.828073718265662,0,0,0.11,0,CnC,2019-11-01,2021-10-31,2021-12-02\\n00180124ES,1,0.1541506457674607,449,1.0,11579.458333333334,14361.762799999995,0.806269988899506,322.57142857142856,422.65384615384613,0.7632047632047632,4.828073718265662,0,0,0.11,0,CnC,2019-11-01,2021-10-31,2021-12-02\\n00180124ES,12,0.6190392450860042,42,1.0,23093.03857142857,20765.8992,1.1120654275076405,880.8571428571429,955.1071428571429,0.9222600306622294,4.828073718265662,0,0,0.11,0,CnC,2019-11-01,2021-10-31,2021-12-02\\n00180124RO,6,0.1335314373280052,217,1.0,38113.25571428571,28418.557142857142,1.341139718061488,153.0,109.78571428571429,1.3936239427456083,6.572688024149897,0,0,0.13,0,CnC,2019-11-01,2021-10-31,2021-12-02\\n00180124RO,10,0.0,361,1.0,36994.018571428576,39167.427142857145,0.9445097947459915,63.285714285714285,84.71428571428571,0.7470489038785835,6.572688024149897,0,0,0.13,0,CnC,2019-11-01,2021-10-31,2021-12-02\\n00180124CZ,11,0.2513144150354294,15,1.0,53877.965000000004,53642.891428571435,1.0043821942697027,317.57142857142856,280.6666666666667,1.1314896504920255,8.589123060803518,0,0,0.18,0,CnC,2019-11-01,2021-10-31,2021-12-02\\n00180124CZ,9,0.5389965106667944,330,1.0,36394.44142857143,36900.44357142857,0.986287369638859,187.57142857142858,165.85714285714286,1.1309216192937124,8.589123060803518,0,0,0.18,0,CnC,2019-11-01,2021-10-31,2021-12-02\\n00180124CZ,9,0.3364722195913143,309,1.0,53065.99571428571,52317.2075,1.0143124652493296,119.71428571428571,149.10714285714286,0.802874251497006,8.589123060803518,0,0,0.18,0,CnC,2019-11-01,2021-10-31,2021-12-02\\n00180124CZ,11,0.0,393,1.0,2200.8571428571427,1481.5357142857142,1.4855241906323071,9.142857142857142,8.5,1.0756302521008403,8.589123060803518,0,0,0.18,0,CnC,2019-11-01,2021-10-31,2021-12-02\\n00180124ES,6,0.1541506457674607,581,1.0,17524.671666666665,18786.641250000004,0.9328262265436437,472.42857142857144,469.57142857142856,1.0060845756008518,4.822523691864269,0,0,0.11,0,CnC,2019-11-01,2021-10-31,2021-12-02\\n00180124ES,2,0.28768210225410284,98,1.0,29055.56833333334,29364.417083333337,0.9894822107612926,805.1428571428571,785.9285714285714,1.024447877851495,4.828073718265662,0,0,0.11,0,CnC,2019-11-01,2021-10-31,2021-12-02\\n00180124ES,11,0.4054651081081644,22,1.0,31955.410000000003,33834.91578947369,0.9444507029020471,839.8571428571429,859.9090909090909,0.976681316357815,4.826418632177526,0,0,0.11,0,CnC,2019-11-01,2021-10-31,2021-12-02\\n00180124ES,2,0.0,477,1.0,263.3333333333333,3428.066666666667,0.07681686470508156,361.0,306.7142857142857,1.176991150442478,4.828073718265662,0,0,0.11,0,CnC,2019-11-01,2021-10-31,2021-12-02\\n00180124ES,12,0.4054651081081644,428,1.0,35080.14666666667,33846.94923076923,1.0364345225765983,599.8333333333334,549.5,1.091598422808614,4.828073718265662,0,0,0.11,0,CnC,2019-11-01,2021-10-31,2021-12-02\\n00180124ES,5,0.0,568,1.0,26670.41428571428,29345.777407407408,0.9088331147425041,432.14285714285717,442.89285714285717,0.9757277638900089,4.828073718265662,0,0,0.11,0,CnC,2019-11-01,2021-10-31,2021-12-02\\n00180124ES,5,0.45198510206864073,575,1.0,26830.25571428571,28911.36999999999,0.9280174448421407,482.14285714285717,451.60714285714283,1.0676156583629894,4.828073718265662,0,0,0.11,0,CnC,2019-11-01,2021-10-31,2021-12-02\\n00180124RO,12,0.2513144150354294,33,1.0,24667.868571428575,24875.307857142852,0.9916608354394814,172.71428571428572,166.39285714285714,1.037990985189955,6.572688024149897,0,0,0.13,0,CnC,2019-11-01,2021-10-31,2021-12-02\\n00180124CZ,12,1.0116009116784799,418,1.0,67444.15571428572,64471.91571428572,1.0461013135265254,340.42857142857144,211.67857142857142,1.6082335076767338,8.589123060803518,0,0,0.18,0,CnC,2019-11-01,2021-10-31,2021-12-02\\n00180124CZ,5,0.2513144150354294,561,1.0,62820.37333333333,14950.23111111111,4.2019667031531585,191.0,47.03703703703704,4.060629921259842,8.589123060803518,0,0,0.18,0,CnC,2019-11-01,2021-10-31,2021-12-02\\n00180124ES,10,0.28768210225410284,707,1.0,31778.718333333334,31108.33565217391,1.0215499372468864,505.42857142857144,458.2857142857143,1.10286783042394,4.952299717083292,0,0,0.11,0,CnC,2019-11-01,2021-10-31,2021-12-02\\n00180124ES,5,0.4054651081081644,553,1.0,17158.693999999996,20485.543913043482,0.8376001180556779,400.57142857142856,388.35714285714283,1.0314511679234872,4.828073718265662,0,0,0.11,0,CnC,2019-11-01,2021-10-31,2021-12-02\\n00180124ES,12,0.9444615955953747,413,1.0,41210.66285714286,45738.1226923077,0.9010134310578892,584.2857142857143,500.67857142857144,1.166987659604822,4.828073718265662,0,0,0.11,0,CnC,2019-11-01,2021-10-31,2021-12-02\\n00180124ES,12,0.5108256714497054,36,1.0,25305.038333333334,21004.132083333334,1.2047647688053127,1026.857142857143,954.9285714285714,1.0753235096117886,4.828073718265662,0,0,0.11,0,CnC,2019-11-01,2021-10-31,2021-12-02\\n00180124ES,10,0.5389965106667944,344,1.0,28367.391428571435,30506.902142857132,0.9298679785883589,681.8571428571429,765.3214285714286,0.8909421811563769,4.826826914755823,0,0,0.11,0,CnC,2019-11-01,2021-10-31,2021-12-02\\n00180124ES,5,0.0,195,1.0,112.2,88.63157894736842,1.2659144893111638,22.428571428571427,11.84,1.8943050193050193,4.828073718265662,0,0,0.11,0,CnC,2019-11-01,2021-10-31,2021-12-02\\n00180124CZ,2,0.0,484,1.0,1271.7142857142858,1551.4642857142858,0.8196864713059092,2.4285714285714284,5.5,0.44155844155844154,8.589123060803518,0,0,0.18,0,CnC,2019-11-01,2021-10-31,2021-12-02\\n00180124CZ,6,0.1335314373280052,582,1.0,53785.458571428564,63232.89740740741,0.8505929789187214,188.42857142857142,200.88888888888889,0.9379740834386852,8.589123060803518,0,0,0.18,0,CnC,2019-11-01,2021-10-31,2021-12-02\\n00180124ES,9,1.0498221483405352,316,1.0,55621.44857142856,52865.44035714287,1.0521325121982705,762.4285714285714,835.2142857142857,0.9128538441802788,4.827867898184716,0,0,0.11,0,CnC,2019-11-01,2021-10-31,2021-12-02\\n00180124ES,9,0.5389965106667944,680,1.0,37124.24857142857,34335.62499999999,1.0812166247571897,463.85714285714283,432.92857142857144,1.0714403563768353,4.951137972683219,0,0,0.11,0,CnC,2019-11-01,2021-10-31,2021-12-02\\n00180124ES,8,0.4054651081081644,295,1.0,41429.26833333333,39283.183333333334,1.0546311377514805,784.4285714285714,798.8571428571429,0.9819384835479256,4.828073718265662,0,0,0.11,0,CnC,2019-11-01,2021-10-31,2021-12-02\\n00180124ES,5,0.28768210225410284,561,1.0,38770.23499999999,34676.77291666668,1.1180462234236874,491.57142857142856,420.32142857142856,1.1695131277083863,4.828073718265662,0,0,0.11,0,CnC,2019-11-01,2021-10-31,2021-12-02\\n00180124ES,1,0.6061357602214821,84,1.0,38826.44666666666,38555.45520000001,1.0070286154128107,724.1428571428571,773.2307692307693,0.9365158319595247,4.771672853812695,0,0,0.11,0,CnC,2019-11-01,2021-10-31,2021-12-02\\n00180124ES,4,0.0,159,1.0,0.0,9861.236666666666,0.0,0.0,262.0,0.0,4.828073718265662,0,0,0.11,0,CnC,2019-11-01,2021-10-31,2021-12-02\\n00180124ES,10,1.0414539309266488,337,1.0,39554.471666666665,41185.93521739131,0.9603878474019516,788.7142857142857,785.4642857142857,1.0041376801709634,4.828073718265662,0,0,0.11,0,CnC,2019-11-01,2021-10-31,2021-12-02\\n00180124ES,1,0.2513144150354294,85,1.0,26958.85714285715,28916.795000000006,0.9322906339674623,724.1428571428571,773.2307692307693,0.9365158319595247,4.828073718265662,0,0,0.11,0,CnC,2019-11-01,2021-10-31,2021-12-02\\n00180124ES,6,0.0,588,1.0,18939.916666666668,21325.913043478267,0.8881175041862385,499.14285714285717,471.4642857142857,1.0587076736610863,4.828073718265662,0,0,0.11,0,CnC,2019-11-01,2021-10-31,2021-12-02\\n00180124HR,10,0.6931471805599453,343,1.0,34369.41714285714,32260.529285714285,1.0653705287494066,60.857142857142854,60.67857142857143,1.0029429075927014,7.155396301896734,0,0,0.3,0,CnC,2019-11-01,2021-10-31,2021-12-02\\n00180124RO,7,0.45198510206864073,252,1.0,29967.022857142856,30934.59285714286,0.9687220709686312,104.0,112.39285714285714,0.9253257070225612,6.572688024149897,0,0,0.13,0,CnC,2019-11-01,2021-10-31,2021-12-02\\n00180124CZ,12,0.0,428,1.0,661.2,50415.60791666668,0.013114986158510979,6.0,222.66666666666666,0.02694610778443114,8.589123060803518,0,0,0.18,0,CnC,2019-11-01,2021-10-31,2021-12-02\\n00180124CZ,8,0.1335314373280052,652,1.0,37260.16857142857,37474.232857142866,0.9942876939861494,169.28571428571428,158.75,1.0663667041619798,8.663217245290781,0,0,0.18,0,CnC,2019-11-01,2021-10-31,2021-12-02\\n00180124CZ,9,0.1335314373280052,694,1.0,34712.0,35033.48071428571,0.9908236147898768,144.57142857142858,143.96428571428572,1.0042173158025305,8.663217245290781,0,0,0.18,0,CnC,2019-11-01,2021-10-31,2021-12-02\\n00180124CZ,8,0.35667496778059,288,1.0,50098.22285714286,52731.03142857143,0.9500709828709698,172.28571428571428,155.85714285714286,1.1054078826764435,8.589123060803518,0,0,0.18,0,CnC,2019-11-01,2021-10-31,2021-12-02\\n00180124ES,8,0.887303209025525,274,1.0,42427.81714285714,45777.615357142866,0.9268245366616056,769.4285714285714,854.6785714285714,0.9002548995027371,4.8270901496687095,0,0,0.11,0,CnC,2019-11-01,2021-10-31,2021-12-02\\n00180124ES,3,0.0,497,1.0,148.0,169.69565217391303,0.8721496284909045,331.7142857142857,374.35714285714283,0.8860904407555811,4.828073718265662,0,0,0.11,0,CnC,2019-11-01,2021-10-31,2021-12-02\\n00180124ES,8,1.252762968495368,280,1.0,37796.549999999996,38102.935000000005,0.9919590183800799,789.1428571428571,812.9285714285714,0.9707407081978736,4.8269928580009855,0,0,0.11,0,CnC,2019-11-01,2021-10-31,2021-12-02\\n00180124ES,3,0.1541506457674607,505,1.0,6969.793333333334,1876.4678260869566,3.714315394294615,348.14285714285717,371.14285714285717,0.9380292532717475,4.828073718265662,0,0,0.11,0,CnC,2019-11-01,2021-10-31,2021-12-02\\n00180124ES,11,1.299283005804677,372,1.0,43759.23333333334,45381.356250000004,0.9642557417691396,390.2857142857143,541.2142857142857,0.7211297347235054,4.828073718265662,0,0,0.11,0,CnC,2019-11-01,2021-10-31,2021-12-02\\n00180124ES,4,0.9808291934070796,532,1.0,44344.381666666675,47759.659583333334,0.9284903211944482,363.7142857142857,353.92857142857144,1.027648839556004,4.827032888068155,0,0,0.11,0,CnC,2019-11-01,2021-10-31,2021-12-02\\n00180124ES,4,0.1541506457674607,539,1.0,8959.161666666667,9727.90818181818,0.9209751468883794,341.85714285714283,350.57142857142856,0.9751426242868786,4.828073718265662,0,0,0.11,0,CnC,2019-11-01,2021-10-31,2021-12-02\\n00180124ES,4,0.0,181,1.0,68.6,46.30769230769231,1.4813953488372091,1.7142857142857142,2.473684210526316,0.6930091185410333,4.828073718265662,0,0,0.11,0,CnC,2019-11-01,2021-10-31,2021-12-02\\n00180124ES,6,0.6931471805599453,239,1.0,26270.466666666664,26545.84708333333,0.9896262335949504,1134.857142857143,940.1481481481482,1.2071045878168476,4.828073718265662,0,0,0.11,0,CnC,2019-11-01,2021-10-31,2021-12-02\\n00180124ES,9,0.35667496778059,316,1.0,26006.34,24022.75125,1.0825712562793988,762.4285714285714,835.2142857142857,0.9128538441802788,4.828073718265662,0,0,0.11,0,CnC,2019-11-01,2021-10-31,2021-12-02\\n00180124ES,1,0.6931471805599453,71,1.0,26058.248333333337,31002.280799999997,0.8405268148314217,671.0,827.92,0.8104647792057204,4.8253627320929375,0,0,0.11,0,CnC,2019-11-01,2021-10-31,2021-12-02\\n00180124ES,2,0.28768210225410284,483,1.0,11620.282000000001,10658.655789473685,1.0902202143985176,441.14285714285717,337.5357142857143,1.3069516453285368,4.822081036441563,0,0,0.11,0,CnC,2019-11-01,2021-10-31,2021-12-02\\n00180124CZ,5,0.0,190,1.0,826.0,571.6923076923077,1.4448331539289558,2.6666666666666665,5.730769230769231,0.465324384787472,8.589123060803518,0,0,0.18,0,CnC,2019-11-01,2021-10-31,2021-12-02\\n00180124CZ,3,0.0,495,1.0,156.14285714285714,249.03571428571428,0.6269898178689229,3.5714285714285716,4.392857142857143,0.8130081300813008,8.589123060803518,0,0,0.18,0,CnC,2019-11-01,2021-10-31,2021-12-02\\n00180124CZ,6,0.1335314373280052,218,1.0,60541.51571428571,57771.455357142855,1.0479485991830804,235.71428571428572,217.92857142857142,1.0816125860373649,8.589123060803518,0,0,0.18,0,CnC,2019-11-01,2021-10-31,2021-12-02\\n00180124ES,4,0.0,174,1.0,85.0,85.0,1.0,2.2,2.8461538461538463,0.772972972972973,4.828073718265662,0,0,0.11,0,CnC,2019-11-01,2021-10-31,2021-12-02\\n00180124ES,9,0.1541506457674607,679,1.0,28891.786666666667,33338.16333333334,0.8666280255990906,463.85714285714283,432.92857142857144,1.0714403563768353,4.952299717083292,0,0,0.11,0,CnC,2019-11-01,2021-10-31,2021-12-02\\n00180124ES,10,0.1541506457674607,721,1.0,26221.518333333337,29384.575652173913,0.8923565425520593,452.42857142857144,480.67857142857144,0.9412289174530054,4.9423089005542105,0,0,0.11,0,CnC,2019-11-01,2021-10-31,2021-12-02\\n00180124ES,11,0.7621400202577524,8,1.0,38356.82571428571,41309.94625,0.9285130869490228,874.0,859.75,1.0165745856353592,4.828073718265662,0,0,0.11,0,CnC,2019-11-01,2021-10-31,2021-12-02\\n00180124ES,6,0.6931471805599453,582,1.0,39339.338333333326,36788.88833333333,1.0693266395247152,472.42857142857144,469.57142857142856,1.0060845756008518,4.828073718265662,0,0,0.11,0,CnC,2019-11-01,2021-10-31,2021-12-02\\n00180124ES,8,1.1631508247068418,295,1.0,58851.037999999986,52113.645217391306,1.1292827004233488,784.4285714285714,798.8571428571429,0.9819384835479256,4.828073718265662,0,0,0.11,0,CnC,2019-11-01,2021-10-31,2021-12-02\\n00180124ES,6,0.7731898148739162,582,1.0,50091.78833333333,46015.75125000001,1.0885791706667687,472.42857142857144,469.57142857142856,1.0060845756008518,4.814755564454341,0,0,0.11,0,CnC,2019-11-01,2021-10-31,2021-12-02\\n00180124ES,7,1.0986122886681096,252,1.0,48636.16571428572,54461.536875,0.8930369670968953,956.1428571428571,1037.0714285714287,0.92196432261175,4.824523727365381,0,0,0.11,0,CnC,2019-11-01,2021-10-31,2021-12-02\\n00180124ES,9,0.6931471805599453,679,1.0,51263.176,50800.16521739132,1.0091143558417044,463.85714285714283,432.92857142857144,1.0714403563768353,4.952299717083292,0,0,0.11,0,CnC,2019-11-01,2021-10-31,2021-12-02\\n00180124ES,5,0.0,196,1.0,39.4,22.0,1.7909090909090908,22.428571428571427,11.84,1.8943050193050193,4.828073718265662,0,0,0.11,0,CnC,2019-11-01,2021-10-31,2021-12-02\\n00180124ES,9,0.1335314373280052,694,1.0,26979.08285714286,29766.352500000008,0.9063617336770723,423.14285714285717,438.4642857142857,0.9650566099209905,4.952299717083292,0,0,0.11,0,CnC,2019-11-01,2021-10-31,2021-12-02\\n00180124HR,11,0.7621400202577524,14,1.0,38762.42285714286,38473.53785714286,1.0075086674137603,80.85714285714286,79.92857142857143,1.0116175156389633,7.154936693524153,0,0,0.3,0,CnC,2019-11-01,2021-10-31,2021-12-02\\n00180124HR,9,0.2513144150354294,693,1.0,30565.92285714286,29452.200714285715,1.0378145644755483,76.57142857142857,65.0,1.178021978021978,7.0909098220799835,0,0,0.3,0,CnC,2019-11-01,2021-10-31,2021-12-02\\n00180124RO,7,0.0,250,1.0,18531.778571428575,19654.139285714286,0.9428944357231912,104.0,112.39285714285714,0.9253257070225612,6.572688024149897,0,0,0.13,0,CnC,2019-11-01,2021-10-31,2021-12-02\\n00180124CZ,2,0.1335314373280052,99,1.0,31309.32428571428,32949.23642857142,0.9502291306078609,217.71428571428572,205.10714285714286,1.0614661326832666,8.589123060803518,0,0,0.18,0,CnC,2019-11-01,2021-10-31,2021-12-02\\n00180124ES,9,0.6190392450860042,315,1.0,22984.877142857145,24569.47629166667,0.935505375450474,762.4285714285714,835.2142857142857,0.9128538441802788,4.828073718265662,0,0,0.11,0,CnC,2019-11-01,2021-10-31,2021-12-02\\n00180124ES,10,0.0,701,1.0,21217.399999999994,21983.867391304342,0.9651350066090955,470.2857142857143,447.89285714285717,1.049996013077107,4.952299717083292,0,0,0.11,0,CnC,2019-11-01,2021-10-31,2021-12-02\\n00180124ES,5,0.6931471805599453,567,1.0,39180.121666666666,40045.47226086956,0.9783908006237082,432.14285714285717,442.89285714285717,0.9757277638900089,4.826111301513155,0,0,0.11,0,CnC,2019-11-01,2021-10-31,2021-12-02\\n00180124ES,6,0.4054651081081644,225,1.0,24632.688333333335,16763.14375,1.4694551750373994,983.0,471.55555555555554,2.084590009425071,4.828073718265662,0,0,0.11,0,CnC,2019-11-01,2021-10-31,2021-12-02\\n00180124CZ,10,0.1335314373280052,722,1.0,38296.52857142857,35238.828518518516,1.086770763429414,192.42857142857142,182.85185185185185,1.0523742006423797,8.663217245290781,0,0,0.18,0,CnC,2019-11-01,2021-10-31,2021-12-02\\n00180124ES,12,0.6931471805599453,43,1.0,46359.802857142866,44885.73857142856,1.0328403705192144,880.8571428571429,955.1071428571429,0.9222600306622294,4.82679256136938,0,0,0.11,0,CnC,2019-11-01,2021-10-31,2021-12-02\\n00180124ES,6,1.0986122886681096,232,1.0,58233.41571428572,31071.251153846155,1.8741895981577588,1009.4285714285714,720.7777777777778,1.4004712722147592,4.826449146028019,0,0,0.11,0,CnC,2019-11-01,2021-10-31,2021-12-02\\n00180124ES,3,0.5108256714497054,505,1.0,38968.44857142858,41497.00750000001,0.9390664753700269,348.14285714285717,371.14285714285717,0.9380292532717475,4.8253493258003965,0,0,0.11,0,CnC,2019-11-01,2021-10-31,2021-12-02\\n00180124ES,4,0.7621400202577524,519,1.0,50600.95,41101.39642857143,1.231124837520727,346.0,345.2857142857143,1.002068680182044,4.828073718265662,0,0,0.11,0,CnC,2019-11-01,2021-10-31,2021-12-02\\n00180124ES,1,0.28768210225410284,71,1.0,13491.605000000001,16053.954583333332,0.8403913770882674,671.0,827.92,0.8104647792057204,4.828073718265662,0,0,0.11,0,CnC,2019-11-01,2021-10-31,2021-12-02\\n00180124ES,10,0.3364722195913143,715,1.0,35195.64,29875.075652173913,1.1780937531262428,494.57142857142856,473.35714285714283,1.0448166591217747,4.952299717083292,0,0,0.11,0,CnC,2019-11-01,2021-10-31,2021-12-02\\n00180124ES,1,0.4054651081081644,449,1.0,26258.44,38275.919583333336,0.6860302844672564,322.57142857142856,422.65384615384613,0.7632047632047632,4.828073718265662,0,0,0.11,0,CnC,2019-11-01,2021-10-31,2021-12-02\\n00180124ES,6,0.18232159653038368,217,1.0,3483.7400000000002,1999.6047619047617,1.742214294729673,582.1666666666666,221.88888888888889,2.6236855282924387,4.828073718265662,0,0,0.11,0,CnC,2019-11-01,2021-10-31,2021-12-02\\n00180124ES,4,0.0,525,1.0,10548.316,9927.926363636363,1.0624893470841985,350.7142857142857,350.0357142857143,1.0019385776961536,4.828073718265662,0,0,0.11,0,CnC,2019-11-01,2021-10-31,2021-12-02\\n00180124RO,2,0.1335314373280052,117,1.0,17929.565714285716,19063.298571428568,0.94052798087934,138.14285714285714,125.64285714285714,1.0994883456509381,6.572688024149897,0,0,0.13,0,CnC,2019-11-01,2021-10-31,2021-12-02\\n00180124ES,8,0.5108256714497054,301,1.0,24985.02666666667,23837.918739130433,1.0481211443033085,866.7142857142857,823.1785714285714,1.052887326999002,4.828073718265662,0,0,0.11,0,CnC,2019-11-01,2021-10-31,2021-12-02\\n00180124ES,12,0.5389965106667944,413,1.0,28025.938571428567,10205.557916666667,2.746144679230078,584.2857142857143,500.67857142857144,1.166987659604822,4.828073718265662,0,0,0.11,0,CnC,2019-11-01,2021-10-31,2021-12-02\\n00180124ES,1,0.0,441,1.0,7900.469999999998,19706.625833333335,0.40090424747581715,266.14285714285717,468.72,0.5678077682685978,4.828073718265662,0,0,0.11,0,CnC,2019-11-01,2021-10-31,2021-12-02\\n00180124ES,7,0.2513144150354294,267,1.0,43315.29714285714,47897.13892857143,0.9043399691879894,768.4285714285714,924.2857142857143,0.8313755795981452,4.828073718265662,0,0,0.11,0,CnC,2019-11-01,2021-10-31,2021-12-02\\n00180124ES,8,1.2321436912267396,302,1.0,49518.84285714286,47179.25964285715,1.0495892312002382,866.7142857142857,823.1785714285714,1.052887326999002,4.826907047694639,0,0,0.11,0,CnC,2019-11-01,2021-10-31,2021-12-02\\n00180124ES,8,0.0,652,1.0,36243.46857142857,35094.11321428571,1.0327506596369842,459.42857142857144,451.89285714285717,1.0166758871413895,4.952299717083292,0,0,0.11,0,CnC,2019-11-01,2021-10-31,2021-12-02\\n00180124ES,1,1.1526795350350776,441,1.0,26116.588333333337,34260.46523809525,0.7622952038693717,266.14285714285717,468.72,0.5678077682685978,4.828073718265662,0,0,0.11,0,CnC,2019-11-01,2021-10-31,2021-12-02\\n00180124ES,12,0.6190392450860042,43,1.0,31204.314285714285,33111.23115384615,0.942408759756722,880.8571428571429,955.1071428571429,0.9222600306622294,4.828073718265662,0,0,0.11,0,CnC,2019-11-01,2021-10-31,2021-12-02\\n00180124ES,9,0.9444615955953747,330,1.0,40230.51285714286,45169.63821428572,0.8906538650207569,764.4285714285714,820.1071428571429,0.9321081740190742,4.82679256136938,0,0,0.11,0,CnC,2019-11-01,2021-10-31,2021-12-02\\n00180124ES,8,0.45198510206864073,659,1.0,29549.464285714283,30591.72,0.9659301368381471,412.7142857142857,448.10714285714283,0.9210169761696023,4.952299717083292,0,0,0.11,0,CnC,2019-11-01,2021-10-31,2021-12-02\\n00180124ES,11,0.9162907318741551,14,1.0,50264.068333333336,52388.54666666666,0.9594476566252015,880.1428571428571,869.2666666666667,1.0125119148050354,4.809715154141082,0,0,0.11,0,CnC,2019-11-01,2021-10-31,2021-12-02\\n00180124ES,11,0.5389965106667944,22,1.0,29669.40142857143,32030.015000000003,0.9262999542326604,839.8571428571429,859.9090909090909,0.976681316357815,4.828073718265662,0,0,0.11,0,CnC,2019-11-01,2021-10-31,2021-12-02\\n00180124ES,9,0.1335314373280052,687,1.0,28020.712857142855,29676.489999999994,0.9442057621080815,434.2857142857143,438.32142857142856,0.9907927971970993,4.952299717083292,0,0,0.11,0,CnC,2019-11-01,2021-10-31,2021-12-02\\n00180124RO,5,0.35667496778059,203,1.0,33473.562857142846,9817.363571428572,3.4096285233400954,116.57142857142857,37.464285714285715,3.111534795042898,6.572688024149897,0,0,0.13,0,CnC,2019-11-01,2021-10-31,2021-12-02\\n00180124RO,6,0.22314355131420976,233,1.0,21319.751428571424,23608.668571428567,0.9030475972869045,127.42857142857143,134.39285714285714,0.9481796439011427,6.572688024149897,0,0,0.13,0,CnC,2019-11-01,2021-10-31,2021-12-02\\n00180124CZ,12,0.2513144150354294,404,1.0,50075.91285714286,16403.1975,3.0528141148786916,265.0,97.5,2.717948717948718,8.589123060803518,0,0,0.18,0,CnC,2019-11-01,2021-10-31,2021-12-02\\n00180124CZ,7,0.1335314373280052,260,1.0,66504.73142857142,57711.12750000001,1.1523727625763578,190.42857142857142,181.85714285714286,1.0471327572663,8.589123060803518,0,0,0.18,0,CnC,2019-11-01,2021-10-31,2021-12-02\\n00180124ES,3,0.28768210225410284,133,1.0,13279.38833333333,14812.078333333333,0.8965243117469334,746.4285714285714,798.9285714285714,0.9342869915064819,4.828073718265662,0,0,0.11,0,CnC,2019-11-01,2021-10-31,2021-12-02\\n00180124ES,9,0.5389965106667944,694,1.0,33527.43,37733.224642857145,0.8885386901685516,423.14285714285717,438.4642857142857,0.9650566099209905,4.952299717083292,0,0,0.11,0,CnC,2019-11-01,2021-10-31,2021-12-02\\n00180124ES,6,0.0,593,1.0,30893.699999999997,35636.354166666664,0.8669152813869264,426.57142857142856,469.85714285714283,0.9078747339616905,4.828073718265662,0,0,0.11,0,CnC,2019-11-01,2021-10-31,2021-12-02\\n00180124ES,9,0.7731898148739162,308,1.0,37037.5,38794.82608695652,0.9547020501389136,927.2857142857143,857.7142857142857,1.0811125916055964,4.828073718265662,0,0,0.11,0,CnC,2019-11-01,2021-10-31,2021-12-02\\n00180124ES,1,0.875468777090329,434,1.0,36162.736,36366.82714285715,0.9943879860056133,544.8333333333334,557.8,0.9767539141866859,4.828073718265662,0,0,0.11,0,CnC,2019-11-01,2021-10-31,2021-12-02\\n00180124ES,7,0.4054651081081644,630,1.0,29111.02666666667,32243.171250000003,0.9028586686139524,427.85714285714283,479.85714285714283,0.8916344150044656,4.952299717083292,0,0,0.11,0,CnC,2019-11-01,2021-10-31,2021-12-02\\n00180124ES,9,0.3364722195913143,694,1.0,19198.162,22821.160869565214,0.84124388368004,423.14285714285717,438.4642857142857,0.9650566099209905,4.952299717083292,0,0,0.11,0,CnC,2019-11-01,2021-10-31,2021-12-02\\n00180124ES,1,0.4054651081081644,434,1.0,31896.291666666668,37141.04916666667,0.8587881167151555,544.8333333333334,557.8,0.9767539141866859,4.828073718265662,0,0,0.11,0,CnC,2019-11-01,2021-10-31,2021-12-02\\n00180124ES,2,0.7731898148739162,113,1.0,31367.036666666667,31377.7525,0.9996584894557591,776.2857142857143,809.4285714285714,0.9590540063536888,4.828073718265662,0,0,0.11,0,CnC,2019-11-01,2021-10-31,2021-12-02\\n00180124HR,11,0.5389965106667944,21,1.0,41544.75,39497.275238095244,1.0518383799784234,71.71428571428571,77.19047619047619,0.9290561381863047,7.155396301896734,0,0,0.3,0,CnC,2019-11-01,2021-10-31,2021-12-02\\n00180124HR,10,0.45198510206864073,707,1.0,28770.389999999996,28487.56107142857,1.0099281552345696,62.285714285714285,63.32142857142857,0.9836435420191766,7.0909098220799835,0,0,0.3,0,CnC,2019-11-01,2021-10-31,2021-12-02\\n00180124CZ,6,0.2513144150354294,596,1.0,33901.90714285715,37724.70607142857,0.8986659055385807,143.71428571428572,159.17857142857142,0.9028494503028944,8.589123060803518,0,0,0.18,0,CnC,2019-11-01,2021-10-31,2021-12-02\\n00180124CZ,11,0.1335314373280052,12,1.0,33472.26571428571,29867.02466666666,1.1207097488904783,317.57142857142856,280.6666666666667,1.1314896504920255,8.589123060803518,0,0,0.18,0,CnC,2019-11-01,2021-10-31,2021-12-02\\n00180124ES,4,0.0,167,1.0,0.0,0.0,0.0,6.5,3.25,2.0,4.828073718265662,0,0,0.11,0,CnC,2019-11-01,2021-10-31,2021-12-02\\n00180124ES,12,0.6931471805599453,64,1.0,46271.79499999999,45046.91192307693,1.0271912773735679,899.1666666666666,878.3846153846154,1.0236593980792246,4.826311734631628,0,0,0.11,0,CnC,2019-11-01,2021-10-31,2021-12-02\\n00180124ES,7,0.1541506457674607,637,1.0,33567.753333333334,31827.9584,1.0546624735230687,427.57142857142856,465.39285714285717,0.918732253856189,4.952299717083292,0,0,0.11,0,CnC,2019-11-01,2021-10-31,2021-12-02\\n00180124ES,12,0.5877866384111654,56,1.0,40936.755999999994,38399.83136363637,1.0660660358723875,872.1666666666666,912.2592592592592,0.9560513174454955,4.828073718265662,0,0,0.11,0,CnC,2019-11-01,2021-10-31,2021-12-02\\n00180124ES,12,0.8472979285067953,428,1.0,42786.52333333334,40796.538846153846,1.0487782675555846,599.8333333333334,549.5,1.091598422808614,4.828073718265662,0,0,0.11,0,CnC,2019-11-01,2021-10-31,2021-12-02\\n00180124ES,4,0.6061357602214821,526,1.0,40787.40833333333,40469.68391304349,1.0078509241874123,350.7142857142857,350.0357142857143,1.0019385776961536,4.828073718265662,0,0,0.11,0,CnC,2019-11-01,2021-10-31,2021-12-02\\n00180124ES,11,0.4054651081081644,393,1.0,16567.54333333333,14826.395200000003,1.1174357023299453,402.14285714285717,390.60714285714283,1.0295327786413095,4.826017768621304,0,0,0.11,0,CnC,2019-11-01,2021-10-31,2021-12-02\\n00180124ES,10,0.5389965106667944,337,1.0,30253.454285714288,32928.82392857142,0.9187529548987083,788.7142857142857,785.4642857142857,1.0041376801709634,4.828073718265662,0,0,0.11,0,CnC,2019-11-01,2021-10-31,2021-12-02\\n00180124ES,12,0.0,414,1.0,29702.31428571429,33612.77214285714,0.8836615486362425,584.2857142857143,500.67857142857144,1.166987659604822,4.828073718265662,0,0,0.11,0,CnC,2019-11-01,2021-10-31,2021-12-02\\n00180124CZ,6,0.0,603,1.0,34532.93571428572,36890.673928571436,0.9360885025074136,137.57142857142858,152.21428571428572,0.9038010323791648,8.589123060803518,0,0,0.18,0,CnC,2019-11-01,2021-10-31,2021-12-02\\n00180124CZ,2,0.0,106,1.0,33716.98428571429,32390.044642857138,1.0409675150957156,228.57142857142858,209.25,1.092336576207544,8.589123060803518,0,0,0.18,0,CnC,2019-11-01,2021-10-31,2021-12-02\\n00180124CZ,6,0.0,222,1.0,24292.907142857144,26182.651785714286,0.9278245512210409,207.42857142857142,227.46428571428572,0.9119170984455958,8.589123060803518,0,0,0.18,0,CnC,2019-11-01,2021-10-31,2021-12-02\\n00180124CZ,7,0.35667496778059,257,1.0,26520.845714285715,22953.01357142857,1.1554406845861105,190.42857142857142,181.85714285714286,1.0471327572663,8.589123060803518,0,0,0.18,0,CnC,2019-11-01,2021-10-31,2021-12-02\\n00180124ES,4,0.0,180,1.0,20.75,10.375,2.0,1.7142857142857142,2.473684210526316,0.6930091185410333,4.828073718265662,0,0,0.11,0,CnC,2019-11-01,2021-10-31,2021-12-02\\n00180124ES,6,0.1541506457674607,588,1.0,17842.858333333334,17773.760833333334,1.0038876127932594,499.14285714285717,471.4642857142857,1.0587076736610863,4.828073718265662,0,0,0.11,0,CnC,2019-11-01,2021-10-31,2021-12-02\\n00180124ES,7,0.4054651081081644,245,1.0,50395.615,50305.64478260871,1.0017884716075123,1047.857142857143,1043.7857142857142,1.0039006364196263,4.828073718265662,0,0,0.11,0,CnC,2019-11-01,2021-10-31,2021-12-02\\n00180124ES,5,0.1541506457674607,567,1.0,36490.55333333334,38479.479999999996,0.9483120180764746,432.14285714285717,442.89285714285717,0.9757277638900089,4.826712480388514,0,0,0.11,0,CnC,2019-11-01,2021-10-31,2021-12-02\\n00180124ES,3,0.1541506457674607,505,1.0,24811.99166666667,24833.858333333337,0.9991194817022324,348.14285714285717,371.14285714285717,0.9380292532717475,4.828073718265662,0,0,0.11,0,CnC,2019-11-01,2021-10-31,2021-12-02\\n00180124ES,12,0.6931471805599453,50,1.0,34531.37857142858,38375.489285714284,0.8998290110214511,863.4285714285714,961.0,0.8984688568455478,4.8270901496687095,0,0,0.11,0,CnC,2019-11-01,2021-10-31,2021-12-02\\n00180124ES,9,0.45198510206864073,316,1.0,43822.782857142854,43239.623199999995,1.0134866960899618,762.4285714285714,835.2142857142857,0.9128538441802788,4.827925111992579,0,0,0.11,0,CnC,2019-11-01,2021-10-31,2021-12-02\\n00180124ES,10,0.28768210225410284,364,1.0,44156.693333333336,48863.217826086955,0.9036796039608977,616.2857142857143,614.1071428571429,1.003547542890375,4.828073718265662,0,0,0.11,0,CnC,2019-11-01,2021-10-31,2021-12-02\\n00180124ES,12,0.5389965106667944,50,1.0,28247.627142857145,32070.104999999992,0.8808086890534705,863.4285714285714,961.0,0.8984688568455478,4.828073718265662,0,0,0.11,0,CnC,2019-11-01,2021-10-31,2021-12-02\\n00180124RO,3,0.1335314373280052,511,1.0,30812.318571428572,31836.116785714283,0.9678416114258911,56.42857142857143,58.67857142857143,0.9616555082166768,6.572688024149897,0,0,0.13,0,CnC,2019-11-01,2021-10-31,2021-12-02\\n00180124CZ,5,0.0,547,1.0,1316.857142857143,1473.7777777777778,0.8935249009133207,2.4285714285714284,7.37037037037037,0.3295046661880833,8.589123060803518,0,0,0.18,0,CnC,2019-11-01,2021-10-31,2021-12-02\\n00180124ES,10,0.0,707,1.0,18060.833333333332,18234.11125,0.9904970462069178,505.42857142857144,458.2857142857143,1.10286783042394,4.952299717083292,0,0,0.11,0,CnC,2019-11-01,2021-10-31,2021-12-02\\n00180124ES,8,0.9162907318741551,294,1.0,45503.61333333334,45870.061666666676,0.9920111654526153,784.4285714285714,798.8571428571429,0.9819384835479256,4.827553438582839,0,0,0.11,0,CnC,2019-11-01,2021-10-31,2021-12-02\\n00180124ES,12,0.7884573820386862,63,1.0,43170.038,39403.888636363634,1.0955781140889937,899.1666666666666,878.3846153846154,1.0236593980792246,4.828073718265662,0,0,0.11,0,CnC,2019-11-01,2021-10-31,2021-12-02\\n00180124ES,11,0.9808291934070796,29,1.0,34060.043333333335,32733.10166666667,1.0405382196951394,1072.857142857143,916.7142857142857,1.17032881408758,4.82739333094814,0,0,0.11,0,CnC,2019-11-01,2021-10-31,2021-12-02\\n00180124ES,2,0.4054651081081644,477,1.0,27382.349999999995,14565.202500000001,1.8799841608793282,361.0,306.7142857142857,1.176991150442478,4.828073718265662,0,0,0.11,0,CnC,2019-11-01,2021-10-31,2021-12-02\\n00180124ES,10,0.4054651081081644,701,1.0,32323.10666666667,36975.751304347825,0.8741703826546976,470.2857142857143,447.89285714285717,1.049996013077107,4.947269370787332,0,0,0.11,0,CnC,2019-11-01,2021-10-31,2021-12-02\\n00180124ES,3,0.9162907318741551,133,1.0,33324.32333333333,36520.49083333333,0.9124828985846278,746.4285714285714,798.9285714285714,0.9342869915064819,4.828073718265662,0,0,0.11,0,CnC,2019-11-01,2021-10-31,2021-12-02\\n00180124ES,4,0.0,158,1.0,0.0,20188.302499999998,0.0,0.0,262.0,0.0,4.828073718265662,0,0,0.11,0,CnC,2019-11-01,2021-10-31,2021-12-02\\n00180124ES,12,0.5108256714497054,427,1.0,45830.694,38759.728749999995,1.1824307207000258,599.8333333333334,549.5,1.091598422808614,4.828073718265662,0,0,0.11,0,CnC,2019-11-01,2021-10-31,2021-12-02\\n00180124ES,12,0.45198510206864073,49,1.0,19144.73285714286,20604.421538461538,0.9291565318349787,863.4285714285714,961.0,0.8984688568455478,4.828073718265662,0,0,0.11,0,CnC,2019-11-01,2021-10-31,2021-12-02\\n00180124ES,9,0.7731898148739162,315,1.0,29553.241666666665,27522.460434782606,1.0737863257791291,762.4285714285714,835.2142857142857,0.9128538441802788,4.828073718265662,0,0,0.11,0,CnC,2019-11-01,2021-10-31,2021-12-02\\n00180124ES,7,0.1541506457674607,609,1.0,23971.28,21731.635652173914,1.1030591706796835,485.42857142857144,466.89285714285717,1.039700145337719,4.82607123453707,0,0,0.11,0,CnC,2019-11-01,2021-10-31,2021-12-02\\n00180124ES,4,0.0,174,1.0,110.6,110.6,1.0,2.2,2.8461538461538463,0.772972972972973,4.828073718265662,0,0,0.11,0,CnC,2019-11-01,2021-10-31,2021-12-02\\n00180124ES,5,0.1541506457674607,567,1.0,36121.59333333334,27148.0452173913,1.3305412247579982,432.14285714285717,442.89285714285717,0.9757277638900089,4.828073718265662,0,0,0.11,0,CnC,2019-11-01,2021-10-31,2021-12-02\\n00180124ES,3,0.6931471805599453,494,1.0,34387.11857142857,33711.75935714286,1.020033342286617,332.57142857142856,362.7142857142857,0.9168964159117762,4.828073718265662,0,0,0.11,0,CnC,2019-11-01,2021-10-31,2021-12-02\\n00180124ES,6,0.6931471805599453,239,1.0,42655.13333333333,41052.508333333324,1.0390384184807224,1134.857142857143,940.1481481481482,1.2071045878168476,4.827313236968718,0,0,0.11,0,CnC,2019-11-01,2021-10-31,2021-12-02\\n00180124ES,3,1.2039727804840779,134,1.0,34627.545,42255.33304347827,0.8194834238880635,746.4285714285714,798.9285714285714,0.9342869915064819,4.828073718265662,0,0,0.11,0,CnC,2019-11-01,2021-10-31,2021-12-02\\n00180124ES,11,0.5108256714497054,393,1.0,20931.493333333336,28438.477499999994,0.7360272128960962,402.14285714285717,390.60714285714283,1.0295327786413095,4.828073718265662,0,0,0.11,0,CnC,2019-11-01,2021-10-31,2021-12-02\\n00180124ES,2,0.9808291934070796,112,1.0,37100.848333333335,37501.86749999999,0.9893066880824892,776.2857142857143,809.4285714285714,0.9590540063536888,4.828073718265662,0,0,0.11,0,CnC,2019-11-01,2021-10-31,2021-12-02\\n00180124ES,12,0.5389965106667944,399,1.0,42017.98285714286,44040.8496,0.9540683987427631,500.42857142857144,418.14285714285717,1.1967885206696276,4.769703507506976,0,0,0.11,0,CnC,2019-11-01,2021-10-31,2021-12-02\\n00180124ES,7,1.252762968495368,630,1.0,42748.241666666676,42836.5216,0.9979391432815748,427.85714285714283,479.85714285714283,0.8916344150044656,4.952299717083292,0,0,0.11,0,CnC,2019-11-01,2021-10-31,2021-12-02\\n00180124ES,7,0.22314355131420976,630,1.0,35871.045,35472.27799999999,1.0112416518612086,427.85714285714283,479.85714285714283,0.8916344150044656,4.952299717083292,0,0,0.11,0,CnC,2019-11-01,2021-10-31,2021-12-02\\n00180124HR,5,0.0,546,1.0,27534.22,29613.86851851852,0.9297745069267783,56.285714285714285,45.44444444444444,1.2385609500523926,7.155396301896734,0,0,0.3,0,CnC,2019-11-01,2021-10-31,2021-12-02\\n00180124RO,2,0.35667496778059,91,1.0,29842.901428571437,33272.69928571429,0.8969185569318854,113.28571428571429,139.35714285714286,0.8129164531009739,6.572688024149897,0,0,0.13,0,CnC,2019-11-01,2021-10-31,2021-12-02\\n00180124RO,4,0.2513144150354294,525,1.0,29753.39285714286,29425.19499999999,1.0111536340589373,52.0,49.25,1.0558375634517767,6.572688024149897,0,0,0.13,0,CnC,2019-11-01,2021-10-31,2021-12-02\\n00180124RO,4,0.2513144150354294,516,1.0,15336.917142857144,19030.785714285717,0.80590036444708,35.714285714285715,51.214285714285715,0.697350069735007,6.572688024149897,0,0,0.13,0,CnC,2019-11-01,2021-10-31,2021-12-02\\n00180124ES,6,0.6931471805599453,225,1.0,30266.513333333332,22667.18504347826,1.3352568161983365,983.0,471.55555555555554,2.084590009425071,4.819205734696535,0,0,0.11,0,CnC,2019-11-01,2021-10-31,2021-12-02\\n00180124ES,4,0.3364722195913143,519,1.0,34151.752,26356.418260869566,1.2957660506816242,346.0,345.2857142857143,1.002068680182044,4.828073718265662,0,0,0.11,0,CnC,2019-11-01,2021-10-31,2021-12-02\\n00180124ES,10,0.0,722,1.0,18464.548333333336,20588.50681818182,0.896837662701561,452.42857142857144,480.67857142857144,0.9412289174530054,4.952299717083292,0,0,0.11,0,CnC,2019-11-01,2021-10-31,2021-12-02\\n00180124ES,9,1.1895840979719114,309,1.0,49280.17142857144,42478.256785714286,1.1601269721865017,927.2857142857143,857.7142857142857,1.0811125916055964,4.827822161420548,0,0,0.11,0,CnC,2019-11-01,2021-10-31,2021-12-02\\n00180124ES,11,0.9162907318741551,7,1.0,54513.025,54513.025,1.0,874.0,859.75,1.0165745856353592,4.828073718265662,0,0,0.11,0,CnC,2019-11-01,2021-10-31,2021-12-02\\n00180124ES,9,0.28768210225410284,672,1.0,44680.51666666667,42872.61,1.0421692699993461,432.57142857142856,431.82142857142856,1.0017368290463982,4.952299717083292,0,0,0.11,0,CnC,2019-11-01,2021-10-31,2021-12-02\\n00180124ES,10,0.6061357602214821,337,1.0,23851.430000000004,25796.022608695654,0.9246165721672092,788.7142857142857,785.4642857142857,1.0041376801709634,4.82607123453707,0,0,0.11,0,CnC,2019-11-01,2021-10-31,2021-12-02\\n00180124ES,10,0.7731898148739162,365,1.0,32326.776666666672,37661.2424,0.8583566182794509,616.2857142857143,614.1071428571429,1.003547542890375,4.828073718265662,0,0,0.11,0,CnC,2019-11-01,2021-10-31,2021-12-02\\n00180124ES,10,0.0,715,1.0,20784.022000000004,18937.08739130435,1.0975300251053253,494.57142857142856,473.35714285714283,1.0448166591217747,4.952299717083292,0,0,0.11,0,CnC,2019-11-01,2021-10-31,2021-12-02\\n00180124ES,2,0.5389965106667944,99,1.0,30383.278571428567,28516.70142857143,1.0654555768847438,805.1428571428571,785.9285714285714,1.024447877851495,4.825555664853898,0,0,0.11,0,CnC,2019-11-01,2021-10-31,2021-12-02\\n00180124ES,11,0.5108256714497054,392,1.0,13860.168333333333,14095.423333333334,0.9833098308268854,402.14285714285717,390.60714285714283,1.0295327786413095,4.828073718265662,0,0,0.11,0,CnC,2019-11-01,2021-10-31,2021-12-02\\n00180124RO,1,0.6190392450860042,434,1.0,38642.454999999994,42371.29041666666,0.9119961799605721,75.16666666666667,98.0,0.7670068027210885,6.572688024149897,0,0,0.13,0,CnC,2019-11-01,2021-10-31,2021-12-02\\n00180124CZ,7,0.0,246,1.0,48951.05857142857,56159.75962962964,0.8716393890261989,151.85714285714286,189.53571428571428,0.8012059543998493,8.589123060803518,0,0,0.18,0,CnC,2019-11-01,2021-10-31,2021-12-02\\n00180124ES,1,0.5389965106667944,77,1.0,28795.135714285712,40139.347499999996,0.7173792676696031,802.0,810.72,0.989244128675745,4.828073718265662,0,0,0.11,0,CnC,2019-11-01,2021-10-31,2021-12-02\\n00180124ES,8,0.0,645,1.0,24844.0,23908.165416666667,1.0391428855800433,492.7142857142857,454.07142857142856,1.0851030360232814,4.952299717083292,0,0,0.11,0,CnC,2019-11-01,2021-10-31,2021-12-02\\n00180124ES,1,0.8472979285067953,442,1.0,6250.717999999999,31080.49304347826,0.20111386235913048,266.14285714285717,468.72,0.5678077682685978,4.828073718265662,0,0,0.11,0,CnC,2019-11-01,2021-10-31,2021-12-02\\n00180124ES,7,0.6061357602214821,260,1.0,38542.823333333334,40050.29359999999,0.9623605688956384,924.7142857142857,1015.8928571428571,0.9102478467217437,4.828073718265662,0,0,0.11,0,CnC,2019-11-01,2021-10-31,2021-12-02\\n00180124ES,7,0.28768210225410284,638,1.0,33040.006666666675,32899.7632,1.0042627500330055,427.57142857142856,465.39285714285717,0.918732253856189,4.952299717083292,0,0,0.11,0,CnC,2019-11-01,2021-10-31,2021-12-02\\n00180124ES,11,0.9808291934070796,379,1.0,31207.389999999996,40702.44541666666,0.7667202714857355,396.85714285714283,486.39285714285717,0.8159189367794991,4.805918150359899,0,0,0.11,0,CnC,2019-11-01,2021-10-31,2021-12-02\\n00180124ES,7,0.0,617,1.0,20482.251666666667,20915.28083333333,0.979296038618017,538.0,476.60714285714283,1.128812289246909,4.892114490933978,0,0,0.11,0,CnC,2019-11-01,2021-10-31,2021-12-02\\n00180124ES,3,1.0414539309266488,127,1.0,32097.046666666673,32832.10125,0.9776117106323395,915.5714285714286,823.2857142857143,1.1120943952802358,4.828073718265662,0,0,0.11,0,CnC,2019-11-01,2021-10-31,2021-12-02\\n00180124ES,5,0.0,204,1.0,611.1666666666666,213.23809523809524,2.866123269316659,48.142857142857146,24.11111111111111,1.9967083607636604,4.828073718265662,0,0,0.11,0,CnC,2019-11-01,2021-10-31,2021-12-02\\n00180124ES,2,0.1541506457674607,484,1.0,17243.209999999995,15216.260833333334,1.1332094125401917,441.14285714285717,337.5357142857143,1.3069516453285368,4.828073718265662,0,0,0.11,0,CnC,2019-11-01,2021-10-31,2021-12-02\\n00180124RO,12,0.35667496778059,49,1.0,46681.83714285715,41458.31,1.1259946954629156,185.57142857142858,175.78571428571428,1.0556684274685089,6.572688024149897,0,0,0.13,0,CnC,2019-11-01,2021-10-31,2021-12-02\\n00180124CZ,1,0.0,432,1.0,44.42857142857143,19061.046666666665,0.002330856862454813,6.428571428571429,147.25,0.043657530924084406,8.589123060803518,0,0,0.18,0,CnC,2019-11-01,2021-10-31,2021-12-02\\n00180124CZ,12,0.35667496778059,43,1.0,85908.88857142857,82521.48071428572,1.0410488012069377,335.42857142857144,364.7142857142857,0.9197023110066589,8.587488638662084,0,0,0.18,0,CnC,2019-11-01,2021-10-31,2021-12-02\\n00180124ES,5,0.0,558,1.0,21814.871999999996,20784.241363636364,1.049587118352407,464.0,410.5,1.130328867235079,4.828073718265662,0,0,0.11,0,CnC,2019-11-01,2021-10-31,2021-12-02\\n00180124ES,6,0.2513144150354294,582,1.0,39790.23857142857,36395.44214285714,1.093275317696276,472.42857142857144,469.57142857142856,1.0060845756008518,4.828073718265662,0,0,0.11,0,CnC,2019-11-01,2021-10-31,2021-12-02\\n00180124ES,3,0.9162907318741551,126,1.0,33577.62333333333,31650.91583333333,1.0608736729813952,915.5714285714286,823.2857142857143,1.1120943952802358,4.828073718265662,0,0,0.11,0,CnC,2019-11-01,2021-10-31,2021-12-02\\n00180124ES,8,1.0986122886681096,287,1.0,46808.579999999994,45395.04625000001,1.0311385022545272,852.4285714285714,794.8571428571429,1.072429906542056,4.828073718265662,0,0,0.11,0,CnC,2019-11-01,2021-10-31,2021-12-02\\n00180124ES,11,0.6931471805599453,385,1.0,21235.588333333333,20391.90958333333,1.0413732096325867,373.14285714285717,444.14285714285717,0.8401415246059827,4.828073718265662,0,0,0.11,0,CnC,2019-11-01,2021-10-31,2021-12-02\\n00180124ES,2,0.28768210225410284,469,1.0,10367.53,14282.353750000004,0.7258978583974646,252.42857142857142,297.10714285714283,0.8496213487197981,4.828073718265662,0,0,0.11,0,CnC,2019-11-01,2021-10-31,2021-12-02\\n00180124ES,8,0.4054651081081644,659,1.0,35577.681666666664,34520.4272,1.0306269230256415,412.7142857142857,448.10714285714283,0.9210169761696023,4.952299717083292,0,0,0.11,0,CnC,2019-11-01,2021-10-31,2021-12-02\\n00180124ES,8,0.875468777090329,644,1.0,52399.79499999999,46390.76416666667,1.1295307577117044,492.7142857142857,454.07142857142856,1.0851030360232814,4.952299717083292,0,0,0.11,0,CnC,2019-11-01,2021-10-31,2021-12-02\\n00180124ES,9,0.4054651081081644,694,1.0,18997.63,20883.16,0.9097105035827912,423.14285714285717,438.4642857142857,0.9650566099209905,3.8664676282559545,0,0,0.11,0,CnC,2019-11-01,2021-10-31,2021-12-02\\n00180124ES,3,0.5108256714497054,505,1.0,20342.35333333333,18697.213043478263,1.0879885299498635,348.14285714285717,371.14285714285717,0.9380292532717475,4.828073718265662,0,0,0.11,0,CnC,2019-11-01,2021-10-31,2021-12-02\\n00180124CZ,2,0.0,470,1.0,486.2857142857143,524.6428571428571,0.9268890401633765,8.142857142857142,6.642857142857143,1.225806451612903,8.589123060803518,0,0,0.18,0,CnC,2019-11-01,2021-10-31,2021-12-02\\n00180124CZ,10,0.0,358,1.0,31699.727142857144,39021.555555555555,0.8123645172916232,181.28571428571428,197.03703703703704,0.9200590762620837,8.589123060803518,0,0,0.18,0,CnC,2019-11-01,2021-10-31,2021-12-02\\n00180124ES,12,0.5108256714497054,399,1.0,25479.206666666665,21840.934166666673,1.1665804435028548,500.42857142857144,418.14285714285717,1.1967885206696276,4.828073718265662,0,0,0.11,0,CnC,2019-11-01,2021-10-31,2021-12-02\\n00180124ES,11,0.6931471805599453,1,1.0,47172.689999999995,47172.689999999995,1.0,760.0,760.0,1.0,4.828073718265662,0,0,0.11,0,CnC,2019-11-01,2021-10-31,2021-12-02\\n00180124RO,6,0.1335314373280052,229,1.0,21772.021428571432,24221.537499999995,0.8988703309429237,135.85714285714286,136.78571428571428,0.9932114882506529,6.572688024149897,0,0,0.13,0,CnC,2019-11-01,2021-10-31,2021-12-02\\n00180124CZ,3,0.0,141,1.0,1230.7142857142858,37314.57035714285,0.032982137377837964,8.0,159.60714285714286,0.05012307003803983,8.589123060803518,0,0,0.18,0,CnC,2019-11-01,2021-10-31,2021-12-02\\n00180124CZ,5,0.0,197,1.0,45320.94285714285,12603.874074074074,3.5957946414560866,169.28571428571428,47.18518518518518,3.5876878223817,8.589123060803518,0,0,0.18,0,CnC,2019-11-01,2021-10-31,2021-12-02\\n00180124ES,11,0.5389965106667944,22,1.0,40690.48428571429,43357.33863636363,0.9384912811873406,839.8571428571429,859.9090909090909,0.976681316357815,4.828073718265662,0,0,0.11,0,CnC,2019-11-01,2021-10-31,2021-12-02\\n00180124ES,9,0.9162907318741551,329,1.0,44297.545000000006,47642.361818181824,0.9297932199300554,764.4285714285714,820.1071428571429,0.9321081740190742,4.828073718265662,0,0,0.11,0,CnC,2019-11-01,2021-10-31,2021-12-02\\n00180124ES,1,0.1541506457674607,434,1.0,31056.95166666667,33361.43,0.930923874266381,544.8333333333334,557.8,0.9767539141866859,4.828073718265662,0,0,0.11,0,CnC,2019-11-01,2021-10-31,2021-12-02\\n00180124ES,8,0.6931471805599453,651,1.0,40689.74,37178.26208333333,1.0944497596147946,459.42857142857144,451.89285714285717,1.0166758871413895,4.952299717083292,0,0,0.11,0,CnC,2019-11-01,2021-10-31,2021-12-02\\n00180124ES,1,0.5108256714497054,442,1.0,36261.79499999999,35630.12208333334,1.0177286206089686,266.14285714285717,468.72,0.5678077682685978,4.828073718265662,0,0,0.11,0,CnC,2019-11-01,2021-10-31,2021-12-02\\n00180124ES,1,0.9808291934070796,442,1.0,39378.82833333333,41503.92208333334,0.9487977607096227,266.14285714285717,468.72,0.5678077682685978,4.827927004816089,0,0,0.11,0,CnC,2019-11-01,2021-10-31,2021-12-02\\n00180124ES,8,0.0,287,1.0,19864.680000000004,18594.247083333335,1.0683239773556306,837.7142857142857,792.3928571428571,1.0571956551133546,4.828073718265662,0,0,0.11,0,CnC,2019-11-01,2021-10-31,2021-12-02\\n00180124ES,1,0.47000364414689666,70,1.0,15440.628000000002,19637.43043478261,0.7862855606938746,671.0,827.92,0.8104647792057204,4.828073718265662,0,0,0.11,0,CnC,2019-11-01,2021-10-31,2021-12-02\\n00180124ES,2,0.28768210225410284,105,1.0,18189.205000000005,17775.54333333333,1.0232713936732927,843.8571428571429,796.3928571428571,1.0595990851607697,4.828073718265662,0,0,0.11,0,CnC,2019-11-01,2021-10-31,2021-12-02\\n00180124ES,6,0.5108256714497054,217,1.0,25198.88666666667,11912.59,2.115315533118043,582.1666666666666,221.88888888888889,2.6236855282924387,4.828073718265662,0,0,0.11,0,CnC,2019-11-01,2021-10-31,2021-12-02\\n00180124RO,5,0.0,544,1.0,19305.85714285714,19717.824285714287,0.9791068661081629,59.142857142857146,61.32142857142857,0.9644729178800234,6.572688024149897,0,0,0.13,0,CnC,2019-11-01,2021-10-31,2021-12-02\\n00180124CZ,9,0.2513144150354294,694,1.0,49127.84857142857,49092.201785714286,1.000726119106857,144.57142857142858,143.96428571428572,1.0042173158025305,8.663217245290781,0,0,0.18,0,CnC,2019-11-01,2021-10-31,2021-12-02\\n00180124ES,11,1.0986122886681096,1,1.0,61981.79000000001,61981.79000000001,1.0,760.0,760.0,1.0,4.828073718265662,0,0,0.11,0,CnC,2019-11-01,2021-10-31,2021-12-02\\n00180124ES,2,0.6190392450860042,92,1.0,33437.41142857143,33740.108518518515,0.9910285679792362,812.4285714285714,755.4074074074074,1.0754839884571206,4.828073718265662,0,0,0.11,0,CnC,2019-11-01,2021-10-31,2021-12-02\\n00180124ES,5,0.18232159653038368,561,1.0,20910.11666666667,19291.006666666664,1.0839308195770674,491.57142857142856,420.32142857142856,1.1695131277083863,4.828073718265662,0,0,0.11,0,CnC,2019-11-01,2021-10-31,2021-12-02\\n00180124ES,1,0.5389965106667944,78,1.0,29101.5,31949.71240000001,0.9108532695273961,802.0,810.72,0.989244128675745,4.828073718265662,0,0,0.11,0,CnC,2019-11-01,2021-10-31,2021-12-02\\n00180124ES,11,0.6931471805599453,1,1.0,55271.22000000001,55271.22000000001,1.0,760.0,760.0,1.0,4.828073718265662,0,0,0.11,0,CnC,2019-11-01,2021-10-31,2021-12-02\\n00180124HR,7,0.6190392450860042,259,1.0,29005.3,30627.95392857143,0.9470204920525974,51.42857142857143,71.78571428571429,0.7164179104477612,7.155396301896734,0,0,0.3,0,CnC,2019-11-01,2021-10-31,2021-12-02\\n00180124HR,4,0.5108256714497054,525,1.0,28833.39833333333,29575.642962962964,0.9749035167026079,44.5,44.74074074074074,0.9946192052980133,7.155396301896734,0,0,0.3,0,CnC,2019-11-01,2021-10-31,2021-12-02\\n00180124RO,1,0.1335314373280052,82,1.0,23015.27142857143,24038.756923076926,0.9574235266082763,166.28571428571428,157.26923076923077,1.0573315166125143,6.572688024149897,0,0,0.13,0,CnC,2019-11-01,2021-10-31,2021-12-02\\n00180124RO,10,0.2513144150354294,355,1.0,25868.981428571427,24702.200357142858,1.0472338923075404,72.14285714285714,84.96428571428571,0.8490962589323245,6.572688024149897,0,0,0.13,0,CnC,2019-11-01,2021-10-31,2021-12-02\\n00180124CZ,12,0.35667496778059,414,1.0,60134.74714285714,40171.73607142856,1.4969417063761632,235.28571428571428,154.89285714285714,1.5190223656905695,8.589123060803518,0,0,0.18,0,CnC,2019-11-01,2021-10-31,2021-12-02\\n00180124CZ,5,0.0,553,1.0,1323.0,1417.0,0.9336626676076217,10.857142857142858,6.25,1.7371428571428573,8.589123060803518,0,0,0.18,0,CnC,2019-11-01,2021-10-31,2021-12-02\\n00180124ES,8,0.0,644,1.0,21456.786666666663,17890.466249999994,1.1993419493282726,492.7142857142857,454.07142857142856,1.0851030360232814,4.952299717083292,0,0,0.11,0,CnC,2019-11-01,2021-10-31,2021-12-02\\n00180124ES,8,1.5404451090667406,280,1.0,48350.875,44969.52541666667,1.075192022864447,789.1428571428571,812.9285714285714,0.9707407081978736,4.828073718265662,0,0,0.11,0,CnC,2019-11-01,2021-10-31,2021-12-02\\n00180124ES,5,0.0,188,1.0,459.8,226.06666666666666,2.033913299911531,19.166666666666668,7.5,2.555555555555556,4.828073718265662,0,0,0.11,0,CnC,2019-11-01,2021-10-31,2021-12-02\\n00180124ES,11,0.6931471805599453,378,1.0,18746.476666666666,23760.14500416667,0.7889883106091824,396.85714285714283,486.39285714285717,0.8159189367794991,4.828073718265662,0,0,0.11,0,CnC,2019-11-01,2021-10-31,2021-12-02\\n00180124ES,12,0.5108256714497054,36,1.0,19672.716666666667,17742.17583333333,1.1088108274581694,1026.857142857143,954.9285714285714,1.0753235096117886,4.828073718265662,0,0,0.11,0,CnC,2019-11-01,2021-10-31,2021-12-02\\n00180124ES,9,0.5108256714497054,330,1.0,22601.09833333333,24279.499199999995,0.9308716850853883,764.4285714285714,820.1071428571429,0.9321081740190742,4.828073718265662,0,0,0.11,0,CnC,2019-11-01,2021-10-31,2021-12-02\\n00180124RO,9,0.35667496778059,329,1.0,37755.00428571428,37147.11714285714,1.01636431544659,87.42857142857143,73.32142857142857,1.192401363857769,6.572688024149897,0,0,0.13,0,CnC,2019-11-01,2021-10-31,2021-12-02\\n00180124RO,5,0.0,187,1.0,378.42857142857144,461.65384615384613,0.8197236405184419,3.857142857142857,2.3846153846153846,1.6175115207373272,6.572688024149897,0,0,0.13,0,CnC,2019-11-01,2021-10-31,2021-12-02\\n00180124CZ,3,0.1335314373280052,127,1.0,38938.67428571429,40249.90464285715,0.967422771090327,230.0,222.57142857142858,1.0333761232349166,8.589123060803518,0,0,0.18,0,CnC,2019-11-01,2021-10-31,2021-12-02\\n00180124CZ,5,0.35667496778059,197,1.0,33233.81285714286,9065.692222222222,3.6658880582421145,169.28571428571428,47.18518518518518,3.5876878223817,8.589123060803518,0,0,0.18,0,CnC,2019-11-01,2021-10-31,2021-12-02\\n00180124CZ,3,0.2513144150354294,131,1.0,19130.22857142857,20787.878214285716,0.9202588342220523,196.28571428571428,214.5,0.9150849150849151,8.589123060803518,0,0,0.18,0,CnC,2019-11-01,2021-10-31,2021-12-02\\n00180124CZ,10,0.0,698,1.0,20158.175,19610.501481481482,1.027927563149555,192.66666666666666,149.74074074074073,1.2866683156072223,8.663217245290781,0,0,0.18,0,CnC,2019-11-01,2021-10-31,2021-12-02\\n00180124ES,2,0.0,462,1.0,777.25,2518.0966666666664,0.30866567208831014,295.57142857142856,300.5357142857143,0.9834818775995247,4.758920809345562,0,0,0.11,0,CnC,2019-11-01,2021-10-31,2021-12-02\\n00180124ES,5,0.2513144150354294,561,1.0,37636.47857142857,36473.85111111111,1.0318756430949867,491.57142857142856,420.32142857142856,1.1695131277083863,4.828073718265662,0,0,0.11,0,CnC,2019-11-01,2021-10-31,2021-12-02\\n00180124ES,2,0.0,113,1.0,16356.928333333335,17482.364166666663,0.9356245057817079,776.2857142857143,809.4285714285714,0.9590540063536888,4.828073718265662,0,0,0.11,0,CnC,2019-11-01,2021-10-31,2021-12-02\\n00180124ES,7,1.2039727804840779,246,1.0,52150.950000000004,51678.491666666676,1.0091422624402575,1047.857142857143,1043.7857142857142,1.0039006364196263,4.828073718265662,0,0,0.11,0,CnC,2019-11-01,2021-10-31,2021-12-02\\n00180124ES,4,0.18232159653038368,526,1.0,410.2,6364.152727272726,0.06445476995580932,350.7142857142857,350.0357142857143,1.0019385776961536,4.828073718265662,0,0,0.11,0,CnC,2019-11-01,2021-10-31,2021-12-02\\n00180124ES,7,0.887303209025525,246,1.0,38877.991428571426,39839.721666666665,0.9758600161381171,1047.857142857143,1043.7857142857142,1.0039006364196263,4.828073718265662,0,0,0.11,0,CnC,2019-11-01,2021-10-31,2021-12-02\\n00180124ES,2,0.1541506457674607,484,1.0,24781.906666666666,18206.937499999996,1.3611243882540196,441.14285714285717,337.5357142857143,1.3069516453285368,4.828073718265662,0,0,0.11,0,CnC,2019-11-01,2021-10-31,2021-12-02\\n00180124ES,12,0.5108256714497054,64,1.0,34603.61000000001,32545.37576923077,1.0632419869834517,899.1666666666666,878.3846153846154,1.0236593980792246,4.827713581658988,0,0,0.11,0,CnC,2019-11-01,2021-10-31,2021-12-02\\n00180124ES,11,0.3364722195913143,370,1.0,33164.532857142854,30431.620714285713,1.0898050146101557,444.7142857142857,559.6071428571429,0.7946901525304741,4.828073718265662,0,0,0.11,0,CnC,2019-11-01,2021-10-31,2021-12-02\\n00180124HR,2,0.6190392450860042,91,1.0,26386.359999999997,27970.49749999999,0.9433639855708682,75.85714285714286,77.67857142857143,0.976551724137931,7.155396301896734,0,0,0.3,0,CnC,2019-11-01,2021-10-31,2021-12-02\\n00180124CZ,8,0.2513144150354294,645,1.0,42605.87714285714,38737.63428571429,1.0998574881628584,171.85714285714286,148.85714285714286,1.154510556621881,8.663217245290781,0,0,0.18,0,CnC,2019-11-01,2021-10-31,2021-12-02\\n00180124ES,8,0.9808291934070796,302,1.0,35150.52,36666.61020833333,0.9586520215607831,866.7142857142857,823.1785714285714,1.052887326999002,4.82716641189568,0,0,0.11,0,CnC,2019-11-01,2021-10-31,2021-12-02\\n00180124ES,4,0.6931471805599453,533,1.0,38466.38333333333,40925.63521739131,0.9399092556292706,363.7142857142857,353.92857142857144,1.027648839556004,4.828073718265662,0,0,0.11,0,CnC,2019-11-01,2021-10-31,2021-12-02\\n00180124ES,12,0.5389965106667944,42,1.0,48484.71428571428,51311.25384615385,0.9449138473810373,880.8571428571429,955.1071428571429,0.9222600306622294,4.828073718265662,0,0,0.11,0,CnC,2019-11-01,2021-10-31,2021-12-02\\n00180124ES,7,0.5108256714497054,245,1.0,56042.38666666668,54968.31652173915,1.0195398042525599,1047.857142857143,1043.7857142857142,1.0039006364196263,4.828073718265662,0,0,0.11,0,CnC,2019-11-01,2021-10-31,2021-12-02\\n00180124ES,11,0.0,372,1.0,8851.258333333333,15239.006333333336,0.5808290999900932,390.2857142857143,541.2142857142857,0.7211297347235054,4.828073718265662,0,0,0.11,0,CnC,2019-11-01,2021-10-31,2021-12-02\\n00180124ES,3,0.1335314373280052,512,1.0,27761.86285714286,30617.636785714298,0.9067278134965695,355.2857142857143,349.67857142857144,1.0160351343070166,4.825188864852871,0,0,0.11,0,CnC,2019-11-01,2021-10-31,2021-12-02\\n00180124ES,2,0.22314355131420976,475,1.0,12626.357499999998,9574.199,1.3187899583035612,327.7142857142857,300.2142857142857,1.0916012372115156,4.809986847961601,0,0,0.11,0,CnC,2019-11-01,2021-10-31,2021-12-02\\n00180124CZ,7,0.1335314373280052,610,1.0,33807.8,35546.44571428572,0.9510880573472645,137.71428571428572,139.53571428571428,0.9869465062707962,8.589123060803518,0,0,0.18,0,CnC,2019-11-01,2021-10-31,2021-12-02\\n00180124CZ,10,0.0,334,1.0,26836.233333333337,21361.213333333333,1.2563066018097602,238.0,193.85185185185185,1.227741688956821,8.589123060803518,0,0,0.18,0,CnC,2019-11-01,2021-10-31,2021-12-02\\n00180124CZ,6,0.1335314373280052,579,1.0,23820.56,30516.21518518518,0.7805869717278785,188.42857142857142,200.88888888888889,0.9379740834386852,8.589123060803518,0,0,0.18,0,CnC,2019-11-01,2021-10-31,2021-12-02\\n00180124CZ,7,0.0,614,1.0,19970.929999999997,19642.573214285716,1.016716587085213,141.85714285714286,140.21428571428572,1.011716760061131,8.589123060803518,0,0,0.18,0,CnC,2019-11-01,2021-10-31,2021-12-02\\n00180124CZ,7,0.1335314373280052,635,1.0,19631.195714285717,20495.757142857135,0.9578175413308543,131.57142857142858,141.35714285714286,0.9307731177362305,8.663217245290781,0,0,0.18,0,CnC,2019-11-01,2021-10-31,2021-12-02\\n00180124CZ,7,0.2513144150354294,610,1.0,48666.967142857146,48741.2142857143,0.9984767071574803,137.71428571428572,139.53571428571428,0.9869465062707962,8.600050084591047,0,0,0.18,0,CnC,2019-11-01,2021-10-31,2021-12-02\\n00180124CZ,9,0.2513144150354294,687,1.0,48821.72714285714,52070.57071428573,0.9376069144842836,125.42857142857143,150.96428571428572,0.8308493021055121,8.663217245290781,0,0,0.18,0,CnC,2019-11-01,2021-10-31,2021-12-02\\n00180124ES,9,0.1541506457674607,329,1.0,22515.89,23016.85719999999,0.9782347696018207,764.4285714285714,820.1071428571429,0.9321081740190742,4.828073718265662,0,0,0.11,0,CnC,2019-11-01,2021-10-31,2021-12-02\\n00180124ES,5,0.1541506457674607,561,1.0,23035.803333333333,22779.01304347826,1.0112731086884643,491.57142857142856,420.32142857142856,1.1695131277083863,4.828073718265662,0,0,0.11,0,CnC,2019-11-01,2021-10-31,2021-12-02\\n00180124ES,9,0.28768210225410284,687,1.0,21543.961666666666,23802.49625,0.9051135410499924,434.2857142857143,438.32142857142856,0.9907927971970993,4.952299717083292,0,0,0.11,0,CnC,2019-11-01,2021-10-31,2021-12-02\\n00180124ES,10,0.6931471805599453,344,1.0,35055.37,35086.096666666665,0.9991242495009183,681.8571428571429,765.3214285714286,0.8909421811563769,4.828073718265662,0,0,0.11,0,CnC,2019-11-01,2021-10-31,2021-12-02\\n00180124ES,6,1.0986122886681096,232,1.0,50660.88666666666,37477.87333333333,1.3517545730538605,1009.4285714285714,720.7777777777778,1.4004712722147592,4.828073718265662,0,0,0.11,0,CnC,2019-11-01,2021-10-31,2021-12-02\\n00180124ES,7,0.7731898148739162,266,1.0,40554.611666666664,48171.9144,0.8418725344796898,768.4285714285714,924.2857142857143,0.8313755795981452,4.828073718265662,0,0,0.11,0,CnC,2019-11-01,2021-10-31,2021-12-02\\n00180124ES,12,0.1541506457674607,406,1.0,38371.01,30862.579599999994,1.2432858982403405,515.8571428571429,447.89285714285717,1.1517422853042023,4.828073718265662,0,0,0.11,0,CnC,2019-11-01,2021-10-31,2021-12-02\\n00180124ES,8,0.6061357602214821,302,1.0,23100.815000000002,25186.667499999996,0.9171842602837397,866.7142857142857,823.1785714285714,1.052887326999002,4.828073718265662,0,0,0.11,0,CnC,2019-11-01,2021-10-31,2021-12-02\\n00180124ES,11,0.0,379,1.0,298.5,9807.967166666665,0.030434441197405453,396.85714285714283,486.39285714285717,0.8159189367794991,4.828073718265662,0,0,0.11,0,CnC,2019-11-01,2021-10-31,2021-12-02\\n00180124ES,4,0.28768210225410284,540,1.0,22010.42166666666,25569.063043478258,0.8608223785611386,341.85714285714283,350.57142857142856,0.9751426242868786,4.828073718265662,0,0,0.11,0,CnC,2019-11-01,2021-10-31,2021-12-02\\n00180124HR,11,0.1335314373280052,392,1.0,31988.13428571429,33251.769629629634,0.9619979520491638,46.0,58.25925925925926,0.789574062301335,7.155396301896734,0,0,0.3,0,CnC,2019-11-01,2021-10-31,2021-12-02\\n00180124RO,4,0.0,168,1.0,117.71428571428571,284.4642857142857,0.41381042059008155,0.14285714285714285,1.8571428571428572,0.07692307692307691,6.572688024149897,0,0,0.13,0,CnC,2019-11-01,2021-10-31,2021-12-02\\n00180124RO,8,0.1335314373280052,644,1.0,28508.04,27899.18178571429,1.0218235150751795,70.85714285714286,46.0,1.5403726708074534,6.512146466906872,0,0,0.13,0,CnC,2019-11-01,2021-10-31,2021-12-02\\n00180124RO,2,0.35667496778059,474,1.0,23318.440000000002,22446.287857142856,1.038855072536175,71.71428571428571,81.35714285714286,0.8814749780509218,6.572688024149897,0,0,0.13,0,CnC,2019-11-01,2021-10-31,2021-12-02\\n00180124RO,4,0.5389965106667944,530,1.0,19159.092857142856,18384.73607142857,1.0421195486682944,56.0,50.035714285714285,1.1192005710206996,6.572688024149897,0,0,0.13,0,CnC,2019-11-01,2021-10-31,2021-12-02\\n00180124CZ,12,0.4054651081081644,64,1.0,44567.573333333334,51612.814166666656,0.8634982233175074,312.8333333333333,334.0,0.936626746506986,8.589123060803518,0,0,0.18,0,CnC,2019-11-01,2021-10-31,2021-12-02\\n00180124CZ,2,0.1335314373280052,89,1.0,19755.002857142856,20808.04,0.9493927759242512,192.57142857142858,209.60714285714286,0.9187255069006646,8.589123060803518,0,0,0.18,0,CnC,2019-11-01,2021-10-31,2021-12-02\\n00180124CZ,10,0.0,705,1.0,18432.79142857143,20021.718888888885,0.9206398077440175,169.14285714285714,156.66666666666666,1.0796352583586626,8.663217245290781,0,0,0.18,0,CnC,2019-11-01,2021-10-31,2021-12-02\\n00180124ES,1,0.0,455,1.0,757.6666666666666,8075.244583333333,0.09382584748336054,317.85714285714283,356.1111111111111,0.8925785602852685,4.758920809345562,0,0,0.11,0,CnC,2019-11-01,2021-10-31,2021-12-02\\n00180124ES,5,0.1541506457674607,574,1.0,18210.579999999998,19345.634347826086,0.9413276232033385,482.14285714285717,451.60714285714283,1.0676156583629894,4.822523691864269,0,0,0.11,0,CnC,2019-11-01,2021-10-31,2021-12-02\\n00180124ES,7,1.0498221483405352,246,1.0,50905.91142857143,53874.847037037034,0.9448919900148475,1047.857142857143,1043.7857142857142,1.0039006364196263,4.828073718265662,0,0,0.11,0,CnC,2019-11-01,2021-10-31,2021-12-02\\n00180124ES,5,0.0,189,1.0,276.5,252.0,1.0972222222222223,19.166666666666668,7.5,2.555555555555556,4.828073718265662,0,0,0.11,0,CnC,2019-11-01,2021-10-31,2021-12-02\\n00180124ES,11,0.3364722195913143,371,1.0,9204.303333333333,21035.893478260867,0.43755228856075645,407.0,552.5357142857143,0.7366039687156615,4.828073718265662,0,0,0.11,0,CnC,2019-11-01,2021-10-31,2021-12-02\\n00180124ES,9,0.9162907318741551,322,1.0,50102.23500000001,53594.439999999995,0.9348401625243218,826.2857142857143,845.6785714285714,0.9770682883567718,4.828073718265662,0,0,0.11,0,CnC,2019-11-01,2021-10-31,2021-12-02\\n00180124ES,12,0.6061357602214821,64,1.0,16764.345,17896.245416666665,0.9367520733923032,899.1666666666666,878.3846153846154,1.0236593980792246,4.827553438582839,0,0,0.11,0,CnC,2019-11-01,2021-10-31,2021-12-02\\n00180124ES,8,0.0,645,1.0,38884.81333333333,34814.29416666667,1.1169209160806146,492.7142857142857,454.07142857142856,1.0851030360232814,4.952299717083292,0,0,0.11,0,CnC,2019-11-01,2021-10-31,2021-12-02\\n00180124ES,4,0.0,180,1.0,8.4,15.333333333333334,0.5478260869565218,1.7142857142857142,2.473684210526316,0.6930091185410333,4.828073718265662,0,0,0.11,0,CnC,2019-11-01,2021-10-31,2021-12-02\\n00180124HR,4,0.45198510206864073,539,1.0,31857.434285714284,29390.78481481481,1.083925947756799,48.285714285714285,41.48148148148148,1.164030612244898,7.155396301896734,0,0,0.3,0,CnC,2019-11-01,2021-10-31,2021-12-02\\n00180124RO,8,0.22314355131420976,278,1.0,29459.364285714284,30303.51892857143,0.9721433459643117,71.42857142857143,82.71428571428571,0.8635578583765113,6.572688024149897,0,0,0.13,0,CnC,2019-11-01,2021-10-31,2021-12-02\\n00180124RO,7,0.0,623,1.0,27758.305714285718,28182.993928571417,0.9849310468801841,40.42857142857143,42.464285714285715,0.9520605550883096,6.512146466906872,0,0,0.13,0,CnC,2019-11-01,2021-10-31,2021-12-02\\n00180124RO,1,0.35667496778059,68,1.0,22885.505714285715,28255.459565217396,0.8099498669084781,150.57142857142858,184.125,0.817767432838716,6.572688024149897,0,0,0.13,0,CnC,2019-11-01,2021-10-31,2021-12-02\\n00180124CZ,6,0.0,229,1.0,22955.112857142853,25371.665714285715,0.904753874485182,201.0,224.32142857142858,0.8960356631109695,8.589123060803518,0,0,0.18,0,CnC,2019-11-01,2021-10-31,2021-12-02\\n00180124ES,8,0.1541506457674607,651,1.0,19607.476666666666,18590.331250000003,1.0547136790080953,459.42857142857144,451.89285714285717,1.0166758871413895,4.952299717083292,0,0,0.11,0,CnC,2019-11-01,2021-10-31,2021-12-02\\n00180124ES,11,0.7621400202577524,15,1.0,42150.17428571429,44601.87066666667,0.9450315346798971,880.1428571428571,869.2666666666667,1.0125119148050354,4.828073718265662,0,0,0.11,0,CnC,2019-11-01,2021-10-31,2021-12-02\\n00180124ES,3,0.5108256714497054,133,1.0,29079.80666666666,29979.267916666675,0.96999722433182,746.4285714285714,798.9285714285714,0.9342869915064819,4.828073718265662,0,0,0.11,0,CnC,2019-11-01,2021-10-31,2021-12-02\\n00180124ES,5,0.28768210225410284,560,1.0,32488.795,22540.028260869567,1.4413821768095076,491.57142857142856,420.32142857142856,1.1695131277083863,4.828073718265662,0,0,0.11,0,CnC,2019-11-01,2021-10-31,2021-12-02\\n00180124ES,6,0.28768210225410284,218,1.0,29947.661666666667,16288.00838095238,1.8386325059660602,582.1666666666666,221.88888888888889,2.6236855282924387,4.828073718265662,0,0,0.11,0,CnC,2019-11-01,2021-10-31,2021-12-02\\n00180124ES,12,0.9162907318741551,57,1.0,39849.79666666666,43535.51416666667,0.9153399800013845,872.1666666666666,912.2592592592592,0.9560513174454955,4.828073718265662,0,0,0.11,0,CnC,2019-11-01,2021-10-31,2021-12-02\\n00180124ES,6,1.0414539309266488,603,1.0,42575.43166666667,44439.06541666667,0.9580631650885022,466.85714285714283,463.64285714285717,1.006932676012941,4.828073718265662,0,0,0.11,0,CnC,2019-11-01,2021-10-31,2021-12-02\\n00180124ES,3,0.6931471805599453,127,1.0,16721.906666666666,16496.437083333334,1.013667774574252,915.5714285714286,823.2857142857143,1.1120943952802358,4.828073718265662,0,0,0.11,0,CnC,2019-11-01,2021-10-31,2021-12-02\\n00180124ES,11,0.4054651081081644,15,1.0,19451.171666666665,21105.087692307694,0.9216342500086441,880.1428571428571,869.2666666666667,1.0125119148050354,4.828073718265662,0,0,0.11,0,CnC,2019-11-01,2021-10-31,2021-12-02\\n00180124HR,1,0.35667496778059,455,1.0,30200.641428571427,30433.024285714284,0.9923641221141488,42.857142857142854,52.0,0.8241758241758241,7.155396301896734,0,0,0.3,0,CnC,2019-11-01,2021-10-31,2021-12-02\\n00180124CZ,12,0.0,418,1.0,50151.70714285714,48425.50821428571,1.035646480382465,340.42857142857144,211.67857142857142,1.6082335076767338,8.589123060803518,0,0,0.18,0,CnC,2019-11-01,2021-10-31,2021-12-02\\n00180124CZ,5,0.1335314373280052,572,1.0,29422.719999999998,24363.14407407407,1.2076733573689307,165.42857142857142,155.07407407407408,1.0667712989184208,8.589123060803518,0,0,0.18,0,CnC,2019-11-01,2021-10-31,2021-12-02\\n00180124CZ,7,0.0,624,1.0,50047.18000000001,49908.073571428584,1.0027872530157338,129.71428571428572,136.71428571428572,0.9487983281086729,8.663217245290781,0,0,0.18,0,CnC,2019-11-01,2021-10-31,2021-12-02\\n00180124ES,1,0.6931471805599453,71,1.0,34716.06666666667,42199.8996,0.8226575654380627,671.0,827.92,0.8104647792057204,4.8255900607574835,0,0,0.11,0,CnC,2019-11-01,2021-10-31,2021-12-02\\n00180124ES,10,0.6061357602214821,728,1.0,32004.718333333334,33528.28043478261,0.9545588953059246,459.7142857142857,478.0357142857143,0.9616735151288757,4.952299717083292,0,0,0.11,0,CnC,2019-11-01,2021-10-31,2021-12-02\\n00180124ES,5,0.0,195,1.0,154.0,208.05,0.7402066810862773,22.428571428571427,11.84,1.8943050193050193,4.828073718265662,0,0,0.11,0,CnC,2019-11-01,2021-10-31,2021-12-02\\n00180124ES,10,0.4054651081081644,700,1.0,26467.304999999997,29335.50130434782,0.9022278066909077,470.2857142857143,447.89285714285717,1.049996013077107,4.952299717083292,0,0,0.11,0,CnC,2019-11-01,2021-10-31,2021-12-02\\n00180124ES,12,0.0,419,1.0,27452.925714285717,27953.32518518519,0.9820987496984911,572.2857142857143,527.5,1.0849018280297902,4.828073718265662,0,0,0.11,0,CnC,2019-11-01,2021-10-31,2021-12-02\\n00180124ES,7,0.5108256714497054,631,1.0,45337.261666666665,45105.489199999996,1.0051384536733208,427.85714285714283,479.85714285714283,0.8916344150044656,4.952299717083292,0,0,0.11,0,CnC,2019-11-01,2021-10-31,2021-12-02\\n00180124ES,2,1.0414539309266488,119,1.0,43478.90333333333,44743.72583333334,0.9717318467239101,757.4285714285714,795.6785714285714,0.9519278244086359,4.828073718265662,0,0,0.11,0,CnC,2019-11-01,2021-10-31,2021-12-02\\n00180124ES,2,0.2513144150354294,470,1.0,29634.578571428567,28341.036428571428,1.0456420196952672,252.42857142857142,297.10714285714283,0.8496213487197981,4.828073718265662,0,0,0.11,0,CnC,2019-11-01,2021-10-31,2021-12-02\\n00180124HR,8,0.35667496778059,280,1.0,26906.158571428572,27512.363928571423,0.9779660752265162,36.285714285714285,43.5,0.8341543513957307,7.155396301896734,0,0,0.3,0,CnC,2019-11-01,2021-10-31,2021-12-02\\n00180124RO,12,0.6190392450860042,399,1.0,42628.10428571429,40226.58964285714,1.059699682826172,127.57142857142857,123.78571428571429,1.0305828043854586,6.572688024149897,0,0,0.13,0,CnC,2019-11-01,2021-10-31,2021-12-02\\n00180124CZ,9,0.45198510206864073,309,1.0,41385.76714285714,42072.546785714294,0.9836762997411331,119.71428571428571,149.10714285714286,0.802874251497006,8.589123060803518,0,0,0.18,0,CnC,2019-11-01,2021-10-31,2021-12-02\\n00180124CZ,4,0.0,533,1.0,548.0,507.9259259259259,1.0788974770307715,7.285714285714286,10.88888888888889,0.6690962099125364,8.589123060803518,0,0,0.18,0,CnC,2019-11-01,2021-10-31,2021-12-02\\n00180124CZ,10,0.1335314373280052,715,1.0,38039.24857142857,37121.62148148148,1.0247194775800637,178.57142857142858,170.44444444444446,1.047681132426895,8.663217245290781,0,0,0.18,0,CnC,2019-11-01,2021-10-31,2021-12-02\\n00180124CZ,2,0.0,477,1.0,1450.4285714285713,1610.357142857143,0.9006875138611665,6.142857142857143,7.178571428571429,0.8557213930348259,8.584291208904885,0,0,0.18,0,CnC,2019-11-01,2021-10-31,2021-12-02\\n00180124ES,3,0.1335314373280052,504,1.0,26556.602857142854,14953.35227272727,1.7759631668397338,348.14285714285717,371.14285714285717,0.9380292532717475,4.828073718265662,0,0,0.11,0,CnC,2019-11-01,2021-10-31,2021-12-02\\n00180124ES,12,0.5389965106667944,36,1.0,49717.03428571429,43833.33142857143,1.1342289683532414,1026.857142857143,954.9285714285714,1.0753235096117886,4.828073718265662,0,0,0.11,0,CnC,2019-11-01,2021-10-31,2021-12-02\\n00180124ES,9,0.6931471805599453,330,1.0,49996.52142857144,53824.21999999999,0.9288852012824608,764.4285714285714,820.1071428571429,0.9321081740190742,4.825945211902994,0,0,0.11,0,CnC,2019-11-01,2021-10-31,2021-12-02\\n00180124ES,9,0.9808291934070796,315,1.0,36649.68166666667,37817.65608695652,0.9691156316614585,762.4285714285714,835.2142857142857,0.9128538441802788,4.828073718265662,0,0,0.11,0,CnC,2019-11-01,2021-10-31,2021-12-02\\n00180124ES,4,0.0,175,1.0,199.0,166.69230769230768,1.1938163359483158,2.2,2.8461538461538463,0.772972972972973,4.828073718265662,0,0,0.11,0,CnC,2019-11-01,2021-10-31,2021-12-02\\n00180124ES,3,0.1541506457674607,512,1.0,9374.041666666666,4305.174347826088,2.177389557150019,355.2857142857143,349.67857142857144,1.0160351343070166,4.828073718265662,0,0,0.11,0,CnC,2019-11-01,2021-10-31,2021-12-02\\n00180124ES,1,0.9985288803045109,85,1.0,34143.067142857144,35586.55576923077,0.9594372482761675,724.1428571428571,773.2307692307693,0.9365158319595247,4.828073718265662,0,0,0.11,0,CnC,2019-11-01,2021-10-31,2021-12-02\\n00180124ES,10,0.1541506457674607,358,1.0,36549.76833333333,39872.06333333333,0.9166761205151243,542.1428571428571,657.2142857142857,0.8249103358330616,4.828073718265662,0,0,0.11,0,CnC,2019-11-01,2021-10-31,2021-12-02\\n00180124ES,11,1.2039727804840779,392,1.0,42788.15,44831.31833333333,0.9544254238043637,402.14285714285717,390.60714285714283,1.0295327786413095,4.828073718265662,0,0,0.11,0,CnC,2019-11-01,2021-10-31,2021-12-02\\n00180124ES,6,0.4054651081081644,581,1.0,43047.99333333334,40910.331826086964,1.0522523629564713,472.42857142857144,469.57142857142856,1.0060845756008518,4.828073718265662,0,0,0.11,0,CnC,2019-11-01,2021-10-31,2021-12-02\\n00180124ES,9,0.7731898148739162,694,1.0,30587.47333333334,34375.78124999999,0.8897971833973474,423.14285714285717,438.4642857142857,0.9650566099209905,4.839491028235347,0,0,0.11,0,CnC,2019-11-01,2021-10-31,2021-12-02\\n00180124RO,1,0.0,70,1.0,35133.71571428571,42787.19333333334,0.8211269068428194,150.57142857142858,184.125,0.817767432838716,6.572688024149897,0,0,0.13,0,CnC,2019-11-01,2021-10-31,2021-12-02\\n00180124RO,9,0.1335314373280052,686,1.0,32191.05,33275.38678571428,0.967413247734815,61.57142857142857,58.714285714285715,1.048661800486618,6.512146466906872,0,0,0.13,0,CnC,2019-11-01,2021-10-31,2021-12-02\\n00180124CZ,4,0.0,519,1.0,369.57142857142856,574.1071428571429,0.6437325038880248,4.857142857142857,9.25,0.525096525096525,8.589123060803518,0,0,0.18,0,CnC,2019-11-01,2021-10-31,2021-12-02\\n00180124ES,7,0.0,630,1.0,16077.419999999998,16961.141600000003,0.9478972806877572,427.85714285714283,479.85714285714283,0.8916344150044656,4.8712199255685755,0,0,0.11,0,CnC,2019-11-01,2021-10-31,2021-12-02\\n00180124ES,6,1.1631508247068418,225,1.0,55645.80166666667,16551.0488,3.3620710287958713,983.0,471.55555555555554,2.084590009425071,4.828073718265662,0,0,0.11,0,CnC,2019-11-01,2021-10-31,2021-12-02\\n00180124ES,11,0.9985288803045109,379,1.0,46824.235714285714,40991.19107142858,1.1422999549511224,396.85714285714283,486.39285714285717,0.8159189367794991,4.828073718265662,0,0,0.11,0,CnC,2019-11-01,2021-10-31,2021-12-02\\n00180124ES,9,1.0414539309266488,322,1.0,37963.166666666664,37517.79541666667,1.0118709333811802,826.2857142857143,845.6785714285714,0.9770682883567718,4.828073718265662,0,0,0.11,0,CnC,2019-11-01,2021-10-31,2021-12-02\\n00180124ES,2,0.4054651081081644,99,1.0,17491.37833333333,17579.757083333334,0.9949726978830787,805.1428571428571,785.9285714285714,1.024447877851495,4.810652030710343,0,0,0.11,0,CnC,2019-11-01,2021-10-31,2021-12-02\\n00180124ES,5,0.5108256714497054,568,1.0,21073.706666666665,22462.124347826088,0.9381884963479069,432.14285714285717,442.89285714285717,0.9757277638900089,4.828073718265662,0,0,0.11,0,CnC,2019-11-01,2021-10-31,2021-12-02\\n00180124ES,12,0.6061357602214821,64,1.0,41388.23333333334,38664.843076923076,1.0704358285120186,899.1666666666666,878.3846153846154,1.0236593980792246,4.828073718265662,0,0,0.11,0,CnC,2019-11-01,2021-10-31,2021-12-02\\n00180124ES,4,0.0,159,1.0,0.0,14164.7925,0.0,0.0,262.0,0.0,4.828073718265662,0,0,0.11,0,CnC,2019-11-01,2021-10-31,2021-12-02\\n00180124ES,2,0.6061357602214821,98,1.0,17905.851666666666,17715.822399999997,1.0107265280931395,805.1428571428571,785.9285714285714,1.024447877851495,4.828073718265662,0,0,0.11,0,CnC,2019-11-01,2021-10-31,2021-12-02\\n00180124CZ,8,0.2513144150354294,281,1.0,42884.961428571434,44294.48571428571,0.9681783350007453,150.85714285714286,160.39285714285714,0.9405477621910489,8.589123060803518,0,0,0.18,0,CnC,2019-11-01,2021-10-31,2021-12-02\\n00180124CZ,9,0.0,323,1.0,34296.71571428572,37451.76857142857,0.915756906082406,200.28571428571428,156.46428571428572,1.2800730426843185,8.589123060803518,0,0,0.18,0,CnC,2019-11-01,2021-10-31,2021-12-02\\n00180124CZ,10,0.1335314373280052,708,1.0,32169.702857142856,34338.770000000004,0.9368332895191893,169.14285714285714,156.66666666666666,1.0796352583586626,8.663217245290781,0,0,0.18,0,CnC,2019-11-01,2021-10-31,2021-12-02\\n00180124CZ,11,0.0,369,1.0,163.0,12075.336666666668,0.01349858844515308,14.571428571428571,107.0,0.13618157543391188,8.589123060803518,0,0,0.18,0,CnC,2019-11-01,2021-10-31,2021-12-02\\n00180124CZ,9,0.0,684,1.0,20075.512857142858,21604.357142857138,0.9292344467551191,125.42857142857143,150.96428571428572,0.8308493021055121,8.663217245290781,0,0,0.18,0,CnC,2019-11-01,2021-10-31,2021-12-02\\n00180124CZ,11,0.1335314373280052,22,1.0,84360.48428571426,77996.95772727272,1.0815868559988264,384.2857142857143,313.6363636363636,1.2252587991718427,8.589123060803518,0,0,0.18,0,CnC,2019-11-01,2021-10-31,2021-12-02\\n00180124CZ,12,0.1335314373280052,50,1.0,81089.89857142858,81703.83428571429,0.9924858396224245,352.7142857142857,356.82142857142856,0.988489640676609,8.589123060803518,0,0,0.18,0,CnC,2019-11-01,2021-10-31,2021-12-02\\n00180124ES,2,0.0,469,1.0,824.4166666666666,749.0833333333334,1.1005673601067971,252.42857142857142,297.10714285714283,0.8496213487197981,4.81687521406868,0,0,0.11,0,CnC,2019-11-01,2021-10-31,2021-12-02\\n00180124ES,10,0.1541506457674607,721,1.0,15712.761666666667,18429.430416666666,0.8525907372838187,452.42857142857144,480.67857142857144,0.9412289174530054,4.952299717083292,0,0,0.11,0,CnC,2019-11-01,2021-10-31,2021-12-02\\n00180124ES,2,0.7621400202577524,484,1.0,42753.55428571429,39892.53392857143,1.0717181907337745,441.14285714285717,337.5357142857143,1.3069516453285368,4.8259795944105965,0,0,0.11,0,CnC,2019-11-01,2021-10-31,2021-12-02\\n00180124ES,6,0.0,218,1.0,2875.5,1752.590909090909,1.640713748476282,582.1666666666666,221.88888888888889,2.6236855282924387,4.828073718265662,0,0,0.11,0,CnC,2019-11-01,2021-10-31,2021-12-02\\n00180124ES,12,0.9808291934070796,42,1.0,41897.22166666667,42899.315416666665,0.97664079857063,880.8571428571429,955.1071428571429,0.9222600306622294,4.827460040487317,0,0,0.11,0,CnC,2019-11-01,2021-10-31,2021-12-02\\n00180124ES,5,0.18232159653038368,188,1.0,550.25,305.55555555555554,1.8008181818181819,19.166666666666668,7.5,2.555555555555556,4.828073718265662,0,0,0.11,0,CnC,2019-11-01,2021-10-31,2021-12-02\\n00180124ES,8,0.45198510206864073,302,1.0,33269.50428571428,32782.2282142857,1.0148640314576372,866.7142857142857,823.1785714285714,1.052887326999002,4.827730681616178,0,0,0.11,0,CnC,2019-11-01,2021-10-31,2021-12-02\\n00180124HR,5,0.28768210225410284,196,1.0,34452.195,19447.953999999998,1.7715074295218922,87.66666666666667,56.56,1.54997642621405,7.155396301896734,0,0,0.3,0,CnC,2019-11-01,2021-10-31,2021-12-02\\n00180124RO,8,0.35667496778059,292,1.0,21145.832857142854,19494.971785714286,1.0846813778226805,52.285714285714285,69.82142857142857,0.7488491048593351,6.572688024149897,0,0,0.13,0,CnC,2019-11-01,2021-10-31,2021-12-02\\n00180124CZ,9,0.2513144150354294,327,1.0,19623.31142857143,20585.780357142856,0.9532459342384138,187.57142857142858,165.85714285714286,1.1309216192937124,8.589123060803518,0,0,0.18,0,CnC,2019-11-01,2021-10-31,2021-12-02\\n00180124CZ,8,0.0,302,1.0,52165.014285714286,52830.19892857141,0.9874090074172069,150.0,156.89285714285714,0.9560664693831095,8.589123060803518,0,0,0.18,0,CnC,2019-11-01,2021-10-31,2021-12-02\\n00180124ES,1,0.8472979285067953,84,1.0,28738.228333333333,34416.30759999999,0.8350177673718066,724.1428571428571,773.2307692307693,0.9365158319595247,4.828073718265662,0,0,0.11,0,CnC,2019-11-01,2021-10-31,2021-12-02\\n00180124ES,11,0.22314355131420976,391,1.0,7676.23,9238.320416666667,0.8309118599254761,382.85714285714283,402.14285714285717,0.9520426287744226,4.828073718265662,0,0,0.11,0,CnC,2019-11-01,2021-10-31,2021-12-02\\n00180124ES,2,0.0,477,1.0,61.833333333333336,65.04166666666667,0.9506726457399103,361.0,306.7142857142857,1.176991150442478,4.828073718265662,0,0,0.11,0,CnC,2019-11-01,2021-10-31,2021-12-02\\n00180124ES,12,0.5108256714497054,428,1.0,44724.168333333335,39206.5936,1.1407307859903784,599.8333333333334,549.5,1.091598422808614,4.828073718265662,0,0,0.11,0,CnC,2019-11-01,2021-10-31,2021-12-02\\n00180124ES,10,0.5108256714497054,714,1.0,48174.932,40728.05130434783,1.182844021679407,494.57142857142856,473.35714285714283,1.0448166591217747,4.9481450210877975,0,0,0.11,0,CnC,2019-11-01,2021-10-31,2021-12-02\\n00180124ES,10,0.35667496778059,729,1.0,25784.125714285714,27788.168928571424,0.9278814225062099,459.7142857142857,478.0357142857143,0.9616735151288757,4.952299717083292,0,0,0.11,0,CnC,2019-11-01,2021-10-31,2021-12-02\\n00180124HR,10,0.45198510206864073,336,1.0,33717.90714285714,31013.66714285713,1.087195106194426,67.71428571428571,55.392857142857146,1.222437137330754,7.155396301896734,0,0,0.3,0,CnC,2019-11-01,2021-10-31,2021-12-02\\n00180124HR,11,0.5108256714497054,371,1.0,28351.565000000002,30282.194074074083,0.9362454031781344,64.16666666666667,60.44444444444444,1.0615808823529413,7.155396301896734,0,0,0.3,0,CnC,2019-11-01,2021-10-31,2021-12-02\\n00180124ES,8,0.3364722195913143,658,1.0,20856.129999999997,19738.438260869567,1.0566251354012235,412.7142857142857,448.10714285714283,0.9210169761696023,4.952299717083292,0,0,0.11,0,CnC,2019-11-01,2021-10-31,2021-12-02\\n00180124ES,11,1.0414539309266488,28,1.0,41231.74833333334,42292.55499999999,0.9749174135573825,1072.857142857143,916.7142857142857,1.17032881408758,4.828073718265662,0,0,0.11,0,CnC,2019-11-01,2021-10-31,2021-12-02\\n00180124ES,6,0.7731898148739162,218,1.0,31879.013333333332,15596.627727272727,2.0439683430789812,582.1666666666666,221.88888888888889,2.6236855282924387,4.828073718265662,0,0,0.11,0,CnC,2019-11-01,2021-10-31,2021-12-02\\n00180124ES,9,0.6061357602214821,323,1.0,22341.821666666667,24280.438000000002,0.9201572750321335,826.2857142857143,845.6785714285714,0.9770682883567718,4.828073718265662,0,0,0.11,0,CnC,2019-11-01,2021-10-31,2021-12-02\\n00180124ES,8,0.2513144150354294,274,1.0,29830.54,31614.528214285714,0.9435706203744777,769.4285714285714,854.6785714285714,0.9002548995027371,4.828073718265662,0,0,0.11,0,CnC,2019-11-01,2021-10-31,2021-12-02\\n00180124ES,10,0.5877866384111654,714,1.0,24153.791999999998,21666.96782608696,1.1147749050016547,494.57142857142856,473.35714285714283,1.0448166591217747,4.952299717083292,0,0,0.11,0,CnC,2019-11-01,2021-10-31,2021-12-02\\n00180124HR,5,0.5389965106667944,574,1.0,32839.24857142857,31644.81107142858,1.0377451297561522,54.857142857142854,60.75,0.9029982363315696,7.155396301896734,0,0,0.3,0,CnC,2019-11-01,2021-10-31,2021-12-02\\n00180124RO,10,0.0,705,1.0,20514.600000000002,20679.329999999998,0.9920340746049318,72.42857142857143,66.14285714285714,1.0950323974082075,6.512146466906872,0,0,0.13,0,CnC,2019-11-01,2021-10-31,2021-12-02\\n00180124CZ,5,0.0,203,1.0,44765.865714285705,18564.536666666667,2.411364555877364,223.42857142857142,93.85185185185185,2.380651708197091,8.589123060803518,0,0,0.18,0,CnC,2019-11-01,2021-10-31,2021-12-02\\n00180124CZ,12,0.35667496778059,43,1.0,54554.48571428571,54709.97357142856,0.9971579613918137,335.42857142857144,364.7142857142857,0.9197023110066589,8.589123060803518,0,0,0.18,0,CnC,2019-11-01,2021-10-31,2021-12-02\\n00180124ES,11,0.28768210225410284,28,1.0,18770.553333333333,17989.287499999995,1.0434295039941597,1072.857142857143,916.7142857142857,1.17032881408758,4.828073718265662,0,0,0.11,0,CnC,2019-11-01,2021-10-31,2021-12-02\\n00180124ES,12,0.6061357602214821,43,1.0,21804.89333333333,19304.180416666673,1.1295425582796363,880.8571428571429,955.1071428571429,0.9222600306622294,4.8263919088623215,0,0,0.11,0,CnC,2019-11-01,2021-10-31,2021-12-02\\n00180124ES,9,0.4054651081081644,673,1.0,31228.615,31022.611666666664,1.006640425233917,432.57142857142856,431.82142857142856,1.0017368290463982,4.952299717083292,0,0,0.11,0,CnC,2019-11-01,2021-10-31,2021-12-02\\n00180124ES,7,0.5108256714497054,610,1.0,33107.653333333335,33304.42666666667,0.9940916763016887,485.42857142857144,466.89285714285717,1.039700145337719,4.849879503270266,0,0,0.11,0,CnC,2019-11-01,2021-10-31,2021-12-02\\n00180124ES,12,1.3437347259690442,36,1.0,43541.895,44585.27333333334,0.9765981398043089,1026.857142857143,954.9285714285714,1.0753235096117886,4.828073718265662,0,0,0.11,0,CnC,2019-11-01,2021-10-31,2021-12-02\\n00180124ES,5,0.9162907318741551,575,1.0,44103.420000000006,45726.34375,0.9645079047020899,482.14285714285717,451.60714285714283,1.0676156583629894,4.828073718265662,0,0,0.11,0,CnC,2019-11-01,2021-10-31,2021-12-02\\n00180124ES,1,0.0,455,1.0,4.833333333333333,7993.90625,6.046272225588501E-4,317.85714285714283,356.1111111111111,0.8925785602852685,4.828073718265662,0,0,0.11,0,CnC,2019-11-01,2021-10-31,2021-12-02\\n00180124ES,7,0.2513144150354294,616,1.0,33471.287142857145,36699.92666666666,0.9120259952251626,538.0,476.60714285714283,1.128812289246909,4.914030035723833,0,0,0.11,0,CnC,2019-11-01,2021-10-31,2021-12-02\\n00180124ES,7,1.7047480922384253,265,1.0,38198.1,39605.36076923076,0.9644679219707031,792.1428571428571,965.3928571428571,0.8205393807110355,4.828073718265662,0,0,0.11,0,CnC,2019-11-01,2021-10-31,2021-12-02\\n00180124ES,6,0.8472979285067953,603,1.0,38303.840000000004,37450.2404347826,1.0227928994662636,466.85714285714283,463.64285714285717,1.006932676012941,4.828073718265662,0,0,0.11,0,CnC,2019-11-01,2021-10-31,2021-12-02\\n00180124ES,12,0.35667496778059,36,1.0,36862.13,32044.07571428571,1.1503570996609,1026.857142857143,954.9285714285714,1.0753235096117886,4.828073718265662,0,0,0.11,0,CnC,2019-11-01,2021-10-31,2021-12-02\\n00180124ES,12,0.6931471805599453,63,1.0,21309.034,21444.361199999992,0.9936893806843734,899.1666666666666,878.3846153846154,1.0236593980792246,4.828073718265662,0,0,0.11,0,CnC,2019-11-01,2021-10-31,2021-12-02\\n00180124HR,1,0.1335314373280052,448,1.0,30674.475714285712,27064.52999999999,1.133382907971641,52.142857142857146,47.57692307692308,1.0959695114909342,7.155396301896734,0,0,0.3,0,CnC,2019-11-01,2021-10-31,2021-12-02\\n00180124CZ,5,0.35667496778059,204,1.0,40297.08714285715,19289.64185185185,2.0890531536223693,213.57142857142858,101.85185185185185,2.096883116883117,8.589123060803518,0,0,0.18,0,CnC,2019-11-01,2021-10-31,2021-12-02\\n00180124CZ,4,0.0,169,1.0,1832.8333333333333,1174.5185185185185,1.560497603430878,10.0,5.888888888888889,1.6981132075471697,8.589123060803518,0,0,0.18,0,CnC,2019-11-01,2021-10-31,2021-12-02\\n00180124ES,12,0.5389965106667944,49,1.0,18222.7,19601.920000000002,0.9296385252056941,863.4285714285714,961.0,0.8984688568455478,4.828073718265662,0,0,0.11,0,CnC,2019-11-01,2021-10-31,2021-12-02\\n00180124ES,6,0.1335314373280052,602,1.0,17209.755714285715,17496.020416666663,0.9836382962774636,466.85714285714283,463.64285714285717,1.006932676012941,4.828073718265662,0,0,0.11,0,CnC,2019-11-01,2021-10-31,2021-12-02\\n00180124ES,4,0.18232159653038368,526,1.0,35700.956,33956.99636363637,1.0513578885979205,350.7142857142857,350.0357142857143,1.0019385776961536,4.827577443355209,0,0,0.11,0,CnC,2019-11-01,2021-10-31,2021-12-02\\n00180124ES,11,0.3364722195913143,370,1.0,44780.00833333333,46134.71695652175,0.970635809373988,407.0,552.5357142857143,0.7366039687156615,4.828073718265662,0,0,0.11,0,CnC,2019-11-01,2021-10-31,2021-12-02\\n00180124ES,3,0.0,504,1.0,8421.734999999999,2214.452608695652,3.8030775492461477,348.14285714285717,371.14285714285717,0.9380292532717475,4.828073718265662,0,0,0.11,0,CnC,2019-11-01,2021-10-31,2021-12-02\\n00180124ES,8,0.5108256714497054,666,1.0,38855.088333333326,39102.807916666665,0.9936649157303162,422.57142857142856,446.85714285714283,0.9456521739130435,4.952299717083292,0,0,0.11,0,CnC,2019-11-01,2021-10-31,2021-12-02\\n00180124ES,9,0.4054651081081644,309,1.0,25880.929999999997,22421.699565217394,1.1542804739096977,927.2857142857143,857.7142857142857,1.0811125916055964,4.828073718265662,0,0,0.11,0,CnC,2019-11-01,2021-10-31,2021-12-02\\n00180124HR,1,0.7621400202577524,84,1.0,27570.90428571428,30852.332592592593,0.8936408358418204,87.71428571428571,84.81481481481481,1.0341859014348098,7.155396301896734,0,0,0.3,0,CnC,2019-11-01,2021-10-31,2021-12-02\\n00180124HR,6,0.6931471805599453,581,1.0,32767.801428571427,32952.57357142857,0.994392785666448,65.85714285714286,61.142857142857146,1.0771028037383177,7.155396301896734,0,0,0.3,0,CnC,2019-11-01,2021-10-31,2021-12-02\\n00180124RO,6,0.1335314373280052,588,1.0,29968.64857142857,32629.55035714286,0.918451165995556,52.57142857142857,52.75,0.996614759647935,6.572688024149897,0,0,0.13,0,CnC,2019-11-01,2021-10-31,2021-12-02\\n00180124RO,1,0.1335314373280052,446,1.0,22200.40571428571,23482.620800000004,0.9453972750045729,66.71428571428571,76.32,0.8741389637616053,6.572688024149897,0,0,0.13,0,CnC,2019-11-01,2021-10-31,2021-12-02\\n00180124ES,11,0.8472979285067953,22,1.0,32121.420000000002,34690.46578947368,0.9259437505087286,839.8571428571429,859.9090909090909,0.976681316357815,4.828073718265662,0,0,0.11,0,CnC,2019-11-01,2021-10-31,2021-12-02\\n00180124ES,5,0.4054651081081644,561,1.0,47190.96166666667,43383.29041666666,1.0877681525174772,491.57142857142856,420.32142857142856,1.1695131277083863,4.828073718265662,0,0,0.11,0,CnC,2019-11-01,2021-10-31,2021-12-02\\n00180124ES,7,0.6061357602214821,610,1.0,44067.72666666666,42933.049999999996,1.0264289787626704,485.42857142857144,466.89285714285717,1.039700145337719,4.892114490933978,0,0,0.11,0,CnC,2019-11-01,2021-10-31,2021-12-02\\n00180124ES,4,0.0,180,1.0,172.6,93.66666666666667,1.8427046263345195,1.7142857142857142,2.473684210526316,0.6930091185410333,4.828073718265662,0,0,0.11,0,CnC,2019-11-01,2021-10-31,2021-12-02\\n00180124ES,5,0.6931471805599453,553,1.0,42005.57,23486.940434782602,1.7884649606294627,400.57142857142856,388.35714285714283,1.0314511679234872,4.828073718265662,0,0,0.11,0,CnC,2019-11-01,2021-10-31,2021-12-02\\n00180124ES,3,0.0,487,1.0,25887.62166666667,19509.340416666666,1.3269347458077614,429.42857142857144,345.9642857142857,1.2412511613502633,4.828073718265662,0,0,0.11,0,CnC,2019-11-01,2021-10-31,2021-12-02\\n00180124CZ,1,0.0,449,1.0,420.0,283.38461538461536,1.4820846905537461,4.0,7.846153846153846,0.5098039215686275,8.589123060803518,0,0,0.18,0,CnC,2019-11-01,2021-10-31,2021-12-02\\n00180124CZ,7,0.35667496778059,243,1.0,19135.571428571428,23262.21214285714,0.8226032550583185,151.85714285714286,189.53571428571428,0.8012059543998493,8.589123060803518,0,0,0.18,0,CnC,2019-11-01,2021-10-31,2021-12-02\\n00180124ES,10,0.2513144150354294,364,1.0,16213.95,19699.547599999998,0.8230620483893754,616.2857142857143,614.1071428571429,1.003547542890375,4.828073718265662,0,0,0.11,0,CnC,2019-11-01,2021-10-31,2021-12-02\\n00180124ES,2,0.887303209025525,113,1.0,36557.81285714285,39167.04357142856,0.9333819845368906,776.2857142857143,809.4285714285714,0.9590540063536888,4.828073718265662,0,0,0.11,0,CnC,2019-11-01,2021-10-31,2021-12-02\\n00180124ES,6,0.0,587,1.0,34418.23333333333,37349.15083333334,0.9215265291283616,500.0,474.2857142857143,1.0542168674698795,4.828073718265662,0,0,0.11,0,CnC,2019-11-01,2021-10-31,2021-12-02\\n00180124ES,5,0.0,182,1.0,134.75,109.2,1.233974358974359,2.0,2.6315789473684212,0.7599999999999999,4.828073718265662,0,0,0.11,0,CnC,2019-11-01,2021-10-31,2021-12-02\\n00180124ES,9,1.1526795350350776,329,1.0,37022.68833333333,37168.25916666668,0.9960834637780427,764.4285714285714,820.1071428571429,0.9321081740190742,4.828073718265662,0,0,0.11,0,CnC,2019-11-01,2021-10-31,2021-12-02\\n00180124ES,10,1.252762968495368,358,1.0,44835.15333333333,47812.33249999999,0.9377319822941778,542.1428571428571,657.2142857142857,0.8249103358330616,4.826538847687514,0,0,0.11,0,CnC,2019-11-01,2021-10-31,2021-12-02\\n00180124ES,6,0.5108256714497054,218,1.0,26590.98166666667,12602.031818181818,2.1100551125654223,582.1666666666666,221.88888888888889,2.6236855282924387,4.828073718265662,0,0,0.11,0,CnC,2019-11-01,2021-10-31,2021-12-02\\n00180124ES,9,0.5108256714497054,323,1.0,25383.361666666668,26858.834090909102,0.9450656562660761,826.2857142857143,845.6785714285714,0.9770682883567718,4.828073718265662,0,0,0.11,0,CnC,2019-11-01,2021-10-31,2021-12-02\\n00180124ES,9,0.8472979285067953,309,1.0,44109.668333333335,43792.571249999986,1.0072408875359962,927.2857142857143,857.7142857142857,1.0811125916055964,4.828073718265662,0,0,0.11,0,CnC,2019-11-01,2021-10-31,2021-12-02\\n00180124CZ,12,0.22314355131420976,57,1.0,47891.98,53266.508,0.89910117629637,330.5,340.2,0.9714873603762493,8.589123060803518,0,0,0.18,0,CnC,2019-11-01,2021-10-31,2021-12-02\\n00180124ES,11,1.0986122886681096,1,1.0,68293.81999999999,68293.81999999999,1.0,760.0,760.0,1.0,4.826111301513155,0,0,0.11,0,CnC,2019-11-01,2021-10-31,2021-12-02\\n00180124ES,4,0.0,539,1.0,10341.22,10974.71,0.942277290242749,341.85714285714283,350.57142857142856,0.9751426242868786,4.828073718265662,0,0,0.11,0,CnC,2019-11-01,2021-10-31,2021-12-02\\n00180124ES,2,0.1541506457674607,476,1.0,17394.90166666667,12599.135,1.3806425335284263,361.0,306.7142857142857,1.176991150442478,4.828073718265662,0,0,0.11,0,CnC,2019-11-01,2021-10-31,2021-12-02\\n00180124ES,12,0.4054651081081644,57,1.0,29953.33833333333,30805.22124999999,0.9723461516554872,872.1666666666666,912.2592592592592,0.9560513174454955,4.8263919088623215,0,0,0.11,0,CnC,2019-11-01,2021-10-31,2021-12-02\\n00180124ES,12,0.1541506457674607,421,1.0,39170.45,33501.18538461539,1.1692257915741715,497.8333333333333,525.5925925925926,0.9471848354590937,4.828073718265662,0,0,0.11,0,CnC,2019-11-01,2021-10-31,2021-12-02\\n00180124ES,6,0.47000364414689666,238,1.0,24231.218333333334,24151.279583333337,1.0033099177923128,1092.857142857143,897.925925925926,1.2170905319725647,4.828073718265662,0,0,0.11,0,CnC,2019-11-01,2021-10-31,2021-12-02\\n00180124HR,7,0.7621400202577524,630,1.0,30463.814285714285,28954.075357142854,1.0521425364115102,46.0,60.82142857142857,0.7563123899001761,7.0909098220799835,0,0,0.3,0,CnC,2019-11-01,2021-10-31,2021-12-02\\n00180124RO,12,0.0,63,1.0,45050.590000000004,44741.91416666668,1.0068990305641259,196.0,193.04166666666666,1.015324843513922,6.572688024149897,0,0,0.13,0,CnC,2019-11-01,2021-10-31,2021-12-02\\n00180124RO,7,0.0,255,1.0,30666.507142857143,30692.533928571433,0.9991520157385878,91.42857142857143,102.71428571428571,0.8901251738525731,6.572688024149897,0,0,0.13,0,CnC,2019-11-01,2021-10-31,2021-12-02\\n00180124RO,5,0.2513144150354294,201,1.0,23543.317142857148,7145.316785714286,3.2949297909264947,116.57142857142857,37.464285714285715,3.111534795042898,6.572688024149897,0,0,0.13,0,CnC,2019-11-01,2021-10-31,2021-12-02\\n00180124CZ,3,0.0,498,1.0,587.5714285714286,498.0,1.1798623063683304,3.5714285714285716,4.392857142857143,0.8130081300813008,8.589123060803518,0,0,0.18,0,CnC,2019-11-01,2021-10-31,2021-12-02\\n00180124CZ,10,0.0,701,1.0,37829.996666666666,35754.46555555555,1.0580495632884273,192.66666666666666,149.74074074074073,1.2866683156072223,8.663217245290781,0,0,0.18,0,CnC,2019-11-01,2021-10-31,2021-12-02\\n00180124CZ,4,0.0,169,1.0,445.6666666666667,394.6296296296296,1.1293289535429376,10.0,5.888888888888889,1.6981132075471697,8.589123060803518,0,0,0.18,0,CnC,2019-11-01,2021-10-31,2021-12-02\\n00180124ES,5,0.0,203,1.0,332.98,155.71666666666667,2.1383709729209035,48.142857142857146,24.11111111111111,1.9967083607636604,4.828073718265662,0,0,0.11,0,CnC,2019-11-01,2021-10-31,2021-12-02\\n00180124ES,8,0.9444615955953747,295,1.0,47020.63142857143,45406.50321428571,1.035548392851751,784.4285714285714,798.8571428571429,0.9819384835479256,4.828073718265662,0,0,0.11,0,CnC,2019-11-01,2021-10-31,2021-12-02\\n00180124ES,9,0.45198510206864073,673,1.0,40803.61,37424.806428571435,1.0902824595199259,432.57142857142856,431.82142857142856,1.0017368290463982,4.952299717083292,0,0,0.11,0,CnC,2019-11-01,2021-10-31,2021-12-02\\n00180124ES,11,0.6061357602214821,371,1.0,18380.861666666664,28892.363047826082,0.6361840890701973,390.2857142857143,541.2142857142857,0.7211297347235054,4.828073718265662,0,0,0.11,0,CnC,2019-11-01,2021-10-31,2021-12-02\\n00180124ES,7,0.887303209025525,260,1.0,38734.09428571428,41391.24535714287,0.9358040317825314,924.7142857142857,1015.8928571428571,0.9102478467217437,4.826998602872465,0,0,0.11,0,CnC,2019-11-01,2021-10-31,2021-12-02\\n00180124ES,12,1.2039727804840779,64,1.0,44455.27333333334,43763.85874999999,1.0157987573098395,899.1666666666666,878.3846153846154,1.0236593980792246,4.828073718265662,0,0,0.11,0,CnC,2019-11-01,2021-10-31,2021-12-02\\n00180124ES,10,0.9162907318741551,721,1.0,36067.57166666666,40167.16347826088,0.8979367359656107,452.42857142857144,480.67857142857144,0.9412289174530054,4.952299717083292,0,0,0.11,0,CnC,2019-11-01,2021-10-31,2021-12-02\\n00180124ES,5,0.28768210225410284,203,1.0,822.0,401.0,2.0498753117206983,48.142857142857146,24.11111111111111,1.9967083607636604,4.828073718265662,0,0,0.11,0,CnC,2019-11-01,2021-10-31,2021-12-02\\n00180124ES,12,0.45198510206864073,413,1.0,36829.782857142854,37378.77153846154,0.9853128217241225,584.2857142857143,500.67857142857144,1.166987659604822,4.822663527544682,0,0,0.11,0,CnC,2019-11-01,2021-10-31,2021-12-02\\n00180124ES,4,0.18232159653038368,519,1.0,29719.329999999998,25752.83173913044,1.1540218295622464,346.0,345.2857142857143,1.002068680182044,4.828073718265662,0,0,0.11,0,CnC,2019-11-01,2021-10-31,2021-12-02\\n00180124ES,6,0.9808291934070796,236,1.0,27783.35,28850.750869565218,0.9630026658789244,1065.0,862.1481481481482,1.2352865366440415,4.828073718265662,0,0,0.11,0,CnC,2019-11-01,2021-10-31,2021-12-02\\n00180124ES,9,0.8472979285067953,322,1.0,28761.455,27727.979583333334,1.0372719337000618,826.2857142857143,845.6785714285714,0.9770682883567718,4.828073718265662,0,0,0.11,0,CnC,2019-11-01,2021-10-31,2021-12-02\\n00180124CZ,11,0.1335314373280052,22,1.0,56216.92428571428,50154.33545454546,1.1208786593666127,384.2857142857143,313.6363636363636,1.2252587991718427,8.589123060803518,0,0,0.18,0,CnC,2019-11-01,2021-10-31,2021-12-02\\n00180124CZ,6,0.28768210225410284,214,1.0,24472.50428571429,25762.71518518519,0.9499194518047992,242.14285714285714,218.22222222222223,1.109615944137329,8.589123060803518,0,0,0.18,0,CnC,2019-11-01,2021-10-31,2021-12-02\\n00180124ES,10,0.9162907318741551,337,1.0,41476.100000000006,43180.12666666666,0.9605367839742328,788.7142857142857,785.4642857142857,1.0041376801709634,4.828073718265662,0,0,0.11,0,CnC,2019-11-01,2021-10-31,2021-12-02\\n00180124ES,6,1.252762968495368,224,1.0,50413.46166666667,15629.657727272726,3.2255000426975755,983.0,471.55555555555554,2.084590009425071,4.828073718265662,0,0,0.11,0,CnC,2019-11-01,2021-10-31,2021-12-02\\n00180124ES,10,0.0,721,1.0,36799.66166666667,40861.11708333334,0.9006034169750273,452.42857142857144,480.67857142857144,0.9412289174530054,4.948168735204699,0,0,0.11,0,CnC,2019-11-01,2021-10-31,2021-12-02\\n00180124ES,12,0.5389965106667944,50,1.0,19628.95285714286,22337.111666666668,0.8787596691131221,863.4285714285714,961.0,0.8984688568455478,4.828073718265662,0,0,0.11,0,CnC,2019-11-01,2021-10-31,2021-12-02\\n00180124HR,5,0.35667496778059,567,1.0,34657.82571428571,30318.553928571433,1.1431226501084888,76.14285714285714,61.107142857142854,1.2460549386323787,7.155396301896734,0,0,0.3,0,CnC,2019-11-01,2021-10-31,2021-12-02\\n00180124RO,3,0.0,133,1.0,25975.728571428568,30085.498928571436,0.8633969685229343,121.0,124.85714285714286,0.9691075514874141,6.572688024149897,0,0,0.13,0,CnC,2019-11-01,2021-10-31,2021-12-02\\n00180124CZ,11,0.2513144150354294,22,1.0,63562.27999999999,56949.35428571428,1.116119415175609,384.2857142857143,313.6363636363636,1.2252587991718427,8.589123060803518,0,0,0.18,0,CnC,2019-11-01,2021-10-31,2021-12-02\\n00180124ES,12,0.47000364414689666,406,1.0,43498.740000000005,26432.955833333337,1.6456252669686613,515.8571428571429,447.89285714285717,1.1517422853042023,4.826359803248671,0,0,0.11,0,CnC,2019-11-01,2021-10-31,2021-12-02\\n00180124ES,1,0.0,441,1.0,7477.5,27827.672173913048,0.2687073483282499,266.14285714285717,468.72,0.5678077682685978,4.828073718265662,0,0,0.11,0,CnC,2019-11-01,2021-10-31,2021-12-02\\n00180124ES,1,0.4054651081081644,71,1.0,26509.569999999996,34577.09434782609,0.7666800955953285,671.0,827.92,0.8104647792057204,4.828073718265662,0,0,0.11,0,CnC,2019-11-01,2021-10-31,2021-12-02\\n00180124ES,6,0.9808291934070796,596,1.0,40994.14000000001,44821.0625,0.9146177648064457,416.14285714285717,467.4642857142857,0.8902131560852625,4.828073718265662,0,0,0.11,0,CnC,2019-11-01,2021-10-31,2021-12-02\\n00180124ES,6,1.0414539309266488,239,1.0,53031.920000000006,38055.715652173916,1.3935336411672652,1134.857142857143,940.1481481481482,1.2071045878168476,4.828073718265662,0,0,0.11,0,CnC,2019-11-01,2021-10-31,2021-12-02\\n00180124ES,7,0.35667496778059,246,1.0,35901.490000000005,37255.764642857146,0.9636492592263359,1047.857142857143,1043.7857142857142,1.0039006364196263,4.828073718265662,0,0,0.11,0,CnC,2019-11-01,2021-10-31,2021-12-02\\n00180124ES,11,0.1541506457674607,28,1.0,20036.0,20715.777916666666,0.9671854989273776,1072.857142857143,916.7142857142857,1.17032881408758,4.828073718265662,0,0,0.11,0,CnC,2019-11-01,2021-10-31,2021-12-02\\n00180124HR,10,0.35667496778059,350,1.0,34997.49285714286,33347.54892857143,1.049477217414255,76.57142857142857,65.96428571428571,1.1608012994044397,7.155396301896734,0,0,0.3,0,CnC,2019-11-01,2021-10-31,2021-12-02\\n00180124RO,11,0.1335314373280052,383,1.0,25957.591428571428,24581.747142857144,1.0559701585781738,133.85714285714286,98.5,1.3589557650471356,6.572688024149897,0,0,0.13,0,CnC,2019-11-01,2021-10-31,2021-12-02\\n00180124CZ,4,0.0,526,1.0,451.5,534.7037037037037,0.8443928794070791,17.666666666666668,12.592592592592593,1.4029411764705881,8.589123060803518,0,0,0.18,0,CnC,2019-11-01,2021-10-31,2021-12-02\\n00180124CZ,10,0.28768210225410284,337,1.0,61559.07,48647.23074074076,1.2654177650537037,238.0,193.85185185185185,1.227741688956821,8.589123060803518,0,0,0.18,0,CnC,2019-11-01,2021-10-31,2021-12-02\\n00180124CZ,1,0.0,442,1.0,904.5714285714286,13939.491250000001,0.06489271468723283,14.428571428571429,82.83333333333333,0.1741879850531762,8.589123060803518,0,0,0.18,0,CnC,2019-11-01,2021-10-31,2021-12-02\\n00180124ES,7,0.28768210225410284,267,1.0,32724.353333333333,35203.24769230769,0.9295833617215941,768.4285714285714,924.2857142857143,0.8313755795981452,4.828073718265662,0,0,0.11,0,CnC,2019-11-01,2021-10-31,2021-12-02\\n00180124ES,10,0.6061357602214821,729,1.0,27193.33666666667,28728.33217391304,0.9465685826119682,459.7142857142857,478.0357142857143,0.9616735151288757,4.948854468754008,0,0,0.11,0,CnC,2019-11-01,2021-10-31,2021-12-02\\n00180124ES,9,0.1335314373280052,680,1.0,31908.941428571434,28987.75607142857,1.1007730763962822,463.85714285714283,432.92857142857144,1.0714403563768353,4.952299717083292,0,0,0.11,0,CnC,2019-11-01,2021-10-31,2021-12-02\\n00180124RO,2,0.1335314373280052,483,1.0,34803.91428571429,35504.123928571425,0.9802780757450642,69.28571428571429,74.57142857142857,0.9291187739463602,6.572688024149897,0,0,0.13,0,CnC,2019-11-01,2021-10-31,2021-12-02\\n00180124CZ,12,0.45198510206864073,414,1.0,60816.79714285714,41259.356785714284,1.4740122454820832,235.28571428571428,154.89285714285714,1.5190223656905695,8.589123060803518,0,0,0.18,0,CnC,2019-11-01,2021-10-31,2021-12-02\\n00180124CZ,4,0.0,526,1.0,1776.0,1511.4814814814815,1.1750061259495221,17.666666666666668,12.592592592592593,1.4029411764705881,8.589123060803518,0,0,0.18,0,CnC,2019-11-01,2021-10-31,2021-12-02\\n00180124ES,12,0.1541506457674607,63,1.0,20618.391666666666,20827.169583333332,0.9899756942088886,899.1666666666666,878.3846153846154,1.0236593980792246,4.828073718265662,0,0,0.11,0,CnC,2019-11-01,2021-10-31,2021-12-02\\n00180124ES,2,0.28768210225410284,463,1.0,469.6666666666667,9137.392499999998,0.05140051351265328,295.57142857142856,300.5357142857143,0.9834818775995247,4.828073718265662,0,0,0.11,0,CnC,2019-11-01,2021-10-31,2021-12-02\\n00180124ES,9,0.5877866384111654,679,1.0,31323.164999999997,30590.895416666663,1.023937500794252,449.0,430.5357142857143,1.0428867689755288,4.952299717083292,0,0,0.11,0,CnC,2019-11-01,2021-10-31,2021-12-02\\n00180124ES,11,0.8266785135798214,379,1.0,42930.75857142856,38214.86107142857,1.1234048055594226,396.85714285714283,486.39285714285717,0.8159189367794991,4.827822161420548,0,0,0.11,0,CnC,2019-11-01,2021-10-31,2021-12-02\\n00180124ES,4,0.5389965106667944,533,1.0,31858.817142857144,35232.37892857142,0.9042482543528018,363.7142857142857,353.92857142857144,1.027648839556004,4.827490522577458,0,0,0.11,0,CnC,2019-11-01,2021-10-31,2021-12-02\\n00180124ES,2,0.47000364414689666,120,1.0,31782.53,30945.854347826094,1.02703676049043,757.4285714285714,795.6785714285714,0.9519278244086359,4.782395440245047,0,0,0.11,0,CnC,2019-11-01,2021-10-31,2021-12-02\\n00180124ES,8,0.6931471805599453,281,1.0,51361.07,50190.690833333334,1.0233186502762655,789.1428571428571,812.9285714285714,0.9707407081978736,4.828073718265662,0,0,0.11,0,CnC,2019-11-01,2021-10-31,2021-12-02\\n00180124ES,3,0.6061357602214821,505,1.0,36718.57,41906.51708333333,0.8762019026058209,348.14285714285717,371.14285714285717,0.9380292532717475,4.828073718265662,0,0,0.11,0,CnC,2019-11-01,2021-10-31,2021-12-02\\n00180124ES,3,1.0414539309266488,126,1.0,47623.28166666667,44605.39333333333,1.0676574760989292,915.5714285714286,823.2857142857143,1.1120943952802358,4.828073718265662,0,0,0.11,0,CnC,2019-11-01,2021-10-31,2021-12-02\\n00180124ES,2,0.5108256714497054,99,1.0,31682.353333333336,29996.345600000004,1.0562071045525403,805.1428571428571,785.9285714285714,1.024447877851495,4.828073718265662,0,0,0.11,0,CnC,2019-11-01,2021-10-31,2021-12-02\\n00180124ES,9,0.28768210225410284,673,1.0,21805.815,20611.382500000003,1.0579501399287503,432.57142857142856,431.82142857142856,1.0017368290463982,4.952299717083292,0,0,0.11,0,CnC,2019-11-01,2021-10-31,2021-12-02\\n00180124ES,11,0.6061357602214821,7,1.0,23000.17333333333,23847.395714285718,0.9644731696868324,874.0,859.75,1.0165745856353592,4.828073718265662,0,0,0.11,0,CnC,2019-11-01,2021-10-31,2021-12-02\\n00180124ES,5,0.0,202,1.0,320.6,165.52631578947367,1.9368521462639112,37.142857142857146,20.185185185185187,1.8401048492791612,4.828073718265662,0,0,0.11,0,CnC,2019-11-01,2021-10-31,2021-12-02\\n00180124HR,9,0.6190392450860042,322,1.0,30649.41428571429,30492.803928571437,1.0051359775739126,55.42857142857143,45.392857142857146,1.221085759244689,7.155396301896734,0,0,0.3,0,CnC,2019-11-01,2021-10-31,2021-12-02\\n00180124RO,2,0.0,103,1.0,19956.737142857142,19684.66214285714,1.0138216748667301,119.14285714285714,129.71428571428572,0.9185022026431717,6.572688024149897,0,0,0.13,0,CnC,2019-11-01,2021-10-31,2021-12-02\\n00180124CZ,4,0.0,533,1.0,409.85714285714283,638.1851851851852,0.6422229039024349,7.285714285714286,10.88888888888889,0.6690962099125364,8.589123060803518,0,0,0.18,0,CnC,2019-11-01,2021-10-31,2021-12-02\\n00180124CZ,7,0.1335314373280052,638,1.0,49084.97142857143,51551.46928571429,0.9521546545361732,131.57142857142858,141.35714285714286,0.9307731177362305,8.663217245290781,0,0,0.18,0,CnC,2019-11-01,2021-10-31,2021-12-02\\n00180124CZ,9,0.1335314373280052,673,1.0,55100.887142857144,54843.19392857143,1.0046987273319883,163.42857142857142,164.10714285714286,0.9958650707290532,8.663217245290781,0,0,0.18,0,CnC,2019-11-01,2021-10-31,2021-12-02\\n00180124ES,3,0.0,511,1.0,24776.425,21409.05909090909,1.1572869641207535,355.2857142857143,349.67857142857144,1.0160351343070166,4.828073718265662,0,0,0.11,0,CnC,2019-11-01,2021-10-31,2021-12-02\\n00180124ES,7,1.2039727804840779,259,1.0,45106.496666666666,48349.35083333332,0.9329286927171947,924.7142857142857,1015.8928571428571,0.9102478467217437,4.828073718265662,0,0,0.11,0,CnC,2019-11-01,2021-10-31,2021-12-02\\n00180124ES,11,0.6061357602214821,29,1.0,19355.968333333334,19037.334999999995,1.0167372866702897,1072.857142857143,916.7142857142857,1.17032881408758,4.828073718265662,0,0,0.11,0,CnC,2019-11-01,2021-10-31,2021-12-02\\n00180124ES,2,0.5108256714497054,484,1.0,20268.695,8855.715416666668,2.2887699125757623,441.14285714285717,337.5357142857143,1.3069516453285368,4.828073718265662,0,0,0.11,0,CnC,2019-11-01,2021-10-31,2021-12-02\\n00180124ES,5,0.0,204,1.0,1211.0,543.55,2.22794591113973,48.142857142857146,24.11111111111111,1.9967083607636604,4.828073718265662,0,0,0.11,0,CnC,2019-11-01,2021-10-31,2021-12-02\\n00180124ES,6,1.0498221483405352,232,1.0,50925.23428571428,26570.892307692306,1.9165797556212052,1009.4285714285714,720.7777777777778,1.4004712722147592,4.827410497472745,0,0,0.11,0,CnC,2019-11-01,2021-10-31,2021-12-02\\n00180124ES,9,0.7731898148739162,330,1.0,46540.38666666666,44124.79458333333,1.054744551360376,764.4285714285714,820.1071428571429,0.9321081740190742,4.827406648775775,0,0,0.11,0,CnC,2019-11-01,2021-10-31,2021-12-02\\n00180124ES,2,0.7731898148739162,463,1.0,14076.873333333335,24394.540833333333,0.5770501453381869,295.57142857142856,300.5357142857143,0.9834818775995247,4.828073718265662,0,0,0.11,0,CnC,2019-11-01,2021-10-31,2021-12-02\\n00180124ES,7,1.427116431934088,245,1.0,55648.489166666666,56639.76326086955,0.9824986186888298,1047.857142857143,1043.7857142857142,1.0039006364196263,4.828073718265662,0,0,0.11,0,CnC,2019-11-01,2021-10-31,2021-12-02\\n00180124ES,2,0.0,463,1.0,14391.281666666668,11818.273750000002,1.2177143609206602,295.57142857142856,300.5357142857143,0.9834818775995247,4.828073718265662,0,0,0.11,0,CnC,2019-11-01,2021-10-31,2021-12-02\\n00180124ES,3,0.0,491,1.0,18091.116,16056.441304347827,1.1267201528087807,363.57142857142856,354.5357142857143,1.025486048151506,4.7673740710525685,0,0,0.11,0,CnC,2019-11-01,2021-10-31,2021-12-02\\n00180124HR,1,0.5389965106667944,77,1.0,26958.329999999998,34232.39200000001,0.7875093858471822,82.14285714285714,91.56,0.8971478499656743,7.155396301896734,0,0,0.3,0,CnC,2019-11-01,2021-10-31,2021-12-02\\n00180124RO,11,0.35667496778059,7,1.0,37682.60999999999,37289.942500000005,1.0105301181411044,87.42857142857143,85.625,1.0210636079249218,6.572688024149897,0,0,0.13,0,CnC,2019-11-01,2021-10-31,2021-12-02\\n00180124RO,12,0.3364722195913143,56,1.0,45786.164000000004,42611.63269230769,1.0744991709333256,217.2,187.0,1.1614973262032084,6.572688024149897,0,0,0.13,0,CnC,2019-11-01,2021-10-31,2021-12-02\\n00180124RO,7,0.0,616,1.0,27127.074285714287,29648.826071428553,0.9149459820217171,42.0,44.785714285714285,0.937799043062201,6.564260480366685,0,0,0.13,0,CnC,2019-11-01,2021-10-31,2021-12-02\\n00180124RO,4,0.0,166,1.0,273.7142857142857,631.1428571428571,0.43368039837030337,0.14285714285714285,1.8571428571428572,0.07692307692307691,6.572688024149897,0,0,0.13,0,CnC,2019-11-01,2021-10-31,2021-12-02\\n00180124RO,5,0.0,565,1.0,20084.797142857144,18941.241538461538,1.0603738462483325,51.42857142857143,46.69230769230769,1.1014356319133913,6.548906517540048,0,0,0.13,0,CnC,2019-11-01,2021-10-31,2021-12-02\\n00180124RO,10,0.1335314373280052,726,1.0,18597.01857142857,20689.2825,0.8988720885525425,69.85714285714286,71.39285714285714,0.9784892446223112,6.512146466906872,0,0,0.13,0,CnC,2019-11-01,2021-10-31,2021-12-02\\n00180124ES,4,0.0,539,1.0,20649.68,24567.089999999993,0.8405423678587902,341.85714285714283,350.57142857142856,0.9751426242868786,4.828073718265662,0,0,0.11,0,CnC,2019-11-01,2021-10-31,2021-12-02\\n00180124ES,2,0.7621400202577524,99,1.0,34898.19857142858,34419.15535714286,1.0139179247519303,805.1428571428571,785.9285714285714,1.024447877851495,4.827993678764813,0,0,0.11,0,CnC,2019-11-01,2021-10-31,2021-12-02\\n00180124ES,6,1.252762968495368,224,1.0,56015.13833333333,27022.82375,2.0728824956101537,983.0,471.55555555555554,2.084590009425071,4.81204881588613,0,0,0.11,0,CnC,2019-11-01,2021-10-31,2021-12-02\\n00180124ES,1,0.7731898148739162,455,1.0,25841.245,21340.132916666673,1.2109224015103464,317.85714285714283,356.1111111111111,0.8925785602852685,4.828073718265662,0,0,0.11,0,CnC,2019-11-01,2021-10-31,2021-12-02\\n00180124HR,3,0.45198510206864073,126,1.0,27552.284285714286,28110.580357142866,0.9801392904616173,81.0,89.39285714285714,0.9061126648022374,7.155396301896734,0,0,0.3,0,CnC,2019-11-01,2021-10-31,2021-12-02\\n00180124RO,3,0.0,502,1.0,21007.850000000002,21043.279642857142,0.9983163440557534,52.857142857142854,61.892857142857146,0.85401038661281,6.572688024149897,0,0,0.13,0,CnC,2019-11-01,2021-10-31,2021-12-02\\n00180124CZ,7,0.1335314373280052,631,1.0,39121.794285714284,37031.05821428572,1.0564589880021849,162.28571428571428,142.89285714285714,1.1357160709822545,8.663217245290781,0,0,0.18,0,CnC,2019-11-01,2021-10-31,2021-12-02\\n00180124CZ,7,0.2513144150354294,250,1.0,19490.379999999997,22061.580357142862,0.8834534826826044,187.28571428571428,184.5,1.0150987224157955,8.589123060803518,0,0,0.18,0,CnC,2019-11-01,2021-10-31,2021-12-02\\n00180124CZ,10,0.0,365,1.0,1124.4166666666667,40667.84,0.027648792428284042,9.166666666666666,146.1851851851852,0.06270585254623764,8.589123060803518,0,0,0.18,0,CnC,2019-11-01,2021-10-31,2021-12-02\\n00180124ES,12,0.18232159653038368,42,1.0,23125.542,19400.64956521739,1.191998336048542,880.8571428571429,955.1071428571429,0.9222600306622294,4.828073718265662,0,0,0.11,0,CnC,2019-11-01,2021-10-31,2021-12-02\\n00180124ES,9,0.6061357602214821,672,1.0,40926.23,39991.385416666664,1.023376148977918,432.57142857142856,431.82142857142856,1.0017368290463982,4.9392347413132365,0,0,0.11,0,CnC,2019-11-01,2021-10-31,2021-12-02\\n00180124ES,12,1.2809338189711108,427,1.0,45425.256,35936.28666666668,1.264049800730663,599.8333333333334,549.5,1.091598422808614,4.828073718265662,0,0,0.11,0,CnC,2019-11-01,2021-10-31,2021-12-02\\n00180124ES,6,0.8472979285067953,218,1.0,40020.53333333333,12591.281818181818,3.1784320223492784,582.1666666666666,221.88888888888889,2.6236855282924387,4.828073718265662,0,0,0.11,0,CnC,2019-11-01,2021-10-31,2021-12-02\\n00180124ES,1,0.4054651081081644,435,1.0,42742.24166666667,42591.889200000005,1.0035300727319385,544.8333333333334,557.8,0.9767539141866859,4.828073718265662,0,0,0.11,0,CnC,2019-11-01,2021-10-31,2021-12-02\\n00180124ES,1,0.0,441,1.0,3.3333333333333335,27547.682608695653,1.2100231372206747E-4,266.14285714285717,468.72,0.5678077682685978,4.828073718265662,0,0,0.11,0,CnC,2019-11-01,2021-10-31,2021-12-02\\n00180124ES,8,0.5108256714497054,651,1.0,23785.388333333336,25485.14416666667,0.9333040526583902,459.42857142857144,451.89285714285717,1.0166758871413895,4.952299717083292,0,0,0.11,0,CnC,2019-11-01,2021-10-31,2021-12-02\\n00180124HR,2,0.1335314373280052,469,1.0,31505.454285714284,30761.397857142852,1.024187991456918,61.57142857142857,53.607142857142854,1.1485676215856095,7.155396301896734,0,0,0.3,0,CnC,2019-11-01,2021-10-31,2021-12-02\\n00180124RO,2,0.1335314373280052,462,1.0,36212.77857142857,34013.80464285715,1.0646494548804672,86.42857142857143,81.39285714285714,1.0618692408951296,6.572688024149897,0,0,0.13,0,CnC,2019-11-01,2021-10-31,2021-12-02\\n00180124RO,10,0.2513144150354294,714,1.0,30660.049999999996,30271.53285714286,1.012834405997563,76.57142857142857,69.89285714285714,1.0955544200306593,6.512146466906872,0,0,0.13,0,CnC,2019-11-01,2021-10-31,2021-12-02\\n00180124RO,10,0.1335314373280052,712,1.0,23268.015714285717,21210.021785714285,1.0970293170541467,76.57142857142857,69.89285714285714,1.0955544200306593,6.512146466906872,0,0,0.13,0,CnC,2019-11-01,2021-10-31,2021-12-02\\n00180124CZ,9,0.0,680,1.0,30980.231428571427,39153.241428571426,0.7912558525988124,142.42857142857142,157.39285714285714,0.9049239845700022,8.663217245290781,0,0,0.18,0,CnC,2019-11-01,2021-10-31,2021-12-02\\n00180124CZ,6,0.0,218,1.0,41280.45714285714,40059.467142857146,1.0304794368743297,235.71428571428572,217.92857142857142,1.0816125860373649,8.589123060803518,0,0,0.18,0,CnC,2019-11-01,2021-10-31,2021-12-02\\n00180124CZ,5,0.1541506457674607,190,1.0,960.3333333333334,1309.8076923076924,0.7331865120148778,2.6666666666666665,5.730769230769231,0.465324384787472,8.589123060803518,0,0,0.18,0,CnC,2019-11-01,2021-10-31,2021-12-02\\n00180124CZ,3,0.0,505,1.0,1537.2857142857142,1381.5357142857142,1.1127368611534783,13.857142857142858,6.321428571428571,2.192090395480226,8.589123060803518,0,0,0.18,0,CnC,2019-11-01,2021-10-31,2021-12-02\\n00180124ES,6,0.3364722195913143,223,1.0,11962.613333333333,3738.5469565217386,3.1998028839694137,911.8571428571429,432.7037037037037,2.1073476724422546,4.828073718265662,0,0,0.11,0,CnC,2019-11-01,2021-10-31,2021-12-02\\n00180124ES,12,0.6931471805599453,407,1.0,55909.90571428571,45579.87071428571,1.2266358995345361,515.8571428571429,447.89285714285717,1.1517422853042023,4.826483511213765,0,0,0.11,0,CnC,2019-11-01,2021-10-31,2021-12-02\\n00180124ES,11,1.6094379124341003,0,1.0,0.0,0.0,0.0,760.0,760.0,1.0,4.828073718265662,0,0,0.11,0,CnC,2019-11-01,2021-10-31,2021-12-02\\n00180124ES,5,0.1541506457674607,210,1.0,3924.8333333333335,1698.05,2.3113767753207113,288.7142857142857,95.0,3.039097744360902,4.828073718265662,0,0,0.11,0,CnC,2019-11-01,2021-10-31,2021-12-02\\n00180124ES,4,0.5108256714497054,533,1.0,23066.51833333333,26120.339999999997,0.8830864503805591,363.7142857142857,353.92857142857144,1.027648839556004,4.828073718265662,0,0,0.11,0,CnC,2019-11-01,2021-10-31,2021-12-02\\n00180124ES,2,0.4054651081081644,463,1.0,8109.081666666666,21191.47958333333,0.38265764477551134,295.57142857142856,300.5357142857143,0.9834818775995247,4.828073718265662,0,0,0.11,0,CnC,2019-11-01,2021-10-31,2021-12-02\\n00180124ES,10,0.1541506457674607,708,1.0,17957.73,18756.618333333332,0.957407656373026,505.42857142857144,458.2857142857143,1.10286783042394,4.883811498390358,0,0,0.11,0,CnC,2019-11-01,2021-10-31,2021-12-02\\n00180124CZ,1,0.2513144150354294,85,1.0,32297.062857142857,36230.81666666668,0.8914251962434239,198.14285714285714,236.96296296296296,0.8361764837225919,8.589123060803518,0,0,0.18,0,CnC,2019-11-01,2021-10-31,2021-12-02\\n00180124CZ,7,0.2513144150354294,264,1.0,22001.902857142853,21787.175,1.0098556998391417,156.14285714285714,171.42857142857142,0.9108333333333334,8.589123060803518,0,0,0.18,0,CnC,2019-11-01,2021-10-31,2021-12-02\\n00180124ES,11,0.1541506457674607,385,1.0,5413.833333333333,13346.738333333333,0.4056296900503656,373.14285714285717,444.14285714285717,0.8401415246059827,4.828073718265662,0,0,0.11,0,CnC,2019-11-01,2021-10-31,2021-12-02\\n00180124ES,5,0.6931471805599453,553,1.0,37730.67999999999,22951.78,1.643910842644884,400.57142857142856,388.35714285714283,1.0314511679234872,4.828073718265662,0,0,0.11,0,CnC,2019-11-01,2021-10-31,2021-12-02\\n00180124ES,6,0.9162907318741551,231,1.0,39216.073333333334,34167.183750000004,1.1477701416738313,1009.4285714285714,720.7777777777778,1.4004712722147592,4.828073718265662,0,0,0.11,0,CnC,2019-11-01,2021-10-31,2021-12-02\\n00180124ES,10,0.2513144150354294,701,1.0,32615.62285714286,33723.60392857143,0.9671452353142523,470.2857142857143,447.89285714285717,1.049996013077107,4.952299717083292,0,0,0.11,0,CnC,2019-11-01,2021-10-31,2021-12-02\\n00180124ES,10,0.1335314373280052,722,1.0,29945.385714285716,32523.378214285713,0.9207341721079999,452.42857142857144,480.67857142857144,0.9412289174530054,4.952299717083292,0,0,0.11,0,CnC,2019-11-01,2021-10-31,2021-12-02\\n00180124ES,11,0.28768210225410284,22,1.0,15981.656666666664,17401.867368421055,0.9183874539618875,839.8571428571429,859.9090909090909,0.976681316357815,4.756359309615211,0,0,0.11,0,CnC,2019-11-01,2021-10-31,2021-12-02\\n00180124ES,11,0.1541506457674607,386,1.0,1122.5,5304.091666666666,0.2116290725241991,373.14285714285717,444.14285714285717,0.8401415246059827,4.828073718265662,0,0,0.11,0,CnC,2019-11-01,2021-10-31,2021-12-02\\n00180124ES,6,1.0414539309266488,232,1.0,30749.63333333333,30597.203043478257,1.0049818373803145,1009.4285714285714,720.7777777777778,1.4004712722147592,4.828073718265662,0,0,0.11,0,CnC,2019-11-01,2021-10-31,2021-12-02\\n00180124ES,6,0.5108256714497054,232,1.0,24591.52333333333,22758.232916666664,1.0805550423611352,1009.4285714285714,720.7777777777778,1.4004712722147592,4.828073718265662,0,0,0.11,0,CnC,2019-11-01,2021-10-31,2021-12-02\\n00180124ES,12,0.3364722195913143,407,1.0,24591.934,17761.96333333333,1.3845279116103724,515.8571428571429,447.89285714285717,1.1517422853042023,4.828073718265662,0,0,0.11,0,CnC,2019-11-01,2021-10-31,2021-12-02\\n00180124ES,1,0.0,442,1.0,8649.67857142857,15412.503600000002,0.561211779469013,266.14285714285717,468.72,0.5678077682685978,4.828073718265662,0,0,0.11,0,CnC,2019-11-01,2021-10-31,2021-12-02\\n00180124RO,10,0.45198510206864073,336,1.0,38864.24428571428,38057.185,1.021206489279601,88.57142857142857,78.39285714285714,1.1298405466970387,6.572688024149897,0,0,0.13,0,CnC,2019-11-01,2021-10-31,2021-12-02\\n00180124CZ,2,0.0,463,1.0,498.42857142857144,559.4642857142857,0.8909032875837856,5.285714285714286,8.214285714285714,0.6434782608695653,8.589123060803518,0,0,0.18,0,CnC,2019-11-01,2021-10-31,2021-12-02\\n00180124CZ,2,0.0,113,1.0,54334.17714285715,51538.88,1.0542366683726374,227.57142857142858,216.60714285714286,1.050618301731245,8.589123060803518,0,0,0.18,0,CnC,2019-11-01,2021-10-31,2021-12-02\\n00180124CZ,7,0.0,253,1.0,58110.11571428571,55246.28392857143,1.051837546022407,187.28571428571428,184.5,1.0150987224157955,8.589123060803518,0,0,0.18,0,CnC,2019-11-01,2021-10-31,2021-12-02\\n00180124CZ,8,0.1335314373280052,295,1.0,53939.59714285714,52020.349642857145,1.0368941676320227,154.42857142857142,155.42857142857142,0.9935661764705882,8.589123060803518,0,0,0.18,0,CnC,2019-11-01,2021-10-31,2021-12-02\\n00180124CZ,2,0.0,463,1.0,1570.4285714285713,1387.2142857142858,1.1320735286545491,5.285714285714286,8.214285714285714,0.6434782608695653,8.589123060803518,0,0,0.18,0,CnC,2019-11-01,2021-10-31,2021-12-02\\n00180124ES,5,0.28768210225410284,567,1.0,17516.933333333338,20397.95913043478,0.8587591151311403,432.14285714285717,442.89285714285717,0.9757277638900089,4.828073718265662,0,0,0.11,0,CnC,2019-11-01,2021-10-31,2021-12-02\\n00180124ES,2,1.1895840979719114,99,1.0,40504.85428571428,39711.04642857144,1.0199895980724323,805.1428571428571,785.9285714285714,1.024447877851495,4.827787903275037,0,0,0.11,0,CnC,2019-11-01,2021-10-31,2021-12-02\\n00180124ES,11,0.6931471805599453,28,1.0,34312.083333333336,33811.78958333334,1.0147964291794422,1072.857142857143,916.7142857142857,1.17032881408758,4.827620137442522,0,0,0.11,0,CnC,2019-11-01,2021-10-31,2021-12-02\\n00180124ES,6,0.6061357602214821,232,1.0,28640.403333333332,28487.69483333334,1.0053605074364005,1009.4285714285714,720.7777777777778,1.4004712722147592,4.806613302006412,0,0,0.11,0,CnC,2019-11-01,2021-10-31,2021-12-02\\n00180124ES,6,0.18232159653038368,218,1.0,4511.794,2463.3485,1.8315695079279282,582.1666666666666,221.88888888888889,2.6236855282924387,4.828073718265662,0,0,0.11,0,CnC,2019-11-01,2021-10-31,2021-12-02\\n00180124ES,5,1.0414539309266488,560,1.0,42252.81833333333,42390.87083333333,0.9967433436188944,491.57142857142856,420.32142857142856,1.1695131277083863,4.828073718265662,0,0,0.11,0,CnC,2019-11-01,2021-10-31,2021-12-02\\n00180124ES,7,0.1541506457674607,638,1.0,20948.88666666666,19819.73833333334,1.0569709001371776,427.57142857142856,465.39285714285717,0.918732253856189,4.948854468754008,0,0,0.11,0,CnC,2019-11-01,2021-10-31,2021-12-02\\n00180124ES,12,0.7884573820386862,64,1.0,26149.273999999998,23836.76636363637,1.0970143181791394,899.1666666666666,878.3846153846154,1.0236593980792246,4.827016876233576,0,0,0.11,0,CnC,2019-11-01,2021-10-31,2021-12-02\\n00180124ES,8,0.5108256714497054,295,1.0,20717.201999999997,19693.951739130436,1.0519575895393527,784.4285714285714,798.8571428571429,0.9819384835479256,4.828073718265662,0,0,0.11,0,CnC,2019-11-01,2021-10-31,2021-12-02\\n00180124ES,4,0.2513144150354294,533,1.0,28374.75142857143,31527.717857142856,0.8999938262941193,363.7142857142857,353.92857142857144,1.027648839556004,4.828073718265662,0,0,0.11,0,CnC,2019-11-01,2021-10-31,2021-12-02\\n00180124RO,10,0.0,343,1.0,40407.531428571434,38563.15,1.047827561508109,110.57142857142857,86.14285714285714,1.2835820895522387,6.572688024149897,0,0,0.13,0,CnC,2019-11-01,2021-10-31,2021-12-02\\n00180124RO,11,0.45198510206864073,378,1.0,36072.37142857142,37368.51071428571,0.9653146657188353,99.28571428571429,83.07142857142857,1.1951848667239897,6.572688024149897,0,0,0.13,0,CnC,2019-11-01,2021-10-31,2021-12-02\\n00180124CZ,6,0.1335314373280052,589,1.0,37341.66285714286,45368.64714285714,0.8230719937396668,139.14285714285714,187.57142857142858,0.7418126428027417,8.589123060803518,0,0,0.18,0,CnC,2019-11-01,2021-10-31,2021-12-02\\n00180124CZ,7,0.0,638,1.0,35401.294285714284,35637.972499999996,0.9933588193243678,131.57142857142858,141.35714285714286,0.9307731177362305,8.663217245290781,0,0,0.18,0,CnC,2019-11-01,2021-10-31,2021-12-02\\n00180124ES,12,0.18232159653038368,406,1.0,7812.564000000001,2408.2965217391306,3.2440207962258008,515.8571428571429,447.89285714285717,1.1517422853042023,4.828073718265662,0,0,0.11,0,CnC,2019-11-01,2021-10-31,2021-12-02\\n00180124ES,4,0.0,167,1.0,0.0,0.0,0.0,6.5,3.25,2.0,4.828073718265662,0,0,0.11,0,CnC,2019-11-01,2021-10-31,2021-12-02\\n00180124ES,5,0.22314355131420976,203,1.0,1412.4,642.3888888888889,2.198668165700943,48.142857142857146,24.11111111111111,1.9967083607636604,4.828073718265662,0,0,0.11,0,CnC,2019-11-01,2021-10-31,2021-12-02\\n00180124ES,8,0.5108256714497054,665,1.0,31498.841666666664,35806.25782608695,0.8797021408843769,422.57142857142856,446.85714285714283,0.9456521739130435,4.949752301248243,0,0,0.11,0,CnC,2019-11-01,2021-10-31,2021-12-02\\n00180124ES,5,0.6931471805599453,568,1.0,32009.42714285714,34604.14888888889,0.925017033236009,432.14285714285717,442.89285714285717,0.9757277638900089,4.826418632177526,0,0,0.11,0,CnC,2019-11-01,2021-10-31,2021-12-02\\n00180124ES,5,0.1541506457674607,204,1.0,1976.2,913.578947368421,2.1631409148519416,48.142857142857146,24.11111111111111,1.9967083607636604,4.828073718265662,0,0,0.11,0,CnC,2019-11-01,2021-10-31,2021-12-02\\n00180124ES,5,0.0,210,1.0,3307.1666666666665,1281.5714285714287,2.5805558651952585,288.7142857142857,95.0,3.039097744360902,4.828073718265662,0,0,0.11,0,CnC,2019-11-01,2021-10-31,2021-12-02\\n00180124ES,2,0.0,462,1.0,5.0,21.083333333333332,0.23715415019762848,295.57142857142856,300.5357142857143,0.9834818775995247,4.828073718265662,0,0,0.11,0,CnC,2019-11-01,2021-10-31,2021-12-02\\n00180124ES,3,0.0,512,1.0,24651.089999999997,25081.114583333332,0.9828546461958636,355.2857142857143,349.67857142857144,1.0160351343070166,4.826605614251333,0,0,0.11,0,CnC,2019-11-01,2021-10-31,2021-12-02\\n00180124ES,5,0.0,190,1.0,39.0,50.0,0.78,23.142857142857142,9.217391304347826,2.5107816711590294,4.828073718265662,0,0,0.11,0,CnC,2019-11-01,2021-10-31,2021-12-02\\n00180124ES,8,1.0414539309266488,294,1.0,28022.762,27098.703181818182,1.0340997431493995,784.4285714285714,798.8571428571429,0.9819384835479256,4.828073718265662,0,0,0.11,0,CnC,2019-11-01,2021-10-31,2021-12-02\\n00180124HR,4,0.0,168,1.0,318.0,320.7307692307692,0.9914857896630291,1.6,1.1923076923076923,1.3419354838709678,7.155396301896734,0,0,0.3,0,CnC,2019-11-01,2021-10-31,2021-12-02\\n00180124RO,1,0.0,432,1.0,24997.42333333334,27267.355,0.9167527739061357,75.16666666666667,98.0,0.7670068027210885,6.572688024149897,0,0,0.13,0,CnC,2019-11-01,2021-10-31,2021-12-02\\n00180124CZ,2,0.1335314373280052,117,1.0,21494.844285714287,20809.421428571426,1.0329381025558824,204.14285714285714,219.5,0.9300357956394403,8.589123060803518,0,0,0.18,0,CnC,2019-11-01,2021-10-31,2021-12-02\\n00180124CZ,4,0.0,173,1.0,446.85714285714283,214.55555555555554,2.0827106606495525,2.7142857142857144,5.407407407407407,0.5019569471624267,8.589123060803518,0,0,0.18,0,CnC,2019-11-01,2021-10-31,2021-12-02\\n00180124CZ,8,0.2513144150354294,652,1.0,50206.65,52655.30071428571,0.9534965961438071,169.28571428571428,158.75,1.0663667041619798,8.663217245290781,0,0,0.18,0,CnC,2019-11-01,2021-10-31,2021-12-02\\n00180124ES,12,0.8266785135798214,35,1.0,44969.23714285714,39189.4176,1.1474841908050488,1026.857142857143,954.9285714285714,1.0753235096117886,4.828073718265662,0,0,0.11,0,CnC,2019-11-01,2021-10-31,2021-12-02\\n00180124ES,7,0.0,631,1.0,21974.468333333334,23296.2604,0.9432616203643283,427.85714285714283,479.85714285714283,0.8916344150044656,4.952299717083292,0,0,0.11,0,CnC,2019-11-01,2021-10-31,2021-12-02\\n00180124ES,12,0.7731898148739162,56,1.0,45168.801666666666,42484.863999999994,1.063173973363,872.1666666666666,912.2592592592592,0.9560513174454955,4.828073718265662,0,0,0.11,0,CnC,2019-11-01,2021-10-31,2021-12-02\\n00180124ES,5,0.0,204,1.0,127.4,77.26736842105262,1.6488202277805026,48.142857142857146,24.11111111111111,1.9967083607636604,4.828073718265662,0,0,0.11,0,CnC,2019-11-01,2021-10-31,2021-12-02\\n00180124ES,4,0.1541506457674607,533,1.0,23732.88333333333,6643.013636363636,3.5726079506175203,363.7142857142857,353.92857142857144,1.027648839556004,4.828073718265662,0,0,0.11,0,CnC,2019-11-01,2021-10-31,2021-12-02\\n00180124ES,7,0.4054651081081644,610,1.0,22313.356666666663,20526.692916666663,1.0870409937564427,485.42857142857144,466.89285714285717,1.039700145337719,4.828073718265662,0,0,0.11,0,CnC,2019-11-01,2021-10-31,2021-12-02\\n00180124ES,3,0.4054651081081644,134,1.0,14971.001666666665,17472.37782608696,0.8568382515351952,746.4285714285714,798.9285714285714,0.9342869915064819,4.828073718265662,0,0,0.11,0,CnC,2019-11-01,2021-10-31,2021-12-02\\n00180124ES,2,0.5389965106667944,92,1.0,28274.167142857146,27486.451111111113,1.0286583389234853,812.4285714285714,755.4074074074074,1.0754839884571206,4.828073718265662,0,0,0.11,0,CnC,2019-11-01,2021-10-31,2021-12-02\\n00180124ES,10,0.7884573820386862,364,1.0,21094.986666666668,25865.5247826087,0.8155638381190079,616.2857142857143,614.1071428571429,1.003547542890375,4.828073718265662,0,0,0.11,0,CnC,2019-11-01,2021-10-31,2021-12-02\\n00180124ES,12,0.5108256714497054,399,1.0,15988.561666666668,14710.035416666668,1.0869152394120964,500.42857142857144,418.14285714285717,1.1967885206696276,4.828073718265662,0,0,0.11,0,CnC,2019-11-01,2021-10-31,2021-12-02\\n00180124RO,8,0.1335314373280052,651,1.0,28822.28,28165.175357142853,1.0233303941667276,47.42857142857143,47.75,0.993268511593119,6.512146466906872,0,0,0.13,0,CnC,2019-11-01,2021-10-31,2021-12-02\\n00180124RO,12,0.35667496778059,404,1.0,23782.832857142854,25955.813214285707,0.9162815536079264,116.71428571428571,128.14285714285714,0.9108138238573021,6.572688024149897,0,0,0.13,0,CnC,2019-11-01,2021-10-31,2021-12-02\\n00180124CZ,2,0.2513144150354294,106,1.0,39796.21857142857,38857.219629629624,1.0241653661983303,228.57142857142858,209.25,1.092336576207544,8.589123060803518,0,0,0.18,0,CnC,2019-11-01,2021-10-31,2021-12-02\\n00180124CZ,9,0.1335314373280052,330,1.0,36013.41857142857,36274.34321428572,0.9928069092439311,187.57142857142858,165.85714285714286,1.1309216192937124,8.589123060803518,0,0,0.18,0,CnC,2019-11-01,2021-10-31,2021-12-02\\n00180124ES,4,0.0,167,1.0,0.0,0.0,0.0,6.5,3.25,2.0,4.828073718265662,0,0,0.11,0,CnC,2019-11-01,2021-10-31,2021-12-02\\n00180124ES,3,0.28768210225410284,490,1.0,17597.000000000004,15638.9975,1.1252000008312555,363.57142857142856,354.5357142857143,1.025486048151506,4.8270862997386175,0,0,0.11,0,CnC,2019-11-01,2021-10-31,2021-12-02\\n00180124ES,6,0.0,596,1.0,19025.255,19887.30625,0.9566531917815667,416.14285714285717,467.4642857142857,0.8902131560852625,4.828073718265662,0,0,0.11,0,CnC,2019-11-01,2021-10-31,2021-12-02\\n00180124ES,6,0.1541506457674607,603,1.0,21840.260000000002,20227.401250000006,1.0797363304393832,466.85714285714283,463.64285714285717,1.006932676012941,4.828073718265662,0,0,0.11,0,CnC,2019-11-01,2021-10-31,2021-12-02\\n00180124ES,1,0.1335314373280052,442,1.0,12092.344285714284,20985.8036,0.576215450987747,266.14285714285717,468.72,0.5678077682685978,4.828073718265662,0,0,0.11,0,CnC,2019-11-01,2021-10-31,2021-12-02\\n00180124ES,10,0.0,715,1.0,30768.032857142858,28427.181071428575,1.0823455473770847,494.57142857142856,473.35714285714283,1.0448166591217747,4.952299717083292,0,0,0.11,0,CnC,2019-11-01,2021-10-31,2021-12-02\\n00180124ES,7,0.0,623,1.0,23118.896666666664,24923.107391304347,0.927608917447141,468.14285714285717,489.60714285714283,0.9561601867386389,4.952299717083292,0,0,0.11,0,CnC,2019-11-01,2021-10-31,2021-12-02\\n00180124HR,6,0.35667496778059,595,1.0,28427.515714285713,30876.653571428575,0.9206799450763943,84.42857142857143,70.78571428571429,1.1927346115035318,7.155396301896734,0,0,0.3,0,CnC,2019-11-01,2021-10-31,2021-12-02\\n00180124RO,11,0.4054651081081644,5,1.0,24346.704285714284,23992.813749999998,1.0147498554943055,87.42857142857143,85.625,1.0210636079249218,6.572688024149897,0,0,0.13,0,CnC,2019-11-01,2021-10-31,2021-12-02\\n00180124CZ,6,0.1335314373280052,239,1.0,41404.08714285714,39692.984285714294,1.0431084456846618,197.85714285714286,210.5,0.9399389209365456,8.589123060803518,0,0,0.18,0,CnC,2019-11-01,2021-10-31,2021-12-02\\n00180124CZ,8,0.0,274,1.0,34765.17428571429,40791.817857142865,0.8522585192811337,144.14285714285714,169.5,0.8504003371260008,8.589123060803518,0,0,0.18,0,CnC,2019-11-01,2021-10-31,2021-12-02\\n00180124ES,5,0.0,196,1.0,447.6,318.1333333333333,1.4069572506286674,22.428571428571427,11.84,1.8943050193050193,4.828073718265662,0,0,0.11,0,CnC,2019-11-01,2021-10-31,2021-12-02\\n00180124ES,9,0.5389965106667944,687,1.0,33733.85,35381.721428571436,0.953425911401791,434.2857142857143,438.32142857142856,0.9907927971970993,4.949752301248243,0,0,0.11,0,CnC,2019-11-01,2021-10-31,2021-12-02\\n00180124ES,1,0.5108256714497054,456,1.0,17864.021666666667,31560.882916666666,0.5660178048198087,317.85714285714283,356.1111111111111,0.8925785602852685,4.828073718265662,0,0,0.11,0,CnC,2019-11-01,2021-10-31,2021-12-02\\n00180124ES,10,0.875468777090329,342,1.0,38562.045714285705,39729.280000000006,0.9706203010546806,732.8571428571429,769.3571428571429,0.9525577940766874,4.828073718265662,0,0,0.11,0,CnC,2019-11-01,2021-10-31,2021-12-02\\n00180124RO,7,0.6931471805599453,257,1.0,19543.46285714286,19096.999642857143,1.0233787098829792,80.42857142857143,98.53571428571429,0.8162377673069953,6.572688024149897,0,0,0.13,0,CnC,2019-11-01,2021-10-31,2021-12-02\\n00180124CZ,11,0.1335314373280052,29,1.0,63882.36714285715,58947.59185185186,1.083714620665208,401.14285714285717,337.10714285714283,1.189956563195254,8.589123060803518,0,0,0.18,0,CnC,2019-11-01,2021-10-31,2021-12-02\\n00180124CZ,11,0.2513144150354294,29,1.0,56588.398571428566,52176.365,1.0845600028179152,401.14285714285717,337.10714285714283,1.189956563195254,8.589123060803518,0,0,0.18,0,CnC,2019-11-01,2021-10-31,2021-12-02\\n00180124CZ,4,0.0,526,1.0,1067.1666666666667,645.5925925925926,1.6530032700361426,17.666666666666668,12.592592592592593,1.4029411764705881,8.589123060803518,0,0,0.18,0,CnC,2019-11-01,2021-10-31,2021-12-02\\n00180124ES,10,0.28768210225410284,336,1.0,22414.579999999998,22317.439599999994,1.004352667767498,788.7142857142857,785.4642857142857,1.0041376801709634,4.828073718265662,0,0,0.11,0,CnC,2019-11-01,2021-10-31,2021-12-02\\n00180124ES,6,0.28768210225410284,217,1.0,4258.333333333333,2784.0476190476193,1.529547592576755,582.1666666666666,221.88888888888889,2.6236855282924387,4.828073718265662,0,0,0.11,0,CnC,2019-11-01,2021-10-31,2021-12-02\\n00180124ES,9,1.0986122886681096,322,1.0,41645.630000000005,48339.23363636364,0.8615285528372897,826.2857142857143,845.6785714285714,0.9770682883567718,4.828073718265662,0,0,0.11,0,CnC,2019-11-01,2021-10-31,2021-12-02\\n00180124ES,2,0.1541506457674607,483,1.0,17196.558333333334,13751.55083333333,1.2505177446349844,441.14285714285717,337.5357142857143,1.3069516453285368,4.828073718265662,0,0,0.11,0,CnC,2019-11-01,2021-10-31,2021-12-02\\n00180124ES,1,0.1541506457674607,449,1.0,10560.596666666668,18638.79565217391,0.5665922232177564,322.57142857142856,422.65384615384613,0.7632047632047632,4.828073718265662,0,0,0.11,0,CnC,2019-11-01,2021-10-31,2021-12-02\\n00180124ES,2,0.0,484,1.0,64.0,61.791666666666664,1.035738368172623,441.14285714285717,337.5357142857143,1.3069516453285368,4.828073718265662,0,0,0.11,0,CnC,2019-11-01,2021-10-31,2021-12-02\\n00180124ES,6,0.4054651081081644,603,1.0,35299.17833333334,34862.34791666666,1.0125301490797711,466.85714285714283,463.64285714285717,1.006932676012941,4.828073718265662,0,0,0.11,0,CnC,2019-11-01,2021-10-31,2021-12-02\\n00180124ES,7,0.8472979285067953,637,1.0,45311.64833333334,43469.7688,1.0423715051673645,427.57142857142856,465.39285714285717,0.918732253856189,4.952299717083292,0,0,0.11,0,CnC,2019-11-01,2021-10-31,2021-12-02\\n00180124ES,9,0.0,693,1.0,40525.786,41847.590909090904,0.9684138350529574,423.14285714285717,438.4642857142857,0.9650566099209905,4.952299717083292,0,0,0.11,0,CnC,2019-11-01,2021-10-31,2021-12-02\\n00180124ES,8,0.5108256714497054,652,1.0,39747.79833333334,36601.91875,1.0859484882423915,459.42857142857144,451.89285714285717,1.0166758871413895,4.952299717083292,0,0,0.11,0,CnC,2019-11-01,2021-10-31,2021-12-02\\n00180124ES,7,0.1335314373280052,610,1.0,25384.117142857143,26237.23607142857,0.9674844207580064,485.42857142857144,466.89285714285717,1.039700145337719,4.865169007576797,0,0,0.11,0,CnC,2019-11-01,2021-10-31,2021-12-02\\n00180124RO,1,0.45198510206864073,441,1.0,33611.577142857146,38527.29791666666,0.8724094073650827,76.0,86.5,0.8786127167630058,6.572688024149897,0,0,0.13,0,CnC,2019-11-01,2021-10-31,2021-12-02\\n00180124CZ,8,0.1335314373280052,302,1.0,44893.30571428571,42447.345357142854,1.0576233999220226,150.0,156.89285714285714,0.9560664693831095,8.589123060803518,0,0,0.18,0,CnC,2019-11-01,2021-10-31,2021-12-02\\n00180124CZ,11,0.0,386,1.0,1252.142857142857,697.407037037037,1.795426186782741,5.714285714285714,8.481481481481481,0.6737367436057393,8.589123060803518,0,0,0.18,0,CnC,2019-11-01,2021-10-31,2021-12-02\\n00180124CZ,9,0.1335314373280052,694,1.0,36779.16857142857,36651.92714285715,1.0034716163238968,144.57142857142858,143.96428571428572,1.0042173158025305,8.663217245290781,0,0,0.18,0,CnC,2019-11-01,2021-10-31,2021-12-02\\n00180124CZ,1,0.0,435,1.0,103.57142857142857,27658.08875,0.0037447066392622148,6.428571428571429,147.25,0.043657530924084406,8.589123060803518,0,0,0.18,0,CnC,2019-11-01,2021-10-31,2021-12-02\\n00180124CZ,5,0.1335314373280052,568,1.0,56336.540000000015,25433.53,2.2150499753671635,257.2857142857143,112.81481481481481,2.280602194916049,8.589123060803518,0,0,0.18,0,CnC,2019-11-01,2021-10-31,2021-12-02\\n00180124ES,5,0.0,183,1.0,98.83333333333333,69.75,1.4169653524492234,2.0,2.6315789473684212,0.7599999999999999,4.828073718265662,0,0,0.11,0,CnC,2019-11-01,2021-10-31,2021-12-02\\n00180124ES,2,0.8472979285067953,120,1.0,17861.670000000002,16303.292083333336,1.0955867016735705,757.4285714285714,795.6785714285714,0.9519278244086359,4.828073718265662,0,0,0.11,0,CnC,2019-11-01,2021-10-31,2021-12-02\\n00180124ES,5,0.6931471805599453,547,1.0,22953.065000000002,24050.42458333333,0.9543725484125638,447.2857142857143,375.89285714285717,1.1899287410926365,4.828073718265662,0,0,0.11,0,CnC,2019-11-01,2021-10-31,2021-12-02\\n00180124RO,10,0.1541506457674607,727,1.0,27023.21571428571,29241.62285714286,0.9241352932532177,68.71428571428571,70.89285714285714,0.9692695214105793,6.512146466906872,0,0,0.13,0,CnC,2019-11-01,2021-10-31,2021-12-02\\n00180124ES,7,1.0986122886681096,266,1.0,43603.55166666667,45841.8044,0.9511744190127619,768.4285714285714,924.2857142857143,0.8313755795981452,4.82776689591727,0,0,0.11,0,CnC,2019-11-01,2021-10-31,2021-12-02\\n00180124ES,8,0.4054651081081644,274,1.0,22905.085000000003,24881.835999999996,0.9205544558689321,769.4285714285714,854.6785714285714,0.9002548995027371,4.828073718265662,0,0,0.11,0,CnC,2019-11-01,2021-10-31,2021-12-02\\n00180124ES,2,0.887303209025525,120,1.0,31012.315714285713,32672.445,0.9491887036395872,757.4285714285714,795.6785714285714,0.9519278244086359,4.827273218122585,0,0,0.11,0,CnC,2019-11-01,2021-10-31,2021-12-02\\n00180124ES,8,0.9808291934070796,287,1.0,50590.631666666675,46359.668750000004,1.091263872903895,852.4285714285714,794.8571428571429,1.072429906542056,4.828073718265662,0,0,0.11,0,CnC,2019-11-01,2021-10-31,2021-12-02\\n00180124ES,12,0.1335314373280052,414,1.0,25198.097142857143,21185.697037037036,1.189391932623486,584.2857142857143,500.67857142857144,1.166987659604822,4.828073718265662,0,0,0.11,0,CnC,2019-11-01,2021-10-31,2021-12-02\\n00180124ES,10,0.4054651081081644,727,1.0,16506.911666666667,17818.225217391304,0.9264060514037761,461.42857142857144,482.2857142857143,0.9567535545023698,4.952299717083292,0,0,0.11,0,CnC,2019-11-01,2021-10-31,2021-12-02\\n00180124RO,1,0.2513144150354294,75,1.0,20670.778571428575,25529.698260869558,0.8096757885741073,127.28571428571429,167.125,0.7616198311785447,6.572688024149897,0,0,0.13,0,CnC,2019-11-01,2021-10-31,2021-12-02\\n00180124CZ,11,0.28768210225410284,7,1.0,53050.735714285714,53050.735714285714,1.0,249.14285714285714,249.14285714285714,1.0,8.589123060803518,0,0,0.18,0,CnC,2019-11-01,2021-10-31,2021-12-02\\n00180124ES,5,0.0,197,1.0,20.5,43.31578947368421,0.4732685297691373,20.0,13.0,1.5384615384615385,4.828073718265662,0,0,0.11,0,CnC,2019-11-01,2021-10-31,2021-12-02\\n00180124ES,12,0.5108256714497054,421,1.0,15957.545,18381.629200000003,0.8681246273861295,497.8333333333333,525.5925925925926,0.9471848354590937,4.8263250668714734,0,0,0.11,0,CnC,2019-11-01,2021-10-31,2021-12-02\\n00180124ES,12,0.5108256714497054,35,1.0,19972.426666666663,19958.84125,1.0006806716129706,1026.857142857143,954.9285714285714,1.0753235096117886,4.828073718265662,0,0,0.11,0,CnC,2019-11-01,2021-10-31,2021-12-02\\n00180124HR,7,0.6190392450860042,637,1.0,25652.221428571433,28703.902142857143,0.8936841165672275,46.0,49.464285714285715,0.9299638989169675,7.0909098220799835,0,0,0.3,0,CnC,2019-11-01,2021-10-31,2021-12-02\\n00180124RO,11,0.2513144150354294,392,1.0,41264.11857142857,39034.883928571435,1.0571087811337248,134.42857142857142,115.89285714285714,1.1599383667180276,6.572688024149897,0,0,0.13,0,CnC,2019-11-01,2021-10-31,2021-12-02\\n00180124RO,6,0.35667496778059,602,1.0,31502.092857142856,32965.806071428575,0.9555990467481905,59.285714285714285,52.92857142857143,1.1201079622132253,6.572688024149897,0,0,0.13,0,CnC,2019-11-01,2021-10-31,2021-12-02\\n00180124CZ,9,0.2513144150354294,673,1.0,41123.33857142857,41169.54535714285,0.9988776464419648,163.42857142857142,164.10714285714286,0.9958650707290532,8.663217245290781,0,0,0.18,0,CnC,2019-11-01,2021-10-31,2021-12-02\\n00180124CZ,11,0.0,379,1.0,286.57142857142856,8612.855185185184,0.03327252373456306,4.571428571428571,54.0,0.08465608465608465,8.589123060803518,0,0,0.18,0,CnC,2019-11-01,2021-10-31,2021-12-02\\n00180124ES,4,0.1541506457674607,546,1.0,35487.17571428571,36757.59392857143,0.9654379387085446,413.2857142857143,360.17857142857144,1.1474467030242934,4.828073718265662,0,0,0.11,0,CnC,2019-11-01,2021-10-31,2021-12-02\\n00180124ES,10,0.6931471805599453,701,1.0,34027.56,36039.21214285714,0.9441815727024475,470.2857142857143,447.89285714285717,1.049996013077107,4.947015729928636,0,0,0.11,0,CnC,2019-11-01,2021-10-31,2021-12-02\\n00180124ES,11,0.9162907318741551,28,1.0,38642.596666666665,37833.45708333333,1.0213868793843264,1072.857142857143,916.7142857142857,1.17032881408758,4.826191491814386,0,0,0.11,0,CnC,2019-11-01,2021-10-31,2021-12-02\\n00180124ES,7,0.9444615955953747,253,1.0,50386.107142857145,50446.404399999985,0.9988047263653376,956.1428571428571,1037.0714285714287,0.92196432261175,4.828073718265662,0,0,0.11,0,CnC,2019-11-01,2021-10-31,2021-12-02\\n00180124ES,7,0.7731898148739162,266,1.0,50537.66,51828.344999999994,0.9750969281384542,768.4285714285714,924.2857142857143,0.8313755795981452,4.828073718265662,0,0,0.11,0,CnC,2019-11-01,2021-10-31,2021-12-02\\n00180124ES,10,1.2809338189711108,343,1.0,56814.616,52252.9952173913,1.0872987426583054,681.8571428571429,765.3214285714286,0.8909421811563769,4.827353254213406,0,0,0.11,0,CnC,2019-11-01,2021-10-31,2021-12-02\\n00180124ES,2,1.0414539309266488,469,1.0,32850.96333333334,25728.366086956517,1.2768383045508576,252.42857142857142,297.10714285714283,0.8496213487197981,4.8225370747026455,0,0,0.11,0,CnC,2019-11-01,2021-10-31,2021-12-02\\n00180124ES,2,0.0,476,1.0,34.833333333333336,11.833333333333334,2.943661971830986,361.0,306.7142857142857,1.176991150442478,4.828073718265662,0,0,0.11,0,CnC,2019-11-01,2021-10-31,2021-12-02\\n00180124ES,12,0.6061357602214821,64,1.0,38294.511666666665,32558.60384615384,1.1761717992459437,899.1666666666666,878.3846153846154,1.0236593980792246,4.828073718265662,0,0,0.11,0,CnC,2019-11-01,2021-10-31,2021-12-02\\n00180124ES,8,1.299283005804677,302,1.0,43290.83333333334,42836.76,1.0106000858452726,866.7142857142857,823.1785714285714,1.052887326999002,4.826512127584716,0,0,0.11,0,CnC,2019-11-01,2021-10-31,2021-12-02\\n00180124ES,11,0.4054651081081644,379,1.0,14816.185,23091.406400000007,0.6416319882534307,396.85714285714283,486.39285714285717,0.8159189367794991,4.828073718265662,0,0,0.11,0,CnC,2019-11-01,2021-10-31,2021-12-02\\n00180124ES,2,0.6931471805599453,112,1.0,16530.586666666666,17600.594583333335,0.939206149451343,776.2857142857143,809.4285714285714,0.9590540063536888,4.828073718265662,0,0,0.11,0,CnC,2019-11-01,2021-10-31,2021-12-02\\n00180124RO,1,0.1335314373280052,448,1.0,33814.48714285715,36361.5536,0.9299516603398693,66.71428571428571,76.32,0.8741389637616053,6.572688024149897,0,0,0.13,0,CnC,2019-11-01,2021-10-31,2021-12-02\\n00180124ES,8,0.9808291934070796,301,1.0,46852.74166666667,46878.95249999999,0.9994408827003265,866.7142857142857,823.1785714285714,1.052887326999002,4.828073718265662,0,0,0.11,0,CnC,2019-11-01,2021-10-31,2021-12-02\\n00180124ES,10,0.4054651081081644,343,1.0,40791.22833333333,41043.43875,0.9938550368987621,681.8571428571429,765.3214285714286,0.8909421811563769,4.828073718265662,0,0,0.11,0,CnC,2019-11-01,2021-10-31,2021-12-02\\n00180124ES,1,0.6061357602214821,85,1.0,15394.325000000003,15310.509583333334,1.0054743714577539,724.1428571428571,773.2307692307693,0.9365158319595247,4.826819273980108,0,0,0.11,0,CnC,2019-11-01,2021-10-31,2021-12-02\\n00180124ES,4,0.4054651081081644,533,1.0,23841.278333333335,26257.93304347826,0.9079647774962564,363.7142857142857,353.92857142857144,1.027648839556004,4.828073718265662,0,0,0.11,0,CnC,2019-11-01,2021-10-31,2021-12-02\\n00180124ES,12,0.6931471805599453,57,1.0,35558.746666666666,33207.148888888885,1.070816009698581,872.1666666666666,912.2592592592592,0.9560513174454955,4.828073718265662,0,0,0.11,0,CnC,2019-11-01,2021-10-31,2021-12-02\\n00180124ES,1,0.18232159653038368,442,1.0,6978.4675,27304.083636363634,0.25558328903981464,266.14285714285717,468.72,0.5678077682685978,4.828073718265662,0,0,0.11,0,CnC,2019-11-01,2021-10-31,2021-12-02\\n00180124HR,7,0.2513144150354294,616,1.0,28594.767142857145,27830.6125,1.0274573419056856,65.57142857142857,84.85714285714286,0.7727272727272727,7.0909098220799835,0,0,0.3,0,CnC,2019-11-01,2021-10-31,2021-12-02\\n00180124HR,9,0.9444615955953747,672,1.0,32959.74285714285,31036.776296296302,1.061957676998691,69.0,61.407407407407405,1.123642943305187,7.0909098220799835,0,0,0.3,0,CnC,2019-11-01,2021-10-31,2021-12-02\\n00180124CZ,10,0.0,365,1.0,387.1666666666667,31138.61074074075,0.012433652544431288,9.166666666666666,146.1851851851852,0.06270585254623764,8.589123060803518,0,0,0.18,0,CnC,2019-11-01,2021-10-31,2021-12-02\\n00180124CZ,5,0.1335314373280052,211,1.0,45358.07857142857,30892.73629629629,1.4682441249746632,253.14285714285714,165.4814814814815,1.5297352602634606,8.589123060803518,0,0,0.18,0,CnC,2019-11-01,2021-10-31,2021-12-02\\n00180124CZ,1,0.1335314373280052,85,1.0,55070.38142857143,56865.72555555556,0.9684283615579625,198.14285714285714,236.96296296296296,0.8361764837225919,8.589123060803518,0,0,0.18,0,CnC,2019-11-01,2021-10-31,2021-12-02\\n00180124CZ,2,0.2513144150354294,92,1.0,51144.090000000004,53581.64285714286,0.9545076872009737,192.57142857142858,209.60714285714286,0.9187255069006646,8.589123060803518,0,0,0.18,0,CnC,2019-11-01,2021-10-31,2021-12-02\\n00180124CZ,3,0.0,512,1.0,1585.142857142857,1459.892857142857,1.0857939672676566,14.714285714285714,9.392857142857142,1.5665399239543727,8.589123060803518,0,0,0.18,0,CnC,2019-11-01,2021-10-31,2021-12-02\\n00180124CZ,6,0.1335314373280052,589,1.0,48814.98857142858,59716.81821428572,0.8174412172507685,139.14285714285714,187.57142857142858,0.7418126428027417,8.589123060803518,0,0,0.18,0,CnC,2019-11-01,2021-10-31,2021-12-02\\n00180124ES,2,0.0,105,1.0,15346.895000000002,16346.707916666668,0.9388370476940324,843.8571428571429,796.3928571428571,1.0595990851607697,4.828073718265662,0,0,0.11,0,CnC,2019-11-01,2021-10-31,2021-12-02\\n00180124HR,5,0.45198510206864073,203,1.0,35110.65857142857,29093.9384,1.2068032209564508,85.57142857142857,78.76,1.0864833490531813,7.155396301896734,0,0,0.3,0,CnC,2019-11-01,2021-10-31,2021-12-02\\n00180124RO,9,0.2513144150354294,684,1.0,21145.24857142857,21755.9675,0.9719286706706365,61.57142857142857,58.714285714285715,1.048661800486618,6.512146466906872,0,0,0.13,0,CnC,2019-11-01,2021-10-31,2021-12-02\\n00180124CZ,1,0.2513144150354294,78,1.0,35953.75142857143,39321.688749999994,0.9143491180442099,212.0,263.875,0.8034107058266224,8.589123060803518,0,0,0.18,0,CnC,2019-11-01,2021-10-31,2021-12-02\\n00180124CZ,4,0.0,537,1.0,422.85714285714283,214.2962962962963,1.9732358895856992,3.5714285714285716,8.0,0.44642857142857145,8.589123060803518,0,0,0.18,0,CnC,2019-11-01,2021-10-31,2021-12-02\\n00180124ES,8,0.4054651081081644,644,1.0,42881.19,34820.35666666667,1.2314977244632859,492.7142857142857,454.07142857142856,1.0851030360232814,4.952299717083292,0,0,0.11,0,CnC,2019-11-01,2021-10-31,2021-12-02\\n00180124ES,8,0.5389965106667944,288,1.0,38495.955714285716,38098.19642857143,1.0104403704899791,852.4285714285714,794.8571428571429,1.072429906542056,4.828073718265662,0,0,0.11,0,CnC,2019-11-01,2021-10-31,2021-12-02\\n00180124ES,1,1.0986122886681096,71,1.0,35761.765,39972.519583333335,0.8946587648908421,671.0,827.92,0.8104647792057204,4.828073718265662,0,0,0.11,0,CnC,2019-11-01,2021-10-31,2021-12-02\\n00180124ES,10,1.252762968495368,365,1.0,43008.005,46627.84833333332,0.9223673520713249,616.2857142857143,614.1071428571429,1.003547542890375,4.828073718265662,0,0,0.11,0,CnC,2019-11-01,2021-10-31,2021-12-02\\n00180124ES,7,0.887303209025525,253,1.0,39607.76,40464.98384615386,0.9788156632061689,956.1428571428571,1037.0714285714287,0.92196432261175,4.828073718265662,0,0,0.11,0,CnC,2019-11-01,2021-10-31,2021-12-02\\n00180124ES,11,0.5108256714497054,22,1.0,18728.184999999998,20354.486842105263,0.9201010639707654,839.8571428571429,859.9090909090909,0.976681316357815,4.828073718265662,0,0,0.11,0,CnC,2019-11-01,2021-10-31,2021-12-02\\n00180124CZ,6,0.28768210225410284,218,1.0,44456.17857142857,42595.79178571428,1.0436753657514644,235.71428571428572,217.92857142857142,1.0816125860373649,8.589123060803518,0,0,0.18,0,CnC,2019-11-01,2021-10-31,2021-12-02\\n00180124CZ,6,0.0,593,1.0,21164.447142857138,23221.407499999998,0.9114196520110652,143.71428571428572,159.17857142857142,0.9028494503028944,8.589123060803518,0,0,0.18,0,CnC,2019-11-01,2021-10-31,2021-12-02\\n00180124CZ,10,0.6190392450860042,351,1.0,59748.48714285713,54353.24925925924,1.0992624720164046,209.0,198.66666666666666,1.052013422818792,8.589123060803518,0,0,0.18,0,CnC,2019-11-01,2021-10-31,2021-12-02\\n00180124ES,3,0.0,498,1.0,39573.45,34841.03695652173,1.135828708238043,331.7142857142857,374.35714285714283,0.8860904407555811,4.828073718265662,0,0,0.11,0,CnC,2019-11-01,2021-10-31,2021-12-02\\n00180124ES,7,0.1541506457674607,637,1.0,37148.435000000005,35305.472,1.0522004917537997,427.57142857142856,465.39285714285717,0.918732253856189,4.952299717083292,0,0,0.11,0,CnC,2019-11-01,2021-10-31,2021-12-02\\n00180124ES,1,0.35667496778059,441,1.0,11388.915714285715,13848.280416666666,0.8224064917532244,266.14285714285717,468.72,0.5678077682685978,4.828073718265662,0,0,0.11,0,CnC,2019-11-01,2021-10-31,2021-12-02\\n00180124RO,11,0.6931471805599453,390,1.0,26378.44714285715,25135.1125,1.0494660464661596,134.42857142857142,115.89285714285714,1.1599383667180276,6.572688024149897,0,0,0.13,0,CnC,2019-11-01,2021-10-31,2021-12-02\\n00180124CZ,10,0.0,355,1.0,21017.391428571427,23350.511481481484,0.9000827003399743,181.28571428571428,197.03703703703704,0.9200590762620837,8.589123060803518,0,0,0.18,0,CnC,2019-11-01,2021-10-31,2021-12-02\\n00180124CZ,2,0.1335314373280052,106,1.0,51340.43142857143,51722.93107142858,0.992604834356179,228.57142857142858,209.25,1.092336576207544,8.589123060803518,0,0,0.18,0,CnC,2019-11-01,2021-10-31,2021-12-02\\n00180124ES,7,0.5108256714497054,637,1.0,17219.641666666666,16701.0536,1.0310512186289054,427.57142857142856,465.39285714285717,0.918732253856189,4.952299717083292,0,0,0.11,0,CnC,2019-11-01,2021-10-31,2021-12-02\\n00180124ES,4,0.0,544,1.0,31877.953333333327,33332.12454545454,0.9563732815729108,412.7142857142857,364.9642857142857,1.1308347196398865,4.828073718265662,0,0,0.11,0,CnC,2019-11-01,2021-10-31,2021-12-02\\n00180124ES,10,0.5877866384111654,715,1.0,50223.422,39846.0912,1.2604353523138048,494.57142857142856,473.35714285714283,1.0448166591217747,4.952299717083292,0,0,0.11,0,CnC,2019-11-01,2021-10-31,2021-12-02\\n00180124ES,6,1.0116009116784799,588,1.0,42672.25666666666,42030.04583333333,1.015279803307376,499.14285714285717,471.4642857142857,1.0587076736610863,4.79657537159563,0,0,0.11,0,CnC,2019-11-01,2021-10-31,2021-12-02\\n00180124ES,5,0.28768210225410284,204,1.0,579.6,313.0,1.8517571884984025,48.142857142857146,24.11111111111111,1.9967083607636604,4.828073718265662,0,0,0.11,0,CnC,2019-11-01,2021-10-31,2021-12-02\\n00180124ES,3,0.47000364414689666,127,1.0,22099.348,18221.05304347826,1.2128469165457962,915.5714285714286,823.2857142857143,1.1120943952802358,4.828073718265662,0,0,0.11,0,CnC,2019-11-01,2021-10-31,2021-12-02\\n00180124HR,2,0.6931471805599453,112,1.0,29283.200000000004,27785.390000000003,1.0539063874935712,102.28571428571429,89.60714285714286,1.141490633718613,7.155396301896734,0,0,0.3,0,CnC,2019-11-01,2021-10-31,2021-12-02\\n00180124HR,10,0.5389965106667944,357,1.0,29713.52142857143,33199.58464285713,0.8949967822854757,66.14285714285714,67.82142857142857,0.9752501316482359,7.155396301896734,0,0,0.3,0,CnC,2019-11-01,2021-10-31,2021-12-02\\n00180124RO,8,0.0,273,1.0,29117.151428571433,30370.21,0.958740536485307,75.85714285714286,86.25,0.8795031055900622,6.572688024149897,0,0,0.13,0,CnC,2019-11-01,2021-10-31,2021-12-02\\n00180124RO,5,0.2513144150354294,194,1.0,3989.9500000000003,1462.1788461538463,2.728770157286347,28.285714285714285,9.961538461538462,2.839492553778268,6.572688024149897,0,0,0.13,0,CnC,2019-11-01,2021-10-31,2021-12-02\\n00180124CZ,10,0.35667496778059,341,1.0,20908.045714285716,21490.245555555557,0.9729086464012351,165.71428571428572,196.40740740740742,0.8437272702782791,8.589123060803518,0,0,0.18,0,CnC,2019-11-01,2021-10-31,2021-12-02\\n00180124ES,2,0.4054651081081644,105,1.0,29446.390000000003,29376.595833333336,1.0023758425606097,843.8571428571429,796.3928571428571,1.0595990851607697,4.814755564454341,0,0,0.11,0,CnC,2019-11-01,2021-10-31,2021-12-02\\n00180124ES,1,0.1541506457674607,85,1.0,26166.441666666666,29953.12416666666,0.8735797147926891,724.1428571428571,773.2307692307693,0.9365158319595247,4.828073718265662,0,0,0.11,0,CnC,2019-11-01,2021-10-31,2021-12-02\\n00180124ES,1,0.9985288803045109,77,1.0,39907.57857142857,48210.91125,0.827770675490573,802.0,810.72,0.989244128675745,4.825761900149272,0,0,0.11,0,CnC,2019-11-01,2021-10-31,2021-12-02\\n00180124ES,2,1.252762968495368,105,1.0,44992.149999999994,44533.17291666666,1.0103064087571798,843.8571428571429,796.3928571428571,1.0595990851607697,4.828073718265662,0,0,0.11,0,CnC,2019-11-01,2021-10-31,2021-12-02\\n00180124ES,7,0.6931471805599453,245,1.0,30865.496666666662,31376.55173913044,0.9837121976719185,1047.857142857143,1043.7857142857142,1.0039006364196263,4.828073718265662,0,0,0.11,0,CnC,2019-11-01,2021-10-31,2021-12-02\\n00180124RO,5,0.0,558,1.0,19632.829999999998,19206.301923076924,1.022207714875636,38.0,53.88461538461539,0.7052105638829407,6.548906517540048,0,0,0.13,0,CnC,2019-11-01,2021-10-31,2021-12-02\\n00180124CZ,5,0.0,183,1.0,603.2857142857143,459.77777777777777,1.312124559828765,7.714285714285714,6.2592592592592595,1.2324598478444633,8.589123060803518,0,0,0.18,0,CnC,2019-11-01,2021-10-31,2021-12-02\\n00180124CZ,3,0.0,145,1.0,290.14285714285717,9988.314999999999,0.02904822856936903,4.571428571428571,109.71428571428571,0.041666666666666664,8.589123060803518,0,0,0.18,0,CnC,2019-11-01,2021-10-31,2021-12-02\\n00180124ES,2,0.9985288803045109,106,1.0,39911.84714285714,39747.83714285715,1.0041262622519693,843.8571428571429,796.3928571428571,1.0595990851607697,4.828073718265662,0,0,0.11,0,CnC,2019-11-01,2021-10-31,2021-12-02\\n00180124ES,4,0.6931471805599453,518,1.0,41413.8875,36149.90523809523,1.1456153820386097,346.0,345.2857142857143,1.002068680182044,4.828073718265662,0,0,0.11,0,CnC,2019-11-01,2021-10-31,2021-12-02\\n00180124ES,4,0.0,168,1.0,256.0,146.5,1.7474402730375427,6.5,3.25,2.0,4.828073718265662,0,0,0.11,0,CnC,2019-11-01,2021-10-31,2021-12-02\\n00180124ES,6,0.9162907318741551,232,1.0,41403.54833333333,21830.64739130435,1.8965790428104905,1009.4285714285714,720.7777777777778,1.4004712722147592,4.828073718265662,0,0,0.11,0,CnC,2019-11-01,2021-10-31,2021-12-02\\n00180124ES,10,0.28768210225410284,722,1.0,25406.441666666666,28226.416521739127,0.9000944787695384,452.42857142857144,480.67857142857144,0.9412289174530054,4.952299717083292,0,0,0.11,0,CnC,2019-11-01,2021-10-31,2021-12-02\\n00180124ES,12,0.6061357602214821,43,1.0,37293.93333333334,33101.35125,1.1266589406477279,880.8571428571429,955.1071428571429,0.9222600306622294,4.828073718265662,0,0,0.11,0,CnC,2019-11-01,2021-10-31,2021-12-02\\n00180124ES,11,0.9162907318741551,1,1.0,22571.119999999995,22571.119999999995,1.0,760.0,760.0,1.0,4.828073718265662,0,0,0.11,0,CnC,2019-11-01,2021-10-31,2021-12-02\\n00180124ES,5,0.1541506457674607,211,1.0,24440.954999999998,7256.034761904761,3.3683624461556567,288.7142857142857,95.0,3.039097744360902,4.828073718265662,0,0,0.11,0,CnC,2019-11-01,2021-10-31,2021-12-02\\n00180124ES,9,1.3437347259690442,680,1.0,35577.18166666667,37894.97791666667,0.9388363213960179,463.85714285714283,432.92857142857144,1.0714403563768353,4.832332324317852,0,0,0.11,0,CnC,2019-11-01,2021-10-31,2021-12-02\\n00180124HR,3,0.28768210225410284,140,1.0,10967.26,23273.812962962962,0.4712274700090127,38.166666666666664,74.11111111111111,0.5149925037481259,7.155396301896734,0,0,0.3,0,CnC,2019-11-01,2021-10-31,2021-12-02\\n00180124HR,8,0.6931471805599453,301,1.0,30586.595714285715,28745.680384615385,1.0640414596224197,42.285714285714285,41.46153846153846,1.019878081102571,7.155396301896734,0,0,0.3,0,CnC,2019-11-01,2021-10-31,2021-12-02\\n00180124RO,5,0.0,189,1.0,364.14285714285717,250.69230769230768,1.4525489852277211,3.857142857142857,2.3846153846153846,1.6175115207373272,6.572688024149897,0,0,0.13,0,CnC,2019-11-01,2021-10-31,2021-12-02\\n00180124CZ,6,0.0,225,1.0,38208.952857142845,41286.14392857143,0.9254667358435704,207.42857142857142,227.46428571428572,0.9119170984455958,8.589123060803518,0,0,0.18,0,CnC,2019-11-01,2021-10-31,2021-12-02\\n00180124CZ,11,0.0,372,1.0,985.7142857142857,27553.412592592587,0.035774671554814355,14.571428571428571,107.0,0.13618157543391188,8.589123060803518,0,0,0.18,0,CnC,2019-11-01,2021-10-31,2021-12-02\\n00180124ES,3,0.4054651081081644,504,1.0,7976.298333333333,2246.1647826086955,3.5510744336707396,348.14285714285717,371.14285714285717,0.9380292532717475,4.828073718265662,0,0,0.11,0,CnC,2019-11-01,2021-10-31,2021-12-02\\n00180124ES,11,0.28768210225410284,8,1.0,20085.84,21063.094285714284,0.9536034795050463,874.0,859.75,1.0165745856353592,4.828073718265662,0,0,0.11,0,CnC,2019-11-01,2021-10-31,2021-12-02\\n00180124ES,6,0.0,582,1.0,24559.325,22881.55,1.0733243595822837,472.42857142857144,469.57142857142856,1.0060845756008518,4.828073718265662,0,0,0.11,0,CnC,2019-11-01,2021-10-31,2021-12-02\\n00180124ES,11,0.9162907318741551,372,1.0,4225.008333333333,24912.373750000002,0.16959477148713428,390.2857142857143,541.2142857142857,0.7211297347235054,4.736710022347925,0,0,0.11,0,CnC,2019-11-01,2021-10-31,2021-12-02\\n00180124ES,12,0.2513144150354294,414,1.0,26391.725714285716,27350.088076923083,0.9649594414488927,584.2857142857143,500.67857142857144,1.166987659604822,4.828073718265662,0,0,0.11,0,CnC,2019-11-01,2021-10-31,2021-12-02\\n00180124ES,3,0.6931471805599453,127,1.0,36555.505000000005,32314.87565217391,1.1312283975179342,915.5714285714286,823.2857142857143,1.1120943952802358,4.822376161827166,0,0,0.11,0,CnC,2019-11-01,2021-10-31,2021-12-02\\n00180124ES,7,0.4054651081081644,246,1.0,42636.78833333333,41434.167916666665,1.0290248477798662,1047.857142857143,1043.7857142857142,1.0039006364196263,4.8272999178969735,0,0,0.11,0,CnC,2019-11-01,2021-10-31,2021-12-02\\n00180124ES,12,0.0,400,1.0,10826.865714285714,9298.190400000001,1.1644056798713986,500.42857142857144,418.14285714285717,1.1967885206696276,4.828073718265662,0,0,0.11,0,CnC,2019-11-01,2021-10-31,2021-12-02\\n00180124ES,10,0.9162907318741551,708,1.0,40240.06166666667,37476.63481481482,1.0737373263503223,505.42857142857144,458.2857142857143,1.10286783042394,4.952299717083292,0,0,0.11,0,CnC,2019-11-01,2021-10-31,2021-12-02\\n00180124ES,5,0.18232159653038368,574,1.0,38778.121999999996,40576.251,0.955685186391419,482.14285714285717,451.60714285714283,1.0676156583629894,4.825718392325797,0,0,0.11,0,CnC,2019-11-01,2021-10-31,2021-12-02\\n00180124ES,11,0.6931471805599453,385,1.0,14576.551666666666,15904.127916666663,0.9165263095872884,373.14285714285717,444.14285714285717,0.8401415246059827,4.828073718265662,0,0,0.11,0,CnC,2019-11-01,2021-10-31,2021-12-02\\n00180124HR,7,1.0986122886681096,245,1.0,29985.725714285712,35641.347142857136,0.8413185280033708,72.14285714285714,90.53571428571429,0.7968441814595659,7.155396301896734,0,0,0.3,0,CnC,2019-11-01,2021-10-31,2021-12-02\\n00180124RO,3,0.1335314373280052,126,1.0,29350.628571428573,31657.9075,0.9271184007164268,115.14285714285714,124.39285714285714,0.9256388171116853,6.572688024149897,0,0,0.13,0,CnC,2019-11-01,2021-10-31,2021-12-02\\n00180124RO,8,0.1335314373280052,656,1.0,18921.805714285718,18346.47642857143,1.0313591161743905,74.28571428571429,57.42857142857143,1.2935323383084578,6.512146466906872,0,0,0.13,0,CnC,2019-11-01,2021-10-31,2021-12-02\\n00180124CZ,8,0.1335314373280052,274,1.0,39860.91857142858,44694.84928571427,0.8918459108479251,144.14285714285714,169.5,0.8504003371260008,8.589123060803518,0,0,0.18,0,CnC,2019-11-01,2021-10-31,2021-12-02\\n00180124CZ,4,0.0,162,1.0,394.57142857142856,350.14285714285717,1.1268869849041205,5.142857142857143,5.535714285714286,0.9290322580645162,8.589123060803518,0,0,0.18,0,CnC,2019-11-01,2021-10-31,2021-12-02\\n00180124CZ,3,0.0,148,1.0,735.8571428571429,24281.5,0.03030525885374227,4.571428571428571,109.71428571428571,0.041666666666666664,8.589123060803518,0,0,0.18,0,CnC,2019-11-01,2021-10-31,2021-12-02\\n00180124ES,6,0.1541506457674607,231,1.0,18837.71,8605.748260869563,2.1889682836361,1009.4285714285714,720.7777777777778,1.4004712722147592,4.828073718265662,0,0,0.11,0,CnC,2019-11-01,2021-10-31,2021-12-02\\n00180124ES,3,0.9162907318741551,126,1.0,32880.170000000006,30070.913749999996,1.0934210471073567,915.5714285714286,823.2857142857143,1.1120943952802358,4.828073718265662,0,0,0.11,0,CnC,2019-11-01,2021-10-31,2021-12-02\\n00180124ES,12,0.28768210225410284,64,1.0,18038.101666666666,18132.27666666667,0.99480622308322,899.1666666666666,878.3846153846154,1.0236593980792246,4.828073718265662,0,0,0.11,0,CnC,2019-11-01,2021-10-31,2021-12-02\\n00180124ES,8,0.7731898148739162,281,1.0,38372.85833333334,35477.31500000001,1.0816167551950684,789.1428571428571,812.9285714285714,0.9707407081978736,4.826859372120311,0,0,0.11,0,CnC,2019-11-01,2021-10-31,2021-12-02\\n00180124ES,5,0.0,211,1.0,3925.6666666666665,1884.8095238095239,2.0827922488062454,288.7142857142857,95.0,3.039097744360902,4.828073718265662,0,0,0.11,0,CnC,2019-11-01,2021-10-31,2021-12-02\\n00180124ES,8,1.3437347259690442,288,1.0,52629.44333333333,50308.08583333332,1.0461428309494916,852.4285714285714,794.8571428571429,1.072429906542056,4.828073718265662,0,0,0.11,0,CnC,2019-11-01,2021-10-31,2021-12-02\\n00180124ES,8,0.0,656,1.0,20825.27333333333,21789.968749999996,0.9557275447369944,431.0,451.2142857142857,0.9552002532847871,4.952299717083292,0,0,0.11,0,CnC,2019-11-01,2021-10-31,2021-12-02\\n00180124RO,1,0.1335314373280052,77,1.0,32015.630000000005,38509.54958333334,0.8313685915936068,127.28571428571429,167.125,0.7616198311785447,6.572688024149897,0,0,0.13,0,CnC,2019-11-01,2021-10-31,2021-12-02\\n00180124RO,12,0.2513144150354294,413,1.0,46790.979999999996,42442.83928571428,1.1024469801611327,115.42857142857143,123.53571428571429,0.9343740965596993,6.572688024149897,0,0,0.13,0,CnC,2019-11-01,2021-10-31,2021-12-02\\n00180124CZ,11,0.35667496778059,15,1.0,52712.385714285716,47325.12733333333,1.1138350530576995,317.57142857142856,280.6666666666667,1.1314896504920255,8.589123060803518,0,0,0.18,0,CnC,2019-11-01,2021-10-31,2021-12-02\\n00180124ES,11,0.0,378,1.0,234.83333333333334,14338.952800000001,0.016377300114505805,396.85714285714283,486.39285714285717,0.8159189367794991,4.828073718265662,0,0,0.11,0,CnC,2019-11-01,2021-10-31,2021-12-02\\n00180124ES,11,1.0498221483405352,29,1.0,42775.63285714285,42321.323571428555,1.010734760810293,1072.857142857143,916.7142857142857,1.17032881408758,4.827433344987881,0,0,0.11,0,CnC,2019-11-01,2021-10-31,2021-12-02\\n00180124ES,11,1.2039727804840779,8,1.0,33222.558333333334,39602.86,0.8388929065560753,874.0,859.75,1.0165745856353592,4.828073718265662,0,0,0.11,0,CnC,2019-11-01,2021-10-31,2021-12-02\\n00180124ES,5,0.5389965106667944,554,1.0,48934.158333333326,41202.145833333336,1.1876604323298288,400.57142857142856,388.35714285714283,1.0314511679234872,4.8176629188554045,0,0,0.11,0,CnC,2019-11-01,2021-10-31,2021-12-02\\n00180124ES,8,1.0414539309266488,665,1.0,51752.99833333333,52399.250416666655,0.9876667685473651,422.57142857142856,446.85714285714283,0.9456521739130435,4.943972991552863,0,0,0.11,0,CnC,2019-11-01,2021-10-31,2021-12-02\\n00180124ES,9,0.7731898148739162,672,1.0,47655.611666666664,51213.20458333332,0.9305336788507778,432.57142857142856,431.82142857142856,1.0017368290463982,4.952299717083292,0,0,0.11,0,CnC,2019-11-01,2021-10-31,2021-12-02\\n00180124ES,12,0.7731898148739162,50,1.0,16653.685,18868.87916666667,0.882600649084659,863.4285714285714,961.0,0.8984688568455478,4.828073718265662,0,0,0.11,0,CnC,2019-11-01,2021-10-31,2021-12-02\\n00180124ES,7,0.0,638,1.0,17312.319999999996,17456.5988,0.991734999374563,427.57142857142856,465.39285714285717,0.918732253856189,4.952299717083292,0,0,0.11,0,CnC,2019-11-01,2021-10-31,2021-12-02\\n00180124ES,11,0.35667496778059,15,1.0,30970.14285714286,33131.634666666665,0.9347604840126269,880.1428571428571,869.2666666666667,1.0125119148050354,4.828073718265662,0,0,0.11,0,CnC,2019-11-01,2021-10-31,2021-12-02\\n00180124ES,2,0.6061357602214821,91,1.0,17776.735,17194.31625,1.033872748501994,812.4285714285714,755.4074074074074,1.0754839884571206,4.828073718265662,0,0,0.11,0,CnC,2019-11-01,2021-10-31,2021-12-02\\n00180124RO,11,0.35667496778059,376,1.0,23791.83571428571,24559.59464285714,0.9687389413491511,99.28571428571429,83.07142857142857,1.1951848667239897,6.572688024149897,0,0,0.13,0,CnC,2019-11-01,2021-10-31,2021-12-02\\n00180124CZ,12,0.0,36,1.0,51480.08571428571,54249.44857142858,0.9489513178461799,338.0,360.25,0.9382373351839001,8.589123060803518,0,0,0.18,0,CnC,2019-11-01,2021-10-31,2021-12-02\\n00180124CZ,2,0.0,477,1.0,443.7142857142857,417.7142857142857,1.0622435020519836,6.142857142857143,7.178571428571429,0.8557213930348259,8.589123060803518,0,0,0.18,0,CnC,2019-11-01,2021-10-31,2021-12-02\\n00180124CZ,5,0.2513144150354294,561,1.0,47267.088333333326,10918.98259259259,4.3288912618469775,191.0,47.03703703703704,4.060629921259842,8.589123060803518,0,0,0.18,0,CnC,2019-11-01,2021-10-31,2021-12-02\\n00180124CZ,1,0.0,456,1.0,1507.2857142857142,1210.107142857143,1.245580379541363,9.142857142857142,8.5,1.0756302521008403,8.589123060803518,0,0,0.18,0,CnC,2019-11-01,2021-10-31,2021-12-02\\n00180124ES,12,0.5877866384111654,56,1.0,55073.204000000005,41468.813846153855,1.3280631610134161,872.1666666666666,912.2592592592592,0.9560513174454955,4.828073718265662,0,0,0.11,0,CnC,2019-11-01,2021-10-31,2021-12-02\\n00180124ES,3,0.5108256714497054,512,1.0,23355.115,25605.463333333337,0.9121145239967667,355.2857142857143,349.67857142857144,1.0160351343070166,4.828073718265662,0,0,0.11,0,CnC,2019-11-01,2021-10-31,2021-12-02\\n00180124ES,8,1.0986122886681096,274,1.0,32482.543333333335,34578.8984,0.9393747295701397,769.4285714285714,854.6785714285714,0.9002548995027371,4.828073718265662,0,0,0.11,0,CnC,2019-11-01,2021-10-31,2021-12-02\\n00180124ES,7,0.18232159653038368,631,1.0,26114.905,25757.60576923077,1.013871601031958,427.85714285714283,479.85714285714283,0.8916344150044656,4.950701281786802,0,0,0.11,0,CnC,2019-11-01,2021-10-31,2021-12-02\\n00180124ES,8,0.9444615955953747,295,1.0,39142.80285714286,38233.25285714286,1.0237895008148665,784.4285714285714,798.8571428571429,0.9819384835479256,4.8273304048683014,0,0,0.11,0,CnC,2019-11-01,2021-10-31,2021-12-02\\n00180124ES,2,0.0,484,1.0,34168.68833333334,20011.129583333335,1.7074842372612191,441.14285714285717,337.5357142857143,1.3069516453285368,4.828073718265662,0,0,0.11,0,CnC,2019-11-01,2021-10-31,2021-12-02\\n00180124RO,3,0.45198510206864073,504,1.0,32620.62714285714,32834.015714285706,0.9935009907625852,52.857142857142854,61.892857142857146,0.85401038661281,6.572688024149897,0,0,0.13,0,CnC,2019-11-01,2021-10-31,2021-12-02\\n00180124RO,9,0.35667496778059,670,1.0,22006.54142857143,20215.848928571424,1.0885786447221213,62.142857142857146,59.17857142857143,1.0500905250452626,6.512146466906872,0,0,0.13,0,CnC,2019-11-01,2021-10-31,2021-12-02\\n00180124CZ,12,0.0,428,1.0,572.0,66677.91958333335,0.008578551994039355,6.0,222.66666666666666,0.02694610778443114,8.589123060803518,0,0,0.18,0,CnC,2019-11-01,2021-10-31,2021-12-02\\n00180124ES,11,0.7731898148739162,8,1.0,35795.63,37311.561428571425,0.959371000019029,874.0,859.75,1.0165745856353592,4.8252958824917815,0,0,0.11,0,CnC,2019-11-01,2021-10-31,2021-12-02\\n00180124ES,6,1.0296194001512595,225,1.0,36263.612,23733.44863636364,1.527953756557656,983.0,471.55555555555554,2.084590009425071,4.828073718265662,0,0,0.11,0,CnC,2019-11-01,2021-10-31,2021-12-02\\n00180124ES,7,0.1541506457674607,631,1.0,16358.851666666667,17332.7752,0.943810294537638,427.85714285714283,479.85714285714283,0.8916344150044656,4.952299717083292,0,0,0.11,0,CnC,2019-11-01,2021-10-31,2021-12-02\\n00180124ES,9,0.2513144150354294,673,1.0,32156.67285714286,27483.462499999998,1.1700371762525505,432.57142857142856,431.82142857142856,1.0017368290463982,4.952299717083292,0,0,0.11,0,CnC,2019-11-01,2021-10-31,2021-12-02\\n00180124CZ,4,0.0,162,1.0,1216.0,1047.5,1.1608591885441528,5.142857142857143,5.535714285714286,0.9290322580645162,8.589123060803518,0,0,0.18,0,CnC,2019-11-01,2021-10-31,2021-12-02\\n00180124ES,1,0.0,455,1.0,36.833333333333336,9654.19625,0.0038152666860623774,317.85714285714283,356.1111111111111,0.8925785602852685,4.828073718265662,0,0,0.11,0,CnC,2019-11-01,2021-10-31,2021-12-02\\n00180124ES,9,0.5877866384111654,330,1.0,27195.18,26715.3845,1.017959520664956,764.4285714285714,820.1071428571429,0.9321081740190742,4.828073718265662,0,0,0.11,0,CnC,2019-11-01,2021-10-31,2021-12-02\\n00180124ES,7,0.0,252,1.0,35294.22714285714,37880.1216,0.9317347899658575,989.4285714285714,1045.392857142857,0.9464657852481979,4.828073718265662,0,0,0.11,0,CnC,2019-11-01,2021-10-31,2021-12-02\\n00180124ES,8,0.9162907318741551,288,1.0,36850.676666666666,35107.60791666667,1.0496493168699343,852.4285714285714,794.8571428571429,1.072429906542056,4.828073718265662,0,0,0.11,0,CnC,2019-11-01,2021-10-31,2021-12-02\\n00180124ES,5,0.6931471805599453,553,1.0,32768.490000000005,17617.940000000002,1.8599501417305315,420.57142857142856,386.2142857142857,1.0889587571666357,4.828073718265662,0,0,0.11,0,CnC,2019-11-01,2021-10-31,2021-12-02\\n00180124ES,4,0.0,168,1.0,0.0,0.0,0.0,6.5,3.25,2.0,4.828073718265662,0,0,0.11,0,CnC,2019-11-01,2021-10-31,2021-12-02\\n00180124ES,5,0.6931471805599453,560,1.0,42279.722,32161.743565217388,1.3145967013344733,491.57142857142856,420.32142857142856,1.1695131277083863,4.828073718265662,0,0,0.11,0,CnC,2019-11-01,2021-10-31,2021-12-02\\n00180124ES,8,0.1541506457674607,274,1.0,24261.51,23561.609999999997,1.0297051007974414,769.4285714285714,854.6785714285714,0.9002548995027371,4.826231553972511,0,0,0.11,0,CnC,2019-11-01,2021-10-31,2021-12-02\\n00180124ES,1,0.0,85,1.0,17552.403333333332,19110.01125,0.9184925693507027,724.1428571428571,773.2307692307693,0.9365158319595247,4.828073718265662,0,0,0.11,0,CnC,2019-11-01,2021-10-31,2021-12-02\\n00180124ES,11,0.4054651081081644,379,1.0,34113.555714285714,31504.10428571428,1.082828935712821,396.85714285714283,486.39285714285717,0.8159189367794991,4.828073718265662,0,0,0.11,0,CnC,2019-11-01,2021-10-31,2021-12-02\\n00180124ES,1,0.4054651081081644,84,1.0,17230.381666666664,17936.884782608693,0.960611715774244,724.1428571428571,773.2307692307693,0.9365158319595247,4.828073718265662,0,0,0.11,0,CnC,2019-11-01,2021-10-31,2021-12-02\\n00180124RO,6,0.0,579,1.0,22159.838571428572,19916.92357142857,1.1126135264794372,50.142857142857146,49.107142857142854,1.0210909090909093,6.572688024149897,0,0,0.13,0,CnC,2019-11-01,2021-10-31,2021-12-02\\n00180124CZ,3,0.0,148,1.0,238.85714285714286,16082.576428571425,0.014851920270237445,4.571428571428571,109.71428571428571,0.041666666666666664,8.589123060803518,0,0,0.18,0,CnC,2019-11-01,2021-10-31,2021-12-02\\n00180124CZ,4,0.0,540,1.0,1251.4285714285713,1439.6666666666667,0.8692488340555021,3.5714285714285716,8.0,0.44642857142857145,8.589123060803518,0,0,0.18,0,CnC,2019-11-01,2021-10-31,2021-12-02\\n00180124ES,12,0.6061357602214821,50,1.0,15062.300000000001,18605.13666666667,0.8095774984005313,863.4285714285714,961.0,0.8984688568455478,4.825055076696756,0,0,0.11,0,CnC,2019-11-01,2021-10-31,2021-12-02\\n00180124ES,6,0.5108256714497054,582,1.0,30579.705000000005,32094.248695652183,0.9528094983617001,472.42857142857144,469.57142857142856,1.0060845756008518,4.828073718265662,0,0,0.11,0,CnC,2019-11-01,2021-10-31,2021-12-02\\n00180124ES,7,0.0,619,1.0,45928.31666666667,42918.049600000006,1.0701398850768529,511.85714285714283,479.85714285714283,1.0666865138434058,4.952299717083292,0,0,0.11,0,CnC,2019-11-01,2021-10-31,2021-12-02\\n00180124ES,7,0.4054651081081644,252,1.0,22792.494285714285,26081.961999999996,0.8738795910259469,989.4285714285714,1045.392857142857,0.9464657852481979,4.828073718265662,0,0,0.11,0,CnC,2019-11-01,2021-10-31,2021-12-02\\n00180124ES,10,0.0,722,1.0,15862.913333333332,18273.1747826087,0.8680983749157093,452.42857142857144,480.67857142857144,0.9412289174530054,4.952299717083292,0,0,0.11,0,CnC,2019-11-01,2021-10-31,2021-12-02\\n00180124RO,11,0.45198510206864073,12,1.0,23521.374285714286,23772.80866666666,0.9894234465738613,130.85714285714286,106.73333333333333,1.2260194521281342,6.572688024149897,0,0,0.13,0,CnC,2019-11-01,2021-10-31,2021-12-02\\n00180124CZ,3,0.0,134,1.0,35080.392857142855,39070.94821428571,0.8978638722752122,196.28571428571428,214.5,0.9150849150849151,8.589123060803518,0,0,0.18,0,CnC,2019-11-01,2021-10-31,2021-12-02\\n00180124CZ,3,0.0,141,1.0,364.0614285714286,28692.17357142857,0.012688527331856029,8.0,159.60714285714286,0.05012307003803983,8.589123060803518,0,0,0.18,0,CnC,2019-11-01,2021-10-31,2021-12-02\\n00180124CZ,9,0.0,687,1.0,37724.969999999994,38433.39857142857,0.9815673711469476,125.42857142857143,150.96428571428572,0.8308493021055121,8.663217245290781,0,0,0.18,0,CnC,2019-11-01,2021-10-31,2021-12-02\\n00180124CZ,10,0.0,715,1.0,34664.71428571428,34309.506296296306,1.0103530486959038,178.57142857142858,170.44444444444446,1.047681132426895,8.663217245290781,0,0,0.18,0,CnC,2019-11-01,2021-10-31,2021-12-02\\n00180124CZ,3,0.0,138,1.0,95.57142857142857,15289.490357142859,0.006250792298435248,8.0,159.60714285714286,0.05012307003803983,8.589123060803518,0,0,0.18,0,CnC,2019-11-01,2021-10-31,2021-12-02\\n00180124ES,12,0.8266785135798214,42,1.0,36137.80142857143,39269.02192307692,0.9202623253352437,880.8571428571429,955.1071428571429,0.9222600306622294,4.827639254518826,0,0,0.11,0,CnC,2019-11-01,2021-10-31,2021-12-02\\n00180124ES,10,0.5108256714497054,728,1.0,27260.506666666664,29591.49782608696,0.9212276724510591,459.7142857142857,478.0357142857143,0.9616735151288757,4.952299717083292,0,0,0.11,0,CnC,2019-11-01,2021-10-31,2021-12-02\\n00180124ES,5,0.0,189,1.0,441.75,353.4,1.25,19.166666666666668,7.5,2.555555555555556,4.828073718265662,0,0,0.11,0,CnC,2019-11-01,2021-10-31,2021-12-02\\n00180124ES,3,0.0,498,1.0,106.2,74.3913043478261,1.4275862068965517,331.7142857142857,374.35714285714283,0.8860904407555811,4.828073718265662,0,0,0.11,0,CnC,2019-11-01,2021-10-31,2021-12-02\\n00180124ES,2,0.7621400202577524,106,1.0,33158.362857142856,33909.26,0.9778556906621629,843.8571428571429,796.3928571428571,1.0595990851607697,4.828073718265662,0,0,0.11,0,CnC,2019-11-01,2021-10-31,2021-12-02\\n00180124ES,7,0.0,617,1.0,32979.26571428571,31788.71321428571,1.037452050731798,538.0,476.60714285714283,1.128812289246909,4.828073718265662,0,0,0.11,0,CnC,2019-11-01,2021-10-31,2021-12-02\\n00180124ES,3,0.5108256714497054,498,1.0,42927.53333333333,38964.572083333325,1.1017067822925,331.7142857142857,374.35714285714283,0.8860904407555811,4.828073718265662,0,0,0.11,0,CnC,2019-11-01,2021-10-31,2021-12-02\\n00180124ES,10,0.35667496778059,701,1.0,35775.58142857142,37291.775357142855,0.9593424042151154,470.2857142857143,447.89285714285717,1.049996013077107,4.952299717083292,0,0,0.11,0,CnC,2019-11-01,2021-10-31,2021-12-02\\n00180124ES,10,0.6931471805599453,344,1.0,26725.493333333336,25033.19208333333,1.0676022955588915,681.8571428571429,765.3214285714286,0.8909421811563769,4.826111301513155,0,0,0.11,0,CnC,2019-11-01,2021-10-31,2021-12-02\\n00180124ES,6,0.18232159653038368,589,1.0,39957.304,38432.21954545454,1.0396824454216522,499.14285714285717,471.4642857142857,1.0587076736610863,4.828073718265662,0,0,0.11,0,CnC,2019-11-01,2021-10-31,2021-12-02\\n00180124ES,2,0.47000364414689666,92,1.0,20240.002,17878.91291666667,1.1320599912499338,812.4285714285714,755.4074074074074,1.0754839884571206,4.828073718265662,0,0,0.11,0,CnC,2019-11-01,2021-10-31,2021-12-02\\n00180124ES,12,0.3364722195913143,425,1.0,15591.24,16191.458846153848,0.9629299094135408,588.5,554.8518518518518,1.0606434817435417,4.828073718265662,0,0,0.11,0,CnC,2019-11-01,2021-10-31,2021-12-02\\n00180124HR,4,0.0,161,1.0,371.42857142857144,2687.131851851852,0.13822491485581526,1.4285714285714286,9.333333333333334,0.15306122448979592,7.155396301896734,0,0,0.3,0,CnC,2019-11-01,2021-10-31,2021-12-02\\n00180124RO,5,0.45198510206864073,208,1.0,25621.644285714287,13383.335000000001,1.914443917432709,141.28571428571428,72.5,1.9487684729064039,6.572688024149897,0,0,0.13,0,CnC,2019-11-01,2021-10-31,2021-12-02\\n00180124CZ,12,0.2513144150354294,36,1.0,59400.81571428571,60414.29740740741,0.9832244727388415,338.0,360.25,0.9382373351839001,8.589123060803518,0,0,0.18,0,CnC,2019-11-01,2021-10-31,2021-12-02\\n00180124CZ,5,0.2513144150354294,575,1.0,47357.39000000001,38459.99222222223,1.23134164267035,165.42857142857142,155.07407407407408,1.0667712989184208,8.589123060803518,0,0,0.18,0,CnC,2019-11-01,2021-10-31,2021-12-02\\n00180124CZ,6,0.1335314373280052,582,1.0,39184.71285714286,48455.80666666668,0.8086690853523338,188.42857142857142,200.88888888888889,0.9379740834386852,8.589123060803518,0,0,0.18,0,CnC,2019-11-01,2021-10-31,2021-12-02\\n00180124ES,2,0.0,476,1.0,905.0,816.0833333333334,1.1089553762891862,361.0,306.7142857142857,1.176991150442478,4.828073718265662,0,0,0.11,0,CnC,2019-11-01,2021-10-31,2021-12-02\\n00180124ES,12,0.6061357602214821,63,1.0,51857.505000000005,42981.9812,1.2064940598875884,899.1666666666666,878.3846153846154,1.0236593980792246,4.828073718265662,0,0,0.11,0,CnC,2019-11-01,2021-10-31,2021-12-02\\n00180124ES,10,0.28768210225410284,707,1.0,39355.119999999995,38625.390454545464,1.01889248333459,505.42857142857144,458.2857142857143,1.10286783042394,4.952299717083292,0,0,0.11,0,CnC,2019-11-01,2021-10-31,2021-12-02\\n00180124ES,11,0.1541506457674607,15,1.0,16724.571666666667,18057.349230769232,0.9261919594581718,880.1428571428571,869.2666666666667,1.0125119148050354,4.8253493258003965,0,0,0.11,0,CnC,2019-11-01,2021-10-31,2021-12-02\\n00180124ES,1,0.0,456,1.0,8798.865,15702.1292,0.5603612661651007,317.85714285714283,356.1111111111111,0.8925785602852685,4.828073718265662,0,0,0.11,0,CnC,2019-11-01,2021-10-31,2021-12-02\\n00180124ES,11,0.2513144150354294,372,1.0,14387.871428571427,17347.434583333332,0.8293947649409023,390.2857142857143,541.2142857142857,0.7211297347235054,4.828073718265662,0,0,0.11,0,CnC,2019-11-01,2021-10-31,2021-12-02\\n00180124ES,12,0.1335314373280052,414,1.0,16961.342857142856,18167.3056,0.9336190644111175,584.2857142857143,500.67857142857144,1.166987659604822,4.828073718265662,0,0,0.11,0,CnC,2019-11-01,2021-10-31,2021-12-02\\n00180124ES,11,0.45198510206864073,29,1.0,30674.628571428573,30861.125357142857,0.9939569026224405,1072.857142857143,916.7142857142857,1.17032881408758,4.828073718265662,0,0,0.11,0,CnC,2019-11-01,2021-10-31,2021-12-02\\n00180124HR,3,0.2513144150354294,511,1.0,30711.510000000002,29954.694642857143,1.0252653337370383,46.285714285714285,53.0,0.8733153638814016,7.155396301896734,0,0,0.3,0,CnC,2019-11-01,2021-10-31,2021-12-02\\n00180124RO,5,0.18232159653038368,553,1.0,26323.394,31617.355769230766,0.8325615270337464,34.8,58.73076923076923,0.5925343811394891,6.572688024149897,0,0,0.13,0,CnC,2019-11-01,2021-10-31,2021-12-02\\n00180124CZ,10,0.45198510206864073,351,1.0,44875.49428571428,41973.799999999996,1.0691310838121468,209.0,198.66666666666666,1.052013422818792,8.589123060803518,0,0,0.18,0,CnC,2019-11-01,2021-10-31,2021-12-02\\n00180124CZ,11,0.0,390,1.0,801.3571428571429,341.5892857142857,2.3459668566051546,9.142857142857142,8.5,1.0756302521008403,8.589123060803518,0,0,0.18,0,CnC,2019-11-01,2021-10-31,2021-12-02\\n00180124CZ,4,0.0,516,1.0,125.42857142857143,146.92857142857142,0.8536703937773458,4.857142857142857,9.25,0.525096525096525,8.589123060803518,0,0,0.18,0,CnC,2019-11-01,2021-10-31,2021-12-02\\n00180124ES,12,0.6061357602214821,427,1.0,45333.966,36166.361304347825,1.2534842977015237,599.8333333333334,549.5,1.091598422808614,4.828073718265662,0,0,0.11,0,CnC,2019-11-01,2021-10-31,2021-12-02\\n00180124ES,8,0.6931471805599453,665,1.0,39176.665,40480.12541666666,0.9677999906559085,422.57142857142856,446.85714285714283,0.9456521739130435,4.952299717083292,0,0,0.11,0,CnC,2019-11-01,2021-10-31,2021-12-02\\n00180124ES,7,0.5108256714497054,624,1.0,33174.55166666666,33765.0496,0.9825115632783392,468.14285714285717,489.60714285714283,0.9561601867386389,4.948618006040289,0,0,0.11,0,CnC,2019-11-01,2021-10-31,2021-12-02\\n00180124ES,9,0.3364722195913143,687,1.0,36849.944,39938.41086956522,0.9226692599349575,434.2857142857143,438.32142857142856,0.9907927971970993,4.952299717083292,0,0,0.11,0,CnC,2019-11-01,2021-10-31,2021-12-02\\n00180124ES,9,1.6422277044934033,309,1.0,53591.40583333333,54717.413695652176,0.979421398303255,927.2857142857143,857.7142857142857,1.0811125916055964,4.828073718265662,0,0,0.11,0,CnC,2019-11-01,2021-10-31,2021-12-02\\n00180124ES,10,1.1526795350350776,344,1.0,48745.20166666666,48209.518749999996,1.0111115590977906,681.8571428571429,765.3214285714286,0.8909421811563769,4.828073718265662,0,0,0.11,0,CnC,2019-11-01,2021-10-31,2021-12-02\\n00180124ES,9,0.4054651081081644,330,1.0,24172.483333333334,27151.107272727273,0.8902945684876025,764.4285714285714,820.1071428571429,0.9321081740190742,4.828073718265662,0,0,0.11,0,CnC,2019-11-01,2021-10-31,2021-12-02\\n00180124ES,1,0.2513144150354294,442,1.0,16043.36142857143,18836.012000000002,0.8517387559835611,266.14285714285717,468.72,0.5678077682685978,4.828073718265662,0,0,0.11,0,CnC,2019-11-01,2021-10-31,2021-12-02\\n00180124ES,7,0.7731898148739162,267,1.0,16527.05,21576.28583333334,0.765982158730362,768.4285714285714,924.2857142857143,0.8313755795981452,4.827273218122585,0,0,0.11,0,CnC,2019-11-01,2021-10-31,2021-12-02\\n00180124CZ,12,0.0,43,1.0,63907.39285714286,62688.21392857142,1.0194482958145945,335.42857142857144,364.7142857142857,0.9197023110066589,8.589123060803518,0,0,0.18,0,CnC,2019-11-01,2021-10-31,2021-12-02\\n00180124CZ,8,0.0,645,1.0,57642.13428571428,52615.43321428571,1.0955366280261618,171.85714285714286,148.85714285714286,1.154510556621881,8.663217245290781,0,0,0.18,0,CnC,2019-11-01,2021-10-31,2021-12-02\\n00180124CZ,9,0.2513144150354294,680,1.0,43318.34428571429,53121.1175,0.8154637237387614,142.42857142857142,157.39285714285714,0.9049239845700022,8.663217245290781,0,0,0.18,0,CnC,2019-11-01,2021-10-31,2021-12-02\\n00180124ES,12,0.0,407,1.0,30159.649999999998,22285.648400000002,1.3533216291790726,515.8571428571429,447.89285714285717,1.1517422853042023,4.828073718265662,0,0,0.11,0,CnC,2019-11-01,2021-10-31,2021-12-02\\n00180124ES,9,0.4054651081081644,687,1.0,23296.030000000002,29387.487391304352,0.7927193533018141,434.2857142857143,438.32142857142856,0.9907927971970993,4.94886626337035,0,0,0.11,0,CnC,2019-11-01,2021-10-31,2021-12-02\\n00180124ES,10,1.0986122886681096,351,1.0,49923.033333333326,48152.12291666667,1.0367774110340149,616.1428571428571,712.7857142857143,0.8644152720713497,4.828073718265662,0,0,0.11,0,CnC,2019-11-01,2021-10-31,2021-12-02\\n00180124ES,8,0.5108256714497054,273,1.0,43161.00666666666,45080.3832,0.9574232427258219,769.4285714285714,854.6785714285714,0.9002548995027371,4.828073718265662,0,0,0.11,0,CnC,2019-11-01,2021-10-31,2021-12-02\\n00180124ES,10,0.8472979285067953,357,1.0,44420.09833333333,48258.65916666665,0.9204586099237356,542.1428571428571,657.2142857142857,0.8249103358330616,4.828073718265662,0,0,0.11,0,CnC,2019-11-01,2021-10-31,2021-12-02\\n00180124ES,9,0.3364722195913143,316,1.0,30572.974000000006,26983.255909090905,1.1330350237570734,762.4285714285714,835.2142857142857,0.9128538441802788,4.828073718265662,0,0,0.11,0,CnC,2019-11-01,2021-10-31,2021-12-02\\n00180124ES,12,0.6931471805599453,57,1.0,34058.53333333333,31982.301481481478,1.0649181502167393,872.1666666666666,912.2592592592592,0.9560513174454955,4.828073718265662,0,0,0.11,0,CnC,2019-11-01,2021-10-31,2021-12-02\\n00180124ES,2,0.9808291934070796,92,1.0,30794.213333333337,28829.1424,1.0681626565947844,812.4285714285714,755.4074074074074,1.0754839884571206,4.824118303255943,0,0,0.11,0,CnC,2019-11-01,2021-10-31,2021-12-02\\n00180124HR,10,0.6931471805599453,729,1.0,23342.022857142852,26423.130714285708,0.8833935353664565,51.42857142857143,55.57142857142857,0.9254498714652957,7.0909098220799835,0,0,0.3,0,CnC,2019-11-01,2021-10-31,2021-12-02\\n00180124CZ,6,0.0,232,1.0,41773.88285714287,45417.87714285714,0.9197674018481209,201.0,224.32142857142858,0.8960356631109695,8.589123060803518,0,0,0.18,0,CnC,2019-11-01,2021-10-31,2021-12-02\\n00180124ES,9,0.7621400202577524,323,1.0,44057.31714285714,45860.53428571427,0.9606804157225259,826.2857142857143,845.6785714285714,0.9770682883567718,4.828073718265662,0,0,0.11,0,CnC,2019-11-01,2021-10-31,2021-12-02\\n00180124ES,1,0.5389965106667944,456,1.0,31205.872857142855,25823.233599999992,1.2084417211461411,317.85714285714283,356.1111111111111,0.8925785602852685,4.828073718265662,0,0,0.11,0,CnC,2019-11-01,2021-10-31,2021-12-02\\n00180124ES,8,0.45198510206864073,666,1.0,41803.01285714285,43055.32178571429,0.9709139572849051,422.57142857142856,446.85714285714283,0.9456521739130435,4.952299717083292,0,0,0.11,0,CnC,2019-11-01,2021-10-31,2021-12-02\\n00180124ES,1,1.2039727804840779,70,1.0,32167.685,40133.43200000001,0.8015184198550475,671.0,827.92,0.8104647792057204,4.828073718265662,0,0,0.11,0,CnC,2019-11-01,2021-10-31,2021-12-02\\n00180124ES,5,0.0,554,1.0,17238.871666666662,19996.698333333334,0.862085899347217,400.57142857142856,388.35714285714283,1.0314511679234872,4.828073718265662,0,0,0.11,0,CnC,2019-11-01,2021-10-31,2021-12-02\\n00180124ES,8,0.5108256714497054,302,1.0,22605.01,21093.896086956527,1.0716374967817288,866.7142857142857,823.1785714285714,1.052887326999002,4.828073718265662,0,0,0.11,0,CnC,2019-11-01,2021-10-31,2021-12-02\\n00180124HR,4,0.0,154,1.0,253.57142857142858,9418.668148148148,0.02692221708875947,0.0,32.55555555555556,0.0,7.155396301896734,0,0,0.3,0,CnC,2019-11-01,2021-10-31,2021-12-02\\n00180124RO,12,0.2513144150354294,47,1.0,29626.85142857143,26537.541785714282,1.1164128037104095,185.57142857142858,175.78571428571428,1.0556684274685089,6.572688024149897,0,0,0.13,0,CnC,2019-11-01,2021-10-31,2021-12-02\\n00180124CZ,12,0.1335314373280052,400,1.0,25429.384285714284,7126.0599999999995,3.568505497527987,110.14285714285714,32.392857142857146,3.4002205071664826,8.589123060803518,0,0,0.18,0,CnC,2019-11-01,2021-10-31,2021-12-02\\n00180124CZ,9,0.0,309,1.0,39851.55,39342.95392857142,1.0129272467022166,119.71428571428571,149.10714285714286,0.802874251497006,8.589123060803518,0,0,0.18,0,CnC,2019-11-01,2021-10-31,2021-12-02\\n00180124CZ,3,0.0,509,1.0,151.28571428571428,154.39285714285714,0.9798750867453158,14.714285714285714,9.392857142857142,1.5665399239543727,8.589123060803518,0,0,0.18,0,CnC,2019-11-01,2021-10-31,2021-12-02\\n00180124ES,6,0.5108256714497054,595,1.0,28494.290000000005,32742.65636363636,0.8702497953600812,416.14285714285717,467.4642857142857,0.8902131560852625,4.828073718265662,0,0,0.11,0,CnC,2019-11-01,2021-10-31,2021-12-02\\n00180124ES,12,0.7731898148739162,57,1.0,40605.215000000004,39019.293703703705,1.0406445413476504,872.1666666666666,912.2592592592592,0.9560513174454955,4.828073718265662,0,0,0.11,0,CnC,2019-11-01,2021-10-31,2021-12-02\\n00180124ES,9,0.9985288803045109,316,1.0,47110.55142857142,44631.90571428573,1.05553528747244,762.4285714285714,835.2142857142857,0.9128538441802788,4.828073718265662,0,0,0.11,0,CnC,2019-11-01,2021-10-31,2021-12-02\\n00180124ES,3,1.0414539309266488,127,1.0,48204.19333333333,43995.62,1.095658916349703,915.5714285714286,823.2857142857143,1.1120943952802358,4.828073718265662,0,0,0.11,0,CnC,2019-11-01,2021-10-31,2021-12-02\\n00180124ES,4,0.6931471805599453,540,1.0,36301.62333333333,40873.97826086957,0.8881353095029276,341.85714285714283,350.57142857142856,0.9751426242868786,4.828073718265662,0,0,0.11,0,CnC,2019-11-01,2021-10-31,2021-12-02\\n00180124ES,12,0.5389965106667944,43,1.0,31386.89285714285,33474.159999999996,0.9376454213382159,880.8571428571429,955.1071428571429,0.9222600306622294,4.828073718265662,0,0,0.11,0,CnC,2019-11-01,2021-10-31,2021-12-02\\n00180124RO,12,0.4054651081081644,54,1.0,30820.57,27767.838000000003,1.1099376912239258,217.2,187.0,1.1614973262032084,6.572688024149897,0,0,0.13,0,CnC,2019-11-01,2021-10-31,2021-12-02\\n00180124CZ,2,0.2513144150354294,92,1.0,32236.807142857146,33445.86642857144,0.9638502626835391,192.57142857142858,209.60714285714286,0.9187255069006646,8.589123060803518,0,0,0.18,0,CnC,2019-11-01,2021-10-31,2021-12-02\\n00180124ES,10,1.0986122886681096,357,1.0,34708.530016666664,38438.9887,0.9029511751090024,542.1428571428571,657.2142857142857,0.8249103358330616,4.828073718265662,0,0,0.11,0,CnC,2019-11-01,2021-10-31,2021-12-02\\n00180124ES,9,0.0,673,1.0,24427.024999999998,23627.150833333333,1.0338540254941868,432.57142857142856,431.82142857142856,1.0017368290463982,4.952299717083292,0,0,0.11,0,CnC,2019-11-01,2021-10-31,2021-12-02\\n00180124ES,2,0.6931471805599453,98,1.0,48176.611666666664,43127.85200000001,1.1170649460276076,805.1428571428571,785.9285714285714,1.024447877851495,4.828073718265662,0,0,0.11,0,CnC,2019-11-01,2021-10-31,2021-12-02\\n00180124ES,8,1.0986122886681096,301,1.0,50712.488333333335,50311.20750000002,1.0079759730142297,866.7142857142857,823.1785714285714,1.052887326999002,4.827460040487317,0,0,0.11,0,CnC,2019-11-01,2021-10-31,2021-12-02\\n00180124ES,11,0.1541506457674607,8,1.0,20848.236666666664,22522.73,0.9256531808828976,874.0,859.75,1.0165745856353592,4.828073718265662,0,0,0.11,0,CnC,2019-11-01,2021-10-31,2021-12-02\\n00180124ES,3,0.5389965106667944,127,1.0,31373.95714285714,27619.735714285718,1.1359253204812394,915.5714285714286,823.2857142857143,1.1120943952802358,4.82392699336463,0,0,0.11,0,CnC,2019-11-01,2021-10-31,2021-12-02\\n00180124ES,9,0.5596157879354227,323,1.0,33623.771428571425,36132.30964285713,0.930573543759564,826.2857142857143,845.6785714285714,0.9770682883567718,4.824365952603141,0,0,0.11,0,CnC,2019-11-01,2021-10-31,2021-12-02\\n00180124HR,3,0.45198510206864073,490,1.0,27337.469999999998,29449.549642857135,0.9282814281212816,49.714285714285715,50.892857142857146,0.9768421052631578,7.155396301896734,0,0,0.3,0,CnC,2019-11-01,2021-10-31,2021-12-02\\n00180124RO,6,0.1541506457674607,224,1.0,34604.51142857142,35776.74785714285,0.9672346845707668,117.0,131.96428571428572,0.8866035182679296,6.572688024149897,0,0,0.13,0,CnC,2019-11-01,2021-10-31,2021-12-02\\n00180124RO,12,0.3364722195913143,425,1.0,41610.662000000004,42865.29846153847,0.970730719099875,92.0,109.76923076923077,0.8381219341275402,6.572688024149897,0,0,0.13,0,CnC,2019-11-01,2021-10-31,2021-12-02\\n00180124RO,4,0.1335314373280052,159,1.0,840.5714285714286,3106.5889285714284,0.2705769729752971,2.2857142857142856,17.642857142857142,0.12955465587044535,6.572688024149897,0,0,0.13,0,CnC,2019-11-01,2021-10-31,2021-12-02\\n00180124CZ,4,0.0,162,1.0,533.0,386.1382142857143,1.3803347617017223,5.142857142857143,5.535714285714286,0.9290322580645162,8.589123060803518,0,0,0.18,0,CnC,2019-11-01,2021-10-31,2021-12-02\\n00180124CZ,12,0.7621400202577524,400,1.0,34407.76571428571,9837.048571428571,3.497773286819188,110.14285714285714,32.392857142857146,3.4002205071664826,8.589123060803518,0,0,0.18,0,CnC,2019-11-01,2021-10-31,2021-12-02\\n00180124ES,6,1.4213856644885,239,1.0,50967.25285714286,43520.032692307694,1.1711216583288893,1134.857142857143,940.1481481481482,1.2071045878168476,4.828073718265662,0,0,0.11,0,CnC,2019-11-01,2021-10-31,2021-12-02\\n00180124ES,1,0.7731898148739162,78,1.0,40748.43,40203.816249999996,1.0135463197476933,802.0,810.72,0.989244128675745,4.828073718265662,0,0,0.11,0,CnC,2019-11-01,2021-10-31,2021-12-02\\n00180124ES,11,1.0986122886681096,0,1.0,28930.73,28930.73,1.0,760.0,760.0,1.0,4.828073718265662,0,0,0.11,0,CnC,2019-11-01,2021-10-31,2021-12-02\\n00180124HR,7,0.5389965106667944,623,1.0,30104.805714285718,28249.934999999994,1.065659291403174,40.285714285714285,73.82142857142857,0.5457184325108854,7.0909098220799835,0,0,0.3,0,CnC,2019-11-01,2021-10-31,2021-12-02\\n00180124RO,10,0.0,707,1.0,29462.347142857143,30654.28285714286,0.961116829258722,72.42857142857143,66.14285714285714,1.0950323974082075,6.512146466906872,0,0,0.13,0,CnC,2019-11-01,2021-10-31,2021-12-02\\n00180124CZ,10,0.1541506457674607,701,1.0,35921.958333333336,34026.85148148148,1.0556944521559168,192.66666666666666,149.74074074074073,1.2866683156072223,8.663217245290781,0,0,0.18,0,CnC,2019-11-01,2021-10-31,2021-12-02\\n00180124CZ,12,0.1335314373280052,47,1.0,39975.218571428566,34917.68357142857,1.1448416527875958,352.7142857142857,356.82142857142856,0.988489640676609,8.589123060803518,0,0,0.18,0,CnC,2019-11-01,2021-10-31,2021-12-02\\n00180124ES,9,0.5108256714497054,693,1.0,29813.13666666666,31898.953913043482,0.9346117351665275,423.14285714285717,438.4642857142857,0.9650566099209905,4.952299717083292,0,0,0.11,0,CnC,2019-11-01,2021-10-31,2021-12-02\\n00180124ES,2,0.28768210225410284,470,1.0,242.33333333333334,14610.417083333334,0.01658633918190962,252.42857142857142,297.10714285714283,0.8496213487197981,4.828073718265662,0,0,0.11,0,CnC,2019-11-01,2021-10-31,2021-12-02\\n00180124ES,9,0.6931471805599453,680,1.0,39105.84857142857,40588.94142857142,0.9634606667495184,463.85714285714283,432.92857142857144,1.0714403563768353,4.952299717083292,0,0,0.11,0,CnC,2019-11-01,2021-10-31,2021-12-02\\n00180124ES,6,1.0116009116784799,602,1.0,45640.782,42958.41869565217,1.0624409227758496,466.85714285714283,463.64285714285717,1.006932676012941,4.828073718265662,0,0,0.11,0,CnC,2019-11-01,2021-10-31,2021-12-02\\n00180124RO,9,0.2513144150354294,679,1.0,34491.32,32757.68178571428,1.0529231044378045,58.285714285714285,61.892857142857146,0.9417195614541257,6.512146466906872,0,0,0.13,0,CnC,2019-11-01,2021-10-31,2021-12-02\\n00180124RO,2,0.0,89,1.0,18671.367142857143,21310.730714285713,0.8761486123204933,113.28571428571429,139.35714285714286,0.8129164531009739,6.572688024149897,0,0,0.13,0,CnC,2019-11-01,2021-10-31,2021-12-02\\n00180124RO,8,0.2513144150354294,663,1.0,20354.197142857138,19201.33821428571,1.0600405511170936,52.857142857142854,61.357142857142854,0.8614668218859138,6.512146466906872,0,0,0.13,0,CnC,2019-11-01,2021-10-31,2021-12-02\\n00180124CZ,5,0.0,183,1.0,573.4285714285714,505.14814814814815,1.1351691054015272,7.714285714285714,6.2592592592592595,1.2324598478444633,8.589123060803518,0,0,0.18,0,CnC,2019-11-01,2021-10-31,2021-12-02\\n00180124CZ,1,0.0,449,1.0,468.7142857142857,532.1976923076923,0.8807146150556712,4.0,7.846153846153846,0.5098039215686275,8.589123060803518,0,0,0.18,0,CnC,2019-11-01,2021-10-31,2021-12-02\\n00180124ES,7,0.9444615955953747,260,1.0,46768.35,49810.12785714286,0.9389325426775297,924.7142857142857,1015.8928571428571,0.9102478467217437,4.828073718265662,0,0,0.11,0,CnC,2019-11-01,2021-10-31,2021-12-02\\n00180124ES,7,0.6931471805599453,260,1.0,27837.133333333335,26684.9992,1.0431753482433432,924.7142857142857,1015.8928571428571,0.9102478467217437,4.828073718265662,0,0,0.11,0,CnC,2019-11-01,2021-10-31,2021-12-02\\n00180124ES,1,0.4054651081081644,71,1.0,23424.309999999998,27005.185833333337,0.8674004372555232,671.0,827.92,0.8104647792057204,4.828073718265662,0,0,0.11,0,CnC,2019-11-01,2021-10-31,2021-12-02\\n00180124ES,5,0.1541506457674607,203,1.0,1424.5,552.5238095238095,2.5781694389382057,48.142857142857146,24.11111111111111,1.9967083607636604,4.828073718265662,0,0,0.11,0,CnC,2019-11-01,2021-10-31,2021-12-02\\n00180124ES,8,0.35667496778059,659,1.0,25265.777142857143,26610.901785714286,0.9494521210258551,412.7142857142857,448.10714285714283,0.9210169761696023,4.952299717083292,0,0,0.11,0,CnC,2019-11-01,2021-10-31,2021-12-02\\n00180124RO,4,0.1335314373280052,152,1.0,737.5714285714286,7021.165714285714,0.10504971091491523,1.7142857142857142,47.32142857142857,0.036226415094339624,6.572688024149897,0,0,0.13,0,CnC,2019-11-01,2021-10-31,2021-12-02\\n00180124CZ,1,0.0,453,1.0,108.42857142857143,124.78571428571429,0.8689181453921008,9.142857142857142,8.5,1.0756302521008403,8.589123060803518,0,0,0.18,0,CnC,2019-11-01,2021-10-31,2021-12-02\\n00180124CZ,7,0.0,628,1.0,22023.559999999998,20338.305357142857,1.0828611142012023,162.28571428571428,142.89285714285714,1.1357160709822545,8.652962544247242,0,0,0.18,0,CnC,2019-11-01,2021-10-31,2021-12-02\\n00180124ES,10,0.9808291934070796,350,1.0,21949.63,22781.91833333333,0.9634671531538427,616.1428571428571,712.7857142857143,0.8644152720713497,4.828073718265662,0,0,0.11,0,CnC,2019-11-01,2021-10-31,2021-12-02\\n00180124ES,10,0.1335314373280052,729,1.0,32896.44857142858,34967.761071428584,0.940765080847786,459.7142857142857,478.0357142857143,0.9616735151288757,4.952299717083292,0,0,0.11,0,CnC,2019-11-01,2021-10-31,2021-12-02\\n00180124ES,6,1.2039727804840779,224,1.0,41100.10666666667,25527.520434782607,1.6100312904133682,983.0,471.55555555555554,2.084590009425071,4.828073718265662,0,0,0.11,0,CnC,2019-11-01,2021-10-31,2021-12-02\\n00180124ES,3,0.3364722195913143,504,1.0,28612.404,20125.230454545457,1.421718079930739,348.14285714285717,371.14285714285717,0.9380292532717475,4.828073718265662,0,0,0.11,0,CnC,2019-11-01,2021-10-31,2021-12-02\\n00180124RO,5,0.0,182,1.0,260.0,284.7307692307692,0.913143320275564,1.1428571428571428,1.9615384615384615,0.5826330532212886,6.572688024149897,0,0,0.13,0,CnC,2019-11-01,2021-10-31,2021-12-02\\n00180124RO,9,0.1335314373280052,308,1.0,35223.97285714286,33646.037142857145,1.0468981148533476,68.28571428571429,65.21428571428571,1.0470974808324207,6.572688024149897,0,0,0.13,0,CnC,2019-11-01,2021-10-31,2021-12-02\\n00180124RO,4,0.1335314373280052,539,1.0,36221.207142857136,30275.373214285715,1.1963917632488779,78.14285714285714,55.464285714285715,1.4088860270444301,6.572688024149897,0,0,0.13,0,CnC,2019-11-01,2021-10-31,2021-12-02\\n00180124CZ,3,0.0,491,1.0,621.8571428571429,472.67857142857144,1.3156025689459765,5.428571428571429,5.535714285714286,0.9806451612903226,8.589123060803518,0,0,0.18,0,CnC,2019-11-01,2021-10-31,2021-12-02\\n00180124CZ,5,0.5389965106667944,561,1.0,49896.049999999996,11534.085185185184,4.32596510246763,191.0,47.03703703703704,4.060629921259842,8.589123060803518,0,0,0.18,0,CnC,2019-11-01,2021-10-31,2021-12-02\\n00180124CZ,8,0.6190392450860042,666,1.0,61041.32428571428,55478.505714285726,1.100269798182328,172.57142857142858,166.21428571428572,1.0382466695315857,8.663217245290781,0,0,0.18,0,CnC,2019-11-01,2021-10-31,2021-12-02\\n00180124CZ,10,0.2513144150354294,715,1.0,51851.94428571429,49931.79666666667,1.0384554081213238,178.57142857142858,170.44444444444446,1.047681132426895,8.663217245290781,0,0,0.18,0,CnC,2019-11-01,2021-10-31,2021-12-02\\n00180124ES,11,0.9162907318741551,15,1.0,31528.385000000006,35876.17923076923,0.8788111130005635,880.1428571428571,869.2666666666667,1.0125119148050354,4.828073718265662,0,0,0.11,0,CnC,2019-11-01,2021-10-31,2021-12-02\\n00180124ES,9,0.8266785135798214,673,1.0,38028.36571428571,32457.74571428571,1.171626829818566,432.57142857142856,431.82142857142856,1.0017368290463982,4.95109759433594,0,0,0.11,0,CnC,2019-11-01,2021-10-31,2021-12-02\\n00180124ES,9,0.7731898148739162,322,1.0,52417.100000000006,57311.630000000005,0.9145979620541241,826.2857142857143,845.6785714285714,0.9770682883567718,4.823930794173785,0,0,0.11,0,CnC,2019-11-01,2021-10-31,2021-12-02\\n00180124ES,5,0.0,195,1.0,137.6,245.57142857142858,0.560325770796975,22.428571428571427,11.84,1.8943050193050193,4.828073718265662,0,0,0.11,0,CnC,2019-11-01,2021-10-31,2021-12-02\\n00180124ES,5,0.0,204,1.0,852.6,297.8666666666667,2.862354521038496,48.142857142857146,24.11111111111111,1.9967083607636604,4.828073718265662,0,0,0.11,0,CnC,2019-11-01,2021-10-31,2021-12-02\\n00180124ES,2,0.35667496778059,477,1.0,28652.902857142853,29551.847500000003,0.969580763339512,361.0,306.7142857142857,1.176991150442478,4.8100566557573945,0,0,0.11,0,CnC,2019-11-01,2021-10-31,2021-12-02\\n00180124ES,10,0.9808291934070796,342,1.0,33629.613999999994,29113.26304347826,1.1551303593065791,710.7142857142857,764.3571428571429,0.9298196430240163,4.828073718265662,0,0,0.11,0,CnC,2019-11-01,2021-10-31,2021-12-02\\n00180124HR,10,0.8266785135798214,700,1.0,27047.554285714286,27974.153571428575,0.9668765925893582,62.857142857142854,63.464285714285715,0.9904333145751265,7.0909098220799835,0,0,0.3,0,CnC,2019-11-01,2021-10-31,2021-12-02\\n00180124RO,11,0.5596157879354227,371,1.0,37861.28142857143,38220.22964285714,0.9906084234019562,96.0,75.39285714285714,1.273330175272383,6.572688024149897,0,0,0.13,0,CnC,2019-11-01,2021-10-31,2021-12-02\\n00180124CZ,3,0.0,512,1.0,767.4285714285714,593.6428571428571,1.2927445554084949,14.714285714285714,9.392857142857142,1.5665399239543727,8.589123060803518,0,0,0.18,0,CnC,2019-11-01,2021-10-31,2021-12-02\\n00180124CZ,9,0.0,306,1.0,22952.355714285713,21756.36857142858,1.0549718184324086,119.71428571428571,149.10714285714286,0.802874251497006,8.589123060803518,0,0,0.18,0,CnC,2019-11-01,2021-10-31,2021-12-02\\n00180124CZ,12,0.22314355131420976,57,1.0,66509.6675,79083.13919999999,0.8410094512282589,330.5,340.2,0.9714873603762493,8.589123060803518,0,0,0.18,0,CnC,2019-11-01,2021-10-31,2021-12-02\\n00180124ES,10,0.8472979285067953,337,1.0,31770.00833333333,36885.186956521735,0.8613216023761002,788.7142857142857,785.4642857142857,1.0041376801709634,4.828073718265662,0,0,0.11,0,CnC,2019-11-01,2021-10-31,2021-12-02\\n00180124ES,8,0.4054651081081644,645,1.0,35137.151666666665,28866.601249999996,1.2172251025453393,492.7142857142857,454.07142857142856,1.0851030360232814,4.952299717083292,0,0,0.11,0,CnC,2019-11-01,2021-10-31,2021-12-02\\n00180124ES,7,0.5389965106667944,253,1.0,36892.69571428571,39978.62039999999,0.9228106259085849,956.1428571428571,1037.0714285714287,0.92196432261175,4.827410497472745,0,0,0.11,0,CnC,2019-11-01,2021-10-31,2021-12-02\\n00180124ES,2,1.3437347259690442,91,1.0,45444.791666666664,41173.88240000001,1.103728602155493,812.4285714285714,755.4074074074074,1.0754839884571206,4.828073718265662,0,0,0.11,0,CnC,2019-11-01,2021-10-31,2021-12-02\\n00180124HR,9,0.2513144150354294,329,1.0,30305.378571428573,30422.499642857143,0.9961501825029664,58.714285714285715,49.5,1.1861471861471862,7.111628604218233,0,0,0.3,0,CnC,2019-11-01,2021-10-31,2021-12-02\\n00180124RO,3,0.1335314373280052,509,1.0,19705.894285714287,20195.28035714286,0.9757673048962907,56.42857142857143,58.67857142857143,0.9616555082166768,6.572688024149897,0,0,0.13,0,CnC,2019-11-01,2021-10-31,2021-12-02\\n00180124CZ,3,0.0,498,1.0,1369.5714285714287,1359.8214285714287,1.0071700590938937,3.5714285714285716,4.392857142857143,0.8130081300813008,8.589123060803518,0,0,0.18,0,CnC,2019-11-01,2021-10-31,2021-12-02\\n00180124ES,10,0.2513144150354294,715,1.0,39433.26285714285,35748.67285714286,1.1030692807736995,494.57142857142856,473.35714285714283,1.0448166591217747,4.952299717083292,0,0,0.11,0,CnC,2019-11-01,2021-10-31,2021-12-02\\n00180124ES,10,0.8472979285067953,364,1.0,36541.20333333333,38351.4475,0.952798543870693,616.2857142857143,614.1071428571429,1.003547542890375,4.824626956795577,0,0,0.11,0,CnC,2019-11-01,2021-10-31,2021-12-02\\n00180124ES,7,0.1335314373280052,616,1.0,31042.50571428571,32361.420000000002,0.9592442394148869,538.0,476.60714285714283,1.128812289246909,4.935470307545066,0,0,0.11,0,CnC,2019-11-01,2021-10-31,2021-12-02\\n00180124ES,1,0.5108256714497054,85,1.0,17388.283333333336,16685.616249999995,1.042112144544457,724.1428571428571,773.2307692307693,0.9365158319595247,4.825817276567737,0,0,0.11,0,CnC,2019-11-01,2021-10-31,2021-12-02\\n00180124ES,10,0.4054651081081644,701,1.0,25269.32666666667,28223.29913043478,0.8953356781531372,470.2857142857143,447.89285714285717,1.049996013077107,4.952299717083292,0,0,0.11,0,CnC,2019-11-01,2021-10-31,2021-12-02\\n00180124ES,11,0.6190392450860042,393,1.0,37477.83142857142,39906.118571428575,0.9391500043154855,402.14285714285717,390.60714285714283,1.0295327786413095,4.828073718265662,0,0,0.11,0,CnC,2019-11-01,2021-10-31,2021-12-02\\n00180124ES,2,1.0414539309266488,99,1.0,42066.12333333333,40058.933333333334,1.0501059272671596,805.1428571428571,785.9285714285714,1.024447877851495,4.828073718265662,0,0,0.11,0,CnC,2019-11-01,2021-10-31,2021-12-02\\n00180124ES,5,0.18232159653038368,196,1.0,85.01599999999999,61.95157894736842,1.3722975498691676,22.428571428571427,11.84,1.8943050193050193,4.828073718265662,0,0,0.11,0,CnC,2019-11-01,2021-10-31,2021-12-02\\n00180124ES,6,0.1541506457674607,582,1.0,19075.981666666663,19383.95416666667,0.9841119878146634,472.42857142857144,469.57142857142856,1.0060845756008518,4.828073718265662,0,0,0.11,0,CnC,2019-11-01,2021-10-31,2021-12-02\\n00180124ES,3,0.6931471805599453,133,1.0,25437.302857142862,26846.65035714286,0.9475037860868545,771.0,802.4642857142857,0.9607904223596956,4.827420027515778,0,0,0.11,0,CnC,2019-11-01,2021-10-31,2021-12-02\\n00180124ES,8,0.6931471805599453,295,1.0,32386.649999999998,31922.48714285714,1.0145403099409414,784.4285714285714,798.8571428571429,0.9819384835479256,4.828073718265662,0,0,0.11,0,CnC,2019-11-01,2021-10-31,2021-12-02\\n00180124ES,4,0.1541506457674607,546,1.0,27829.195714285717,29052.633928571424,0.9578889054502376,413.2857142857143,360.17857142857144,1.1474467030242934,4.823984371785075,0,0,0.11,0,CnC,2019-11-01,2021-10-31,2021-12-02\\n00180124ES,7,0.875468777090329,265,1.0,23786.895,26017.102,0.9142791922021138,767.2857142857143,948.0714285714286,0.8093121374218338,4.828073718265662,0,0,0.11,0,CnC,2019-11-01,2021-10-31,2021-12-02\\n00180124RO,10,0.6931471805599453,362,1.0,24164.985714285714,24870.74785714285,0.9716228017383707,64.85714285714286,79.03571428571429,0.8206055128784455,6.572688024149897,0,0,0.13,0,CnC,2019-11-01,2021-10-31,2021-12-02\\n00180124CZ,9,0.0,673,1.0,39677.74571428571,39121.944285714286,1.0142068968891809,163.42857142857142,164.10714285714286,0.9958650707290532,8.663217245290781,0,0,0.18,0,CnC,2019-11-01,2021-10-31,2021-12-02\\n00180124CZ,5,0.0,544,1.0,392.7142857142857,283.5925925925926,1.3847832981958619,2.4285714285714284,7.37037037037037,0.3295046661880833,8.589123060803518,0,0,0.18,0,CnC,2019-11-01,2021-10-31,2021-12-02\\n00180124ES,2,0.4054651081081644,119,1.0,16824.413333333334,15751.251666666665,1.068131834179104,757.4285714285714,795.6785714285714,0.9519278244086359,4.828073718265662,0,0,0.11,0,CnC,2019-11-01,2021-10-31,2021-12-02\\n00180124ES,12,0.7884573820386862,420,1.0,30966.056,30927.771818181816,1.0012378577429777,497.8333333333333,525.5925925925926,0.9471848354590937,4.828073718265662,0,0,0.11,0,CnC,2019-11-01,2021-10-31,2021-12-02\\n00180124ES,5,0.0,565,1.0,31620.278333333335,28933.236363636373,1.0928704254140773,447.7142857142857,435.17857142857144,1.0288059089043906,4.828073718265662,0,0,0.11,0,CnC,2019-11-01,2021-10-31,2021-12-02\\n00180124ES,4,0.28768210225410284,546,1.0,33998.10857142857,32977.765714285706,1.0309403270671202,413.2857142857143,360.17857142857144,1.1474467030242934,4.828073718265662,0,0,0.11,0,CnC,2019-11-01,2021-10-31,2021-12-02\\n00180124ES,12,1.1526795350350776,43,1.0,50927.121666666666,46412.64916666666,1.09726814954666,880.8571428571429,955.1071428571429,0.9222600306622294,4.827580130876553,0,0,0.11,0,CnC,2019-11-01,2021-10-31,2021-12-02\\n00180124ES,4,0.0,175,1.0,0.6,0.6,1.0,2.2,2.8461538461538463,0.772972972972973,4.828073718265662,0,0,0.11,0,CnC,2019-11-01,2021-10-31,2021-12-02\\n00180124ES,10,0.28768210225410284,365,1.0,12994.816666666668,19778.52125,0.6570165940321078,616.2857142857143,614.1071428571429,1.003547542890375,4.828073718265662,0,0,0.11,0,CnC,2019-11-01,2021-10-31,2021-12-02\\n00180124ES,3,0.28768210225410284,490,1.0,32952.78142857143,30322.46071428571,1.0867449623917396,383.0,350.92857142857144,1.0913901892937106,4.828073718265662,0,0,0.11,0,CnC,2019-11-01,2021-10-31,2021-12-02\\n00180124ES,5,0.3364722195913143,552,1.0,33933.573333333334,29007.090370370373,1.169837198424947,422.42857142857144,386.85714285714283,1.0919497784342689,4.828073718265662,0,0,0.11,0,CnC,2019-11-01,2021-10-31,2021-12-02\\n00180124ES,8,0.28768210225410284,645,1.0,29511.022857142856,25970.93321428571,1.136309681814201,492.7142857142857,454.07142857142856,1.0851030360232814,4.952299717083292,0,0,0.11,0,CnC,2019-11-01,2021-10-31,2021-12-02\\n00180124ES,12,0.28768210225410284,399,1.0,950.5,739.0416666666666,1.2861250493319052,500.42857142857144,418.14285714285717,1.1967885206696276,4.828073718265662,0,0,0.11,0,CnC,2019-11-01,2021-10-31,2021-12-02\\n00180124ES,10,0.45198510206864073,722,1.0,31534.894285714287,35250.538928571434,0.8945932528751915,452.42857142857144,480.67857142857144,0.9412289174530054,4.952299717083292,0,0,0.11,0,CnC,2019-11-01,2021-10-31,2021-12-02\\n00180124ES,2,0.9985288803045109,113,1.0,31620.902857142857,33278.71892857143,0.950183897553663,776.2857142857143,809.4285714285714,0.9590540063536888,4.828073718265662,0,0,0.11,0,CnC,2019-11-01,2021-10-31,2021-12-02\\n00180124ES,12,1.0498221483405352,49,1.0,35578.76571428571,41539.9712,0.8564947130797653,863.4285714285714,961.0,0.8984688568455478,4.828073718265662,0,0,0.11,0,CnC,2019-11-01,2021-10-31,2021-12-02\\n00180124ES,2,0.4054651081081644,106,1.0,15740.25,15705.314166666669,1.0022244593748706,843.8571428571429,796.3928571428571,1.0595990851607697,4.828073718265662,0,0,0.11,0,CnC,2019-11-01,2021-10-31,2021-12-02\\n00180124ES,7,0.0,617,1.0,17566.145714285714,17301.770399999998,1.0152802463663324,538.0,476.60714285714283,1.128812289246909,4.828073718265662,0,0,0.11,0,CnC,2019-11-01,2021-10-31,2021-12-02\\n00180124ES,7,0.0,636,1.0,24227.53833333333,24349.66625,0.9949844110628552,432.85714285714283,464.64285714285717,0.9315910837817063,4.952299717083292,0,0,0.11,0,CnC,2019-11-01,2021-10-31,2021-12-02\\n00180124HR,1,0.6931471805599453,70,1.0,30966.395714285718,39743.512,0.7791559969407262,65.0,97.72,0.6651657797789603,7.154950135921407,0,0,0.3,0,CnC,2019-11-01,2021-10-31,2021-12-02\\n00180124CZ,11,0.2513144150354294,8,1.0,70246.4842857143,70023.88125,1.0031789588314814,245.42857142857142,248.375,0.9881371773671723,8.589123060803518,0,0,0.18,0,CnC,2019-11-01,2021-10-31,2021-12-02\\n00180124ES,2,0.0,462,1.0,10047.213333333333,18219.618333333332,0.5514502636398073,295.57142857142856,300.5357142857143,0.9834818775995247,4.828073718265662,0,0,0.11,0,CnC,2019-11-01,2021-10-31,2021-12-02\\n00180124ES,9,0.5389965106667944,316,1.0,25823.86142857143,27071.6068,0.953909445396179,762.4285714285714,835.2142857142857,0.9128538441802788,4.828073718265662,0,0,0.11,0,CnC,2019-11-01,2021-10-31,2021-12-02\\n00180124ES,1,1.2809338189711108,434,1.0,39247.67,38253.758799999996,1.02598205329825,554.6,563.08,0.984939973005612,4.828073718265662,0,0,0.11,0,CnC,2019-11-01,2021-10-31,2021-12-02\\n00180124ES,7,0.0,618,1.0,34261.64166666667,36378.91041666666,0.9417995556835045,511.85714285714283,479.85714285714283,1.0666865138434058,4.952299717083292,0,0,0.11,0,CnC,2019-11-01,2021-10-31,2021-12-02\\n00180124ES,2,0.4054651081081644,92,1.0,15737.355000000003,15053.762083333335,1.0454101049878757,812.4285714285714,755.4074074074074,1.0754839884571206,4.828073718265662,0,0,0.11,0,CnC,2019-11-01,2021-10-31,2021-12-02\\n00180124ES,3,0.5108256714497054,505,1.0,23885.91666666667,25113.818750000002,0.9511065164737907,348.14285714285717,371.14285714285717,0.9380292532717475,4.827099682765145,0,0,0.11,0,CnC,2019-11-01,2021-10-31,2021-12-02\\n00180124ES,10,0.5108256714497054,350,1.0,26559.68333333333,28613.146956521738,0.9282335624841026,616.1428571428571,712.7857142857143,0.8644152720713497,4.828073718265662,0,0,0.11,0,CnC,2019-11-01,2021-10-31,2021-12-02\\n00180124ES,10,0.1541506457674607,721,1.0,18612.128333333338,21280.004347826092,0.8746299121520011,452.42857142857144,480.67857142857144,0.9412289174530054,4.952299717083292,0,0,0.11,0,CnC,2019-11-01,2021-10-31,2021-12-02\\n00180124RO,11,0.45198510206864073,385,1.0,40941.76428571429,38123.07892857143,1.0739364562454161,133.85714285714286,98.5,1.3589557650471356,6.572688024149897,0,0,0.13,0,CnC,2019-11-01,2021-10-31,2021-12-02\\n00180124CZ,8,0.1335314373280052,659,1.0,40604.34142857143,39583.86678571429,1.0257800646000919,151.14285714285714,155.96428571428572,0.9690863292878406,8.663217245290781,0,0,0.18,0,CnC,2019-11-01,2021-10-31,2021-12-02\\n00180124CZ,5,0.0,550,1.0,329.2857142857143,285.60714285714283,1.1529323496311117,10.857142857142858,6.25,1.7371428571428573,8.589123060803518,0,0,0.18,0,CnC,2019-11-01,2021-10-31,2021-12-02\\n00180124ES,4,0.1541506457674607,532,1.0,21044.541666666668,25435.55083333333,0.8273672469120568,363.7142857142857,353.92857142857144,1.027648839556004,4.828073718265662,0,0,0.11,0,CnC,2019-11-01,2021-10-31,2021-12-02\\n00180124ES,5,0.47000364414689666,575,1.0,32253.936666666665,32344.759090909098,0.9971920512999598,482.14285714285717,451.60714285714283,1.0676156583629894,4.814020050954306,0,0,0.11,0,CnC,2019-11-01,2021-10-31,2021-12-02\\n00180124ES,10,0.5108256714497054,351,1.0,39314.915,42369.71791666667,0.927901268479651,616.1428571428571,712.7857142857143,0.8644152720713497,4.828073718265662,0,0,0.11,0,CnC,2019-11-01,2021-10-31,2021-12-02\\n00180124ES,9,0.8472979285067953,330,1.0,46194.315,50407.69729166667,0.9164139106119569,764.4285714285714,820.1071428571429,0.9321081740190742,4.828073718265662,0,0,0.11,0,CnC,2019-11-01,2021-10-31,2021-12-02\\n00180124ES,8,0.28768210225410284,281,1.0,20791.016666666666,18954.28541666667,1.0969032179068563,789.1428571428571,812.9285714285714,0.9707407081978736,4.828073718265662,0,0,0.11,0,CnC,2019-11-01,2021-10-31,2021-12-02\\n00180124HR,8,0.6061357602214821,658,1.0,30836.415000000005,27128.660000000007,1.1366729871656025,52.333333333333336,51.592592592592595,1.0143575017946878,7.089276548183468,0,0,0.3,0,CnC,2019-11-01,2021-10-31,2021-12-02\\n00180124RO,9,0.1335314373280052,320,1.0,22996.70714285714,22409.291785714286,1.0262130263981535,58.0,67.89285714285714,0.8542872172540769,6.572688024149897,0,0,0.13,0,CnC,2019-11-01,2021-10-31,2021-12-02\\n00180124CZ,10,0.47000364414689666,728,1.0,58938.541666666664,52841.665925925925,1.1153800818711395,198.0,182.0,1.0879120879120878,8.663217245290781,0,0,0.18,0,CnC,2019-11-01,2021-10-31,2021-12-02\\n00180124ES,6,0.4054651081081644,596,1.0,22867.349999999995,23414.989583333332,0.9766115811675122,416.14285714285717,467.4642857142857,0.8902131560852625,4.828073718265662,0,0,0.11,0,CnC,2019-11-01,2021-10-31,2021-12-02\\n00180124ES,4,0.0,540,1.0,7901.161666666667,9012.817272727272,0.8766583663662562,341.85714285714283,350.57142857142856,0.9751426242868786,4.828073718265662,0,0,0.11,0,CnC,2019-11-01,2021-10-31,2021-12-02\\n00180124ES,3,0.2513144150354294,491,1.0,35460.36,33449.832214285714,1.060105765937314,363.57142857142856,354.5357142857143,1.025486048151506,4.828073718265662,0,0,0.11,0,CnC,2019-11-01,2021-10-31,2021-12-02\\n00180124ES,6,0.9162907318741551,239,1.0,48597.72333333333,48645.88749999999,0.9990099026013933,1134.857142857143,940.1481481481482,1.2071045878168476,4.828073718265662,0,0,0.11,0,CnC,2019-11-01,2021-10-31,2021-12-02\\n00180124ES,2,0.0,483,1.0,2.1666666666666665,11.166666666666666,0.19402985074626866,441.14285714285717,337.5357142857143,1.3069516453285368,4.828073718265662,0,0,0.11,0,CnC,2019-11-01,2021-10-31,2021-12-02\\n00180124ES,8,0.28768210225410284,274,1.0,17238.556666666667,19725.343750000004,0.8739293411130877,769.4285714285714,854.6785714285714,0.9002548995027371,4.828073718265662,0,0,0.11,0,CnC,2019-11-01,2021-10-31,2021-12-02\\n00180124ES,1,0.35667496778059,78,1.0,28450.502857142856,31059.086,0.9160122373576239,802.0,810.72,0.989244128675745,4.828073718265662,0,0,0.11,0,CnC,2019-11-01,2021-10-31,2021-12-02\\n00180124ES,3,0.22314355131420976,505,1.0,31193.207142857136,31339.425714285717,0.9953343570248663,348.14285714285717,371.14285714285717,0.9380292532717475,4.828073718265662,0,0,0.11,0,CnC,2019-11-01,2021-10-31,2021-12-02\\n00180124ES,7,0.28768210225410284,616,1.0,27818.62833333333,24047.82130434782,1.1568045180169295,538.0,476.60714285714283,1.128812289246909,4.891138258337111,0,0,0.11,0,CnC,2019-11-01,2021-10-31,2021-12-02\\n00180124ES,8,0.4054651081081644,644,1.0,31258.515,25318.52125,1.234610611391848,492.7142857142857,454.07142857142856,1.0851030360232814,4.948759890378168,0,0,0.11,0,CnC,2019-11-01,2021-10-31,2021-12-02\\n00180124RO,12,0.0,42,1.0,41835.61571428571,40284.86392857142,1.0384946512035862,181.14285714285714,178.96428571428572,1.0121732189183794,6.572688024149897,0,0,0.13,0,CnC,2019-11-01,2021-10-31,2021-12-02\\n00180124CZ,7,0.45198510206864073,260,1.0,49465.30857142857,43192.942857142865,1.1452173734730473,190.42857142857142,181.85714285714286,1.0471327572663,8.589123060803518,0,0,0.18,0,CnC,2019-11-01,2021-10-31,2021-12-02\\n00180124CZ,3,0.0,502,1.0,154.85714285714286,242.10714285714286,0.6396223631804101,13.857142857142858,6.321428571428571,2.192090395480226,8.589123060803518,0,0,0.18,0,CnC,2019-11-01,2021-10-31,2021-12-02\\n00180124CZ,1,0.1335314373280052,78,1.0,56764.64000000001,58996.69125,0.9621665011595036,212.0,263.875,0.8034107058266224,8.589123060803518,0,0,0.18,0,CnC,2019-11-01,2021-10-31,2021-12-02\\n00180124CZ,9,0.1335314373280052,316,1.0,45609.26000000001,51194.96678571428,0.8908934386246553,155.85714285714286,145.0,1.0748768472906405,8.589123060803518,0,0,0.18,0,CnC,2019-11-01,2021-10-31,2021-12-02\\n00180124ES,2,0.0,483,1.0,323.8333333333333,108.33333333333333,2.9892307692307694,441.14285714285717,337.5357142857143,1.3069516453285368,4.828073718265662,0,0,0.11,0,CnC,2019-11-01,2021-10-31,2021-12-02\\n00180124ES,9,0.9808291934070796,309,1.0,39588.28,36970.465625,1.0708082608845964,927.2857142857143,857.7142857142857,1.0811125916055964,4.827473357426562,0,0,0.11,0,CnC,2019-11-01,2021-10-31,2021-12-02\\n00180124ES,1,0.0,456,1.0,77.0,6564.569583333334,0.011729634216307783,317.85714285714283,356.1111111111111,0.8925785602852685,4.828073718265662,0,0,0.11,0,CnC,2019-11-01,2021-10-31,2021-12-02\\n00180124ES,4,0.0,175,1.0,187.6,166.22222222222223,1.128609625668449,2.2,2.8461538461538463,0.772972972972973,4.828073718265662,0,0,0.11,0,CnC,2019-11-01,2021-10-31,2021-12-02\\n00180124ES,8,0.6931471805599453,274,1.0,36123.235,36774.53160000001,0.982289465788872,769.4285714285714,854.6785714285714,0.9002548995027371,4.828073718265662,0,0,0.11,0,CnC,2019-11-01,2021-10-31,2021-12-02\\n00180124ES,7,0.887303209025525,616,1.0,41109.235714285714,41935.04624999999,0.98030738941383,538.0,476.60714285714283,1.128812289246909,4.943915358945928,0,0,0.11,0,CnC,2019-11-01,2021-10-31,2021-12-02\\n00180124ES,8,0.28768210225410284,281,1.0,23577.808333333334,23648.559130434784,0.9970082406834505,789.1428571428571,812.9285714285714,0.9707407081978736,4.827460040487317,0,0,0.11,0,CnC,2019-11-01,2021-10-31,2021-12-02\\n00180124ES,9,0.7884573820386862,329,1.0,28123.948333333334,28637.01166666667,0.9820839080800271,764.4285714285714,820.1071428571429,0.9321081740190742,4.828073718265662,0,0,0.11,0,CnC,2019-11-01,2021-10-31,2021-12-02\\n00180124HR,12,0.8472979285067953,63,1.0,39090.595,42752.094800000006,0.9143550785726644,107.66666666666667,123.64,0.8708077213415292,7.155396301896734,0,0,0.3,0,CnC,2019-11-01,2021-10-31,2021-12-02\\n00180124RO,2,0.1335314373280052,96,1.0,17095.272857142856,19863.172500000004,0.860651683770196,120.14285714285714,131.75,0.9119002439685552,6.572688024149897,0,0,0.13,0,CnC,2019-11-01,2021-10-31,2021-12-02\\n00180124CZ,12,0.4054651081081644,57,1.0,50883.6225,59467.1704,0.8556590494845538,330.5,340.2,0.9714873603762493,8.589123060803518,0,0,0.18,0,CnC,2019-11-01,2021-10-31,2021-12-02\\n00180124ES,5,0.0,195,1.0,184.4,67.58823529411765,2.72828546562228,22.428571428571427,11.84,1.8943050193050193,4.828073718265662,0,0,0.11,0,CnC,2019-11-01,2021-10-31,2021-12-02\\n00180124ES,1,0.28768210225410284,78,1.0,17824.475000000002,16744.498333333333,1.064497403575045,802.0,810.72,0.989244128675745,4.825897490449438,0,0,0.11,0,CnC,2019-11-01,2021-10-31,2021-12-02\\n00180124ES,11,0.7621400202577524,386,1.0,37289.25571428571,40814.097499999996,0.9136366598400397,373.14285714285717,444.14285714285717,0.8401415246059827,4.824064732820093,0,0,0.11,0,CnC,2019-11-01,2021-10-31,2021-12-02\\n00180124ES,3,0.5877866384111654,491,1.0,45532.67166666667,28293.27208333333,1.6093109178944531,363.57142857142856,354.5357142857143,1.025486048151506,4.607567289276655,0,0,0.11,0,CnC,2019-11-01,2021-10-31,2021-12-02\\n00180124ES,2,0.0,477,1.0,14450.780000000004,14304.233913043481,1.0102449448077673,361.0,306.7142857142857,1.176991150442478,4.828073718265662,0,0,0.11,0,CnC,2019-11-01,2021-10-31,2021-12-02\\n00180124HR,9,0.5389965106667944,308,1.0,31353.237142857142,29942.970769230764,1.047098411994429,44.142857142857146,43.57692307692308,1.0129870129870129,7.155396301896734,0,0,0.3,0,CnC,2019-11-01,2021-10-31,2021-12-02\\n00180124RO,7,0.0,607,1.0,16156.871428571429,18508.31107142857,0.8729522302828011,28.142857142857142,47.42857142857143,0.5933734939759036,6.572688024149897,0,0,0.13,0,CnC,2019-11-01,2021-10-31,2021-12-02\\n00180124CZ,2,0.0,92,1.0,37026.13285714286,39521.82428571429,0.9368528281860325,192.57142857142858,209.60714285714286,0.9187255069006646,8.589123060803518,0,0,0.18,0,CnC,2019-11-01,2021-10-31,2021-12-02\\n00180124CZ,5,0.0,547,1.0,637.5714285714286,599.925925925926,1.0627502513537825,2.4285714285714284,7.37037037037037,0.3295046661880833,8.589123060803518,0,0,0.18,0,CnC,2019-11-01,2021-10-31,2021-12-02\\n00180124ES,4,0.0,153,1.0,0.0,13201.018,0.0,0.0,636.8181818181819,0.0,4.828073718265662,0,0,0.11,0,CnC,2019-11-01,2021-10-31,2021-12-02\\n00180124ES,2,0.4054651081081644,470,1.0,5006.866666666666,5321.900833333333,0.9408042020073967,252.42857142857142,297.10714285714283,0.8496213487197981,4.679937490992222,0,0,0.11,0,CnC,2019-11-01,2021-10-31,2021-12-02\\n00180124ES,3,0.7884573820386862,133,1.0,28188.67666666667,28683.339583333338,0.9827543471627657,771.0,802.4642857142857,0.9607904223596956,4.828073718265662,0,0,0.11,0,CnC,2019-11-01,2021-10-31,2021-12-02\\n00180124ES,12,0.9162907318741551,406,1.0,58310.295000000006,46887.54720000001,1.243620075737295,515.8571428571429,447.89285714285717,1.1517422853042023,4.828073718265662,0,0,0.11,0,CnC,2019-11-01,2021-10-31,2021-12-02\\n00180124ES,1,0.8472979285067953,71,1.0,26819.006666666668,31509.179599999996,0.851148998708512,671.0,827.92,0.8104647792057204,4.828073718265662,0,0,0.11,0,CnC,2019-11-01,2021-10-31,2021-12-02\\n00180124ES,10,0.4054651081081644,715,1.0,41143.496666666666,33532.104583333334,1.2269882006486545,494.57142857142856,473.35714285714283,1.0448166591217747,4.952299717083292,0,0,0.11,0,CnC,2019-11-01,2021-10-31,2021-12-02\\n00180124ES,10,0.5108256714497054,729,1.0,31041.731666666663,33451.75916666667,0.9279551341980992,459.7142857142857,478.0357142857143,0.9616735151288757,4.9216947892471,0,0,0.11,0,CnC,2019-11-01,2021-10-31,2021-12-02\\n00180124ES,4,0.22314355131420976,519,1.0,24398.49,20275.595454545455,1.2033427109303594,346.0,345.2857142857143,1.002068680182044,4.828073718265662,0,0,0.11,0,CnC,2019-11-01,2021-10-31,2021-12-02\\n00180124HR,5,0.0,553,1.0,27536.75142857143,29261.832857142854,0.9410467062335663,64.28571428571429,50.357142857142854,1.2765957446808514,7.155396301896734,0,0,0.3,0,CnC,2019-11-01,2021-10-31,2021-12-02\\n00180124RO,9,0.35667496778059,322,1.0,37225.82000000001,36004.58642857143,1.0339188334756004,58.0,67.89285714285714,0.8542872172540769,6.572688024149897,0,0,0.13,0,CnC,2019-11-01,2021-10-31,2021-12-02\\n00180124RO,9,0.2513144150354294,327,1.0,23228.445714285714,22883.98785714286,1.015052352732102,87.42857142857143,73.32142857142857,1.192401363857769,6.572688024149897,0,0,0.13,0,CnC,2019-11-01,2021-10-31,2021-12-02\\n00180124CZ,11,0.0,376,1.0,197.28571428571428,5609.138518518518,0.0351721950945546,4.571428571428571,54.0,0.08465608465608465,8.589123060803518,0,0,0.18,0,CnC,2019-11-01,2021-10-31,2021-12-02\\n00180124CZ,2,0.0,460,1.0,168.28571428571428,155.75,1.0804861270350836,5.285714285714286,8.214285714285714,0.6434782608695653,8.589123060803518,0,0,0.18,0,CnC,2019-11-01,2021-10-31,2021-12-02\\n00180124ES,1,0.6190392450860042,78,1.0,39764.684285714284,42209.875199999995,0.9420706433577488,802.0,810.72,0.989244128675745,4.828073718265662,0,0,0.11,0,CnC,2019-11-01,2021-10-31,2021-12-02\\n00180124ES,10,0.5108256714497054,700,1.0,28699.165000000005,33232.89272727273,0.8635770962076948,470.2857142857143,447.89285714285717,1.049996013077107,4.952299717083292,0,0,0.11,0,CnC,2019-11-01,2021-10-31,2021-12-02\\n00180124ES,2,1.252762968495368,91,1.0,28928.528333333335,29406.77999999999,0.9837366870270511,812.4285714285714,755.4074074074074,1.0754839884571206,4.828073718265662,0,0,0.11,0,CnC,2019-11-01,2021-10-31,2021-12-02\\n00180124ES,3,0.5389965106667944,127,1.0,35438.79571428571,32807.59428571428,1.0802009865660025,915.5714285714286,823.2857142857143,1.1120943952802358,4.828073718265662,0,0,0.11,0,CnC,2019-11-01,2021-10-31,2021-12-02\\n00180124ES,3,0.4054651081081644,505,1.0,34891.70714285714,34660.09714285714,1.0066823240294274,348.14285714285717,371.14285714285717,0.9380292532717475,4.825830676588303,0,0,0.11,0,CnC,2019-11-01,2021-10-31,2021-12-02\\n00180124ES,5,0.1541506457674607,568,1.0,34481.02833333333,35532.87500000001,0.9703979296168216,432.14285714285717,442.89285714285717,0.9757277638900089,4.828073718265662,0,0,0.11,0,CnC,2019-11-01,2021-10-31,2021-12-02\\n00180124ES,10,0.28768210225410284,728,1.0,37722.58,40731.2425,0.9261337902962327,459.7142857142857,478.0357142857143,0.9616735151288757,4.952299717083292,0,0,0.11,0,CnC,2019-11-01,2021-10-31,2021-12-02\\n00180124ES,5,0.0,189,1.0,37.5,44.23529411764706,0.8477393617021277,19.166666666666668,7.5,2.555555555555556,4.828073718265662,0,0,0.11,0,CnC,2019-11-01,2021-10-31,2021-12-02\\n00180124ES,8,0.0,652,1.0,20511.353333333333,21048.20041666667,0.9744943951166369,459.42857142857144,451.89285714285717,1.0166758871413895,4.952299717083292,0,0,0.11,0,CnC,2019-11-01,2021-10-31,2021-12-02\\n00180124ES,11,0.1335314373280052,372,1.0,12606.79857142857,29067.177999999993,0.4337125045791708,390.2857142857143,541.2142857142857,0.7211297347235054,4.828073718265662,0,0,0.11,0,CnC,2019-11-01,2021-10-31,2021-12-02\\n00180124RO,3,0.1335314373280052,490,1.0,32447.478571428568,34562.79892857142,0.9387977703566647,65.57142857142857,69.35714285714286,0.9454170957775488,6.572688024149897,0,0,0.13,0,CnC,2019-11-01,2021-10-31,2021-12-02\\n00180124RO,8,0.5596157879354227,278,1.0,19241.50857142857,18950.180000000004,1.015373393362415,76.57142857142857,79.39285714285714,0.9644624381466487,6.572688024149897,0,0,0.13,0,CnC,2019-11-01,2021-10-31,2021-12-02\\n00180124CZ,10,0.0,365,1.0,886.8333333333334,28692.198148148153,0.030908518362876676,9.166666666666666,146.1851851851852,0.06270585254623764,8.589123060803518,0,0,0.18,0,CnC,2019-11-01,2021-10-31,2021-12-02\\n00180124CZ,5,0.2513144150354294,575,1.0,48313.222857142864,37793.88407407408,1.2783344194645732,165.42857142857142,155.07407407407408,1.0667712989184208,8.589123060803518,0,0,0.18,0,CnC,2019-11-01,2021-10-31,2021-12-02\\n00180124CZ,12,0.0,36,1.0,77435.47142857141,81230.63821428572,0.9532791214110286,338.0,360.25,0.9382373351839001,8.589123060803518,0,0,0.18,0,CnC,2019-11-01,2021-10-31,2021-12-02\\n00180124ES,5,0.28768210225410284,204,1.0,1034.0,503.6,2.053216838760921,48.142857142857146,24.11111111111111,1.9967083607636604,4.826952826331346,0,0,0.11,0,CnC,2019-11-01,2021-10-31,2021-12-02\\n00180124ES,11,0.4054651081081644,8,1.0,34908.91166666667,36660.88,0.9522115035609257,874.0,859.75,1.0165745856353592,4.828073718265662,0,0,0.11,0,CnC,2019-11-01,2021-10-31,2021-12-02\\n00180124ES,6,0.6931471805599453,218,1.0,41110.15,21067.303181818188,1.951372211488345,582.1666666666666,221.88888888888889,2.6236855282924387,4.828073718265662,0,0,0.11,0,CnC,2019-11-01,2021-10-31,2021-12-02\\n00180124ES,7,0.6061357602214821,267,1.0,23966.845,24971.718749999996,0.9597595279660117,768.4285714285714,924.2857142857143,0.8313755795981452,4.8241985922424035,0,0,0.11,0,CnC,2019-11-01,2021-10-31,2021-12-02\\n00180124ES,3,0.1541506457674607,491,1.0,22106.27333333333,8922.352499999999,2.477628331018454,363.57142857142856,354.5357142857143,1.025486048151506,4.828073718265662,0,0,0.11,0,CnC,2019-11-01,2021-10-31,2021-12-02\\n00180124ES,8,1.0414539309266488,281,1.0,40286.42333333333,37817.802083333336,1.0652766981158839,789.1428571428571,812.9285714285714,0.9707407081978736,4.828073718265662,0,0,0.11,0,CnC,2019-11-01,2021-10-31,2021-12-02\\n00180124ES,2,0.6061357602214821,120,1.0,16739.365,17305.77958333333,0.9672702070076736,757.4285714285714,795.6785714285714,0.9519278244086359,4.828073718265662,0,0,0.11,0,CnC,2019-11-01,2021-10-31,2021-12-02\\n00180124ES,6,0.6931471805599453,225,1.0,35801.77714285715,10579.337600000003,3.384122758579624,983.0,471.55555555555554,2.084590009425071,4.828073718265662,0,0,0.11,0,CnC,2019-11-01,2021-10-31,2021-12-02\\n00180124RO,1,0.1335314373280052,455,1.0,32416.375714285714,34472.28925925925,0.9403603999284348,96.42857142857143,78.70370370370371,1.2252100840336133,6.572688024149897,0,0,0.13,0,CnC,2019-11-01,2021-10-31,2021-12-02\\n00180124CZ,12,0.1335314373280052,407,1.0,77170.27,25238.54928571428,3.057634934813013,265.0,97.5,2.717948717948718,8.58683175283807,0,0,0.18,0,CnC,2019-11-01,2021-10-31,2021-12-02\\n00180124ES,4,0.7621400202577524,540,1.0,33671.32,39450.96428571428,0.8534980224093744,341.85714285714283,350.57142857142856,0.9751426242868786,4.828073718265662,0,0,0.11,0,CnC,2019-11-01,2021-10-31,2021-12-02\\n00180124ES,12,0.7621400202577524,49,1.0,33581.98142857143,38321.43407407408,0.8763237138688118,863.4285714285714,961.0,0.8984688568455478,4.799808450353158,0,0,0.11,0,CnC,2019-11-01,2021-10-31,2021-12-02\\n00180124ES,8,0.6061357602214821,295,1.0,26716.73,26117.962916666667,1.0229254894512174,784.4285714285714,798.8571428571429,0.9819384835479256,4.74178226999555,0,0,0.11,0,CnC,2019-11-01,2021-10-31,2021-12-02\\n00180124ES,10,0.0,728,1.0,18776.881666666664,20089.798636363637,0.9346475794276743,471.2857142857143,481.2142857142857,0.9793676710702093,4.952299717083292,0,0,0.11,0,CnC,2019-11-01,2021-10-31,2021-12-02\\n00180124ES,8,0.35667496778059,652,1.0,29612.731428571427,30619.80964285714,0.9671102392199019,459.42857142857144,451.89285714285717,1.0166758871413895,4.952299717083292,0,0,0.11,0,CnC,2019-11-01,2021-10-31,2021-12-02\\n00180124ES,11,1.0986122886681096,29,1.0,46456.55000000001,45716.17208333334,1.0161950986473032,1072.857142857143,916.7142857142857,1.17032881408758,4.828073718265662,0,0,0.11,0,CnC,2019-11-01,2021-10-31,2021-12-02\\n00180124ES,1,0.0,448,1.0,71.16666666666667,18303.400869565216,0.0038881663125786736,322.57142857142856,422.65384615384613,0.7632047632047632,4.828073718265662,0,0,0.11,0,CnC,2019-11-01,2021-10-31,2021-12-02\\n00180124ES,2,0.8472979285067953,106,1.0,31667.406666666666,30675.1075,1.0323486777240036,843.8571428571429,796.3928571428571,1.0595990851607697,4.828073718265662,0,0,0.11,0,CnC,2019-11-01,2021-10-31,2021-12-02\\n00180124ES,7,0.6931471805599453,624,1.0,32597.300000000003,32799.45461538462,0.9938366470493143,468.14285714285717,489.60714285714283,0.9561601867386389,4.932625693159488,0,0,0.11,0,CnC,2019-11-01,2021-10-31,2021-12-02\\n00180124ES,11,0.5108256714497054,393,1.0,15064.53,14908.471199999998,1.010467793639364,402.14285714285717,390.60714285714283,1.0295327786413095,4.828073718265662,0,0,0.11,0,CnC,2019-11-01,2021-10-31,2021-12-02\\n00180124CZ,5,0.0,565,1.0,37920.780000000006,16836.846296296295,2.252249580038138,257.2857142857143,112.81481481481481,2.280602194916049,8.589123060803518,0,0,0.18,0,CnC,2019-11-01,2021-10-31,2021-12-02\\n00180124CZ,7,0.0,607,1.0,19001.388571428568,19269.316428571434,0.986095622118406,137.71428571428572,139.53571428571428,0.9869465062707962,8.589123060803518,0,0,0.18,0,CnC,2019-11-01,2021-10-31,2021-12-02\\n00180124ES,9,0.5108256714497054,322,1.0,21243.171666666665,23609.450000000004,0.8997741017544526,826.2857142857143,845.6785714285714,0.9770682883567718,4.828073718265662,0,0,0.11,0,CnC,2019-11-01,2021-10-31,2021-12-02\\n00180124ES,11,0.5108256714497054,22,1.0,17858.475000000002,19351.939473684208,0.9228261086846051,839.8571428571429,859.9090909090909,0.976681316357815,4.828073718265662,0,0,0.11,0,CnC,2019-11-01,2021-10-31,2021-12-02\\n00180124ES,4,0.0,181,1.0,238.2,197.52941176470588,1.2058963668850506,1.7142857142857142,2.473684210526316,0.6930091185410333,4.828073718265662,0,0,0.11,0,CnC,2019-11-01,2021-10-31,2021-12-02\\n00180124ES,3,0.0,490,1.0,62.333333333333336,62.25,1.001338688085676,383.0,350.92857142857144,1.0913901892937106,4.828073718265662,0,0,0.11,0,CnC,2019-11-01,2021-10-31,2021-12-02\\n00180124ES,8,0.8266785135798214,274,1.0,36405.172857142854,38750.099285714285,0.9394859246351424,769.4285714285714,854.6785714285714,0.9002548995027371,4.724196886991129,0,0,0.11,0,CnC,2019-11-01,2021-10-31,2021-12-02\\n00180124ES,3,0.28768210225410284,491,1.0,39028.395,27740.957916666666,1.4068870699144775,363.57142857142856,354.5357142857143,1.025486048151506,4.82679256136938,0,0,0.11,0,CnC,2019-11-01,2021-10-31,2021-12-02\\n00180124ES,2,0.9808291934070796,476,1.0,34364.46,30714.87166666667,1.1188215393813299,361.0,306.7142857142857,1.176991150442478,4.828073718265662,0,0,0.11,0,CnC,2019-11-01,2021-10-31,2021-12-02\\n00180124RO,11,0.6931471805599453,0,1.0,34541.270000000004,34541.270000000004,1.0,73.0,73.0,1.0,6.572688024149897,0,0,0.13,0,CnC,2019-11-01,2021-10-31,2021-12-02\\n00180124CZ,12,0.45198510206864073,414,1.0,78516.4842857143,54798.16571428571,1.432830520187381,235.28571428571428,154.89285714285714,1.5190223656905695,8.589123060803518,0,0,0.18,0,CnC,2019-11-01,2021-10-31,2021-12-02\\n00180124ES,6,0.0,218,1.0,5540.2266666666665,3108.5157692307694,1.7822739461404264,582.1666666666666,221.88888888888889,2.6236855282924387,4.828073718265662,0,0,0.11,0,CnC,2019-11-01,2021-10-31,2021-12-02\\n00180124ES,8,0.22314355131420976,645,1.0,38292.474285714285,34302.0925,1.1163305645483372,492.7142857142857,454.07142857142856,1.0851030360232814,4.952299717083292,0,0,0.11,0,CnC,2019-11-01,2021-10-31,2021-12-02\\n00180124ES,4,0.18232159653038368,518,1.0,12032.162,7632.213636363637,1.576497012960019,346.0,345.2857142857143,1.002068680182044,4.828073718265662,0,0,0.11,0,CnC,2019-11-01,2021-10-31,2021-12-02\\n00180124ES,5,0.28768210225410284,201,1.0,800.0,457.27777777777777,1.749483659336654,28.428571428571427,15.333333333333334,1.8540372670807452,4.828073718265662,0,0,0.11,0,CnC,2019-11-01,2021-10-31,2021-12-02\\n00180124ES,1,0.1541506457674607,435,1.0,34908.19666666667,37637.32041666667,0.9274888934762879,544.8333333333334,557.8,0.9767539141866859,4.828073718265662,0,0,0.11,0,CnC,2019-11-01,2021-10-31,2021-12-02\\n00180124ES,6,0.5108256714497054,582,1.0,40499.409999999996,37006.74999999999,1.0943789984259629,472.42857142857144,469.57142857142856,1.0060845756008518,4.827286537549948,0,0,0.11,0,CnC,2019-11-01,2021-10-31,2021-12-02\\n00180124ES,4,0.0,540,1.0,17559.386,20318.697619047623,0.8641984013551672,341.85714285714283,350.57142857142856,0.9751426242868786,4.828073718265662,0,0,0.11,0,CnC,2019-11-01,2021-10-31,2021-12-02\\n00180124ES,11,0.4054651081081644,378,1.0,14414.86,18046.179999999997,0.7987762507079063,396.85714285714283,486.39285714285717,0.8159189367794991,4.828073718265662,0,0,0.11,0,CnC,2019-11-01,2021-10-31,2021-12-02\\n00180124CZ,7,0.1335314373280052,246,1.0,35223.357142857145,38178.70928571429,0.9225916172089406,151.85714285714286,189.53571428571428,0.8012059543998493,8.589123060803518,0,0,0.18,0,CnC,2019-11-01,2021-10-31,2021-12-02\\n00180124CZ,7,0.1335314373280052,260,1.0,47084.73428571429,40154.280000000006,1.1725956556988266,190.42857142857142,181.85714285714286,1.0471327572663,8.589123060803518,0,0,0.18,0,CnC,2019-11-01,2021-10-31,2021-12-02\\n00180124ES,4,0.2513144150354294,525,1.0,23177.300000000007,26803.287599999996,0.8647185504214047,350.7142857142857,350.0357142857143,1.0019385776961536,4.828073718265662,0,0,0.11,0,CnC,2019-11-01,2021-10-31,2021-12-02\\n00180124ES,11,0.6931471805599453,390,1.0,18557.981666666667,10781.551666666666,1.721271876296099,382.85714285714283,402.14285714285717,0.9520426287744226,4.828073718265662,0,0,0.11,0,CnC,2019-11-01,2021-10-31,2021-12-02\\n00180124ES,4,0.18232159653038368,545,1.0,19738.013333333336,27090.909999999996,0.7285843603383326,413.2857142857143,360.17857142857144,1.1474467030242934,4.822295664976738,0,0,0.11,0,CnC,2019-11-01,2021-10-31,2021-12-02\\n00180124ES,8,0.28768210225410284,288,1.0,27329.28833333333,25489.550416666665,1.072176161862146,852.4285714285714,794.8571428571429,1.072429906542056,4.828073718265662,0,0,0.11,0,CnC,2019-11-01,2021-10-31,2021-12-02\\n00180124ES,5,0.18232159653038368,196,1.0,620.0,421.10526315789474,1.472315960504937,22.428571428571427,11.84,1.8943050193050193,4.828073718265662,0,0,0.11,0,CnC,2019-11-01,2021-10-31,2021-12-02\\n00180124ES,11,1.5040773967762742,1,1.0,58093.659999999996,58093.659999999996,1.0,760.0,760.0,1.0,4.828073718265662,0,0,0.11,0,CnC,2019-11-01,2021-10-31,2021-12-02\\n00180124ES,9,0.9162907318741551,686,1.0,40642.475000000006,47679.234347826095,0.8524145900395121,434.2857142857143,438.32142857142856,0.9907927971970993,4.943984952621109,0,0,0.11,0,CnC,2019-11-01,2021-10-31,2021-12-02\\n00180124ES,4,0.0,174,1.0,28.4,17.75,1.5999999999999999,2.2,2.8461538461538463,0.772972972972973,4.606928663983402,0,0,0.11,0,CnC,2019-11-01,2021-10-31,2021-12-02\\n00180124HR,2,0.5389965106667944,105,1.0,29125.134285714284,27357.31607142857,1.0646195778003233,93.14285714285714,85.96428571428571,1.0835064395513088,7.153608151243886,0,0,0.3,0,CnC,2019-11-01,2021-10-31,2021-12-02\\n00180124RO,1,0.2513144150354294,84,1.0,36098.55,36461.08538461539,0.9900569228592312,166.28571428571428,157.26923076923077,1.0573315166125143,6.572688024149897,0,0,0.13,0,CnC,2019-11-01,2021-10-31,2021-12-02\\n00180124CZ,3,0.0,491,1.0,447.7142857142857,439.2857142857143,1.0191869918699188,5.428571428571429,5.535714285714286,0.9806451612903226,8.589123060803518,0,0,0.18,0,CnC,2019-11-01,2021-10-31,2021-12-02\\n00180124CZ,6,0.45198510206864073,603,1.0,47531.868571428575,50020.83714285713,0.9502413651270932,137.57142857142858,152.21428571428572,0.9038010323791648,8.589123060803518,0,0,0.18,0,CnC,2019-11-01,2021-10-31,2021-12-02\\n00180124ES,12,0.28768210225410284,56,1.0,22159.184999999998,20449.077916666673,1.083627588994589,872.1666666666666,912.2592592592592,0.9560513174454955,4.828073718265662,0,0,0.11,0,CnC,2019-11-01,2021-10-31,2021-12-02\\n00180124ES,2,0.9162907318741551,98,1.0,34234.75,30636.153199999993,1.1174624234481243,805.1428571428571,785.9285714285714,1.024447877851495,4.828073718265662,0,0,0.11,0,CnC,2019-11-01,2021-10-31,2021-12-02\\n00180124ES,4,0.1541506457674607,532,1.0,24613.271666666667,36014.132380952375,0.6834336978137077,363.7142857142857,353.92857142857144,1.027648839556004,4.828073718265662,0,0,0.11,0,CnC,2019-11-01,2021-10-31,2021-12-02\\n00180124ES,2,0.0,463,1.0,58.0,53.166666666666664,1.090909090909091,295.57142857142856,300.5357142857143,0.9834818775995247,4.828073718265662,0,0,0.11,0,CnC,2019-11-01,2021-10-31,2021-12-02\\n00180124ES,4,0.0,159,1.0,0.0,18012.995,0.0,0.0,262.0,0.0,4.828073718265662,0,0,0.11,0,CnC,2019-11-01,2021-10-31,2021-12-02\\n00180124ES,11,0.4054651081081644,372,1.0,8431.659999999998,30137.603333333333,0.27977208096949974,390.2857142857143,541.2142857142857,0.7211297347235054,4.828073718265662,0,0,0.11,0,CnC,2019-11-01,2021-10-31,2021-12-02\\n00180124ES,11,1.3862943611198906,22,1.0,44725.02999999999,46133.8152631579,0.9694630661886109,839.8571428571429,859.9090909090909,0.976681316357815,4.828073718265662,0,0,0.11,0,CnC,2019-11-01,2021-10-31,2021-12-02\\n00180124ES,5,1.349926734609651,553,1.0,41188.340000000004,42913.761666666665,0.9597932784343423,400.57142857142856,388.35714285714283,1.0314511679234872,4.825704623632922,0,0,0.11,0,CnC,2019-11-01,2021-10-31,2021-12-02\\n00180124ES,6,0.6061357602214821,581,1.0,44895.38999999999,41925.18625,1.0708453322613443,472.42857142857144,469.57142857142856,1.0060845756008518,4.810896267405735,0,0,0.11,0,CnC,2019-11-01,2021-10-31,2021-12-02\\n00180124ES,7,1.2039727804840779,260,1.0,40739.041666666664,42770.23192307692,0.9525092531631956,924.7142857142857,1015.8928571428571,0.9102478467217437,4.828073718265662,0,0,0.11,0,CnC,2019-11-01,2021-10-31,2021-12-02\\n00180124ES,4,0.4054651081081644,526,1.0,27396.933333333334,26269.577826086952,1.042914869614953,350.7142857142857,350.0357142857143,1.0019385776961536,4.828073718265662,0,0,0.11,0,CnC,2019-11-01,2021-10-31,2021-12-02\\n00180124ES,2,0.1541506457674607,99,1.0,17791.871666666666,18268.337916666667,0.9739184674504346,805.1428571428571,785.9285714285714,1.024447877851495,4.828073718265662,0,0,0.11,0,CnC,2019-11-01,2021-10-31,2021-12-02\\n00180124ES,2,0.0,106,1.0,17840.923333333336,18274.399999999998,0.9762795677742272,843.8571428571429,796.3928571428571,1.0595990851607697,4.828073718265662,0,0,0.11,0,CnC,2019-11-01,2021-10-31,2021-12-02\\n00180124ES,6,0.0,218,1.0,1193.3333333333333,609.9565217391304,1.9564235987359517,582.1666666666666,221.88888888888889,2.6236855282924387,4.828073718265662,0,0,0.11,0,CnC,2019-11-01,2021-10-31,2021-12-02\\n00180124ES,12,0.45198510206864073,400,1.0,35063.76285714285,32073.32714285714,1.093237464918001,500.42857142857144,418.14285714285717,1.1967885206696276,4.828073718265662,0,0,0.11,0,CnC,2019-11-01,2021-10-31,2021-12-02\\n00180124ES,1,0.6061357602214821,434,1.0,13533.031999999997,14816.738750000002,0.9133610457969367,544.8333333333334,557.8,0.9767539141866859,4.828073718265662,0,0,0.11,0,CnC,2019-11-01,2021-10-31,2021-12-02\\n00180124CZ,5,0.1335314373280052,211,1.0,66309.72285714286,44428.597777777766,1.4925009154871316,253.14285714285714,165.4814814814815,1.5297352602634606,8.589123060803518,0,0,0.18,0,CnC,2019-11-01,2021-10-31,2021-12-02\\n00180124ES,11,0.5108256714497054,14,1.0,35284.246666666666,37896.472499999996,0.9310694198956557,880.1428571428571,869.2666666666667,1.0125119148050354,4.828073718265662,0,0,0.11,0,CnC,2019-11-01,2021-10-31,2021-12-02\\n00180124ES,7,0.6931471805599453,252,1.0,44487.30428571429,50016.659583333334,0.8894497284768383,956.1428571428571,1037.0714285714287,0.92196432261175,4.828073718265662,0,0,0.11,0,CnC,2019-11-01,2021-10-31,2021-12-02\\n00180124ES,3,0.47000364414689666,504,1.0,39104.076,25845.805217391306,1.5129757293724158,348.14285714285717,371.14285714285717,0.9380292532717475,4.828073718265662,0,0,0.11,0,CnC,2019-11-01,2021-10-31,2021-12-02\\n00180124ES,7,0.5108256714497054,610,1.0,22898.888333333336,23082.44958333333,0.992047583626803,485.42857142857144,466.89285714285717,1.039700145337719,4.828073718265662,0,0,0.11,0,CnC,2019-11-01,2021-10-31,2021-12-02\\n00180124ES,4,0.0,168,1.0,0.0,0.0,0.0,6.5,3.25,2.0,4.828073718265662,0,0,0.11,0,CnC,2019-11-01,2021-10-31,2021-12-02\\n00180124ES,2,0.1541506457674607,98,1.0,17096.681666666667,16655.976000000002,1.0264593120611283,805.1428571428571,785.9285714285714,1.024447877851495,4.828073718265662,0,0,0.11,0,CnC,2019-11-01,2021-10-31,2021-12-02\\n00180124ES,5,0.0,211,1.0,2291.0,1077.6818181818182,2.125859378295162,288.7142857142857,95.0,3.039097744360902,4.828073718265662,0,0,0.11,0,CnC,2019-11-01,2021-10-31,2021-12-02\\n00180124ES,5,0.4054651081081644,211,1.0,18322.071666666667,4952.931739130435,3.6992376700679896,288.7142857142857,95.0,3.039097744360902,4.828073718265662,0,0,0.11,0,CnC,2019-11-01,2021-10-31,2021-12-02\\n00180124ES,2,0.1541506457674607,470,1.0,14779.771666666662,13555.193478260873,1.0903401482516428,252.42857142857142,297.10714285714283,0.8496213487197981,4.828073718265662,0,0,0.11,0,CnC,2019-11-01,2021-10-31,2021-12-02\\n00180124ES,4,0.1541506457674607,533,1.0,17617.205000000005,20511.081818181825,0.8589115462639043,363.7142857142857,353.92857142857144,1.027648839556004,4.820510052171679,0,0,0.11,0,CnC,2019-11-01,2021-10-31,2021-12-02\\n00180124ES,1,0.28768210225410284,448,1.0,8715.461666666666,12332.484999999995,0.7067076640812188,322.57142857142856,422.65384615384613,0.7632047632047632,4.828073718265662,0,0,0.11,0,CnC,2019-11-01,2021-10-31,2021-12-02\\n00180124HR,12,1.63760877615532,35,1.0,36451.588571428576,40027.83535714285,0.9106560034084854,158.85714285714286,103.25,1.5385679695607057,7.017829970606744,0,0,0.3,0,CnC,2019-11-01,2021-10-31,2021-12-02\\n00180124RO,11,0.1335314373280052,21,1.0,41988.052857142866,39113.99863636363,1.0734789160141576,198.28571428571428,135.86363636363637,1.459446542082875,6.572688024149897,0,0,0.13,0,CnC,2019-11-01,2021-10-31,2021-12-02\\n00180124RO,4,0.0,175,1.0,265.0,286.46153846153845,0.9250805585392052,5.2,2.1153846153846154,2.458181818181818,6.572688024149897,0,0,0.13,0,CnC,2019-11-01,2021-10-31,2021-12-02\\n00180124CZ,4,0.0,540,1.0,351.85714285714283,530.4444444444445,0.6633251541085642,3.5714285714285716,8.0,0.44642857142857145,8.589123060803518,0,0,0.18,0,CnC,2019-11-01,2021-10-31,2021-12-02\\n00180124CZ,2,0.0,95,1.0,19407.902857142857,20694.746071428566,0.9378178785164056,208.85714285714286,204.39285714285714,1.0218416914205837,8.589123060803518,0,0,0.18,0,CnC,2019-11-01,2021-10-31,2021-12-02\\n00180124CZ,2,0.0,467,1.0,562.5714285714286,247.0,2.277617119722383,8.142857142857142,6.642857142857143,1.225806451612903,8.543462304578737,0,0,0.18,0,CnC,2019-11-01,2021-10-31,2021-12-02\\n00180124ES,7,0.1335314373280052,253,1.0,50598.99714285714,52676.3942857143,0.9605630345237858,956.1428571428571,1037.0714285714287,0.92196432261175,4.828073718265662,0,0,0.11,0,CnC,2019-11-01,2021-10-31,2021-12-02\\n00180124ES,2,0.5389965106667944,470,1.0,37754.23857142857,36205.85964285715,1.0427659761111872,252.42857142857142,297.10714285714283,0.8496213487197981,4.828073718265662,0,0,0.11,0,CnC,2019-11-01,2021-10-31,2021-12-02\\n00180124ES,7,0.1541506457674607,267,1.0,24203.08,26226.944799999994,0.9228326129698495,768.4285714285714,924.2857142857143,0.8313755795981452,4.828073718265662,0,0,0.11,0,CnC,2019-11-01,2021-10-31,2021-12-02\\n00180124ES,12,0.7621400202577524,43,1.0,38800.79714285715,38869.064999999995,0.9982436455020761,880.8571428571429,955.1071428571429,0.9222600306622294,4.827536274511882,0,0,0.11,0,CnC,2019-11-01,2021-10-31,2021-12-02\\n00180124ES,7,0.6061357602214821,267,1.0,35519.67833333333,38337.7844,0.926492724846492,768.4285714285714,924.2857142857143,0.8313755795981452,4.828073718265662,0,0,0.11,0,CnC,2019-11-01,2021-10-31,2021-12-02\\n00180124ES,4,0.0,181,1.0,298.8,157.15384615384616,1.9013215859030836,1.7142857142857142,2.473684210526316,0.6930091185410333,4.828073718265662,0,0,0.11,0,CnC,2019-11-01,2021-10-31,2021-12-02\\n00180124ES,11,0.6931471805599453,1,1.0,32569.689999999995,32569.689999999995,1.0,760.0,760.0,1.0,4.828073718265662,0,0,0.11,0,CnC,2019-11-01,2021-10-31,2021-12-02\\n00180124ES,9,1.0986122886681096,311,1.0,40540.427142857145,35439.88785714285,1.1439208641481717,924.1428571428571,870.9642857142857,1.0610571205970394,4.824345853680901,0,0,0.11,0,CnC,2019-11-01,2021-10-31,2021-12-02\\n00180124CZ,8,0.35667496778059,666,1.0,43905.05428571429,41540.17999999999,1.056929803523102,172.57142857142858,166.21428571428572,1.0382466695315857,8.663217245290781,0,0,0.18,0,CnC,2019-11-01,2021-10-31,2021-12-02\\n00180124ES,6,0.0,595,1.0,17446.203999999998,17769.551304347824,0.9818032938024321,416.14285714285717,467.4642857142857,0.8902131560852625,4.828073718265662,0,0,0.11,0,CnC,2019-11-01,2021-10-31,2021-12-02\\n00180124ES,8,0.28768210225410284,665,1.0,19668.466666666664,20377.262173913045,0.9652163523638725,422.57142857142856,446.85714285714283,0.9456521739130435,4.9512391273197585,0,0,0.11,0,CnC,2019-11-01,2021-10-31,2021-12-02\\n00180124ES,9,0.9162907318741551,316,1.0,51692.45166666667,54472.98108695652,0.9489558058911587,762.4285714285714,835.2142857142857,0.9128538441802788,4.828073718265662,0,0,0.11,0,CnC,2019-11-01,2021-10-31,2021-12-02\\n00180124ES,5,0.0,210,1.0,3421.8333333333335,1364.1739130434783,2.5083556433792285,288.7142857142857,95.0,3.039097744360902,4.828073718265662,0,0,0.11,0,CnC,2019-11-01,2021-10-31,2021-12-02\\n00180124ES,12,0.45198510206864073,36,1.0,35252.21571428572,34243.06307692307,1.0294702794284407,1026.857142857143,954.9285714285714,1.0753235096117886,4.828073718265662,0,0,0.11,0,CnC,2019-11-01,2021-10-31,2021-12-02\\n00180124ES,7,0.5877866384111654,631,1.0,33285.909999999996,31641.47076923078,1.0519710111695668,427.85714285714283,479.85714285714283,0.8916344150044656,4.940541767410484,0,0,0.11,0,CnC,2019-11-01,2021-10-31,2021-12-02\\n00180124ES,4,0.0,167,1.0,0.0,0.0,0.0,7.666666666666667,3.2857142857142856,2.3333333333333335,4.828073718265662,0,0,0.11,0,CnC,2019-11-01,2021-10-31,2021-12-02\\n00180124CZ,3,0.0,148,1.0,428.06285714285707,18702.797857142858,0.022887637476088848,4.571428571428571,109.71428571428571,0.041666666666666664,8.589123060803518,0,0,0.18,0,CnC,2019-11-01,2021-10-31,2021-12-02\\n00180124CZ,9,0.0,316,1.0,35574.48857142857,41221.34750000001,0.8630112970331346,155.85714285714286,145.0,1.0748768472906405,8.589123060803518,0,0,0.18,0,CnC,2019-11-01,2021-10-31,2021-12-02\\n00180124CZ,6,0.1335314373280052,232,1.0,37878.439999999995,40681.48214285714,0.9310978362830052,201.0,224.32142857142858,0.8960356631109695,8.589123060803518,0,0,0.18,0,CnC,2019-11-01,2021-10-31,2021-12-02\\n00180124CZ,6,0.1335314373280052,239,1.0,57278.60428571429,59164.69296296296,0.9681213814727415,197.85714285714286,210.5,0.9399389209365456,8.589123060803518,0,0,0.18,0,CnC,2019-11-01,2021-10-31,2021-12-02\\n00180124ES,11,0.6931471805599453,14,1.0,31784.028333333332,34294.88333333334,0.9267863087447932,880.1428571428571,869.2666666666667,1.0125119148050354,4.6737629632064674,0,0,0.11,0,CnC,2019-11-01,2021-10-31,2021-12-02\\n00180124ES,6,0.5108256714497054,602,1.0,34210.615,32292.671818181818,1.059392520774274,466.85714285714283,463.64285714285717,1.006932676012941,4.828073718265662,0,0,0.11,0,CnC,2019-11-01,2021-10-31,2021-12-02\\n00180124ES,9,0.7731898148739162,323,1.0,35013.49333333333,38049.520000000004,0.92020854227158,826.2857142857143,845.6785714285714,0.9770682883567718,4.828073718265662,0,0,0.11,0,CnC,2019-11-01,2021-10-31,2021-12-02\\n00180124ES,2,0.6931471805599453,463,1.0,31712.04,25158.337307692305,1.26049824406734,295.57142857142856,300.5357142857143,0.9834818775995247,4.821018637965474,0,0,0.11,0,CnC,2019-11-01,2021-10-31,2021-12-02\\n00180124ES,7,0.28768210225410284,609,1.0,37843.46000000001,38757.047826086964,0.97642782726418,485.42857142857144,466.89285714285717,1.039700145337719,4.8712199255685755,0,0,0.11,0,CnC,2019-11-01,2021-10-31,2021-12-02\\n00180124ES,8,1.299283005804677,295,1.0,44144.113333333335,40468.441666666666,1.090828100003027,784.4285714285714,798.8571428571429,0.9819384835479256,4.828073718265662,0,0,0.11,0,CnC,2019-11-01,2021-10-31,2021-12-02\\n00180124ES,12,0.6931471805599453,43,1.0,32496.03428571429,32425.54857142858,1.002173770911861,880.8571428571429,955.1071428571429,0.9222600306622294,4.826952826331346,0,0,0.11,0,CnC,2019-11-01,2021-10-31,2021-12-02\\n00180124ES,7,0.5389965106667944,260,1.0,31861.084285714285,34746.49857142857,0.9169581280317288,924.7142857142857,1015.8928571428571,0.9102478467217437,4.828073718265662,0,0,0.11,0,CnC,2019-11-01,2021-10-31,2021-12-02\\n00180124HR,6,0.6190392450860042,602,1.0,27647.252857142856,29578.654642857142,0.9347028521400078,98.0,81.57142857142857,1.201401050788091,7.155396301896734,0,0,0.3,0,CnC,2019-11-01,2021-10-31,2021-12-02\\n00180124RO,3,0.0,140,1.0,14238.905714285715,25016.36678571429,0.5691836003306806,63.285714285714285,109.39285714285714,0.5785177930133856,6.572688024149897,0,0,0.13,0,CnC,2019-11-01,2021-10-31,2021-12-02\\n00180124RO,2,0.0,460,1.0,23426.35142857143,21895.746071428573,1.069904234007359,86.42857142857143,81.39285714285714,1.0618692408951296,6.572688024149897,0,0,0.13,0,CnC,2019-11-01,2021-10-31,2021-12-02\\n00180124CZ,8,0.1335314373280052,652,1.0,39045.44714285714,39213.229999999996,0.9957212691445501,169.28571428571428,158.75,1.0663667041619798,8.663217245290781,0,0,0.18,0,CnC,2019-11-01,2021-10-31,2021-12-02\\n00180124CZ,6,0.35667496778059,596,1.0,49951.032857142854,54063.07392857142,0.9239399321455264,143.71428571428572,159.17857142857142,0.9028494503028944,8.589123060803518,0,0,0.18,0,CnC,2019-11-01,2021-10-31,2021-12-02\\n00180124ES,12,0.9985288803045109,50,1.0,39729.057142857135,44645.381785714286,0.8898805554748266,863.4285714285714,961.0,0.8984688568455478,4.828073718265662,0,0,0.11,0,CnC,2019-11-01,2021-10-31,2021-12-02\\n00180124ES,2,0.9444615955953747,120,1.0,36593.47571428572,38391.9975,0.9531537324747357,757.4285714285714,795.6785714285714,0.9519278244086359,4.827730681616178,0,0,0.11,0,CnC,2019-11-01,2021-10-31,2021-12-02\\n00180124ES,7,0.5596157879354227,630,1.0,31574.365000000005,31358.504,1.006883651082335,427.85714285714283,479.85714285714283,0.8916344150044656,4.952299717083292,0,0,0.11,0,CnC,2019-11-01,2021-10-31,2021-12-02\\n00180124ES,7,0.2513144150354294,610,1.0,24655.91428571429,26273.36583333333,0.9384375965424666,485.42857142857144,466.89285714285717,1.039700145337719,4.846793360621068,0,0,0.11,0,CnC,2019-11-01,2021-10-31,2021-12-02\\n00180124ES,12,0.887303209025525,36,1.0,42366.34428571428,38471.92428571429,1.1012275853705114,1026.857142857143,954.9285714285714,1.0753235096117886,4.828073718265662,0,0,0.11,0,CnC,2019-11-01,2021-10-31,2021-12-02\\n00180124ES,10,0.887303209025525,358,1.0,26892.309999999998,31171.20285714286,0.8627292993230655,542.1428571428571,657.2142857142857,0.8249103358330616,4.827502006570848,0,0,0.11,0,CnC,2019-11-01,2021-10-31,2021-12-02\\n00180124ES,12,0.7621400202577524,414,1.0,35982.81857142857,40737.528571428564,0.8832842794657227,584.2857142857143,500.67857142857144,1.166987659604822,4.826243052432911,0,0,0.11,0,CnC,2019-11-01,2021-10-31,2021-12-02\\n00180124ES,4,0.3364722195913143,519,1.0,40392.865999999995,34837.108636363635,1.1594781421623823,346.0,345.2857142857143,1.002068680182044,4.820733074593861,0,0,0.11,0,CnC,2019-11-01,2021-10-31,2021-12-02\\n00180124ES,6,0.6931471805599453,589,1.0,44094.90166666667,45241.73625000001,0.9746509599676706,499.14285714285717,471.4642857142857,1.0587076736610863,4.828073718265662,0,0,0.11,0,CnC,2019-11-01,2021-10-31,2021-12-02\\n00180124ES,8,1.1526795350350776,273,1.0,48393.935,50087.25200000001,0.9661926551690236,769.4285714285714,854.6785714285714,0.9002548995027371,4.828073718265662,0,0,0.11,0,CnC,2019-11-01,2021-10-31,2021-12-02\\n00180124ES,3,0.7731898148739162,126,1.0,19430.06666666667,18715.584782608697,1.0381757712813706,915.5714285714286,823.2857142857143,1.1120943952802358,4.828073718265662,0,0,0.11,0,CnC,2019-11-01,2021-10-31,2021-12-02\\n00180124RO,6,0.2513144150354294,231,1.0,32784.89571428571,35604.58107142857,0.9208055460198756,135.85714285714286,136.78571428571428,0.9932114882506529,6.572688024149897,0,0,0.13,0,CnC,2019-11-01,2021-10-31,2021-12-02\\n00180124CZ,8,0.1335314373280052,288,1.0,38979.28571428572,41672.98,0.935361131224254,172.28571428571428,155.85714285714286,1.1054078826764435,8.589123060803518,0,0,0.18,0,CnC,2019-11-01,2021-10-31,2021-12-02\\n00180124CZ,12,0.5596157879354227,415,1.0,34964.49285714285,31835.93285714286,1.0982713468469343,340.42857142857144,211.67857142857142,1.6082335076767338,8.589123060803518,0,0,0.18,0,CnC,2019-11-01,2021-10-31,2021-12-02\\n00180124ES,5,0.0,188,1.0,205.5,182.57142857142858,1.1255868544600938,19.166666666666668,7.5,2.555555555555556,4.828073718265662,0,0,0.11,0,CnC,2019-11-01,2021-10-31,2021-12-02\\n00180124ES,4,0.0,181,1.0,647.2,334.7692307692308,1.9332720588235295,1.7142857142857142,2.473684210526316,0.6930091185410333,4.828073718265662,0,0,0.11,0,CnC,2019-11-01,2021-10-31,2021-12-02\\n00180124ES,5,0.28768210225410284,575,1.0,34564.95166666667,36090.27,0.957736023218077,482.14285714285717,451.60714285714283,1.0676156583629894,4.816726848291508,0,0,0.11,0,CnC,2019-11-01,2021-10-31,2021-12-02\\n00180124ES,9,0.0,687,1.0,19117.595,20364.864999999998,0.9387538292053497,434.2857142857143,438.32142857142856,0.9907927971970993,3.8677227199483095,0,0,0.11,0,CnC,2019-11-01,2021-10-31,2021-12-02\\n00180124ES,10,0.35667496778059,701,1.0,27346.868571428575,28563.90142857143,0.9573926250870792,470.2857142857143,447.89285714285717,1.049996013077107,4.952299717083292,0,0,0.11,0,CnC,2019-11-01,2021-10-31,2021-12-02\\n00180124ES,4,0.0,167,1.0,0.0,0.0,0.0,6.5,3.25,2.0,4.828073718265662,0,0,0.11,0,CnC,2019-11-01,2021-10-31,2021-12-02\\n00180124HR,8,0.5389965106667944,273,1.0,26664.39285714286,27915.52464285714,0.9551815055700766,43.142857142857146,48.892857142857146,0.8823959094229364,7.146791306822611,0,0,0.3,0,CnC,2019-11-01,2021-10-31,2021-12-02\\n00180124HR,9,0.2513144150354294,679,1.0,26716.760000000006,31318.807777777773,0.8530580151571687,62.857142857142854,62.74074074074074,1.0018552875695732,7.0909098220799835,0,0,0.3,0,CnC,2019-11-01,2021-10-31,2021-12-02\\n00180124RO,8,0.45198510206864073,299,1.0,21329.661428571428,20443.653214285714,1.0433390355920626,65.71428571428571,67.28571428571429,0.9766454352441611,6.572688024149897,0,0,0.13,0,CnC,2019-11-01,2021-10-31,2021-12-02\\n00180124CZ,6,0.2513144150354294,239,1.0,42116.462857142855,43876.24714285714,0.9598920965144402,197.85714285714286,210.5,0.9399389209365456,8.589123060803518,0,0,0.18,0,CnC,2019-11-01,2021-10-31,2021-12-02\\n00180124CZ,1,0.0,442,1.0,346.7142857142857,10219.9125,0.03392536733697923,14.428571428571429,82.83333333333333,0.1741879850531762,8.589123060803518,0,0,0.18,0,CnC,2019-11-01,2021-10-31,2021-12-02\\n00180124CZ,4,0.0,152,1.0,96.71428571428571,4903.164285714286,0.01972487154796538,4.428571428571429,53.32142857142857,0.08305425318151374,8.589123060803518,0,0,0.18,0,CnC,2019-11-01,2021-10-31,2021-12-02\\n00180124CZ,4,0.0,530,1.0,235.57142857142858,143.88888888888889,1.637175951461666,7.285714285714286,10.88888888888889,0.6690962099125364,8.589123060803518,0,0,0.18,0,CnC,2019-11-01,2021-10-31,2021-12-02\\n00180124ES,10,0.1541506457674607,364,1.0,41157.04499999999,46479.56958333333,0.8854867927769733,616.2857142857143,614.1071428571429,1.003547542890375,4.828073718265662,0,0,0.11,0,CnC,2019-11-01,2021-10-31,2021-12-02\\n00180124ES,7,0.1541506457674607,260,1.0,22615.976000000002,25547.624166666665,0.8852477182402058,924.7142857142857,1015.8928571428571,0.9102478467217437,4.828073718265662,0,0,0.11,0,CnC,2019-11-01,2021-10-31,2021-12-02\\n00180124ES,10,0.4054651081081644,351,1.0,22022.656666666662,24193.015833333327,0.9102898463912743,616.1428571428571,712.7857142857143,0.8644152720713497,4.817131452837452,0,0,0.11,0,CnC,2019-11-01,2021-10-31,2021-12-02\\n00180124ES,8,0.1335314373280052,652,1.0,25891.767142857145,26207.34714285714,0.9879583386185653,459.42857142857144,451.89285714285717,1.0166758871413895,4.952299717083292,0,0,0.11,0,CnC,2019-11-01,2021-10-31,2021-12-02\\n00180124ES,8,0.6061357602214821,273,1.0,25875.097999999998,24518.799166666664,1.0553166908425606,769.4285714285714,854.6785714285714,0.9002548995027371,4.828073718265662,0,0,0.11,0,CnC,2019-11-01,2021-10-31,2021-12-02\\n00180124ES,11,0.6931471805599453,371,1.0,13530.113333333335,21082.385833333334,0.6417733476796962,390.2857142857143,541.2142857142857,0.7211297347235054,4.828073718265662,0,0,0.11,0,CnC,2019-11-01,2021-10-31,2021-12-02\\n00180124RO,10,0.2513144150354294,698,1.0,20072.111428571432,21430.15071428572,0.9366295037389077,64.85714285714286,62.607142857142854,1.0359383913291502,6.512146466906872,0,0,0.13,0,CnC,2019-11-01,2021-10-31,2021-12-02\\n00180124CZ,2,0.1335314373280052,110,1.0,22089.12285714286,20374.461071428574,1.0841574056709053,227.57142857142858,216.60714285714286,1.050618301731245,8.589123060803518,0,0,0.18,0,CnC,2019-11-01,2021-10-31,2021-12-02\\n00180124ES,5,0.0,210,1.0,1090.6666666666667,463.79499999999996,2.351613679894494,288.7142857142857,95.0,3.039097744360902,4.828073718265662,0,0,0.11,0,CnC,2019-11-01,2021-10-31,2021-12-02\\n00180124ES,5,0.35667496778059,211,1.0,4728.921428571429,1781.7055555555553,2.6541542814558374,288.7142857142857,95.0,3.039097744360902,4.828073718265662,0,0,0.11,0,CnC,2019-11-01,2021-10-31,2021-12-02\\n00180124ES,9,1.0986122886681096,323,1.0,50378.071428571435,53704.800357142856,0.9380552779928739,826.2857142857143,845.6785714285714,0.9770682883567718,4.828073718265662,0,0,0.11,0,CnC,2019-11-01,2021-10-31,2021-12-02\\n00180124ES,1,0.1541506457674607,442,1.0,8589.644,35257.61869565217,0.24362518847761097,266.14285714285717,468.72,0.5678077682685978,4.828073718265662,0,0,0.11,0,CnC,2019-11-01,2021-10-31,2021-12-02\\n00180124ES,7,1.0296194001512595,265,1.0,35623.20500000001,39647.2075,0.8985047685893139,767.2857142857143,948.0714285714286,0.8093121374218338,4.828073718265662,0,0,0.11,0,CnC,2019-11-01,2021-10-31,2021-12-02\\n00180124ES,10,0.5108256714497054,708,1.0,31351.47,33870.041304347826,0.9256401466500568,505.42857142857144,458.2857142857143,1.10286783042394,4.952299717083292,0,0,0.11,0,CnC,2019-11-01,2021-10-31,2021-12-02\\n00180124ES,2,0.8109302162163288,475,1.0,17053.895,13482.113749999999,1.2649273931545046,320.7142857142857,296.7857142857143,1.0806257521058966,4.828073718265662,0,0,0.11,0,CnC,2019-11-01,2021-10-31,2021-12-02\\n00180124ES,12,0.45198510206864073,413,1.0,14709.344285714285,15781.573199999999,0.9320581731176386,584.2857142857143,500.67857142857144,1.166987659604822,4.828073718265662,0,0,0.11,0,CnC,2019-11-01,2021-10-31,2021-12-02\\n00180124ES,10,0.47000364414689666,727,1.0,18497.47666666667,20774.124782608702,0.8904094328995292,471.2857142857143,481.2142857142857,0.9793676710702093,4.952299717083292,0,0,0.11,0,CnC,2019-11-01,2021-10-31,2021-12-02\\n00180124CZ,12,0.22314355131420976,54,1.0,33572.5975,35139.075600000004,0.9554206229602693,330.5,340.2,0.9714873603762493,8.589123060803518,0,0,0.18,0,CnC,2019-11-01,2021-10-31,2021-12-02\\n00180124ES,11,0.28768210225410284,7,1.0,18988.79333333333,18988.79333333333,1.0,874.0,859.75,1.0165745856353592,4.828073718265662,0,0,0.11,0,CnC,2019-11-01,2021-10-31,2021-12-02\\n00180124ES,10,0.45198510206864073,358,1.0,23044.971428571425,29875.404642857146,0.7713693489363734,542.1428571428571,657.2142857142857,0.8249103358330616,4.8263002981191185,0,0,0.11,0,CnC,2019-11-01,2021-10-31,2021-12-02\\n00180124ES,12,1.299283005804677,35,1.0,48445.68333333333,42860.05708333333,1.130322417423285,1026.857142857143,954.9285714285714,1.0753235096117886,4.808587115418418,0,0,0.11,0,CnC,2019-11-01,2021-10-31,2021-12-02\\n00180124ES,5,0.18232159653038368,552,1.0,20223.64142857143,22535.545199999997,0.8974107903354135,422.42857142857144,386.85714285714283,1.0919497784342689,4.828073718265662,0,0,0.11,0,CnC,2019-11-01,2021-10-31,2021-12-02\\n00180124ES,7,0.5108256714497054,638,1.0,34489.15333333333,32894.5348,1.0484767011611098,427.57142857142856,465.39285714285717,0.918732253856189,4.942511142191617,0,0,0.11,0,CnC,2019-11-01,2021-10-31,2021-12-02\\n00180124ES,1,0.0,434,1.0,34039.388000000006,31920.209199999998,1.0663898781716008,554.6,563.08,0.984939973005612,4.828073718265662,0,0,0.11,0,CnC,2019-11-01,2021-10-31,2021-12-02\\n00180124HR,12,0.1335314373280052,49,1.0,46640.90142857143,42039.10107142857,1.109464765893161,104.14285714285714,130.53571428571428,0.79781121751026,7.155396301896734,0,0,0.3,0,CnC,2019-11-01,2021-10-31,2021-12-02\\n00180124RO,10,0.35667496778059,350,1.0,39479.24714285715,39126.506785714286,1.009015380776892,68.57142857142857,88.78571428571429,0.7723250201126307,6.572688024149897,0,0,0.13,0,CnC,2019-11-01,2021-10-31,2021-12-02\\n00180124CZ,9,0.0,670,1.0,23970.985714285714,23161.81892857143,1.0349353730900699,163.42857142857142,164.10714285714286,0.9958650707290532,8.663217245290781,0,0,0.18,0,CnC,2019-11-01,2021-10-31,2021-12-02\\n00180124CZ,2,0.2513144150354294,120,1.0,52868.138571428564,51969.892142857134,1.0172839771555093,204.14285714285714,219.5,0.9300357956394403,8.589123060803518,0,0,0.18,0,CnC,2019-11-01,2021-10-31,2021-12-02\\n00180124ES,1,0.3364722195913143,434,1.0,44254.335999999996,43374.5204,1.0202841574243664,554.6,563.08,0.984939973005612,4.828073718265662,0,0,0.11,0,CnC,2019-11-01,2021-10-31,2021-12-02\\n00180124ES,7,0.7621400202577524,253,1.0,24624.872857142855,26877.784000000003,0.9161794312039583,956.1428571428571,1037.0714285714287,0.92196432261175,4.828073718265662,0,0,0.11,0,CnC,2019-11-01,2021-10-31,2021-12-02\\n00180124ES,10,0.6931471805599453,344,1.0,28721.028000000002,26643.797636363634,1.0779629988182071,681.8571428571429,765.3214285714286,0.8909421811563769,4.828073718265662,0,0,0.11,0,CnC,2019-11-01,2021-10-31,2021-12-02\\n00180124ES,2,0.4054651081081644,99,1.0,31307.589999999997,31181.88916666667,1.0040312128832687,805.1428571428571,785.9285714285714,1.024447877851495,4.823636127310749,0,0,0.11,0,CnC,2019-11-01,2021-10-31,2021-12-02\\n00180124ES,1,0.4054651081081644,449,1.0,28010.061666666665,34018.73541666667,0.8233716310613887,322.57142857142856,422.65384615384613,0.7632047632047632,4.820872791927228,0,0,0.11,0,CnC,2019-11-01,2021-10-31,2021-12-02\\n00180124ES,2,0.5108256714497054,113,1.0,15661.921666666667,15772.213333333339,0.9930072169114288,776.2857142857143,809.4285714285714,0.9590540063536888,4.828073718265662,0,0,0.11,0,CnC,2019-11-01,2021-10-31,2021-12-02\\n00180124CZ,1,0.1335314373280052,71,1.0,39356.80714285715,49632.8125,0.7929594387353558,235.71428571428572,304.9166666666667,0.7730449381173623,8.589123060803518,0,0,0.18,0,CnC,2019-11-01,2021-10-31,2021-12-02\\n00180124CZ,4,0.0,176,1.0,393.57142857142856,434.74074074074076,0.9053014628921938,2.7142857142857144,5.407407407407407,0.5019569471624267,8.589123060803518,0,0,0.18,0,CnC,2019-11-01,2021-10-31,2021-12-02\\n00180124ES,11,0.8472979285067953,21,1.0,36898.28666666667,37563.74388888889,0.9822845873885575,839.8571428571429,859.9090909090909,0.976681316357815,4.820845919995073,0,0,0.11,0,CnC,2019-11-01,2021-10-31,2021-12-02\\n00180124ES,4,0.0,180,1.0,273.8,170.66666666666666,1.6042968750000002,1.7142857142857142,2.473684210526316,0.6930091185410333,4.828073718265662,0,0,0.11,0,CnC,2019-11-01,2021-10-31,2021-12-02\\n00180124ES,7,0.5108256714497054,609,1.0,31611.69333333334,33206.333913043476,0.9519778189340028,485.42857142857144,466.89285714285717,1.039700145337719,4.8817281447958925,0,0,0.11,0,CnC,2019-11-01,2021-10-31,2021-12-02\\n00180124ES,12,0.5108256714497054,49,1.0,31856.061666666665,36781.95695652174,0.8660784880022085,863.4285714285714,961.0,0.8984688568455478,4.828073718265662,0,0,0.11,0,CnC,2019-11-01,2021-10-31,2021-12-02\\n00180124ES,7,0.1541506457674607,638,1.0,26964.683333333334,26355.778,1.0231032957301938,427.57142857142856,465.39285714285717,0.918732253856189,4.950967811172975,0,0,0.11,0,CnC,2019-11-01,2021-10-31,2021-12-02\\n00180124ES,5,0.8472979285067953,558,1.0,34027.874285714286,33927.51888888889,1.0029579350365718,467.42857142857144,405.67857142857144,1.1522141033541684,4.828073718265662,0,0,0.11,0,CnC,2019-11-01,2021-10-31,2021-12-02\\n00180124ES,3,0.28768210225410284,134,1.0,27811.19833333333,31344.582608695644,0.8872728879668642,746.4285714285714,798.9285714285714,0.9342869915064819,4.828073718265662,0,0,0.11,0,CnC,2019-11-01,2021-10-31,2021-12-02\\n00180124ES,4,0.35667496778059,526,1.0,29934.06428571429,32232.33178571428,0.9286968279155463,350.7142857142857,350.0357142857143,1.0019385776961536,4.825612949902479,0,0,0.11,0,CnC,2019-11-01,2021-10-31,2021-12-02\\n00180124RO,11,0.35667496778059,19,1.0,26720.91714285714,24710.843181818178,1.0813438030523352,198.28571428571428,135.86363636363637,1.459446542082875,6.572688024149897,0,0,0.13,0,CnC,2019-11-01,2021-10-31,2021-12-02\\n00180124CZ,5,0.0,190,1.0,233.66666666666666,425.15384615384613,0.5496049695434534,2.6666666666666665,5.730769230769231,0.465324384787472,8.589123060803518,0,0,0.18,0,CnC,2019-11-01,2021-10-31,2021-12-02\\n00180124CZ,8,0.1335314373280052,274,1.0,48925.61714285715,57580.69714285715,0.8496878219704976,144.14285714285714,169.5,0.8504003371260008,8.589123060803518,0,0,0.18,0,CnC,2019-11-01,2021-10-31,2021-12-02\\n00180124ES,6,1.3437347259690442,224,1.0,44673.521666666675,14095.744782608695,3.1692913255484583,983.0,471.55555555555554,2.084590009425071,4.828073718265662,0,0,0.11,0,CnC,2019-11-01,2021-10-31,2021-12-02\\n00180124ES,9,0.6931471805599453,323,1.0,24685.904666666665,26584.208720000006,0.9285927945673554,826.2857142857143,845.6785714285714,0.9770682883567718,4.828073718265662,0,0,0.11,0,CnC,2019-11-01,2021-10-31,2021-12-02\\n00180124ES,6,0.9444615955953747,239,1.0,42718.05428571429,36152.72518518519,1.181599839760336,1134.857142857143,940.1481481481482,1.2071045878168476,4.828073718265662,0,0,0.11,0,CnC,2019-11-01,2021-10-31,2021-12-02\\n00180124RO,11,0.5389965106667944,28,1.0,40265.864285714284,39565.276785714275,1.0177071300118636,163.71428571428572,145.07142857142858,1.1285081240768093,6.572688024149897,0,0,0.13,0,CnC,2019-11-01,2021-10-31,2021-12-02\\n00180124CZ,3,0.0,512,1.0,561.8571428571429,605.6428571428571,0.9277037386484256,14.714285714285714,9.392857142857142,1.5665399239543727,8.589123060803518,0,0,0.18,0,CnC,2019-11-01,2021-10-31,2021-12-02\\n00180124CZ,8,0.0,663,1.0,25524.262857142858,23406.791785714286,1.0904639598119088,172.57142857142858,166.21428571428572,1.0382466695315857,8.663217245290781,0,0,0.18,0,CnC,2019-11-01,2021-10-31,2021-12-02\\n00180124ES,2,0.0,476,1.0,16.5,36.583333333333336,0.4510250569476082,361.0,306.7142857142857,1.176991150442478,4.828073718265662,0,0,0.11,0,CnC,2019-11-01,2021-10-31,2021-12-02\\n00180124ES,10,0.47000364414689666,714,1.0,43117.324,34626.510434782605,1.2452113556521798,494.57142857142856,473.35714285714283,1.0448166591217747,4.952299717083292,0,0,0.11,0,CnC,2019-11-01,2021-10-31,2021-12-02\\n00180124ES,9,0.8472979285067953,693,1.0,38217.64166666666,44148.27173913043,0.8656656344894423,423.14285714285717,438.4642857142857,0.9650566099209905,4.90716192172077,0,0,0.11,0,CnC,2019-11-01,2021-10-31,2021-12-02\\n00180124ES,8,0.1541506457674607,666,1.0,21652.27333333333,20799.157499999994,1.041016845674318,422.57142857142856,446.85714285714283,0.9456521739130435,4.906113885743976,0,0,0.11,0,CnC,2019-11-01,2021-10-31,2021-12-02\\n00180124HR,12,0.9985288803045109,42,1.0,41711.33428571428,40765.063214285714,1.023212795389385,157.57142857142858,122.42857142857143,1.2870478413068847,7.12433102031073,0,0,0.3,0,CnC,2019-11-01,2021-10-31,2021-12-02\\n00180124HR,8,0.5108256714497054,286,1.0,26825.858571428573,27072.554999999997,0.9908875823293581,32.857142857142854,38.25,0.8590102707749766,7.155396301896734,0,0,0.3,0,CnC,2019-11-01,2021-10-31,2021-12-02\\n00180124CZ,11,0.0,383,1.0,204.71428571428572,213.25925925925927,0.959931523842604,5.714285714285714,8.481481481481481,0.6737367436057393,8.589123060803518,0,0,0.18,0,CnC,2019-11-01,2021-10-31,2021-12-02\\n00180124ES,1,0.1335314373280052,77,1.0,16594.254285714287,18442.671200000004,0.8997749895207308,802.0,810.72,0.989244128675745,4.828073718265662,0,0,0.11,0,CnC,2019-11-01,2021-10-31,2021-12-02\\n00180124ES,2,0.6061357602214821,112,1.0,29781.405,31768.086249999997,0.937462986143838,776.2857142857143,809.4285714285714,0.9590540063536888,4.828073718265662,0,0,0.11,0,CnC,2019-11-01,2021-10-31,2021-12-02\\n00180124ES,6,0.875468777090329,217,1.0,33034.621666666666,15500.969545454544,2.131132608821468,582.1666666666666,221.88888888888889,2.6236855282924387,4.828073718265662,0,0,0.11,0,CnC,2019-11-01,2021-10-31,2021-12-02\\n00180124ES,1,0.9985288803045109,449,1.0,26062.54142857143,28494.11958333333,0.9146638608134371,322.57142857142856,422.65384615384613,0.7632047632047632,4.828073718265662,0,0,0.11,0,CnC,2019-11-01,2021-10-31,2021-12-02\\n00180124ES,10,0.45198510206864073,708,1.0,33130.979999999996,32725.28678571429,1.0123969338127483,505.42857142857144,458.2857142857143,1.10286783042394,4.952299717083292,0,0,0.11,0,CnC,2019-11-01,2021-10-31,2021-12-02\\n00180124ES,11,0.5108256714497054,29,1.0,32993.31333333333,33068.774583333325,0.9977180512144521,1072.857142857143,916.7142857142857,1.17032881408758,4.828073718265662,0,0,0.11,0,CnC,2019-11-01,2021-10-31,2021-12-02\\n00180124ES,2,1.0414539309266488,92,1.0,37673.64166666667,38482.84375000001,0.9789723938129354,812.4285714285714,755.4074074074074,1.0754839884571206,4.828073718265662,0,0,0.11,0,CnC,2019-11-01,2021-10-31,2021-12-02\\n00180124ES,8,0.1541506457674607,645,1.0,22556.914999999994,18699.726666666666,1.2062697707880932,492.7142857142857,454.07142857142856,1.0851030360232814,4.952299717083292,0,0,0.11,0,CnC,2019-11-01,2021-10-31,2021-12-02\\n00180124ES,6,0.3364722195913143,602,1.0,24755.728,20795.782173913045,1.1904206243828832,466.85714285714283,463.64285714285717,1.006932676012941,4.828073718265662,0,0,0.11,0,CnC,2019-11-01,2021-10-31,2021-12-02\\n00180124HR,2,0.5389965106667944,476,1.0,30678.99428571429,30762.5275,0.9972845789642704,45.57142857142857,51.964285714285715,0.8769759450171821,7.155396301896734,0,0,0.3,0,CnC,2019-11-01,2021-10-31,2021-12-02\\n00180124RO,7,0.0,609,1.0,26344.502857142856,30359.219642857137,0.8677595526847194,28.142857142857142,47.42857142857143,0.5933734939759036,6.572688024149897,0,0,0.13,0,CnC,2019-11-01,2021-10-31,2021-12-02\\n00180124RO,10,0.1335314373280052,721,1.0,29458.18,29750.303928571437,0.9901808085970212,66.71428571428571,70.14285714285714,0.9511201629327902,6.512146466906872,0,0,0.13,0,CnC,2019-11-01,2021-10-31,2021-12-02\\n00180124CZ,6,0.1335314373280052,236,1.0,26665.257142857146,24742.0075,1.0777321582679638,197.85714285714286,210.5,0.9399389209365456,8.589123060803518,0,0,0.18,0,CnC,2019-11-01,2021-10-31,2021-12-02\\n00180124CZ,12,0.0,397,1.0,14530.805714285714,3933.5407142857143,3.6940778727707517,110.14285714285714,32.392857142857146,3.4002205071664826,8.589123060803518,0,0,0.18,0,CnC,2019-11-01,2021-10-31,2021-12-02\\n00180124ES,4,0.18232159653038368,545,1.0,22570.260000000002,21939.48043478261,1.0287508889325092,413.2857142857143,360.17857142857144,1.1474467030242934,4.828073718265662,0,0,0.11,0,CnC,2019-11-01,2021-10-31,2021-12-02\\n00180124ES,10,0.7621400202577524,344,1.0,25707.855714285713,44115.345357142854,0.5827417989401112,681.8571428571429,765.3214285714286,0.8909421811563769,4.82675826793291,0,0,0.11,0,CnC,2019-11-01,2021-10-31,2021-12-02\\n00180124ES,12,0.6931471805599453,428,1.0,48033.82333333333,46615.338461538464,1.0304295735826359,599.8333333333334,549.5,1.091598422808614,4.82776689591727,0,0,0.11,0,CnC,2019-11-01,2021-10-31,2021-12-02\\n00180124ES,4,0.28768210225410284,526,1.0,25246.543333333335,26575.680869565218,0.9499866986379255,350.7142857142857,350.0357142857143,1.0019385776961536,4.828073718265662,0,0,0.11,0,CnC,2019-11-01,2021-10-31,2021-12-02\\n00180124ES,4,0.6931471805599453,546,1.0,23245.60666666667,12739.419545454548,1.8246990440754227,413.2857142857143,360.17857142857144,1.1474467030242934,4.828073718265662,0,0,0.11,0,CnC,2019-11-01,2021-10-31,2021-12-02\\n00180124ES,1,1.3437347259690442,85,1.0,39747.53833333333,40178.25166666667,0.9892799383878946,724.1428571428571,773.2307692307693,0.9365158319595247,4.828073718265662,0,0,0.11,0,CnC,2019-11-01,2021-10-31,2021-12-02\\n00180124ES,9,0.7621400202577524,687,1.0,38119.138571428564,39908.75107142857,0.9551573915005017,434.2857142857143,438.32142857142856,0.9907927971970993,4.952299717083292,0,0,0.11,0,CnC,2019-11-01,2021-10-31,2021-12-02\\n00180124ES,12,0.1541506457674607,428,1.0,25965.035,24211.18076923077,1.0724398470064769,599.8333333333334,549.5,1.091598422808614,4.828073718265662,0,0,0.11,0,CnC,2019-11-01,2021-10-31,2021-12-02\\n00180124ES,5,0.0,568,1.0,18837.19,18471.34958333333,1.0198058303761826,432.14285714285717,442.89285714285717,0.9757277638900089,4.828073718265662,0,0,0.11,0,CnC,2019-11-01,2021-10-31,2021-12-02\\n00180124ES,4,0.1541506457674607,539,1.0,21101.82,26250.299565217392,0.8038696833753731,341.85714285714283,350.57142857142856,0.9751426242868786,4.828073718265662,0,0,0.11,0,CnC,2019-11-01,2021-10-31,2021-12-02\\n00180124HR,7,0.6931471805599453,609,1.0,26652.91428571428,28049.932857142867,0.9501952971315994,91.42857142857143,87.96428571428571,1.0393828664230613,7.128266756145016,0,0,0.3,0,CnC,2019-11-01,2021-10-31,2021-12-02\\n00180124CZ,6,0.2513144150354294,232,1.0,56645.357142857145,61506.09407407407,0.9209714581231095,201.0,224.32142857142858,0.8960356631109695,8.589123060803518,0,0,0.18,0,CnC,2019-11-01,2021-10-31,2021-12-02\\n00180124ES,11,0.6190392450860042,372,1.0,47149.067142857144,34377.59678571429,1.3715056185210153,390.2857142857143,541.2142857142857,0.7211297347235054,4.778835329755925,0,0,0.11,0,CnC,2019-11-01,2021-10-31,2021-12-02\\n00180124ES,8,0.9985288803045109,281,1.0,38889.08,38157.73107142858,1.0191664679223822,789.1428571428571,812.9285714285714,0.9707407081978736,4.826048294705952,0,0,0.11,0,CnC,2019-11-01,2021-10-31,2021-12-02\\n00180124ES,4,0.5108256714497054,533,1.0,31492.285,34055.455,0.9247354058255864,363.7142857142857,353.92857142857144,1.027648839556004,4.828073718265662,0,0,0.11,0,CnC,2019-11-01,2021-10-31,2021-12-02\\n00180124ES,2,1.0986122886681096,484,1.0,42447.293333333335,20429.3225,2.0777631433119397,441.14285714285717,337.5357142857143,1.3069516453285368,4.828073718265662,0,0,0.11,0,CnC,2019-11-01,2021-10-31,2021-12-02\\n00180124ES,6,0.45198510206864073,603,1.0,26073.181428571424,27805.616071428572,0.9376947937996851,466.85714285714283,463.64285714285717,1.006932676012941,4.828073718265662,0,0,0.11,0,CnC,2019-11-01,2021-10-31,2021-12-02\\n00180124HR,12,0.47000364414689666,418,1.0,36041.11857142857,34271.935000000005,1.0516219341402393,118.14285714285714,99.28571428571429,1.1899280575539568,7.155396301896734,0,0,0.3,0,CnC,2019-11-01,2021-10-31,2021-12-02\\n00180124CZ,10,0.1541506457674607,337,1.0,48324.46833333333,38276.254074074066,1.2625182244796858,238.0,193.85185185185185,1.227741688956821,8.589123060803518,0,0,0.18,0,CnC,2019-11-01,2021-10-31,2021-12-02\\n00180124ES,4,0.5108256714497054,540,1.0,31056.62,34352.84272727272,0.9040480360405269,341.85714285714283,350.57142857142856,0.9751426242868786,4.828073718265662,0,0,0.11,0,CnC,2019-11-01,2021-10-31,2021-12-02\\n00180124ES,8,0.9555114083476544,286,1.0,26118.308333333334,26267.49826086957,0.9943203602393121,837.7142857142857,792.3928571428571,1.0571956551133546,4.828073718265662,0,0,0.11,0,CnC,2019-11-01,2021-10-31,2021-12-02\\n00180124RO,5,0.0,567,1.0,32912.95571428571,31410.353076923082,1.0478378142927205,51.42857142857143,46.69230769230769,1.1014356319133913,6.572688024149897,0,0,0.13,0,CnC,2019-11-01,2021-10-31,2021-12-02\\n00180124CZ,2,0.0,470,1.0,1913.2857142857142,1639.392857142857,1.1670696904341764,8.142857142857142,6.642857142857143,1.225806451612903,8.583754293442924,0,0,0.18,0,CnC,2019-11-01,2021-10-31,2021-12-02\\n00180124ES,7,0.28768210225410284,245,1.0,27624.23166666667,21610.708333333332,1.2782659059841093,1047.857142857143,1043.7857142857142,1.0039006364196263,4.828073718265662,0,0,0.11,0,CnC,2019-11-01,2021-10-31,2021-12-02\\n00180124ES,5,0.8472979285067953,550,1.0,40227.745,36287.531111111115,1.1085831349844137,423.7142857142857,378.35714285714283,1.1198791768925809,4.828073718265662,0,0,0.11,0,CnC,2019-11-01,2021-10-31,2021-12-02\\n00180124ES,6,0.9808291934070796,238,1.0,39973.305,38331.02666666668,1.0428446216067955,1134.857142857143,940.1481481481482,1.2071045878168476,4.828073718265662,0,0,0.11,0,CnC,2019-11-01,2021-10-31,2021-12-02\\n00180124ES,1,0.8472979285067953,71,1.0,31922.32833333334,37008.572400000005,0.8625657857943565,671.0,827.92,0.8104647792057204,4.828073718265662,0,0,0.11,0,CnC,2019-11-01,2021-10-31,2021-12-02\\n00180124ES,4,0.0,173,1.0,0.0,0.0,0.0,2.4,2.9166666666666665,0.8228571428571428,4.828073718265662,0,0,0.11,0,CnC,2019-11-01,2021-10-31,2021-12-02\\n00180124ES,10,0.8472979285067953,358,1.0,19138.001999999997,22934.3955,0.8344672524723836,542.1428571428571,657.2142857142857,0.8249103358330616,4.828073718265662,0,0,0.11,0,CnC,2019-11-01,2021-10-31,2021-12-02\\n00180124ES,1,0.35667496778059,78,1.0,17882.06428571429,21126.98652173913,0.8464086568765545,802.0,810.72,0.989244128675745,4.828073718265662,0,0,0.11,0,CnC,2019-11-01,2021-10-31,2021-12-02\\n00180124HR,8,0.6061357602214821,294,1.0,30613.15,27689.7026923077,1.105578862300477,59.2,41.69230769230769,1.4199261992619927,7.154653121703494,0,0,0.3,0,CnC,2019-11-01,2021-10-31,2021-12-02\\n00180124RO,2,0.1335314373280052,112,1.0,34515.434285714284,31507.673571428575,1.0954612122493605,125.14285714285714,119.42857142857143,1.0478468899521531,6.572688024149897,0,0,0.13,0,CnC,2019-11-01,2021-10-31,2021-12-02\\n00180124CZ,9,0.2513144150354294,330,1.0,45564.908571428576,46985.09928571427,0.9697735934184245,187.57142857142858,165.85714285714286,1.1309216192937124,8.589123060803518,0,0,0.18,0,CnC,2019-11-01,2021-10-31,2021-12-02\\n00180124CZ,10,0.1541506457674607,701,1.0,52423.97833333333,48274.789259259254,1.0859493979723227,192.66666666666666,149.74074074074073,1.2866683156072223,8.663217245290781,0,0,0.18,0,CnC,2019-11-01,2021-10-31,2021-12-02\\n00180124ES,8,0.5389965106667944,666,1.0,37270.21428571428,36797.02250000001,1.0128595129052704,422.57142857142856,446.85714285714283,0.9456521739130435,4.952299717083292,0,0,0.11,0,CnC,2019-11-01,2021-10-31,2021-12-02\\n00180124ES,8,1.0986122886681096,273,1.0,42817.17833333334,44022.979600000006,0.9726097306992217,769.4285714285714,854.6785714285714,0.9002548995027371,4.824760740985095,0,0,0.11,0,CnC,2019-11-01,2021-10-31,2021-12-02\\n00180124ES,4,0.0,532,1.0,9915.356666666667,10843.018181818183,0.9144461902031078,363.7142857142857,353.92857142857144,1.027648839556004,4.828073718265662,0,0,0.11,0,CnC,2019-11-01,2021-10-31,2021-12-02\\n00180124ES,2,0.5108256714497054,92,1.0,17614.891666666666,16579.813749999998,1.0624300087005905,812.4285714285714,755.4074074074074,1.0754839884571206,4.828073718265662,0,0,0.11,0,CnC,2019-11-01,2021-10-31,2021-12-02\\n00180124ES,9,0.1541506457674607,680,1.0,25511.661666666663,23987.217083333333,1.0635523736679124,463.85714285714283,432.92857142857144,1.0714403563768353,4.952299717083292,0,0,0.11,0,CnC,2019-11-01,2021-10-31,2021-12-02\\n00180124ES,6,0.47000364414689666,596,1.0,30327.301428571427,33416.62357142857,0.9075513378467556,416.14285714285717,467.4642857142857,0.8902131560852625,4.828073718265662,0,0,0.11,0,CnC,2019-11-01,2021-10-31,2021-12-02\\n00180124ES,3,1.2039727804840779,504,1.0,52494.25,45752.30304347827,1.1473575428566924,348.14285714285717,371.14285714285717,0.9380292532717475,4.82687269706097,0,0,0.11,0,CnC,2019-11-01,2021-10-31,2021-12-02\\n00180124ES,10,0.28768210225410284,708,1.0,32234.05,31524.820416666673,1.0224974979701509,505.42857142857144,458.2857142857143,1.10286783042394,4.905101943588706,0,0,0.11,0,CnC,2019-11-01,2021-10-31,2021-12-02\\n00180124ES,10,0.2513144150354294,722,1.0,25985.77714285714,28178.854642857135,0.9221729368423459,452.42857142857144,480.67857142857144,0.9412289174530054,4.951249166656146,0,0,0.11,0,CnC,2019-11-01,2021-10-31,2021-12-02\\n00180124ES,11,0.5108256714497054,14,1.0,20252.663333333334,22188.28846153846,0.9127636576583916,880.1428571428571,869.2666666666667,1.0125119148050354,4.828073718265662,0,0,0.11,0,CnC,2019-11-01,2021-10-31,2021-12-02\\n00180124HR,5,0.45198510206864073,560,1.0,31545.41857142857,29618.456071428573,1.0650595188132996,47.714285714285715,54.142857142857146,0.8812664907651715,7.155396301896734,0,0,0.3,0,CnC,2019-11-01,2021-10-31,2021-12-02\\n00180124CZ,12,0.0,33,1.0,32174.231428571424,33612.21535714286,0.9572184126130249,338.0,360.25,0.9382373351839001,8.589123060803518,0,0,0.18,0,CnC,2019-11-01,2021-10-31,2021-12-02\\n00180124CZ,4,0.0,523,1.0,49.833333333333336,122.96296296296296,0.40527108433734943,17.666666666666668,12.592592592592593,1.4029411764705881,8.589123060803518,0,0,0.18,0,CnC,2019-11-01,2021-10-31,2021-12-02\\n00180124ES,7,0.0,631,1.0,32432.848571428563,32791.38999999999,0.989065988707053,427.85714285714283,479.85714285714283,0.8916344150044656,4.952299717083292,0,0,0.11,0,CnC,2019-11-01,2021-10-31,2021-12-02\\n00180124ES,1,0.5108256714497054,442,1.0,20268.83333333333,21151.174999999996,0.9582840354416874,266.14285714285717,468.72,0.5678077682685978,4.826952826331346,0,0,0.11,0,CnC,2019-11-01,2021-10-31,2021-12-02\\n00180124ES,9,0.35667496778059,694,1.0,31420.69428571429,35076.78964285715,0.895768814809785,423.14285714285717,438.4642857142857,0.9650566099209905,4.952299717083292,0,0,0.11,0,CnC,2019-11-01,2021-10-31,2021-12-02\\n00180124ES,12,0.4054651081081644,428,1.0,36894.888333333336,32850.01739130435,1.1231314703382682,599.8333333333334,549.5,1.091598422808614,4.828073718265662,0,0,0.11,0,CnC,2019-11-01,2021-10-31,2021-12-02\\n00180124ES,10,0.1541506457674607,701,1.0,18953.518333333337,19881.17304347826,0.9533400414494543,470.2857142857143,447.89285714285717,1.049996013077107,4.952299717083292,0,0,0.11,0,CnC,2019-11-01,2021-10-31,2021-12-02\\n00180124ES,8,0.1541506457674607,659,1.0,18430.09833333333,19714.169166666667,0.9348655871582718,412.7142857142857,448.10714285714283,0.9210169761696023,4.952299717083292,0,0,0.11,0,CnC,2019-11-01,2021-10-31,2021-12-02\\n00180124ES,9,0.0,680,1.0,19522.87714285714,20319.570400000004,0.9607918257394427,463.85714285714283,432.92857142857144,1.0714403563768353,4.952299717083292,0,0,0.11,0,CnC,2019-11-01,2021-10-31,2021-12-02\\n00180124ES,1,0.1335314373280052,456,1.0,29244.209999999995,24182.951250000002,1.2092903673202415,317.85714285714283,356.1111111111111,0.8925785602852685,4.828073718265662,0,0,0.11,0,CnC,2019-11-01,2021-10-31,2021-12-02\\n00180124HR,6,0.6931471805599453,218,1.0,42850.52,35453.836153846154,1.2086285899798581,94.66666666666667,90.42307692307692,1.0469303842336595,7.155396301896734,0,0,0.3,0,CnC,2019-11-01,2021-10-31,2021-12-02\\n00180124RO,12,0.18232159653038368,61,1.0,31801.358,29588.15913043478,1.074800154339061,196.0,193.04166666666666,1.015324843513922,6.572688024149897,0,0,0.13,0,CnC,2019-11-01,2021-10-31,2021-12-02\\n00180124RO,5,0.18232159653038368,551,1.0,15861.578,19078.757307692307,0.8313737495683127,34.8,58.73076923076923,0.5925343811394891,6.558487093576692,0,0,0.13,0,CnC,2019-11-01,2021-10-31,2021-12-02\\n00180124CZ,5,0.2513144150354294,575,1.0,63700.815714285716,49612.81555555556,1.2839588924953205,165.42857142857142,155.07407407407408,1.0667712989184208,8.589123060803518,0,0,0.18,0,CnC,2019-11-01,2021-10-31,2021-12-02\\n00180124ES,11,0.0,392,1.0,664.3333333333334,6408.056250000001,0.10367158267896498,402.14285714285717,390.60714285714283,1.0295327786413095,4.828073718265662,0,0,0.11,0,CnC,2019-11-01,2021-10-31,2021-12-02\\n00180124ES,1,0.7731898148739162,435,1.0,20531.55,23025.750869565225,0.8916777618374223,544.8333333333334,557.8,0.9767539141866859,4.728272369630661,0,0,0.11,0,CnC,2019-11-01,2021-10-31,2021-12-02\\n00180124ES,5,0.0,183,1.0,227.0,181.6,1.25,2.0,2.6315789473684212,0.7599999999999999,4.828073718265662,0,0,0.11,0,CnC,2019-11-01,2021-10-31,2021-12-02\\n00180124ES,8,0.7731898148739162,651,1.0,52838.165,48324.4625,1.0934040911474183,459.42857142857144,451.89285714285717,1.0166758871413895,4.952299717083292,0,0,0.11,0,CnC,2019-11-01,2021-10-31,2021-12-02\\n00180124ES,6,0.28768210225410284,582,1.0,21116.19,21302.677083333332,0.991245838135563,472.42857142857144,469.57142857142856,1.0060845756008518,4.828073718265662,0,0,0.11,0,CnC,2019-11-01,2021-10-31,2021-12-02\\n00180124ES,4,0.0,168,1.0,22.333333333333332,16.75,1.3333333333333333,6.5,3.25,2.0,4.828073718265662,0,0,0.11,0,CnC,2019-11-01,2021-10-31,2021-12-02\\n00180124RO,3,0.0,138,1.0,10175.49857142857,15679.258571428569,0.6489782999032115,63.285714285714285,109.39285714285714,0.5785177930133856,6.572688024149897,0,0,0.13,0,CnC,2019-11-01,2021-10-31,2021-12-02\\n00180124RO,9,0.1335314373280052,313,1.0,23697.377142857145,21946.573214285712,1.0797757313397693,79.57142857142857,66.46428571428571,1.1972058033315423,6.572688024149897,0,0,0.13,0,CnC,2019-11-01,2021-10-31,2021-12-02\\n00180124CZ,1,0.1335314373280052,78,1.0,42088.69571428572,44409.21083333334,0.9477469859179337,212.0,263.875,0.8034107058266224,8.589123060803518,0,0,0.18,0,CnC,2019-11-01,2021-10-31,2021-12-02\\n00180124CZ,10,0.3364722195913143,720,1.0,40748.455714285716,37805.89444444444,1.077833399079219,183.85714285714286,181.62962962962962,1.0122640410160801,8.663217245290781,0,0,0.18,0,CnC,2019-11-01,2021-10-31,2021-12-02\\n00180124CZ,1,0.35667496778059,71,1.0,33295.84428571428,45412.377083333326,0.733188756550119,235.71428571428572,304.9166666666667,0.7730449381173623,8.589123060803518,0,0,0.18,0,CnC,2019-11-01,2021-10-31,2021-12-02\\n00180124ES,9,0.3364722195913143,692,1.0,17883.968333333334,19483.3536,0.9179101658008884,428.57142857142856,441.42857142857144,0.9708737864077669,4.952299717083292,0,0,0.11,0,CnC,2019-11-01,2021-10-31,2021-12-02\\n00180124ES,10,0.887303209025525,365,1.0,46946.49,29017.293928571427,1.6178796725691524,616.2857142857143,614.1071428571429,1.003547542890375,4.828073718265662,0,0,0.11,0,CnC,2019-11-01,2021-10-31,2021-12-02\\n00180124ES,5,0.0,203,1.0,483.4,305.25,1.5836199836199836,48.142857142857146,24.11111111111111,1.9967083607636604,4.828073718265662,0,0,0.11,0,CnC,2019-11-01,2021-10-31,2021-12-02\\n00180124ES,7,1.3862943611198906,609,1.0,42673.11833333334,42378.69565217391,1.0069474219682437,485.42857142857144,466.89285714285717,1.039700145337719,4.857535900666463,0,0,0.11,0,CnC,2019-11-01,2021-10-31,2021-12-02\\n00180124ES,10,0.4054651081081644,714,1.0,49047.60833333334,41847.7291304348,1.1720494600903506,494.57142857142856,473.35714285714283,1.0448166591217747,4.947908498847323,0,0,0.11,0,CnC,2019-11-01,2021-10-31,2021-12-02\\n00180124ES,3,0.1541506457674607,498,1.0,25416.073333333334,23782.03499999999,1.0687089365284907,331.7142857142857,374.35714285714283,0.8860904407555811,4.828073718265662,0,0,0.11,0,CnC,2019-11-01,2021-10-31,2021-12-02\\n00180124ES,5,0.0,189,1.0,0.25,0.25,1.0,19.166666666666668,7.5,2.555555555555556,4.828073718265662,0,0,0.11,0,CnC,2019-11-01,2021-10-31,2021-12-02\\n00180124RO,3,0.1335314373280052,497,1.0,31464.04285714286,33837.32357142856,0.9298620439268535,59.857142857142854,66.60714285714286,0.8986595174262734,6.572688024149897,0,0,0.13,0,CnC,2019-11-01,2021-10-31,2021-12-02\\n00180124CZ,1,0.1335314373280052,85,1.0,39615.66142857143,42207.26666666666,0.9385981267500091,198.14285714285714,236.96296296296296,0.8361764837225919,8.589123060803518,0,0,0.18,0,CnC,2019-11-01,2021-10-31,2021-12-02\\n00180124CZ,9,0.2513144150354294,323,1.0,34247.07714285714,39025.159642857136,0.8775640498661089,200.28571428571428,156.46428571428572,1.2800730426843185,8.589123060803518,0,0,0.18,0,CnC,2019-11-01,2021-10-31,2021-12-02\\n00180124CZ,5,0.35667496778059,197,1.0,33302.24571428572,8944.285925925926,3.723298426513374,169.28571428571428,47.18518518518518,3.5876878223817,8.589123060803518,0,0,0.18,0,CnC,2019-11-01,2021-10-31,2021-12-02\\n00180124ES,8,0.3364722195913143,286,1.0,22959.736666666664,21088.21958333333,1.088747040779699,837.7142857142857,792.3928571428571,1.0571956551133546,4.828073718265662,0,0,0.11,0,CnC,2019-11-01,2021-10-31,2021-12-02\\n00180124ES,12,0.45198510206864073,400,1.0,46778.58714285715,43308.45321428571,1.080126018618157,500.42857142857144,418.14285714285717,1.1967885206696276,4.828073718265662,0,0,0.11,0,CnC,2019-11-01,2021-10-31,2021-12-02\\n00180124ES,12,0.3364722195913143,421,1.0,19999.426,16287.999199999998,1.2278626585394234,497.8333333333333,525.5925925925926,0.9471848354590937,4.828073718265662,0,0,0.11,0,CnC,2019-11-01,2021-10-31,2021-12-02\\n00180124ES,3,0.6931471805599453,133,1.0,29188.79714285714,31745.764285714286,0.9194548564071652,771.0,802.4642857142857,0.9607904223596956,4.826231553972511,0,0,0.11,0,CnC,2019-11-01,2021-10-31,2021-12-02\\n00180124ES,12,0.28768210225410284,414,1.0,44290.58833333334,19163.028333333335,2.3112520402786028,584.2857142857143,500.67857142857144,1.166987659604822,4.827139708556427,0,0,0.11,0,CnC,2019-11-01,2021-10-31,2021-12-02\\n00180124ES,12,0.18232159653038368,43,1.0,24732.996000000003,22219.874782608695,1.1131024023302916,880.8571428571429,955.1071428571429,0.9222600306622294,4.828073718265662,0,0,0.11,0,CnC,2019-11-01,2021-10-31,2021-12-02\\n00180124ES,4,0.0,181,1.0,118.75,60.875,1.9507186858316221,1.7142857142857142,2.473684210526316,0.6930091185410333,4.828073718265662,0,0,0.11,0,CnC,2019-11-01,2021-10-31,2021-12-02\\n00180124ES,10,0.5389965106667944,358,1.0,28373.977142857144,29435.745357142856,0.9639292906837141,542.1428571428571,657.2142857142857,0.8249103358330616,4.824936642405297,0,0,0.11,0,CnC,2019-11-01,2021-10-31,2021-12-02\\n00180124HR,12,0.5389965106667944,399,1.0,31083.469999999998,33759.73857142857,0.9207260279647561,60.857142857142854,57.642857142857146,1.0557620817843865,7.155396301896734,0,0,0.3,0,CnC,2019-11-01,2021-10-31,2021-12-02\\n00180124CZ,8,0.1335314373280052,292,1.0,24337.53857142857,19697.606785714284,1.2355581485705869,154.42857142857142,155.42857142857142,0.9935661764705882,8.589123060803518,0,0,0.18,0,CnC,2019-11-01,2021-10-31,2021-12-02\\n00180124ES,2,0.7621400202577524,477,1.0,32293.356000000003,31615.429,1.0214429163684606,361.0,306.7142857142857,1.176991150442478,4.828073718265662,0,0,0.11,0,CnC,2019-11-01,2021-10-31,2021-12-02\\n00180124ES,2,0.28768210225410284,99,1.0,15949.326666666666,15691.717083333335,1.016416914858027,805.1428571428571,785.9285714285714,1.024447877851495,4.828073718265662,0,0,0.11,0,CnC,2019-11-01,2021-10-31,2021-12-02\\n00180124ES,7,0.0,624,1.0,19624.16,21065.007083333334,0.9315999715721276,468.14285714285717,489.60714285714283,0.9561601867386389,4.952299717083292,0,0,0.11,0,CnC,2019-11-01,2021-10-31,2021-12-02\\n00180124HR,8,0.45198510206864073,651,1.0,25628.92428571429,27167.92964285714,0.9433521296111175,57.714285714285715,50.035714285714285,1.153461812990721,7.0909098220799835,0,0,0.3,0,CnC,2019-11-01,2021-10-31,2021-12-02\\n00180124ES,7,0.0,623,1.0,16808.016666666666,17232.011923076927,0.9753949069729664,468.14285714285717,489.60714285714283,0.9561601867386389,4.8498664813962655,0,0,0.11,0,CnC,2019-11-01,2021-10-31,2021-12-02\\n00180124ES,10,0.9985288803045109,337,1.0,44355.627142857134,43938.50214285714,1.0094933823334213,788.7142857142857,785.4642857142857,1.0041376801709634,4.8260254155235724,0,0,0.11,0,CnC,2019-11-01,2021-10-31,2021-12-02\\n00180124ES,10,0.45198510206864073,715,1.0,34401.52428571428,32892.20535714286,1.0458868267476524,494.57142857142856,473.35714285714283,1.0448166591217747,4.950774076847139,0,0,0.11,0,CnC,2019-11-01,2021-10-31,2021-12-02\\n00180124ES,8,0.5108256714497054,281,1.0,39524.454999999994,37427.54791666667,1.0560257671168343,789.1428571428571,812.9285714285714,0.9707407081978736,4.828073718265662,0,0,0.11,0,CnC,2019-11-01,2021-10-31,2021-12-02\\n00180124ES,6,0.2513144150354294,596,1.0,25437.975714285712,27994.884642857145,0.9086651378924748,416.14285714285717,467.4642857142857,0.8902131560852625,4.828073718265662,0,0,0.11,0,CnC,2019-11-01,2021-10-31,2021-12-02\\n00180124ES,8,0.0,666,1.0,26619.632857142857,26822.049999999996,0.9924533306418735,422.57142857142856,446.85714285714283,0.9456521739130435,4.952299717083292,0,0,0.11,0,CnC,2019-11-01,2021-10-31,2021-12-02\\n00180124RO,8,0.0,287,1.0,31577.98857142857,30575.202857142864,1.0327973527754188,74.57142857142857,77.92857142857143,0.9569202566452795,6.572688024149897,0,0,0.13,0,CnC,2019-11-01,2021-10-31,2021-12-02\\n00180124RO,9,0.2513144150354294,672,1.0,34527.99285714286,31340.421785714287,1.1017079825288614,62.142857142857146,59.17857142857143,1.0500905250452626,6.512146466906872,0,0,0.13,0,CnC,2019-11-01,2021-10-31,2021-12-02\\n00180124CZ,2,0.0,474,1.0,182.57142857142858,255.46428571428572,0.7146651754508598,6.142857142857143,7.178571428571429,0.8557213930348259,8.589123060803518,0,0,0.18,0,CnC,2019-11-01,2021-10-31,2021-12-02\\n00180124ES,12,0.5389965106667944,413,1.0,29357.55142857143,32296.431999999997,0.9090029334686702,584.2857142857143,500.67857142857144,1.166987659604822,4.828073718265662,0,0,0.11,0,CnC,2019-11-01,2021-10-31,2021-12-02\\n00180124ES,9,0.22314355131420976,678,1.0,41326.46800000001,39884.638260869564,1.0361500016547727,449.0,430.5357142857143,1.0428867689755288,4.943034362869529,0,0,0.11,0,CnC,2019-11-01,2021-10-31,2021-12-02\\n00180124ES,4,0.6931471805599453,525,1.0,47032.262,40206.8765,1.169756670852062,350.7142857142857,350.0357142857143,1.0019385776961536,4.822322497980192,0,0,0.11,0,CnC,2019-11-01,2021-10-31,2021-12-02\\n00180124ES,2,0.47000364414689666,120,1.0,18697.437599999997,17711.93817391304,1.0556404057201625,757.4285714285714,795.6785714285714,0.9519278244086359,4.828073718265662,0,0,0.11,0,CnC,2019-11-01,2021-10-31,2021-12-02\\n00180124ES,6,0.0,589,1.0,34155.16285714286,33837.15499999999,1.0093981854308633,499.14285714285717,471.4642857142857,1.0587076736610863,4.828073718265662,0,0,0.11,0,CnC,2019-11-01,2021-10-31,2021-12-02\\n00180124ES,5,0.0,204,1.0,468.8,481.1578947368421,0.9743163421570773,48.142857142857146,24.11111111111111,1.9967083607636604,4.828073718265662,0,0,0.11,0,CnC,2019-11-01,2021-10-31,2021-12-02\\n00180124ES,11,1.2039727804840779,8,1.0,48065.49,49498.08571428571,0.9710575531636721,874.0,859.75,1.0165745856353592,4.828073718265662,0,0,0.11,0,CnC,2019-11-01,2021-10-31,2021-12-02\\n00180124ES,2,0.8472979285067953,106,1.0,41298.645,40196.48708333333,1.0274192596577338,843.8571428571429,796.3928571428571,1.0595990851607697,4.827593507295801,0,0,0.11,0,CnC,2019-11-01,2021-10-31,2021-12-02\\n00180124ES,10,1.299283005804677,336,1.0,50382.26833333333,53019.53041666668,0.9502586676530744,788.7142857142857,785.4642857142857,1.0041376801709634,4.828073718265662,0,0,0.11,0,CnC,2019-11-01,2021-10-31,2021-12-02\\n00180124ES,7,0.6061357602214821,260,1.0,21260.51833333333,23480.975000000002,0.9054359256092784,924.7142857142857,1015.8928571428571,0.9102478467217437,4.828073718265662,0,0,0.11,0,CnC,2019-11-01,2021-10-31,2021-12-02\\n00180124RO,12,0.0,35,1.0,37049.92285714286,39407.104999999996,0.9401838287065966,172.71428571428572,166.39285714285714,1.037990985189955,6.572688024149897,0,0,0.13,0,CnC,2019-11-01,2021-10-31,2021-12-02\\n00180124RO,2,0.1335314373280052,476,1.0,36633.85857142858,34907.23928571429,1.0494630718740598,71.71428571428571,81.35714285714286,0.8814749780509218,6.572688024149897,0,0,0.13,0,CnC,2019-11-01,2021-10-31,2021-12-02\\n00180124CZ,11,0.0,393,1.0,1291.2857142857142,912.3567857142856,1.4153297640843046,9.142857142857142,8.5,1.0756302521008403,8.589123060803518,0,0,0.18,0,CnC,2019-11-01,2021-10-31,2021-12-02\\n00180124ES,10,0.0,700,1.0,17832.568333333333,18865.4024,0.9452524762118688,470.2857142857143,447.89285714285717,1.049996013077107,4.952299717083292,0,0,0.11,0,CnC,2019-11-01,2021-10-31,2021-12-02\\n00180124ES,1,0.28768210225410284,455,1.0,12586.894999999999,24252.227826086957,0.5189995364657131,317.85714285714283,356.1111111111111,0.8925785602852685,4.828073718265662,0,0,0.11,0,CnC,2019-11-01,2021-10-31,2021-12-02\\n00180124ES,2,0.0,470,1.0,63.333333333333336,57.833333333333336,1.095100864553314,252.42857142857142,297.10714285714283,0.8496213487197981,4.828073718265662,0,0,0.11,0,CnC,2019-11-01,2021-10-31,2021-12-02\\n00180124ES,7,0.2513144150354294,638,1.0,29976.59857142857,30756.99785714286,0.9746269356541555,427.57142857142856,465.39285714285717,0.918732253856189,4.952299717083292,0,0,0.11,0,CnC,2019-11-01,2021-10-31,2021-12-02\\n00180124ES,2,0.0,470,1.0,10384.398333333333,14722.130416666667,0.7053597570075413,252.42857142857142,297.10714285714283,0.8496213487197981,4.828073718265662,0,0,0.11,0,CnC,2019-11-01,2021-10-31,2021-12-02\\n00180124ES,6,0.9162907318741551,231,1.0,56224.895,29438.775652173917,1.9098924379298379,1009.4285714285714,720.7777777777778,1.4004712722147592,4.828073718265662,0,0,0.11,0,CnC,2019-11-01,2021-10-31,2021-12-02\\n00180124ES,12,0.3364722195913143,418,1.0,38135.69714285715,38413.79925925925,0.9927603589916958,572.2857142857143,527.5,1.0849018280297902,4.828073718265662,0,0,0.11,0,CnC,2019-11-01,2021-10-31,2021-12-02\\n00180124ES,12,0.47000364414689666,57,1.0,26518.968,23717.0747826087,1.1181382292324633,872.1666666666666,912.2592592592592,0.9560513174454955,4.828073718265662,0,0,0.11,0,CnC,2019-11-01,2021-10-31,2021-12-02\\n00180124ES,10,0.6061357602214821,337,1.0,24618.293333333335,23976.4664,1.026769037714971,788.7142857142857,785.4642857142857,1.0041376801709634,4.828073718265662,0,0,0.11,0,CnC,2019-11-01,2021-10-31,2021-12-02\\n00180124ES,12,0.8472979285067953,56,1.0,22316.576666666664,21130.70846153846,1.0561206079430177,872.1666666666666,912.2592592592592,0.9560513174454955,4.828073718265662,0,0,0.11,0,CnC,2019-11-01,2021-10-31,2021-12-02\\n00180124CZ,5,0.0,553,1.0,641.7142857142857,508.82142857142856,1.261177791815821,10.857142857142858,6.25,1.7371428571428573,8.589123060803518,0,0,0.18,0,CnC,2019-11-01,2021-10-31,2021-12-02\\n00180124CZ,10,0.0,362,1.0,300.5,17453.681851851852,0.01721699768281938,9.166666666666666,146.1851851851852,0.06270585254623764,8.589123060803518,0,0,0.18,0,CnC,2019-11-01,2021-10-31,2021-12-02\\n00180124CZ,3,0.2513144150354294,127,1.0,49551.13714285714,52023.471071428576,0.9524765672560197,230.0,222.57142857142858,1.0333761232349166,8.589123060803518,0,0,0.18,0,CnC,2019-11-01,2021-10-31,2021-12-02\\n00180124CZ,4,0.0,176,1.0,1057.2857142857142,1257.851851851852,0.8405486804579907,2.7142857142857144,5.407407407407407,0.5019569471624267,8.589123060803518,0,0,0.18,0,CnC,2019-11-01,2021-10-31,2021-12-02\\n00180124ES,6,0.0,217,1.0,1173.6666666666667,698.8136363636363,1.679513114217386,582.1666666666666,221.88888888888889,2.6236855282924387,4.828073718265662,0,0,0.11,0,CnC,2019-11-01,2021-10-31,2021-12-02\\n00180124ES,11,0.47000364414689666,379,1.0,7953.316666666667,15751.550833333333,0.504922769244785,396.85714285714283,486.39285714285717,0.8159189367794991,4.828073718265662,0,0,0.11,0,CnC,2019-11-01,2021-10-31,2021-12-02\\n00180124ES,10,0.6061357602214821,351,1.0,35403.21666666667,35183.52749999999,1.0062440915472923,616.1428571428571,712.7857142857143,0.8644152720713497,4.828073718265662,0,0,0.11,0,CnC,2019-11-01,2021-10-31,2021-12-02\\n00180124ES,1,1.0414539309266488,84,1.0,39519.138333333336,43857.272000000004,0.9010851913756363,724.1428571428571,773.2307692307693,0.9365158319595247,4.828073718265662,0,0,0.11,0,CnC,2019-11-01,2021-10-31,2021-12-02\\n00180124ES,9,0.28768210225410284,686,1.0,36309.29400000001,42121.2747826087,0.8620179276955697,434.2857142857143,438.32142857142856,0.9907927971970993,4.952299717083292,0,0,0.11,0,CnC,2019-11-01,2021-10-31,2021-12-02\\n00180124ES,2,0.0,463,1.0,14672.291666666666,12576.144799999998,1.16667642588424,295.57142857142856,300.5357142857143,0.9834818775995247,4.828073718265662,0,0,0.11,0,CnC,2019-11-01,2021-10-31,2021-12-02\\n00180124ES,1,0.0,456,1.0,13453.276000000002,12748.104583333332,1.0553157853433834,317.85714285714283,356.1111111111111,0.8925785602852685,4.828073718265662,0,0,0.11,0,CnC,2019-11-01,2021-10-31,2021-12-02\\n00180124ES,7,0.1335314373280052,267,1.0,30100.805714285718,33132.26571428572,0.9085042952950567,768.4285714285714,924.2857142857143,0.8313755795981452,4.828073718265662,0,0,0.11,0,CnC,2019-11-01,2021-10-31,2021-12-02\\n00180124ES,9,0.7884573820386862,308,1.0,28109.40166666667,26632.508260869563,1.0554545366636408,927.2857142857143,857.7142857142857,1.0811125916055964,4.828073718265662,0,0,0.11,0,CnC,2019-11-01,2021-10-31,2021-12-02\\n00180124CZ,7,0.1335314373280052,638,1.0,36079.80142857143,37599.05857142858,0.9595932132191303,131.57142857142858,141.35714285714286,0.9307731177362305,8.663217245290781,0,0,0.18,0,CnC,2019-11-01,2021-10-31,2021-12-02\\n00180124CZ,5,0.2513144150354294,208,1.0,29183.889999999996,20422.614074074078,1.4289987508038018,253.14285714285714,165.4814814814815,1.5297352602634606,8.589123060803518,0,0,0.18,0,CnC,2019-11-01,2021-10-31,2021-12-02\\n00180124ES,8,0.1541506457674607,658,1.0,39172.90666666667,39077.8975,1.0024312763158936,412.7142857142857,448.10714285714283,0.9210169761696023,4.952299717083292,0,0,0.11,0,CnC,2019-11-01,2021-10-31,2021-12-02\\n00180124ES,11,1.0986122886681096,0,1.0,0.0,0.0,0.0,760.0,760.0,1.0,4.828073718265662,0,0,0.11,0,CnC,2019-11-01,2021-10-31,2021-12-02\\n00180124ES,8,0.5877866384111654,286,1.0,39597.333333333336,37960.50545454546,1.0431192329814427,837.7142857142857,792.3928571428571,1.0571956551133546,4.828073718265662,0,0,0.11,0,CnC,2019-11-01,2021-10-31,2021-12-02\\n00180124ES,11,0.6931471805599453,15,1.0,37212.23428571429,39397.68066666667,0.9445285523418786,880.1428571428571,869.2666666666667,1.0125119148050354,4.827078660944556,0,0,0.11,0,CnC,2019-11-01,2021-10-31,2021-12-02\\n00180124ES,2,0.35667496778059,470,1.0,31250.447142857145,30057.725357142856,1.0396810394513387,252.42857142857142,297.10714285714283,0.8496213487197981,4.821674620594302,0,0,0.11,0,CnC,2019-11-01,2021-10-31,2021-12-02\\n00180124ES,6,1.22377545967136,225,1.0,42200.564999999995,31051.22,1.3590630255429574,983.0,471.55555555555554,2.084590009425071,4.828073718265662,0,0,0.11,0,CnC,2019-11-01,2021-10-31,2021-12-02\\n00180124ES,11,1.3862943611198906,385,1.0,45245.355,45173.45416666666,1.0015916611793303,373.14285714285717,444.14285714285717,0.8401415246059827,4.825523165146224,0,0,0.11,0,CnC,2019-11-01,2021-10-31,2021-12-02\\n00180124CZ,2,0.0,484,1.0,532.2857142857143,458.5357142857143,1.160838071500896,2.4285714285714284,5.5,0.44155844155844154,8.589123060803518,0,0,0.18,0,CnC,2019-11-01,2021-10-31,2021-12-02\\n00180124ES,1,0.28768210225410284,84,1.0,16285.846666666666,17033.07,0.9561310243348184,724.1428571428571,773.2307692307693,0.9365158319595247,4.828073718265662,0,0,0.11,0,CnC,2019-11-01,2021-10-31,2021-12-02\\n00180124ES,4,0.0,518,1.0,34657.264,26708.817499999994,1.2975963462253621,346.0,345.2857142857143,1.002068680182044,4.828073718265662,0,0,0.11,0,CnC,2019-11-01,2021-10-31,2021-12-02\\n00180124ES,4,0.6190392450860042,533,1.0,36073.21571428572,39789.658214285715,0.9065977777445277,363.7142857142857,353.92857142857144,1.027648839556004,4.828073718265662,0,0,0.11,0,CnC,2019-11-01,2021-10-31,2021-12-02\\n00180124ES,1,0.0,442,1.0,44.666666666666664,21000.458636363637,0.002126937675033605,266.14285714285717,468.72,0.5678077682685978,4.828073718265662,0,0,0.11,0,CnC,2019-11-01,2021-10-31,2021-12-02\\n00180124ES,4,0.0,168,1.0,186.0,139.5,1.3333333333333333,6.5,3.25,2.0,4.828073718265662,0,0,0.11,0,CnC,2019-11-01,2021-10-31,2021-12-02\\n00180124ES,12,0.6190392450860042,414,1.0,43568.01,29292.195384615392,1.4873589851473692,584.2857142857143,500.67857142857144,1.166987659604822,4.828073718265662,0,0,0.11,0,CnC,2019-11-01,2021-10-31,2021-12-02\\n00180124HR,12,0.35667496778059,406,1.0,36025.544285714284,34610.796428571426,1.04087591165556,114.42857142857143,70.67857142857143,1.61899949469429,7.155396301896734,0,0,0.3,0,CnC,2019-11-01,2021-10-31,2021-12-02\\n00180124CZ,12,0.28768210225410284,64,1.0,48694.674999999996,56793.399999999994,0.857400243690288,312.8333333333333,334.0,0.936626746506986,8.589123060803518,0,0,0.18,0,CnC,2019-11-01,2021-10-31,2021-12-02\\n00180124CZ,7,0.1335314373280052,267,1.0,44966.75428571428,43905.51571428571,1.0241709624443216,156.14285714285714,171.42857142857142,0.9108333333333334,8.589123060803518,0,0,0.18,0,CnC,2019-11-01,2021-10-31,2021-12-02\\n00180124CZ,6,0.0,596,1.0,36503.38428571428,40096.78749999999,0.9103817677591824,143.71428571428572,159.17857142857142,0.9028494503028944,8.589123060803518,0,0,0.18,0,CnC,2019-11-01,2021-10-31,2021-12-02\\n00180124CZ,7,0.0,267,1.0,44412.42142857143,40906.36357142858,1.0857093506006898,156.14285714285714,171.42857142857142,0.9108333333333334,8.589123060803518,0,0,0.18,0,CnC,2019-11-01,2021-10-31,2021-12-02\\n00180124CZ,11,0.0,393,1.0,587.8385714285714,437.74535714285713,1.3428779125502677,9.142857142857142,8.5,1.0756302521008403,8.589123060803518,0,0,0.18,0,CnC,2019-11-01,2021-10-31,2021-12-02\\n00180124CZ,2,0.0,470,1.0,333.42857142857144,411.7857142857143,0.8097137901127494,8.142857142857142,6.642857142857143,1.225806451612903,8.589123060803518,0,0,0.18,0,CnC,2019-11-01,2021-10-31,2021-12-02\\n00180124CZ,8,0.2513144150354294,649,1.0,20723.647142857142,21832.32,0.9492187336415526,169.28571428571428,158.75,1.0663667041619798,8.663217245290781,0,0,0.18,0,CnC,2019-11-01,2021-10-31,2021-12-02\\n00180124ES,1,0.6931471805599453,77,1.0,29397.675,35374.44571428571,0.8310427034656818,802.0,810.72,0.989244128675745,4.828073718265662,0,0,0.11,0,CnC,2019-11-01,2021-10-31,2021-12-02\\n00180124ES,1,0.28768210225410284,84,1.0,30075.896666666664,32665.22545454545,0.9207313357906589,724.1428571428571,773.2307692307693,0.9365158319595247,4.668473604032036,0,0,0.11,0,CnC,2019-11-01,2021-10-31,2021-12-02\\n00180124ES,7,0.8109302162163288,622,1.0,24746.796666666665,23478.38799999999,1.0540245210474704,501.14285714285717,488.14285714285717,1.0266315481416448,4.922677979792144,0,0,0.11,0,CnC,2019-11-01,2021-10-31,2021-12-02\\n00180124ES,8,0.0,652,1.0,32553.92666666667,30192.66666666667,1.078206407736978,459.42857142857144,451.89285714285717,1.0166758871413895,4.952299717083292,0,0,0.11,0,CnC,2019-11-01,2021-10-31,2021-12-02\\n00180124ES,8,0.28768210225410284,666,1.0,30229.734999999997,31999.745833333334,0.9446867221211,422.57142857142856,446.85714285714283,0.9456521739130435,4.952299717083292,0,0,0.11,0,CnC,2019-11-01,2021-10-31,2021-12-02\\n00180124ES,10,0.3364722195913143,715,1.0,37888.403999999995,34095.79347826087,1.111233971550105,494.57142857142856,473.35714285714283,1.0448166591217747,4.952299717083292,0,0,0.11,0,CnC,2019-11-01,2021-10-31,2021-12-02\\n00180124ES,6,1.0414539309266488,225,1.0,55304.40666666667,26321.07130434782,2.1011457332867476,983.0,471.55555555555554,2.084590009425071,4.828073718265662,0,0,0.11,0,CnC,2019-11-01,2021-10-31,2021-12-02\\n00180124ES,3,0.8472979285067953,511,1.0,44374.42999999999,47797.098695652174,0.9283917060019478,355.2857142857143,349.67857142857144,1.0160351343070166,4.828073718265662,0,0,0.11,0,CnC,2019-11-01,2021-10-31,2021-12-02\\n00180124ES,7,0.4054651081081644,246,1.0,29901.945000000003,27373.587916666667,1.092364840554713,1047.857142857143,1043.7857142857142,1.0039006364196263,4.828073718265662,0,0,0.11,0,CnC,2019-11-01,2021-10-31,2021-12-02\\n00180124ES,8,0.22314355131420976,666,1.0,17097.215,20635.40541666666,0.8285378772442745,422.57142857142856,446.85714285714283,0.9456521739130435,4.26619481914876,0,0,0.11,0,CnC,2019-11-01,2021-10-31,2021-12-02\\n00180124ES,10,0.47000364414689666,715,1.0,19608.282,18847.594782608692,1.040359909376512,494.57142857142856,473.35714285714283,1.0448166591217747,4.847724106877378,0,0,0.11,0,CnC,2019-11-01,2021-10-31,2021-12-02\\n00180124ES,11,0.5108256714497054,386,1.0,15684.98666666667,18608.611200000003,0.8428886228041922,373.14285714285717,444.14285714285717,0.8401415246059827,4.828073718265662,0,0,0.11,0,CnC,2019-11-01,2021-10-31,2021-12-02\\n00180124RO,9,0.35667496778059,691,1.0,20985.359999999993,21913.758214285714,0.9576340030218782,65.71428571428571,61.92857142857143,1.0611303344867358,6.512146466906872,0,0,0.13,0,CnC,2019-11-01,2021-10-31,2021-12-02\\n00180124CZ,12,0.5389965106667944,50,1.0,59998.187142857154,61797.19071428571,0.970888586509602,352.7142857142857,356.82142857142856,0.988489640676609,8.589123060803518,0,0,0.18,0,CnC,2019-11-01,2021-10-31,2021-12-02\\n00180124CZ,8,0.1335314373280052,295,1.0,42914.544285714284,37734.34428571428,1.1372807742669895,154.42857142857142,155.42857142857142,0.9935661764705882,8.589123060803518,0,0,0.18,0,CnC,2019-11-01,2021-10-31,2021-12-02\\n00180124ES,10,1.0986122886681096,350,1.0,41351.945999999996,39042.68217391305,1.0591471614527017,616.1428571428571,712.7857142857143,0.8644152720713497,4.828073718265662,0,0,0.11,0,CnC,2019-11-01,2021-10-31,2021-12-02\\n00180124ES,2,1.1526795350350776,120,1.0,28847.14833333333,29044.494166666667,0.993205396100173,757.4285714285714,795.6785714285714,0.9519278244086359,4.828073718265662,0,0,0.11,0,CnC,2019-11-01,2021-10-31,2021-12-02\\n00180124ES,3,0.18232159653038368,511,1.0,36268.88,40702.71041666666,0.8910679320546887,322.42857142857144,346.92857142857144,0.9293802758904673,4.828073718265662,0,0,0.11,0,CnC,2019-11-01,2021-10-31,2021-12-02\\n00180124ES,2,0.5108256714497054,470,1.0,14814.769999999999,13276.909583333334,1.1158296971907649,252.42857142857142,297.10714285714283,0.8496213487197981,4.828073718265662,0,0,0.11,0,CnC,2019-11-01,2021-10-31,2021-12-02\\n00180124ES,7,0.2513144150354294,617,1.0,31447.027142857143,32536.597307692304,0.9665124734915791,538.0,476.60714285714283,1.128812289246909,4.8832022700526325,0,0,0.11,0,CnC,2019-11-01,2021-10-31,2021-12-02\\n00180124ES,10,0.35667496778059,344,1.0,22723.02571428572,23057.138400000003,0.9855093602719458,681.8571428571429,765.3214285714286,0.8909421811563769,4.828073718265662,0,0,0.11,0,CnC,2019-11-01,2021-10-31,2021-12-02\\n00180124ES,6,0.0,596,1.0,16218.506666666668,18717.89416666667,0.8664706896114961,416.14285714285717,467.4642857142857,0.8902131560852625,4.828073718265662,0,0,0.11,0,CnC,2019-11-01,2021-10-31,2021-12-02\\n00180124HR,11,1.0986122886681096,0,1.0,0.0,0.0,0.0,0.0,0.0,0.0,7.155396301896734,0,0,0.3,0,CnC,2019-11-01,2021-10-31,2021-12-02\\n00180124HR,1,0.35667496778059,434,1.0,31843.50142857142,28891.106,1.1021904605718944,54.0,77.56,0.6962351727694688,7.155396301896734,0,0,0.3,0,CnC,2019-11-01,2021-10-31,2021-12-02\\n00180124RO,12,0.6931471805599453,40,1.0,27264.375714285714,25811.058214285713,1.0563060021768356,181.14285714285714,178.96428571428572,1.0121732189183794,6.572688024149897,0,0,0.13,0,CnC,2019-11-01,2021-10-31,2021-12-02\\n00180124RO,2,0.2513144150354294,467,1.0,22438.62714285714,22166.77928571429,1.012263750797485,70.85714285714286,80.10714285714286,0.8845296477931343,6.572688024149897,0,0,0.13,0,CnC,2019-11-01,2021-10-31,2021-12-02\\n00180124CZ,3,0.2513144150354294,124,1.0,20437.31714285714,21099.811071428576,0.9686019023426933,230.0,222.57142857142858,1.0333761232349166,8.589123060803518,0,0,0.18,0,CnC,2019-11-01,2021-10-31,2021-12-02\\n00180124CZ,2,0.0,481,1.0,502.14285714285717,353.89285714285717,1.41891210011101,2.4285714285714284,5.5,0.44155844155844154,8.589123060803518,0,0,0.18,0,CnC,2019-11-01,2021-10-31,2021-12-02\\n00180124CZ,10,0.0,722,1.0,55272.555714285714,51524.86888888889,1.0727354946497496,192.42857142857142,182.85185185185185,1.0523742006423797,8.663217245290781,0,0,0.18,0,CnC,2019-11-01,2021-10-31,2021-12-02\\n00180124ES,12,0.6931471805599453,428,1.0,24105.283999999996,20330.263913043476,1.1856847556481815,599.8333333333334,549.5,1.091598422808614,4.828073718265662,0,0,0.11,0,CnC,2019-11-01,2021-10-31,2021-12-02\\n00180124ES,7,0.6931471805599453,617,1.0,25274.13285714286,25447.830799999996,0.9931743517071351,538.0,476.60714285714283,1.128812289246909,4.943915358945928,0,0,0.11,0,CnC,2019-11-01,2021-10-31,2021-12-02\\n00180124ES,8,0.1335314373280052,666,1.0,32640.42142857143,31257.675714285713,1.0442369972394896,422.57142857142856,446.85714285714283,0.9456521739130435,4.952299717083292,0,0,0.11,0,CnC,2019-11-01,2021-10-31,2021-12-02\\n00180124HR,2,0.2513144150354294,483,1.0,28276.280000000002,30281.437142857147,0.9337826294902214,46.714285714285715,52.92857142857143,0.8825910931174089,7.155396301896734,0,0,0.3,0,CnC,2019-11-01,2021-10-31,2021-12-02\\n00180124RO,10,0.0,700,1.0,29420.63857142857,31911.526071428576,0.9219439554716194,64.85714285714286,62.607142857142854,1.0359383913291502,6.512146466906872,0,0,0.13,0,CnC,2019-11-01,2021-10-31,2021-12-02\\n00180124RO,1,0.5389965106667944,439,1.0,21354.494285714285,25077.43541666667,0.8515421904554846,76.0,86.5,0.8786127167630058,6.572688024149897,0,0,0.13,0,CnC,2019-11-01,2021-10-31,2021-12-02\\n00180124CZ,7,0.0,253,1.0,44486.41571428571,41270.08642857143,1.0779336697363349,187.28571428571428,184.5,1.0150987224157955,8.589123060803518,0,0,0.18,0,CnC,2019-11-01,2021-10-31,2021-12-02\\n00180124CZ,3,0.1335314373280052,127,1.0,33298.12857142857,34486.50714285715,0.965540767393293,230.0,222.57142857142858,1.0333761232349166,8.589123060803518,0,0,0.18,0,CnC,2019-11-01,2021-10-31,2021-12-02\\n00180124ES,10,0.4054651081081644,357,1.0,16967.969999999998,21394.938333333328,0.793083379612452,542.1428571428571,657.2142857142857,0.8249103358330616,4.828073718265662,0,0,0.11,0,CnC,2019-11-01,2021-10-31,2021-12-02\\n00180124ES,11,1.0986122886681096,8,1.0,43669.00285714286,46747.104999999996,0.934154165421428,874.0,859.75,1.0165745856353592,4.828073718265662,0,0,0.11,0,CnC,2019-11-01,2021-10-31,2021-12-02\\n00180124ES,12,0.6061357602214821,413,1.0,33488.855,28565.021304347832,1.1723728347054558,584.2857142857143,500.67857142857144,1.166987659604822,4.828073718265662,0,0,0.11,0,CnC,2019-11-01,2021-10-31,2021-12-02\\n00180124ES,4,0.5108256714497054,539,1.0,18457.528333333332,31392.459999999992,0.5879605591066561,341.85714285714283,350.57142857142856,0.9751426242868786,4.828073718265662,0,0,0.11,0,CnC,2019-11-01,2021-10-31,2021-12-02\\n00180124ES,12,1.0498221483405352,407,1.0,48382.98285714286,41064.13785714285,1.1782296032967106,515.8571428571429,447.89285714285717,1.1517422853042023,4.826632331856307,0,0,0.11,0,CnC,2019-11-01,2021-10-31,2021-12-02\\n00180124ES,11,0.28768210225410284,29,1.0,20532.13333333333,19889.931666666667,1.0322877764202139,1072.857142857143,916.7142857142857,1.17032881408758,4.828073718265662,0,0,0.11,0,CnC,2019-11-01,2021-10-31,2021-12-02\\n00180124HR,8,0.7621400202577524,665,1.0,34693.4,29472.669259259263,1.1771380357447798,65.28571428571429,56.592592592592595,1.1536088257292447,7.0909098220799835,0,0,0.3,0,CnC,2019-11-01,2021-10-31,2021-12-02\\n00180124RO,2,0.5389965106667944,119,1.0,30500.204285714284,31671.999285714282,0.9630021777460529,138.14285714285714,125.64285714285714,1.0994883456509381,6.572688024149897,0,0,0.13,0,CnC,2019-11-01,2021-10-31,2021-12-02\\n00180124ES,12,0.5108256714497054,57,1.0,48494.48666666666,45985.48814814814,1.0545606585807126,872.1666666666666,912.2592592592592,0.9560513174454955,4.828073718265662,0,0,0.11,0,CnC,2019-11-01,2021-10-31,2021-12-02\\n00180124ES,9,0.1541506457674607,693,1.0,36325.97,36567.546818181814,0.9933936826721529,423.14285714285717,438.4642857142857,0.9650566099209905,4.952299717083292,0,0,0.11,0,CnC,2019-11-01,2021-10-31,2021-12-02\\n00180124ES,12,0.6931471805599453,414,1.0,26554.20285714286,13651.03,1.9452160648055759,584.2857142857143,500.67857142857144,1.166987659604822,4.827730681616178,0,0,0.11,0,CnC,2019-11-01,2021-10-31,2021-12-02\\n00180124ES,10,1.1895840979719114,365,1.0,41109.74714285714,30359.73285714286,1.3540879076999217,616.2857142857143,614.1071428571429,1.003547542890375,4.825842118472876,0,0,0.11,0,CnC,2019-11-01,2021-10-31,2021-12-02\\n00180124ES,12,1.3350010541839938,427,1.0,57251.257999999994,47867.972083333334,1.1960243041073748,599.8333333333334,549.5,1.091598422808614,4.827577443355209,0,0,0.11,0,CnC,2019-11-01,2021-10-31,2021-12-02\\n00180124ES,6,1.0986122886681096,238,1.0,57637.364,42974.34818181819,1.3412039143943437,1134.857142857143,940.1481481481482,1.2071045878168476,4.828073718265662,0,0,0.11,0,CnC,2019-11-01,2021-10-31,2021-12-02\\n00180124ES,6,0.4054651081081644,225,1.0,28071.046666666673,19367.38695652174,1.4493977287531852,983.0,471.55555555555554,2.084590009425071,4.822107875204686,0,0,0.11,0,CnC,2019-11-01,2021-10-31,2021-12-02\\n00180124ES,6,0.5108256714497054,596,1.0,31458.251666666667,36958.50681818182,0.8511775603226132,416.14285714285717,467.4642857142857,0.8902131560852625,4.827072977643917,0,0,0.11,0,CnC,2019-11-01,2021-10-31,2021-12-02\\n00180124ES,4,0.2513144150354294,540,1.0,26392.737142857142,31185.436428571433,0.8463161066643492,341.85714285714283,350.57142857142856,0.9751426242868786,4.828073718265662,0,0,0.11,0,CnC,2019-11-01,2021-10-31,2021-12-02\\n00180124HR,10,0.6190392450860042,364,1.0,27790.39285714286,31717.706071428565,0.8761791535162927,35.42857142857143,59.75,0.5929468021518232,7.155396301896734,0,0,0.3,0,CnC,2019-11-01,2021-10-31,2021-12-02\\n00180124RO,3,0.2513144150354294,124,1.0,18113.091428571428,19317.753214285713,0.9376396534135542,115.14285714285714,124.39285714285714,0.9256388171116853,6.572688024149897,0,0,0.13,0,CnC,2019-11-01,2021-10-31,2021-12-02\\n00180124RO,12,0.1335314373280052,411,1.0,28862.790000000005,26682.11285714285,1.0817280533416747,115.42857142857143,123.53571428571429,0.9343740965596993,6.572688024149897,0,0,0.13,0,CnC,2019-11-01,2021-10-31,2021-12-02\\n00180124CZ,1,0.0,435,1.0,410.16285714285715,27931.08375,0.014684817131123927,6.428571428571429,147.25,0.043657530924084406,8.589123060803518,0,0,0.18,0,CnC,2019-11-01,2021-10-31,2021-12-02\\n00180124CZ,8,0.1335314373280052,642,1.0,24950.877142857145,21740.743928571428,1.1476551687850478,171.85714285714286,148.85714285714286,1.154510556621881,8.663217245290781,0,0,0.18,0,CnC,2019-11-01,2021-10-31,2021-12-02\\n00180124CZ,1,0.0,435,1.0,862.0,36576.29916666667,0.023567173815812737,6.428571428571429,147.25,0.043657530924084406,8.589123060803518,0,0,0.18,0,CnC,2019-11-01,2021-10-31,2021-12-02\\n00180124ES,7,0.0,609,1.0,18303.341666666664,17690.687916666666,1.0346314260296687,485.42857142857144,466.89285714285717,1.039700145337719,4.828073718265662,0,0,0.11,0,CnC,2019-11-01,2021-10-31,2021-12-02\\n00180124ES,1,0.45198510206864073,85,1.0,38880.98714285714,39863.34115384615,0.9753569574813669,724.1428571428571,773.2307692307693,0.9365158319595247,4.827341829606115,0,0,0.11,0,CnC,2019-11-01,2021-10-31,2021-12-02\\n00180124ES,10,0.1541506457674607,721,1.0,28810.535000000003,32665.962173913045,0.881974173808602,452.42857142857144,480.67857142857144,0.9412289174530054,4.952299717083292,0,0,0.11,0,CnC,2019-11-01,2021-10-31,2021-12-02\\n00180124ES,1,0.5108256714497054,448,1.0,24127.77666666667,32245.734090909085,0.748247089014758,322.57142857142856,422.65384615384613,0.7632047632047632,4.828073718265662,0,0,0.11,0,CnC,2019-11-01,2021-10-31,2021-12-02\\n00180124ES,6,0.8472979285067953,239,1.0,26111.640000000003,28741.55458333334,0.9084978310512691,1134.857142857143,940.1481481481482,1.2071045878168476,4.811398156734929,0,0,0.11,0,CnC,2019-11-01,2021-10-31,2021-12-02\\n00180124ES,2,0.1541506457674607,477,1.0,9677.633333333333,5101.160000000001,1.897143656214142,361.0,306.7142857142857,1.176991150442478,4.826004432283828,0,0,0.11,0,CnC,2019-11-01,2021-10-31,2021-12-02\\n00180124ES,3,0.4054651081081644,127,1.0,31260.843333333334,29251.715416666662,1.068684105805362,915.5714285714286,823.2857142857143,1.1120943952802358,4.827206435016218,0,0,0.11,0,CnC,2019-11-01,2021-10-31,2021-12-02\\n00180124ES,10,0.9985288803045109,344,1.0,27461.304285714286,39026.19035714286,0.7036634638022801,681.8571428571429,765.3214285714286,0.8909421811563769,4.827639254518826,0,0,0.11,0,CnC,2019-11-01,2021-10-31,2021-12-02\\n00180124ES,1,0.4054651081081644,71,1.0,13397.506666666668,16105.782916666669,0.831844483188867,671.0,827.92,0.8104647792057204,4.828073718265662,0,0,0.11,0,CnC,2019-11-01,2021-10-31,2021-12-02\\n00180124ES,8,0.9162907318741551,301,1.0,24487.820000000003,26683.604347826084,0.9177103542983326,866.7142857142857,823.1785714285714,1.052887326999002,4.828073718265662,0,0,0.11,0,CnC,2019-11-01,2021-10-31,2021-12-02\\n00180124RO,2,0.2513144150354294,481,1.0,23097.891428571427,23070.327500000003,1.0011947783823798,69.28571428571429,74.57142857142857,0.9291187739463602,6.572688024149897,0,0,0.13,0,CnC,2019-11-01,2021-10-31,2021-12-02\\n00180124CZ,10,0.0,344,1.0,37284.577142857146,38421.356666666674,0.9704128218669653,165.71428571428572,196.40740740740742,0.8437272702782791,8.589123060803518,0,0,0.18,0,CnC,2019-11-01,2021-10-31,2021-12-02\\n00180124CZ,1,0.0,439,1.0,197.57142857142858,6976.91875,0.028317862892043653,14.428571428571429,82.83333333333333,0.1741879850531762,8.589123060803518,0,0,0.18,0,CnC,2019-11-01,2021-10-31,2021-12-02\\n00180124ES,3,0.9162907318741551,486,1.0,44751.89,40205.30785714286,1.113084127076256,443.2857142857143,343.0,1.2923781757600998,4.828073718265662,0,0,0.11,0,CnC,2019-11-01,2021-10-31,2021-12-02\\n00180124ES,2,0.6061357602214821,99,1.0,30431.958333333332,28212.071999999996,1.0786856893507621,805.1428571428571,785.9285714285714,1.024447877851495,4.828073718265662,0,0,0.11,0,CnC,2019-11-01,2021-10-31,2021-12-02\\n00180124ES,6,0.0,601,1.0,33089.70857142857,33592.871785714284,0.9850217267075188,457.2857142857143,463.67857142857144,0.9862127397365785,4.828073718265662,0,0,0.11,0,CnC,2019-11-01,2021-10-31,2021-12-02\\n00180124ES,10,0.28768210225410284,722,1.0,29164.320000000003,32455.452173913043,0.8985953991250081,452.42857142857144,480.67857142857144,0.9412289174530054,4.912581394014749,0,0,0.11,0,CnC,2019-11-01,2021-10-31,2021-12-02\\n00180124ES,7,1.0414539309266488,260,1.0,52159.86333333334,50806.1588,1.026644496756038,924.7142857142857,1015.8928571428571,0.9102478467217437,4.828073718265662,0,0,0.11,0,CnC,2019-11-01,2021-10-31,2021-12-02\\n00180124ES,7,0.1541506457674607,624,1.0,18570.82,17866.325599999996,1.0394314094443686,468.14285714285717,489.60714285714283,0.9561601867386389,4.912581394014749,0,0,0.11,0,CnC,2019-11-01,2021-10-31,2021-12-02\\n00180124RO,6,0.1335314373280052,581,1.0,36770.84857142858,33425.34714285714,1.1000887564240707,50.142857142857146,49.107142857142854,1.0210909090909093,6.572688024149897,0,0,0.13,0,CnC,2019-11-01,2021-10-31,2021-12-02\\n00180124ES,2,0.5108256714497054,91,1.0,16657.408333333336,16082.433999999997,1.0357516986131166,812.4285714285714,755.4074074074074,1.0754839884571206,4.616027701020211,0,0,0.11,0,CnC,2019-11-01,2021-10-31,2021-12-02\\n00180124ES,11,0.0,385,1.0,1106.5,10532.2,0.10505877214637017,373.14285714285717,444.14285714285717,0.8401415246059827,4.828073718265662,0,0,0.11,0,CnC,2019-11-01,2021-10-31,2021-12-02\\n00180124ES,3,0.0,490,1.0,1091.3333333333333,965.8809523809524,1.1298838957773558,363.57142857142856,354.5357142857143,1.025486048151506,4.828073718265662,0,0,0.11,0,CnC,2019-11-01,2021-10-31,2021-12-02\\n00180124ES,10,0.6931471805599453,336,1.0,37509.011666666665,37286.13708333334,1.0059774114662294,788.7142857142857,785.4642857142857,1.0041376801709634,4.828073718265662,0,0,0.11,0,CnC,2019-11-01,2021-10-31,2021-12-02\\n00180124ES,8,0.6061357602214821,281,1.0,27520.748333333337,25616.51166666667,1.074336298846831,789.1428571428571,812.9285714285714,0.9707407081978736,4.828073718265662,0,0,0.11,0,CnC,2019-11-01,2021-10-31,2021-12-02\\n00180124ES,12,0.5108256714497054,50,1.0,25810.864999999994,31565.215,0.8176996418367496,863.4285714285714,961.0,0.8984688568455478,4.8252958824917815,0,0,0.11,0,CnC,2019-11-01,2021-10-31,2021-12-02\\n00180124ES,4,0.18232159653038368,546,1.0,18215.394,19098.893636363635,0.9537407949808422,413.2857142857143,360.17857142857144,1.1474467030242934,4.82786563887432,0,0,0.11,0,CnC,2019-11-01,2021-10-31,2021-12-02\\n00180124RO,12,0.35667496778059,406,1.0,39088.154285714285,40980.53535714286,0.9538224414362432,116.71428571428571,128.14285714285714,0.9108138238573021,6.572688024149897,0,0,0.13,0,CnC,2019-11-01,2021-10-31,2021-12-02\\n00180124CZ,3,0.0,505,1.0,651.2857142857143,569.0714285714286,1.1444709426383834,13.857142857142858,6.321428571428571,2.192090395480226,8.589123060803518,0,0,0.18,0,CnC,2019-11-01,2021-10-31,2021-12-02\\n00180124CZ,12,0.35667496778059,50,1.0,56836.111428571436,54864.77035714285,1.0359309090076587,352.7142857142857,356.82142857142856,0.988489640676609,8.589123060803518,0,0,0.18,0,CnC,2019-11-01,2021-10-31,2021-12-02\\n00180124CZ,8,0.35667496778059,281,1.0,39375.057142857135,41409.34678571428,0.95087366015735,150.85714285714286,160.39285714285714,0.9405477621910489,8.589123060803518,0,0,0.18,0,CnC,2019-11-01,2021-10-31,2021-12-02\\n00180124CZ,5,0.0,180,1.0,72.71428571428571,208.33333333333334,0.3490285714285714,7.714285714285714,6.2592592592592595,1.2324598478444633,8.589123060803518,0,0,0.18,0,CnC,2019-11-01,2021-10-31,2021-12-02\\n00180124ES,7,0.1541506457674607,266,1.0,19609.305000000004,22340.1272,0.8777615644014778,768.4285714285714,924.2857142857143,0.8313755795981452,4.828073718265662,0,0,0.11,0,CnC,2019-11-01,2021-10-31,2021-12-02\\n00180124ES,12,0.9444615955953747,414,1.0,41369.229999999996,46013.58571428571,0.8990655554834581,584.2857142857143,500.67857142857144,1.166987659604822,4.827250305848518,0,0,0.11,0,CnC,2019-11-01,2021-10-31,2021-12-02\\n00180124ES,6,0.18232159653038368,589,1.0,34254.79714285714,35550.02178571428,0.9635661364523377,499.14285714285717,471.4642857142857,1.0587076736610863,4.827113004504085,0,0,0.11,0,CnC,2019-11-01,2021-10-31,2021-12-02\\n00180124ES,9,0.6190392450860042,687,1.0,36987.135714285716,38668.92071428571,0.956508095676467,434.2857142857143,438.32142857142856,0.9907927971970993,4.951228979931097,0,0,0.11,0,CnC,2019-11-01,2021-10-31,2021-12-02\\n00180124ES,6,0.5596157879354227,602,1.0,37137.878,34093.65869565217,1.0892898979110166,466.85714285714283,463.64285714285717,1.006932676012941,4.828073718265662,0,0,0.11,0,CnC,2019-11-01,2021-10-31,2021-12-02\\n00180124ES,5,0.47000364414689666,573,1.0,36702.465000000004,30761.69043478261,1.1931225001373815,496.0,458.60714285714283,1.0815357059419048,4.824755412012127,0,0,0.11,0,CnC,2019-11-01,2021-10-31,2021-12-02\\n00180124ES,8,0.1335314373280052,645,1.0,33228.08571428571,30819.20285714286,1.0781617509157786,492.7142857142857,454.07142857142856,1.0851030360232814,4.949347343500239,0,0,0.11,0,CnC,2019-11-01,2021-10-31,2021-12-02\\n00180124ES,2,0.5108256714497054,106,1.0,31530.654999999995,31337.38208333333,1.0061674876399282,843.8571428571429,796.3928571428571,1.0595990851607697,4.826966150026799,0,0,0.11,0,CnC,2019-11-01,2021-10-31,2021-12-02\\n00180124ES,11,0.1541506457674607,378,1.0,5344.115000000001,24046.924583333326,0.22223694266933208,396.85714285714283,486.39285714285717,0.8159189367794991,4.825964299846779,0,0,0.11,0,CnC,2019-11-01,2021-10-31,2021-12-02\\n00180124HR,5,0.45198510206864073,210,1.0,35646.66714285714,33815.99846153845,1.0541361711794743,106.85714285714286,91.88461538461539,1.1629492315972014,7.155396301896734,0,0,0.3,0,CnC,2019-11-01,2021-10-31,2021-12-02\\n00180124RO,5,0.1335314373280052,560,1.0,33151.83571428572,32301.03615384615,1.0263396987139146,38.0,53.88461538461539,0.7052105638829407,6.572688024149897,0,0,0.13,0,CnC,2019-11-01,2021-10-31,2021-12-02\\n00180124CZ,2,0.2513144150354294,120,1.0,40385.56571428572,40315.01666666667,1.0017499446472358,204.14285714285714,219.5,0.9300357956394403,8.589123060803518,0,0,0.18,0,CnC,2019-11-01,2021-10-31,2021-12-02\\n00180124CZ,7,0.1335314373280052,253,1.0,36904.94142857143,37852.70642857142,0.9749617639153904,187.28571428571428,184.5,1.0150987224157955,8.589123060803518,0,0,0.18,0,CnC,2019-11-01,2021-10-31,2021-12-02\\n00180124CZ,1,0.2513144150354294,82,1.0,20693.834285714285,21985.01037037037,0.9412701625833104,198.14285714285714,236.96296296296296,0.8361764837225919,8.589123060803518,0,0,0.18,0,CnC,2019-11-01,2021-10-31,2021-12-02\\n00180124CZ,7,0.0,631,1.0,53687.44714285715,51446.96821428573,1.0435492898092542,162.28571428571428,142.89285714285714,1.1357160709822545,8.663217245290781,0,0,0.18,0,CnC,2019-11-01,2021-10-31,2021-12-02\\n00180124ES,11,0.1541506457674607,371,1.0,5422.916666666667,29509.36958333333,0.1837693160930652,390.2857142857143,541.2142857142857,0.7211297347235054,4.828073718265662,0,0,0.11,0,CnC,2019-11-01,2021-10-31,2021-12-02\\n00180124ES,11,0.4054651081081644,1,1.0,26926.619999999995,26926.619999999995,1.0,760.0,760.0,1.0,4.828073718265662,0,0,0.11,0,CnC,2019-11-01,2021-10-31,2021-12-02\\n00180124ES,3,0.7731898148739162,127,1.0,20291.186666666665,18442.322956521737,1.1002511296707944,915.5714285714286,823.2857142857143,1.1120943952802358,4.828073718265662,0,0,0.11,0,CnC,2019-11-01,2021-10-31,2021-12-02\\n00180124ES,10,0.4054651081081644,708,1.0,21246.146666666664,20871.12434782608,1.0179684770494717,505.42857142857144,458.2857142857143,1.10286783042394,4.952299717083292,0,0,0.11,0,CnC,2019-11-01,2021-10-31,2021-12-02\\n00180124ES,11,1.0986122886681096,1,1.0,77884.67,77884.67,1.0,760.0,760.0,1.0,4.823944219496942,0,0,0.11,0,CnC,2019-11-01,2021-10-31,2021-12-02\\n00180124ES,6,0.9555114083476544,239,1.0,40890.441999999995,31157.231818181815,1.3123900813338096,1134.857142857143,940.1481481481482,1.2071045878168476,4.828073718265662,0,0,0.11,0,CnC,2019-11-01,2021-10-31,2021-12-02\\n00180124ES,4,0.47000364414689666,519,1.0,10226.314,6805.708181818182,1.5026083585717283,346.0,345.2857142857143,1.002068680182044,4.828073718265662,0,0,0.11,0,CnC,2019-11-01,2021-10-31,2021-12-02\\n00180124ES,9,0.4054651081081644,694,1.0,31726.30166666667,29777.896086956527,1.065431270698926,423.14285714285717,438.4642857142857,0.9650566099209905,4.94886626337035,0,0,0.11,0,CnC,2019-11-01,2021-10-31,2021-12-02\\n00180124ES,8,0.4054651081081644,652,1.0,34613.64833333334,33604.5352,1.0300290757580048,459.42857142857144,451.89285714285717,1.0166758871413895,4.952299717083292,0,0,0.11,0,CnC,2019-11-01,2021-10-31,2021-12-02\\n00180124ES,8,0.6190392450860042,652,1.0,44182.51285714285,44297.203333333324,0.997410886747693,459.42857142857144,451.89285714285717,1.0166758871413895,4.952299717083292,0,0,0.11,0,CnC,2019-11-01,2021-10-31,2021-12-02\\n00180124ES,4,0.6931471805599453,518,1.0,45632.14333333334,47878.58043478261,0.9530805407961241,346.0,345.2857142857143,1.002068680182044,4.821839516585178,0,0,0.11,0,CnC,2019-11-01,2021-10-31,2021-12-02\\n00180124ES,4,0.3364722195913143,545,1.0,30115.775000000005,15117.726363636366,1.9920836159886717,413.2857142857143,360.17857142857144,1.1474467030242934,4.56705288606726,0,0,0.11,0,CnC,2019-11-01,2021-10-31,2021-12-02\\n00180124ES,10,0.1541506457674607,729,1.0,16969.021666666667,17521.411304347825,0.9684734506777952,459.7142857142857,478.0357142857143,0.9616735151288757,4.847724106877378,0,0,0.11,0,CnC,2019-11-01,2021-10-31,2021-12-02\\n00180124ES,1,0.35667496778059,449,1.0,23809.65857142857,25485.3147826087,0.9342501269663105,322.57142857142856,422.65384615384613,0.7632047632047632,4.828073718265662,0,0,0.11,0,CnC,2019-11-01,2021-10-31,2021-12-02\\n00180124ES,9,0.4054651081081644,672,1.0,30312.296666666665,26376.571666666667,1.1492129094613823,432.57142857142856,431.82142857142856,1.0017368290463982,4.952299717083292,0,0,0.11,0,CnC,2019-11-01,2021-10-31,2021-12-02\\n00180124CZ,2,0.1541506457674607,99,1.0,39013.14000000001,39451.56555555555,0.9888869922047034,217.71428571428572,205.10714285714286,1.0614661326832666,8.589123060803518,0,0,0.18,0,CnC,2019-11-01,2021-10-31,2021-12-02\\n00180124CZ,8,0.35667496778059,295,1.0,43031.82857142858,41189.24857142857,1.0447344893122945,154.42857142857142,155.42857142857142,0.9935661764705882,8.589123060803518,0,0,0.18,0,CnC,2019-11-01,2021-10-31,2021-12-02\\n00180124CZ,12,0.6190392450860042,407,1.0,104067.5557142857,35523.044642857145,2.9295787216598073,265.0,97.5,2.717948717948718,8.589123060803518,0,0,0.18,0,CnC,2019-11-01,2021-10-31,2021-12-02\\n00180124CZ,1,0.0,449,1.0,1566.5714285714287,1007.3846153846154,1.5550877039881317,4.0,7.846153846153846,0.5098039215686275,8.589123060803518,0,0,0.18,0,CnC,2019-11-01,2021-10-31,2021-12-02\\n00180124ES,12,0.28768210225410284,35,1.0,19106.024999999998,18018.595416666667,1.0603504079084594,1026.857142857143,954.9285714285714,1.0753235096117886,4.828073718265662,0,0,0.11,0,CnC,2019-11-01,2021-10-31,2021-12-02\\n00180124ES,1,0.875468777090329,70,1.0,29188.667999999998,36076.8419047619,0.8090693768887595,671.0,827.92,0.8104647792057204,4.828073718265662,0,0,0.11,0,CnC,2019-11-01,2021-10-31,2021-12-02\\n00180124ES,10,1.1526795350350776,343,1.0,40671.96,38291.70666666667,1.0621610667305503,681.8571428571429,765.3214285714286,0.8909421811563769,4.828073718265662,0,0,0.11,0,CnC,2019-11-01,2021-10-31,2021-12-02\\n00180124ES,3,0.5108256714497054,491,1.0,29848.709999999995,16200.47625,1.8424587980862597,363.57142857142856,354.5357142857143,1.025486048151506,4.828073718265662,0,0,0.11,0,CnC,2019-11-01,2021-10-31,2021-12-02\\n00180124ES,5,0.3364722195913143,575,1.0,36310.93199999999,31406.445599999995,1.1561617784598968,482.14285714285717,451.60714285714283,1.0676156583629894,4.828073718265662,0,0,0.11,0,CnC,2019-11-01,2021-10-31,2021-12-02\\n00180124ES,8,0.5108256714497054,659,1.0,38923.53166666667,38011.32416666666,1.0239983089250007,412.7142857142857,448.10714285714283,0.9210169761696023,4.952299717083292,0,0,0.11,0,CnC,2019-11-01,2021-10-31,2021-12-02\\n00180124HR,6,0.28768210225410284,217,1.0,32648.478333333333,34534.82,0.9453785580273282,72.83333333333333,88.84615384615384,0.8197691197691198,7.155396301896734,0,0,0.3,0,CnC,2019-11-01,2021-10-31,2021-12-02\\n00180124HR,1,0.45198510206864073,441,1.0,29013.47857142857,26855.136799999997,1.0803697924722013,59.0,52.88,1.115733736762481,7.155396301896734,0,0,0.3,0,CnC,2019-11-01,2021-10-31,2021-12-02\\n00180124RO,11,0.35667496778059,14,1.0,38324.579999999994,37772.77333333333,1.0146085822663096,130.85714285714286,106.73333333333333,1.2260194521281342,6.572688024149897,0,0,0.13,0,CnC,2019-11-01,2021-10-31,2021-12-02\\n00180124RO,7,0.0,268,1.0,17817.997142857144,18678.858214285712,0.9539125431783525,80.71428571428571,86.71428571428571,0.9308072487644151,6.572688024149897,0,0,0.13,0,CnC,2019-11-01,2021-10-31,2021-12-02\\n00180124CZ,2,0.0,463,1.0,524.7142857142857,415.10714285714283,1.264045427170266,5.285714285714286,8.214285714285714,0.6434782608695653,8.589123060803518,0,0,0.18,0,CnC,2019-11-01,2021-10-31,2021-12-02\\n00180124CZ,12,0.35667496778059,40,1.0,34162.90714285714,33784.875714285714,1.0111893686325322,335.42857142857144,364.7142857142857,0.9197023110066589,8.589123060803518,0,0,0.18,0,CnC,2019-11-01,2021-10-31,2021-12-02\\n00180124CZ,5,0.0,187,1.0,116.66666666666667,198.65384615384616,0.5872862213617296,2.6666666666666665,5.730769230769231,0.465324384787472,8.589123060803518,0,0,0.18,0,CnC,2019-11-01,2021-10-31,2021-12-02\\n00180124CZ,8,0.2513144150354294,299,1.0,21975.874285714286,21076.489285714288,1.0426724293504424,150.0,156.89285714285714,0.9560664693831095,8.589123060803518,0,0,0.18,0,CnC,2019-11-01,2021-10-31,2021-12-02\\n00180124ES,7,0.35667496778059,252,1.0,21115.63285714286,23052.350800000004,0.9159860979186061,956.1428571428571,1037.0714285714287,0.92196432261175,4.828073718265662,0,0,0.11,0,CnC,2019-11-01,2021-10-31,2021-12-02\\n00180124ES,9,0.4054651081081644,308,1.0,25328.819999999996,24770.255260869566,1.0225498176441006,927.2857142857143,857.7142857142857,1.0811125916055964,4.828073718265662,0,0,0.11,0,CnC,2019-11-01,2021-10-31,2021-12-02\\n00180124ES,5,0.1541506457674607,204,1.0,2259.6,599.8692307692307,3.7668209738019827,48.142857142857146,24.11111111111111,1.9967083607636604,4.828073718265662,0,0,0.11,0,CnC,2019-11-01,2021-10-31,2021-12-02\\n00180124ES,2,0.6931471805599453,477,1.0,40187.24714285715,38326.565714285716,1.0485480865267793,361.0,306.7142857142857,1.176991150442478,4.827513429348337,0,0,0.11,0,CnC,2019-11-01,2021-10-31,2021-12-02\\n00180124ES,3,0.28768210225410284,511,1.0,34633.38166666667,30394.541739130433,1.1394605638050823,355.2857142857143,349.67857142857144,1.0160351343070166,4.828073718265662,0,0,0.11,0,CnC,2019-11-01,2021-10-31,2021-12-02\\n00180124ES,12,0.47000364414689666,428,1.0,37916.9475,29166.104347826084,1.300034692594322,599.8333333333334,549.5,1.091598422808614,4.828073718265662,0,0,0.11,0,CnC,2019-11-01,2021-10-31,2021-12-02\\n00180124ES,6,0.4054651081081644,585,1.0,30619.256666666668,31349.25782608696,0.97671392530343,489.85714285714283,471.25,1.0394846532777566,4.828073718265662,0,0,0.11,0,CnC,2019-11-01,2021-10-31,2021-12-02\\n00180124ES,11,0.6190392450860042,22,1.0,36505.68142857143,38477.49909090909,0.9487540066551899,839.8571428571429,859.9090909090909,0.976681316357815,4.828073718265662,0,0,0.11,0,CnC,2019-11-01,2021-10-31,2021-12-02\\n00180124ES,7,0.5596157879354227,610,1.0,30856.964285714286,32082.687500000004,0.9617948710099266,485.42857142857144,466.89285714285717,1.039700145337719,4.860587345130021,0,0,0.11,0,CnC,2019-11-01,2021-10-31,2021-12-02\\n00180124ES,6,1.1526795350350776,595,1.0,39072.306666666664,41742.89125000001,0.9360230088678071,416.14285714285717,467.4642857142857,0.8902131560852625,4.828073718265662,0,0,0.11,0,CnC,2019-11-01,2021-10-31,2021-12-02\\n00180124ES,10,0.6931471805599453,350,1.0,47880.14666666666,50639.46000000001,0.9455106090520446,616.1428571428571,712.7857142857143,0.8644152720713497,4.828073718265662,0,0,0.11,0,CnC,2019-11-01,2021-10-31,2021-12-02\\n00180124ES,11,0.0,386,1.0,15138.979999999998,14411.740000000002,1.0504616375260722,373.14285714285717,444.14285714285717,0.8401415246059827,4.828073718265662,0,0,0.11,0,CnC,2019-11-01,2021-10-31,2021-12-02\\n00180124ES,10,0.7621400202577524,365,1.0,30167.28714285714,29414.203571428578,1.0256027184145848,616.2857142857143,614.1071428571429,1.003547542890375,4.824190992645084,0,0,0.11,0,CnC,2019-11-01,2021-10-31,2021-12-02\\n00180124CZ,1,0.0,68,1.0,20127.440000000002,29344.340833333332,0.6859053373976794,235.71428571428572,304.9166666666667,0.7730449381173623,8.589123060803518,0,0,0.18,0,CnC,2019-11-01,2021-10-31,2021-12-02\\n00180124CZ,4,0.0,519,1.0,1185.2857142857142,1419.3214285714287,0.8351073198963286,4.857142857142857,9.25,0.525096525096525,8.589123060803518,0,0,0.18,0,CnC,2019-11-01,2021-10-31,2021-12-02\\n00180124ES,10,0.35667496778059,351,1.0,20369.858571428573,36613.29214285714,0.5563514608833806,616.1428571428571,712.7857142857143,0.8644152720713497,4.824305715904762,0,0,0.11,0,CnC,2019-11-01,2021-10-31,2021-12-02\\n00180124ES,7,0.7731898148739162,245,1.0,41311.14000000001,40400.15625,1.0225490155127805,1047.857142857143,1043.7857142857142,1.0039006364196263,4.828073718265662,0,0,0.11,0,CnC,2019-11-01,2021-10-31,2021-12-02\\n00180124ES,5,0.6931471805599453,211,1.0,25096.201,8212.0103,3.056036230251684,288.7142857142857,95.0,3.039097744360902,4.828073718265662,0,0,0.11,0,CnC,2019-11-01,2021-10-31,2021-12-02\\n00180124ES,11,0.0,379,1.0,15129.269999999999,15554.5828,0.9726567529667204,396.85714285714283,486.39285714285717,0.8159189367794991,4.828073718265662,0,0,0.11,0,CnC,2019-11-01,2021-10-31,2021-12-02\\n00180124ES,11,0.35667496778059,386,1.0,29492.17714285714,31783.654285714285,0.9279039117950925,373.14285714285717,444.14285714285717,0.8401415246059827,4.828073718265662,0,0,0.11,0,CnC,2019-11-01,2021-10-31,2021-12-02\\n00180124ES,5,0.18232159653038368,561,1.0,30066.078571428574,29273.787037037036,1.027064880037186,491.57142857142856,420.32142857142856,1.1695131277083863,4.828073718265662,0,0,0.11,0,CnC,2019-11-01,2021-10-31,2021-12-02\\n00180124HR,6,0.6931471805599453,588,1.0,29472.048571428575,32434.23107142857,0.9086711045044816,78.0,68.71428571428571,1.1351351351351353,7.155396301896734,0,0,0.3,0,CnC,2019-11-01,2021-10-31,2021-12-02\\n00180124CZ,12,0.0,418,1.0,50514.51571428571,47632.49499999999,1.0605053485920846,340.42857142857144,211.67857142857142,1.6082335076767338,8.589123060803518,0,0,0.18,0,CnC,2019-11-01,2021-10-31,2021-12-02\\n00180124ES,12,0.28768210225410284,400,1.0,8590.047142857142,7987.24,1.0754712695320463,500.42857142857144,418.14285714285717,1.1967885206696276,4.828073718265662,0,0,0.11,0,CnC,2019-11-01,2021-10-31,2021-12-02\\n00180124ES,3,0.4054651081081644,498,1.0,24406.036666666667,21050.268750000003,1.1594168680942216,331.7142857142857,374.35714285714283,0.8860904407555811,4.828073718265662,0,0,0.11,0,CnC,2019-11-01,2021-10-31,2021-12-02\\n00180124ES,7,0.6931471805599453,267,1.0,38602.57714285714,40362.37607142858,0.9564000165536053,768.4285714285714,924.2857142857143,0.8313755795981452,4.827536274511882,0,0,0.11,0,CnC,2019-11-01,2021-10-31,2021-12-02\\n00180124ES,8,1.0414539309266488,658,1.0,52606.043333333335,50788.91291666666,1.035778092349568,412.7142857142857,448.10714285714283,0.9210169761696023,4.952299717083292,0,0,0.11,0,CnC,2019-11-01,2021-10-31,2021-12-02\\n00180124ES,5,0.0,189,1.0,125.25,154.7058823529412,0.8096007604562737,19.166666666666668,7.5,2.555555555555556,4.828073718265662,0,0,0.11,0,CnC,2019-11-01,2021-10-31,2021-12-02\\n00180124ES,1,0.1541506457674607,435,1.0,18110.605,17739.769600000003,1.02090418355828,544.8333333333334,557.8,0.9767539141866859,4.828073718265662,0,0,0.11,0,CnC,2019-11-01,2021-10-31,2021-12-02\\n00180124HR,5,0.4054651081081644,189,1.0,29533.584999999995,11711.486666666666,2.5217622527854417,86.0,37.333333333333336,2.3035714285714284,7.155396301896734,0,0,0.3,0,CnC,2019-11-01,2021-10-31,2021-12-02\\n00180124CZ,4,0.0,176,1.0,452.42857142857144,413.3703703703704,1.0944871811281631,2.7142857142857144,5.407407407407407,0.5019569471624267,8.589123060803518,0,0,0.18,0,CnC,2019-11-01,2021-10-31,2021-12-02\\n00180124CZ,8,0.0,645,1.0,41427.538571428566,36912.442857142865,1.1223190708824082,171.85714285714286,148.85714285714286,1.154510556621881,8.663217245290781,0,0,0.18,0,CnC,2019-11-01,2021-10-31,2021-12-02\\n00180124CZ,8,0.0,656,1.0,22428.380000000005,21933.525,1.022561580958829,151.14285714285714,155.96428571428572,0.9690863292878406,8.663217245290781,0,0,0.18,0,CnC,2019-11-01,2021-10-31,2021-12-02\\n00180124CZ,11,0.0,29,1.0,82381.07857142857,79433.39142857141,1.0371089171675087,401.14285714285717,337.10714285714283,1.189956563195254,8.589123060803518,0,0,0.18,0,CnC,2019-11-01,2021-10-31,2021-12-02\\n00180124CZ,10,0.0,358,1.0,44579.461428571434,54097.762962962974,0.8240536944030742,181.28571428571428,197.03703703703704,0.9200590762620837,8.589123060803518,0,0,0.18,0,CnC,2019-11-01,2021-10-31,2021-12-02\\n00180124ES,2,0.7731898148739162,463,1.0,38875.095714285715,30478.17769230769,1.275505908087717,295.57142857142856,300.5357142857143,0.9834818775995247,4.828073718265662,0,0,0.11,0,CnC,2019-11-01,2021-10-31,2021-12-02\\n00180124ES,10,0.5596157879354227,715,1.0,21844.645,20864.317619047615,1.0469858348042698,494.57142857142856,473.35714285714283,1.0448166591217747,4.952299717083292,0,0,0.11,0,CnC,2019-11-01,2021-10-31,2021-12-02\\n00180124ES,12,0.6061357602214821,36,1.0,30162.748333333333,31882.233749999985,0.9460675989596666,1026.857142857143,954.9285714285714,1.0753235096117886,4.828073718265662,0,0,0.11,0,CnC,2019-11-01,2021-10-31,2021-12-02\\n00180124ES,12,0.7621400202577524,400,1.0,22744.42714285714,23167.161999999993,0.9817528423575209,500.42857142857144,418.14285714285717,1.1967885206696276,4.828073718265662,0,0,0.11,0,CnC,2019-11-01,2021-10-31,2021-12-02\\n00180124ES,4,0.6931471805599453,539,1.0,41810.04166666667,47118.56249999999,0.8873369527490717,341.85714285714283,350.57142857142856,0.9751426242868786,4.828073718265662,0,0,0.11,0,CnC,2019-11-01,2021-10-31,2021-12-02\\n00180124ES,11,1.0414539309266488,28,1.0,52240.33166666667,51785.68708333333,1.0087793482898417,1072.857142857143,916.7142857142857,1.17032881408758,4.828073718265662,0,0,0.11,0,CnC,2019-11-01,2021-10-31,2021-12-02\\n00180124ES,9,0.8472979285067953,308,1.0,56514.22666666666,51656.65791666667,1.0940356760562462,927.2857142857143,857.7142857142857,1.0811125916055964,4.828073718265662,0,0,0.11,0,CnC,2019-11-01,2021-10-31,2021-12-02\\n00180124ES,11,0.1541506457674607,392,1.0,33530.07833333333,13432.029583333331,2.496277880070929,402.14285714285717,390.60714285714283,1.0295327786413095,4.828073718265662,0,0,0.11,0,CnC,2019-11-01,2021-10-31,2021-12-02\\n00180124ES,12,0.28768210225410284,428,1.0,20059.32333333333,19074.594999999998,1.0516251240633592,599.8333333333334,549.5,1.091598422808614,4.826926117287959,0,0,0.11,0,CnC,2019-11-01,2021-10-31,2021-12-02\\n00180124ES,6,0.35667496778059,582,1.0,31657.63714285714,28806.096428571433,1.09899087581535,472.42857142857144,469.57142857142856,1.0060845756008518,4.825624394278512,0,0,0.11,0,CnC,2019-11-01,2021-10-31,2021-12-02\\n00180124HR,9,0.45198510206864073,315,1.0,29381.968571428566,30473.783076923082,0.9641720063853406,39.714285714285715,45.34615384615385,0.8758027383981583,7.155396301896734,0,0,0.3,0,CnC,2019-11-01,2021-10-31,2021-12-02\\n00180124RO,9,0.0,693,1.0,31543.09571428571,33188.364642857145,0.9504263332563592,65.71428571428571,61.92857142857143,1.0611303344867358,6.512146466906872,0,0,0.13,0,CnC,2019-11-01,2021-10-31,2021-12-02\\n00180124RO,12,0.2513144150354294,397,1.0,27704.38142857143,25958.06392857143,1.0672745665780516,127.57142857142857,123.78571428571429,1.0305828043854586,6.572688024149897,0,0,0.13,0,CnC,2019-11-01,2021-10-31,2021-12-02\\n00180124CZ,6,0.0,603,1.0,30238.562857142864,33206.04107142857,0.9106343870411276,137.57142857142858,152.21428571428572,0.9038010323791648,8.589123060803518,0,0,0.18,0,CnC,2019-11-01,2021-10-31,2021-12-02\\n00180124CZ,7,0.1335314373280052,617,1.0,53386.27857142857,49884.036785714285,1.0702076658462663,141.85714285714286,140.21428571428572,1.011716760061131,8.663217245290781,0,0,0.18,0,CnC,2019-11-01,2021-10-31,2021-12-02\\n00180124ES,8,0.45198510206864073,659,1.0,35381.93285714286,35831.38428571429,0.9874564871681327,412.7142857142857,448.10714285714283,0.9210169761696023,4.952299717083292,0,0,0.11,0,CnC,2019-11-01,2021-10-31,2021-12-02\\n00180124ES,6,1.2809338189711108,230,1.0,52437.193333333336,24188.5825,2.167848956561772,983.5714285714286,678.074074074074,1.4505368457192798,4.828073718265662,0,0,0.11,0,CnC,2019-11-01,2021-10-31,2021-12-02\\n00180124ES,8,1.3437347259690442,301,1.0,38420.833333333336,38992.83913043478,0.9853304911912664,866.7142857142857,823.1785714285714,1.052887326999002,4.828073718265662,0,0,0.11,0,CnC,2019-11-01,2021-10-31,2021-12-02\\n00180124ES,7,0.5389965106667944,617,1.0,22651.862857142853,22891.452800000003,0.9895336506184024,538.0,476.60714285714283,1.128812289246909,4.952299717083292,0,0,0.11,0,CnC,2019-11-01,2021-10-31,2021-12-02\\n00180124ES,5,0.9808291934070796,208,1.0,15233.463333333333,4811.289,3.1661917073227848,155.14285714285714,54.925925925925924,2.8245833734707637,4.828073718265662,0,0,0.11,0,CnC,2019-11-01,2021-10-31,2021-12-02\\n00180124ES,6,0.8472979285067953,232,1.0,38244.185,39220.798749999994,0.9750995955940343,1009.4285714285714,720.7777777777778,1.4004712722147592,4.827006242278097,0,0,0.11,0,CnC,2019-11-01,2021-10-31,2021-12-02\\n00180124ES,5,0.6931471805599453,568,1.0,36861.865,28512.495000000003,1.2928319671778985,432.14285714285717,442.89285714285717,0.9757277638900089,4.828073718265662,0,0,0.11,0,CnC,2019-11-01,2021-10-31,2021-12-02\\n00180124ES,2,0.5389965106667944,113,1.0,25704.05714285714,28085.357142857152,0.9152120449141007,776.2857142857143,809.4285714285714,0.9590540063536888,4.828073718265662,0,0,0.11,0,CnC,2019-11-01,2021-10-31,2021-12-02\\n00180124RO,10,0.1335314373280052,357,1.0,37923.491428571426,39168.628571428584,0.968210856793556,72.14285714285714,84.96428571428571,0.8490962589323245,6.572688024149897,0,0,0.13,0,CnC,2019-11-01,2021-10-31,2021-12-02\\n00180124RO,10,0.35667496778059,348,1.0,25587.794285714284,24042.066428571434,1.0642926373128192,68.57142857142857,88.78571428571429,0.7723250201126307,6.572688024149897,0,0,0.13,0,CnC,2019-11-01,2021-10-31,2021-12-02\\n00180124RO,3,0.0,488,1.0,19994.895714285718,22212.463571428572,0.9001656052237598,65.57142857142857,69.35714285714286,0.9454170957775488,6.572688024149897,0,0,0.13,0,CnC,2019-11-01,2021-10-31,2021-12-02\\n00180124CZ,8,0.35667496778059,281,1.0,55117.96142857143,56832.65857142856,0.969829017576187,150.85714285714286,160.39285714285714,0.9405477621910489,8.589123060803518,0,0,0.18,0,CnC,2019-11-01,2021-10-31,2021-12-02\\n00180124CZ,5,0.2513144150354294,568,1.0,72566.01,33439.19666666666,2.1700883165155784,257.2857142857143,112.81481481481481,2.280602194916049,8.589123060803518,0,0,0.18,0,CnC,2019-11-01,2021-10-31,2021-12-02\\n00180124ES,1,0.887303209025525,78,1.0,35197.944285714286,37195.2108,0.9463031268991836,802.0,810.72,0.989244128675745,4.826655197157309,0,0,0.11,0,CnC,2019-11-01,2021-10-31,2021-12-02\\n00180124ES,8,1.1526795350350776,280,1.0,56103.67166666666,52014.590416666666,1.0786141199468093,789.1428571428571,812.9285714285714,0.9707407081978736,4.828073718265662,0,0,0.11,0,CnC,2019-11-01,2021-10-31,2021-12-02\\n00180124ES,10,0.6931471805599453,357,1.0,43641.431666666664,50487.28086956523,0.8644044780192276,542.1428571428571,657.2142857142857,0.8249103358330616,4.828073718265662,0,0,0.11,0,CnC,2019-11-01,2021-10-31,2021-12-02\\n00180124ES,3,0.5108256714497054,134,1.0,27497.268333333337,31789.566666666677,0.8649777652416357,746.4285714285714,798.9285714285714,0.9342869915064819,4.828073718265662,0,0,0.11,0,CnC,2019-11-01,2021-10-31,2021-12-02\\n00180124HR,12,0.28768210225410284,427,1.0,12591.517999999998,30062.077999999998,0.41885055317865916,16.2,94.48,0.1714648602878916,7.155396301896734,0,0,0.3,0,CnC,2019-11-01,2021-10-31,2021-12-02\\n00180124HR,9,0.6931471805599453,686,1.0,27566.37714285714,30484.069999999996,0.9042879491766403,51.57142857142857,62.17857142857143,0.8294083859850659,7.0909098220799835,0,0,0.3,0,CnC,2019-11-01,2021-10-31,2021-12-02\\n00180124RO,4,0.1335314373280052,532,1.0,30612.451428571425,28923.151071428572,1.0584065115509358,56.0,50.035714285714285,1.1192005710206996,6.572688024149897,0,0,0.13,0,CnC,2019-11-01,2021-10-31,2021-12-02\\n00180124CZ,4,0.0,155,1.0,506.7142857142857,7884.722857142857,0.06426532611165245,4.428571428571429,53.32142857142857,0.08305425318151374,8.589123060803518,0,0,0.18,0,CnC,2019-11-01,2021-10-31,2021-12-02\\n00180124CZ,11,0.6190392450860042,15,1.0,80745.51857142858,75027.31199999999,1.076214999831376,317.57142857142856,280.6666666666667,1.1314896504920255,8.589123060803518,0,0,0.18,0,CnC,2019-11-01,2021-10-31,2021-12-02\\n00180124ES,3,0.28768210225410284,126,1.0,15407.495,15328.954999999996,1.0051236369341554,915.5714285714286,823.2857142857143,1.1120943952802358,4.828073718265662,0,0,0.11,0,CnC,2019-11-01,2021-10-31,2021-12-02\\n00180124ES,4,0.2513144150354294,526,1.0,37458.37142857142,40513.46642857143,0.9245906295037382,350.7142857142857,350.0357142857143,1.0019385776961536,4.823031254839518,0,0,0.11,0,CnC,2019-11-01,2021-10-31,2021-12-02\\n00180124ES,2,0.0,469,1.0,86.66666666666667,43.833333333333336,1.9771863117870723,252.42857142857142,297.10714285714283,0.8496213487197981,4.828073718265662,0,0,0.11,0,CnC,2019-11-01,2021-10-31,2021-12-02\\n00180124ES,4,0.18232159653038368,525,1.0,11948.670000000002,10314.184090909092,1.1584697242830428,350.7142857142857,350.0357142857143,1.0019385776961536,4.828073718265662,0,0,0.11,0,CnC,2019-11-01,2021-10-31,2021-12-02\\n00180124ES,10,0.1541506457674607,364,1.0,23204.711666666666,34707.43217826087,0.6685804800391146,616.2857142857143,614.1071428571429,1.003547542890375,4.828073718265662,0,0,0.11,0,CnC,2019-11-01,2021-10-31,2021-12-02\\n00180124ES,11,0.28768210225410284,15,1.0,18849.05666666667,20041.230769230766,0.9405139276977721,880.1428571428571,869.2666666666667,1.0125119148050354,4.828073718265662,0,0,0.11,0,CnC,2019-11-01,2021-10-31,2021-12-02\\n00180124ES,9,0.9808291934070796,334,1.0,28399.036,26428.25533333333,1.0745709711749671,759.5714285714286,799.1428571428571,0.9504826599928495,4.828073718265662,0,0,0.11,0,CnC,2019-11-01,2021-10-31,2021-12-02\\n00180124ES,5,0.5108256714497054,575,1.0,22857.365,21981.11130434782,1.039863939703488,482.14285714285717,451.60714285714283,1.0676156583629894,4.828073718265662,0,0,0.11,0,CnC,2019-11-01,2021-10-31,2021-12-02\\n00180124ES,10,0.5389965106667944,351,1.0,25975.570000000003,34505.75357142858,0.7527895296136431,616.1428571428571,712.7857142857143,0.8644152720713497,4.828073718265662,0,0,0.11,0,CnC,2019-11-01,2021-10-31,2021-12-02\\n00180124ES,5,0.18232159653038368,189,1.0,270.0,321.11764705882354,0.8408133357757831,19.166666666666668,7.5,2.555555555555556,4.828073718265662,0,0,0.11,0,CnC,2019-11-01,2021-10-31,2021-12-02\\n00180124ES,3,0.7731898148739162,512,1.0,29966.198333333334,34722.71434782608,0.8630142803109936,355.2857142857143,349.67857142857144,1.0160351343070166,4.816119696144313,0,0,0.11,0,CnC,2019-11-01,2021-10-31,2021-12-02\\n00180124ES,7,0.4054651081081644,631,1.0,31761.465,32915.9984,0.9649248555073451,427.85714285714283,479.85714285714283,0.8916344150044656,4.952299717083292,0,0,0.11,0,CnC,2019-11-01,2021-10-31,2021-12-02\\n00180124ES,7,0.887303209025525,638,1.0,42421.75714285715,44622.429615384615,0.9506823700211802,427.57142857142856,465.39285714285717,0.918732253856189,4.916188561807692,0,0,0.11,0,CnC,2019-11-01,2021-10-31,2021-12-02\\n00180124ES,11,0.1541506457674607,371,1.0,5266.44,34680.932499999995,0.15185404833044788,390.2857142857143,541.2142857142857,0.7211297347235054,4.828073718265662,0,0,0.11,0,CnC,2019-11-01,2021-10-31,2021-12-02\\n00180124ES,2,0.1541506457674607,469,1.0,2.6666666666666665,20.916666666666668,0.12749003984063745,252.42857142857142,297.10714285714283,0.8496213487197981,4.828073718265662,0,0,0.11,0,CnC,2019-11-01,2021-10-31,2021-12-02\\n00180124RO,6,0.0,586,1.0,18424.967142857142,19614.95785714286,0.9393324868219189,52.57142857142857,52.75,0.996614759647935,6.572688024149897,0,0,0.13,0,CnC,2019-11-01,2021-10-31,2021-12-02\\n00180124CZ,6,0.0,600,1.0,18433.527142857143,20474.109285714283,0.9003335327373218,137.57142857142858,152.21428571428572,0.9038010323791648,8.589123060803518,0,0,0.18,0,CnC,2019-11-01,2021-10-31,2021-12-02\\n00180124ES,6,0.2513144150354294,596,1.0,31173.620000000003,34757.459285714285,0.8968900673592307,416.14285714285717,467.4642857142857,0.8902131560852625,4.828073718265662,0,0,0.11,0,CnC,2019-11-01,2021-10-31,2021-12-02\\n00180124ES,4,0.35667496778059,526,1.0,31733.147142857146,35990.60142857143,0.8817064978987968,350.7142857142857,350.0357142857143,1.0019385776961536,4.828073718265662,0,0,0.11,0,CnC,2019-11-01,2021-10-31,2021-12-02\\n00180124ES,2,0.5108256714497054,462,1.0,29802.818333333333,18722.67166666666,1.5918037160472918,295.57142857142856,300.5357142857143,0.9834818775995247,4.828073718265662,0,0,0.11,0,CnC,2019-11-01,2021-10-31,2021-12-02\\n00180124ES,8,1.0414539309266488,294,1.0,48809.284999999996,48423.33708333334,1.0079702874670216,784.4285714285714,798.8571428571429,0.9819384835479256,4.828073718265662,0,0,0.11,0,CnC,2019-11-01,2021-10-31,2021-12-02\\n00180124ES,3,0.0,489,1.0,42.333333333333336,20.291666666666668,2.086242299794661,383.0,350.92857142857144,1.0913901892937106,4.828073718265662,0,0,0.11,0,CnC,2019-11-01,2021-10-31,2021-12-02\\n00180124ES,8,0.6931471805599453,288,1.0,28228.471666666665,25008.658750000002,1.128747924822904,852.4285714285714,794.8571428571429,1.072429906542056,4.827780269838521,0,0,0.11,0,CnC,2019-11-01,2021-10-31,2021-12-02\\n00180124ES,8,0.28768210225410284,295,1.0,25839.575,25476.841249999998,1.0142377835007315,784.4285714285714,798.8571428571429,0.9819384835479256,4.828073718265662,0,0,0.11,0,CnC,2019-11-01,2021-10-31,2021-12-02\\n00180124ES,3,0.28768210225410284,498,1.0,21710.44833333333,14300.589583333332,1.5181505774164612,331.7142857142857,374.35714285714283,0.8860904407555811,4.828073718265662,0,0,0.11,0,CnC,2019-11-01,2021-10-31,2021-12-02\\n00180124ES,3,0.0,512,1.0,18724.679999999997,19083.683478260868,0.9811879358264441,355.2857142857143,349.67857142857144,1.0160351343070166,4.828073718265662,0,0,0.11,0,CnC,2019-11-01,2021-10-31,2021-12-02\\n00180124ES,9,0.28768210225410284,687,1.0,19218.695,20508.833599999998,0.9370935166200773,434.2857142857143,438.32142857142856,0.9907927971970993,4.950790924800303,0,0,0.11,0,CnC,2019-11-01,2021-10-31,2021-12-02\\n00180124ES,2,0.45198510206864073,463,1.0,30675.698571428573,24560.833599999998,1.2489681364653915,295.57142857142856,300.5357142857143,0.9834818775995247,4.828073718265662,0,0,0.11,0,CnC,2019-11-01,2021-10-31,2021-12-02\\n00180124ES,6,0.1541506457674607,595,1.0,19763.633333333335,20016.430833333336,0.9873705006599369,416.14285714285717,467.4642857142857,0.8902131560852625,4.828073718265662,0,0,0.11,0,CnC,2019-11-01,2021-10-31,2021-12-02\\n00180124RO,10,0.2513144150354294,341,1.0,23861.230000000003,23394.29464285714,1.01995936890901,110.57142857142857,86.14285714285714,1.2835820895522387,6.572688024149897,0,0,0.13,0,CnC,2019-11-01,2021-10-31,2021-12-02\\n00180124RO,1,0.1335314373280052,453,1.0,20601.73285714286,22188.184074074074,0.92850017776872,96.42857142857143,78.70370370370371,1.2252100840336133,6.572688024149897,0,0,0.13,0,CnC,2019-11-01,2021-10-31,2021-12-02\\n00180124CZ,4,0.0,533,1.0,1594.0,1526.1851851851852,1.0444341980731429,7.285714285714286,10.88888888888889,0.6690962099125364,8.589123060803518,0,0,0.18,0,CnC,2019-11-01,2021-10-31,2021-12-02\\n00180124ES,12,0.3364722195913143,418,1.0,31592.721428571436,33481.40423076923,0.943590095887851,572.2857142857143,527.5,1.0849018280297902,4.828073718265662,0,0,0.11,0,CnC,2019-11-01,2021-10-31,2021-12-02\\n00180124ES,12,0.3364722195913143,35,1.0,38752.186,34104.75869565217,1.1362691742176234,1026.857142857143,954.9285714285714,1.0753235096117886,4.828073718265662,0,0,0.11,0,CnC,2019-11-01,2021-10-31,2021-12-02\\n00180124ES,9,0.5108256714497054,309,1.0,29385.145,27499.952916666665,1.068552556764226,927.2857142857143,857.7142857142857,1.0811125916055964,4.828073718265662,0,0,0.11,0,CnC,2019-11-01,2021-10-31,2021-12-02\\n00180124ES,12,0.1541506457674607,407,1.0,10198.849999999999,8526.168,1.1961821535770816,515.8571428571429,447.89285714285717,1.1517422853042023,4.828073718265662,0,0,0.11,0,CnC,2019-11-01,2021-10-31,2021-12-02\\n00180124ES,7,0.0,638,1.0,23046.971666666665,23331.800400000004,0.9877922522715675,427.57142857142856,465.39285714285717,0.918732253856189,4.952299717083292,0,0,0.11,0,CnC,2019-11-01,2021-10-31,2021-12-02\\n00180124ES,12,0.5108256714497054,421,1.0,34455.60833333333,25415.380416666667,1.3556990990675215,497.8333333333333,525.5925925925926,0.9471848354590937,4.828073718265662,0,0,0.11,0,CnC,2019-11-01,2021-10-31,2021-12-02\\n00180124ES,10,1.252762968495368,350,1.0,52165.36333333334,52187.3247826087,0.9995791803974079,616.1428571428571,712.7857142857143,0.8644152720713497,4.827313236968718,0,0,0.11,0,CnC,2019-11-01,2021-10-31,2021-12-02\\n00180124ES,5,0.22314355131420976,561,1.0,34634.241428571426,25085.238846153843,1.3806622149775412,491.57142857142856,420.32142857142856,1.1695131277083863,4.828073718265662,0,0,0.11,0,CnC,2019-11-01,2021-10-31,2021-12-02\\n00180124RO,7,0.1541506457674607,266,1.0,31377.13142857143,30252.019285714283,1.0371913072060102,84.71428571428571,90.28571428571429,0.9382911392405062,6.572688024149897,0,0,0.13,0,CnC,2019-11-01,2021-10-31,2021-12-02\\n00180124CZ,6,0.0,225,1.0,47158.4642857143,46076.95464285714,1.0234718125631337,207.42857142857142,227.46428571428572,0.9119170984455958,8.589123060803518,0,0,0.18,0,CnC,2019-11-01,2021-10-31,2021-12-02\\n00180124CZ,4,0.0,540,1.0,768.8571428571429,561.5925925925926,1.369065676788423,3.5714285714285716,8.0,0.44642857142857145,8.589123060803518,0,0,0.18,0,CnC,2019-11-01,2021-10-31,2021-12-02\\n00180124CZ,3,0.0,491,1.0,1347.5714285714287,1495.75,0.900933597574079,5.428571428571429,5.535714285714286,0.9806451612903226,8.589123060803518,0,0,0.18,0,CnC,2019-11-01,2021-10-31,2021-12-02\\n00180124ES,7,0.0,638,1.0,33407.66142857143,33274.08357142857,1.0040144714085397,427.57142857142856,465.39285714285717,0.918732253856189,4.952299717083292,0,0,0.11,0,CnC,2019-11-01,2021-10-31,2021-12-02\\n00180124ES,10,0.2513144150354294,708,1.0,36006.43857142857,35137.141071428574,1.0247401317663507,505.42857142857144,458.2857142857143,1.10286783042394,4.952299717083292,0,0,0.11,0,CnC,2019-11-01,2021-10-31,2021-12-02\\n00180124ES,10,0.47000364414689666,714,1.0,38150.3,30321.519565217382,1.2581922194876811,494.57142857142856,473.35714285714283,1.0448166591217747,4.952299717083292,0,0,0.11,0,CnC,2019-11-01,2021-10-31,2021-12-02\\n00180124ES,10,0.7731898148739162,365,1.0,22566.790000000005,25239.686521739128,0.8940994564478074,616.2857142857143,614.1071428571429,1.003547542890375,4.828073718265662,0,0,0.11,0,CnC,2019-11-01,2021-10-31,2021-12-02\\n00180124ES,1,0.28768210225410284,456,1.0,5250.473333333333,14152.863333333333,0.3709831155485851,317.85714285714283,356.1111111111111,0.8925785602852685,4.828073718265662,0,0,0.11,0,CnC,2019-11-01,2021-10-31,2021-12-02\\n00180124ES,11,0.4054651081081644,386,1.0,7862.7266666666665,15337.661666666665,0.512641811871149,373.14285714285717,444.14285714285717,0.8401415246059827,4.825777197808994,0,0,0.11,0,CnC,2019-11-01,2021-10-31,2021-12-02\\n00180124ES,9,0.1541506457674607,694,1.0,35452.29499999999,39167.6795652174,0.90514157064038,423.14285714285717,438.4642857142857,0.9650566099209905,4.952299717083292,0,0,0.11,0,CnC,2019-11-01,2021-10-31,2021-12-02\\n00180124ES,5,0.6931471805599453,568,1.0,42676.835,44977.09333333333,0.9488571145252606,432.14285714285717,442.89285714285717,0.9757277638900089,4.828073718265662,0,0,0.11,0,CnC,2019-11-01,2021-10-31,2021-12-02\\n00180124ES,3,1.0116009116784799,497,1.0,49782.776666666665,41500.77,1.1995627229727706,331.7142857142857,374.35714285714283,0.8860904407555811,4.828073718265662,0,0,0.11,0,CnC,2019-11-01,2021-10-31,2021-12-02\\n00180124ES,11,0.4054651081081644,29,1.0,18589.758333333335,17483.454583333332,1.0632771827059067,1072.857142857143,916.7142857142857,1.17032881408758,4.814688001970154,0,0,0.11,0,CnC,2019-11-01,2021-10-31,2021-12-02\\n00180124ES,12,0.2513144150354294,400,1.0,17532.051428571427,16205.465999999997,1.0818603691230744,500.42857142857144,418.14285714285717,1.1967885206696276,4.828073718265662,0,0,0.11,0,CnC,2019-11-01,2021-10-31,2021-12-02\\n00180124ES,9,0.9985288803045109,309,1.0,39580.88428571429,34350.62428571428,1.152260988228245,927.2857142857143,857.7142857142857,1.0811125916055964,4.8263919088623215,0,0,0.11,0,CnC,2019-11-01,2021-10-31,2021-12-02\\n00180124ES,6,0.9162907318741551,229,1.0,34534.28666666667,25343.744347826087,1.3626355361191496,977.2857142857143,639.5555555555555,1.5280700883550085,4.809701598603048,0,0,0.11,0,CnC,2019-11-01,2021-10-31,2021-12-02\\n00180124RO,7,0.4054651081081644,618,1.0,16772.135714285716,17256.9475,0.9719062837900919,37.285714285714285,42.57142857142857,0.8758389261744967,6.512146466906872,0,0,0.13,0,CnC,2019-11-01,2021-10-31,2021-12-02\\n00180124CZ,11,0.0,372,1.0,474.57142857142856,19148.86333333333,0.0247832688713862,14.571428571428571,107.0,0.13618157543391188,8.589123060803518,0,0,0.18,0,CnC,2019-11-01,2021-10-31,2021-12-02\\n00180124CZ,4,0.0,166,1.0,138.0,173.92592592592592,0.7934412265758092,10.0,5.888888888888889,1.6981132075471697,8.589123060803518,0,0,0.18,0,CnC,2019-11-01,2021-10-31,2021-12-02\\n00180124ES,7,0.2513144150354294,616,1.0,16699.409999999996,17376.609200000003,0.9610281158881098,538.0,476.60714285714283,1.128812289246909,4.837471687182817,0,0,0.11,0,CnC,2019-11-01,2021-10-31,2021-12-02\\n00180124ES,5,0.2513144150354294,575,1.0,33811.18142857143,36064.153333333335,0.9375287731299785,482.14285714285717,451.60714285714283,1.0676156583629894,4.828073718265662,0,0,0.11,0,CnC,2019-11-01,2021-10-31,2021-12-02\\n00180124ES,2,0.6061357602214821,119,1.0,31271.780000000002,31815.1975,0.9829195622626578,757.4285714285714,795.6785714285714,0.9519278244086359,4.827620137442522,0,0,0.11,0,CnC,2019-11-01,2021-10-31,2021-12-02\\n00180124ES,11,0.28768210225410284,21,1.0,32345.30833333333,33645.025,0.9613697220713413,839.8571428571429,859.9090909090909,0.976681316357815,4.827620137442522,0,0,0.11,0,CnC,2019-11-01,2021-10-31,2021-12-02\\n00180124ES,3,0.5108256714497054,497,1.0,31695.29833333333,20970.939583333336,1.5113914284757741,331.7142857142857,374.35714285714283,0.8860904407555811,4.8248945685230025,0,0,0.11,0,CnC,2019-11-01,2021-10-31,2021-12-02\\n00180124ES,8,0.6061357602214821,302,1.0,26568.64833333333,27033.85375,0.9827917461946517,866.7142857142857,823.1785714285714,1.052887326999002,4.828073718265662,0,0,0.11,0,CnC,2019-11-01,2021-10-31,2021-12-02\\n00180124ES,9,1.2809338189711108,316,1.0,43325.03999999999,38383.14413043478,1.1287517211401834,762.4285714285714,835.2142857142857,0.9128538441802788,4.828073718265662,0,0,0.11,0,CnC,2019-11-01,2021-10-31,2021-12-02\\n00180124ES,4,0.18232159653038368,526,1.0,9723.178,8991.385,1.0813882399652557,350.7142857142857,350.0357142857143,1.0019385776961536,4.828073718265662,0,0,0.11,0,CnC,2019-11-01,2021-10-31,2021-12-02\\n00180124ES,11,0.28768210225410284,385,1.0,9587.484999999999,15338.77125,0.6250490892482669,373.14285714285717,444.14285714285717,0.8401415246059827,4.828073718265662,0,0,0.11,0,CnC,2019-11-01,2021-10-31,2021-12-02\\n00180124ES,9,1.299283005804677,323,1.0,39568.823333333334,42933.61782608696,0.9216279767900404,826.2857142857143,845.6785714285714,0.9770682883567718,4.827820268398578,0,0,0.11,0,CnC,2019-11-01,2021-10-31,2021-12-02\\n00180124ES,11,0.6190392450860042,8,1.0,32130.32857142857,35022.94,0.917408092279762,874.0,859.75,1.0165745856353592,4.828073718265662,0,0,0.11,0,CnC,2019-11-01,2021-10-31,2021-12-02\\n00180124ES,12,0.2513144150354294,407,1.0,40061.19857142858,33560.237857142856,1.1937102097416177,515.8571428571429,447.89285714285717,1.1517422853042023,4.828073718265662,0,0,0.11,0,CnC,2019-11-01,2021-10-31,2021-12-02\\n00180124CZ,4,0.0,155,1.0,219.42857142857142,9022.986428571428,0.02431884090324545,4.428571428571429,53.32142857142857,0.08305425318151374,8.589123060803518,0,0,0.18,0,CnC,2019-11-01,2021-10-31,2021-12-02\\n00180124ES,8,0.4054651081081644,294,1.0,25378.0422,22528.99830434782,1.1264611882500941,784.4285714285714,798.8571428571429,0.9819384835479256,4.828073718265662,0,0,0.11,0,CnC,2019-11-01,2021-10-31,2021-12-02\\n00180124ES,3,0.5108256714497054,133,1.0,33846.45285714286,37262.94714285714,0.908313900330635,771.0,802.4642857142857,0.9607904223596956,4.827580130876553,0,0,0.11,0,CnC,2019-11-01,2021-10-31,2021-12-02\\n00180124ES,11,0.4054651081081644,392,1.0,21902.464999999997,20066.347916666666,1.091502304801976,402.14285714285717,390.60714285714283,1.0295327786413095,4.828073718265662,0,0,0.11,0,CnC,2019-11-01,2021-10-31,2021-12-02\\n00180124ES,11,0.9162907318741551,15,1.0,43617.61833333334,46784.023846153854,0.9323186581121575,880.1428571428571,869.2666666666667,1.0125119148050354,4.828073718265662,0,0,0.11,0,CnC,2019-11-01,2021-10-31,2021-12-02\\n00180124ES,2,1.0986122886681096,113,1.0,40005.33666666666,40260.93666666667,0.9936514144686647,776.2857142857143,809.4285714285714,0.9590540063536888,4.828073718265662,0,0,0.11,0,CnC,2019-11-01,2021-10-31,2021-12-02\\n00180124ES,1,0.7621400202577524,441,1.0,7813.925714285714,33617.84916666667,0.23243383821334734,266.14285714285717,468.72,0.5678077682685978,4.8209610276328325,0,0,0.11,0,CnC,2019-11-01,2021-10-31,2021-12-02\\n00180124ES,2,0.7621400202577524,106,1.0,27979.925714285717,28399.057142857153,0.9852413611317073,843.8571428571429,796.3928571428571,1.0595990851607697,4.827181688084905,0,0,0.11,0,CnC,2019-11-01,2021-10-31,2021-12-02\\n00180124HR,11,0.6931471805599453,7,1.0,38184.65285714286,38184.65285714286,1.0,79.0,79.0,1.0,7.155396301896734,0,0,0.3,0,CnC,2019-11-01,2021-10-31,2021-12-02\\n00180124CZ,5,0.4054651081081644,211,1.0,48282.98285714286,32831.293333333335,1.4706390749499214,253.14285714285714,165.4814814814815,1.5297352602634606,8.589123060803518,0,0,0.18,0,CnC,2019-11-01,2021-10-31,2021-12-02\\n00180124CZ,11,0.45198510206864073,8,1.0,43187.75142857143,42611.276249999995,1.013528700130671,245.42857142857142,248.375,0.9881371773671723,8.589123060803518,0,0,0.18,0,CnC,2019-11-01,2021-10-31,2021-12-02\\n00180124ES,2,0.0,112,1.0,13737.016666666665,15709.50041666667,0.8744400714419066,776.2857142857143,809.4285714285714,0.9590540063536888,4.828073718265662,0,0,0.11,0,CnC,2019-11-01,2021-10-31,2021-12-02\\n00180124ES,2,0.9985288803045109,92,1.0,39693.659999999996,38395.2488888889,1.033816973419512,812.4285714285714,755.4074074074074,1.0754839884571206,4.779411573452936,0,0,0.11,0,CnC,2019-11-01,2021-10-31,2021-12-02\\n00180124ES,2,0.6931471805599453,91,1.0,31083.335000000003,29430.506800000003,1.0561603716589754,812.4285714285714,755.4074074074074,1.0754839884571206,4.827072977643917,0,0,0.11,0,CnC,2019-11-01,2021-10-31,2021-12-02\\n00180124ES,10,0.47000364414689666,706,1.0,38958.03,39866.7125,0.9772069869066831,513.5714285714286,460.39285714285717,1.1155069428283297,4.952299717083292,0,0,0.11,0,CnC,2019-11-01,2021-10-31,2021-12-02\\n00180124ES,3,0.3364722195913143,133,1.0,16069.431666666665,16434.375000000004,0.9777939025163209,771.0,802.4642857142857,0.9607904223596956,4.828073718265662,0,0,0.11,0,CnC,2019-11-01,2021-10-31,2021-12-02\\n00180124ES,1,0.28768210225410284,435,1.0,26732.030000000002,24655.414400000005,1.0842255403340533,544.8333333333334,557.8,0.9767539141866859,4.828073718265662,0,0,0.11,0,CnC,2019-11-01,2021-10-31,2021-12-02\\n00180124ES,4,0.0,175,1.0,4.0,3.0,1.3333333333333333,2.2,2.8461538461538463,0.772972972972973,4.828073718265662,0,0,0.11,0,CnC,2019-11-01,2021-10-31,2021-12-02\\n00180124ES,4,0.28768210225410284,532,1.0,22241.943333333333,27527.26913043478,0.8079967260080344,363.7142857142857,353.92857142857144,1.027648839556004,4.828073718265662,0,0,0.11,0,CnC,2019-11-01,2021-10-31,2021-12-02\\n00180124CZ,12,0.1541506457674607,61,1.0,24875.86333333333,33438.01875,0.7439395114680151,312.8333333333333,334.0,0.936626746506986,8.589123060803518,0,0,0.18,0,CnC,2019-11-01,2021-10-31,2021-12-02\\n00180124CZ,8,0.1335314373280052,285,1.0,17759.705714285716,19113.69785714286,0.9291611621687766,172.28571428571428,155.85714285714286,1.1054078826764435,8.589123060803518,0,0,0.18,0,CnC,2019-11-01,2021-10-31,2021-12-02\\n00180124ES,6,0.0,588,1.0,31606.808333333334,34822.83,0.9076461715872413,499.14285714285717,471.4642857142857,1.0587076736610863,4.828073718265662,0,0,0.11,0,CnC,2019-11-01,2021-10-31,2021-12-02\\n00180124ES,10,0.28768210225410284,358,1.0,23100.416666666668,26242.570869565214,0.8802650007685545,542.1428571428571,657.2142857142857,0.8249103358330616,4.828073718265662,0,0,0.11,0,CnC,2019-11-01,2021-10-31,2021-12-02\\n00180124ES,8,0.1541506457674607,659,1.0,22282.845,23561.30333333333,0.945739065651575,412.7142857142857,448.10714285714283,0.9210169761696023,4.952299717083292,0,0,0.11,0,CnC,2019-11-01,2021-10-31,2021-12-02\\n00180124ES,8,0.9985288803045109,302,1.0,42994.09714285714,39880.48392857143,1.0780736066257972,866.7142857142857,823.1785714285714,1.052887326999002,4.737350692898651,0,0,0.11,0,CnC,2019-11-01,2021-10-31,2021-12-02\\n00180124ES,3,0.1335314373280052,512,1.0,32201.25857142857,34011.620357142856,0.9467722570490797,355.2857142857143,349.67857142857144,1.0160351343070166,4.828073718265662,0,0,0.11,0,CnC,2019-11-01,2021-10-31,2021-12-02\\n00180124ES,10,0.1541506457674607,365,1.0,36254.07,38566.555833333325,0.9400390887035178,616.2857142857143,614.1071428571429,1.003547542890375,4.828073718265662,0,0,0.11,0,CnC,2019-11-01,2021-10-31,2021-12-02\\n00180124ES,6,0.4054651081081644,601,1.0,35710.85,39389.169565217395,0.9066159656113812,444.57142857142856,460.0,0.9664596273291925,4.828073718265662,0,0,0.11,0,CnC,2019-11-01,2021-10-31,2021-12-02\\n00180124CZ,4,0.0,159,1.0,165.71428571428572,162.03571428571428,1.0227022261406216,5.142857142857143,5.535714285714286,0.9290322580645162,8.589123060803518,0,0,0.18,0,CnC,2019-11-01,2021-10-31,2021-12-02\\n00180124ES,12,0.4054651081081644,420,1.0,23036.625,15798.63083333333,1.4581405973101997,497.8333333333333,525.5925925925926,0.9471848354590937,4.828073718265662,0,0,0.11,0,CnC,2019-11-01,2021-10-31,2021-12-02\\n00180124ES,3,0.28768210225410284,497,1.0,22195.088333333333,7071.7871428571425,3.1385402140888075,331.7142857142857,374.35714285714283,0.8860904407555811,4.828073718265662,0,0,0.11,0,CnC,2019-11-01,2021-10-31,2021-12-02\\n00180124ES,10,0.6931471805599453,722,1.0,41105.58833333334,41234.170000000006,0.9968816720048769,452.42857142857144,480.67857142857144,0.9412289174530054,4.952299717083292,0,0,0.11,0,CnC,2019-11-01,2021-10-31,2021-12-02\\n00180124ES,1,0.8472979285067953,434,1.0,40272.66333333333,43358.56416666666,0.9288283435431258,544.8333333333334,557.8,0.9767539141866859,4.828073718265662,0,0,0.11,0,CnC,2019-11-01,2021-10-31,2021-12-02\\n00180124ES,7,0.1541506457674607,631,1.0,18223.655000000002,20160.85583333334,0.9039127679227571,427.85714285714283,479.85714285714283,0.8916344150044656,4.945397309641244,0,0,0.11,0,CnC,2019-11-01,2021-10-31,2021-12-02\\n00180124ES,1,0.1541506457674607,456,1.0,12180.006666666666,15470.482,0.7873062175222896,317.85714285714283,356.1111111111111,0.8925785602852685,4.828073718265662,0,0,0.11,0,CnC,2019-11-01,2021-10-31,2021-12-02\\n00180124ES,7,0.8266785135798214,253,1.0,34665.682857142856,36971.741071428565,0.9376264642276257,956.1428571428571,1037.0714285714287,0.92196432261175,4.825739014413406,0,0,0.11,0,CnC,2019-11-01,2021-10-31,2021-12-02\\n00180124ES,7,0.1541506457674607,630,1.0,22619.268333333337,24382.01833333333,0.9277028679126991,427.85714285714283,479.85714285714283,0.8916344150044656,4.934893516680151,0,0,0.11,0,CnC,2019-11-01,2021-10-31,2021-12-02\\n00180124RO,6,0.1335314373280052,222,1.0,22782.172857142858,24664.36142857143,0.9236879261245245,117.0,131.96428571428572,0.8866035182679296,6.572688024149897,0,0,0.13,0,CnC,2019-11-01,2021-10-31,2021-12-02\\n00180124CZ,11,0.0,372,1.0,574.5714285714286,21122.527777777774,0.027201830889573442,14.571428571428571,107.0,0.13618157543391188,8.589123060803518,0,0,0.18,0,CnC,2019-11-01,2021-10-31,2021-12-02\\n00180124ES,1,0.6931471805599453,449,1.0,31704.42285714286,32917.261666666665,0.963154930024086,322.57142857142856,422.65384615384613,0.7632047632047632,4.828073718265662,0,0,0.11,0,CnC,2019-11-01,2021-10-31,2021-12-02\\n00180124ES,10,0.4054651081081644,336,1.0,37439.35166666666,43755.96363636363,0.8556399757941221,788.7142857142857,785.4642857142857,1.0041376801709634,4.828073718265662,0,0,0.11,0,CnC,2019-11-01,2021-10-31,2021-12-02\\n00180124ES,3,0.5108256714497054,134,1.0,15801.021666666666,17747.043826086952,0.890346686552959,746.4285714285714,798.9285714285714,0.9342869915064819,4.828073718265662,0,0,0.11,0,CnC,2019-11-01,2021-10-31,2021-12-02\\n00180124ES,7,0.9555114083476544,260,1.0,38329.50500000001,36935.6212,1.0377381983763687,924.7142857142857,1015.8928571428571,0.9102478467217437,4.828073718265662,0,0,0.11,0,CnC,2019-11-01,2021-10-31,2021-12-02\\n00180124ES,8,0.28768210225410284,659,1.0,30078.17,31183.482916666664,0.9645545393495507,412.7142857142857,448.10714285714283,0.9210169761696023,4.952299717083292,0,0,0.11,0,CnC,2019-11-01,2021-10-31,2021-12-02\\n00180124ES,11,0.6931471805599453,7,1.0,46175.674999999996,46175.674999999996,1.0,874.0,859.75,1.0165745856353592,4.828073718265662,0,0,0.11,0,CnC,2019-11-01,2021-10-31,2021-12-02\\n00180124ES,11,2.1972245773362196,0,1.0,0.0,0.0,0.0,760.0,760.0,1.0,4.826632331856307,0,0,0.11,0,CnC,2019-11-01,2021-10-31,2021-12-02\\n00180124ES,9,0.7731898148739162,687,1.0,33114.36,36442.685,0.908669599948522,434.2857142857143,438.32142857142856,0.9907927971970993,4.8407955123932345,0,0,0.11,0,CnC,2019-11-01,2021-10-31,2021-12-02\\n00180124ES,7,0.28768210225410284,246,1.0,24642.325,24503.085833333334,1.0056825155661517,1047.857142857143,1043.7857142857142,1.0039006364196263,4.828073718265662,0,0,0.11,0,CnC,2019-11-01,2021-10-31,2021-12-02\\n00180124ES,6,0.28768210225410284,589,1.0,20360.74666666667,19372.565,1.0510093354528258,499.14285714285717,471.4642857142857,1.0587076736610863,4.828073718265662,0,0,0.11,0,CnC,2019-11-01,2021-10-31,2021-12-02\\n00180124ES,7,0.0,610,1.0,16796.388333333332,17989.404999999995,0.9336822609382209,485.42857142857144,466.89285714285717,1.039700145337719,4.828073718265662,0,0,0.11,0,CnC,2019-11-01,2021-10-31,2021-12-02\\n00180124ES,6,0.45198510206864073,232,1.0,40762.05428571429,20205.734074074076,2.0173508240918587,1009.4285714285714,720.7777777777778,1.4004712722147592,4.828073718265662,0,0,0.11,0,CnC,2019-11-01,2021-10-31,2021-12-02\\n00180124HR,4,0.0,175,1.0,660.7142857142857,407.3076923076923,1.6221502765412112,6.285714285714286,2.3846153846153846,2.6359447004608296,7.155396301896734,0,0,0.3,0,CnC,2019-11-01,2021-10-31,2021-12-02\\n00180124CZ,11,0.4054651081081644,1,1.0,51528.03,51528.03,1.0,269.0,269.0,1.0,8.589123060803518,0,0,0.18,0,CnC,2019-11-01,2021-10-31,2021-12-02\\n00180124CZ,7,0.0,621,1.0,20357.34285714286,19440.79714285714,1.0471454800721725,129.71428571428572,136.71428571428572,0.9487983281086729,8.589123060803518,0,0,0.18,0,CnC,2019-11-01,2021-10-31,2021-12-02\\n00180124CZ,9,0.0,691,1.0,21439.889999999996,20583.263928571425,1.0416176012901188,144.57142857142858,143.96428571428572,1.0042173158025305,8.663217245290781,0,0,0.18,0,CnC,2019-11-01,2021-10-31,2021-12-02\\n00180124CZ,11,0.6931471805599453,1,1.0,68465.65999999999,68465.65999999999,1.0,269.0,269.0,1.0,8.589123060803518,0,0,0.18,0,CnC,2019-11-01,2021-10-31,2021-12-02\\n00180124ES,1,0.7731898148739162,70,1.0,29211.22333333333,41535.510833333334,0.7032831123841761,671.0,827.92,0.8104647792057204,4.828073718265662,0,0,0.11,0,CnC,2019-11-01,2021-10-31,2021-12-02\\n00180124ES,9,1.252762968495368,315,1.0,55584.009999999995,49391.41090909091,1.1253780561625804,762.4285714285714,835.2142857142857,0.9128538441802788,4.828073718265662,0,0,0.11,0,CnC,2019-11-01,2021-10-31,2021-12-02\\n00180124ES,8,0.45198510206864073,645,1.0,34803.23714285714,33259.151999999995,1.0464258722789188,492.7142857142857,454.07142857142856,1.0851030360232814,4.952299717083292,0,0,0.11,0,CnC,2019-11-01,2021-10-31,2021-12-02\\n00180124ES,6,1.5040773967762742,231,1.0,57289.55166666666,40989.08666666666,1.3976781705959782,1009.4285714285714,720.7777777777778,1.4004712722147592,4.812441798789547,0,0,0.11,0,CnC,2019-11-01,2021-10-31,2021-12-02\\n00180124ES,5,1.2039727804840779,567,1.0,40220.924999999996,41993.59166666667,0.9577872099929532,432.14285714285717,442.89285714285717,0.9757277638900089,4.827273218122585,0,0,0.11,0,CnC,2019-11-01,2021-10-31,2021-12-02\\n00180124ES,12,1.0986122886681096,56,1.0,59548.98,51198.421923076916,1.1631018645353832,872.1666666666666,912.2592592592592,0.9560513174454955,4.828073718265662,0,0,0.11,0,CnC,2019-11-01,2021-10-31,2021-12-02\\n00180124ES,11,0.6931471805599453,29,1.0,32982.527142857136,34333.1164,0.9606622002672947,1072.857142857143,916.7142857142857,1.17032881408758,4.828073718265662,0,0,0.11,0,CnC,2019-11-01,2021-10-31,2021-12-02\\n00180124ES,6,0.0,215,1.0,22993.821666666667,7859.337500000001,2.9256692013374748,483.1666666666667,160.2962962962963,3.014209796672828,4.828073718265662,0,0,0.11,0,CnC,2019-11-01,2021-10-31,2021-12-02\\n00180124RO,9,0.5389965106667944,315,1.0,38383.67142857142,35347.45785714286,1.085896235698178,79.57142857142857,66.46428571428571,1.1972058033315423,6.572688024149897,0,0,0.13,0,CnC,2019-11-01,2021-10-31,2021-12-02\\n00180124CZ,2,0.0,484,1.0,415.57142857142856,441.82142857142856,0.9405868563576105,2.4285714285714284,5.5,0.44155844155844154,8.589123060803518,0,0,0.18,0,CnC,2019-11-01,2021-10-31,2021-12-02\\n00180124CZ,3,0.0,505,1.0,438.42857142857144,534.8571428571429,0.8197115384615384,13.857142857142858,6.321428571428571,2.192090395480226,8.589123060803518,0,0,0.18,0,CnC,2019-11-01,2021-10-31,2021-12-02\\n00180124CZ,7,0.1335314373280052,610,1.0,30435.08142857143,31744.97892857143,0.9587368603095511,137.71428571428572,139.53571428571428,0.9869465062707962,8.589123060803518,0,0,0.18,0,CnC,2019-11-01,2021-10-31,2021-12-02\\n00180124CZ,9,0.0,680,1.0,30966.588571428572,37548.54928571429,0.824707989003722,142.42857142857142,157.39285714285714,0.9049239845700022,8.663217245290781,0,0,0.18,0,CnC,2019-11-01,2021-10-31,2021-12-02\\n00180124CZ,9,0.1335314373280052,313,1.0,20410.35,22419.029642857146,0.9104029177508526,155.85714285714286,145.0,1.0748768472906405,8.589123060803518,0,0,0.18,0,CnC,2019-11-01,2021-10-31,2021-12-02\\n00180124CZ,6,0.0,225,1.0,62698.06166666667,62094.16740740742,1.0097254586778985,207.42857142857142,227.46428571428572,0.9119170984455958,8.589123060803518,0,0,0.18,0,CnC,2019-11-01,2021-10-31,2021-12-02\\n00180124ES,4,0.0,176,1.0,48.8,40.666666666666664,1.2,2.2,2.7142857142857144,0.8105263157894738,4.828073718265662,0,0,0.11,0,CnC,2019-11-01,2021-10-31,2021-12-02\\n00180124ES,12,0.6061357602214821,399,1.0,32535.489999999998,18118.0496,1.7957501341645516,500.42857142857144,418.14285714285717,1.1967885206696276,4.827032888068155,0,0,0.11,0,CnC,2019-11-01,2021-10-31,2021-12-02\\n00180124ES,5,0.3364722195913143,560,1.0,44250.752,31347.843636363632,1.4116043359572248,491.57142857142856,420.32142857142856,1.1695131277083863,4.828073718265662,0,0,0.11,0,CnC,2019-11-01,2021-10-31,2021-12-02\\n00180124ES,7,0.28768210225410284,609,1.0,32375.631666666668,31671.836249999997,1.0222214907626859,485.42857142857144,466.89285714285717,1.039700145337719,4.828073718265662,0,0,0.11,0,CnC,2019-11-01,2021-10-31,2021-12-02\\n00180124ES,10,1.299283005804677,337,1.0,47745.94166666667,48946.33124999999,0.9754753920737764,788.7142857142857,785.4642857142857,1.0041376801709634,4.828073718265662,0,0,0.11,0,CnC,2019-11-01,2021-10-31,2021-12-02\\n00180124ES,11,1.0414539309266488,14,1.0,41740.18833333333,43957.931666666664,0.9495485058271054,880.1428571428571,869.2666666666667,1.0125119148050354,4.828073718265662,0,0,0.11,0,CnC,2019-11-01,2021-10-31,2021-12-02\\n00180124ES,12,0.0,400,1.0,1723.8149999999998,897.95375,1.919714684637154,500.42857142857144,418.14285714285717,1.1967885206696276,4.828073718265662,0,0,0.11,0,CnC,2019-11-01,2021-10-31,2021-12-02\\n00180124ES,7,0.4054651081081644,253,1.0,23875.25,24313.726250000003,0.9819658967329205,956.1428571428571,1037.0714285714287,0.92196432261175,4.828073718265662,0,0,0.11,0,CnC,2019-11-01,2021-10-31,2021-12-02\\n00180124ES,3,0.18232159653038368,497,1.0,19103.932000000004,16921.669130434784,1.1289626249481661,326.14285714285717,369.57142857142856,0.8824893699265559,4.828073718265662,0,0,0.11,0,CnC,2019-11-01,2021-10-31,2021-12-02\\n00180124HR,4,0.2513144150354294,518,1.0,26673.754285714287,29788.765714285717,0.8954299933589537,41.0,50.82142857142857,0.8067463106113845,7.155396301896734,0,0,0.3,0,CnC,2019-11-01,2021-10-31,2021-12-02\\n00180124HR,10,0.5389965106667944,728,1.0,24790.211428571427,26748.02035714285,0.9268054643883727,49.857142857142854,54.42857142857143,0.9160104986876639,7.0909098220799835,0,0,0.3,0,CnC,2019-11-01,2021-10-31,2021-12-02\\n00180124RO,7,0.0,614,1.0,16016.657142857144,17906.23357142857,0.8944738199111588,42.0,44.785714285714285,0.937799043062201,6.572688024149897,0,0,0.13,0,CnC,2019-11-01,2021-10-31,2021-12-02\\n00180124RO,10,0.35667496778059,719,1.0,20377.49571428572,21058.05571428571,0.9676817266876969,66.71428571428571,70.14285714285714,0.9511201629327902,6.512146466906872,0,0,0.13,0,CnC,2019-11-01,2021-10-31,2021-12-02\\n00180124CZ,8,0.1335314373280052,271,1.0,16460.344285714287,21118.368214285718,0.7794325829861956,144.14285714285714,169.5,0.8504003371260008,8.589123060803518,0,0,0.18,0,CnC,2019-11-01,2021-10-31,2021-12-02\\n00180124ES,2,0.0,483,1.0,1105.5,903.0416666666666,1.2241960042449131,441.14285714285717,337.5357142857143,1.3069516453285368,4.828073718265662,0,0,0.11,0,CnC,2019-11-01,2021-10-31,2021-12-02\\n00180124ES,4,0.0,168,1.0,0.0,0.0,0.0,6.5,3.25,2.0,4.828073718265662,0,0,0.11,0,CnC,2019-11-01,2021-10-31,2021-12-02\\n00180124ES,12,0.8266785135798214,36,1.0,35053.29,33265.284799999994,1.0537498840232387,1026.857142857143,954.9285714285714,1.0753235096117886,4.828073718265662,0,0,0.11,0,CnC,2019-11-01,2021-10-31,2021-12-02\\n00180124ES,2,1.0986122886681096,106,1.0,29676.266666666666,28933.987083333337,1.0256542446499155,843.8571428571429,796.3928571428571,1.0595990851607697,4.828033668789901,0,0,0.11,0,CnC,2019-11-01,2021-10-31,2021-12-02\\n00180124ES,11,1.0414539309266488,21,1.0,40022.60833333333,42646.15722222222,0.938481001342794,839.8571428571429,859.9090909090909,0.976681316357815,4.828073718265662,0,0,0.11,0,CnC,2019-11-01,2021-10-31,2021-12-02\\n00180124ES,6,0.5596157879354227,588,1.0,40818.81166666667,40529.2247826087,1.0071451375053746,499.14285714285717,471.4642857142857,1.0587076736610863,4.826812611176034,0,0,0.11,0,CnC,2019-11-01,2021-10-31,2021-12-02\\n00180124ES,5,0.0,554,1.0,16101.276666666665,17450.069130434782,0.9227056091476635,400.57142857142856,388.35714285714283,1.0314511679234872,4.827627772101492,0,0,0.11,0,CnC,2019-11-01,2021-10-31,2021-12-02\\n00180124ES,7,0.4054651081081644,252,1.0,23553.812857142857,28997.13,0.8122808311423529,956.1428571428571,1037.0714285714287,0.92196432261175,4.828073718265662,0,0,0.11,0,CnC,2019-11-01,2021-10-31,2021-12-02\\n00180124RO,7,0.1335314373280052,630,1.0,27115.075714285715,27086.23964285714,1.0010646022411671,35.57142857142857,36.535714285714285,0.9736070381231672,6.512146466906872,0,0,0.13,0,CnC,2019-11-01,2021-10-31,2021-12-02\\n00180124CZ,4,0.0,169,1.0,454.5,407.0533333333333,1.1165613023682401,10.0,5.888888888888889,1.6981132075471697,8.589123060803518,0,0,0.18,0,CnC,2019-11-01,2021-10-31,2021-12-02\\n00180124CZ,1,0.0,456,1.0,645.1428571428571,537.3978571428571,1.2004939144581628,9.142857142857142,8.5,1.0756302521008403,8.589123060803518,0,0,0.18,0,CnC,2019-11-01,2021-10-31,2021-12-02\\n00180124CZ,11,0.1541506457674607,5,1.0,27283.588571428572,26712.438749999998,1.021381418101654,245.42857142857142,248.375,0.9881371773671723,8.589123060803518,0,0,0.18,0,CnC,2019-11-01,2021-10-31,2021-12-02\\n00180124ES,9,0.0,679,1.0,20340.198571428573,20293.95125,1.0022788722047695,463.85714285714283,432.92857142857144,1.0714403563768353,4.947685354245013,0,0,0.11,0,CnC,2019-11-01,2021-10-31,2021-12-02\\n00180124ES,10,0.9162907318741551,700,1.0,38892.270000000004,41862.18260869566,0.9290549984825984,470.2857142857143,447.89285714285717,1.049996013077107,4.941201891542587,0,0,0.11,0,CnC,2019-11-01,2021-10-31,2021-12-02\\n00180124ES,11,0.6931471805599453,21,1.0,50125.323333333334,51634.13888888889,0.9707787214423704,839.8571428571429,859.9090909090909,0.976681316357815,4.828073718265662,0,0,0.11,0,CnC,2019-11-01,2021-10-31,2021-12-02\\n00180124ES,10,1.1526795350350776,343,1.0,52460.988333333335,51219.1352173913,1.0242458821428981,681.8571428571429,765.3214285714286,0.8909421811563769,4.828073718265662,0,0,0.11,0,CnC,2019-11-01,2021-10-31,2021-12-02\\n00180124ES,7,0.35667496778059,617,1.0,27188.29857142857,26020.893214285712,1.0448641538754688,538.0,476.60714285714283,1.128812289246909,4.915340301757981,0,0,0.11,0,CnC,2019-11-01,2021-10-31,2021-12-02\\n00180124CZ,12,0.2513144150354294,407,1.0,77499.96,26368.19321428571,2.93914563543217,265.0,97.5,2.717948717948718,8.589123060803518,0,0,0.18,0,CnC,2019-11-01,2021-10-31,2021-12-02\\n00180124CZ,7,0.1335314373280052,617,1.0,38051.57428571429,35723.92357142857,1.0651566368299854,141.85714285714286,140.21428571428572,1.011716760061131,8.632132343315888,0,0,0.18,0,CnC,2019-11-01,2021-10-31,2021-12-02\\n00180124CZ,10,0.1335314373280052,708,1.0,35939.26857142857,37040.14185185185,0.9702789129472991,169.14285714285714,156.66666666666666,1.0796352583586626,8.663217245290781,0,0,0.18,0,CnC,2019-11-01,2021-10-31,2021-12-02\\n00180124CZ,3,0.0,134,1.0,30532.891428571427,33690.48392857143,0.9062764278870393,196.28571428571428,214.5,0.9150849150849151,8.589123060803518,0,0,0.18,0,CnC,2019-11-01,2021-10-31,2021-12-02\\n00180124CZ,12,0.0,425,1.0,174.0,33653.56291666667,0.005170329228761328,6.0,222.66666666666666,0.02694610778443114,8.589123060803518,0,0,0.18,0,CnC,2019-11-01,2021-10-31,2021-12-02\\n00180124ES,12,0.18232159653038368,407,1.0,12340.778,10056.062916666666,1.2271977713610667,515.8571428571429,447.89285714285717,1.1517422853042023,4.828073718265662,0,0,0.11,0,CnC,2019-11-01,2021-10-31,2021-12-02\\n00180124ES,8,1.252762968495368,302,1.0,54486.704999999994,54135.58695652175,1.006485900739568,866.7142857142857,823.1785714285714,1.052887326999002,4.828073718265662,0,0,0.11,0,CnC,2019-11-01,2021-10-31,2021-12-02\\n00180124ES,12,1.0414539309266488,63,1.0,56625.581666666665,51616.2716,1.097049048902375,899.1666666666666,878.3846153846154,1.0236593980792246,4.828073718265662,0,0,0.11,0,CnC,2019-11-01,2021-10-31,2021-12-02\\n00180124ES,5,0.0,196,1.0,352.0,227.52631578947367,1.5470737913486006,22.428571428571427,11.84,1.8943050193050193,4.828073718265662,0,0,0.11,0,CnC,2019-11-01,2021-10-31,2021-12-02\\n00180124ES,12,0.4054651081081644,406,1.0,18746.923333333332,15793.051250000002,1.1870361867744417,515.8571428571429,447.89285714285717,1.1517422853042023,4.828073718265662,0,0,0.11,0,CnC,2019-11-01,2021-10-31,2021-12-02\\n00180124ES,4,0.28768210225410284,525,1.0,25886.565000000002,29215.343181818185,0.8860606168100805,350.7142857142857,350.0357142857143,1.0019385776961536,4.828073718265662,0,0,0.11,0,CnC,2019-11-01,2021-10-31,2021-12-02\\n00180124RO,5,0.4054651081081644,210,1.0,36915.66142857143,18981.278928571428,1.9448458435013254,141.28571428571428,72.5,1.9487684729064039,6.572688024149897,0,0,0.13,0,CnC,2019-11-01,2021-10-31,2021-12-02\\n00180124RO,4,0.0,523,1.0,19337.04,18846.92535714286,1.026005018514672,52.0,49.25,1.0558375634517767,6.572688024149897,0,0,0.13,0,CnC,2019-11-01,2021-10-31,2021-12-02\\n00180124CZ,8,0.2513144150354294,659,1.0,38371.97428571428,38115.24392857143,1.0067356346354221,151.14285714285714,155.96428571428572,0.9690863292878406,8.663217245290781,0,0,0.18,0,CnC,2019-11-01,2021-10-31,2021-12-02\\n00180124CZ,8,0.0,666,1.0,41177.888571428564,39559.3925,1.040913066888693,172.57142857142858,166.21428571428572,1.0382466695315857,8.663217245290781,0,0,0.18,0,CnC,2019-11-01,2021-10-31,2021-12-02\\n00180124CZ,12,0.45198510206864073,411,1.0,41628.86714285715,26759.235714285718,1.5556822170609719,235.28571428571428,154.89285714285714,1.5190223656905695,8.589123060803518,0,0,0.18,0,CnC,2019-11-01,2021-10-31,2021-12-02\\n00180124ES,6,0.0,600,1.0,33757.98714285714,34883.15392857143,0.9677446945302527,447.2857142857143,461.0357142857143,0.9701758463087768,4.828073718265662,0,0,0.11,0,CnC,2019-11-01,2021-10-31,2021-12-02\\n00180124ES,3,0.1541506457674607,511,1.0,9858.35,4733.43,2.0827074658334443,355.2857142857143,349.67857142857144,1.0160351343070166,4.828073718265662,0,0,0.11,0,CnC,2019-11-01,2021-10-31,2021-12-02\\n00180124ES,1,0.1541506457674607,435,1.0,26103.611666666668,28108.007391304338,0.9286895119695406,544.8333333333334,557.8,0.9767539141866859,4.828073718265662,0,0,0.11,0,CnC,2019-11-01,2021-10-31,2021-12-02\\n00180124ES,7,0.7621400202577524,253,1.0,41258.55285714286,44439.03035714285,0.9284305378753885,956.1428571428571,1037.0714285714287,0.92196432261175,4.827787903275037,0,0,0.11,0,CnC,2019-11-01,2021-10-31,2021-12-02\\n00180124ES,2,0.7731898148739162,98,1.0,39059.238333333335,37081.884,1.0533239986763707,805.1428571428571,785.9285714285714,1.024447877851495,4.828073718265662,0,0,0.11,0,CnC,2019-11-01,2021-10-31,2021-12-02\\n00180124ES,3,1.1631508247068418,132,1.0,41784.24333333334,43495.08458333334,0.9606658714107762,771.0,802.4642857142857,0.9607904223596956,4.828073718265662,0,0,0.11,0,CnC,2019-11-01,2021-10-31,2021-12-02\\n00180124ES,7,0.6061357602214821,259,1.0,41144.96833333332,40529.24708333333,1.0151920229046938,924.7142857142857,1015.8928571428571,0.9102478467217437,4.828073718265662,0,0,0.11,0,CnC,2019-11-01,2021-10-31,2021-12-02\\n00180124ES,7,0.1541506457674607,246,1.0,28509.705,28382.065416666665,1.0044971914996146,1047.857142857143,1043.7857142857142,1.0039006364196263,4.828073718265662,0,0,0.11,0,CnC,2019-11-01,2021-10-31,2021-12-02\\n00180124ES,6,0.1541506457674607,589,1.0,23375.91833333333,22966.578750000004,1.0178232721464153,499.14285714285717,471.4642857142857,1.0587076736610863,4.828073718265662,0,0,0.11,0,CnC,2019-11-01,2021-10-31,2021-12-02\\n00180124ES,3,0.6931471805599453,500,1.0,35693.514,35485.333043478255,1.0058666761353676,332.42857142857144,370.75,0.8966380888161064,4.828073718265662,0,0,0.11,0,CnC,2019-11-01,2021-10-31,2021-12-02\\n00180124ES,9,0.6190392450860042,330,1.0,29782.99142857143,35260.68142857143,0.8446516125589827,764.4285714285714,820.1071428571429,0.9321081740190742,4.828073718265662,0,0,0.11,0,CnC,2019-11-01,2021-10-31,2021-12-02\\n00180124CZ,2,0.0,120,1.0,32795.81285714285,33989.30607142856,0.9648862141587246,204.14285714285714,219.5,0.9300357956394403,8.589123060803518,0,0,0.18,0,CnC,2019-11-01,2021-10-31,2021-12-02\\n00180124CZ,7,0.1335314373280052,267,1.0,56782.32428571429,57587.05750000001,0.9860257973020115,156.14285714285714,171.42857142857142,0.9108333333333334,8.589123060803518,0,0,0.18,0,CnC,2019-11-01,2021-10-31,2021-12-02\\n00180124ES,1,0.28768210225410284,70,1.0,14706.923333333332,18898.636000000002,0.7782002538878113,671.0,827.92,0.8104647792057204,4.828073718265662,0,0,0.11,0,CnC,2019-11-01,2021-10-31,2021-12-02\\n00180124ES,11,0.35667496778059,386,1.0,39634.37,45138.54071428571,0.8780605082223291,373.14285714285717,444.14285714285717,0.8401415246059827,4.823146111217634,0,0,0.11,0,CnC,2019-11-01,2021-10-31,2021-12-02\\n00180124ES,11,0.6931471805599453,381,1.0,7507.491666666668,14664.048333333334,0.5119658293543087,392.0,472.57142857142856,0.8295042321644498,4.8080293765595545,0,0,0.11,0,CnC,2019-11-01,2021-10-31,2021-12-02\\n00180124ES,8,0.28768210225410284,295,1.0,36292.38583333334,35999.61604166666,1.0081325809510808,784.4285714285714,798.8571428571429,0.9819384835479256,4.828073718265662,0,0,0.11,0,CnC,2019-11-01,2021-10-31,2021-12-02\\n00180124ES,4,0.18232159653038368,518,1.0,10671.914,7535.8545454545465,1.4161518027755795,346.0,345.2857142857143,1.002068680182044,4.828073718265662,0,0,0.11,0,CnC,2019-11-01,2021-10-31,2021-12-02\\n00180124ES,6,0.5108256714497054,232,1.0,25250.893333333337,24846.594166666666,1.016271814316067,1009.4285714285714,720.7777777777778,1.4004712722147592,4.828073718265662,0,0,0.11,0,CnC,2019-11-01,2021-10-31,2021-12-02\\n00180124ES,9,0.6931471805599453,330,1.0,41146.579999999994,42374.24739130436,0.9710279835776789,764.4285714285714,820.1071428571429,0.9321081740190742,4.828073718265662,0,0,0.11,0,CnC,2019-11-01,2021-10-31,2021-12-02\\n00180124ES,12,0.2513144150354294,400,1.0,17443.769999999997,15764.122799999997,1.1065487259462352,500.42857142857144,418.14285714285717,1.1967885206696276,4.828073718265662,0,0,0.11,0,CnC,2019-11-01,2021-10-31,2021-12-02\\n00180124ES,12,0.7731898148739162,420,1.0,14778.643333333332,16002.007200000002,0.9235493490674926,497.8333333333333,525.5925925925926,0.9471848354590937,4.828073718265662,0,0,0.11,0,CnC,2019-11-01,2021-10-31,2021-12-02\\n00180124HR,2,0.5389965106667944,98,1.0,26346.86571428571,26815.614999999998,0.982519539987642,87.14285714285714,83.21428571428571,1.0472103004291846,7.155396301896734,0,0,0.3,0,CnC,2019-11-01,2021-10-31,2021-12-02\\n00180124RO,8,0.2513144150354294,665,1.0,31891.184285714284,29835.433571428577,1.068902994466766,52.857142857142854,61.357142857142854,0.8614668218859138,6.512146466906872,0,0,0.13,0,CnC,2019-11-01,2021-10-31,2021-12-02\\n00180124CZ,7,0.0,246,1.0,36703.58428571429,41938.098571428556,0.8751847493324264,151.85714285714286,189.53571428571428,0.8012059543998493,8.589123060803518,0,0,0.18,0,CnC,2019-11-01,2021-10-31,2021-12-02\\n00180124CZ,4,0.0,519,1.0,462.2857142857143,565.75,0.8171201313048418,4.857142857142857,9.25,0.525096525096525,8.589123060803518,0,0,0.18,0,CnC,2019-11-01,2021-10-31,2021-12-02\\n00180124CZ,1,0.0,446,1.0,148.71428571428572,138.65384615384616,1.0725579552209232,4.0,7.846153846153846,0.5098039215686275,8.589123060803518,0,0,0.18,0,CnC,2019-11-01,2021-10-31,2021-12-02\\n00180124ES,9,0.4054651081081644,686,1.0,19165.216666666667,19910.619199999997,0.9625625639340574,434.2857142857143,438.32142857142856,0.9907927971970993,4.952299717083292,0,0,0.11,0,CnC,2019-11-01,2021-10-31,2021-12-02\\n00180124ES,10,0.5108256714497054,365,1.0,29284.33833333333,32619.964166666676,0.8977428112339277,616.2857142857143,614.1071428571429,1.003547542890375,4.828073718265662,0,0,0.11,0,CnC,2019-11-01,2021-10-31,2021-12-02\\n00180124ES,4,0.1541506457674607,533,1.0,8521.258333333333,9414.511818181816,0.9051195110166643,363.7142857142857,353.92857142857144,1.027648839556004,4.823689720711489,0,0,0.11,0,CnC,2019-11-01,2021-10-31,2021-12-02\\n00180124ES,9,1.0414539309266488,308,1.0,60204.35166666666,57414.38086956522,1.0485935884850826,927.2857142857143,857.7142857142857,1.0811125916055964,4.811398156734929,0,0,0.11,0,CnC,2019-11-01,2021-10-31,2021-12-02\\n00180124ES,3,0.0,505,1.0,22710.39333333333,19912.35458333333,1.140517724224435,348.14285714285717,371.14285714285717,0.9380292532717475,4.828073718265662,0,0,0.11,0,CnC,2019-11-01,2021-10-31,2021-12-02\\n00180124ES,2,0.7731898148739162,120,1.0,36196.915,32728.427916666664,1.1059778090217112,757.4285714285714,795.6785714285714,0.9519278244086359,4.820348751241807,0,0,0.11,0,CnC,2019-11-01,2021-10-31,2021-12-02\\n00180124ES,2,0.28768210225410284,113,1.0,16850.958333333332,18091.414347826085,0.931433994565394,776.2857142857143,809.4285714285714,0.9590540063536888,4.828073718265662,0,0,0.11,0,CnC,2019-11-01,2021-10-31,2021-12-02\\n00180124HR,11,0.9985288803045109,28,1.0,43352.58,40461.10142857144,1.0714631700408124,101.57142857142857,83.28571428571429,1.2195540308747854,7.155396301896734,0,0,0.3,0,CnC,2019-11-01,2021-10-31,2021-12-02\\n00180124RO,3,0.1335314373280052,131,1.0,16498.87857142857,18453.288571428573,0.8940887965613871,121.0,124.85714285714286,0.9691075514874141,6.572688024149897,0,0,0.13,0,CnC,2019-11-01,2021-10-31,2021-12-02\\n00180124CZ,12,0.0,428,1.0,255.2,50135.87583333333,0.0050901673852943394,6.0,222.66666666666666,0.02694610778443114,8.589123060803518,0,0,0.18,0,CnC,2019-11-01,2021-10-31,2021-12-02\\n00180124ES,3,0.0,489,1.0,151.0,143.20833333333334,1.0544079138783822,383.0,350.92857142857144,1.0913901892937106,4.828073718265662,0,0,0.11,0,CnC,2019-11-01,2021-10-31,2021-12-02\\n00180124ES,7,0.7731898148739162,616,1.0,33498.96666666667,32144.875833333335,1.0421246247879166,538.0,476.60714285714283,1.128812289246909,4.931736341265394,0,0,0.11,0,CnC,2019-11-01,2021-10-31,2021-12-02\\n00180124ES,4,0.0,180,1.0,0.0,0.0,0.0,2.4285714285714284,2.5,0.9714285714285713,4.828073718265662,0,0,0.11,0,CnC,2019-11-01,2021-10-31,2021-12-02\\n00180124ES,8,0.9162907318741551,302,1.0,42354.47666666666,40840.993749999994,1.037057935610753,866.7142857142857,823.1785714285714,1.052887326999002,4.828073718265662,0,0,0.11,0,CnC,2019-11-01,2021-10-31,2021-12-02\\n00180124ES,9,1.2039727804840779,329,1.0,50158.26666666666,55475.05125,0.9041589964581901,764.4285714285714,820.1071428571429,0.9321081740190742,4.827473357426562,0,0,0.11,0,CnC,2019-11-01,2021-10-31,2021-12-02\\n00180124ES,12,1.0414539309266488,420,1.0,37373.105,44488.49692307692,0.8400622089934883,497.8333333333333,525.5925925925926,0.9471848354590937,4.810692720262207,0,0,0.11,0,CnC,2019-11-01,2021-10-31,2021-12-02\\n00180124ES,8,0.1541506457674607,644,1.0,46288.841666666674,38586.284999999996,1.1996190269850202,492.7142857142857,454.07142857142856,1.0851030360232814,4.952299717083292,0,0,0.11,0,CnC,2019-11-01,2021-10-31,2021-12-02\\n00180124ES,7,0.35667496778059,610,1.0,29607.11285714286,34400.36916666666,0.8606626491041155,485.42857142857144,466.89285714285717,1.039700145337719,4.834511653562396,0,0,0.11,0,CnC,2019-11-01,2021-10-31,2021-12-02\\n00180124ES,6,0.0,589,1.0,28053.670000000002,28302.994285714285,0.9911908866179531,499.14285714285717,471.4642857142857,1.0587076736610863,4.828073718265662,0,0,0.11,0,CnC,2019-11-01,2021-10-31,2021-12-02\\n00180124ES,5,0.0,188,1.0,222.5,66.05882352941177,3.3682101513802314,19.166666666666668,7.5,2.555555555555556,4.828073718265662,0,0,0.11,0,CnC,2019-11-01,2021-10-31,2021-12-02\\n00180124HR,5,0.28768210225410284,182,1.0,16276.528333333334,4258.9668,3.8217081977096727,54.666666666666664,15.6,3.5042735042735043,7.155396301896734,0,0,0.3,0,CnC,2019-11-01,2021-10-31,2021-12-02\\n00180124RO,8,0.2513144150354294,301,1.0,33184.88142857143,32397.17892857143,1.0243139225713669,65.71428571428571,67.28571428571429,0.9766454352441611,6.572688024149897,0,0,0.13,0,CnC,2019-11-01,2021-10-31,2021-12-02\\n00180124CZ,5,0.0,553,1.0,596.1428571428571,552.1428571428571,1.0796895213454074,10.857142857142858,6.25,1.7371428571428573,8.589123060803518,0,0,0.18,0,CnC,2019-11-01,2021-10-31,2021-12-02\\n00180124CZ,2,0.35667496778059,113,1.0,38135.102857142854,33849.55464285715,1.1266057488644103,227.57142857142858,216.60714285714286,1.050618301731245,8.589123060803518,0,0,0.18,0,CnC,2019-11-01,2021-10-31,2021-12-02\\n00180124CZ,10,0.1541506457674607,337,1.0,47368.94166666667,37812.38555555555,1.2527361331664788,238.0,193.85185185185185,1.227741688956821,8.589123060803518,0,0,0.18,0,CnC,2019-11-01,2021-10-31,2021-12-02\\n00180124CZ,11,0.35667496778059,19,1.0,35443.98714285714,31641.512727272722,1.1201735975254734,384.2857142857143,313.6363636363636,1.2252587991718427,8.589123060803518,0,0,0.18,0,CnC,2019-11-01,2021-10-31,2021-12-02\\n00180124CZ,10,0.28768210225410284,718,1.0,22884.15142857143,20562.507037037045,1.1129066794896485,183.14285714285714,181.40740740740742,1.0095665869451087,8.663217245290781,0,0,0.18,0,CnC,2019-11-01,2021-10-31,2021-12-02\\n00180124ES,10,0.4054651081081644,351,1.0,27150.734999999997,27316.024090909094,0.9939490062551195,616.1428571428571,712.7857142857143,0.8644152720713497,4.828073718265662,0,0,0.11,0,CnC,2019-11-01,2021-10-31,2021-12-02\\n00180124ES,12,1.0986122886681096,57,1.0,42634.674000000006,34082.45307692308,1.250927387878297,872.1666666666666,912.2592592592592,0.9560513174454955,4.827529433234227,0,0,0.11,0,CnC,2019-11-01,2021-10-31,2021-12-02\\n00180124ES,2,0.9162907318741551,92,1.0,29461.281666666662,27270.6988,1.08032734631159,812.4285714285714,755.4074074074074,1.0754839884571206,4.828073718265662,0,0,0.11,0,CnC,2019-11-01,2021-10-31,2021-12-02\\n00180124ES,12,0.5108256714497054,64,1.0,28832.230000000007,30472.59166666667,0.9461692761610093,899.1666666666666,878.3846153846154,1.0236593980792246,4.827927004816089,0,0,0.11,0,CnC,2019-11-01,2021-10-31,2021-12-02\\n00180124ES,8,0.6061357602214821,666,1.0,38406.76500000001,35808.44920000001,1.0725615282998626,422.57142857142856,446.85714285714283,0.9456521739130435,4.952299717083292,0,0,0.11,0,CnC,2019-11-01,2021-10-31,2021-12-02\\n00180124ES,7,0.4054651081081644,259,1.0,47696.79,52048.20874999999,0.916396378386413,924.7142857142857,1015.8928571428571,0.9102478467217437,4.828073718265662,0,0,0.11,0,CnC,2019-11-01,2021-10-31,2021-12-02\\n00180124ES,2,0.6931471805599453,120,1.0,25421.002857142856,27372.066071428566,0.9287206450110734,757.4285714285714,795.6785714285714,0.9519278244086359,4.825005414386676,0,0,0.11,0,CnC,2019-11-01,2021-10-31,2021-12-02\\n00180124ES,3,0.5877866384111654,132,1.0,17508.983333333334,18524.02304347826,0.9452041434108294,771.0,802.4642857142857,0.9607904223596956,4.828073718265662,0,0,0.11,0,CnC,2019-11-01,2021-10-31,2021-12-02\\n00180124ES,7,0.28768210225410284,259,1.0,24212.10666666667,26955.286666666667,0.8982322082520363,924.7142857142857,1015.8928571428571,0.9102478467217437,4.827219816435079,0,0,0.11,0,CnC,2019-11-01,2021-10-31,2021-12-02\\n00180124ES,3,0.28768210225410284,490,1.0,16021.525,12796.699000000002,1.2520045208533854,363.57142857142856,354.5357142857143,1.025486048151506,4.828073718265662,0,0,0.11,0,CnC,2019-11-01,2021-10-31,2021-12-02\\n00180124ES,9,0.28768210225410284,693,1.0,20095.48833333333,25286.69458333333,0.7947060169176257,423.14285714285717,438.4642857142857,0.9650566099209905,4.952299717083292,0,0,0.11,0,CnC,2019-11-01,2021-10-31,2021-12-02\\n00180124HR,3,0.1335314373280052,133,1.0,26335.925714285713,27413.278214285707,0.9606996109119645,91.0,88.85714285714286,1.0241157556270095,7.155396301896734,0,0,0.3,0,CnC,2019-11-01,2021-10-31,2021-12-02\\n00180124RO,5,0.2513144150354294,546,1.0,31799.809999999998,32096.71535714286,0.9907496653835394,59.142857142857146,61.32142857142857,0.9644729178800234,6.572688024149897,0,0,0.13,0,CnC,2019-11-01,2021-10-31,2021-12-02\\n00180124RO,10,0.18232159653038368,334,1.0,23490.795714285716,23353.33142857143,1.0058862816268734,88.57142857142857,78.39285714285714,1.1298405466970387,6.572688024149897,0,0,0.13,0,CnC,2019-11-01,2021-10-31,2021-12-02\\n00180124CZ,1,0.0,456,1.0,369.0,309.82142857142856,1.1910086455331412,9.142857142857142,8.5,1.0756302521008403,8.589123060803518,0,0,0.18,0,CnC,2019-11-01,2021-10-31,2021-12-02\\n00180124CZ,4,0.0,155,1.0,1007.4285714285714,12145.572857142859,0.08294615521869755,4.428571428571429,53.32142857142857,0.08305425318151374,8.589123060803518,0,0,0.18,0,CnC,2019-11-01,2021-10-31,2021-12-02\\n00180124ES,8,0.6931471805599453,644,1.0,40705.312,35029.462608695634,1.1620307298090096,492.7142857142857,454.07142857142856,1.0851030360232814,4.952299717083292,0,0,0.11,0,CnC,2019-11-01,2021-10-31,2021-12-02\\n00180124ES,10,0.5108256714497054,344,1.0,42147.469999999994,42715.14695652174,0.9867101719888833,681.8571428571429,765.3214285714286,0.8909421811563769,4.828073718265662,0,0,0.11,0,CnC,2019-11-01,2021-10-31,2021-12-02\\n00180124ES,9,1.0986122886681096,315,1.0,57739.68399999999,53257.14869565217,1.0841677674102326,762.4285714285714,835.2142857142857,0.9128538441802788,4.828073718265662,0,0,0.11,0,CnC,2019-11-01,2021-10-31,2021-12-02\\n00180124ES,2,0.1541506457674607,484,1.0,13122.303333333335,4508.9262499999995,2.910294514871104,441.14285714285717,337.5357142857143,1.3069516453285368,4.828073718265662,0,0,0.11,0,CnC,2019-11-01,2021-10-31,2021-12-02\\n00180124ES,10,0.7884573820386862,351,1.0,23649.896,23359.45875,1.0124333895364763,616.1428571428571,712.7857142857143,0.8644152720713497,4.82589479840215,0,0,0.11,0,CnC,2019-11-01,2021-10-31,2021-12-02\\n00180124ES,8,0.9162907318741551,280,1.0,28305.27,25800.26565217391,1.0970921920571395,789.1428571428571,812.9285714285714,0.9707407081978736,4.828073718265662,0,0,0.11,0,CnC,2019-11-01,2021-10-31,2021-12-02\\n00180124ES,10,0.1541506457674607,707,1.0,22168.219999999998,21355.763333333336,1.0380439066487748,505.42857142857144,458.2857142857143,1.10286783042394,4.912581394014749,0,0,0.11,0,CnC,2019-11-01,2021-10-31,2021-12-02\\n00180124HR,12,0.45198510206864073,413,1.0,36284.79714285714,33845.48642857143,1.0720719650294792,147.14285714285714,92.10714285714286,1.5975184179914694,7.155396301896734,0,0,0.3,0,CnC,2019-11-01,2021-10-31,2021-12-02\\n00180124RO,12,0.18232159653038368,418,1.0,45428.32428571429,43304.853928571436,1.0490353889807684,118.57142857142857,122.03571428571429,0.9716125256072577,6.572688024149897,0,0,0.13,0,CnC,2019-11-01,2021-10-31,2021-12-02\\n00180124RO,6,0.1335314373280052,600,1.0,19525.002857142856,20009.052857142855,0.9758084501322509,59.285714285714285,52.92857142857143,1.1201079622132253,6.572688024149897,0,0,0.13,0,CnC,2019-11-01,2021-10-31,2021-12-02\\n00180124CZ,8,0.0,302,1.0,40723.119999999995,39223.83071428571,1.0382239383153424,150.0,156.89285714285714,0.9560664693831095,8.589123060803518,0,0,0.18,0,CnC,2019-11-01,2021-10-31,2021-12-02\\n00180124CZ,11,0.0,26,1.0,33358.37714285715,32389.554642857147,1.0299115721312846,401.14285714285717,337.10714285714283,1.189956563195254,8.589123060803518,0,0,0.18,0,CnC,2019-11-01,2021-10-31,2021-12-02\\n00180124CZ,6,0.1335314373280052,586,1.0,18477.902857142857,27410.490714285716,0.6741179152809768,139.14285714285714,187.57142857142858,0.7418126428027417,8.589123060803518,0,0,0.18,0,CnC,2019-11-01,2021-10-31,2021-12-02\\n00180124CZ,2,0.1335314373280052,99,1.0,49336.82142857143,53078.98321428571,0.929498239056186,217.71428571428572,205.10714285714286,1.0614661326832666,8.589123060803518,0,0,0.18,0,CnC,2019-11-01,2021-10-31,2021-12-02\\n00180124CZ,5,0.0,183,1.0,1413.5714285714287,1363.148148148148,1.036990315756788,7.714285714285714,6.2592592592592595,1.2324598478444633,8.589123060803518,0,0,0.18,0,CnC,2019-11-01,2021-10-31,2021-12-02\\n00180124ES,12,0.5108256714497054,427,1.0,24883.566666666666,21781.897500000003,1.1423966468792106,599.8333333333334,549.5,1.091598422808614,4.828073718265662,0,0,0.11,0,CnC,2019-11-01,2021-10-31,2021-12-02\\n00180124ES,7,0.0,623,1.0,33987.06,33518.06833333333,1.013992204503034,468.14285714285717,489.60714285714283,0.9561601867386389,4.921257505192226,0,0,0.11,0,CnC,2019-11-01,2021-10-31,2021-12-02\\n00180124ES,4,0.5389965106667944,519,1.0,45136.29285714286,36430.60357142858,1.2389663753071025,346.0,345.2857142857143,1.002068680182044,4.8263919088623215,0,0,0.11,0,CnC,2019-11-01,2021-10-31,2021-12-02\\n00180124ES,2,0.6061357602214821,92,1.0,31358.42333333333,29211.069166666668,1.0735116593786662,812.4285714285714,755.4074074074074,1.0754839884571206,4.828073718265662,0,0,0.11,0,CnC,2019-11-01,2021-10-31,2021-12-02\\n00180124ES,8,1.0986122886681096,287,1.0,55818.72833333333,52713.498750000006,1.0589076736882945,852.4285714285714,794.8571428571429,1.072429906542056,4.828073718265662,0,0,0.11,0,CnC,2019-11-01,2021-10-31,2021-12-02\\n00180124ES,12,0.6190392450860042,35,1.0,54357.95285714285,51851.3604,1.0483418841435614,1026.857142857143,954.9285714285714,1.0753235096117886,4.828073718265662,0,0,0.11,0,CnC,2019-11-01,2021-10-31,2021-12-02\\n00180124ES,12,0.8266785135798214,49,1.0,44787.91428571429,49883.557777777794,0.8978492369216391,863.4285714285714,961.0,0.8984688568455478,4.828073718265662,0,0,0.11,0,CnC,2019-11-01,2021-10-31,2021-12-02\\n00180124ES,4,0.0,180,1.0,84.25,84.25,1.0,1.7142857142857142,2.473684210526316,0.6930091185410333,4.828073718265662,0,0,0.11,0,CnC,2019-11-01,2021-10-31,2021-12-02\\n00180124ES,6,0.0,587,1.0,20220.475,21118.134583333333,0.9574934244409173,498.85714285714283,474.35714285714283,1.0516488480650505,4.828073718265662,0,0,0.11,0,CnC,2019-11-01,2021-10-31,2021-12-02\\n00180124ES,3,0.4054651081081644,495,1.0,20715.23166666667,15346.920952380953,1.349797247991485,325.2857142857143,368.35714285714283,0.8830715532286213,4.828073718265662,0,0,0.11,0,CnC,2019-11-01,2021-10-31,2021-12-02\\n00180124ES,5,0.0,567,1.0,25736.692000000003,23929.949545454547,1.0755013064742815,432.14285714285717,442.89285714285717,0.9757277638900089,4.828073718265662,0,0,0.11,0,CnC,2019-11-01,2021-10-31,2021-12-02\\n00180124RO,3,0.0,145,1.0,672.7142857142857,11365.045714285714,0.059191516041919,3.2857142857142856,75.67857142857143,0.043416705993393104,6.572688024149897,0,0,0.13,0,CnC,2019-11-01,2021-10-31,2021-12-02\\n00180124CZ,6,0.0,589,1.0,32404.364285714284,43333.36428571428,0.7477924878405308,139.14285714285714,187.57142857142858,0.7418126428027417,8.589123060803518,0,0,0.18,0,CnC,2019-11-01,2021-10-31,2021-12-02\\n00180124CZ,12,0.0,64,1.0,65516.20333333334,76171.975,0.8601090274124221,312.8333333333333,334.0,0.936626746506986,8.589123060803518,0,0,0.18,0,CnC,2019-11-01,2021-10-31,2021-12-02\\n00180124CZ,8,0.35667496778059,659,1.0,53023.91428571428,52489.4175,1.0101829437469805,151.14285714285714,155.96428571428572,0.9690863292878406,8.663217245290781,0,0,0.18,0,CnC,2019-11-01,2021-10-31,2021-12-02\\n00180124ES,9,0.2513144150354294,680,1.0,39614.72285714286,38267.62,1.0352021593488923,463.85714285714283,432.92857142857144,1.0714403563768353,4.952299717083292,0,0,0.11,0,CnC,2019-11-01,2021-10-31,2021-12-02\\n00180124ES,11,0.5108256714497054,7,1.0,40508.698333333334,40508.698333333334,1.0,874.0,859.75,1.0165745856353592,4.828073718265662,0,0,0.11,0,CnC,2019-11-01,2021-10-31,2021-12-02\\n00180124ES,3,0.6931471805599453,133,1.0,28599.21333333333,30807.505416666667,0.9283196723179454,746.4285714285714,798.9285714285714,0.9342869915064819,4.828073718265662,0,0,0.11,0,CnC,2019-11-01,2021-10-31,2021-12-02\\n00180124ES,10,0.6061357602214821,357,1.0,34544.04,38575.984583333346,0.8954804491218266,542.1428571428571,657.2142857142857,0.8249103358330616,4.824626956795577,0,0,0.11,0,CnC,2019-11-01,2021-10-31,2021-12-02\\n00180124ES,11,0.4054651081081644,378,1.0,6009.0,20629.289999999997,0.29128486729305764,396.85714285714283,486.39285714285717,0.8159189367794991,4.828073718265662,0,0,0.11,0,CnC,2019-11-01,2021-10-31,2021-12-02\\n00180124ES,7,0.9985288803045109,246,1.0,42854.280000000006,44958.94785714285,0.9531868969925535,1047.857142857143,1043.7857142857142,1.0039006364196263,4.828073718265662,0,0,0.11,0,CnC,2019-11-01,2021-10-31,2021-12-02\\n00180124ES,10,0.4054651081081644,728,1.0,30342.71142857143,32127.044285714288,0.9444600990593995,471.2857142857143,481.2142857142857,0.9793676710702093,4.952299717083292,0,0,0.11,0,CnC,2019-11-01,2021-10-31,2021-12-02\\n00180124ES,1,0.6061357602214821,85,1.0,31152.86,28579.52083333334,1.0900413684915697,724.1428571428571,773.2307692307693,0.9365158319595247,4.828073718265662,0,0,0.11,0,CnC,2019-11-01,2021-10-31,2021-12-02\\n00180124ES,2,0.6931471805599453,113,1.0,29302.08833333333,30874.689166666667,0.9490650472675473,776.2857142857143,809.4285714285714,0.9590540063536888,4.828073718265662,0,0,0.11,0,CnC,2019-11-01,2021-10-31,2021-12-02\\n00180124ES,3,0.28768210225410284,511,1.0,10297.136666666667,4900.096956521739,2.101414881793673,355.2857142857143,349.67857142857144,1.0160351343070166,4.826204825657423,0,0,0.11,0,CnC,2019-11-01,2021-10-31,2021-12-02\\n00180124ES,8,0.28768210225410284,665,1.0,41795.20833333333,43274.69125000001,0.9658118203982176,422.57142857142856,446.85714285714283,0.9456521739130435,4.952299717083292,0,0,0.11,0,CnC,2019-11-01,2021-10-31,2021-12-02\\n00180124ES,9,0.47000364414689666,678,1.0,43782.415,42884.393333333326,1.0209405239730571,449.0,430.5357142857143,1.0428867689755288,4.952299717083292,0,0,0.11,0,CnC,2019-11-01,2021-10-31,2021-12-02\\n00180124ES,10,0.5108256714497054,700,1.0,38242.07833333333,40091.653181818176,0.9538663362147501,470.2857142857143,447.89285714285717,1.049996013077107,4.952299717083292,0,0,0.11,0,CnC,2019-11-01,2021-10-31,2021-12-02\\n00180124ES,5,0.4054651081081644,575,1.0,20479.879999999997,20333.3475,1.0072065113725124,482.14285714285717,451.60714285714283,1.0676156583629894,4.828073718265662,0,0,0.11,0,CnC,2019-11-01,2021-10-31,2021-12-02\\n00180124ES,8,0.0,645,1.0,24508.906666666662,20826.40208333333,1.1768190476971687,492.7142857142857,454.07142857142856,1.0851030360232814,4.952299717083292,0,0,0.11,0,CnC,2019-11-01,2021-10-31,2021-12-02\\n00180124ES,4,0.0,526,1.0,22599.754999999994,21254.304090909092,1.0633025152616677,350.7142857142857,350.0357142857143,1.0019385776961536,4.828073718265662,0,0,0.11,0,CnC,2019-11-01,2021-10-31,2021-12-02\\n00180124ES,5,0.28768210225410284,575,1.0,19216.341666666664,18640.277916666666,1.0309042468452108,482.14285714285717,451.60714285714283,1.0676156583629894,4.828073718265662,0,0,0.11,0,CnC,2019-11-01,2021-10-31,2021-12-02\\n00180124ES,10,0.1541506457674607,708,1.0,18142.47,18622.711250000004,0.9742120659256851,505.42857142857144,458.2857142857143,1.10286783042394,4.952299717083292,0,0,0.11,0,CnC,2019-11-01,2021-10-31,2021-12-02\\n00180124ES,2,0.2513144150354294,484,1.0,30649.018571428573,29903.04964285714,1.0249462492113952,441.14285714285717,337.5357142857143,1.3069516453285368,4.825200314083294,0,0,0.11,0,CnC,2019-11-01,2021-10-31,2021-12-02\\n00180124RO,5,0.2513144150354294,196,1.0,5171.748571428572,1611.3938461538464,3.2094876021605483,28.285714285714285,9.961538461538462,2.839492553778268,6.572688024149897,0,0,0.13,0,CnC,2019-11-01,2021-10-31,2021-12-02\\n00180124CZ,1,0.0,71,1.0,51347.46,66091.55833333335,0.7769140461332238,235.71428571428572,304.9166666666667,0.7730449381173623,8.589123060803518,0,0,0.18,0,CnC,2019-11-01,2021-10-31,2021-12-02\\n00180124CZ,11,0.0,379,1.0,1323.5714285714287,12406.212222222224,0.10668618308822933,4.571428571428571,54.0,0.08465608465608465,8.589123060803518,0,0,0.18,0,CnC,2019-11-01,2021-10-31,2021-12-02\\n00180124ES,8,0.28768210225410284,273,1.0,19967.498333333333,20502.511199999997,0.9739050079549931,769.4285714285714,854.6785714285714,0.9002548995027371,4.828073718265662,0,0,0.11,0,CnC,2019-11-01,2021-10-31,2021-12-02\\n00180124ES,9,1.2729656662761442,309,1.0,59300.83857142857,50461.54607142858,1.1751688798335256,927.2857142857143,857.7142857142857,1.0811125916055964,4.8247875079255,0,0,0.11,0,CnC,2019-11-01,2021-10-31,2021-12-02\\n00180124ES,12,0.6931471805599453,42,1.0,42535.86833333333,36909.58652173913,1.1524341598430103,880.8571428571429,955.1071428571429,0.9222600306622294,4.828073718265662,0,0,0.11,0,CnC,2019-11-01,2021-10-31,2021-12-02\\n00180124ES,8,0.28768210225410284,651,1.0,35169.235,35337.85608695652,0.9952283158734477,459.42857142857144,451.89285714285717,1.0166758871413895,4.952299717083292,0,0,0.11,0,CnC,2019-11-01,2021-10-31,2021-12-02\\n00180124ES,2,0.8266785135798214,484,1.0,34795.16571428571,32512.75221428571,1.070200562688665,441.14285714285717,337.5357142857143,1.3069516453285368,4.828073718265662,0,0,0.11,0,CnC,2019-11-01,2021-10-31,2021-12-02\\n00180124ES,9,1.2039727804840779,323,1.0,50152.61666666667,52480.794791666674,0.9556375216068623,826.2857142857143,845.6785714285714,0.9770682883567718,4.828073718265662,0,0,0.11,0,CnC,2019-11-01,2021-10-31,2021-12-02\\n00180124ES,11,0.4054651081081644,386,1.0,17855.793333333335,33957.60541666667,0.5258260443938595,373.14285714285717,444.14285714285717,0.8401415246059827,4.828073718265662,0,0,0.11,0,CnC,2019-11-01,2021-10-31,2021-12-02\\n00180124ES,4,0.0,167,1.0,14.333333333333334,10.75,1.3333333333333335,6.5,3.25,2.0,4.828073718265662,0,0,0.11,0,CnC,2019-11-01,2021-10-31,2021-12-02\\n00180124ES,12,0.7731898148739162,57,1.0,17607.594999999998,18623.338333333337,0.945458579168092,872.1666666666666,912.2592592592592,0.9560513174454955,4.827553438582839,0,0,0.11,0,CnC,2019-11-01,2021-10-31,2021-12-02\\n00180124ES,9,1.0296194001512595,316,1.0,45131.452,44127.17173913042,1.0227587724589886,762.4285714285714,835.2142857142857,0.9128538441802788,4.828073718265662,0,0,0.11,0,CnC,2019-11-01,2021-10-31,2021-12-02\\n00180124ES,4,0.0,543,1.0,22366.605,25087.18304347826,0.8915550606553448,412.7142857142857,364.9642857142857,1.1308347196398865,4.828073718265662,0,0,0.11,0,CnC,2019-11-01,2021-10-31,2021-12-02\\n00180124ES,5,0.4054651081081644,560,1.0,27473.859999999997,22799.40652173913,1.205025226152435,491.57142857142856,420.32142857142856,1.1695131277083863,4.828073718265662,0,0,0.11,0,CnC,2019-11-01,2021-10-31,2021-12-02\\n00180124ES,5,0.0,569,1.0,24162.036,23747.10454545455,1.0174729282785286,448.42857142857144,446.82142857142856,1.003596834785389,4.828073718265662,0,0,0.11,0,CnC,2019-11-01,2021-10-31,2021-12-02\\n00180124RO,4,0.0,154,1.0,266.42857142857144,10186.051428571427,0.026156216989171192,1.7142857142857142,47.32142857142857,0.036226415094339624,6.572688024149897,0,0,0.13,0,CnC,2019-11-01,2021-10-31,2021-12-02\\n00180124RO,4,0.1335314373280052,537,1.0,21069.307142857142,18725.58928571429,1.125161233720472,78.14285714285714,55.464285714285715,1.4088860270444301,6.572688024149897,0,0,0.13,0,CnC,2019-11-01,2021-10-31,2021-12-02\\n00180124CZ,6,0.1335314373280052,582,1.0,36279.33,47040.96962962964,0.7712283629704092,188.42857142857142,200.88888888888889,0.9379740834386852,8.589123060803518,0,0,0.18,0,CnC,2019-11-01,2021-10-31,2021-12-02\\n00180124ES,5,1.0414539309266488,210,1.0,23317.933333333334,6612.436363636364,3.5263754614812126,288.7142857142857,95.0,3.039097744360902,4.828073718265662,0,0,0.11,0,CnC,2019-11-01,2021-10-31,2021-12-02\\n00180124ES,12,0.7884573820386862,406,1.0,34354.466,25368.51695652174,1.3542165692570434,515.8571428571429,447.89285714285717,1.1517422853042023,4.828073718265662,0,0,0.11,0,CnC,2019-11-01,2021-10-31,2021-12-02\\n00180124ES,12,0.1541506457674607,57,1.0,17623.811666666665,18172.0975,0.9698281481632302,872.1666666666666,912.2592592592592,0.9560513174454955,4.828073718265662,0,0,0.11,0,CnC,2019-11-01,2021-10-31,2021-12-02\\n00180124ES,12,0.8266785135798214,50,1.0,29881.02571428571,32493.728518518525,0.919593628575317,863.4285714285714,961.0,0.8984688568455478,4.828073718265662,0,0,0.11,0,CnC,2019-11-01,2021-10-31,2021-12-02\\n00180124ES,5,0.0,560,1.0,36875.572,24442.78090909091,1.5086487964340018,483.42857142857144,418.25,1.1558363931346598,4.828073718265662,0,0,0.11,0,CnC,2019-11-01,2021-10-31,2021-12-02\\n00180124ES,6,0.28768210225410284,596,1.0,33062.555,34678.79125,0.9533941007819873,416.14285714285717,467.4642857142857,0.8902131560852625,4.828073718265662,0,0,0.11,0,CnC,2019-11-01,2021-10-31,2021-12-02\\n00180124ES,9,0.5108256714497054,673,1.0,40725.49833333333,37330.89833333334,1.0909327166383485,432.57142857142856,431.82142857142856,1.0017368290463982,4.952299717083292,0,0,0.11,0,CnC,2019-11-01,2021-10-31,2021-12-02\\n00180124ES,12,1.1526795350350776,63,1.0,48377.58666666667,42468.5208,1.1391399030471216,899.1666666666666,878.3846153846154,1.0236593980792246,4.828073718265662,0,0,0.11,0,CnC,2019-11-01,2021-10-31,2021-12-02\\n00180124ES,5,0.0,196,1.0,227.16666666666666,188.73684210526315,1.203615913738613,20.0,13.0,1.5384615384615385,4.828073718265662,0,0,0.11,0,CnC,2019-11-01,2021-10-31,2021-12-02\\n00180124ES,2,0.9808291934070796,483,1.0,36536.046666666676,33388.57208333334,1.0942680200721873,441.14285714285717,337.5357142857143,1.3069516453285368,4.828073718265662,0,0,0.11,0,CnC,2019-11-01,2021-10-31,2021-12-02\\n00180124ES,7,0.6190392450860042,252,1.0,48362.16142857143,54180.23500000001,0.8926163097773833,956.1428571428571,1037.0714285714287,0.92196432261175,4.828073718265662,0,0,0.11,0,CnC,2019-11-01,2021-10-31,2021-12-02\\n00180124ES,12,0.18232159653038368,421,1.0,18562.093333333334,14909.928695652174,1.2449484978922907,497.8333333333333,525.5925925925926,0.9471848354590937,4.823261015749609,0,0,0.11,0,CnC,2019-11-01,2021-10-31,2021-12-02\\n00180124ES,10,0.28768210225410284,722,1.0,29387.758333333335,33232.17583333333,0.8843164071085627,452.42857142857144,480.67857142857144,0.9412289174530054,4.952299717083292,0,0,0.11,0,CnC,2019-11-01,2021-10-31,2021-12-02\\n00180124ES,5,0.0,211,1.0,349.7142857142857,314.3636363636364,1.11245145831612,288.7142857142857,95.0,3.039097744360902,4.828073718265662,0,0,0.11,0,CnC,2019-11-01,2021-10-31,2021-12-02\\n00180124RO,7,0.1335314373280052,245,1.0,28644.38857142857,32093.964999999997,0.8925163522621332,92.0,115.64285714285714,0.7955528103767758,6.572688024149897,0,0,0.13,0,CnC,2019-11-01,2021-10-31,2021-12-02\\n00180124CZ,8,0.1335314373280052,288,1.0,33882.60142857143,38108.81357142855,0.8891014506411803,172.28571428571428,155.85714285714286,1.1054078826764435,8.589123060803518,0,0,0.18,0,CnC,2019-11-01,2021-10-31,2021-12-02\\n00180124CZ,9,0.2513144150354294,687,1.0,34777.58857142857,36649.95285714286,0.948912232083557,125.42857142857143,150.96428571428572,0.8308493021055121,8.663217245290781,0,0,0.18,0,CnC,2019-11-01,2021-10-31,2021-12-02\\n00180124ES,6,0.4054651081081644,603,1.0,23187.641666666663,23497.55875,0.9868106688600858,466.85714285714283,463.64285714285717,1.006932676012941,4.828073718265662,0,0,0.11,0,CnC,2019-11-01,2021-10-31,2021-12-02\\n00180124ES,11,0.28768210225410284,386,1.0,5130.166666666667,10951.086666666664,0.4684618817128043,373.14285714285717,444.14285714285717,0.8401415246059827,4.828073718265662,0,0,0.11,0,CnC,2019-11-01,2021-10-31,2021-12-02\\n00180124ES,12,1.252762968495368,50,1.0,39823.24333333334,45187.20250000001,0.8812947279339396,863.4285714285714,961.0,0.8984688568455478,4.828073718265662,0,0,0.11,0,CnC,2019-11-01,2021-10-31,2021-12-02\\n00180124ES,9,0.5877866384111654,329,1.0,54604.06999999999,54609.88818181819,0.9998934591882183,764.4285714285714,820.1071428571429,0.9321081740190742,4.828073718265662,0,0,0.11,0,CnC,2019-11-01,2021-10-31,2021-12-02\\n00180124ES,10,0.6061357602214821,701,1.0,30163.398333333334,32360.603333333336,0.932102471101435,470.2857142857143,447.89285714285717,1.049996013077107,4.819044223224773,0,0,0.11,0,CnC,2019-11-01,2021-10-31,2021-12-02\\n00180124HR,7,0.2513144150354294,266,1.0,27473.604285714282,28745.857857142855,0.9557413253154162,43.142857142857146,56.142857142857146,0.7684478371501272,7.155396301896734,0,0,0.3,0,CnC,2019-11-01,2021-10-31,2021-12-02\\n00180124HR,8,0.6931471805599453,644,1.0,26926.75857142857,28286.9,0.9519162075529156,50.42857142857143,45.67857142857143,1.1039874902267397,7.0909098220799835,0,0,0.3,0,CnC,2019-11-01,2021-10-31,2021-12-02\\n00180124CZ,10,0.1335314373280052,344,1.0,39208.03428571428,39218.28444444444,0.9997386382684669,165.71428571428572,196.40740740740742,0.8437272702782791,8.589123060803518,0,0,0.18,0,CnC,2019-11-01,2021-10-31,2021-12-02\\n00180124CZ,3,0.0,498,1.0,721.0,536.1785714285714,1.3447012589089455,3.5714285714285716,4.392857142857143,0.8130081300813008,8.589123060803518,0,0,0.18,0,CnC,2019-11-01,2021-10-31,2021-12-02\\n00180124CZ,10,0.1541506457674607,729,1.0,47773.80333333334,37872.571851851855,1.261435413475817,210.66666666666666,186.85185185185185,1.1274529236868187,8.663217245290781,0,0,0.18,0,CnC,2019-11-01,2021-10-31,2021-12-02\\n00180124CZ,10,0.0,348,1.0,25138.335714285717,22989.083333333332,1.0934901296319217,209.0,198.66666666666666,1.052013422818792,8.589123060803518,0,0,0.18,0,CnC,2019-11-01,2021-10-31,2021-12-02\\n00180124CZ,10,0.45198510206864073,344,1.0,51569.934285714284,50192.590740740736,1.0274411725843746,165.71428571428572,196.40740740740742,0.8437272702782791,8.589123060803518,0,0,0.18,0,CnC,2019-11-01,2021-10-31,2021-12-02\\n00180124ES,7,0.6190392450860042,617,1.0,33519.70571428571,33738.170399999995,0.993524702640239,538.0,476.60714285714283,1.128812289246909,4.952299717083292,0,0,0.11,0,CnC,2019-11-01,2021-10-31,2021-12-02\\n00180124ES,4,1.0296194001512595,519,1.0,49353.802,41027.977391304354,1.2029304181702183,346.0,345.2857142857143,1.002068680182044,4.812070528252366,0,0,0.11,0,CnC,2019-11-01,2021-10-31,2021-12-02\\n00180124ES,6,1.5404451090667406,217,1.0,47229.823333333334,13075.830833333333,3.6119940625825113,582.1666666666666,221.88888888888889,2.6236855282924387,4.822268831253255,0,0,0.11,0,CnC,2019-11-01,2021-10-31,2021-12-02\\n00180124ES,10,0.8109302162163288,726,1.0,36656.93166666667,39954.14260869566,0.9174751170530341,461.42857142857144,482.2857142857143,0.9567535545023698,4.952299717083292,0,0,0.11,0,CnC,2019-11-01,2021-10-31,2021-12-02\\n00180124ES,11,0.1541506457674607,393,1.0,447.0,2679.8145833333333,0.1668025850669084,402.14285714285717,390.60714285714283,1.0295327786413095,4.828073718265662,0,0,0.11,0,CnC,2019-11-01,2021-10-31,2021-12-02\\n00180124ES,4,0.0,519,1.0,194.2,11661.871739130434,0.01665255838377798,346.0,345.2857142857143,1.002068680182044,4.828073718265662,0,0,0.11,0,CnC,2019-11-01,2021-10-31,2021-12-02\\n00180124ES,4,0.28768210225410284,540,1.0,19252.533333333333,11860.65909090909,1.6232262630404695,341.85714285714283,350.57142857142856,0.9751426242868786,4.828073718265662,0,0,0.11,0,CnC,2019-11-01,2021-10-31,2021-12-02\\n00180124ES,10,0.8472979285067953,358,1.0,34363.299999999996,39395.8892,0.8722559814692543,542.1428571428571,657.2142857142857,0.8249103358330616,4.828073718265662,0,0,0.11,0,CnC,2019-11-01,2021-10-31,2021-12-02\\n00180124ES,12,0.5389965106667944,407,1.0,24785.359999999997,18836.04076923077,1.3158476509823451,515.8571428571429,447.89285714285717,1.1517422853042023,4.828073718265662,0,0,0.11,0,CnC,2019-11-01,2021-10-31,2021-12-02\\n00180124ES,7,0.0,638,1.0,25775.04,25390.25214285715,1.0151549443061005,427.57142857142856,465.39285714285717,0.918732253856189,4.952299717083292,0,0,0.11,0,CnC,2019-11-01,2021-10-31,2021-12-02\\n00180124HR,11,0.5389965106667944,385,1.0,39346.03714285714,32163.466296296294,1.2233145762460291,61.42857142857143,55.51851851851852,1.1064519203278376,7.155396301896734,0,0,0.3,0,CnC,2019-11-01,2021-10-31,2021-12-02\\n00180124RO,8,0.1335314373280052,294,1.0,34597.305714285714,31380.246428571427,1.102518611287424,52.285714285714285,69.82142857142857,0.7488491048593351,6.572688024149897,0,0,0.13,0,CnC,2019-11-01,2021-10-31,2021-12-02\\n00180124RO,4,0.1335314373280052,518,1.0,24514.441428571434,29852.857500000002,0.8211757091786417,35.714285714285715,51.214285714285715,0.697350069735007,6.572688024149897,0,0,0.13,0,CnC,2019-11-01,2021-10-31,2021-12-02\\n00180124RO,5,0.0,574,1.0,30865.748571428565,31158.875000000007,0.9905925220800994,56.857142857142854,46.07692307692308,1.2339613641783924,6.572688024149897,0,0,0.13,0,CnC,2019-11-01,2021-10-31,2021-12-02\\n00180124RO,6,0.1335314373280052,595,1.0,33621.63428571428,32806.719999999994,1.024839858593431,49.714285714285715,52.32142857142857,0.9501706484641639,6.572688024149897,0,0,0.13,0,CnC,2019-11-01,2021-10-31,2021-12-02\\n00180124RO,12,0.18232159653038368,423,1.0,27080.536,27036.43923076923,1.0016310124589405,92.0,109.76923076923077,0.8381219341275402,6.572688024149897,0,0,0.13,0,CnC,2019-11-01,2021-10-31,2021-12-02\\n00180124CZ,1,0.0,442,1.0,625.5714285714286,10375.309583333334,0.060294242166646535,14.428571428571429,82.83333333333333,0.1741879850531762,8.589123060803518,0,0,0.18,0,CnC,2019-11-01,2021-10-31,2021-12-02\\n00180124CZ,5,0.2513144150354294,558,1.0,30964.89833333333,7115.162592592592,4.351959344621312,191.0,47.03703703703704,4.060629921259842,8.589123060803518,0,0,0.18,0,CnC,2019-11-01,2021-10-31,2021-12-02\\n00180124ES,7,0.28768210225410284,259,1.0,21215.421666666665,23438.95192307693,0.905135252475983,924.7142857142857,1015.8928571428571,0.9102478467217437,4.828073718265662,0,0,0.11,0,CnC,2019-11-01,2021-10-31,2021-12-02\\n00180124ES,1,1.0498221483405352,456,1.0,36489.68142857143,30289.56439999999,1.204694823163962,317.85714285714283,356.1111111111111,0.8925785602852685,4.827479099538305,0,0,0.11,0,CnC,2019-11-01,2021-10-31,2021-12-02\\n00180124ES,2,1.6094379124341003,120,1.0,46970.042,42394.38434782609,1.1079307489084587,757.4285714285714,795.6785714285714,0.9519278244086359,4.828073718265662,0,0,0.11,0,CnC,2019-11-01,2021-10-31,2021-12-02\\n00180124ES,1,0.9162907318741551,70,1.0,40035.07166666667,49634.34249999999,0.8066002217449879,671.0,827.92,0.8104647792057204,4.826752521680567,0,0,0.11,0,CnC,2019-11-01,2021-10-31,2021-12-02\\n00180124ES,2,0.7731898148739162,112,1.0,42327.238333333335,45235.197916666664,0.9357146709363262,776.2857142857143,809.4285714285714,0.9590540063536888,4.828073718265662,0,0,0.11,0,CnC,2019-11-01,2021-10-31,2021-12-02\\n00180124ES,9,0.4054651081081644,673,1.0,38224.10999999999,38937.63208333334,0.9816752574525774,432.57142857142856,431.82142857142856,1.0017368290463982,4.906027601007681,0,0,0.11,0,CnC,2019-11-01,2021-10-31,2021-12-02\\n00180124ES,10,0.0,700,1.0,20664.841666666664,22874.83083333334,0.9033877372572187,470.2857142857143,447.89285714285717,1.049996013077107,4.952299717083292,0,0,0.11,0,CnC,2019-11-01,2021-10-31,2021-12-02\\n00180124RO,3,0.0,495,1.0,20072.481428571427,21620.92714285714,0.9283820853724457,59.857142857142854,66.60714285714286,0.8986595174262734,6.572688024149897,0,0,0.13,0,CnC,2019-11-01,2021-10-31,2021-12-02\\n00180124RO,7,0.18232159653038368,628,1.0,17069.984285714287,16510.847142857143,1.033864836735469,35.57142857142857,36.535714285714285,0.9736070381231672,6.512146466906872,0,0,0.13,0,CnC,2019-11-01,2021-10-31,2021-12-02\\n00180124ES,1,0.1541506457674607,448,1.0,637.0,14106.719583333332,0.045155785243834894,322.57142857142856,422.65384615384613,0.7632047632047632,4.81687521406868,0,0,0.11,0,CnC,2019-11-01,2021-10-31,2021-12-02\\n00180124ES,10,0.8266785135798214,337,1.0,50378.932857142856,51593.74357142857,0.9764543018165783,788.7142857142857,785.4642857142857,1.0041376801709634,4.8274219212955645,0,0,0.11,0,CnC,2019-11-01,2021-10-31,2021-12-02\\n00180124ES,11,0.6931471805599453,393,1.0,39996.62,43401.073214285716,0.9215583172914462,402.14285714285717,390.60714285714283,1.0295327786413095,4.8246842950684306,0,0,0.11,0,CnC,2019-11-01,2021-10-31,2021-12-02\\n00180124ES,3,0.2513144150354294,512,1.0,35026.095714285715,39565.142857142855,0.8852766143358513,355.2857142857143,349.67857142857144,1.0160351343070166,4.828073718265662,0,0,0.11,0,CnC,2019-11-01,2021-10-31,2021-12-02\\n00180124ES,12,0.7731898148739162,421,1.0,35571.71,40434.67555555556,0.8797327915028267,497.8333333333333,525.5925925925926,0.9471848354590937,4.827313236968718,0,0,0.11,0,CnC,2019-11-01,2021-10-31,2021-12-02\\n00180124ES,4,0.5108256714497054,532,1.0,9026.310000000001,10092.810454545455,0.8943306763414804,363.7142857142857,353.92857142857144,1.027648839556004,4.828073718265662,0,0,0.11,0,CnC,2019-11-01,2021-10-31,2021-12-02\\n00180124ES,11,0.1541506457674607,8,1.0,18637.831666666665,19199.730000000003,0.970734050253137,874.0,859.75,1.0165745856353592,4.828073718265662,0,0,0.11,0,CnC,2019-11-01,2021-10-31,2021-12-02\\n00180124ES,1,0.28768210225410284,78,1.0,15685.861666666666,15863.827083333335,0.9887816845372929,802.0,810.72,0.989244128675745,4.828073718265662,0,0,0.11,0,CnC,2019-11-01,2021-10-31,2021-12-02\\n00180124ES,10,0.1541506457674607,701,1.0,18721.768333333333,18990.015600000002,0.9858742998259218,470.2857142857143,447.89285714285717,1.049996013077107,4.952299717083292,0,0,0.11,0,CnC,2019-11-01,2021-10-31,2021-12-02\\n00180124ES,7,0.1541506457674607,631,1.0,23651.558571428566,25292.521428571432,0.9351206299547039,427.85714285714283,479.85714285714283,0.8916344150044656,4.952299717083292,0,0,0.11,0,CnC,2019-11-01,2021-10-31,2021-12-02\\n00180124ES,6,0.5108256714497054,222,1.0,29480.60166666667,17146.88181818182,1.71929811958036,852.7142857142857,394.7037037037037,2.16039088995831,4.828073718265662,0,0,0.11,0,CnC,2019-11-01,2021-10-31,2021-12-02\\n00180124ES,8,0.28768210225410284,658,1.0,26261.194999999996,26395.625833333328,0.9949070791432584,412.7142857142857,448.10714285714283,0.9210169761696023,4.952299717083292,0,0,0.11,0,CnC,2019-11-01,2021-10-31,2021-12-02\\n00180124CZ,11,0.0,379,1.0,531.4271428571428,9625.917777777779,0.05520794537472427,4.571428571428571,54.0,0.08465608465608465,8.589123060803518,0,0,0.18,0,CnC,2019-11-01,2021-10-31,2021-12-02\\n00180124CZ,5,0.1335314373280052,568,1.0,57590.822857142855,26265.70592592593,2.1926242157572102,257.2857142857143,112.81481481481481,2.280602194916049,8.589123060803518,0,0,0.18,0,CnC,2019-11-01,2021-10-31,2021-12-02\\n00180124CZ,1,0.0,75,1.0,22655.882857142857,24292.86791666667,0.9326145819777532,212.0,263.875,0.8034107058266224,8.589123060803518,0,0,0.18,0,CnC,2019-11-01,2021-10-31,2021-12-02\\n00180124CZ,2,0.0,103,1.0,20377.96,20025.63892857143,1.0175934996473894,228.57142857142858,209.25,1.092336576207544,8.589123060803518,0,0,0.18,0,CnC,2019-11-01,2021-10-31,2021-12-02\\n00180124CZ,5,0.1335314373280052,201,1.0,26199.057142857142,12875.272222222224,2.0348352012036357,213.57142857142858,101.85185185185185,2.096883116883117,8.589123060803518,0,0,0.18,0,CnC,2019-11-01,2021-10-31,2021-12-02\\n00180124CZ,11,0.0,386,1.0,1416.0,1215.6851851851852,1.1647752372537967,5.714285714285714,8.481481481481481,0.6737367436057393,8.589123060803518,0,0,0.18,0,CnC,2019-11-01,2021-10-31,2021-12-02\\n00180124ES,9,1.2039727804840779,308,1.0,51689.47833333333,47713.60333333333,1.083327913262472,927.2857142857143,857.7142857142857,1.0811125916055964,4.828073718265662,0,0,0.11,0,CnC,2019-11-01,2021-10-31,2021-12-02\\n00180124ES,8,0.9808291934070796,294,1.0,39431.6,38999.903333333335,1.0110691727355563,784.4285714285714,798.8571428571429,0.9819384835479256,4.828073718265662,0,0,0.11,0,CnC,2019-11-01,2021-10-31,2021-12-02\\n00180124ES,4,0.6061357602214821,540,1.0,22288.446666666667,25842.078695652177,0.8624866029224114,341.85714285714283,350.57142857142856,0.9751426242868786,4.828073718265662,0,0,0.11,0,CnC,2019-11-01,2021-10-31,2021-12-02\\n00180124ES,9,0.7884573820386862,323,1.0,40292.928,43078.31708333334,0.9353412744062143,826.2857142857143,845.6785714285714,0.9770682883567718,4.827064972079622,0,0,0.11,0,CnC,2019-11-01,2021-10-31,2021-12-02\\n00180124ES,11,0.0,379,1.0,8802.19,22509.422083333324,0.3910446908593631,396.85714285714283,486.39285714285717,0.8159189367794991,4.828073718265662,0,0,0.11,0,CnC,2019-11-01,2021-10-31,2021-12-02\\n00180124ES,11,0.0,393,1.0,9446.199999999999,8635.694166666666,1.0938553192934788,402.14285714285717,390.60714285714283,1.0295327786413095,4.828073718265662,0,0,0.11,0,CnC,2019-11-01,2021-10-31,2021-12-02\\n00180124ES,1,0.1541506457674607,456,1.0,12384.980000000001,27891.258333333342,0.4440452220543413,317.85714285714283,356.1111111111111,0.8925785602852685,4.828073718265662,0,0,0.11,0,CnC,2019-11-01,2021-10-31,2021-12-02\\n00180124ES,9,0.7731898148739162,680,1.0,43256.69166666666,39491.65916666667,1.095337409960681,463.85714285714283,432.92857142857144,1.0714403563768353,4.952299717083292,0,0,0.11,0,CnC,2019-11-01,2021-10-31,2021-12-02\\n00180124ES,7,1.3437347259690442,259,1.0,53023.094999999994,53394.92270833333,0.9930362721870687,924.7142857142857,1015.8928571428571,0.9102478467217437,4.828073718265662,0,0,0.11,0,CnC,2019-11-01,2021-10-31,2021-12-02\\n00180124ES,12,0.28768210225410284,43,1.0,20559.356666666667,18700.872083333332,1.0993795677042066,880.8571428571429,955.1071428571429,0.9222600306622294,4.828073718265662,0,0,0.11,0,CnC,2019-11-01,2021-10-31,2021-12-02\\n00180124ES,8,0.1541506457674607,665,1.0,25147.406666666666,26613.126250000005,0.9449249378083366,422.57142857142856,446.85714285714283,0.9456521739130435,4.952299717083292,0,0,0.11,0,CnC,2019-11-01,2021-10-31,2021-12-02\\n00180124CZ,10,0.2513144150354294,358,1.0,35690.684285714284,41791.344444444454,0.8540209643927557,181.28571428571428,197.03703703703704,0.9200590762620837,8.589123060803518,0,0,0.18,0,CnC,2019-11-01,2021-10-31,2021-12-02\\n00180124CZ,7,0.0,624,1.0,35013.008571428574,33004.0775,1.0608691781016626,129.71428571428572,136.71428571428572,0.9487983281086729,8.589123060803518,0,0,0.18,0,CnC,2019-11-01,2021-10-31,2021-12-02\\n00180124ES,5,0.0,197,1.0,131.42857142857142,91.32,1.4392090607596522,20.0,13.0,1.5384615384615385,4.828073718265662,0,0,0.11,0,CnC,2019-11-01,2021-10-31,2021-12-02\\n00180124ES,5,0.0,194,1.0,397.5,239.11764705882354,1.6623616236162362,20.142857142857142,10.44,1.929392446633826,4.828073718265662,0,0,0.11,0,CnC,2019-11-01,2021-10-31,2021-12-02\\n00180124ES,1,0.0,448,1.0,45.5,19919.545217391307,0.0022841886952456613,322.57142857142856,422.65384615384613,0.7632047632047632,4.828073718265662,0,0,0.11,0,CnC,2019-11-01,2021-10-31,2021-12-02\\n00180124ES,7,0.0,631,1.0,29661.82285714285,30977.089285714283,0.9575406708990573,427.85714285714283,479.85714285714283,0.8916344150044656,4.952299717083292,0,0,0.11,0,CnC,2019-11-01,2021-10-31,2021-12-02\\n00180124ES,10,0.5108256714497054,336,1.0,48273.40333333333,52362.3909090909,0.9219098382490464,788.7142857142857,785.4642857142857,1.0041376801709634,4.828073718265662,0,0,0.11,0,CnC,2019-11-01,2021-10-31,2021-12-02\\n00180124ES,11,0.6931471805599453,22,1.0,34408.47833333333,35466.17736842105,0.9701772473503308,839.8571428571429,859.9090909090909,0.976681316357815,4.828073718265662,0,0,0.11,0,CnC,2019-11-01,2021-10-31,2021-12-02\\n00180124ES,9,0.1541506457674607,694,1.0,18407.911666666667,19730.186800000003,0.9329821280083705,423.14285714285717,438.4642857142857,0.9650566099209905,4.952299717083292,0,0,0.11,0,CnC,2019-11-01,2021-10-31,2021-12-02\\n00180124ES,8,0.5389965106667944,288,1.0,32165.458571428568,31351.026071428576,1.0259778578903425,852.4285714285714,794.8571428571429,1.072429906542056,4.8206156034558,0,0,0.11,0,CnC,2019-11-01,2021-10-31,2021-12-02\\n00180124ES,12,0.4054651081081644,421,1.0,30199.201666666664,33888.375555555554,0.8911374821480902,497.8333333333333,525.5925925925926,0.9471848354590937,4.828073718265662,0,0,0.11,0,CnC,2019-11-01,2021-10-31,2021-12-02\\n00180124RO,8,0.1335314373280052,642,1.0,17948.498571428572,17188.27714285714,1.044229065092039,70.85714285714286,46.0,1.5403726708074534,6.512146466906872,0,0,0.13,0,CnC,2019-11-01,2021-10-31,2021-12-02\\n00180124CZ,5,0.0,204,1.0,58913.64,27603.66962962963,2.1342684067180118,213.57142857142858,101.85185185185185,2.096883116883117,8.589123060803518,0,0,0.18,0,CnC,2019-11-01,2021-10-31,2021-12-02\\n00180124ES,5,0.35667496778059,568,1.0,34343.87,36648.21592592593,0.9371225619663583,432.14285714285717,442.89285714285717,0.9757277638900089,4.828073718265662,0,0,0.11,0,CnC,2019-11-01,2021-10-31,2021-12-02\\n00180124ES,2,0.0,462,1.0,6.333333333333333,1891.5416666666667,0.0033482388704099385,295.57142857142856,300.5357142857143,0.9834818775995247,4.828073718265662,0,0,0.11,0,CnC,2019-11-01,2021-10-31,2021-12-02\\n00180124ES,11,1.0414539309266488,7,1.0,36805.73833333334,36805.73833333334,1.0,874.0,859.75,1.0165745856353592,4.828073718265662,0,0,0.11,0,CnC,2019-11-01,2021-10-31,2021-12-02\\n00180124ES,4,0.0,159,1.0,4.333333333333333,4572.6575,9.476619084926725E-4,0.0,262.0,0.0,4.828073718265662,0,0,0.11,0,CnC,2019-11-01,2021-10-31,2021-12-02\\n00180124ES,7,0.35667496778059,246,1.0,35101.03428571428,37858.64041666666,0.9271604552989074,1047.857142857143,1043.7857142857142,1.0039006364196263,4.828073718265662,0,0,0.11,0,CnC,2019-11-01,2021-10-31,2021-12-02\\n00180124ES,10,0.6061357602214821,729,1.0,31110.795,32139.196956521737,0.9680016287303951,459.7142857142857,478.0357142857143,0.9616735151288757,4.951580947795025,0,0,0.11,0,CnC,2019-11-01,2021-10-31,2021-12-02\\n00180124ES,7,0.35667496778059,617,1.0,43595.788571428566,42839.7724,1.017647530065509,538.0,476.60714285714283,1.128812289246909,4.935470307545066,0,0,0.11,0,CnC,2019-11-01,2021-10-31,2021-12-02\\n00180124ES,11,2.302585092994046,0,1.0,0.0,0.0,0.0,760.0,760.0,1.0,4.828073718265662,0,0,0.11,0,CnC,2019-11-01,2021-10-31,2021-12-02\\n00180124ES,9,0.47000364414689666,309,1.0,29424.884,26527.721304347826,1.1092126482487334,927.2857142857143,857.7142857142857,1.0811125916055964,4.828073718265662,0,0,0.11,0,CnC,2019-11-01,2021-10-31,2021-12-02\\n00180124ES,11,1.1526795350350776,15,1.0,34370.92833333334,35954.34615384615,0.9559603221892152,880.1428571428571,869.2666666666667,1.0125119148050354,4.827473357426562,0,0,0.11,0,CnC,2019-11-01,2021-10-31,2021-12-02\\n00180124ES,1,0.6931471805599453,85,1.0,28556.456666666665,30629.214,0.9323274396354626,724.1428571428571,773.2307692307693,0.9365158319595247,4.828073718265662,0,0,0.11,0,CnC,2019-11-01,2021-10-31,2021-12-02\\n00180124ES,10,0.8472979285067953,336,1.0,26648.350000000002,28271.748749999995,0.9425787642513627,788.7142857142857,785.4642857142857,1.0041376801709634,4.828073718265662,0,0,0.11,0,CnC,2019-11-01,2021-10-31,2021-12-02\\n00180124HR,12,0.875468777090329,56,1.0,43158.630000000005,41900.76615384616,1.030020067927526,122.6,136.80769230769232,0.8961484396963733,7.155396301896734,0,0,0.3,0,CnC,2019-11-01,2021-10-31,2021-12-02\\n00180124HR,3,0.5389965106667944,497,1.0,29791.924285714285,29021.167142857154,1.0265584474622633,68.85714285714286,52.714285714285715,1.3062330623306233,7.155396301896734,0,0,0.3,0,CnC,2019-11-01,2021-10-31,2021-12-02\\n00180124HR,10,1.0498221483405352,721,1.0,24915.625714285707,27312.356071428574,0.9122473963478352,57.285714285714285,57.67857142857143,0.993188854489164,7.0909098220799835,0,0,0.3,0,CnC,2019-11-01,2021-10-31,2021-12-02\\n00180124RO,2,0.1335314373280052,469,1.0,34365.94428571428,34202.39642857143,1.0047817660228693,70.85714285714286,80.10714285714286,0.8845296477931343,6.572688024149897,0,0,0.13,0,CnC,2019-11-01,2021-10-31,2021-12-02\\n00180124RO,2,0.1335314373280052,110,1.0,21271.61857142857,19248.74892857143,1.1050909672292801,125.14285714285714,119.42857142857143,1.0478468899521531,6.572688024149897,0,0,0.13,0,CnC,2019-11-01,2021-10-31,2021-12-02\\n00180124CZ,8,0.0,278,1.0,20232.838571428572,21303.982857142866,0.9497209374933778,150.85714285714286,160.39285714285714,0.9405477621910489,8.589123060803518,0,0,0.18,0,CnC,2019-11-01,2021-10-31,2021-12-02\\n00180124CZ,9,0.2513144150354294,320,1.0,19357.104285714282,21173.92107142857,0.9141955436791609,200.28571428571428,156.46428571428572,1.2800730426843185,8.589123060803518,0,0,0.18,0,CnC,2019-11-01,2021-10-31,2021-12-02\\n00180124ES,8,1.3121863614563323,281,1.0,46171.69285714285,44670.78928571428,1.033599217641506,789.1428571428571,812.9285714285714,0.9707407081978736,4.827364739783285,0,0,0.11,0,CnC,2019-11-01,2021-10-31,2021-12-02\\n00180124ES,8,0.6931471805599453,273,1.0,38171.9175,38618.66909090909,0.9884317196468521,769.4285714285714,854.6785714285714,0.9002548995027371,4.828073718265662,0,0,0.11,0,CnC,2019-11-01,2021-10-31,2021-12-02\\n00180124ES,5,0.0,189,1.0,325.2,253.4,1.2833464877663772,19.166666666666668,7.5,2.555555555555556,4.828073718265662,0,0,0.11,0,CnC,2019-11-01,2021-10-31,2021-12-02\\n00180124ES,12,0.6190392450860042,400,1.0,41106.48142857143,39701.081785714276,1.0353995301801289,500.42857142857144,418.14285714285717,1.1967885206696276,4.828073718265662,0,0,0.11,0,CnC,2019-11-01,2021-10-31,2021-12-02\\n00180124ES,4,0.0,175,1.0,53.8,29.88888888888889,1.7999999999999998,2.2,2.8461538461538463,0.772972972972973,4.828073718265662,0,0,0.11,0,CnC,2019-11-01,2021-10-31,2021-12-02\\n00180124ES,5,0.9162907318741551,211,1.0,19473.454999999998,5623.038571428572,3.463155152260076,288.7142857142857,95.0,3.039097744360902,4.828073718265662,0,0,0.11,0,CnC,2019-11-01,2021-10-31,2021-12-02\\n00180124ES,12,0.3364722195913143,413,1.0,20886.935,9304.059565217392,2.2449270507773207,581.7142857142857,490.85714285714283,1.1850989522700814,4.828073718265662,0,0,0.11,0,CnC,2019-11-01,2021-10-31,2021-12-02\\n00180124ES,1,0.45198510206864073,77,1.0,17916.821428571428,19263.718260869562,0.9300811601343812,802.0,810.72,0.989244128675745,4.828073718265662,0,0,0.11,0,CnC,2019-11-01,2021-10-31,2021-12-02\\n00180124HR,2,0.5389965106667944,462,1.0,30665.019999999993,30138.40392857143,1.0174732568014102,57.857142857142854,52.964285714285715,1.0923803101820633,7.155396301896734,0,0,0.3,0,CnC,2019-11-01,2021-10-31,2021-12-02\\n00180124RO,10,0.6931471805599453,727,1.0,17753.045714285712,20475.24321428571,0.8670493204153636,71.14285714285714,72.60714285714286,0.9798327594687652,6.512146466906872,0,0,0.13,0,CnC,2019-11-01,2021-10-31,2021-12-02\\n00180124CZ,3,0.35667496778059,134,1.0,45608.291428571436,50590.43607142858,0.9015200296786756,196.28571428571428,214.5,0.9150849150849151,8.589123060803518,0,0,0.18,0,CnC,2019-11-01,2021-10-31,2021-12-02\\n00180124CZ,9,0.0,323,1.0,43700.23285714286,48635.1257142857,0.8985323306012695,200.28571428571428,156.46428571428572,1.2800730426843185,8.589123060803518,0,0,0.18,0,CnC,2019-11-01,2021-10-31,2021-12-02\\n00180124ES,8,0.28768210225410284,280,1.0,21754.863333333335,20636.772083333333,1.054179560906378,789.1428571428571,812.9285714285714,0.9707407081978736,4.828073718265662,0,0,0.11,0,CnC,2019-11-01,2021-10-31,2021-12-02\\n00180124ES,3,1.0498221483405352,127,1.0,42369.13142857143,38858.06678571429,1.0903561328004086,915.5714285714286,823.2857142857143,1.1120943952802358,4.827559180234768,0,0,0.11,0,CnC,2019-11-01,2021-10-31,2021-12-02\\n00180124ES,7,0.9808291934070796,252,1.0,39687.575,40047.02333333333,0.99102434329909,956.1428571428571,1037.0714285714287,0.92196432261175,4.828073718265662,0,0,0.11,0,CnC,2019-11-01,2021-10-31,2021-12-02\\n00180124ES,12,0.5108256714497054,36,1.0,18197.385,18565.22125,0.98018681032417,1026.857142857143,954.9285714285714,1.0753235096117886,4.827233136573736,0,0,0.11,0,CnC,2019-11-01,2021-10-31,2021-12-02\\n00180124ES,2,0.4054651081081644,106,1.0,18466.258333333335,17740.202916666665,1.0409271201731605,843.8571428571429,796.3928571428571,1.0595990851607697,4.828073718265662,0,0,0.11,0,CnC,2019-11-01,2021-10-31,2021-12-02\\n00180124ES,5,0.22314355131420976,196,1.0,114.0,247.0,0.46153846153846156,22.428571428571427,11.84,1.8943050193050193,4.828073718265662,0,0,0.11,0,CnC,2019-11-01,2021-10-31,2021-12-02\\n00180124ES,11,0.5596157879354227,393,1.0,24255.64,9693.912083333335,2.502151844527508,402.14285714285717,390.60714285714283,1.0295327786413095,4.828073718265662,0,0,0.11,0,CnC,2019-11-01,2021-10-31,2021-12-02\\n00180124ES,4,0.0,174,1.0,0.0,0.0,0.0,2.4,2.9166666666666665,0.8228571428571428,4.828073718265662,0,0,0.11,0,CnC,2019-11-01,2021-10-31,2021-12-02\\n00180124ES,9,0.28768210225410284,679,1.0,28244.490000000005,27491.347083333327,1.0273956352296492,463.85714285714283,432.92857142857144,1.0714403563768353,4.952299717083292,0,0,0.11,0,CnC,2019-11-01,2021-10-31,2021-12-02\\n00180124RO,9,0.45198510206864073,306,1.0,21613.42142857143,21036.631428571425,1.027418363151841,68.28571428571429,65.21428571428571,1.0470974808324207,6.572688024149897,0,0,0.13,0,CnC,2019-11-01,2021-10-31,2021-12-02\\n00180124CZ,12,0.2513144150354294,400,1.0,22794.088571428576,6017.624642857144,3.787888066179886,110.14285714285714,32.392857142857146,3.4002205071664826,8.589123060803518,0,0,0.18,0,CnC,2019-11-01,2021-10-31,2021-12-02\\n00180124CZ,7,0.2513144150354294,631,1.0,35807.93,34396.419285714284,1.0410365597232951,162.28571428571428,142.89285714285714,1.1357160709822545,8.64260167995989,0,0,0.18,0,CnC,2019-11-01,2021-10-31,2021-12-02\\n00180124CZ,10,0.2513144150354294,712,1.0,21569.691428571427,20409.09851851852,1.0568664465507784,178.57142857142858,170.44444444444446,1.047681132426895,8.663217245290781,0,0,0.18,0,CnC,2019-11-01,2021-10-31,2021-12-02\\n00180124ES,11,0.4054651081081644,14,1.0,16976.51,17982.651666666665,0.9440493156784163,880.1428571428571,869.2666666666667,1.0125119148050354,4.828073718265662,0,0,0.11,0,CnC,2019-11-01,2021-10-31,2021-12-02\\n00180124ES,5,0.0,188,1.0,48.0,18.916666666666668,2.5374449339207046,19.166666666666668,7.5,2.555555555555556,4.828073718265662,0,0,0.11,0,CnC,2019-11-01,2021-10-31,2021-12-02\\n00180124ES,9,0.0,672,1.0,20396.998333333333,20100.795652173914,1.01473586848426,432.57142857142856,431.82142857142856,1.0017368290463982,4.946914255568983,0,0,0.11,0,CnC,2019-11-01,2021-10-31,2021-12-02\\n00180124ES,7,1.0414539309266488,267,1.0,50505.901666666665,51264.1216,0.985209540129264,768.4285714285714,924.2857142857143,0.8313755795981452,4.828073718265662,0,0,0.11,0,CnC,2019-11-01,2021-10-31,2021-12-02\\n00180124ES,9,0.6931471805599453,694,1.0,36166.53285714286,38499.63107142857,0.9393994656739152,423.14285714285717,438.4642857142857,0.9650566099209905,4.952299717083292,0,0,0.11,0,CnC,2019-11-01,2021-10-31,2021-12-02\\n00180124ES,5,0.1541506457674607,189,1.0,187.0,133.2941176470588,1.4029126213592233,23.142857142857142,9.217391304347826,2.5107816711590294,4.828073718265662,0,0,0.11,0,CnC,2019-11-01,2021-10-31,2021-12-02\\n00180124ES,8,0.28768210225410284,658,1.0,42085.44666666666,42112.99791666668,0.999345777993423,412.7142857142857,448.10714285714283,0.9210169761696023,4.941285194155404,0,0,0.11,0,CnC,2019-11-01,2021-10-31,2021-12-02\\n00180124ES,7,1.791759469228055,272,1.0,33873.69500000001,38410.426,0.8818880321712653,782.4285714285714,876.7142857142857,0.8924555971973277,4.828073718265662,0,0,0.11,0,CnC,2019-11-01,2021-10-31,2021-12-02\\n00180124ES,2,0.0,477,1.0,18558.781666666666,15056.462500000001,1.2326123527798554,361.0,306.7142857142857,1.176991150442478,4.828073718265662,0,0,0.11,0,CnC,2019-11-01,2021-10-31,2021-12-02\\n00180124RO,4,0.0,161,1.0,490.57142857142856,3814.762142857143,0.12859816947957997,2.2857142857142856,17.642857142857142,0.12955465587044535,6.572688024149897,0,0,0.13,0,CnC,2019-11-01,2021-10-31,2021-12-02\\n00180124RO,9,0.0,677,1.0,23517.88285714286,21200.106785714284,1.109328509278567,58.285714285714285,61.892857142857146,0.9417195614541257,6.512146466906872,0,0,0.13,0,CnC,2019-11-01,2021-10-31,2021-12-02\\n00180124CZ,9,0.1335314373280052,316,1.0,34935.688571428575,39606.2257142857,0.8820756823295967,155.85714285714286,145.0,1.0748768472906405,8.589123060803518,0,0,0.18,0,CnC,2019-11-01,2021-10-31,2021-12-02\\n00180124CZ,10,0.35667496778059,708,1.0,46679.44142857143,49146.18481481481,0.9498080391074467,169.14285714285714,156.66666666666666,1.0796352583586626,8.663217245290781,0,0,0.18,0,CnC,2019-11-01,2021-10-31,2021-12-02\\n00180124ES,11,1.3862943611198906,0,1.0,0.0,0.0,0.0,760.0,760.0,1.0,4.828073718265662,0,0,0.11,0,CnC,2019-11-01,2021-10-31,2021-12-02\\n00180124ES,4,0.6931471805599453,546,1.0,23973.608333333334,23747.435217391303,1.009524107082368,413.2857142857143,360.17857142857144,1.1474467030242934,4.828073718265662,0,0,0.11,0,CnC,2019-11-01,2021-10-31,2021-12-02\\n00180124ES,1,0.8266785135798214,78,1.0,26991.958571428575,33697.813043478265,0.8010003063582337,802.0,810.72,0.989244128675745,4.828073718265662,0,0,0.11,0,CnC,2019-11-01,2021-10-31,2021-12-02\\n00180124ES,6,0.8472979285067953,225,1.0,35004.43833333333,11766.072727272727,2.975031613751299,983.0,471.55555555555554,2.084590009425071,4.828073718265662,0,0,0.11,0,CnC,2019-11-01,2021-10-31,2021-12-02\\n00180124ES,3,0.7884573820386862,489,1.0,42421.166666666664,36411.83625,1.1650378293312977,383.0,350.92857142857144,1.0913901892937106,4.821426057931958,0,0,0.11,0,CnC,2019-11-01,2021-10-31,2021-12-02\\n00180124ES,5,0.8472979285067953,574,1.0,40331.611666666664,40998.42375,0.9837356653660779,482.14285714285717,451.60714285714283,1.0676156583629894,4.828073718265662,0,0,0.11,0,CnC,2019-11-01,2021-10-31,2021-12-02\\n00180124ES,6,0.9808291934070796,595,1.0,36487.791666666664,39826.87782608696,0.9161599818594577,416.14285714285717,467.4642857142857,0.8902131560852625,4.828073718265662,0,0,0.11,0,CnC,2019-11-01,2021-10-31,2021-12-02\\n00180124ES,1,0.4054651081081644,435,1.0,19468.546666666665,20395.943333333333,0.9545303371601837,544.8333333333334,557.8,0.9767539141866859,4.828073718265662,0,0,0.11,0,CnC,2019-11-01,2021-10-31,2021-12-02\\n00180124ES,10,0.0,708,1.0,28614.74,27740.351071428566,1.0315204708952663,505.42857142857144,458.2857142857143,1.10286783042394,4.952299717083292,0,0,0.11,0,CnC,2019-11-01,2021-10-31,2021-12-02\\n00180124ES,9,0.4054651081081644,686,1.0,22494.503333333338,26549.674166666668,0.8472609943204263,434.2857142857143,438.32142857142856,0.9907927971970993,4.952299717083292,0,0,0.11,0,CnC,2019-11-01,2021-10-31,2021-12-02\\n00180124RO,7,0.0,258,1.0,19508.325714285715,18938.716785714285,1.030076426772541,82.0,94.32142857142857,0.8693676637637259,6.572688024149897,0,0,0.13,0,CnC,2019-11-01,2021-10-31,2021-12-02\\n00180124RO,8,0.35667496778059,649,1.0,19580.85142857143,17883.52107142857,1.0949103004024516,47.42857142857143,47.75,0.993268511593119,6.512146466906872,0,0,0.13,0,CnC,2019-11-01,2021-10-31,2021-12-02\\n00180124ES,1,0.0,434,1.0,23005.841666666664,24869.5108,0.9250620911556758,544.8333333333334,557.8,0.9767539141866859,4.828073718265662,0,0,0.11,0,CnC,2019-11-01,2021-10-31,2021-12-02\\n00180124ES,8,0.7731898148739162,288,1.0,40055.774999999994,37805.785833333335,1.0595144133912657,852.4285714285714,794.8571428571429,1.072429906542056,4.828073718265662,0,0,0.11,0,CnC,2019-11-01,2021-10-31,2021-12-02\\n00180124ES,1,0.1541506457674607,449,1.0,18440.87166666667,18806.918800000003,0.9805365707574952,322.57142857142856,422.65384615384613,0.7632047632047632,4.828073718265662,0,0,0.11,0,CnC,2019-11-01,2021-10-31,2021-12-02\\n00180124ES,6,0.0,603,1.0,18581.978333333333,18559.30333333333,1.001221759221925,466.85714285714283,463.64285714285717,1.006932676012941,4.828073718265662,0,0,0.11,0,CnC,2019-11-01,2021-10-31,2021-12-02\\n00180124ES,5,0.6931471805599453,210,1.0,19291.214,5004.4535,3.854809321337485,288.7142857142857,95.0,3.039097744360902,4.828073718265662,0,0,0.11,0,CnC,2019-11-01,2021-10-31,2021-12-02\\n00180124ES,2,0.18232159653038368,468,1.0,9855.806,8786.842272727272,1.12165504900328,251.57142857142858,303.64285714285717,0.8285109386026817,4.828073718265662,0,0,0.11,0,CnC,2019-11-01,2021-10-31,2021-12-02\\n00180124CZ,2,0.1335314373280052,113,1.0,41879.159999999996,39444.05259259259,1.0617357306704511,227.57142857142858,216.60714285714286,1.050618301731245,8.589123060803518,0,0,0.18,0,CnC,2019-11-01,2021-10-31,2021-12-02\\n00180124ES,12,0.5108256714497054,421,1.0,40473.65166666667,46342.44333333333,0.8733603313823263,497.8333333333333,525.5925925925926,0.9471848354590937,4.824064732820093,0,0,0.11,0,CnC,2019-11-01,2021-10-31,2021-12-02\\n00180124ES,2,0.6061357602214821,119,1.0,30892.213333333337,29114.763333333336,1.0610497835634132,757.4285714285714,795.6785714285714,0.9519278244086359,4.828073718265662,0,0,0.11,0,CnC,2019-11-01,2021-10-31,2021-12-02\\n00180124ES,5,0.0,196,1.0,469.5,299.44444444444446,1.5679035250463822,22.428571428571427,11.84,1.8943050193050193,4.828073718265662,0,0,0.11,0,CnC,2019-11-01,2021-10-31,2021-12-02\\n00180124ES,8,0.28768210225410284,666,1.0,23727.336666666666,23731.39458333333,0.9998290063968885,422.57142857142856,446.85714285714283,0.9456521739130435,4.952299717083292,0,0,0.11,0,CnC,2019-11-01,2021-10-31,2021-12-02\\n00180124ES,1,0.887303209025525,77,1.0,35379.43857142857,40077.62040000001,0.8827729345784352,802.0,810.72,0.989244128675745,4.828073718265662,0,0,0.11,0,CnC,2019-11-01,2021-10-31,2021-12-02\\n00180124ES,3,0.9808291934070796,126,1.0,38535.026666666665,37814.7175,1.0190483815373383,915.5714285714286,823.2857142857143,1.1120943952802358,4.811398156734929,0,0,0.11,0,CnC,2019-11-01,2021-10-31,2021-12-02\\n00180124ES,1,0.5877866384111654,448,1.0,12156.452000000001,27972.696086956523,0.4345827789430877,322.57142857142856,422.65384615384613,0.7632047632047632,4.828073718265662,0,0,0.11,0,CnC,2019-11-01,2021-10-31,2021-12-02\\n00180124ES,3,0.0,512,1.0,121.16666666666667,16662.070416666662,0.007272005437299473,355.2857142857143,349.67857142857144,1.0160351343070166,4.828073718265662,0,0,0.11,0,CnC,2019-11-01,2021-10-31,2021-12-02\\n00180124ES,2,0.0,461,1.0,8166.386,9548.402083333332,0.8552620562821049,323.0,309.0,1.0453074433656957,4.828073718265662,0,0,0.11,0,CnC,2019-11-01,2021-10-31,2021-12-02\\n00180124RO,6,0.2513144150354294,238,1.0,32342.064285714285,34461.18178571428,0.9385071146666691,117.71428571428571,130.89285714285714,0.8993178717598909,6.572688024149897,0,0,0.13,0,CnC,2019-11-01,2021-10-31,2021-12-02\\n00180124RO,7,0.0,637,1.0,28215.305714285718,27553.940357142852,1.0240025690906824,37.142857142857146,38.785714285714285,0.9576427255985268,6.512146466906872,0,0,0.13,0,CnC,2019-11-01,2021-10-31,2021-12-02\\n00180124ES,5,0.0,190,1.0,75.14285714285714,71.73684210526316,1.0474792998637459,23.142857142857142,9.217391304347826,2.5107816711590294,4.828073718265662,0,0,0.11,0,CnC,2019-11-01,2021-10-31,2021-12-02\\n00180124ES,2,0.4054651081081644,112,1.0,27064.881666666668,28623.842083333337,0.9455362976036541,776.2857142857143,809.4285714285714,0.9590540063536888,4.828073718265662,0,0,0.11,0,CnC,2019-11-01,2021-10-31,2021-12-02\\n00180124ES,8,0.4054651081081644,658,1.0,36668.151666666665,37309.280000000006,0.982815848139301,412.7142857142857,448.10714285714283,0.9210169761696023,4.952299717083292,0,0,0.11,0,CnC,2019-11-01,2021-10-31,2021-12-02\\n00180124ES,10,0.28768210225410284,707,1.0,28160.133333333335,29144.635217391304,0.9662201335952734,505.42857142857144,458.2857142857143,1.10286783042394,4.952299717083292,0,0,0.11,0,CnC,2019-11-01,2021-10-31,2021-12-02\\n00180124ES,6,1.349926734609651,225,1.0,43338.22285714286,14184.231666666667,3.0553803600789227,983.0,471.55555555555554,2.084590009425071,4.828073718265662,0,0,0.11,0,CnC,2019-11-01,2021-10-31,2021-12-02\\n00180124ES,2,1.1526795350350776,105,1.0,38501.23,37933.26708333333,1.014972686518642,843.8571428571429,796.3928571428571,1.0595990851607697,4.827820268398578,0,0,0.11,0,CnC,2019-11-01,2021-10-31,2021-12-02\\n00180124ES,9,1.0414539309266488,315,1.0,59120.486666666664,58275.70913043478,1.0144962206181152,762.4285714285714,835.2142857142857,0.9128538441802788,4.828073718265662,0,0,0.11,0,CnC,2019-11-01,2021-10-31,2021-12-02\\n00180124ES,2,0.5877866384111654,119,1.0,21111.86,18317.963478260874,1.1525222236115291,757.4285714285714,795.6785714285714,0.9519278244086359,4.828073718265662,0,0,0.11,0,CnC,2019-11-01,2021-10-31,2021-12-02\\n00180124CZ,2,0.0,477,1.0,367.0,499.2142857142857,0.735155243954786,6.142857142857143,7.178571428571429,0.8557213930348259,8.589123060803518,0,0,0.18,0,CnC,2019-11-01,2021-10-31,2021-12-02\\n00180124CZ,11,0.0,1,1.0,38575.950000000004,38575.950000000004,1.0,269.0,269.0,1.0,8.589123060803518,0,0,0.18,0,CnC,2019-11-01,2021-10-31,2021-12-02\\n00180124ES,3,0.0,136,1.0,10431.766666666665,16555.629913043475,0.6301038813659346,608.1666666666666,771.925925925926,0.7878562517992515,4.828073718265662,0,0,0.11,0,CnC,2019-11-01,2021-10-31,2021-12-02\\n00180124ES,8,0.4054651081081644,652,1.0,24071.396666666667,23484.209166666664,1.0250035032405287,459.42857142857144,451.89285714285717,1.0166758871413895,4.822134713247509,0,0,0.11,0,CnC,2019-11-01,2021-10-31,2021-12-02\\n00180124ES,11,0.0,379,1.0,5164.833333333333,17352.777916666662,0.29763726350538455,396.85714285714283,486.39285714285717,0.8159189367794991,4.398432983249846,0,0,0.11,0,CnC,2019-11-01,2021-10-31,2021-12-02\\n00180124ES,1,0.0,449,1.0,33.0,14034.339090909092,0.0023513754218305967,322.57142857142856,422.65384615384613,0.7632047632047632,4.828073718265662,0,0,0.11,0,CnC,2019-11-01,2021-10-31,2021-12-02\\n00180124ES,11,0.5108256714497054,15,1.0,32417.463333333337,34702.38,0.9341567734931535,880.1428571428571,869.2666666666667,1.0125119148050354,4.828073718265662,0,0,0.11,0,CnC,2019-11-01,2021-10-31,2021-12-02\\n00180124ES,6,0.6931471805599453,589,1.0,31748.319999999996,35033.40958333333,0.9062298068499685,499.14285714285717,471.4642857142857,1.0587076736610863,4.828073718265662,0,0,0.11,0,CnC,2019-11-01,2021-10-31,2021-12-02\\n00180124ES,2,1.0986122886681096,91,1.0,35346.153333333335,35427.911199999995,0.9976922752740032,812.4285714285714,755.4074074074074,1.0754839884571206,4.828073718265662,0,0,0.11,0,CnC,2019-11-01,2021-10-31,2021-12-02\\n00180124ES,4,0.9162907318741551,525,1.0,56687.68333333332,49679.86043478261,1.1410596333649174,350.7142857142857,350.0357142857143,1.0019385776961536,4.828073718265662,0,0,0.11,0,CnC,2019-11-01,2021-10-31,2021-12-02\\n00180124ES,4,1.0296194001512595,545,1.0,43849.35333333333,46081.1775,0.9515675534405199,413.2857142857143,360.17857142857144,1.1474467030242934,4.828073718265662,0,0,0.11,0,CnC,2019-11-01,2021-10-31,2021-12-02\\n00180124ES,8,0.6061357602214821,651,1.0,42929.26833333333,40559.3975,1.0584296360253709,459.42857142857144,451.89285714285717,1.0166758871413895,4.950377960168046,0,0,0.11,0,CnC,2019-11-01,2021-10-31,2021-12-02\\n00180124ES,6,0.8266785135798214,239,1.0,36557.73714285715,29592.999259259257,1.2353508619582965,1134.857142857143,940.1481481481482,1.2071045878168476,4.828073718265662,0,0,0.11,0,CnC,2019-11-01,2021-10-31,2021-12-02\\n00180124ES,11,0.1335314373280052,393,1.0,29623.81285714286,31647.78571428571,0.9360469362559785,402.14285714285717,390.60714285714283,1.0295327786413095,4.825739014413406,0,0,0.11,0,CnC,2019-11-01,2021-10-31,2021-12-02\\n00180124ES,4,0.45198510206864073,519,1.0,40040.192857142865,32409.22357142857,1.235456714009083,346.0,345.2857142857143,1.002068680182044,4.822962285589836,0,0,0.11,0,CnC,2019-11-01,2021-10-31,2021-12-02\\n00180124ES,1,0.18232159653038368,454,1.0,8477.931666666667,10512.60304347826,0.8064540848354538,298.57142857142856,352.46153846153845,0.8471035729874664,4.828073718265662,0,0,0.11,0,CnC,2019-11-01,2021-10-31,2021-12-02\\n00180124RO,11,0.5389965106667944,26,1.0,24591.071428571424,24795.016785714288,0.9917747441388962,163.71428571428572,145.07142857142858,1.1285081240768093,6.572688024149897,0,0,0.13,0,CnC,2019-11-01,2021-10-31,2021-12-02\\n00180124RO,12,0.18232159653038368,416,1.0,29528.917142857146,27421.033571428572,1.0768710474000838,118.57142857142857,122.03571428571429,0.9716125256072577,6.572688024149897,0,0,0.13,0,CnC,2019-11-01,2021-10-31,2021-12-02\\n00180124ES,10,0.4054651081081644,343,1.0,24247.573333333337,22605.303750000003,1.072649746338106,681.8571428571429,765.3214285714286,0.8909421811563769,4.828073718265662,0,0,0.11,0,CnC,2019-11-01,2021-10-31,2021-12-02\\n00180124ES,10,0.1541506457674607,714,1.0,22111.558333333334,18970.696666666667,1.1655638547099572,494.57142857142856,473.35714285714283,1.0448166591217747,4.952299717083292,0,0,0.11,0,CnC,2019-11-01,2021-10-31,2021-12-02\\n00180124ES,2,0.9162907318741551,105,1.0,31972.855000000007,31507.29208333333,1.0147763544843942,843.8571428571429,796.3928571428571,1.0595990851607697,4.828073718265662,0,0,0.11,0,CnC,2019-11-01,2021-10-31,2021-12-02\\n00180124ES,9,0.4054651081081644,672,1.0,36293.87333333334,34907.525416666664,1.0397148723697487,432.57142857142856,431.82142857142856,1.0017368290463982,4.952299717083292,0,0,0.11,0,CnC,2019-11-01,2021-10-31,2021-12-02\\n00180124ES,10,0.4054651081081644,358,1.0,30736.93166666666,33241.38166666667,0.9246586671663114,542.1428571428571,657.2142857142857,0.8249103358330616,4.828073718265662,0,0,0.11,0,CnC,2019-11-01,2021-10-31,2021-12-02\\n00180124ES,10,0.1541506457674607,365,1.0,10944.108333333332,19707.56508333333,0.5553252411983027,616.2857142857143,614.1071428571429,1.003547542890375,4.828073718265662,0,0,0.11,0,CnC,2019-11-01,2021-10-31,2021-12-02\\n00180124HR,7,0.7621400202577524,252,1.0,28518.801428571434,32934.5375,0.865923847528493,57.857142857142854,81.60714285714286,0.7089715536105032,7.154904373829553,0,0,0.3,0,CnC,2019-11-01,2021-10-31,2021-12-02\\n00180124ES,8,1.5505974413103882,288,1.0,46005.871428571445,44480.169642857145,1.0343007186790103,852.4285714285714,794.8571428571429,1.072429906542056,4.827582024353163,0,0,0.11,0,CnC,2019-11-01,2021-10-31,2021-12-02\\n00180124ES,5,0.6931471805599453,554,1.0,20752.862,22787.02565217391,0.9107314976854012,400.57142857142856,388.35714285714283,1.0314511679234872,4.828073718265662,0,0,0.11,0,CnC,2019-11-01,2021-10-31,2021-12-02\\n00180124ES,6,0.5108256714497054,603,1.0,28225.838,27889.026521739135,1.0120768459952636,466.85714285714283,463.64285714285717,1.006932676012941,4.828073718265662,0,0,0.11,0,CnC,2019-11-01,2021-10-31,2021-12-02\\n00180124ES,6,0.875468777090329,238,1.0,57799.096,54443.58956521739,1.0616327185914713,1134.857142857143,940.1481481481482,1.2071045878168476,4.828073718265662,0,0,0.11,0,CnC,2019-11-01,2021-10-31,2021-12-02\\n00180124ES,10,0.28768210225410284,722,1.0,15898.423333333334,18039.106086956523,0.8813309959316086,452.42857142857144,480.67857142857144,0.9412289174530054,4.847724106877378,0,0,0.11,0,CnC,2019-11-01,2021-10-31,2021-12-02\\n00180124ES,10,0.7731898148739162,358,1.0,19900.825,22684.390416666665,0.8772915927852518,542.1428571428571,657.2142857142857,0.8249103358330616,4.828073718265662,0,0,0.11,0,CnC,2019-11-01,2021-10-31,2021-12-02\\n00180124ES,3,0.4054651081081644,511,1.0,25996.869999999995,23505.864347826086,1.1059737951054878,355.2857142857143,349.67857142857144,1.0160351343070166,4.828073718265662,0,0,0.11,0,CnC,2019-11-01,2021-10-31,2021-12-02\\n00180124HR,3,0.0,147,1.0,339.14285714285717,16496.112222222222,0.020558956715024737,1.8571428571428572,53.55555555555556,0.03467694131594547,7.155396301896734,0,0,0.3,0,CnC,2019-11-01,2021-10-31,2021-12-02\\n00180124HR,10,0.35667496778059,714,1.0,28515.854285714282,28724.930357142857,0.9927214420077233,48.285714285714285,62.5,0.7725714285714286,7.0909098220799835,0,0,0.3,0,CnC,2019-11-01,2021-10-31,2021-12-02\\n00180124RO,2,0.0,98,1.0,29406.99571428571,31841.019285714283,0.9235569832238185,120.14285714285714,131.75,0.9119002439685552,6.572688024149897,0,0,0.13,0,CnC,2019-11-01,2021-10-31,2021-12-02\\n00180124ES,2,0.9808291934070796,113,1.0,27222.603333333336,29198.0275,0.9323439171818485,776.2857142857143,809.4285714285714,0.9590540063536888,4.8267258072866275,0,0,0.11,0,CnC,2019-11-01,2021-10-31,2021-12-02\\n00180124ES,12,0.1335314373280052,400,1.0,28552.638571428568,16286.892400000002,1.7531053727246682,500.42857142857144,418.14285714285717,1.1967885206696276,4.828073718265662,0,0,0.11,0,CnC,2019-11-01,2021-10-31,2021-12-02\\n00180124ES,8,0.6190392450860042,645,1.0,45395.86142857142,45107.064615384625,1.006402474105759,492.7142857142857,454.07142857142856,1.0851030360232814,4.952299717083292,0,0,0.11,0,CnC,2019-11-01,2021-10-31,2021-12-02\\n00180124ES,7,0.5108256714497054,620,1.0,44090.831666666665,42645.77958333333,1.0338849962986276,511.7142857142857,487.25,1.050208898336143,4.952299717083292,0,0,0.11,0,CnC,2019-11-01,2021-10-31,2021-12-02\\n00180124ES,4,0.0,175,1.0,103.2,64.77777777777777,1.5931389365351631,2.2,2.8461538461538463,0.772972972972973,4.828073718265662,0,0,0.11,0,CnC,2019-11-01,2021-10-31,2021-12-02\\n00180124ES,1,0.28768210225410284,71,1.0,16234.171666666669,21658.648260869566,0.7495468540387519,671.0,827.92,0.8104647792057204,4.828073718265662,0,0,0.11,0,CnC,2019-11-01,2021-10-31,2021-12-02\\n00180124RO,8,0.1335314373280052,285,1.0,20057.609999999997,19078.716785714285,1.0513081264992983,74.57142857142857,77.92857142857143,0.9569202566452795,6.572688024149897,0,0,0.13,0,CnC,2019-11-01,2021-10-31,2021-12-02\\n00180124RO,11,0.0,369,1.0,24412.575714285715,25008.58428571429,0.9761678404255361,96.0,75.39285714285714,1.273330175272383,6.572688024149897,0,0,0.13,0,CnC,2019-11-01,2021-10-31,2021-12-02\\n'}"
            ]
          },
          "metadata": {},
          "execution_count": 14
        }
      ]
    },
    {
      "cell_type": "code",
      "source": [
        "# check\n",
        "file = '4_key_columns_v2.csv'\n",
        "print(uploaded[file][0:50])"
      ],
      "metadata": {
        "colab": {
          "base_uri": "https://localhost:8080/"
        },
        "id": "c_sfJW4bYP52",
        "outputId": "e00d371c-8e35-40c5-9b22-72c1465a25a5"
      },
      "execution_count": null,
      "outputs": [
        {
          "output_type": "stream",
          "name": "stdout",
          "text": [
            "b'key_column,month_of_year_c,quantity_sold_t,days_si'\n"
          ]
        }
      ]
    },
    {
      "cell_type": "code",
      "source": [
        "df = pd.read_csv(io.StringIO(uploaded[file].decode('utf-8')))\n",
        "print(df.shape)\n",
        "df.head()"
      ],
      "metadata": {
        "colab": {
          "base_uri": "https://localhost:8080/",
          "height": 374
        },
        "id": "U97sBdTJYTjg",
        "outputId": "a9035942-8602-49dd-bd3b-346a27dd13ca"
      },
      "execution_count": null,
      "outputs": [
        {
          "output_type": "stream",
          "name": "stdout",
          "text": [
            "(2326, 20)\n"
          ]
        },
        {
          "output_type": "execute_result",
          "data": {
            "text/plain": [
              "   key_column  month_of_year_c  quantity_sold_t  days_since_launch_n  \\\n",
              "0  00180124CZ                5         0.000000                  194   \n",
              "1  00180124ES                5         0.154151                  211   \n",
              "2  00180124ES                5         0.000000                  189   \n",
              "3  00180124ES                8         1.504077                  274   \n",
              "4  00180124ES               12         0.693147                  407   \n",
              "\n",
              "   service_level_c  store_lw_sales_n  store_l4w_sales_n  store_sales_trend_n  \\\n",
              "0              1.0      23289.992857        6198.775926             3.757192   \n",
              "1              1.0       3516.333333        1432.600000             2.454512   \n",
              "2              1.0        455.500000         235.642857             1.933010   \n",
              "3              1.0      46735.928333       49964.516400             0.935382   \n",
              "4              1.0      28636.843333       22550.230800             1.269914   \n",
              "\n",
              "   pa_lw_sales_n  pa_l4w_sales_n  pa_sales_trend_n   price_n  \\\n",
              "0     169.285714       47.185185          3.587688  8.589123   \n",
              "1     288.714286       95.000000          3.039098  4.828074   \n",
              "2      19.166667        7.500000          2.555556  4.828074   \n",
              "3     769.428571      854.678571          0.900255  4.820443   \n",
              "4     515.857143      447.892857          1.151742  4.828074   \n",
              "\n",
              "   discontinued_flag  ignore_discontinued_row_flag  pct_discounted_sales  \\\n",
              "0                  0                             0                  0.18   \n",
              "1                  0                             0                  0.11   \n",
              "2                  0                             0                  0.11   \n",
              "3                  0                             0                  0.11   \n",
              "4                  0                             0                  0.11   \n",
              "\n",
              "   dropped_items channel  start_date    end_date     ii_date  \n",
              "0              0     CnC  2019-11-01  2021-10-31  2021-12-02  \n",
              "1              0     CnC  2019-11-01  2021-10-31  2021-12-02  \n",
              "2              0     CnC  2019-11-01  2021-10-31  2021-12-02  \n",
              "3              0     CnC  2019-11-01  2021-10-31  2021-12-02  \n",
              "4              0     CnC  2019-11-01  2021-10-31  2021-12-02  "
            ],
            "text/html": [
              "\n",
              "  <div id=\"df-e55249d3-1769-4a76-acb2-ca5a17478e4e\">\n",
              "    <div class=\"colab-df-container\">\n",
              "      <div>\n",
              "<style scoped>\n",
              "    .dataframe tbody tr th:only-of-type {\n",
              "        vertical-align: middle;\n",
              "    }\n",
              "\n",
              "    .dataframe tbody tr th {\n",
              "        vertical-align: top;\n",
              "    }\n",
              "\n",
              "    .dataframe thead th {\n",
              "        text-align: right;\n",
              "    }\n",
              "</style>\n",
              "<table border=\"1\" class=\"dataframe\">\n",
              "  <thead>\n",
              "    <tr style=\"text-align: right;\">\n",
              "      <th></th>\n",
              "      <th>key_column</th>\n",
              "      <th>month_of_year_c</th>\n",
              "      <th>quantity_sold_t</th>\n",
              "      <th>days_since_launch_n</th>\n",
              "      <th>service_level_c</th>\n",
              "      <th>store_lw_sales_n</th>\n",
              "      <th>store_l4w_sales_n</th>\n",
              "      <th>store_sales_trend_n</th>\n",
              "      <th>pa_lw_sales_n</th>\n",
              "      <th>pa_l4w_sales_n</th>\n",
              "      <th>pa_sales_trend_n</th>\n",
              "      <th>price_n</th>\n",
              "      <th>discontinued_flag</th>\n",
              "      <th>ignore_discontinued_row_flag</th>\n",
              "      <th>pct_discounted_sales</th>\n",
              "      <th>dropped_items</th>\n",
              "      <th>channel</th>\n",
              "      <th>start_date</th>\n",
              "      <th>end_date</th>\n",
              "      <th>ii_date</th>\n",
              "    </tr>\n",
              "  </thead>\n",
              "  <tbody>\n",
              "    <tr>\n",
              "      <th>0</th>\n",
              "      <td>00180124CZ</td>\n",
              "      <td>5</td>\n",
              "      <td>0.000000</td>\n",
              "      <td>194</td>\n",
              "      <td>1.0</td>\n",
              "      <td>23289.992857</td>\n",
              "      <td>6198.775926</td>\n",
              "      <td>3.757192</td>\n",
              "      <td>169.285714</td>\n",
              "      <td>47.185185</td>\n",
              "      <td>3.587688</td>\n",
              "      <td>8.589123</td>\n",
              "      <td>0</td>\n",
              "      <td>0</td>\n",
              "      <td>0.18</td>\n",
              "      <td>0</td>\n",
              "      <td>CnC</td>\n",
              "      <td>2019-11-01</td>\n",
              "      <td>2021-10-31</td>\n",
              "      <td>2021-12-02</td>\n",
              "    </tr>\n",
              "    <tr>\n",
              "      <th>1</th>\n",
              "      <td>00180124ES</td>\n",
              "      <td>5</td>\n",
              "      <td>0.154151</td>\n",
              "      <td>211</td>\n",
              "      <td>1.0</td>\n",
              "      <td>3516.333333</td>\n",
              "      <td>1432.600000</td>\n",
              "      <td>2.454512</td>\n",
              "      <td>288.714286</td>\n",
              "      <td>95.000000</td>\n",
              "      <td>3.039098</td>\n",
              "      <td>4.828074</td>\n",
              "      <td>0</td>\n",
              "      <td>0</td>\n",
              "      <td>0.11</td>\n",
              "      <td>0</td>\n",
              "      <td>CnC</td>\n",
              "      <td>2019-11-01</td>\n",
              "      <td>2021-10-31</td>\n",
              "      <td>2021-12-02</td>\n",
              "    </tr>\n",
              "    <tr>\n",
              "      <th>2</th>\n",
              "      <td>00180124ES</td>\n",
              "      <td>5</td>\n",
              "      <td>0.000000</td>\n",
              "      <td>189</td>\n",
              "      <td>1.0</td>\n",
              "      <td>455.500000</td>\n",
              "      <td>235.642857</td>\n",
              "      <td>1.933010</td>\n",
              "      <td>19.166667</td>\n",
              "      <td>7.500000</td>\n",
              "      <td>2.555556</td>\n",
              "      <td>4.828074</td>\n",
              "      <td>0</td>\n",
              "      <td>0</td>\n",
              "      <td>0.11</td>\n",
              "      <td>0</td>\n",
              "      <td>CnC</td>\n",
              "      <td>2019-11-01</td>\n",
              "      <td>2021-10-31</td>\n",
              "      <td>2021-12-02</td>\n",
              "    </tr>\n",
              "    <tr>\n",
              "      <th>3</th>\n",
              "      <td>00180124ES</td>\n",
              "      <td>8</td>\n",
              "      <td>1.504077</td>\n",
              "      <td>274</td>\n",
              "      <td>1.0</td>\n",
              "      <td>46735.928333</td>\n",
              "      <td>49964.516400</td>\n",
              "      <td>0.935382</td>\n",
              "      <td>769.428571</td>\n",
              "      <td>854.678571</td>\n",
              "      <td>0.900255</td>\n",
              "      <td>4.820443</td>\n",
              "      <td>0</td>\n",
              "      <td>0</td>\n",
              "      <td>0.11</td>\n",
              "      <td>0</td>\n",
              "      <td>CnC</td>\n",
              "      <td>2019-11-01</td>\n",
              "      <td>2021-10-31</td>\n",
              "      <td>2021-12-02</td>\n",
              "    </tr>\n",
              "    <tr>\n",
              "      <th>4</th>\n",
              "      <td>00180124ES</td>\n",
              "      <td>12</td>\n",
              "      <td>0.693147</td>\n",
              "      <td>407</td>\n",
              "      <td>1.0</td>\n",
              "      <td>28636.843333</td>\n",
              "      <td>22550.230800</td>\n",
              "      <td>1.269914</td>\n",
              "      <td>515.857143</td>\n",
              "      <td>447.892857</td>\n",
              "      <td>1.151742</td>\n",
              "      <td>4.828074</td>\n",
              "      <td>0</td>\n",
              "      <td>0</td>\n",
              "      <td>0.11</td>\n",
              "      <td>0</td>\n",
              "      <td>CnC</td>\n",
              "      <td>2019-11-01</td>\n",
              "      <td>2021-10-31</td>\n",
              "      <td>2021-12-02</td>\n",
              "    </tr>\n",
              "  </tbody>\n",
              "</table>\n",
              "</div>\n",
              "      <button class=\"colab-df-convert\" onclick=\"convertToInteractive('df-e55249d3-1769-4a76-acb2-ca5a17478e4e')\"\n",
              "              title=\"Convert this dataframe to an interactive table.\"\n",
              "              style=\"display:none;\">\n",
              "        \n",
              "  <svg xmlns=\"http://www.w3.org/2000/svg\" height=\"24px\"viewBox=\"0 0 24 24\"\n",
              "       width=\"24px\">\n",
              "    <path d=\"M0 0h24v24H0V0z\" fill=\"none\"/>\n",
              "    <path d=\"M18.56 5.44l.94 2.06.94-2.06 2.06-.94-2.06-.94-.94-2.06-.94 2.06-2.06.94zm-11 1L8.5 8.5l.94-2.06 2.06-.94-2.06-.94L8.5 2.5l-.94 2.06-2.06.94zm10 10l.94 2.06.94-2.06 2.06-.94-2.06-.94-.94-2.06-.94 2.06-2.06.94z\"/><path d=\"M17.41 7.96l-1.37-1.37c-.4-.4-.92-.59-1.43-.59-.52 0-1.04.2-1.43.59L10.3 9.45l-7.72 7.72c-.78.78-.78 2.05 0 2.83L4 21.41c.39.39.9.59 1.41.59.51 0 1.02-.2 1.41-.59l7.78-7.78 2.81-2.81c.8-.78.8-2.07 0-2.86zM5.41 20L4 18.59l7.72-7.72 1.47 1.35L5.41 20z\"/>\n",
              "  </svg>\n",
              "      </button>\n",
              "      \n",
              "  <style>\n",
              "    .colab-df-container {\n",
              "      display:flex;\n",
              "      flex-wrap:wrap;\n",
              "      gap: 12px;\n",
              "    }\n",
              "\n",
              "    .colab-df-convert {\n",
              "      background-color: #E8F0FE;\n",
              "      border: none;\n",
              "      border-radius: 50%;\n",
              "      cursor: pointer;\n",
              "      display: none;\n",
              "      fill: #1967D2;\n",
              "      height: 32px;\n",
              "      padding: 0 0 0 0;\n",
              "      width: 32px;\n",
              "    }\n",
              "\n",
              "    .colab-df-convert:hover {\n",
              "      background-color: #E2EBFA;\n",
              "      box-shadow: 0px 1px 2px rgba(60, 64, 67, 0.3), 0px 1px 3px 1px rgba(60, 64, 67, 0.15);\n",
              "      fill: #174EA6;\n",
              "    }\n",
              "\n",
              "    [theme=dark] .colab-df-convert {\n",
              "      background-color: #3B4455;\n",
              "      fill: #D2E3FC;\n",
              "    }\n",
              "\n",
              "    [theme=dark] .colab-df-convert:hover {\n",
              "      background-color: #434B5C;\n",
              "      box-shadow: 0px 1px 3px 1px rgba(0, 0, 0, 0.15);\n",
              "      filter: drop-shadow(0px 1px 2px rgba(0, 0, 0, 0.3));\n",
              "      fill: #FFFFFF;\n",
              "    }\n",
              "  </style>\n",
              "\n",
              "      <script>\n",
              "        const buttonEl =\n",
              "          document.querySelector('#df-e55249d3-1769-4a76-acb2-ca5a17478e4e button.colab-df-convert');\n",
              "        buttonEl.style.display =\n",
              "          google.colab.kernel.accessAllowed ? 'block' : 'none';\n",
              "\n",
              "        async function convertToInteractive(key) {\n",
              "          const element = document.querySelector('#df-e55249d3-1769-4a76-acb2-ca5a17478e4e');\n",
              "          const dataTable =\n",
              "            await google.colab.kernel.invokeFunction('convertToInteractive',\n",
              "                                                     [key], {});\n",
              "          if (!dataTable) return;\n",
              "\n",
              "          const docLinkHtml = 'Like what you see? Visit the ' +\n",
              "            '<a target=\"_blank\" href=https://colab.research.google.com/notebooks/data_table.ipynb>data table notebook</a>'\n",
              "            + ' to learn more about interactive tables.';\n",
              "          element.innerHTML = '';\n",
              "          dataTable['output_type'] = 'display_data';\n",
              "          await google.colab.output.renderOutput(dataTable, element);\n",
              "          const docLink = document.createElement('div');\n",
              "          docLink.innerHTML = docLinkHtml;\n",
              "          element.appendChild(docLink);\n",
              "        }\n",
              "      </script>\n",
              "    </div>\n",
              "  </div>\n",
              "  "
            ]
          },
          "metadata": {},
          "execution_count": 19
        }
      ]
    },
    {
      "cell_type": "markdown",
      "source": [
        "The variables in the table cotain the follwing columns:\n",
        "* `key_column` - unique item identifier  \n",
        "* `quantity_sold_t` - after logarithmic (ln) transformation\n",
        "* `price_n`- after logarithmic (ln) transformation\n",
        "* other variables are control variables used to fit a multiple linear regression"
      ],
      "metadata": {
        "id": "h8oj7vMiMUtI"
      }
    },
    {
      "cell_type": "code",
      "source": [
        "df.describe()"
      ],
      "metadata": {
        "colab": {
          "base_uri": "https://localhost:8080/",
          "height": 364
        },
        "id": "qXbQW8UjMHxt",
        "outputId": "25f497f0-68ab-4334-9857-d8c98f93c579"
      },
      "execution_count": null,
      "outputs": [
        {
          "output_type": "execute_result",
          "data": {
            "text/plain": [
              "       month_of_year_c  quantity_sold_t  days_since_launch_n  service_level_c  \\\n",
              "count      2326.000000      2326.000000          2326.000000           2326.0   \n",
              "mean          6.786328         0.404899           368.579966              1.0   \n",
              "std           3.461295         0.366909           211.907024              0.0   \n",
              "min           1.000000         0.000000             0.000000              1.0   \n",
              "25%           4.000000         0.133531           195.000000              1.0   \n",
              "50%           7.000000         0.336472           372.000000              1.0   \n",
              "75%          10.000000         0.619039           547.000000              1.0   \n",
              "max          12.000000         2.302585           729.000000              1.0   \n",
              "\n",
              "       store_lw_sales_n  store_l4w_sales_n  store_sales_trend_n  \\\n",
              "count       2326.000000        2326.000000          2326.000000   \n",
              "mean       27968.007423       27815.472780             1.059829   \n",
              "std        15724.670657       14750.131879             0.497071   \n",
              "min            0.000000           0.000000             0.000000   \n",
              "25%        18772.135417       19032.423036             0.922814   \n",
              "50%        29458.772143       29048.564048             0.998397   \n",
              "75%        38527.648750       38121.120179             1.083930   \n",
              "max       104067.555714       82521.480714             4.351959   \n",
              "\n",
              "       pa_lw_sales_n  pa_l4w_sales_n  pa_sales_trend_n      price_n  \\\n",
              "count    2326.000000     2326.000000       2326.000000  2326.000000   \n",
              "mean      427.398897      423.870611          1.062093     5.774626   \n",
              "std       306.140578      301.801588          0.440985     1.472898   \n",
              "min         0.000000        0.000000          0.000000     3.866468   \n",
              "25%       151.857143      149.107143          0.912854     4.828074   \n",
              "50%       413.285714      431.821429          1.000000     4.828074   \n",
              "75%       681.857143      720.777778          1.081113     6.572688   \n",
              "max      1134.857143     1045.392857          4.060630     8.663217   \n",
              "\n",
              "       discontinued_flag  ignore_discontinued_row_flag  pct_discounted_sales  \\\n",
              "count             2326.0                        2326.0           2326.000000   \n",
              "mean                 0.0                           0.0              0.132850   \n",
              "std                  0.0                           0.0              0.044804   \n",
              "min                  0.0                           0.0              0.110000   \n",
              "25%                  0.0                           0.0              0.110000   \n",
              "50%                  0.0                           0.0              0.110000   \n",
              "75%                  0.0                           0.0              0.130000   \n",
              "max                  0.0                           0.0              0.300000   \n",
              "\n",
              "       dropped_items  \n",
              "count         2326.0  \n",
              "mean             0.0  \n",
              "std              0.0  \n",
              "min              0.0  \n",
              "25%              0.0  \n",
              "50%              0.0  \n",
              "75%              0.0  \n",
              "max              0.0  "
            ],
            "text/html": [
              "\n",
              "  <div id=\"df-a788b70f-79e2-47b0-8443-202036077d06\">\n",
              "    <div class=\"colab-df-container\">\n",
              "      <div>\n",
              "<style scoped>\n",
              "    .dataframe tbody tr th:only-of-type {\n",
              "        vertical-align: middle;\n",
              "    }\n",
              "\n",
              "    .dataframe tbody tr th {\n",
              "        vertical-align: top;\n",
              "    }\n",
              "\n",
              "    .dataframe thead th {\n",
              "        text-align: right;\n",
              "    }\n",
              "</style>\n",
              "<table border=\"1\" class=\"dataframe\">\n",
              "  <thead>\n",
              "    <tr style=\"text-align: right;\">\n",
              "      <th></th>\n",
              "      <th>month_of_year_c</th>\n",
              "      <th>quantity_sold_t</th>\n",
              "      <th>days_since_launch_n</th>\n",
              "      <th>service_level_c</th>\n",
              "      <th>store_lw_sales_n</th>\n",
              "      <th>store_l4w_sales_n</th>\n",
              "      <th>store_sales_trend_n</th>\n",
              "      <th>pa_lw_sales_n</th>\n",
              "      <th>pa_l4w_sales_n</th>\n",
              "      <th>pa_sales_trend_n</th>\n",
              "      <th>price_n</th>\n",
              "      <th>discontinued_flag</th>\n",
              "      <th>ignore_discontinued_row_flag</th>\n",
              "      <th>pct_discounted_sales</th>\n",
              "      <th>dropped_items</th>\n",
              "    </tr>\n",
              "  </thead>\n",
              "  <tbody>\n",
              "    <tr>\n",
              "      <th>count</th>\n",
              "      <td>2326.000000</td>\n",
              "      <td>2326.000000</td>\n",
              "      <td>2326.000000</td>\n",
              "      <td>2326.0</td>\n",
              "      <td>2326.000000</td>\n",
              "      <td>2326.000000</td>\n",
              "      <td>2326.000000</td>\n",
              "      <td>2326.000000</td>\n",
              "      <td>2326.000000</td>\n",
              "      <td>2326.000000</td>\n",
              "      <td>2326.000000</td>\n",
              "      <td>2326.0</td>\n",
              "      <td>2326.0</td>\n",
              "      <td>2326.000000</td>\n",
              "      <td>2326.0</td>\n",
              "    </tr>\n",
              "    <tr>\n",
              "      <th>mean</th>\n",
              "      <td>6.786328</td>\n",
              "      <td>0.404899</td>\n",
              "      <td>368.579966</td>\n",
              "      <td>1.0</td>\n",
              "      <td>27968.007423</td>\n",
              "      <td>27815.472780</td>\n",
              "      <td>1.059829</td>\n",
              "      <td>427.398897</td>\n",
              "      <td>423.870611</td>\n",
              "      <td>1.062093</td>\n",
              "      <td>5.774626</td>\n",
              "      <td>0.0</td>\n",
              "      <td>0.0</td>\n",
              "      <td>0.132850</td>\n",
              "      <td>0.0</td>\n",
              "    </tr>\n",
              "    <tr>\n",
              "      <th>std</th>\n",
              "      <td>3.461295</td>\n",
              "      <td>0.366909</td>\n",
              "      <td>211.907024</td>\n",
              "      <td>0.0</td>\n",
              "      <td>15724.670657</td>\n",
              "      <td>14750.131879</td>\n",
              "      <td>0.497071</td>\n",
              "      <td>306.140578</td>\n",
              "      <td>301.801588</td>\n",
              "      <td>0.440985</td>\n",
              "      <td>1.472898</td>\n",
              "      <td>0.0</td>\n",
              "      <td>0.0</td>\n",
              "      <td>0.044804</td>\n",
              "      <td>0.0</td>\n",
              "    </tr>\n",
              "    <tr>\n",
              "      <th>min</th>\n",
              "      <td>1.000000</td>\n",
              "      <td>0.000000</td>\n",
              "      <td>0.000000</td>\n",
              "      <td>1.0</td>\n",
              "      <td>0.000000</td>\n",
              "      <td>0.000000</td>\n",
              "      <td>0.000000</td>\n",
              "      <td>0.000000</td>\n",
              "      <td>0.000000</td>\n",
              "      <td>0.000000</td>\n",
              "      <td>3.866468</td>\n",
              "      <td>0.0</td>\n",
              "      <td>0.0</td>\n",
              "      <td>0.110000</td>\n",
              "      <td>0.0</td>\n",
              "    </tr>\n",
              "    <tr>\n",
              "      <th>25%</th>\n",
              "      <td>4.000000</td>\n",
              "      <td>0.133531</td>\n",
              "      <td>195.000000</td>\n",
              "      <td>1.0</td>\n",
              "      <td>18772.135417</td>\n",
              "      <td>19032.423036</td>\n",
              "      <td>0.922814</td>\n",
              "      <td>151.857143</td>\n",
              "      <td>149.107143</td>\n",
              "      <td>0.912854</td>\n",
              "      <td>4.828074</td>\n",
              "      <td>0.0</td>\n",
              "      <td>0.0</td>\n",
              "      <td>0.110000</td>\n",
              "      <td>0.0</td>\n",
              "    </tr>\n",
              "    <tr>\n",
              "      <th>50%</th>\n",
              "      <td>7.000000</td>\n",
              "      <td>0.336472</td>\n",
              "      <td>372.000000</td>\n",
              "      <td>1.0</td>\n",
              "      <td>29458.772143</td>\n",
              "      <td>29048.564048</td>\n",
              "      <td>0.998397</td>\n",
              "      <td>413.285714</td>\n",
              "      <td>431.821429</td>\n",
              "      <td>1.000000</td>\n",
              "      <td>4.828074</td>\n",
              "      <td>0.0</td>\n",
              "      <td>0.0</td>\n",
              "      <td>0.110000</td>\n",
              "      <td>0.0</td>\n",
              "    </tr>\n",
              "    <tr>\n",
              "      <th>75%</th>\n",
              "      <td>10.000000</td>\n",
              "      <td>0.619039</td>\n",
              "      <td>547.000000</td>\n",
              "      <td>1.0</td>\n",
              "      <td>38527.648750</td>\n",
              "      <td>38121.120179</td>\n",
              "      <td>1.083930</td>\n",
              "      <td>681.857143</td>\n",
              "      <td>720.777778</td>\n",
              "      <td>1.081113</td>\n",
              "      <td>6.572688</td>\n",
              "      <td>0.0</td>\n",
              "      <td>0.0</td>\n",
              "      <td>0.130000</td>\n",
              "      <td>0.0</td>\n",
              "    </tr>\n",
              "    <tr>\n",
              "      <th>max</th>\n",
              "      <td>12.000000</td>\n",
              "      <td>2.302585</td>\n",
              "      <td>729.000000</td>\n",
              "      <td>1.0</td>\n",
              "      <td>104067.555714</td>\n",
              "      <td>82521.480714</td>\n",
              "      <td>4.351959</td>\n",
              "      <td>1134.857143</td>\n",
              "      <td>1045.392857</td>\n",
              "      <td>4.060630</td>\n",
              "      <td>8.663217</td>\n",
              "      <td>0.0</td>\n",
              "      <td>0.0</td>\n",
              "      <td>0.300000</td>\n",
              "      <td>0.0</td>\n",
              "    </tr>\n",
              "  </tbody>\n",
              "</table>\n",
              "</div>\n",
              "      <button class=\"colab-df-convert\" onclick=\"convertToInteractive('df-a788b70f-79e2-47b0-8443-202036077d06')\"\n",
              "              title=\"Convert this dataframe to an interactive table.\"\n",
              "              style=\"display:none;\">\n",
              "        \n",
              "  <svg xmlns=\"http://www.w3.org/2000/svg\" height=\"24px\"viewBox=\"0 0 24 24\"\n",
              "       width=\"24px\">\n",
              "    <path d=\"M0 0h24v24H0V0z\" fill=\"none\"/>\n",
              "    <path d=\"M18.56 5.44l.94 2.06.94-2.06 2.06-.94-2.06-.94-.94-2.06-.94 2.06-2.06.94zm-11 1L8.5 8.5l.94-2.06 2.06-.94-2.06-.94L8.5 2.5l-.94 2.06-2.06.94zm10 10l.94 2.06.94-2.06 2.06-.94-2.06-.94-.94-2.06-.94 2.06-2.06.94z\"/><path d=\"M17.41 7.96l-1.37-1.37c-.4-.4-.92-.59-1.43-.59-.52 0-1.04.2-1.43.59L10.3 9.45l-7.72 7.72c-.78.78-.78 2.05 0 2.83L4 21.41c.39.39.9.59 1.41.59.51 0 1.02-.2 1.41-.59l7.78-7.78 2.81-2.81c.8-.78.8-2.07 0-2.86zM5.41 20L4 18.59l7.72-7.72 1.47 1.35L5.41 20z\"/>\n",
              "  </svg>\n",
              "      </button>\n",
              "      \n",
              "  <style>\n",
              "    .colab-df-container {\n",
              "      display:flex;\n",
              "      flex-wrap:wrap;\n",
              "      gap: 12px;\n",
              "    }\n",
              "\n",
              "    .colab-df-convert {\n",
              "      background-color: #E8F0FE;\n",
              "      border: none;\n",
              "      border-radius: 50%;\n",
              "      cursor: pointer;\n",
              "      display: none;\n",
              "      fill: #1967D2;\n",
              "      height: 32px;\n",
              "      padding: 0 0 0 0;\n",
              "      width: 32px;\n",
              "    }\n",
              "\n",
              "    .colab-df-convert:hover {\n",
              "      background-color: #E2EBFA;\n",
              "      box-shadow: 0px 1px 2px rgba(60, 64, 67, 0.3), 0px 1px 3px 1px rgba(60, 64, 67, 0.15);\n",
              "      fill: #174EA6;\n",
              "    }\n",
              "\n",
              "    [theme=dark] .colab-df-convert {\n",
              "      background-color: #3B4455;\n",
              "      fill: #D2E3FC;\n",
              "    }\n",
              "\n",
              "    [theme=dark] .colab-df-convert:hover {\n",
              "      background-color: #434B5C;\n",
              "      box-shadow: 0px 1px 3px 1px rgba(0, 0, 0, 0.15);\n",
              "      filter: drop-shadow(0px 1px 2px rgba(0, 0, 0, 0.3));\n",
              "      fill: #FFFFFF;\n",
              "    }\n",
              "  </style>\n",
              "\n",
              "      <script>\n",
              "        const buttonEl =\n",
              "          document.querySelector('#df-a788b70f-79e2-47b0-8443-202036077d06 button.colab-df-convert');\n",
              "        buttonEl.style.display =\n",
              "          google.colab.kernel.accessAllowed ? 'block' : 'none';\n",
              "\n",
              "        async function convertToInteractive(key) {\n",
              "          const element = document.querySelector('#df-a788b70f-79e2-47b0-8443-202036077d06');\n",
              "          const dataTable =\n",
              "            await google.colab.kernel.invokeFunction('convertToInteractive',\n",
              "                                                     [key], {});\n",
              "          if (!dataTable) return;\n",
              "\n",
              "          const docLinkHtml = 'Like what you see? Visit the ' +\n",
              "            '<a target=\"_blank\" href=https://colab.research.google.com/notebooks/data_table.ipynb>data table notebook</a>'\n",
              "            + ' to learn more about interactive tables.';\n",
              "          element.innerHTML = '';\n",
              "          dataTable['output_type'] = 'display_data';\n",
              "          await google.colab.output.renderOutput(dataTable, element);\n",
              "          const docLink = document.createElement('div');\n",
              "          docLink.innerHTML = docLinkHtml;\n",
              "          element.appendChild(docLink);\n",
              "        }\n",
              "      </script>\n",
              "    </div>\n",
              "  </div>\n",
              "  "
            ]
          },
          "metadata": {},
          "execution_count": 20
        }
      ]
    },
    {
      "cell_type": "code",
      "source": [
        "# there are four keys i.e items\n",
        "unique_keys = df['key_column'].unique()\n",
        "print(unique_keys)"
      ],
      "metadata": {
        "colab": {
          "base_uri": "https://localhost:8080/"
        },
        "id": "e7cXp6pRM65f",
        "outputId": "300b576a-28b1-4a82-c9d1-09d8931cfe25"
      },
      "execution_count": null,
      "outputs": [
        {
          "output_type": "stream",
          "name": "stdout",
          "text": [
            "['00180124CZ' '00180124ES' '00180124RO' '00180124HR']\n"
          ]
        }
      ]
    },
    {
      "cell_type": "code",
      "source": [
        "# Plot the 4 keys P vs Q\n",
        "for key in unique_keys:\n",
        "  dat = df[df['key_column']==key]\n",
        "  x = dat['quantity_sold_t']\n",
        "  y = dat['price_n']\n",
        "  plt.scatter(x,y)\n",
        "  plt.xlabel('Q')\n",
        "  plt.ylabel('P')\n",
        "  plt.title(f'item: {key}')\n",
        "  plt.show()"
      ],
      "metadata": {
        "colab": {
          "base_uri": "https://localhost:8080/",
          "height": 1000
        },
        "id": "uB8BAxzqPQRi",
        "outputId": "fd4f6791-3d2b-4dac-d3cb-59394fe0326e"
      },
      "execution_count": null,
      "outputs": [
        {
          "output_type": "display_data",
          "data": {
            "text/plain": [
              "<Figure size 432x288 with 1 Axes>"
            ],
            "image/png": "[encoded data removed]"
          },
          "metadata": {
            "needs_background": "light"
          }
        },
        {
          "output_type": "display_data",
          "data": {
            "text/plain": [
              "<Figure size 432x288 with 1 Axes>"
            ],
            "image/png": "[encoded data removed]"
          },
          "metadata": {
            "needs_background": "light"
          }
        },
        {
          "output_type": "display_data",
          "data": {
            "text/plain": [
              "<Figure size 432x288 with 1 Axes>"
            ],
            "image/png": "[encoded data removed]"
          },
          "metadata": {
            "needs_background": "light"
          }
        },
        {
          "output_type": "display_data",
          "data": {
            "text/plain": [
              "<Figure size 432x288 with 1 Axes>"
            ],
            "image/png": "[encoded data removed]"
          },
          "metadata": {
            "needs_background": "light"
          }
        }
      ]
    },
    {
      "cell_type": "markdown",
      "source": [
        "### Start of Temporary Section\n",
        "Write a function to check VIF of columns until reach a threshold!"
      ],
      "metadata": {
        "id": "agjvnxbfy5ui"
      }
    },
    {
      "cell_type": "code",
      "source": [
        "# Modify ref code to calculate the VIF for each key in the data frame (4 total and print the results)\n",
        "# This would be the starting point that gives the first VIF values.\n",
        "# Next would be to repeat this process until all VIF values are below threshold!\n",
        "\n",
        "from statsmodels.stats.outliers_influence import variance_inflation_factor\n",
        "\n",
        "fin_num_col_names = [\"price_n\", \"days_since_launch_n\", \"store_l4w_sales_n\", \"store_sales_trend_n\", \"pa_lw_sales_n\", \"pa_l4w_sales_n\", \"pa_sales_trend_n\"]\n",
        "num_col = np.asarray(df.loc[:,fin_num_col_names].copy(), dtype=float)\n",
        "\n",
        "for key in unique_keys:\n",
        "  dat = df[df['key_column']==key]\n",
        "  X_num = np.asarray(dat.loc[:,fin_num_col_names].copy(), dtype=float).copy()\n",
        "  vif_cols = fin_num_col_names.copy()\n",
        "  vif_data = pd.DataFrame()\n",
        "  vif_data[\"feature\"] = vif_cols\n",
        "  vif_data[\"VIF\"] = [variance_inflation_factor(X_num, i) for i in range(len(vif_cols))]\n",
        "  # print results\n",
        "  print(f'key: {key}')\n",
        "  print(f'{vif_data}\\n')\n",
        "\n",
        "\n",
        "# # ---------- VIF calculation ----------\n",
        "# X_num = np.asarray(df.loc[:,fin_num_col_names].copy(), dtype=float).copy()\n",
        "# vif_cols = fin_num_col_names.copy()\n",
        "# vif_data = pd.DataFrame()\n",
        "# vif_data[\"feature\"] = vif_cols\n",
        "# vif_data[\"VIF\"] = [variance_inflation_factor(X_num, i) for i in range(len(vif_cols))]\n",
        "\n",
        "# # ---------- prints of results ------------\n",
        "# print(vif_data)"
      ],
      "metadata": {
        "colab": {
          "base_uri": "https://localhost:8080/"
        },
        "id": "TisFQ6FGZTrE",
        "outputId": "32959d2b-8874-4a4c-bdd5-e521cec1a876"
      },
      "execution_count": null,
      "outputs": [
        {
          "output_type": "stream",
          "name": "stderr",
          "text": [
            "/usr/local/lib/python3.7/dist-packages/statsmodels/tools/_testing.py:19: FutureWarning: pandas.util.testing is deprecated. Use the functions in the public API at pandas.testing instead.\n",
            "  import pandas.util.testing as tm\n"
          ]
        },
        {
          "output_type": "stream",
          "name": "stdout",
          "text": [
            "key: 00180124CZ\n",
            "               feature        VIF\n",
            "0              price_n  20.592649\n",
            "1  days_since_launch_n   5.564321\n",
            "2    store_l4w_sales_n  11.025370\n",
            "3  store_sales_trend_n  18.107009\n",
            "4        pa_lw_sales_n  29.356010\n",
            "5       pa_l4w_sales_n  41.477829\n",
            "6     pa_sales_trend_n  19.862572\n",
            "\n",
            "key: 00180124ES\n",
            "               feature         VIF\n",
            "0              price_n   74.103064\n",
            "1  days_since_launch_n    8.284675\n",
            "2    store_l4w_sales_n    9.180096\n",
            "3  store_sales_trend_n    9.434159\n",
            "4        pa_lw_sales_n   82.282293\n",
            "5       pa_l4w_sales_n  111.857431\n",
            "6     pa_sales_trend_n   25.840102\n",
            "\n",
            "key: 00180124RO\n",
            "               feature        VIF\n",
            "0              price_n  38.291698\n",
            "1  days_since_launch_n   7.330454\n",
            "2    store_l4w_sales_n  14.749595\n",
            "3  store_sales_trend_n  29.401791\n",
            "4        pa_lw_sales_n  48.799184\n",
            "5       pa_l4w_sales_n  60.324740\n",
            "6     pa_sales_trend_n  32.981278\n",
            "\n",
            "key: 00180124HR\n",
            "               feature        VIF\n",
            "0              price_n  36.788934\n",
            "1  days_since_launch_n   4.941608\n",
            "2    store_l4w_sales_n  39.243788\n",
            "3  store_sales_trend_n  35.720264\n",
            "4        pa_lw_sales_n  37.182807\n",
            "5       pa_l4w_sales_n  50.743397\n",
            "6     pa_sales_trend_n  53.039007\n",
            "\n"
          ]
        }
      ]
    },
    {
      "cell_type": "markdown",
      "source": [
        "Thresholds for VIF:  \n",
        "* VIF < 5 - Good\n",
        "* 5 =< VIF <= 10 - OK\n",
        "* VIF > 10 - NOK"
      ],
      "metadata": {
        "id": "QTl9aM1zalFo"
      }
    },
    {
      "cell_type": "code",
      "source": [
        "# Continue from here. We want to re-run the VIF calc after we remove the max VIF column"
      ],
      "metadata": {
        "id": "C0VhWFNjhqPu"
      },
      "execution_count": null,
      "outputs": []
    },
    {
      "cell_type": "code",
      "source": [
        "# Ref to break down row by row step 1-5\n",
        "# ---------- VIF calculation ----------\n",
        "X_num = np.asarray(df.loc[:,fin_num_col_names].copy(), dtype=float).copy()\n",
        "vif_cols = fin_num_col_names.copy()\n",
        "vif_data = pd.DataFrame()\n",
        "vif_data[\"feature\"] = vif_cols\n",
        "vif_data[\"VIF\"] = [variance_inflation_factor(X_num, i) for i in range(len(vif_cols))]\n",
        "\n",
        "# ---------- prints of results ------------\n",
        "print(vif_data)"
      ],
      "metadata": {
        "id": "NzU2g1ftjuCw"
      },
      "execution_count": null,
      "outputs": []
    },
    {
      "cell_type": "code",
      "source": [
        "# Check cols and data type of df\n",
        "dat.info()"
      ],
      "metadata": {
        "colab": {
          "base_uri": "https://localhost:8080/"
        },
        "id": "WtXAj6qPuq6A",
        "outputId": "0acd0e2c-fd59-41fc-ba9b-26a5852aab7e"
      },
      "execution_count": null,
      "outputs": [
        {
          "output_type": "stream",
          "name": "stdout",
          "text": [
            "<class 'pandas.core.frame.DataFrame'>\n",
            "Int64Index: 104 entries, 24 to 2316\n",
            "Data columns (total 20 columns):\n",
            " #   Column                        Non-Null Count  Dtype  \n",
            "---  ------                        --------------  -----  \n",
            " 0   key_column                    104 non-null    object \n",
            " 1   month_of_year_c               104 non-null    int64  \n",
            " 2   quantity_sold_t               104 non-null    float64\n",
            " 3   days_since_launch_n           104 non-null    int64  \n",
            " 4   service_level_c               104 non-null    float64\n",
            " 5   store_lw_sales_n              104 non-null    float64\n",
            " 6   store_l4w_sales_n             104 non-null    float64\n",
            " 7   store_sales_trend_n           104 non-null    float64\n",
            " 8   pa_lw_sales_n                 104 non-null    float64\n",
            " 9   pa_l4w_sales_n                104 non-null    float64\n",
            " 10  pa_sales_trend_n              104 non-null    float64\n",
            " 11  price_n                       104 non-null    float64\n",
            " 12  discontinued_flag             104 non-null    int64  \n",
            " 13  ignore_discontinued_row_flag  104 non-null    int64  \n",
            " 14  pct_discounted_sales          104 non-null    float64\n",
            " 15  dropped_items                 104 non-null    int64  \n",
            " 16  channel                       104 non-null    object \n",
            " 17  start_date                    104 non-null    object \n",
            " 18  end_date                      104 non-null    object \n",
            " 19  ii_date                       104 non-null    object \n",
            "dtypes: float64(10), int64(5), object(5)\n",
            "memory usage: 17.1+ KB\n"
          ]
        }
      ]
    },
    {
      "cell_type": "code",
      "source": [
        "# step 1 of 5\n",
        "print(fin_num_col_names)\n",
        "print(X_num.shape) # This one has all 7 columns as a start\n",
        "X_num"
      ],
      "metadata": {
        "colab": {
          "base_uri": "https://localhost:8080/"
        },
        "id": "qlhiJp67n23f",
        "outputId": "955ece64-ebe5-4dfe-adf8-9ec4a21c0c92"
      },
      "execution_count": null,
      "outputs": [
        {
          "output_type": "stream",
          "name": "stdout",
          "text": [
            "['price_n', 'days_since_launch_n', 'store_l4w_sales_n', 'store_sales_trend_n', 'pa_lw_sales_n', 'pa_l4w_sales_n', 'pa_sales_trend_n']\n",
            "(104, 7)\n"
          ]
        },
        {
          "output_type": "execute_result",
          "data": {
            "text/plain": [
              "array([[7.15539630e+00, 5.32000000e+02, 2.90936933e+04, 1.03523899e+00,\n",
              "        3.25714286e+01, 4.09629630e+01, 7.95143374e-01],\n",
              "       [7.15539630e+00, 1.19000000e+02, 2.78092257e+04, 9.52263221e-01,\n",
              "        8.11428571e+01, 9.09285714e+01, 8.92380204e-01],\n",
              "       [7.15539630e+00, 5.04000000e+02, 2.93458871e+04, 1.08968845e+00,\n",
              "        4.71428571e+01, 5.31071429e+01, 8.87693342e-01],\n",
              "       [7.15539630e+00, 3.78000000e+02, 2.96661474e+04, 1.09961406e+00,\n",
              "        6.22857143e+01, 5.67407407e+01, 1.09772473e+00],\n",
              "       [7.15539630e+00, 3.43000000e+02, 3.22605293e+04, 1.06537053e+00,\n",
              "        6.08571429e+01, 6.06785714e+01, 1.00294291e+00],\n",
              "       [7.15493669e+00, 1.40000000e+01, 3.84735379e+04, 1.00750867e+00,\n",
              "        8.08571429e+01, 7.99285714e+01, 1.01161752e+00],\n",
              "       [7.09090982e+00, 6.93000000e+02, 2.94522007e+04, 1.03781456e+00,\n",
              "        7.65714286e+01, 6.50000000e+01, 1.17802198e+00],\n",
              "       [7.15539630e+00, 2.10000000e+01, 3.94972752e+04, 1.05183838e+00,\n",
              "        7.17142857e+01, 7.71904762e+01, 9.29056138e-01],\n",
              "       [7.09090982e+00, 7.07000000e+02, 2.84875611e+04, 1.00992816e+00,\n",
              "        6.22857143e+01, 6.33214286e+01, 9.83643542e-01],\n",
              "       [7.15539630e+00, 5.46000000e+02, 2.96138685e+04, 9.29774507e-01,\n",
              "        5.62857143e+01, 4.54444444e+01, 1.23856095e+00],\n",
              "       [7.15539630e+00, 2.59000000e+02, 3.06279539e+04, 9.47020492e-01,\n",
              "        5.14285714e+01, 7.17857143e+01, 7.16417910e-01],\n",
              "       [7.15539630e+00, 5.25000000e+02, 2.95756430e+04, 9.74903517e-01,\n",
              "        4.45000000e+01, 4.47407407e+01, 9.94619205e-01],\n",
              "       [7.15539630e+00, 9.10000000e+01, 2.79704975e+04, 9.43363986e-01,\n",
              "        7.58571429e+01, 7.76785714e+01, 9.76551724e-01],\n",
              "       [7.15539630e+00, 3.92000000e+02, 3.32517696e+04, 9.61997952e-01,\n",
              "        4.60000000e+01, 5.82592593e+01, 7.89574062e-01],\n",
              "       [7.15539630e+00, 5.39000000e+02, 2.93907848e+04, 1.08392595e+00,\n",
              "        4.82857143e+01, 4.14814815e+01, 1.16403061e+00],\n",
              "       [7.15539630e+00, 4.55000000e+02, 3.04330243e+04, 9.92364122e-01,\n",
              "        4.28571429e+01, 5.20000000e+01, 8.24175824e-01],\n",
              "       [7.15539630e+00, 2.80000000e+02, 2.75123639e+04, 9.77966075e-01,\n",
              "        3.62857143e+01, 4.35000000e+01, 8.34154351e-01],\n",
              "       [7.15539630e+00, 1.96000000e+02, 1.94479540e+04, 1.77150743e+00,\n",
              "        8.76666667e+01, 5.65600000e+01, 1.54997643e+00],\n",
              "       [7.15539630e+00, 3.36000000e+02, 3.10136671e+04, 1.08719511e+00,\n",
              "        6.77142857e+01, 5.53928571e+01, 1.22243714e+00],\n",
              "       [7.15539630e+00, 3.71000000e+02, 3.02821941e+04, 9.36245403e-01,\n",
              "        6.41666667e+01, 6.04444444e+01, 1.06158088e+00],\n",
              "       [7.15539630e+00, 5.74000000e+02, 3.16448111e+04, 1.03774513e+00,\n",
              "        5.48571429e+01, 6.07500000e+01, 9.02998236e-01],\n",
              "       [7.15539630e+00, 4.48000000e+02, 2.70645300e+04, 1.13338291e+00,\n",
              "        5.21428571e+01, 4.75769231e+01, 1.09596951e+00],\n",
              "       [7.15539630e+00, 8.40000000e+01, 3.08523326e+04, 8.93640836e-01,\n",
              "        8.77142857e+01, 8.48148148e+01, 1.03418590e+00],\n",
              "       [7.15539630e+00, 5.81000000e+02, 3.29525736e+04, 9.94392786e-01,\n",
              "        6.58571429e+01, 6.11428571e+01, 1.07710280e+00],\n",
              "       [7.09090982e+00, 6.30000000e+02, 2.89540754e+04, 1.05214254e+00,\n",
              "        4.60000000e+01, 6.08214286e+01, 7.56312390e-01],\n",
              "       [7.15539630e+00, 5.67000000e+02, 3.03185539e+04, 1.14312265e+00,\n",
              "        7.61428571e+01, 6.11071429e+01, 1.24605494e+00],\n",
              "       [7.15539630e+00, 3.50000000e+02, 3.33475489e+04, 1.04947722e+00,\n",
              "        7.65714286e+01, 6.59642857e+01, 1.16080130e+00],\n",
              "       [7.15539630e+00, 3.22000000e+02, 3.04928039e+04, 1.00513598e+00,\n",
              "        5.54285714e+01, 4.53928571e+01, 1.22108576e+00],\n",
              "       [7.15539630e+00, 7.70000000e+01, 3.42323920e+04, 7.87509386e-01,\n",
              "        8.21428571e+01, 9.15600000e+01, 8.97147850e-01],\n",
              "       [7.15539630e+00, 1.26000000e+02, 2.81105804e+04, 9.80139290e-01,\n",
              "        8.10000000e+01, 8.93928571e+01, 9.06112665e-01],\n",
              "       [7.15539630e+00, 4.69000000e+02, 3.07613979e+04, 1.02418799e+00,\n",
              "        6.15714286e+01, 5.36071429e+01, 1.14856762e+00],\n",
              "       [7.15539630e+00, 1.68000000e+02, 3.20730769e+02, 9.91485790e-01,\n",
              "        1.60000000e+00, 1.19230769e+00, 1.34193548e+00],\n",
              "       [7.15539630e+00, 5.95000000e+02, 3.08766536e+04, 9.20679945e-01,\n",
              "        8.44285714e+01, 7.07857143e+01, 1.19273461e+00],\n",
              "       [7.09090982e+00, 6.37000000e+02, 2.87039021e+04, 8.93684117e-01,\n",
              "        4.60000000e+01, 4.94642857e+01, 9.29963899e-01],\n",
              "       [7.09090982e+00, 6.16000000e+02, 2.78306125e+04, 1.02745734e+00,\n",
              "        6.55714286e+01, 8.48571429e+01, 7.72727273e-01],\n",
              "       [7.09090982e+00, 6.72000000e+02, 3.10367763e+04, 1.06195768e+00,\n",
              "        6.90000000e+01, 6.14074074e+01, 1.12364294e+00],\n",
              "       [7.15539630e+00, 2.03000000e+02, 2.90939384e+04, 1.20680322e+00,\n",
              "        8.55714286e+01, 7.87600000e+01, 1.08648335e+00],\n",
              "       [7.15539630e+00, 1.12000000e+02, 2.77853900e+04, 1.05390639e+00,\n",
              "        1.02285714e+02, 8.96071429e+01, 1.14149063e+00],\n",
              "       [7.15539630e+00, 3.57000000e+02, 3.31995846e+04, 8.94996782e-01,\n",
              "        6.61428571e+01, 6.78214286e+01, 9.75250132e-01],\n",
              "       [7.15539630e+00, 1.40000000e+02, 2.32738130e+04, 4.71227470e-01,\n",
              "        3.81666667e+01, 7.41111111e+01, 5.14992504e-01],\n",
              "       [7.15539630e+00, 3.01000000e+02, 2.87456804e+04, 1.06404146e+00,\n",
              "        4.22857143e+01, 4.14615385e+01, 1.01987808e+00],\n",
              "       [7.15539630e+00, 2.45000000e+02, 3.56413471e+04, 8.41318528e-01,\n",
              "        7.21428571e+01, 9.05357143e+01, 7.96844181e-01],\n",
              "       [7.15539630e+00, 1.61000000e+02, 2.68713185e+03, 1.38224915e-01,\n",
              "        1.42857143e+00, 9.33333333e+00, 1.53061224e-01],\n",
              "       [7.15539630e+00, 5.11000000e+02, 2.99546946e+04, 1.02526533e+00,\n",
              "        4.62857143e+01, 5.30000000e+01, 8.73315364e-01],\n",
              "       [7.09090982e+00, 7.29000000e+02, 2.64231307e+04, 8.83393535e-01,\n",
              "        5.14285714e+01, 5.55714286e+01, 9.25449871e-01],\n",
              "       [7.15539630e+00, 1.54000000e+02, 9.41866815e+03, 2.69222171e-02,\n",
              "        0.00000000e+00, 3.25555556e+01, 0.00000000e+00],\n",
              "       [7.15539630e+00, 4.90000000e+02, 2.94495496e+04, 9.28281428e-01,\n",
              "        4.97142857e+01, 5.08928571e+01, 9.76842105e-01],\n",
              "       [7.09090982e+00, 6.23000000e+02, 2.82499350e+04, 1.06565929e+00,\n",
              "        4.02857143e+01, 7.38214286e+01, 5.45718433e-01],\n",
              "       [7.09090982e+00, 7.00000000e+02, 2.79741536e+04, 9.66876593e-01,\n",
              "        6.28571429e+01, 6.34642857e+01, 9.90433315e-01],\n",
              "       [7.11162860e+00, 3.29000000e+02, 3.04224996e+04, 9.96150183e-01,\n",
              "        5.87142857e+01, 4.95000000e+01, 1.18614719e+00],\n",
              "       [7.15495014e+00, 7.00000000e+01, 3.97435120e+04, 7.79155997e-01,\n",
              "        6.50000000e+01, 9.77200000e+01, 6.65165780e-01],\n",
              "       [7.08927655e+00, 6.58000000e+02, 2.71286600e+04, 1.13667299e+00,\n",
              "        5.23333333e+01, 5.15925926e+01, 1.01435750e+00],\n",
              "       [7.15539630e+00, 6.30000000e+01, 4.27520948e+04, 9.14355079e-01,\n",
              "        1.07666667e+02, 1.23640000e+02, 8.70807721e-01],\n",
              "       [7.15539630e+00, 3.08000000e+02, 2.99429708e+04, 1.04709841e+00,\n",
              "        4.41428571e+01, 4.35769231e+01, 1.01298701e+00],\n",
              "       [7.15539630e+00, 5.53000000e+02, 2.92618329e+04, 9.41046706e-01,\n",
              "        6.42857143e+01, 5.03571429e+01, 1.27659574e+00],\n",
              "       [7.15360815e+00, 1.05000000e+02, 2.73573161e+04, 1.06461958e+00,\n",
              "        9.31428571e+01, 8.59642857e+01, 1.08350644e+00],\n",
              "       [7.01782997e+00, 3.50000000e+01, 4.00278354e+04, 9.10656003e-01,\n",
              "        1.58857143e+02, 1.03250000e+02, 1.53856797e+00],\n",
              "       [7.15539630e+00, 6.02000000e+02, 2.95786546e+04, 9.34702852e-01,\n",
              "        9.80000000e+01, 8.15714286e+01, 1.20140105e+00],\n",
              "       [7.14679131e+00, 2.73000000e+02, 2.79155246e+04, 9.55181506e-01,\n",
              "        4.31428571e+01, 4.88928571e+01, 8.82395909e-01],\n",
              "       [7.09090982e+00, 6.79000000e+02, 3.13188078e+04, 8.53058015e-01,\n",
              "        6.28571429e+01, 6.27407407e+01, 1.00185529e+00],\n",
              "       [7.15539630e+00, 4.90000000e+01, 4.20391011e+04, 1.10946477e+00,\n",
              "        1.04142857e+02, 1.30535714e+02, 7.97811218e-01],\n",
              "       [7.12433102e+00, 4.20000000e+01, 4.07650632e+04, 1.02321280e+00,\n",
              "        1.57571429e+02, 1.22428571e+02, 1.28704784e+00],\n",
              "       [7.15539630e+00, 2.86000000e+02, 2.70725550e+04, 9.90887582e-01,\n",
              "        3.28571429e+01, 3.82500000e+01, 8.59010271e-01],\n",
              "       [7.15539630e+00, 4.76000000e+02, 3.07625275e+04, 9.97284579e-01,\n",
              "        4.55714286e+01, 5.19642857e+01, 8.76975945e-01],\n",
              "       [7.12826676e+00, 6.09000000e+02, 2.80499329e+04, 9.50195297e-01,\n",
              "        9.14285714e+01, 8.79642857e+01, 1.03938287e+00],\n",
              "       [7.15539630e+00, 4.18000000e+02, 3.42719350e+04, 1.05162193e+00,\n",
              "        1.18142857e+02, 9.92857143e+01, 1.18992806e+00],\n",
              "       [7.15465312e+00, 2.94000000e+02, 2.76897027e+04, 1.10557886e+00,\n",
              "        5.92000000e+01, 4.16923077e+01, 1.41992620e+00],\n",
              "       [7.15539630e+00, 5.60000000e+02, 2.96184561e+04, 1.06505952e+00,\n",
              "        4.77142857e+01, 5.41428571e+01, 8.81266491e-01],\n",
              "       [7.15539630e+00, 2.18000000e+02, 3.54538362e+04, 1.20862859e+00,\n",
              "        9.46666667e+01, 9.04230769e+01, 1.04693038e+00],\n",
              "       [7.15539630e+00, 3.99000000e+02, 3.37597386e+04, 9.20726028e-01,\n",
              "        6.08571429e+01, 5.76428571e+01, 1.05576208e+00],\n",
              "       [7.09090982e+00, 6.51000000e+02, 2.71679296e+04, 9.43352130e-01,\n",
              "        5.77142857e+01, 5.00357143e+01, 1.15346181e+00],\n",
              "       [7.15539630e+00, 4.06000000e+02, 3.46107964e+04, 1.04087591e+00,\n",
              "        1.14428571e+02, 7.06785714e+01, 1.61899949e+00],\n",
              "       [7.15539630e+00, 0.00000000e+00, 0.00000000e+00, 0.00000000e+00,\n",
              "        0.00000000e+00, 0.00000000e+00, 0.00000000e+00],\n",
              "       [7.15539630e+00, 4.34000000e+02, 2.88911060e+04, 1.10219046e+00,\n",
              "        5.40000000e+01, 7.75600000e+01, 6.96235173e-01],\n",
              "       [7.15539630e+00, 4.83000000e+02, 3.02814371e+04, 9.33782629e-01,\n",
              "        4.67142857e+01, 5.29285714e+01, 8.82591093e-01],\n",
              "       [7.09090982e+00, 6.65000000e+02, 2.94726693e+04, 1.17713804e+00,\n",
              "        6.52857143e+01, 5.65925926e+01, 1.15360883e+00],\n",
              "       [7.15539630e+00, 3.64000000e+02, 3.17177061e+04, 8.76179154e-01,\n",
              "        3.54285714e+01, 5.97500000e+01, 5.92946802e-01],\n",
              "       [7.15539630e+00, 2.10000000e+02, 3.38159985e+04, 1.05413617e+00,\n",
              "        1.06857143e+02, 9.18846154e+01, 1.16294923e+00],\n",
              "       [7.15539630e+00, 2.17000000e+02, 3.45348200e+04, 9.45378558e-01,\n",
              "        7.28333333e+01, 8.88461538e+01, 8.19769120e-01],\n",
              "       [7.15539630e+00, 4.41000000e+02, 2.68551368e+04, 1.08036979e+00,\n",
              "        5.90000000e+01, 5.28800000e+01, 1.11573374e+00],\n",
              "       [7.15539630e+00, 5.88000000e+02, 3.24342311e+04, 9.08671105e-01,\n",
              "        7.80000000e+01, 6.87142857e+01, 1.13513514e+00],\n",
              "       [7.15539630e+00, 1.89000000e+02, 1.17114867e+04, 2.52176225e+00,\n",
              "        8.60000000e+01, 3.73333333e+01, 2.30357143e+00],\n",
              "       [7.15539630e+00, 3.15000000e+02, 3.04737831e+04, 9.64172006e-01,\n",
              "        3.97142857e+01, 4.53461538e+01, 8.75802738e-01],\n",
              "       [7.15539630e+00, 4.27000000e+02, 3.00620780e+04, 4.18850553e-01,\n",
              "        1.62000000e+01, 9.44800000e+01, 1.71464860e-01],\n",
              "       [7.09090982e+00, 6.86000000e+02, 3.04840700e+04, 9.04287949e-01,\n",
              "        5.15714286e+01, 6.21785714e+01, 8.29408386e-01],\n",
              "       [7.15539630e+00, 7.00000000e+00, 3.81846529e+04, 1.00000000e+00,\n",
              "        7.90000000e+01, 7.90000000e+01, 1.00000000e+00],\n",
              "       [7.15539630e+00, 1.75000000e+02, 4.07307692e+02, 1.62215028e+00,\n",
              "        6.28571429e+00, 2.38461538e+00, 2.63594470e+00],\n",
              "       [7.15539630e+00, 5.18000000e+02, 2.97887657e+04, 8.95429993e-01,\n",
              "        4.10000000e+01, 5.08214286e+01, 8.06746311e-01],\n",
              "       [7.09090982e+00, 7.28000000e+02, 2.67480204e+04, 9.26805464e-01,\n",
              "        4.98571429e+01, 5.44285714e+01, 9.16010499e-01],\n",
              "       [7.15539630e+00, 9.80000000e+01, 2.68156150e+04, 9.82519540e-01,\n",
              "        8.71428571e+01, 8.32142857e+01, 1.04721030e+00],\n",
              "       [7.15539630e+00, 2.80000000e+01, 4.04611014e+04, 1.07146317e+00,\n",
              "        1.01571429e+02, 8.32857143e+01, 1.21955403e+00],\n",
              "       [7.15539630e+00, 1.82000000e+02, 4.25896680e+03, 3.82170820e+00,\n",
              "        5.46666667e+01, 1.56000000e+01, 3.50427350e+00],\n",
              "       [7.15539630e+00, 1.33000000e+02, 2.74132782e+04, 9.60699611e-01,\n",
              "        9.10000000e+01, 8.88571429e+01, 1.02411576e+00],\n",
              "       [7.15539630e+00, 4.13000000e+02, 3.38454864e+04, 1.07207197e+00,\n",
              "        1.47142857e+02, 9.21071429e+01, 1.59751842e+00],\n",
              "       [7.15539630e+00, 2.66000000e+02, 2.87458579e+04, 9.55741325e-01,\n",
              "        4.31428571e+01, 5.61428571e+01, 7.68447837e-01],\n",
              "       [7.09090982e+00, 6.44000000e+02, 2.82869000e+04, 9.51916208e-01,\n",
              "        5.04285714e+01, 4.56785714e+01, 1.10398749e+00],\n",
              "       [7.15539630e+00, 3.85000000e+02, 3.21634663e+04, 1.22331458e+00,\n",
              "        6.14285714e+01, 5.55185185e+01, 1.10645192e+00],\n",
              "       [7.15539630e+00, 5.60000000e+01, 4.19007662e+04, 1.03002007e+00,\n",
              "        1.22600000e+02, 1.36807692e+02, 8.96148440e-01],\n",
              "       [7.15539630e+00, 4.97000000e+02, 2.90211671e+04, 1.02655845e+00,\n",
              "        6.88571429e+01, 5.27142857e+01, 1.30623306e+00],\n",
              "       [7.09090982e+00, 7.21000000e+02, 2.73123561e+04, 9.12247396e-01,\n",
              "        5.72857143e+01, 5.76785714e+01, 9.93188854e-01],\n",
              "       [7.15539630e+00, 4.62000000e+02, 3.01384039e+04, 1.01747326e+00,\n",
              "        5.78571429e+01, 5.29642857e+01, 1.09238031e+00],\n",
              "       [7.15490437e+00, 2.52000000e+02, 3.29345375e+04, 8.65923848e-01,\n",
              "        5.78571429e+01, 8.16071429e+01, 7.08971554e-01],\n",
              "       [7.15539630e+00, 1.47000000e+02, 1.64961122e+04, 2.05589567e-02,\n",
              "        1.85714286e+00, 5.35555556e+01, 3.46769413e-02],\n",
              "       [7.09090982e+00, 7.14000000e+02, 2.87249304e+04, 9.92721442e-01,\n",
              "        4.82857143e+01, 6.25000000e+01, 7.72571429e-01]])"
            ]
          },
          "metadata": {},
          "execution_count": 25
        }
      ]
    },
    {
      "cell_type": "code",
      "source": [
        "# step 2 of 5\n",
        "vif_cols # These are the same 7 columns as in fin_num_col_names"
      ],
      "metadata": {
        "colab": {
          "base_uri": "https://localhost:8080/"
        },
        "id": "N2pHjDSqoXnh",
        "outputId": "cb711fed-0384-4aa1-ab07-338626e13fd0"
      },
      "execution_count": null,
      "outputs": [
        {
          "output_type": "execute_result",
          "data": {
            "text/plain": [
              "['price_n',\n",
              " 'days_since_launch_n',\n",
              " 'store_l4w_sales_n',\n",
              " 'store_sales_trend_n',\n",
              " 'pa_lw_sales_n',\n",
              " 'pa_l4w_sales_n',\n",
              " 'pa_sales_trend_n']"
            ]
          },
          "metadata": {},
          "execution_count": 26
        }
      ]
    },
    {
      "cell_type": "code",
      "source": [
        "# step 3 of 5\n",
        "vif_data = pd.DataFrame() # create empty df\n",
        "print(vif_data)"
      ],
      "metadata": {
        "colab": {
          "base_uri": "https://localhost:8080/"
        },
        "id": "u0S6Qztxqa8P",
        "outputId": "21b5d1da-37d8-4e34-cd28-79363b67b0a9"
      },
      "execution_count": null,
      "outputs": [
        {
          "output_type": "stream",
          "name": "stdout",
          "text": [
            "Empty DataFrame\n",
            "Columns: []\n",
            "Index: []\n"
          ]
        }
      ]
    },
    {
      "cell_type": "code",
      "source": [
        "# step 4 of 5\n",
        "vif_data[\"feature\"] = vif_cols # set the feature name columns\n",
        "print(vif_data)                # no values yet"
      ],
      "metadata": {
        "colab": {
          "base_uri": "https://localhost:8080/"
        },
        "id": "0KOHlZi_qe0V",
        "outputId": "69307f78-1f28-49ad-dddc-c8af8ebde8b2"
      },
      "execution_count": null,
      "outputs": [
        {
          "output_type": "stream",
          "name": "stdout",
          "text": [
            "               feature\n",
            "0              price_n\n",
            "1  days_since_launch_n\n",
            "2    store_l4w_sales_n\n",
            "3  store_sales_trend_n\n",
            "4        pa_lw_sales_n\n",
            "5       pa_l4w_sales_n\n",
            "6     pa_sales_trend_n\n"
          ]
        }
      ]
    },
    {
      "cell_type": "code",
      "source": [
        "# step 5 of 5\n",
        "vif_data[\"VIF\"] = [variance_inflation_factor(X_num, i) for i in range(len(vif_cols))] # Run VIF for each column name in the X_sum array\n",
        "vif_data                          # all the 7 rows of data and the VIF value"
      ],
      "metadata": {
        "colab": {
          "base_uri": "https://localhost:8080/",
          "height": 269
        },
        "id": "3xJhYc7Qqm3D",
        "outputId": "59ceb851-a660-4e4f-e533-92dee9c94990"
      },
      "execution_count": null,
      "outputs": [
        {
          "output_type": "execute_result",
          "data": {
            "text/plain": [
              "               feature        VIF\n",
              "0              price_n  36.788934\n",
              "1  days_since_launch_n   4.941608\n",
              "2    store_l4w_sales_n  39.243788\n",
              "3  store_sales_trend_n  35.720264\n",
              "4        pa_lw_sales_n  37.182807\n",
              "5       pa_l4w_sales_n  50.743397\n",
              "6     pa_sales_trend_n  53.039007"
            ],
            "text/html": [
              "\n",
              "  <div id=\"df-cc1ceb78-e82d-4ca5-ba25-ec4c89daba2c\">\n",
              "    <div class=\"colab-df-container\">\n",
              "      <div>\n",
              "<style scoped>\n",
              "    .dataframe tbody tr th:only-of-type {\n",
              "        vertical-align: middle;\n",
              "    }\n",
              "\n",
              "    .dataframe tbody tr th {\n",
              "        vertical-align: top;\n",
              "    }\n",
              "\n",
              "    .dataframe thead th {\n",
              "        text-align: right;\n",
              "    }\n",
              "</style>\n",
              "<table border=\"1\" class=\"dataframe\">\n",
              "  <thead>\n",
              "    <tr style=\"text-align: right;\">\n",
              "      <th></th>\n",
              "      <th>feature</th>\n",
              "      <th>VIF</th>\n",
              "    </tr>\n",
              "  </thead>\n",
              "  <tbody>\n",
              "    <tr>\n",
              "      <th>0</th>\n",
              "      <td>price_n</td>\n",
              "      <td>36.788934</td>\n",
              "    </tr>\n",
              "    <tr>\n",
              "      <th>1</th>\n",
              "      <td>days_since_launch_n</td>\n",
              "      <td>4.941608</td>\n",
              "    </tr>\n",
              "    <tr>\n",
              "      <th>2</th>\n",
              "      <td>store_l4w_sales_n</td>\n",
              "      <td>39.243788</td>\n",
              "    </tr>\n",
              "    <tr>\n",
              "      <th>3</th>\n",
              "      <td>store_sales_trend_n</td>\n",
              "      <td>35.720264</td>\n",
              "    </tr>\n",
              "    <tr>\n",
              "      <th>4</th>\n",
              "      <td>pa_lw_sales_n</td>\n",
              "      <td>37.182807</td>\n",
              "    </tr>\n",
              "    <tr>\n",
              "      <th>5</th>\n",
              "      <td>pa_l4w_sales_n</td>\n",
              "      <td>50.743397</td>\n",
              "    </tr>\n",
              "    <tr>\n",
              "      <th>6</th>\n",
              "      <td>pa_sales_trend_n</td>\n",
              "      <td>53.039007</td>\n",
              "    </tr>\n",
              "  </tbody>\n",
              "</table>\n",
              "</div>\n",
              "      <button class=\"colab-df-convert\" onclick=\"convertToInteractive('df-cc1ceb78-e82d-4ca5-ba25-ec4c89daba2c')\"\n",
              "              title=\"Convert this dataframe to an interactive table.\"\n",
              "              style=\"display:none;\">\n",
              "        \n",
              "  <svg xmlns=\"http://www.w3.org/2000/svg\" height=\"24px\"viewBox=\"0 0 24 24\"\n",
              "       width=\"24px\">\n",
              "    <path d=\"M0 0h24v24H0V0z\" fill=\"none\"/>\n",
              "    <path d=\"M18.56 5.44l.94 2.06.94-2.06 2.06-.94-2.06-.94-.94-2.06-.94 2.06-2.06.94zm-11 1L8.5 8.5l.94-2.06 2.06-.94-2.06-.94L8.5 2.5l-.94 2.06-2.06.94zm10 10l.94 2.06.94-2.06 2.06-.94-2.06-.94-.94-2.06-.94 2.06-2.06.94z\"/><path d=\"M17.41 7.96l-1.37-1.37c-.4-.4-.92-.59-1.43-.59-.52 0-1.04.2-1.43.59L10.3 9.45l-7.72 7.72c-.78.78-.78 2.05 0 2.83L4 21.41c.39.39.9.59 1.41.59.51 0 1.02-.2 1.41-.59l7.78-7.78 2.81-2.81c.8-.78.8-2.07 0-2.86zM5.41 20L4 18.59l7.72-7.72 1.47 1.35L5.41 20z\"/>\n",
              "  </svg>\n",
              "      </button>\n",
              "      \n",
              "  <style>\n",
              "    .colab-df-container {\n",
              "      display:flex;\n",
              "      flex-wrap:wrap;\n",
              "      gap: 12px;\n",
              "    }\n",
              "\n",
              "    .colab-df-convert {\n",
              "      background-color: #E8F0FE;\n",
              "      border: none;\n",
              "      border-radius: 50%;\n",
              "      cursor: pointer;\n",
              "      display: none;\n",
              "      fill: #1967D2;\n",
              "      height: 32px;\n",
              "      padding: 0 0 0 0;\n",
              "      width: 32px;\n",
              "    }\n",
              "\n",
              "    .colab-df-convert:hover {\n",
              "      background-color: #E2EBFA;\n",
              "      box-shadow: 0px 1px 2px rgba(60, 64, 67, 0.3), 0px 1px 3px 1px rgba(60, 64, 67, 0.15);\n",
              "      fill: #174EA6;\n",
              "    }\n",
              "\n",
              "    [theme=dark] .colab-df-convert {\n",
              "      background-color: #3B4455;\n",
              "      fill: #D2E3FC;\n",
              "    }\n",
              "\n",
              "    [theme=dark] .colab-df-convert:hover {\n",
              "      background-color: #434B5C;\n",
              "      box-shadow: 0px 1px 3px 1px rgba(0, 0, 0, 0.15);\n",
              "      filter: drop-shadow(0px 1px 2px rgba(0, 0, 0, 0.3));\n",
              "      fill: #FFFFFF;\n",
              "    }\n",
              "  </style>\n",
              "\n",
              "      <script>\n",
              "        const buttonEl =\n",
              "          document.querySelector('#df-cc1ceb78-e82d-4ca5-ba25-ec4c89daba2c button.colab-df-convert');\n",
              "        buttonEl.style.display =\n",
              "          google.colab.kernel.accessAllowed ? 'block' : 'none';\n",
              "\n",
              "        async function convertToInteractive(key) {\n",
              "          const element = document.querySelector('#df-cc1ceb78-e82d-4ca5-ba25-ec4c89daba2c');\n",
              "          const dataTable =\n",
              "            await google.colab.kernel.invokeFunction('convertToInteractive',\n",
              "                                                     [key], {});\n",
              "          if (!dataTable) return;\n",
              "\n",
              "          const docLinkHtml = 'Like what you see? Visit the ' +\n",
              "            '<a target=\"_blank\" href=https://colab.research.google.com/notebooks/data_table.ipynb>data table notebook</a>'\n",
              "            + ' to learn more about interactive tables.';\n",
              "          element.innerHTML = '';\n",
              "          dataTable['output_type'] = 'display_data';\n",
              "          await google.colab.output.renderOutput(dataTable, element);\n",
              "          const docLink = document.createElement('div');\n",
              "          docLink.innerHTML = docLinkHtml;\n",
              "          element.appendChild(docLink);\n",
              "        }\n",
              "      </script>\n",
              "    </div>\n",
              "  </div>\n",
              "  "
            ]
          },
          "metadata": {},
          "execution_count": 29
        }
      ]
    },
    {
      "cell_type": "code",
      "source": [
        "# Next step 6 - THIS CAN REMOVE price_n, this we don´t want!\n",
        "# we want to start removing columns based on VIF value max\n",
        "# remove feature with highest VIF and store in a new df\n",
        "vif_data_v2 = vif_data[vif_data[\"VIF\"]!=vif_data[\"VIF\"].max()].reset_index(drop=True)\n",
        "vif_data_v2    # Removed pa_lw4_sales_n with highest VIF"
      ],
      "metadata": {
        "colab": {
          "base_uri": "https://localhost:8080/",
          "height": 238
        },
        "id": "_PUJvWQwqIz4",
        "outputId": "e3a7334a-45b1-473a-f3aa-a37e2e91d148"
      },
      "execution_count": null,
      "outputs": [
        {
          "output_type": "execute_result",
          "data": {
            "text/plain": [
              "               feature        VIF\n",
              "0              price_n  36.788934\n",
              "1  days_since_launch_n   4.941608\n",
              "2    store_l4w_sales_n  39.243788\n",
              "3  store_sales_trend_n  35.720264\n",
              "4        pa_lw_sales_n  37.182807\n",
              "5       pa_l4w_sales_n  50.743397"
            ],
            "text/html": [
              "\n",
              "  <div id=\"df-7d60431e-4162-4d17-9f73-ed21ae6f752e\">\n",
              "    <div class=\"colab-df-container\">\n",
              "      <div>\n",
              "<style scoped>\n",
              "    .dataframe tbody tr th:only-of-type {\n",
              "        vertical-align: middle;\n",
              "    }\n",
              "\n",
              "    .dataframe tbody tr th {\n",
              "        vertical-align: top;\n",
              "    }\n",
              "\n",
              "    .dataframe thead th {\n",
              "        text-align: right;\n",
              "    }\n",
              "</style>\n",
              "<table border=\"1\" class=\"dataframe\">\n",
              "  <thead>\n",
              "    <tr style=\"text-align: right;\">\n",
              "      <th></th>\n",
              "      <th>feature</th>\n",
              "      <th>VIF</th>\n",
              "    </tr>\n",
              "  </thead>\n",
              "  <tbody>\n",
              "    <tr>\n",
              "      <th>0</th>\n",
              "      <td>price_n</td>\n",
              "      <td>36.788934</td>\n",
              "    </tr>\n",
              "    <tr>\n",
              "      <th>1</th>\n",
              "      <td>days_since_launch_n</td>\n",
              "      <td>4.941608</td>\n",
              "    </tr>\n",
              "    <tr>\n",
              "      <th>2</th>\n",
              "      <td>store_l4w_sales_n</td>\n",
              "      <td>39.243788</td>\n",
              "    </tr>\n",
              "    <tr>\n",
              "      <th>3</th>\n",
              "      <td>store_sales_trend_n</td>\n",
              "      <td>35.720264</td>\n",
              "    </tr>\n",
              "    <tr>\n",
              "      <th>4</th>\n",
              "      <td>pa_lw_sales_n</td>\n",
              "      <td>37.182807</td>\n",
              "    </tr>\n",
              "    <tr>\n",
              "      <th>5</th>\n",
              "      <td>pa_l4w_sales_n</td>\n",
              "      <td>50.743397</td>\n",
              "    </tr>\n",
              "  </tbody>\n",
              "</table>\n",
              "</div>\n",
              "      <button class=\"colab-df-convert\" onclick=\"convertToInteractive('df-7d60431e-4162-4d17-9f73-ed21ae6f752e')\"\n",
              "              title=\"Convert this dataframe to an interactive table.\"\n",
              "              style=\"display:none;\">\n",
              "        \n",
              "  <svg xmlns=\"http://www.w3.org/2000/svg\" height=\"24px\"viewBox=\"0 0 24 24\"\n",
              "       width=\"24px\">\n",
              "    <path d=\"M0 0h24v24H0V0z\" fill=\"none\"/>\n",
              "    <path d=\"M18.56 5.44l.94 2.06.94-2.06 2.06-.94-2.06-.94-.94-2.06-.94 2.06-2.06.94zm-11 1L8.5 8.5l.94-2.06 2.06-.94-2.06-.94L8.5 2.5l-.94 2.06-2.06.94zm10 10l.94 2.06.94-2.06 2.06-.94-2.06-.94-.94-2.06-.94 2.06-2.06.94z\"/><path d=\"M17.41 7.96l-1.37-1.37c-.4-.4-.92-.59-1.43-.59-.52 0-1.04.2-1.43.59L10.3 9.45l-7.72 7.72c-.78.78-.78 2.05 0 2.83L4 21.41c.39.39.9.59 1.41.59.51 0 1.02-.2 1.41-.59l7.78-7.78 2.81-2.81c.8-.78.8-2.07 0-2.86zM5.41 20L4 18.59l7.72-7.72 1.47 1.35L5.41 20z\"/>\n",
              "  </svg>\n",
              "      </button>\n",
              "      \n",
              "  <style>\n",
              "    .colab-df-container {\n",
              "      display:flex;\n",
              "      flex-wrap:wrap;\n",
              "      gap: 12px;\n",
              "    }\n",
              "\n",
              "    .colab-df-convert {\n",
              "      background-color: #E8F0FE;\n",
              "      border: none;\n",
              "      border-radius: 50%;\n",
              "      cursor: pointer;\n",
              "      display: none;\n",
              "      fill: #1967D2;\n",
              "      height: 32px;\n",
              "      padding: 0 0 0 0;\n",
              "      width: 32px;\n",
              "    }\n",
              "\n",
              "    .colab-df-convert:hover {\n",
              "      background-color: #E2EBFA;\n",
              "      box-shadow: 0px 1px 2px rgba(60, 64, 67, 0.3), 0px 1px 3px 1px rgba(60, 64, 67, 0.15);\n",
              "      fill: #174EA6;\n",
              "    }\n",
              "\n",
              "    [theme=dark] .colab-df-convert {\n",
              "      background-color: #3B4455;\n",
              "      fill: #D2E3FC;\n",
              "    }\n",
              "\n",
              "    [theme=dark] .colab-df-convert:hover {\n",
              "      background-color: #434B5C;\n",
              "      box-shadow: 0px 1px 3px 1px rgba(0, 0, 0, 0.15);\n",
              "      filter: drop-shadow(0px 1px 2px rgba(0, 0, 0, 0.3));\n",
              "      fill: #FFFFFF;\n",
              "    }\n",
              "  </style>\n",
              "\n",
              "      <script>\n",
              "        const buttonEl =\n",
              "          document.querySelector('#df-7d60431e-4162-4d17-9f73-ed21ae6f752e button.colab-df-convert');\n",
              "        buttonEl.style.display =\n",
              "          google.colab.kernel.accessAllowed ? 'block' : 'none';\n",
              "\n",
              "        async function convertToInteractive(key) {\n",
              "          const element = document.querySelector('#df-7d60431e-4162-4d17-9f73-ed21ae6f752e');\n",
              "          const dataTable =\n",
              "            await google.colab.kernel.invokeFunction('convertToInteractive',\n",
              "                                                     [key], {});\n",
              "          if (!dataTable) return;\n",
              "\n",
              "          const docLinkHtml = 'Like what you see? Visit the ' +\n",
              "            '<a target=\"_blank\" href=https://colab.research.google.com/notebooks/data_table.ipynb>data table notebook</a>'\n",
              "            + ' to learn more about interactive tables.';\n",
              "          element.innerHTML = '';\n",
              "          dataTable['output_type'] = 'display_data';\n",
              "          await google.colab.output.renderOutput(dataTable, element);\n",
              "          const docLink = document.createElement('div');\n",
              "          docLink.innerHTML = docLinkHtml;\n",
              "          element.appendChild(docLink);\n",
              "        }\n",
              "      </script>\n",
              "    </div>\n",
              "  </div>\n",
              "  "
            ]
          },
          "metadata": {},
          "execution_count": 30
        }
      ]
    },
    {
      "cell_type": "code",
      "source": [
        "# Next step 6 new version - This checks that we do not drop price_n - TEST THIS and wrap into a function\n",
        "vif_data_sorted = vif_data.sort_values(by = 'VIF', ascending=False).reset_index(drop=True)\n",
        "print(f'Sorted df before removal of feature:\\n {vif_data_sorted}\\n')\n",
        "if vif_data_sorted.iloc[0][0] != 'price_n':\n",
        "  print(f'Removed feature: {vif_data_sorted.iloc[0][0]} with VIF: {vif_data_sorted.iloc[0][1]}\\n')\n",
        "  # Drop the highest VIF feature (index 0)\n",
        "  vif_data_sorted_reduced = vif_data_sorted.iloc[1:].reset_index(drop=True)\n",
        "  print(f'Sorted df after removal of feature:\\n {vif_data_sorted_reduced}')\n",
        "\n",
        "else:\n",
        "  print(f'price_n has highest VIF: {vif_data_sorted.iloc[0][0]} with VIF: {vif_data_sorted.iloc[0][1]}\\n')\n",
        "  print(f'But not allowed to remove the feature: price_n. Removing next feature instead: vif_data_sorted.iloc[1][0]\\n')\n",
        "  # Drop the second highest VIF feature (index 1) instead\n",
        "  vif_data_sorted_reduced = vif_data_sorted.drop([1], axis=0).reset_index(drop=True)\n",
        "  print(f'Sorted df after removal of feature:\\n {vif_data_sorted_reduced}')\n"
      ],
      "metadata": {
        "colab": {
          "base_uri": "https://localhost:8080/"
        },
        "id": "UVGjJS27zqbE",
        "outputId": "901ca1d9-561b-4071-e0f8-8c103c0e95c9"
      },
      "execution_count": null,
      "outputs": [
        {
          "output_type": "stream",
          "name": "stdout",
          "text": [
            "Sorted df before removal of feature:\n",
            "                feature        VIF\n",
            "0     pa_sales_trend_n  53.039007\n",
            "1       pa_l4w_sales_n  50.743397\n",
            "2    store_l4w_sales_n  39.243788\n",
            "3        pa_lw_sales_n  37.182807\n",
            "4              price_n  36.788934\n",
            "5  store_sales_trend_n  35.720264\n",
            "6  days_since_launch_n   4.941608\n",
            "\n",
            "Removed feature: pa_sales_trend_n with VIF: 53.039007010501436\n",
            "\n",
            "Sorted df after removal of feature:\n",
            "                feature        VIF\n",
            "0       pa_l4w_sales_n  50.743397\n",
            "1    store_l4w_sales_n  39.243788\n",
            "2        pa_lw_sales_n  37.182807\n",
            "3              price_n  36.788934\n",
            "4  store_sales_trend_n  35.720264\n",
            "5  days_since_launch_n   4.941608\n"
          ]
        }
      ]
    },
    {
      "cell_type": "code",
      "source": [
        "# This is the highest VIF feature\n",
        "vif_data_sorted.iloc[0][0]"
      ],
      "metadata": {
        "colab": {
          "base_uri": "https://localhost:8080/",
          "height": 35
        },
        "id": "V83y9czq0Z3E",
        "outputId": "8dc8f9c5-a071-46db-cc3b-de7b5d2df317"
      },
      "execution_count": null,
      "outputs": [
        {
          "output_type": "execute_result",
          "data": {
            "text/plain": [
              "'pa_sales_trend_n'"
            ],
            "application/vnd.google.colaboratory.intrinsic+json": {
              "type": "string"
            }
          },
          "metadata": {},
          "execution_count": 32
        }
      ]
    },
    {
      "cell_type": "code",
      "source": [
        "# This is the second highest VIF feature\n",
        "vif_data_sorted.iloc[1][0]\n"
      ],
      "metadata": {
        "colab": {
          "base_uri": "https://localhost:8080/",
          "height": 35
        },
        "id": "3meE7hk5056i",
        "outputId": "038b8a96-7f71-4c76-adf9-527836866c32"
      },
      "execution_count": null,
      "outputs": [
        {
          "output_type": "execute_result",
          "data": {
            "text/plain": [
              "'pa_l4w_sales_n'"
            ],
            "application/vnd.google.colaboratory.intrinsic+json": {
              "type": "string"
            }
          },
          "metadata": {},
          "execution_count": 33
        }
      ]
    },
    {
      "cell_type": "code",
      "source": [
        "# Next step 7a\n",
        "# create a new list of cols without the one with highest VIF\n",
        "fin_num_col_names_2 = [row for row  in vif_data_sorted_reduced['feature']]\n",
        "fin_num_col_names_2"
      ],
      "metadata": {
        "colab": {
          "base_uri": "https://localhost:8080/"
        },
        "id": "nFeizmINrvpI",
        "outputId": "b9fa4720-aedb-4228-b394-cdbeb6779ea8"
      },
      "execution_count": null,
      "outputs": [
        {
          "output_type": "execute_result",
          "data": {
            "text/plain": [
              "['pa_l4w_sales_n',\n",
              " 'store_l4w_sales_n',\n",
              " 'pa_lw_sales_n',\n",
              " 'price_n',\n",
              " 'store_sales_trend_n',\n",
              " 'days_since_launch_n']"
            ]
          },
          "metadata": {},
          "execution_count": 35
        }
      ]
    },
    {
      "cell_type": "code",
      "source": [
        "print(type(fin_num_col_names))\n",
        "print(len(fin_num_col_names))\n",
        "print(type(fin_num_col_names_2))\n",
        "print(len(fin_num_col_names_2))"
      ],
      "metadata": {
        "colab": {
          "base_uri": "https://localhost:8080/"
        },
        "id": "oO65ksS8tk1o",
        "outputId": "54fd2577-b5f7-465f-8a1f-9013a974d68b"
      },
      "execution_count": null,
      "outputs": [
        {
          "output_type": "stream",
          "name": "stdout",
          "text": [
            "<class 'list'>\n",
            "7\n",
            "<class 'list'>\n",
            "6\n"
          ]
        }
      ]
    },
    {
      "cell_type": "code",
      "source": [
        "# Next step 7b\n",
        "# create a new df\n",
        "df2 = vif_data_sorted_reduced.copy()\n",
        "df2"
      ],
      "metadata": {
        "colab": {
          "base_uri": "https://localhost:8080/",
          "height": 238
        },
        "id": "jK1OvpqntJ8t",
        "outputId": "5fac40c8-95d1-4b1d-9aed-03ac0a5c44e5"
      },
      "execution_count": null,
      "outputs": [
        {
          "output_type": "execute_result",
          "data": {
            "text/plain": [
              "               feature        VIF\n",
              "0       pa_l4w_sales_n  50.743397\n",
              "1    store_l4w_sales_n  39.243788\n",
              "2        pa_lw_sales_n  37.182807\n",
              "3              price_n  36.788934\n",
              "4  store_sales_trend_n  35.720264\n",
              "5  days_since_launch_n   4.941608"
            ],
            "text/html": [
              "\n",
              "  <div id=\"df-00c95d59-ef59-4038-9c04-b89e9be01813\">\n",
              "    <div class=\"colab-df-container\">\n",
              "      <div>\n",
              "<style scoped>\n",
              "    .dataframe tbody tr th:only-of-type {\n",
              "        vertical-align: middle;\n",
              "    }\n",
              "\n",
              "    .dataframe tbody tr th {\n",
              "        vertical-align: top;\n",
              "    }\n",
              "\n",
              "    .dataframe thead th {\n",
              "        text-align: right;\n",
              "    }\n",
              "</style>\n",
              "<table border=\"1\" class=\"dataframe\">\n",
              "  <thead>\n",
              "    <tr style=\"text-align: right;\">\n",
              "      <th></th>\n",
              "      <th>feature</th>\n",
              "      <th>VIF</th>\n",
              "    </tr>\n",
              "  </thead>\n",
              "  <tbody>\n",
              "    <tr>\n",
              "      <th>0</th>\n",
              "      <td>pa_l4w_sales_n</td>\n",
              "      <td>50.743397</td>\n",
              "    </tr>\n",
              "    <tr>\n",
              "      <th>1</th>\n",
              "      <td>store_l4w_sales_n</td>\n",
              "      <td>39.243788</td>\n",
              "    </tr>\n",
              "    <tr>\n",
              "      <th>2</th>\n",
              "      <td>pa_lw_sales_n</td>\n",
              "      <td>37.182807</td>\n",
              "    </tr>\n",
              "    <tr>\n",
              "      <th>3</th>\n",
              "      <td>price_n</td>\n",
              "      <td>36.788934</td>\n",
              "    </tr>\n",
              "    <tr>\n",
              "      <th>4</th>\n",
              "      <td>store_sales_trend_n</td>\n",
              "      <td>35.720264</td>\n",
              "    </tr>\n",
              "    <tr>\n",
              "      <th>5</th>\n",
              "      <td>days_since_launch_n</td>\n",
              "      <td>4.941608</td>\n",
              "    </tr>\n",
              "  </tbody>\n",
              "</table>\n",
              "</div>\n",
              "      <button class=\"colab-df-convert\" onclick=\"convertToInteractive('df-00c95d59-ef59-4038-9c04-b89e9be01813')\"\n",
              "              title=\"Convert this dataframe to an interactive table.\"\n",
              "              style=\"display:none;\">\n",
              "        \n",
              "  <svg xmlns=\"http://www.w3.org/2000/svg\" height=\"24px\"viewBox=\"0 0 24 24\"\n",
              "       width=\"24px\">\n",
              "    <path d=\"M0 0h24v24H0V0z\" fill=\"none\"/>\n",
              "    <path d=\"M18.56 5.44l.94 2.06.94-2.06 2.06-.94-2.06-.94-.94-2.06-.94 2.06-2.06.94zm-11 1L8.5 8.5l.94-2.06 2.06-.94-2.06-.94L8.5 2.5l-.94 2.06-2.06.94zm10 10l.94 2.06.94-2.06 2.06-.94-2.06-.94-.94-2.06-.94 2.06-2.06.94z\"/><path d=\"M17.41 7.96l-1.37-1.37c-.4-.4-.92-.59-1.43-.59-.52 0-1.04.2-1.43.59L10.3 9.45l-7.72 7.72c-.78.78-.78 2.05 0 2.83L4 21.41c.39.39.9.59 1.41.59.51 0 1.02-.2 1.41-.59l7.78-7.78 2.81-2.81c.8-.78.8-2.07 0-2.86zM5.41 20L4 18.59l7.72-7.72 1.47 1.35L5.41 20z\"/>\n",
              "  </svg>\n",
              "      </button>\n",
              "      \n",
              "  <style>\n",
              "    .colab-df-container {\n",
              "      display:flex;\n",
              "      flex-wrap:wrap;\n",
              "      gap: 12px;\n",
              "    }\n",
              "\n",
              "    .colab-df-convert {\n",
              "      background-color: #E8F0FE;\n",
              "      border: none;\n",
              "      border-radius: 50%;\n",
              "      cursor: pointer;\n",
              "      display: none;\n",
              "      fill: #1967D2;\n",
              "      height: 32px;\n",
              "      padding: 0 0 0 0;\n",
              "      width: 32px;\n",
              "    }\n",
              "\n",
              "    .colab-df-convert:hover {\n",
              "      background-color: #E2EBFA;\n",
              "      box-shadow: 0px 1px 2px rgba(60, 64, 67, 0.3), 0px 1px 3px 1px rgba(60, 64, 67, 0.15);\n",
              "      fill: #174EA6;\n",
              "    }\n",
              "\n",
              "    [theme=dark] .colab-df-convert {\n",
              "      background-color: #3B4455;\n",
              "      fill: #D2E3FC;\n",
              "    }\n",
              "\n",
              "    [theme=dark] .colab-df-convert:hover {\n",
              "      background-color: #434B5C;\n",
              "      box-shadow: 0px 1px 3px 1px rgba(0, 0, 0, 0.15);\n",
              "      filter: drop-shadow(0px 1px 2px rgba(0, 0, 0, 0.3));\n",
              "      fill: #FFFFFF;\n",
              "    }\n",
              "  </style>\n",
              "\n",
              "      <script>\n",
              "        const buttonEl =\n",
              "          document.querySelector('#df-00c95d59-ef59-4038-9c04-b89e9be01813 button.colab-df-convert');\n",
              "        buttonEl.style.display =\n",
              "          google.colab.kernel.accessAllowed ? 'block' : 'none';\n",
              "\n",
              "        async function convertToInteractive(key) {\n",
              "          const element = document.querySelector('#df-00c95d59-ef59-4038-9c04-b89e9be01813');\n",
              "          const dataTable =\n",
              "            await google.colab.kernel.invokeFunction('convertToInteractive',\n",
              "                                                     [key], {});\n",
              "          if (!dataTable) return;\n",
              "\n",
              "          const docLinkHtml = 'Like what you see? Visit the ' +\n",
              "            '<a target=\"_blank\" href=https://colab.research.google.com/notebooks/data_table.ipynb>data table notebook</a>'\n",
              "            + ' to learn more about interactive tables.';\n",
              "          element.innerHTML = '';\n",
              "          dataTable['output_type'] = 'display_data';\n",
              "          await google.colab.output.renderOutput(dataTable, element);\n",
              "          const docLink = document.createElement('div');\n",
              "          docLink.innerHTML = docLinkHtml;\n",
              "          element.appendChild(docLink);\n",
              "        }\n",
              "      </script>\n",
              "    </div>\n",
              "  </div>\n",
              "  "
            ]
          },
          "metadata": {},
          "execution_count": 37
        }
      ]
    },
    {
      "cell_type": "code",
      "source": [
        "# Next step 7c\n",
        "# Create a new array withouth the discriminated max VIF feature\n",
        "X_num2 = np.asarray(dat.loc[:,fin_num_col_names_2].copy(), dtype=float).copy()\n",
        "print(f'X_num shape: {X_num.shape}')\n",
        "print(f'X_num2 shape: {X_num2.shape}')"
      ],
      "metadata": {
        "colab": {
          "base_uri": "https://localhost:8080/"
        },
        "id": "y-XBSOtzrWS4",
        "outputId": "df0de62a-8bbb-43b9-eb9f-d56f9a6d6906"
      },
      "execution_count": null,
      "outputs": [
        {
          "output_type": "stream",
          "name": "stdout",
          "text": [
            "X_num shape: (104, 7)\n",
            "X_num2 shape: (104, 6)\n"
          ]
        }
      ]
    },
    {
      "cell_type": "code",
      "source": [
        "# Check cols and data type of df\n",
        "df.info()"
      ],
      "metadata": {
        "colab": {
          "base_uri": "https://localhost:8080/"
        },
        "id": "QrIXG4_BrWco",
        "outputId": "e136b672-e706-464f-8890-a08fadfbb99b"
      },
      "execution_count": null,
      "outputs": [
        {
          "output_type": "stream",
          "name": "stdout",
          "text": [
            "<class 'pandas.core.frame.DataFrame'>\n",
            "RangeIndex: 2326 entries, 0 to 2325\n",
            "Data columns (total 20 columns):\n",
            " #   Column                        Non-Null Count  Dtype  \n",
            "---  ------                        --------------  -----  \n",
            " 0   key_column                    2326 non-null   object \n",
            " 1   month_of_year_c               2326 non-null   int64  \n",
            " 2   quantity_sold_t               2326 non-null   float64\n",
            " 3   days_since_launch_n           2326 non-null   int64  \n",
            " 4   service_level_c               2326 non-null   float64\n",
            " 5   store_lw_sales_n              2326 non-null   float64\n",
            " 6   store_l4w_sales_n             2326 non-null   float64\n",
            " 7   store_sales_trend_n           2326 non-null   float64\n",
            " 8   pa_lw_sales_n                 2326 non-null   float64\n",
            " 9   pa_l4w_sales_n                2326 non-null   float64\n",
            " 10  pa_sales_trend_n              2326 non-null   float64\n",
            " 11  price_n                       2326 non-null   float64\n",
            " 12  discontinued_flag             2326 non-null   int64  \n",
            " 13  ignore_discontinued_row_flag  2326 non-null   int64  \n",
            " 14  pct_discounted_sales          2326 non-null   float64\n",
            " 15  dropped_items                 2326 non-null   int64  \n",
            " 16  channel                       2326 non-null   object \n",
            " 17  start_date                    2326 non-null   object \n",
            " 18  end_date                      2326 non-null   object \n",
            " 19  ii_date                       2326 non-null   object \n",
            "dtypes: float64(10), int64(5), object(5)\n",
            "memory usage: 363.6+ KB\n"
          ]
        }
      ]
    },
    {
      "cell_type": "code",
      "source": [
        "# Next step 8a\n",
        "# Set the new vif cols\n",
        "vif_cols2 = fin_num_col_names_2\n",
        "vif_cols2"
      ],
      "metadata": {
        "colab": {
          "base_uri": "https://localhost:8080/"
        },
        "id": "AYHhiFd1wa6K",
        "outputId": "31a03a75-3650-4f5b-965a-dcfa4eb996b8"
      },
      "execution_count": null,
      "outputs": [
        {
          "output_type": "execute_result",
          "data": {
            "text/plain": [
              "['pa_l4w_sales_n',\n",
              " 'store_l4w_sales_n',\n",
              " 'pa_lw_sales_n',\n",
              " 'price_n',\n",
              " 'store_sales_trend_n',\n",
              " 'days_since_launch_n']"
            ]
          },
          "metadata": {},
          "execution_count": 40
        }
      ]
    },
    {
      "cell_type": "code",
      "source": [
        "# Next step 8b\n",
        "# Set the new vif_data empty df\n",
        "vif_data2 = pd.DataFrame() # create empty df\n",
        "# add cols\n",
        "vif_data2[\"feature\"] = vif_cols2 # set the feature name columns\n",
        "print(vif_data2)                # no values yet"
      ],
      "metadata": {
        "colab": {
          "base_uri": "https://localhost:8080/"
        },
        "id": "I1saSiQ-wjxE",
        "outputId": "7b0e1f78-90c1-420c-82fd-c25cbca9b379"
      },
      "execution_count": null,
      "outputs": [
        {
          "output_type": "stream",
          "name": "stdout",
          "text": [
            "               feature\n",
            "0       pa_l4w_sales_n\n",
            "1    store_l4w_sales_n\n",
            "2        pa_lw_sales_n\n",
            "3              price_n\n",
            "4  store_sales_trend_n\n",
            "5  days_since_launch_n\n"
          ]
        }
      ]
    },
    {
      "cell_type": "code",
      "source": [
        "# Next step 8\n",
        "# Calcualte VIF again on the df with one less feature\n",
        "vif_data2[\"VIF\"] = [variance_inflation_factor(X_num2, i) for i in range(len(vif_cols2))] # Run VIF for each column name in the X_sum array\n",
        "vif_data2.sort_values(by = 'VIF', ascending=False).reset_index(drop=True)"
      ],
      "metadata": {
        "colab": {
          "base_uri": "https://localhost:8080/",
          "height": 238
        },
        "id": "_00gXUWlqI9b",
        "outputId": "e02e0ef2-7223-4a8c-9c23-747ed06c31b1"
      },
      "execution_count": null,
      "outputs": [
        {
          "output_type": "execute_result",
          "data": {
            "text/plain": [
              "               feature        VIF\n",
              "0    store_l4w_sales_n  38.349396\n",
              "1       pa_l4w_sales_n  34.706994\n",
              "2              price_n  28.800381\n",
              "3        pa_lw_sales_n  18.888003\n",
              "4  store_sales_trend_n  10.313355\n",
              "5  days_since_launch_n   4.940019"
            ],
            "text/html": [
              "\n",
              "  <div id=\"df-9c797e23-1e29-4d7c-a5cf-98fac65f933a\">\n",
              "    <div class=\"colab-df-container\">\n",
              "      <div>\n",
              "<style scoped>\n",
              "    .dataframe tbody tr th:only-of-type {\n",
              "        vertical-align: middle;\n",
              "    }\n",
              "\n",
              "    .dataframe tbody tr th {\n",
              "        vertical-align: top;\n",
              "    }\n",
              "\n",
              "    .dataframe thead th {\n",
              "        text-align: right;\n",
              "    }\n",
              "</style>\n",
              "<table border=\"1\" class=\"dataframe\">\n",
              "  <thead>\n",
              "    <tr style=\"text-align: right;\">\n",
              "      <th></th>\n",
              "      <th>feature</th>\n",
              "      <th>VIF</th>\n",
              "    </tr>\n",
              "  </thead>\n",
              "  <tbody>\n",
              "    <tr>\n",
              "      <th>0</th>\n",
              "      <td>store_l4w_sales_n</td>\n",
              "      <td>38.349396</td>\n",
              "    </tr>\n",
              "    <tr>\n",
              "      <th>1</th>\n",
              "      <td>pa_l4w_sales_n</td>\n",
              "      <td>34.706994</td>\n",
              "    </tr>\n",
              "    <tr>\n",
              "      <th>2</th>\n",
              "      <td>price_n</td>\n",
              "      <td>28.800381</td>\n",
              "    </tr>\n",
              "    <tr>\n",
              "      <th>3</th>\n",
              "      <td>pa_lw_sales_n</td>\n",
              "      <td>18.888003</td>\n",
              "    </tr>\n",
              "    <tr>\n",
              "      <th>4</th>\n",
              "      <td>store_sales_trend_n</td>\n",
              "      <td>10.313355</td>\n",
              "    </tr>\n",
              "    <tr>\n",
              "      <th>5</th>\n",
              "      <td>days_since_launch_n</td>\n",
              "      <td>4.940019</td>\n",
              "    </tr>\n",
              "  </tbody>\n",
              "</table>\n",
              "</div>\n",
              "      <button class=\"colab-df-convert\" onclick=\"convertToInteractive('df-9c797e23-1e29-4d7c-a5cf-98fac65f933a')\"\n",
              "              title=\"Convert this dataframe to an interactive table.\"\n",
              "              style=\"display:none;\">\n",
              "        \n",
              "  <svg xmlns=\"http://www.w3.org/2000/svg\" height=\"24px\"viewBox=\"0 0 24 24\"\n",
              "       width=\"24px\">\n",
              "    <path d=\"M0 0h24v24H0V0z\" fill=\"none\"/>\n",
              "    <path d=\"M18.56 5.44l.94 2.06.94-2.06 2.06-.94-2.06-.94-.94-2.06-.94 2.06-2.06.94zm-11 1L8.5 8.5l.94-2.06 2.06-.94-2.06-.94L8.5 2.5l-.94 2.06-2.06.94zm10 10l.94 2.06.94-2.06 2.06-.94-2.06-.94-.94-2.06-.94 2.06-2.06.94z\"/><path d=\"M17.41 7.96l-1.37-1.37c-.4-.4-.92-.59-1.43-.59-.52 0-1.04.2-1.43.59L10.3 9.45l-7.72 7.72c-.78.78-.78 2.05 0 2.83L4 21.41c.39.39.9.59 1.41.59.51 0 1.02-.2 1.41-.59l7.78-7.78 2.81-2.81c.8-.78.8-2.07 0-2.86zM5.41 20L4 18.59l7.72-7.72 1.47 1.35L5.41 20z\"/>\n",
              "  </svg>\n",
              "      </button>\n",
              "      \n",
              "  <style>\n",
              "    .colab-df-container {\n",
              "      display:flex;\n",
              "      flex-wrap:wrap;\n",
              "      gap: 12px;\n",
              "    }\n",
              "\n",
              "    .colab-df-convert {\n",
              "      background-color: #E8F0FE;\n",
              "      border: none;\n",
              "      border-radius: 50%;\n",
              "      cursor: pointer;\n",
              "      display: none;\n",
              "      fill: #1967D2;\n",
              "      height: 32px;\n",
              "      padding: 0 0 0 0;\n",
              "      width: 32px;\n",
              "    }\n",
              "\n",
              "    .colab-df-convert:hover {\n",
              "      background-color: #E2EBFA;\n",
              "      box-shadow: 0px 1px 2px rgba(60, 64, 67, 0.3), 0px 1px 3px 1px rgba(60, 64, 67, 0.15);\n",
              "      fill: #174EA6;\n",
              "    }\n",
              "\n",
              "    [theme=dark] .colab-df-convert {\n",
              "      background-color: #3B4455;\n",
              "      fill: #D2E3FC;\n",
              "    }\n",
              "\n",
              "    [theme=dark] .colab-df-convert:hover {\n",
              "      background-color: #434B5C;\n",
              "      box-shadow: 0px 1px 3px 1px rgba(0, 0, 0, 0.15);\n",
              "      filter: drop-shadow(0px 1px 2px rgba(0, 0, 0, 0.3));\n",
              "      fill: #FFFFFF;\n",
              "    }\n",
              "  </style>\n",
              "\n",
              "      <script>\n",
              "        const buttonEl =\n",
              "          document.querySelector('#df-9c797e23-1e29-4d7c-a5cf-98fac65f933a button.colab-df-convert');\n",
              "        buttonEl.style.display =\n",
              "          google.colab.kernel.accessAllowed ? 'block' : 'none';\n",
              "\n",
              "        async function convertToInteractive(key) {\n",
              "          const element = document.querySelector('#df-9c797e23-1e29-4d7c-a5cf-98fac65f933a');\n",
              "          const dataTable =\n",
              "            await google.colab.kernel.invokeFunction('convertToInteractive',\n",
              "                                                     [key], {});\n",
              "          if (!dataTable) return;\n",
              "\n",
              "          const docLinkHtml = 'Like what you see? Visit the ' +\n",
              "            '<a target=\"_blank\" href=https://colab.research.google.com/notebooks/data_table.ipynb>data table notebook</a>'\n",
              "            + ' to learn more about interactive tables.';\n",
              "          element.innerHTML = '';\n",
              "          dataTable['output_type'] = 'display_data';\n",
              "          await google.colab.output.renderOutput(dataTable, element);\n",
              "          const docLink = document.createElement('div');\n",
              "          docLink.innerHTML = docLinkHtml;\n",
              "          element.appendChild(docLink);\n",
              "        }\n",
              "      </script>\n",
              "    </div>\n",
              "  </div>\n",
              "  "
            ]
          },
          "metadata": {},
          "execution_count": 42
        }
      ]
    },
    {
      "cell_type": "code",
      "source": [
        "# Compare to the first one\n",
        "vif_data.sort_values(by = 'VIF', ascending=False).reset_index(drop=True)"
      ],
      "metadata": {
        "colab": {
          "base_uri": "https://localhost:8080/",
          "height": 269
        },
        "id": "tvUQwDqJv-My",
        "outputId": "351944bf-83ed-4b2e-f482-dee5fe14b2ff"
      },
      "execution_count": null,
      "outputs": [
        {
          "output_type": "execute_result",
          "data": {
            "text/plain": [
              "               feature        VIF\n",
              "0     pa_sales_trend_n  53.039007\n",
              "1       pa_l4w_sales_n  50.743397\n",
              "2    store_l4w_sales_n  39.243788\n",
              "3        pa_lw_sales_n  37.182807\n",
              "4              price_n  36.788934\n",
              "5  store_sales_trend_n  35.720264\n",
              "6  days_since_launch_n   4.941608"
            ],
            "text/html": [
              "\n",
              "  <div id=\"df-b7d1ff64-6469-4ea1-9592-d965d3905810\">\n",
              "    <div class=\"colab-df-container\">\n",
              "      <div>\n",
              "<style scoped>\n",
              "    .dataframe tbody tr th:only-of-type {\n",
              "        vertical-align: middle;\n",
              "    }\n",
              "\n",
              "    .dataframe tbody tr th {\n",
              "        vertical-align: top;\n",
              "    }\n",
              "\n",
              "    .dataframe thead th {\n",
              "        text-align: right;\n",
              "    }\n",
              "</style>\n",
              "<table border=\"1\" class=\"dataframe\">\n",
              "  <thead>\n",
              "    <tr style=\"text-align: right;\">\n",
              "      <th></th>\n",
              "      <th>feature</th>\n",
              "      <th>VIF</th>\n",
              "    </tr>\n",
              "  </thead>\n",
              "  <tbody>\n",
              "    <tr>\n",
              "      <th>0</th>\n",
              "      <td>pa_sales_trend_n</td>\n",
              "      <td>53.039007</td>\n",
              "    </tr>\n",
              "    <tr>\n",
              "      <th>1</th>\n",
              "      <td>pa_l4w_sales_n</td>\n",
              "      <td>50.743397</td>\n",
              "    </tr>\n",
              "    <tr>\n",
              "      <th>2</th>\n",
              "      <td>store_l4w_sales_n</td>\n",
              "      <td>39.243788</td>\n",
              "    </tr>\n",
              "    <tr>\n",
              "      <th>3</th>\n",
              "      <td>pa_lw_sales_n</td>\n",
              "      <td>37.182807</td>\n",
              "    </tr>\n",
              "    <tr>\n",
              "      <th>4</th>\n",
              "      <td>price_n</td>\n",
              "      <td>36.788934</td>\n",
              "    </tr>\n",
              "    <tr>\n",
              "      <th>5</th>\n",
              "      <td>store_sales_trend_n</td>\n",
              "      <td>35.720264</td>\n",
              "    </tr>\n",
              "    <tr>\n",
              "      <th>6</th>\n",
              "      <td>days_since_launch_n</td>\n",
              "      <td>4.941608</td>\n",
              "    </tr>\n",
              "  </tbody>\n",
              "</table>\n",
              "</div>\n",
              "      <button class=\"colab-df-convert\" onclick=\"convertToInteractive('df-b7d1ff64-6469-4ea1-9592-d965d3905810')\"\n",
              "              title=\"Convert this dataframe to an interactive table.\"\n",
              "              style=\"display:none;\">\n",
              "        \n",
              "  <svg xmlns=\"http://www.w3.org/2000/svg\" height=\"24px\"viewBox=\"0 0 24 24\"\n",
              "       width=\"24px\">\n",
              "    <path d=\"M0 0h24v24H0V0z\" fill=\"none\"/>\n",
              "    <path d=\"M18.56 5.44l.94 2.06.94-2.06 2.06-.94-2.06-.94-.94-2.06-.94 2.06-2.06.94zm-11 1L8.5 8.5l.94-2.06 2.06-.94-2.06-.94L8.5 2.5l-.94 2.06-2.06.94zm10 10l.94 2.06.94-2.06 2.06-.94-2.06-.94-.94-2.06-.94 2.06-2.06.94z\"/><path d=\"M17.41 7.96l-1.37-1.37c-.4-.4-.92-.59-1.43-.59-.52 0-1.04.2-1.43.59L10.3 9.45l-7.72 7.72c-.78.78-.78 2.05 0 2.83L4 21.41c.39.39.9.59 1.41.59.51 0 1.02-.2 1.41-.59l7.78-7.78 2.81-2.81c.8-.78.8-2.07 0-2.86zM5.41 20L4 18.59l7.72-7.72 1.47 1.35L5.41 20z\"/>\n",
              "  </svg>\n",
              "      </button>\n",
              "      \n",
              "  <style>\n",
              "    .colab-df-container {\n",
              "      display:flex;\n",
              "      flex-wrap:wrap;\n",
              "      gap: 12px;\n",
              "    }\n",
              "\n",
              "    .colab-df-convert {\n",
              "      background-color: #E8F0FE;\n",
              "      border: none;\n",
              "      border-radius: 50%;\n",
              "      cursor: pointer;\n",
              "      display: none;\n",
              "      fill: #1967D2;\n",
              "      height: 32px;\n",
              "      padding: 0 0 0 0;\n",
              "      width: 32px;\n",
              "    }\n",
              "\n",
              "    .colab-df-convert:hover {\n",
              "      background-color: #E2EBFA;\n",
              "      box-shadow: 0px 1px 2px rgba(60, 64, 67, 0.3), 0px 1px 3px 1px rgba(60, 64, 67, 0.15);\n",
              "      fill: #174EA6;\n",
              "    }\n",
              "\n",
              "    [theme=dark] .colab-df-convert {\n",
              "      background-color: #3B4455;\n",
              "      fill: #D2E3FC;\n",
              "    }\n",
              "\n",
              "    [theme=dark] .colab-df-convert:hover {\n",
              "      background-color: #434B5C;\n",
              "      box-shadow: 0px 1px 3px 1px rgba(0, 0, 0, 0.15);\n",
              "      filter: drop-shadow(0px 1px 2px rgba(0, 0, 0, 0.3));\n",
              "      fill: #FFFFFF;\n",
              "    }\n",
              "  </style>\n",
              "\n",
              "      <script>\n",
              "        const buttonEl =\n",
              "          document.querySelector('#df-b7d1ff64-6469-4ea1-9592-d965d3905810 button.colab-df-convert');\n",
              "        buttonEl.style.display =\n",
              "          google.colab.kernel.accessAllowed ? 'block' : 'none';\n",
              "\n",
              "        async function convertToInteractive(key) {\n",
              "          const element = document.querySelector('#df-b7d1ff64-6469-4ea1-9592-d965d3905810');\n",
              "          const dataTable =\n",
              "            await google.colab.kernel.invokeFunction('convertToInteractive',\n",
              "                                                     [key], {});\n",
              "          if (!dataTable) return;\n",
              "\n",
              "          const docLinkHtml = 'Like what you see? Visit the ' +\n",
              "            '<a target=\"_blank\" href=https://colab.research.google.com/notebooks/data_table.ipynb>data table notebook</a>'\n",
              "            + ' to learn more about interactive tables.';\n",
              "          element.innerHTML = '';\n",
              "          dataTable['output_type'] = 'display_data';\n",
              "          await google.colab.output.renderOutput(dataTable, element);\n",
              "          const docLink = document.createElement('div');\n",
              "          docLink.innerHTML = docLinkHtml;\n",
              "          element.appendChild(docLink);\n",
              "        }\n",
              "      </script>\n",
              "    </div>\n",
              "  </div>\n",
              "  "
            ]
          },
          "metadata": {},
          "execution_count": 43
        }
      ]
    },
    {
      "cell_type": "code",
      "source": [
        "# We managed to get lower VIF values in the second iteration.\n",
        "# Next, need to create a function that iterates this until all VIF values are below threshold (of e.g 10)\n",
        "# Also, price_n seems to be the highest one now so this is a good test to be done!\n",
        "\n",
        "# CONTINUE FROM HERE NEXT!\n"
      ],
      "metadata": {
        "id": "HUD7rprcxIc0"
      },
      "execution_count": null,
      "outputs": []
    },
    {
      "cell_type": "code",
      "source": [
        "# Start of checking if there are still features with VIF higher than 10. How about if price_n is the only one left with > 10? Then we are done!\n",
        "print(f'At least one feature still above threshold: {np.sum(vif_data2[\"VIF\"] > 10) > 0}')\n"
      ],
      "metadata": {
        "colab": {
          "base_uri": "https://localhost:8080/"
        },
        "id": "pdaHFKp3xRly",
        "outputId": "c9394e52-f8b9-461c-f2ab-ba7158cec2dd"
      },
      "execution_count": null,
      "outputs": [
        {
          "output_type": "stream",
          "name": "stdout",
          "text": [
            "At least one feature still above threshold: True\n"
          ]
        }
      ]
    },
    {
      "cell_type": "code",
      "source": [
        "np.sum(vif_data2[\"VIF\"] > 10) > 0"
      ],
      "metadata": {
        "colab": {
          "base_uri": "https://localhost:8080/"
        },
        "id": "quum53mtxRvM",
        "outputId": "cc4b2c6d-670f-4711-9e32-48024d60f43b"
      },
      "execution_count": null,
      "outputs": [
        {
          "output_type": "execute_result",
          "data": {
            "text/plain": [
              "True"
            ]
          },
          "metadata": {},
          "execution_count": 44
        }
      ]
    },
    {
      "cell_type": "markdown",
      "source": [
        "### End of Temporary Section\n",
        "Write a function to check VIF of columns until reach a threshold!"
      ],
      "metadata": {
        "id": "qNdP5Yzg3cBQ"
      }
    },
    {
      "cell_type": "markdown",
      "source": [
        "##4.Other Variables  \n",
        "  \n",
        "When fitting a model a common problem can occur due Omitted Variable Bias (OVB). An item´s price as the variable of interest is well established in both research and business to be a driver of demand but there are also other factors that impact the demand of an item.  \n",
        "  \n",
        "Adding control variable to improve the fit of the demand model can reduce the OVB. In the next section we will see how we try to reduce the OVB between the dependend variable `Q` aliased as `quantity_sold_t` and the independent variable `P` aliased `price_n` by adding a vector of additional variables. But first we visualize the `price_n` and `quantity_sold_t` with scatter plots. \n"
      ],
      "metadata": {
        "id": "tmPhtI1U0Ke3"
      }
    },
    {
      "cell_type": "code",
      "source": [
        "# All 4 keys combines\n",
        "plt.scatter(df['price_n'],df['quantity_sold_t'])\n",
        "plt.xlabel('Q')\n",
        "plt.ylabel('P')\n",
        "plt.show()"
      ],
      "metadata": {
        "colab": {
          "base_uri": "https://localhost:8080/",
          "height": 279
        },
        "id": "OPPh9wwFYnIG",
        "outputId": "b1cf086e-08df-432d-c00a-80b87d9c58ee"
      },
      "execution_count": null,
      "outputs": [
        {
          "output_type": "display_data",
          "data": {
            "text/plain": [
              "<Figure size 432x288 with 1 Axes>"
            ],
            "image/png": "[encoded data removed]"
          },
          "metadata": {
            "needs_background": "light"
          }
        }
      ]
    },
    {
      "cell_type": "markdown",
      "source": [
        "##5. Fitting the Demand Model  \n",
        "  \n",
        "Using regression we can fit a demand model to solve the coefficient problem.  \n",
        "  \n",
        "We will fit the model, perform modeling diagnostics and study the coefficients.  \n",
        "  \n",
        "Linear models  \n",
        "* Interpretability\n",
        "* Underfitting  \n",
        "* Multicolinarity\n",
        "* Homoskedasticity "
      ],
      "metadata": {
        "id": "HrjoAsAD1maG"
      }
    },
    {
      "cell_type": "code",
      "source": [
        "import statsmodels.api as sm\n",
        "from statsmodels.stats.outliers_influence import variance_inflation_factor\n",
        "\n",
        "fin_num_col_names = [\"price_n\", \"days_since_launch_n\", \"store_l4w_sales_n\", \"store_sales_trend_n\", \"pa_lw_sales_n\", \"pa_l4w_sales_n\", \"pa_sales_trend_n\"]\n",
        "num_col = np.asarray(df.loc[:,fin_num_col_names].copy(), dtype=float)\n",
        "\n",
        "cat_col_names = [\"service_level_c\", \"month_of_year_c\"]\n",
        "dummies = pd.get_dummies(df.loc[:,cat_col_names].copy(), columns=cat_col_names, drop_first=True)\n",
        "\n",
        "cat_col = np.asarray(dummies, dtype=float)\n",
        "print('categorical variables shape', cat_col.shape)\n",
        "\n",
        "X = np.hstack([num_col, cat_col])\n",
        "X = sm.add_constant(X)\n",
        "\n",
        "y = np.asarray(df['quantity_sold_t'].copy())\n",
        "\n",
        "# ---------- lin-reg calculation ----------\n",
        "lr = sm.OLS(endog=y, exog=X).fit()\n",
        "print(lr.summary())"
      ],
      "metadata": {
        "colab": {
          "base_uri": "https://localhost:8080/"
        },
        "id": "0mVL3toNZHLt",
        "outputId": "4eee55d3-83b0-4d58-f72e-a0a12e1e7f92"
      },
      "execution_count": null,
      "outputs": [
        {
          "output_type": "stream",
          "name": "stdout",
          "text": [
            "categorical variables shape (2326, 11)\n",
            "                            OLS Regression Results                            \n",
            "==============================================================================\n",
            "Dep. Variable:                      y   R-squared:                       0.480\n",
            "Model:                            OLS   Adj. R-squared:                  0.476\n",
            "Method:                 Least Squares   F-statistic:                     118.3\n",
            "Date:                Thu, 17 Mar 2022   Prob (F-statistic):          5.12e-311\n",
            "Time:                        20:16:20   Log-Likelihood:                -207.15\n",
            "No. Observations:                2326   AIC:                             452.3\n",
            "Df Residuals:                    2307   BIC:                             561.6\n",
            "Df Model:                          18                                         \n",
            "Covariance Type:            nonrobust                                         \n",
            "==============================================================================\n",
            "                 coef    std err          t      P>|t|      [0.025      0.975]\n",
            "------------------------------------------------------------------------------\n",
            "const          0.3572      0.060      5.937      0.000       0.239       0.475\n",
            "x1            -0.0605      0.006    -10.298      0.000      -0.072      -0.049\n",
            "x2            -0.0002   3.58e-05     -6.621      0.000      -0.000      -0.000\n",
            "x3           9.77e-06   4.65e-07     21.015      0.000    8.86e-06    1.07e-05\n",
            "x4             0.0913      0.016      5.776      0.000       0.060       0.122\n",
            "x5             0.0005    9.3e-05      5.811      0.000       0.000       0.001\n",
            "x6            -0.0002    9.9e-05     -2.282      0.023      -0.000   -3.18e-05\n",
            "x7            -0.0266      0.021     -1.272      0.203      -0.068       0.014\n",
            "x8             0.0263      0.029      0.920      0.358      -0.030       0.082\n",
            "x9            -0.0004      0.031     -0.012      0.991      -0.060       0.060\n",
            "x10            0.0095      0.030      0.313      0.754      -0.050       0.069\n",
            "x11           -0.0085      0.032     -0.270      0.787      -0.071       0.053\n",
            "x12           -0.0194      0.033     -0.595      0.552      -0.083       0.045\n",
            "x13           -0.0431      0.029     -1.468      0.142      -0.101       0.014\n",
            "x14            0.0349      0.029      1.186      0.236      -0.023       0.093\n",
            "x15            0.0588      0.031      1.926      0.054      -0.001       0.119\n",
            "x16            0.0473      0.029      1.622      0.105      -0.010       0.105\n",
            "x17            0.0442      0.029      1.547      0.122      -0.012       0.100\n",
            "x18           -0.0428      0.028     -1.510      0.131      -0.098       0.013\n",
            "==============================================================================\n",
            "Omnibus:                      398.351   Durbin-Watson:                   1.988\n",
            "Prob(Omnibus):                  0.000   Jarque-Bera (JB):             1233.530\n",
            "Skew:                           0.868   Prob(JB):                    1.39e-268\n",
            "Kurtosis:                       6.117   Cond. No.                     4.51e+05\n",
            "==============================================================================\n",
            "\n",
            "Warnings:\n",
            "[1] Standard Errors assume that the covariance matrix of the errors is correctly specified.\n",
            "[2] The condition number is large, 4.51e+05. This might indicate that there are\n",
            "strong multicollinearity or other numerical problems.\n"
          ]
        }
      ]
    },
    {
      "cell_type": "code",
      "source": [
        "X[0] # constant + numerical cols x1-7"
      ],
      "metadata": {
        "colab": {
          "base_uri": "https://localhost:8080/"
        },
        "id": "Qb4uH2CvbaIc",
        "outputId": "5ff754a6-bfe7-4eb0-a240-943ececf4cc1"
      },
      "execution_count": null,
      "outputs": [
        {
          "output_type": "execute_result",
          "data": {
            "text/plain": [
              "array([1.00000000e+00, 8.58912306e+00, 1.94000000e+02, 6.19877593e+03,\n",
              "       3.75719225e+00, 1.69285714e+02, 4.71851852e+01, 3.58768782e+00,\n",
              "       0.00000000e+00, 0.00000000e+00, 0.00000000e+00, 1.00000000e+00,\n",
              "       0.00000000e+00, 0.00000000e+00, 0.00000000e+00, 0.00000000e+00,\n",
              "       0.00000000e+00, 0.00000000e+00, 0.00000000e+00])"
            ]
          },
          "metadata": {},
          "execution_count": 47
        }
      ]
    },
    {
      "cell_type": "markdown",
      "source": [
        "Checking for multicollinarity.  \n",
        "We will check for this and re-fit the model."
      ],
      "metadata": {
        "id": "85Od16-qa21Y"
      }
    },
    {
      "cell_type": "code",
      "source": [
        "# ---------- VIF calculation ----------\n",
        "X_num = np.asarray(df.loc[:,fin_num_col_names].copy(), dtype=float).copy()\n",
        "vif_cols = fin_num_col_names.copy()\n",
        "vif_data = pd.DataFrame()\n",
        "vif_data[\"feature\"] = vif_cols\n",
        "vif_data[\"VIF\"] = [variance_inflation_factor(X_num, i) for i in range(len(vif_cols))]\n",
        "\n",
        "# ---------- prints of results ------------\n",
        "print(vif_data)"
      ],
      "metadata": {
        "colab": {
          "base_uri": "https://localhost:8080/"
        },
        "id": "dYpOrk0paBpZ",
        "outputId": "2c7b8e78-0963-4490-b1ad-8286e6c0fdfe"
      },
      "execution_count": null,
      "outputs": [
        {
          "output_type": "stream",
          "name": "stdout",
          "text": [
            "               feature        VIF\n",
            "0              price_n  10.567925\n",
            "1  days_since_launch_n   3.646457\n",
            "2    store_l4w_sales_n   6.413464\n",
            "3  store_sales_trend_n  10.987724\n",
            "4        pa_lw_sales_n  60.330035\n",
            "5       pa_l4w_sales_n  55.651243\n",
            "6     pa_sales_trend_n  13.791021\n"
          ]
        }
      ]
    },
    {
      "cell_type": "code",
      "source": [
        "# Ref code\n",
        "\n",
        "import pandas as pd\n",
        "import numpy as np\n",
        "import statsmodels.api as sm\n",
        "from statsmodels.stats.outliers_influence import variance_inflation_factor\n",
        "\n",
        "#df = data_for_50405164IN_CnC.copy()\n",
        "\n",
        "fin_num_col_names = [\"price_n\", \"days_since_launch_n\", \"store_l4w_sales_n\", \"store_sales_trend_n\", \"pa_lw_sales_n\", \"pa_l4w_sales_n\", \"pa_sales_trend_n\"]\n",
        "num_col = np.asarray(df.loc[:,fin_num_col_names].copy(), dtype=float)\n",
        "\n",
        "cat_col_names = [\"service_level_c\", \"month_of_year_c\"]\n",
        "dummies = pd.get_dummies(df.loc[:,cat_col_names].copy(), columns=cat_col_names, drop_first=True)\n",
        "\n",
        "cat_col = np.asarray(dummies, dtype=float)\n",
        "print('categorical variables shape', cat_col.shape)\n",
        " \n",
        "X = np.hstack([num_col, cat_col])\n",
        "X = sm.add_constant(X)\n",
        "\n",
        "y = np.asarray(df['quantity_sold_t'].copy())\n",
        "\n",
        "# ---------- lin-reg calculation ----------\n",
        "lr = sm.OLS(endog=y, exog=X).fit() \n",
        "\n",
        "# ---------- VIF calculation ----------\n",
        "X_num = np.asarray(df.loc[:,fin_num_col_names].copy(), dtype=float).copy()\n",
        "vif_cols = fin_num_col_names.copy()\n",
        "vif_data = pd.DataFrame()\n",
        "vif_data[\"feature\"] = vif_cols\n",
        "vif_data[\"VIF\"] = [variance_inflation_factor(X_num, i) for i in range(len(vif_cols))]\n",
        "\n",
        "# ---------- prints of results ------------\n",
        "print(vif_data)\n",
        "print(lr.summary())"
      ],
      "metadata": {
        "colab": {
          "base_uri": "https://localhost:8080/"
        },
        "id": "72TAwGOsZJB1",
        "outputId": "48cf4a99-c801-412b-ddb4-61a7e06a0886"
      },
      "execution_count": null,
      "outputs": [
        {
          "output_type": "stream",
          "name": "stdout",
          "text": [
            "categorical variables shape (182, 12)\n",
            "               feature        VIF\n",
            "0              price_n  23.072101\n",
            "1  days_since_launch_n   3.782922\n",
            "2    store_l4w_sales_n   3.054358\n",
            "3  store_sales_trend_n   7.731129\n",
            "4        pa_lw_sales_n  24.032445\n",
            "5       pa_l4w_sales_n  28.266177\n",
            "6     pa_sales_trend_n  20.364284\n",
            "                            OLS Regression Results                            \n",
            "==============================================================================\n",
            "Dep. Variable:                      y   R-squared:                       0.854\n",
            "Model:                            OLS   Adj. R-squared:                  0.837\n",
            "Method:                 Least Squares   F-statistic:                     49.76\n",
            "Date:                Thu, 10 Feb 2022   Prob (F-statistic):           1.44e-57\n",
            "Time:                        20:54:42   Log-Likelihood:                -41.481\n",
            "No. Observations:                 182   AIC:                             123.0\n",
            "Df Residuals:                     162   BIC:                             187.0\n",
            "Df Model:                          19                                         \n",
            "Covariance Type:            nonrobust                                         \n",
            "==============================================================================\n",
            "                 coef    std err          t      P>|t|      [0.025      0.975]\n",
            "------------------------------------------------------------------------------\n",
            "const       5.298e+04   1.57e+04      3.381      0.001     2.2e+04    8.39e+04\n",
            "x1         -1.209e+04   3575.980     -3.381      0.001   -1.92e+04   -5028.269\n",
            "x2            -0.0009      0.000     -2.130      0.035      -0.002   -6.68e-05\n",
            "x3          3.686e-05   2.85e-06     12.944      0.000    3.12e-05    4.25e-05\n",
            "x4             0.0991      0.064      1.541      0.125      -0.028       0.226\n",
            "x5             0.0011      0.000      2.966      0.003       0.000       0.002\n",
            "x6            -0.0017      0.001     -3.003      0.003      -0.003      -0.001\n",
            "x7             0.0196      0.109      0.180      0.858      -0.196       0.235\n",
            "x8             0.0209      0.165      0.127      0.899      -0.304       0.346\n",
            "x9             0.1114      0.184      0.605      0.546      -0.252       0.475\n",
            "x10            0.2766      0.212      1.303      0.194      -0.142       0.696\n",
            "x11            0.1766      0.234      0.756      0.451      -0.285       0.638\n",
            "x12           -0.0092      0.237     -0.039      0.969      -0.477       0.458\n",
            "x13            0.4967      0.210      2.365      0.019       0.082       0.911\n",
            "x14            0.4773      0.205      2.323      0.021       0.072       0.883\n",
            "x15            0.2486      0.187      1.329      0.186      -0.121       0.618\n",
            "x16            0.4536      0.210      2.155      0.033       0.038       0.869\n",
            "x17            0.0224      0.194      0.116      0.908      -0.360       0.405\n",
            "x18           -0.0009      0.176     -0.005      0.996      -0.348       0.346\n",
            "x19           -0.0649      0.163     -0.397      0.692      -0.387       0.257\n",
            "==============================================================================\n",
            "Omnibus:                        4.978   Durbin-Watson:                   2.177\n",
            "Prob(Omnibus):                  0.083   Jarque-Bera (JB):                4.943\n",
            "Skew:                           0.273   Prob(JB):                       0.0845\n",
            "Kurtosis:                       3.595   Cond. No.                     1.91e+10\n",
            "==============================================================================\n",
            "\n",
            "Warnings:\n",
            "[1] Standard Errors assume that the covariance matrix of the errors is correctly specified.\n",
            "[2] The condition number is large, 1.91e+10. This might indicate that there are\n",
            "strong multicollinearity or other numerical problems.\n"
          ]
        }
      ]
    },
    {
      "cell_type": "markdown",
      "source": [
        "##6. Interpretation of Results  \n",
        "We are building the model to solve a coefficient problem, this means we are interested in studying the coefficient of `price_n`. We used the control variables to improve the fit of the model and are not really interested in the interpretation of these coefficients.  \n",
        "  \n",
        "TBD"
      ],
      "metadata": {
        "id": "J5bg0oGrUpbM"
      }
    },
    {
      "cell_type": "markdown",
      "source": [
        "##7. Application in Retail  \n",
        "How are the results used in retail business?  \n",
        "What decisions can be taken and by who?  \n",
        "  \n",
        "TBD  "
      ],
      "metadata": {
        "id": "81Wm6O4EWHTz"
      }
    },
    {
      "cell_type": "markdown",
      "source": [
        "##8. Code References  \n",
        "TBD"
      ],
      "metadata": {
        "id": "w41ujheTP-Dw"
      }
    },
    {
      "cell_type": "markdown",
      "source": [
        "##9. Exercises  \n",
        "  \n",
        "7.3  \n",
        "Tom, Dick and Harry constitute the entire market for scrod.  \n",
        "  \n",
        "Tom´s demand curve is given by:  \n",
        "$${Q_1=100-2P} $$\n",
        "For `P <= 50`. For `P > 50`, `Q = 0`.   \n",
        "\n",
        "Dick´s demand curve is given by:\n",
        "$$Q_2=160-4P $$  \n",
        "For `P <= 40`. For `P > 50`, `Q = 0`.  \n",
        "  \n",
        "Harrys´s demand curve is given by:\n",
        "$$Q_3=150-5P $$  \n",
        "For `P <= 30`. For `P > 30`, `Q = 0`.    \n",
        "  \n",
        "a) How much scrod is demanded by each person at `P = 50`?  \n",
        "At `P = 35`? At `P = 25`? At `P = 10`? At `P = 0`?  \n",
        "b) What is the total market demand for scrod at each of the prices specified in part (a)?  \n",
        "c) Plot each individual´s demand curve.  \n",
        "d)  Use the individual demand curves and the results of part (b) to construct the total market dmeand curve for scrod."
      ],
      "metadata": {
        "id": "pu4BYsxjQK0z"
      }
    },
    {
      "cell_type": "code",
      "source": [
        "# a\n",
        "\n",
        "# Define demand functions\n",
        "\n",
        "def toms_demand(P):\n",
        "  if P <= 50:\n",
        "    Q = 100-2*P\n",
        "    return Q\n",
        "\n",
        "  else:\n",
        "    Q = 0\n",
        "    return Q\n",
        "  \n",
        "def dicks_demand(P):\n",
        "  if P <= 40:\n",
        "    Q = 160-4*P\n",
        "    return Q\n",
        "  \n",
        "  else:\n",
        "    Q = 0\n",
        "    return Q\n",
        "\n",
        "def harrys_demand(P):\n",
        "  if P <= 30:\n",
        "    Q = 150-5*P\n",
        "    return Q\n",
        "  \n",
        "  else:\n",
        "    Q = 0\n",
        "    return Q"
      ],
      "metadata": {
        "id": "i1mEjmgTVyLG"
      },
      "execution_count": null,
      "outputs": []
    },
    {
      "cell_type": "code",
      "source": [
        "import pandas as pd\n",
        "import numpy as np\n",
        "\n",
        "# Price list from a)\n",
        "price_list = [50,35,25,10,0]\n",
        "\n",
        "# create empty result lists\n",
        "toms_results = []\n",
        "dicks_results = []\n",
        "harrys_results = []\n",
        "\n",
        "# apply prices to demand functions\n",
        "for price in price_list:\n",
        "  Qt, Qd, Qh = toms_demand(price), dicks_demand(price), harrys_demand(price)\n",
        "  toms_results.append(Qt)\n",
        "  dicks_results.append(Qd)\n",
        "  harrys_results.append(Qh)\n",
        "\n",
        "dict_of_four = {'tom': toms_results,\n",
        "                 'dick': dicks_results,\n",
        "                 'harry': harrys_results,\n",
        "                 'price': price_list}\n",
        "\n",
        "df = pd.DataFrame(dict_of_four)\n",
        "df.head()"
      ],
      "metadata": {
        "colab": {
          "base_uri": "https://localhost:8080/",
          "height": 206
        },
        "id": "xw_HLwg7UcHB",
        "outputId": "61836441-2fff-4355-cbfa-0bbd65a8f052"
      },
      "execution_count": null,
      "outputs": [
        {
          "output_type": "execute_result",
          "data": {
            "text/plain": [
              "   tom  dick  harry  price\n",
              "0    0     0      0     50\n",
              "1   30    20      0     35\n",
              "2   50    60     25     25\n",
              "3   80   120    100     10\n",
              "4  100   160    150      0"
            ],
            "text/html": [
              "\n",
              "  <div id=\"df-5bb66ed8-4d99-4496-b72d-71611bafbf86\">\n",
              "    <div class=\"colab-df-container\">\n",
              "      <div>\n",
              "<style scoped>\n",
              "    .dataframe tbody tr th:only-of-type {\n",
              "        vertical-align: middle;\n",
              "    }\n",
              "\n",
              "    .dataframe tbody tr th {\n",
              "        vertical-align: top;\n",
              "    }\n",
              "\n",
              "    .dataframe thead th {\n",
              "        text-align: right;\n",
              "    }\n",
              "</style>\n",
              "<table border=\"1\" class=\"dataframe\">\n",
              "  <thead>\n",
              "    <tr style=\"text-align: right;\">\n",
              "      <th></th>\n",
              "      <th>tom</th>\n",
              "      <th>dick</th>\n",
              "      <th>harry</th>\n",
              "      <th>price</th>\n",
              "    </tr>\n",
              "  </thead>\n",
              "  <tbody>\n",
              "    <tr>\n",
              "      <th>0</th>\n",
              "      <td>0</td>\n",
              "      <td>0</td>\n",
              "      <td>0</td>\n",
              "      <td>50</td>\n",
              "    </tr>\n",
              "    <tr>\n",
              "      <th>1</th>\n",
              "      <td>30</td>\n",
              "      <td>20</td>\n",
              "      <td>0</td>\n",
              "      <td>35</td>\n",
              "    </tr>\n",
              "    <tr>\n",
              "      <th>2</th>\n",
              "      <td>50</td>\n",
              "      <td>60</td>\n",
              "      <td>25</td>\n",
              "      <td>25</td>\n",
              "    </tr>\n",
              "    <tr>\n",
              "      <th>3</th>\n",
              "      <td>80</td>\n",
              "      <td>120</td>\n",
              "      <td>100</td>\n",
              "      <td>10</td>\n",
              "    </tr>\n",
              "    <tr>\n",
              "      <th>4</th>\n",
              "      <td>100</td>\n",
              "      <td>160</td>\n",
              "      <td>150</td>\n",
              "      <td>0</td>\n",
              "    </tr>\n",
              "  </tbody>\n",
              "</table>\n",
              "</div>\n",
              "      <button class=\"colab-df-convert\" onclick=\"convertToInteractive('df-5bb66ed8-4d99-4496-b72d-71611bafbf86')\"\n",
              "              title=\"Convert this dataframe to an interactive table.\"\n",
              "              style=\"display:none;\">\n",
              "        \n",
              "  <svg xmlns=\"http://www.w3.org/2000/svg\" height=\"24px\"viewBox=\"0 0 24 24\"\n",
              "       width=\"24px\">\n",
              "    <path d=\"M0 0h24v24H0V0z\" fill=\"none\"/>\n",
              "    <path d=\"M18.56 5.44l.94 2.06.94-2.06 2.06-.94-2.06-.94-.94-2.06-.94 2.06-2.06.94zm-11 1L8.5 8.5l.94-2.06 2.06-.94-2.06-.94L8.5 2.5l-.94 2.06-2.06.94zm10 10l.94 2.06.94-2.06 2.06-.94-2.06-.94-.94-2.06-.94 2.06-2.06.94z\"/><path d=\"M17.41 7.96l-1.37-1.37c-.4-.4-.92-.59-1.43-.59-.52 0-1.04.2-1.43.59L10.3 9.45l-7.72 7.72c-.78.78-.78 2.05 0 2.83L4 21.41c.39.39.9.59 1.41.59.51 0 1.02-.2 1.41-.59l7.78-7.78 2.81-2.81c.8-.78.8-2.07 0-2.86zM5.41 20L4 18.59l7.72-7.72 1.47 1.35L5.41 20z\"/>\n",
              "  </svg>\n",
              "      </button>\n",
              "      \n",
              "  <style>\n",
              "    .colab-df-container {\n",
              "      display:flex;\n",
              "      flex-wrap:wrap;\n",
              "      gap: 12px;\n",
              "    }\n",
              "\n",
              "    .colab-df-convert {\n",
              "      background-color: #E8F0FE;\n",
              "      border: none;\n",
              "      border-radius: 50%;\n",
              "      cursor: pointer;\n",
              "      display: none;\n",
              "      fill: #1967D2;\n",
              "      height: 32px;\n",
              "      padding: 0 0 0 0;\n",
              "      width: 32px;\n",
              "    }\n",
              "\n",
              "    .colab-df-convert:hover {\n",
              "      background-color: #E2EBFA;\n",
              "      box-shadow: 0px 1px 2px rgba(60, 64, 67, 0.3), 0px 1px 3px 1px rgba(60, 64, 67, 0.15);\n",
              "      fill: #174EA6;\n",
              "    }\n",
              "\n",
              "    [theme=dark] .colab-df-convert {\n",
              "      background-color: #3B4455;\n",
              "      fill: #D2E3FC;\n",
              "    }\n",
              "\n",
              "    [theme=dark] .colab-df-convert:hover {\n",
              "      background-color: #434B5C;\n",
              "      box-shadow: 0px 1px 3px 1px rgba(0, 0, 0, 0.15);\n",
              "      filter: drop-shadow(0px 1px 2px rgba(0, 0, 0, 0.3));\n",
              "      fill: #FFFFFF;\n",
              "    }\n",
              "  </style>\n",
              "\n",
              "      <script>\n",
              "        const buttonEl =\n",
              "          document.querySelector('#df-5bb66ed8-4d99-4496-b72d-71611bafbf86 button.colab-df-convert');\n",
              "        buttonEl.style.display =\n",
              "          google.colab.kernel.accessAllowed ? 'block' : 'none';\n",
              "\n",
              "        async function convertToInteractive(key) {\n",
              "          const element = document.querySelector('#df-5bb66ed8-4d99-4496-b72d-71611bafbf86');\n",
              "          const dataTable =\n",
              "            await google.colab.kernel.invokeFunction('convertToInteractive',\n",
              "                                                     [key], {});\n",
              "          if (!dataTable) return;\n",
              "\n",
              "          const docLinkHtml = 'Like what you see? Visit the ' +\n",
              "            '<a target=\"_blank\" href=https://colab.research.google.com/notebooks/data_table.ipynb>data table notebook</a>'\n",
              "            + ' to learn more about interactive tables.';\n",
              "          element.innerHTML = '';\n",
              "          dataTable['output_type'] = 'display_data';\n",
              "          await google.colab.output.renderOutput(dataTable, element);\n",
              "          const docLink = document.createElement('div');\n",
              "          docLink.innerHTML = docLinkHtml;\n",
              "          element.appendChild(docLink);\n",
              "        }\n",
              "      </script>\n",
              "    </div>\n",
              "  </div>\n",
              "  "
            ]
          },
          "metadata": {},
          "execution_count": 50
        }
      ]
    },
    {
      "cell_type": "code",
      "source": [
        "# b)\n",
        "total_results = df.agg(sum, axis=1)\n",
        "\n",
        "dict_of_two = {'total_demand':total_results,\n",
        "               'price':price_list}\n",
        "\n",
        "df2 = pd.DataFrame(dict_of_two)\n",
        "df2.head()"
      ],
      "metadata": {
        "colab": {
          "base_uri": "https://localhost:8080/",
          "height": 206
        },
        "id": "-7zlcAEhcdqZ",
        "outputId": "b3a9a8ff-9106-4f86-d10c-30e97a687f06"
      },
      "execution_count": null,
      "outputs": [
        {
          "output_type": "execute_result",
          "data": {
            "text/plain": [
              "   total_demand  price\n",
              "0            50     50\n",
              "1            85     35\n",
              "2           160     25\n",
              "3           310     10\n",
              "4           410      0"
            ],
            "text/html": [
              "\n",
              "  <div id=\"df-d1a613d3-7a17-4ff1-bfe9-852cec4e33d2\">\n",
              "    <div class=\"colab-df-container\">\n",
              "      <div>\n",
              "<style scoped>\n",
              "    .dataframe tbody tr th:only-of-type {\n",
              "        vertical-align: middle;\n",
              "    }\n",
              "\n",
              "    .dataframe tbody tr th {\n",
              "        vertical-align: top;\n",
              "    }\n",
              "\n",
              "    .dataframe thead th {\n",
              "        text-align: right;\n",
              "    }\n",
              "</style>\n",
              "<table border=\"1\" class=\"dataframe\">\n",
              "  <thead>\n",
              "    <tr style=\"text-align: right;\">\n",
              "      <th></th>\n",
              "      <th>total_demand</th>\n",
              "      <th>price</th>\n",
              "    </tr>\n",
              "  </thead>\n",
              "  <tbody>\n",
              "    <tr>\n",
              "      <th>0</th>\n",
              "      <td>50</td>\n",
              "      <td>50</td>\n",
              "    </tr>\n",
              "    <tr>\n",
              "      <th>1</th>\n",
              "      <td>85</td>\n",
              "      <td>35</td>\n",
              "    </tr>\n",
              "    <tr>\n",
              "      <th>2</th>\n",
              "      <td>160</td>\n",
              "      <td>25</td>\n",
              "    </tr>\n",
              "    <tr>\n",
              "      <th>3</th>\n",
              "      <td>310</td>\n",
              "      <td>10</td>\n",
              "    </tr>\n",
              "    <tr>\n",
              "      <th>4</th>\n",
              "      <td>410</td>\n",
              "      <td>0</td>\n",
              "    </tr>\n",
              "  </tbody>\n",
              "</table>\n",
              "</div>\n",
              "      <button class=\"colab-df-convert\" onclick=\"convertToInteractive('df-d1a613d3-7a17-4ff1-bfe9-852cec4e33d2')\"\n",
              "              title=\"Convert this dataframe to an interactive table.\"\n",
              "              style=\"display:none;\">\n",
              "        \n",
              "  <svg xmlns=\"http://www.w3.org/2000/svg\" height=\"24px\"viewBox=\"0 0 24 24\"\n",
              "       width=\"24px\">\n",
              "    <path d=\"M0 0h24v24H0V0z\" fill=\"none\"/>\n",
              "    <path d=\"M18.56 5.44l.94 2.06.94-2.06 2.06-.94-2.06-.94-.94-2.06-.94 2.06-2.06.94zm-11 1L8.5 8.5l.94-2.06 2.06-.94-2.06-.94L8.5 2.5l-.94 2.06-2.06.94zm10 10l.94 2.06.94-2.06 2.06-.94-2.06-.94-.94-2.06-.94 2.06-2.06.94z\"/><path d=\"M17.41 7.96l-1.37-1.37c-.4-.4-.92-.59-1.43-.59-.52 0-1.04.2-1.43.59L10.3 9.45l-7.72 7.72c-.78.78-.78 2.05 0 2.83L4 21.41c.39.39.9.59 1.41.59.51 0 1.02-.2 1.41-.59l7.78-7.78 2.81-2.81c.8-.78.8-2.07 0-2.86zM5.41 20L4 18.59l7.72-7.72 1.47 1.35L5.41 20z\"/>\n",
              "  </svg>\n",
              "      </button>\n",
              "      \n",
              "  <style>\n",
              "    .colab-df-container {\n",
              "      display:flex;\n",
              "      flex-wrap:wrap;\n",
              "      gap: 12px;\n",
              "    }\n",
              "\n",
              "    .colab-df-convert {\n",
              "      background-color: #E8F0FE;\n",
              "      border: none;\n",
              "      border-radius: 50%;\n",
              "      cursor: pointer;\n",
              "      display: none;\n",
              "      fill: #1967D2;\n",
              "      height: 32px;\n",
              "      padding: 0 0 0 0;\n",
              "      width: 32px;\n",
              "    }\n",
              "\n",
              "    .colab-df-convert:hover {\n",
              "      background-color: #E2EBFA;\n",
              "      box-shadow: 0px 1px 2px rgba(60, 64, 67, 0.3), 0px 1px 3px 1px rgba(60, 64, 67, 0.15);\n",
              "      fill: #174EA6;\n",
              "    }\n",
              "\n",
              "    [theme=dark] .colab-df-convert {\n",
              "      background-color: #3B4455;\n",
              "      fill: #D2E3FC;\n",
              "    }\n",
              "\n",
              "    [theme=dark] .colab-df-convert:hover {\n",
              "      background-color: #434B5C;\n",
              "      box-shadow: 0px 1px 3px 1px rgba(0, 0, 0, 0.15);\n",
              "      filter: drop-shadow(0px 1px 2px rgba(0, 0, 0, 0.3));\n",
              "      fill: #FFFFFF;\n",
              "    }\n",
              "  </style>\n",
              "\n",
              "      <script>\n",
              "        const buttonEl =\n",
              "          document.querySelector('#df-d1a613d3-7a17-4ff1-bfe9-852cec4e33d2 button.colab-df-convert');\n",
              "        buttonEl.style.display =\n",
              "          google.colab.kernel.accessAllowed ? 'block' : 'none';\n",
              "\n",
              "        async function convertToInteractive(key) {\n",
              "          const element = document.querySelector('#df-d1a613d3-7a17-4ff1-bfe9-852cec4e33d2');\n",
              "          const dataTable =\n",
              "            await google.colab.kernel.invokeFunction('convertToInteractive',\n",
              "                                                     [key], {});\n",
              "          if (!dataTable) return;\n",
              "\n",
              "          const docLinkHtml = 'Like what you see? Visit the ' +\n",
              "            '<a target=\"_blank\" href=https://colab.research.google.com/notebooks/data_table.ipynb>data table notebook</a>'\n",
              "            + ' to learn more about interactive tables.';\n",
              "          element.innerHTML = '';\n",
              "          dataTable['output_type'] = 'display_data';\n",
              "          await google.colab.output.renderOutput(dataTable, element);\n",
              "          const docLink = document.createElement('div');\n",
              "          docLink.innerHTML = docLinkHtml;\n",
              "          element.appendChild(docLink);\n",
              "        }\n",
              "      </script>\n",
              "    </div>\n",
              "  </div>\n",
              "  "
            ]
          },
          "metadata": {},
          "execution_count": 51
        }
      ]
    },
    {
      "cell_type": "code",
      "source": [
        "# c)\n",
        "import matplotlib.pyplot as plt\n",
        "\n",
        "plt.scatter(x=df['tom'],y=df['price'])\n",
        "plt.title('tom quantity vs price')\n",
        "plt.xlabel('quantity')\n",
        "plt.ylabel('price')\n",
        "plt.show()\n",
        "\n",
        "plt.scatter(x=df['dick'],y=df['price'])\n",
        "plt.title('dick quantity vs price')\n",
        "plt.xlabel('quantity')\n",
        "plt.ylabel('price')\n",
        "plt.show()\n",
        "\n",
        "plt.scatter(x=df['harry'],y=df['price'])\n",
        "plt.title('harry quantity vs price')\n",
        "plt.xlabel('quantity')\n",
        "plt.ylabel('price')\n",
        "plt.show()"
      ],
      "metadata": {
        "colab": {
          "base_uri": "https://localhost:8080/",
          "height": 851
        },
        "id": "JFGO6wcrXdPH",
        "outputId": "6a05d0fb-b1ca-4dc2-ef05-f9ba8a582c57"
      },
      "execution_count": null,
      "outputs": [
        {
          "output_type": "display_data",
          "data": {
            "text/plain": [
              "<Figure size 432x288 with 1 Axes>"
            ],
            "image/png": "[encoded data removed]"
          },
          "metadata": {
            "needs_background": "light"
          }
        },
        {
          "output_type": "display_data",
          "data": {
            "text/plain": [
              "<Figure size 432x288 with 1 Axes>"
            ],
            "image/png": "[encoded data removed]"
          },
          "metadata": {
            "needs_background": "light"
          }
        },
        {
          "output_type": "display_data",
          "data": {
            "text/plain": [
              "<Figure size 432x288 with 1 Axes>"
            ],
            "image/png": "[encoded data removed]"
          },
          "metadata": {
            "needs_background": "light"
          }
        }
      ]
    },
    {
      "cell_type": "code",
      "source": [
        "# d)\n",
        "\n",
        "plt.scatter(x=df2['total_demand'],y=df['price'])\n",
        "plt.title('total demand vs price')\n",
        "plt.xlabel('quantity')\n",
        "plt.ylabel('price')\n",
        "plt.show()"
      ],
      "metadata": {
        "colab": {
          "base_uri": "https://localhost:8080/",
          "height": 295
        },
        "id": "6fLT4tttaevh",
        "outputId": "a8c7c6e2-fd07-4f8a-d86d-259cdddb42b7"
      },
      "execution_count": null,
      "outputs": [
        {
          "output_type": "display_data",
          "data": {
            "image/png": "[encoded data removed]",
            "text/plain": [
              "<Figure size 432x288 with 1 Axes>"
            ]
          },
          "metadata": {
            "needs_background": "light"
          }
        }
      ]
    }
  ]
}